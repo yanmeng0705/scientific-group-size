{
 "cells": [
  {
   "cell_type": "code",
   "execution_count": 1,
   "id": "96d3faee-19af-40f2-8217-217fc4b4d5d4",
   "metadata": {
    "tags": []
   },
   "outputs": [],
   "source": [
    "import pandas as pd\n",
    "import os"
   ]
  },
  {
   "cell_type": "code",
   "execution_count": 2,
   "id": "4628f58c-c024-4d26-99ee-25c84d98e617",
   "metadata": {
    "tags": []
   },
   "outputs": [
    {
     "name": "stdout",
     "output_type": "stream",
     "text": [
      "(900755, 14)\n",
      "(1162321, 14)\n",
      "(723700, 14)\n",
      "(351524, 14)\n"
     ]
    }
   ],
   "source": [
    "files = os.listdir('groupsize')\n",
    "Data = pd.DataFrame([])\n",
    "for file in files:\n",
    "    if file.endswith('csv'):\n",
    "        data = pd.read_csv(f'groupsize/{file}')\n",
    "        print(data.shape)\n",
    "        Data = pd.concat((Data,data))"
   ]
  },
  {
   "cell_type": "code",
   "execution_count": 3,
   "id": "ba2c08e8-7582-4163-a288-5ca386e1df8b",
   "metadata": {
    "tags": []
   },
   "outputs": [
    {
     "data": {
      "text/html": [
       "<div>\n",
       "<style scoped>\n",
       "    .dataframe tbody tr th:only-of-type {\n",
       "        vertical-align: middle;\n",
       "    }\n",
       "\n",
       "    .dataframe tbody tr th {\n",
       "        vertical-align: top;\n",
       "    }\n",
       "\n",
       "    .dataframe thead th {\n",
       "        text-align: right;\n",
       "    }\n",
       "</style>\n",
       "<table border=\"1\" class=\"dataframe\">\n",
       "  <thead>\n",
       "    <tr style=\"text-align: right;\">\n",
       "      <th></th>\n",
       "      <th>work_id</th>\n",
       "      <th>author_position</th>\n",
       "      <th>author_id</th>\n",
       "      <th>institution_id</th>\n",
       "      <th>publication_year</th>\n",
       "      <th>first_pub_year</th>\n",
       "      <th>scientific_age</th>\n",
       "      <th>group_size</th>\n",
       "      <th>mentor_id</th>\n",
       "      <th>current_year</th>\n",
       "      <th>ratio_institution</th>\n",
       "      <th>last_pub_year</th>\n",
       "      <th>career_len</th>\n",
       "      <th>current_scientific_age</th>\n",
       "    </tr>\n",
       "  </thead>\n",
       "  <tbody>\n",
       "    <tr>\n",
       "      <th>0</th>\n",
       "      <td>W1598914661</td>\n",
       "      <td>middle</td>\n",
       "      <td>A1510439193</td>\n",
       "      <td>I1299303238</td>\n",
       "      <td>1984</td>\n",
       "      <td>1982</td>\n",
       "      <td>2</td>\n",
       "      <td>2</td>\n",
       "      <td>A2084997818</td>\n",
       "      <td>1987</td>\n",
       "      <td>0.714286</td>\n",
       "      <td>2021.0</td>\n",
       "      <td>39.0</td>\n",
       "      <td>5</td>\n",
       "    </tr>\n",
       "    <tr>\n",
       "      <th>1</th>\n",
       "      <td>W121453258</td>\n",
       "      <td>first</td>\n",
       "      <td>A3207322400</td>\n",
       "      <td>I1299303238</td>\n",
       "      <td>1987</td>\n",
       "      <td>1987</td>\n",
       "      <td>0</td>\n",
       "      <td>2</td>\n",
       "      <td>A2084997818</td>\n",
       "      <td>1987</td>\n",
       "      <td>0.714286</td>\n",
       "      <td>1987.0</td>\n",
       "      <td>0.0</td>\n",
       "      <td>0</td>\n",
       "    </tr>\n",
       "    <tr>\n",
       "      <th>2</th>\n",
       "      <td>W196861196</td>\n",
       "      <td>first</td>\n",
       "      <td>A3207322400</td>\n",
       "      <td>I1299303238</td>\n",
       "      <td>1987</td>\n",
       "      <td>1987</td>\n",
       "      <td>0</td>\n",
       "      <td>2</td>\n",
       "      <td>A2084997818</td>\n",
       "      <td>1987</td>\n",
       "      <td>0.714286</td>\n",
       "      <td>1987.0</td>\n",
       "      <td>0.0</td>\n",
       "      <td>0</td>\n",
       "    </tr>\n",
       "    <tr>\n",
       "      <th>3</th>\n",
       "      <td>W1598914661</td>\n",
       "      <td>middle</td>\n",
       "      <td>A1510439193</td>\n",
       "      <td>I1299303238</td>\n",
       "      <td>1984</td>\n",
       "      <td>1982</td>\n",
       "      <td>2</td>\n",
       "      <td>3</td>\n",
       "      <td>A2084997818</td>\n",
       "      <td>1988</td>\n",
       "      <td>0.800000</td>\n",
       "      <td>2021.0</td>\n",
       "      <td>39.0</td>\n",
       "      <td>6</td>\n",
       "    </tr>\n",
       "    <tr>\n",
       "      <th>4</th>\n",
       "      <td>W121453258</td>\n",
       "      <td>first</td>\n",
       "      <td>A3207322400</td>\n",
       "      <td>I1299303238</td>\n",
       "      <td>1987</td>\n",
       "      <td>1987</td>\n",
       "      <td>0</td>\n",
       "      <td>3</td>\n",
       "      <td>A2084997818</td>\n",
       "      <td>1988</td>\n",
       "      <td>0.800000</td>\n",
       "      <td>1987.0</td>\n",
       "      <td>0.0</td>\n",
       "      <td>1</td>\n",
       "    </tr>\n",
       "  </tbody>\n",
       "</table>\n",
       "</div>"
      ],
      "text/plain": [
       "       work_id author_position    author_id institution_id  publication_year  \\\n",
       "0  W1598914661          middle  A1510439193    I1299303238              1984   \n",
       "1   W121453258           first  A3207322400    I1299303238              1987   \n",
       "2   W196861196           first  A3207322400    I1299303238              1987   \n",
       "3  W1598914661          middle  A1510439193    I1299303238              1984   \n",
       "4   W121453258           first  A3207322400    I1299303238              1987   \n",
       "\n",
       "   first_pub_year  scientific_age  group_size    mentor_id  current_year  \\\n",
       "0            1982               2           2  A2084997818          1987   \n",
       "1            1987               0           2  A2084997818          1987   \n",
       "2            1987               0           2  A2084997818          1987   \n",
       "3            1982               2           3  A2084997818          1988   \n",
       "4            1987               0           3  A2084997818          1988   \n",
       "\n",
       "   ratio_institution  last_pub_year  career_len  current_scientific_age  \n",
       "0           0.714286         2021.0        39.0                       5  \n",
       "1           0.714286         1987.0         0.0                       0  \n",
       "2           0.714286         1987.0         0.0                       0  \n",
       "3           0.800000         2021.0        39.0                       6  \n",
       "4           0.800000         1987.0         0.0                       1  "
      ]
     },
     "execution_count": 3,
     "metadata": {},
     "output_type": "execute_result"
    }
   ],
   "source": [
    "Data.head(5)"
   ]
  },
  {
   "cell_type": "code",
   "execution_count": 4,
   "id": "36a52a2d-df2e-464e-947a-7152cfdae010",
   "metadata": {
    "tags": []
   },
   "outputs": [],
   "source": [
    "Data.to_csv('group_info_OnlyLastAuthorPaper(current_scientific_age).csv',index=0)"
   ]
  },
  {
   "cell_type": "code",
   "execution_count": null,
   "id": "9ebeb02a-45ff-48eb-ae90-9f472acc57ac",
   "metadata": {},
   "outputs": [],
   "source": []
  }
 ],
 "metadata": {
  "kernelspec": {
   "display_name": "myenv",
   "language": "python",
   "name": "myenv"
  },
  "language_info": {
   "codemirror_mode": {
    "name": "ipython",
    "version": 3
   },
   "file_extension": ".py",
   "mimetype": "text/x-python",
   "name": "python",
   "nbconvert_exporter": "python",
   "pygments_lexer": "ipython3",
   "version": "3.11.4"
  }
 },
 "nbformat": 4,
 "nbformat_minor": 5
}
