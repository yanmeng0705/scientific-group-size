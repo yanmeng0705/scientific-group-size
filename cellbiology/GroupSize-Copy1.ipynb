{
 "cells": [
  {
   "cell_type": "code",
   "execution_count": 1,
   "id": "528a4104-ea5a-47d9-ac20-547b71d6a674",
   "metadata": {
    "tags": []
   },
   "outputs": [],
   "source": [
    "n0 = 2000\n",
    "n1 = n0 + 2000"
   ]
  },
  {
   "cell_type": "code",
   "execution_count": 2,
   "id": "a198fc8d-ed7e-4be2-b9fc-7f04571112bf",
   "metadata": {
    "tags": []
   },
   "outputs": [],
   "source": [
    "import pandas as pd\n",
    "import random\n",
    "import numpy as np"
   ]
  },
  {
   "cell_type": "code",
   "execution_count": 3,
   "id": "3aadfd73-c4a2-49b0-b256-7dbcb80e7970",
   "metadata": {
    "tags": []
   },
   "outputs": [],
   "source": [
    "authorship = pd.read_csv('G1_mentee_authorship.csv')"
   ]
  },
  {
   "cell_type": "code",
   "execution_count": 4,
   "id": "7b5e6c03-2fc0-427a-9e13-2e9e8ce152cf",
   "metadata": {
    "tags": []
   },
   "outputs": [],
   "source": [
    "target_author = pd.read_csv('target_author.csv')['author_id'].tolist()"
   ]
  },
  {
   "cell_type": "code",
   "execution_count": 5,
   "id": "d205bc0d-ebc3-40fa-a422-63bc423ee352",
   "metadata": {
    "tags": []
   },
   "outputs": [
    {
     "data": {
      "text/plain": [
       "6949"
      ]
     },
     "execution_count": 5,
     "metadata": {},
     "output_type": "execute_result"
    }
   ],
   "source": [
    "len(target_author)"
   ]
  },
  {
   "cell_type": "code",
   "execution_count": 6,
   "id": "83cbaddc-3917-4969-b294-8cbbfba1600f",
   "metadata": {
    "tags": []
   },
   "outputs": [
    {
     "data": {
      "text/html": [
       "<div>\n",
       "<style scoped>\n",
       "    .dataframe tbody tr th:only-of-type {\n",
       "        vertical-align: middle;\n",
       "    }\n",
       "\n",
       "    .dataframe tbody tr th {\n",
       "        vertical-align: top;\n",
       "    }\n",
       "\n",
       "    .dataframe thead th {\n",
       "        text-align: right;\n",
       "    }\n",
       "</style>\n",
       "<table border=\"1\" class=\"dataframe\">\n",
       "  <thead>\n",
       "    <tr style=\"text-align: right;\">\n",
       "      <th></th>\n",
       "      <th>work_id</th>\n",
       "      <th>author_position</th>\n",
       "      <th>author_id</th>\n",
       "      <th>institution_id</th>\n",
       "      <th>first_pub_year</th>\n",
       "      <th>last_pub_year</th>\n",
       "      <th>career_len</th>\n",
       "      <th>publication_year</th>\n",
       "      <th>scientific_age</th>\n",
       "    </tr>\n",
       "  </thead>\n",
       "  <tbody>\n",
       "    <tr>\n",
       "      <th>0</th>\n",
       "      <td>W1033085884</td>\n",
       "      <td>first</td>\n",
       "      <td>A3022368640</td>\n",
       "      <td>I5388228</td>\n",
       "      <td>2006</td>\n",
       "      <td>2006</td>\n",
       "      <td>0</td>\n",
       "      <td>2006</td>\n",
       "      <td>0</td>\n",
       "    </tr>\n",
       "    <tr>\n",
       "      <th>1</th>\n",
       "      <td>W1033085884</td>\n",
       "      <td>middle</td>\n",
       "      <td>A2613136029</td>\n",
       "      <td>I5388228</td>\n",
       "      <td>2003</td>\n",
       "      <td>2010</td>\n",
       "      <td>7</td>\n",
       "      <td>2006</td>\n",
       "      <td>3</td>\n",
       "    </tr>\n",
       "    <tr>\n",
       "      <th>2</th>\n",
       "      <td>W1033085884</td>\n",
       "      <td>middle</td>\n",
       "      <td>A2044805072</td>\n",
       "      <td>I5388228</td>\n",
       "      <td>2006</td>\n",
       "      <td>2006</td>\n",
       "      <td>0</td>\n",
       "      <td>2006</td>\n",
       "      <td>0</td>\n",
       "    </tr>\n",
       "    <tr>\n",
       "      <th>3</th>\n",
       "      <td>W1033085884</td>\n",
       "      <td>middle</td>\n",
       "      <td>A2886369024</td>\n",
       "      <td>I5388228</td>\n",
       "      <td>2005</td>\n",
       "      <td>2006</td>\n",
       "      <td>1</td>\n",
       "      <td>2006</td>\n",
       "      <td>1</td>\n",
       "    </tr>\n",
       "    <tr>\n",
       "      <th>4</th>\n",
       "      <td>W1033085884</td>\n",
       "      <td>middle</td>\n",
       "      <td>A1016359704</td>\n",
       "      <td>I5388228</td>\n",
       "      <td>2006</td>\n",
       "      <td>2006</td>\n",
       "      <td>0</td>\n",
       "      <td>2006</td>\n",
       "      <td>0</td>\n",
       "    </tr>\n",
       "  </tbody>\n",
       "</table>\n",
       "</div>"
      ],
      "text/plain": [
       "       work_id author_position    author_id institution_id  first_pub_year  \\\n",
       "0  W1033085884           first  A3022368640       I5388228            2006   \n",
       "1  W1033085884          middle  A2613136029       I5388228            2003   \n",
       "2  W1033085884          middle  A2044805072       I5388228            2006   \n",
       "3  W1033085884          middle  A2886369024       I5388228            2005   \n",
       "4  W1033085884          middle  A1016359704       I5388228            2006   \n",
       "\n",
       "   last_pub_year  career_len  publication_year  scientific_age  \n",
       "0           2006           0              2006               0  \n",
       "1           2010           7              2006               3  \n",
       "2           2006           0              2006               0  \n",
       "3           2006           1              2006               1  \n",
       "4           2006           0              2006               0  "
      ]
     },
     "execution_count": 6,
     "metadata": {},
     "output_type": "execute_result"
    }
   ],
   "source": [
    "authorship.head(5)"
   ]
  },
  {
   "cell_type": "code",
   "execution_count": 7,
   "id": "5be6917a-4f60-4617-9cb7-e62668fd4de5",
   "metadata": {
    "tags": []
   },
   "outputs": [
    {
     "data": {
      "text/plain": [
       "903183"
      ]
     },
     "execution_count": 7,
     "metadata": {},
     "output_type": "execute_result"
    }
   ],
   "source": [
    "len(set(authorship.work_id))"
   ]
  },
  {
   "cell_type": "code",
   "execution_count": 8,
   "id": "6213e5ca-c418-4c32-9c10-ac7a46cfcbd5",
   "metadata": {
    "tags": []
   },
   "outputs": [],
   "source": [
    "inst_completeness = pd.read_csv('G1_mentee_inst_completeness.csv')"
   ]
  },
  {
   "cell_type": "code",
   "execution_count": 9,
   "id": "73f73216-4e15-4a16-a419-a613005040d1",
   "metadata": {
    "tags": []
   },
   "outputs": [
    {
     "data": {
      "text/plain": [
       "751272"
      ]
     },
     "execution_count": 9,
     "metadata": {},
     "output_type": "execute_result"
    }
   ],
   "source": [
    "target_works1 = set(inst_completeness['work_id'][inst_completeness['ratio_inst.']>0])\n",
    "len(target_works1)"
   ]
  },
  {
   "cell_type": "code",
   "execution_count": 10,
   "id": "d7ec5a53-49e7-412e-835d-90598c0fe298",
   "metadata": {
    "tags": []
   },
   "outputs": [],
   "source": [
    "authorship = authorship[authorship.work_id.isin(target_works1)]"
   ]
  },
  {
   "cell_type": "code",
   "execution_count": 11,
   "id": "cd089230-1fb7-4312-bdaf-49653e043217",
   "metadata": {
    "tags": []
   },
   "outputs": [],
   "source": [
    "def group_info(author_i,df,backward_window,scientific_age_window):\n",
    "    auship = df\n",
    "    \n",
    "    # Method2\n",
    "    #mentor's all last-author publications\n",
    "    works_i = auship['work_id'][(auship.author_id==author_i)&(auship.author_position=='last')]\n",
    "    \n",
    "\n",
    "    auship_i = auship[auship.work_id.isin(works_i)].sort_values(by='publication_year')\n",
    "    # print('len(auship_i) : ',len(auship_i))\n",
    "\n",
    "    auship_null = auship_i[~auship_i.institution_id.isnull()]\n",
    "\n",
    "    # print('the ratio of with institution : ','{:.0%}'.format(len(auship_null)/len(auship_i)))\n",
    "    \n",
    "    years_i = auship_i.publication_year\n",
    "    try:\n",
    "        start_year = min(years_i)\n",
    "        end_year = max(years_i)\n",
    "    except:\n",
    "        start_year = 2021\n",
    "        end_year = 2022\n",
    "    # print('start_year : ',start_year)\n",
    "    # print('end_year : ',end_year)\n",
    "    \n",
    "    Group = pd.DataFrame([],columns=['work_id','author_position', 'author_id', 'institution_id', 'publication_year',\n",
    "                                               'first_pub_year', 'scientific_age', 'group_size', 'mentor_id', 'current_year', 'ratio_institution'])\n",
    "   \n",
    "    for current_year in range(start_year,end_year+1):\n",
    "        # print('current_year : ',current_year)\n",
    "        auship_i_back = auship_i[(auship_i.publication_year>=current_year-backward_window)&\n",
    "                                (auship_i.publication_year<=current_year)]\n",
    "        \n",
    "        auship_i_back =  auship_i_back.reset_index().drop(columns=['index'])\n",
    "        #new consideration : current_scientific_age\n",
    "        csa = np.array(auship_i_back['first_pub_year'] - current_year)*-1\n",
    "        auship_i_back['current_scientific_age']  = csa\n",
    "\n",
    "        auship_i_back_notnull = auship_i_back[~auship_i_back.institution_id.isnull()]\n",
    "        \n",
    "        \n",
    "        if len(auship_i_back)==0:\n",
    "            ratio_institution = 0\n",
    "        else:\n",
    "            ratio_institution = len(auship_i_back_notnull)/len(auship_i_back)\n",
    "            \n",
    "            # print('the ratio of with institution : ','{:.0%}'.format(ratio_institution))\n",
    "        \n",
    "        \n",
    "        # ratio_institution = len(auship_i_back_notnull)/len(auship_i_back)\n",
    "        # print('the ratio of with institution : ','{:.0%}'.format(ratio_institution))\n",
    "\n",
    "        if not ratio_institution==0:\n",
    "            try:\n",
    "                institution_i = auship_i_back['institution_id'][auship_i_back.author_id==author_i].mode().iloc[0]\n",
    "                # print('institution_i : ',institution_i)\n",
    "\n",
    "                group_i = auship_i_back[(auship_i_back.institution_id==institution_i)\n",
    "                                       &(auship_i_back.current_scientific_age<=scientific_age_window) # see above: current_scientific_age\n",
    "                                       &(auship_i_back.author_id!=author_i)]\n",
    "\n",
    "                group_size = len(set(group_i.author_id))\n",
    "            # print('group_size : ',group_size)\n",
    "            except:\n",
    "                group_size = 0\n",
    "            if group_size>0:\n",
    "                group_i = group_i.assign(group_size = group_size)\n",
    "                group_i = group_i.assign(mentor_id = author_i)\n",
    "                group_i = group_i.assign(current_year = current_year)\n",
    "                group_i = group_i.assign(ratio_institution = ratio_institution)\n",
    "            else:\n",
    "                group_i = pd.DataFrame([],columns=['work_id','author_position', 'author_id', 'institution_id', 'publication_year',\n",
    "                                               'first_pub_year', 'scientific_age', 'group_size', 'mentor_id', 'current_year', 'ratio_institution'])\n",
    "        else:\n",
    "            group_i = pd.DataFrame([],columns=['work_id','author_position', 'author_id', 'institution_id', 'publication_year',\n",
    "                                               'first_pub_year', 'scientific_age', 'group_size', 'mentor_id', 'current_year', 'ratio_institution'])\n",
    "        Group = pd.concat((Group,group_i))\n",
    "    return Group"
   ]
  },
  {
   "cell_type": "code",
   "execution_count": 12,
   "id": "6c9cfbba-487f-4074-a105-edce230e1977",
   "metadata": {
    "scrolled": true,
    "tags": []
   },
   "outputs": [
    {
     "name": "stdout",
     "output_type": "stream",
     "text": [
      "2000\n",
      "2010\n",
      "2020\n",
      "2030\n",
      "2040\n",
      "2050\n",
      "2060\n",
      "2070\n",
      "2080\n",
      "2090\n",
      "2100\n",
      "2110\n",
      "2120\n",
      "2130\n",
      "2140\n",
      "2150\n",
      "2160\n",
      "2170\n",
      "2180\n",
      "2190\n",
      "2200\n",
      "2210\n",
      "2220\n",
      "2230\n",
      "2240\n",
      "2250\n",
      "2260\n",
      "2270\n",
      "2280\n",
      "2290\n",
      "2300\n",
      "2310\n",
      "2320\n",
      "2330\n",
      "2340\n",
      "2350\n",
      "2360\n",
      "2370\n",
      "2380\n",
      "2390\n",
      "2400\n",
      "2410\n",
      "2420\n",
      "2430\n",
      "2440\n",
      "2450\n",
      "2460\n",
      "2470\n",
      "2480\n",
      "2490\n",
      "2500\n",
      "2510\n",
      "2520\n",
      "2530\n",
      "2540\n",
      "2550\n",
      "2560\n",
      "2570\n",
      "2580\n",
      "2590\n",
      "2600\n",
      "2610\n",
      "2620\n",
      "2630\n",
      "2640\n",
      "2650\n",
      "2660\n",
      "2670\n",
      "2680\n",
      "2690\n",
      "2700\n",
      "2710\n",
      "2720\n",
      "2730\n",
      "2740\n",
      "2750\n",
      "2760\n",
      "2770\n",
      "2780\n",
      "2790\n",
      "2800\n",
      "2810\n",
      "2820\n",
      "2830\n",
      "2840\n",
      "2850\n",
      "2860\n",
      "2870\n",
      "2880\n",
      "2890\n",
      "2900\n",
      "2910\n",
      "2920\n",
      "2930\n",
      "2940\n",
      "2950\n",
      "2960\n",
      "2970\n",
      "2980\n",
      "2990\n",
      "3000\n",
      "3010\n",
      "3020\n",
      "3030\n",
      "3040\n",
      "3050\n",
      "3060\n",
      "3070\n",
      "3080\n",
      "3090\n",
      "3100\n",
      "3110\n",
      "3120\n",
      "3130\n",
      "3140\n",
      "3150\n",
      "3160\n",
      "3170\n",
      "3180\n",
      "3190\n",
      "3200\n",
      "3210\n",
      "3220\n",
      "3230\n",
      "3240\n",
      "3250\n",
      "3260\n",
      "3270\n",
      "3280\n",
      "3290\n",
      "3300\n",
      "3310\n",
      "3320\n",
      "3330\n",
      "3340\n",
      "3350\n",
      "3360\n",
      "3370\n",
      "3380\n",
      "3390\n",
      "3400\n",
      "3410\n",
      "3420\n",
      "3430\n",
      "3440\n",
      "3450\n",
      "3460\n",
      "3470\n",
      "3480\n",
      "3490\n",
      "3500\n",
      "3510\n",
      "3520\n",
      "3530\n",
      "3540\n",
      "3550\n",
      "3560\n",
      "3570\n",
      "3580\n",
      "3590\n",
      "3600\n",
      "3610\n",
      "3620\n",
      "3630\n",
      "3640\n",
      "3650\n",
      "3660\n",
      "3670\n",
      "3680\n",
      "3690\n",
      "3700\n",
      "3710\n",
      "3720\n",
      "3730\n",
      "3740\n",
      "3750\n",
      "3760\n",
      "3770\n",
      "3780\n",
      "3790\n",
      "3800\n",
      "3810\n",
      "3820\n",
      "3830\n",
      "3840\n",
      "3850\n",
      "3860\n",
      "3870\n",
      "3880\n",
      "3890\n",
      "3900\n",
      "3910\n",
      "3920\n",
      "3930\n",
      "3940\n",
      "3950\n",
      "3960\n",
      "3970\n",
      "3980\n",
      "3990\n"
     ]
    }
   ],
   "source": [
    "backward_window = 5\n",
    "scientific_age_window = 10\n",
    "Data = pd.DataFrame([],columns=['work_id','author_position', 'author_id', 'institution_id', 'publication_year',\n",
    "                                               'first_pub_year', 'scientific_age', 'group_size', 'mentor_id', 'current_year', 'ratio_institution'])\n",
    "\n",
    "for i in range(n0,n1):\n",
    "    author_i = target_author[i]\n",
    "    data = group_info(author_i,authorship,backward_window,scientific_age_window)\n",
    "    Data = pd.concat((Data,data))\n",
    "    if i%10==0:\n",
    "        print(i)\n",
    "\n",
    "Data['current_scientific_age'] = Data['current_year'] - Data['first_pub_year']\n",
    "Data.to_csv(f'groupsize/author_{n0}_{n1}.csv',index=0)"
   ]
  },
  {
   "cell_type": "code",
   "execution_count": null,
   "id": "31ac6bb2-83f4-427a-bd6c-f8ae6cd67490",
   "metadata": {},
   "outputs": [],
   "source": []
  }
 ],
 "metadata": {
  "kernelspec": {
   "display_name": "Python 3 (ipykernel)",
   "language": "python",
   "name": "python3"
  },
  "language_info": {
   "codemirror_mode": {
    "name": "ipython",
    "version": 3
   },
   "file_extension": ".py",
   "mimetype": "text/x-python",
   "name": "python",
   "nbconvert_exporter": "python",
   "pygments_lexer": "ipython3",
   "version": "3.11.3"
  }
 },
 "nbformat": 4,
 "nbformat_minor": 5
}
