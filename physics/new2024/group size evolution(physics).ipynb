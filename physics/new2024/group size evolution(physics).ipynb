{
 "cells": [
  {
   "cell_type": "code",
   "execution_count": 1,
   "id": "e51d3408-9dc4-4108-93bd-fa54d5e99297",
   "metadata": {
    "tags": []
   },
   "outputs": [],
   "source": [
    "import pandas as pd\n",
    "import os\n",
    "import random\n",
    "import numpy as np\n",
    "import matplotlib.pyplot as plt\n",
    "import seaborn as sns\n",
    "from matplotlib.pyplot import MultipleLocator\n",
    "import matplotlib.pyplot as plt\n",
    "import seaborn as sns  #画密度图\n",
    "from matplotlib.ticker import MaxNLocator, FuncFormatter, MultipleLocator\n",
    "import matplotlib.ticker as ticker\n",
    "import palettable #python颜色库"
   ]
  },
  {
   "cell_type": "code",
   "execution_count": 2,
   "id": "4f8e0c3f-53bc-409d-8f33-1c6383ca715c",
   "metadata": {
    "tags": []
   },
   "outputs": [],
   "source": [
    "inpath = '/Users/yanmemgxing/Nutstore Files/scientific group/'"
   ]
  },
  {
   "cell_type": "code",
   "execution_count": 3,
   "id": "ab62bfc8-430c-46c2-a8ba-c0ae0a4a44a5",
   "metadata": {
    "tags": []
   },
   "outputs": [],
   "source": [
    "group_info = pd.read_csv('groupinfo(G1 mentor).csv')"
   ]
  },
  {
   "cell_type": "code",
   "execution_count": 4,
   "id": "02ff5313-6e9d-4987-86f1-5af38899b986",
   "metadata": {
    "tags": []
   },
   "outputs": [
    {
     "data": {
      "text/plain": [
       "Index(['work_id', 'author_position', 'author_id', 'institution_id',\n",
       "       'publication_year', 'first_pub_year', 'scientific_age', 'group_size',\n",
       "       'mentor_id', 'current_year', 'ratio_institution',\n",
       "       'current_scientific_age', 'mentor_first_pub_year',\n",
       "       'mentor_scientific_age', 'mentor_current_scientific_age', 'end_year',\n",
       "       'career_len', 'average_group_size'],\n",
       "      dtype='object')"
      ]
     },
     "execution_count": 4,
     "metadata": {},
     "output_type": "execute_result"
    }
   ],
   "source": [
    "group_info.columns"
   ]
  },
  {
   "cell_type": "code",
   "execution_count": 5,
   "id": "7af0f399-a5f3-4697-9941-12ff0dd53fbe",
   "metadata": {
    "tags": []
   },
   "outputs": [
    {
     "data": {
      "text/html": [
       "<div>\n",
       "<style scoped>\n",
       "    .dataframe tbody tr th:only-of-type {\n",
       "        vertical-align: middle;\n",
       "    }\n",
       "\n",
       "    .dataframe tbody tr th {\n",
       "        vertical-align: top;\n",
       "    }\n",
       "\n",
       "    .dataframe thead th {\n",
       "        text-align: right;\n",
       "    }\n",
       "</style>\n",
       "<table border=\"1\" class=\"dataframe\">\n",
       "  <thead>\n",
       "    <tr style=\"text-align: right;\">\n",
       "      <th></th>\n",
       "      <th>work_id</th>\n",
       "      <th>author_position</th>\n",
       "      <th>author_id</th>\n",
       "      <th>institution_id</th>\n",
       "      <th>publication_year</th>\n",
       "      <th>first_pub_year</th>\n",
       "      <th>scientific_age</th>\n",
       "      <th>group_size</th>\n",
       "      <th>mentor_id</th>\n",
       "      <th>current_year</th>\n",
       "      <th>ratio_institution</th>\n",
       "      <th>current_scientific_age</th>\n",
       "      <th>mentor_first_pub_year</th>\n",
       "      <th>mentor_scientific_age</th>\n",
       "      <th>mentor_current_scientific_age</th>\n",
       "      <th>end_year</th>\n",
       "      <th>career_len</th>\n",
       "      <th>average_group_size</th>\n",
       "    </tr>\n",
       "  </thead>\n",
       "  <tbody>\n",
       "    <tr>\n",
       "      <th>3004285</th>\n",
       "      <td>W2923630938</td>\n",
       "      <td>middle</td>\n",
       "      <td>A2588916535</td>\n",
       "      <td>I172675005</td>\n",
       "      <td>2019</td>\n",
       "      <td>2011</td>\n",
       "      <td>8</td>\n",
       "      <td>4</td>\n",
       "      <td>A2294815351</td>\n",
       "      <td>2020</td>\n",
       "      <td>0.983193</td>\n",
       "      <td>9</td>\n",
       "      <td>1977</td>\n",
       "      <td>42</td>\n",
       "      <td>43</td>\n",
       "      <td>2012.0</td>\n",
       "      <td>11.0</td>\n",
       "      <td>7.0</td>\n",
       "    </tr>\n",
       "    <tr>\n",
       "      <th>3795739</th>\n",
       "      <td>W2323749881</td>\n",
       "      <td>middle</td>\n",
       "      <td>A2125618616</td>\n",
       "      <td>I103635307</td>\n",
       "      <td>2010</td>\n",
       "      <td>2008</td>\n",
       "      <td>2</td>\n",
       "      <td>19</td>\n",
       "      <td>A2093919058</td>\n",
       "      <td>2012</td>\n",
       "      <td>0.810219</td>\n",
       "      <td>4</td>\n",
       "      <td>1997</td>\n",
       "      <td>13</td>\n",
       "      <td>15</td>\n",
       "      <td>2010.0</td>\n",
       "      <td>12.0</td>\n",
       "      <td>19.0</td>\n",
       "    </tr>\n",
       "    <tr>\n",
       "      <th>4415744</th>\n",
       "      <td>W2165125585</td>\n",
       "      <td>middle</td>\n",
       "      <td>A2587207960</td>\n",
       "      <td>I1292894508</td>\n",
       "      <td>1999</td>\n",
       "      <td>1990</td>\n",
       "      <td>9</td>\n",
       "      <td>6</td>\n",
       "      <td>A2016215421</td>\n",
       "      <td>2000</td>\n",
       "      <td>0.738095</td>\n",
       "      <td>10</td>\n",
       "      <td>1959</td>\n",
       "      <td>40</td>\n",
       "      <td>41</td>\n",
       "      <td>1993.0</td>\n",
       "      <td>24.0</td>\n",
       "      <td>8.0</td>\n",
       "    </tr>\n",
       "    <tr>\n",
       "      <th>1797449</th>\n",
       "      <td>W3109409025</td>\n",
       "      <td>first</td>\n",
       "      <td>A2152671537</td>\n",
       "      <td>I51556381</td>\n",
       "      <td>2021</td>\n",
       "      <td>2012</td>\n",
       "      <td>9</td>\n",
       "      <td>18</td>\n",
       "      <td>A2345772009</td>\n",
       "      <td>2022</td>\n",
       "      <td>0.974790</td>\n",
       "      <td>10</td>\n",
       "      <td>1995</td>\n",
       "      <td>26</td>\n",
       "      <td>27</td>\n",
       "      <td>NaN</td>\n",
       "      <td>NaN</td>\n",
       "      <td>NaN</td>\n",
       "    </tr>\n",
       "    <tr>\n",
       "      <th>2008532</th>\n",
       "      <td>W1965436683</td>\n",
       "      <td>middle</td>\n",
       "      <td>A2229488790</td>\n",
       "      <td>I130701444</td>\n",
       "      <td>2015</td>\n",
       "      <td>2013</td>\n",
       "      <td>2</td>\n",
       "      <td>23</td>\n",
       "      <td>A64203156</td>\n",
       "      <td>2015</td>\n",
       "      <td>0.958333</td>\n",
       "      <td>2</td>\n",
       "      <td>1996</td>\n",
       "      <td>19</td>\n",
       "      <td>19</td>\n",
       "      <td>2013.0</td>\n",
       "      <td>7.0</td>\n",
       "      <td>26.0</td>\n",
       "    </tr>\n",
       "  </tbody>\n",
       "</table>\n",
       "</div>"
      ],
      "text/plain": [
       "             work_id author_position    author_id institution_id  \\\n",
       "3004285  W2923630938          middle  A2588916535     I172675005   \n",
       "3795739  W2323749881          middle  A2125618616     I103635307   \n",
       "4415744  W2165125585          middle  A2587207960    I1292894508   \n",
       "1797449  W3109409025           first  A2152671537      I51556381   \n",
       "2008532  W1965436683          middle  A2229488790     I130701444   \n",
       "\n",
       "         publication_year  first_pub_year  scientific_age  group_size  \\\n",
       "3004285              2019            2011               8           4   \n",
       "3795739              2010            2008               2          19   \n",
       "4415744              1999            1990               9           6   \n",
       "1797449              2021            2012               9          18   \n",
       "2008532              2015            2013               2          23   \n",
       "\n",
       "           mentor_id  current_year  ratio_institution  current_scientific_age  \\\n",
       "3004285  A2294815351          2020           0.983193                       9   \n",
       "3795739  A2093919058          2012           0.810219                       4   \n",
       "4415744  A2016215421          2000           0.738095                      10   \n",
       "1797449  A2345772009          2022           0.974790                      10   \n",
       "2008532    A64203156          2015           0.958333                       2   \n",
       "\n",
       "         mentor_first_pub_year  mentor_scientific_age  \\\n",
       "3004285                   1977                     42   \n",
       "3795739                   1997                     13   \n",
       "4415744                   1959                     40   \n",
       "1797449                   1995                     26   \n",
       "2008532                   1996                     19   \n",
       "\n",
       "         mentor_current_scientific_age  end_year  career_len  \\\n",
       "3004285                             43    2012.0        11.0   \n",
       "3795739                             15    2010.0        12.0   \n",
       "4415744                             41    1993.0        24.0   \n",
       "1797449                             27       NaN         NaN   \n",
       "2008532                             19    2013.0         7.0   \n",
       "\n",
       "         average_group_size  \n",
       "3004285                 7.0  \n",
       "3795739                19.0  \n",
       "4415744                 8.0  \n",
       "1797449                 NaN  \n",
       "2008532                26.0  "
      ]
     },
     "execution_count": 5,
     "metadata": {},
     "output_type": "execute_result"
    }
   ],
   "source": [
    "group_info.sample(5)"
   ]
  },
  {
   "cell_type": "code",
   "execution_count": 6,
   "id": "f6c5032d-b442-4217-ba16-1b5725fd34e1",
   "metadata": {
    "tags": []
   },
   "outputs": [
    {
     "data": {
      "text/plain": [
       "4454614"
      ]
     },
     "execution_count": 6,
     "metadata": {},
     "output_type": "execute_result"
    }
   ],
   "source": [
    "len(group_info)"
   ]
  },
  {
   "cell_type": "code",
   "execution_count": 7,
   "id": "2d0502cb-bd57-4e36-b36c-f1b03ae6261b",
   "metadata": {
    "tags": []
   },
   "outputs": [
    {
     "data": {
      "text/plain": [
       "3361879"
      ]
     },
     "execution_count": 7,
     "metadata": {},
     "output_type": "execute_result"
    }
   ],
   "source": [
    "group_info_0 = group_info[(group_info.end_year>=1980)&(group_info.end_year<=2015)]\n",
    "len(group_info_0)"
   ]
  },
  {
   "cell_type": "code",
   "execution_count": 8,
   "id": "0bd1e786-51f1-483f-a949-7b29a89d9f6c",
   "metadata": {
    "tags": []
   },
   "outputs": [],
   "source": [
    "group_size = group_info_0[['author_id','average_group_size','end_year']].drop_duplicates()"
   ]
  },
  {
   "cell_type": "code",
   "execution_count": 9,
   "id": "bda052db-778a-4d0d-951e-821f55655127",
   "metadata": {
    "tags": []
   },
   "outputs": [
    {
     "data": {
      "text/html": [
       "<div>\n",
       "<style scoped>\n",
       "    .dataframe tbody tr th:only-of-type {\n",
       "        vertical-align: middle;\n",
       "    }\n",
       "\n",
       "    .dataframe tbody tr th {\n",
       "        vertical-align: top;\n",
       "    }\n",
       "\n",
       "    .dataframe thead th {\n",
       "        text-align: right;\n",
       "    }\n",
       "</style>\n",
       "<table border=\"1\" class=\"dataframe\">\n",
       "  <thead>\n",
       "    <tr style=\"text-align: right;\">\n",
       "      <th></th>\n",
       "      <th>author_id</th>\n",
       "      <th>average_group_size</th>\n",
       "      <th>end_year</th>\n",
       "    </tr>\n",
       "  </thead>\n",
       "  <tbody>\n",
       "    <tr>\n",
       "      <th>0</th>\n",
       "      <td>A1973568665</td>\n",
       "      <td>10.0</td>\n",
       "      <td>1992.0</td>\n",
       "    </tr>\n",
       "    <tr>\n",
       "      <th>72</th>\n",
       "      <td>A2066475195</td>\n",
       "      <td>5.0</td>\n",
       "      <td>1996.0</td>\n",
       "    </tr>\n",
       "    <tr>\n",
       "      <th>73</th>\n",
       "      <td>A2662327865</td>\n",
       "      <td>6.0</td>\n",
       "      <td>1996.0</td>\n",
       "    </tr>\n",
       "    <tr>\n",
       "      <th>74</th>\n",
       "      <td>A2689291091</td>\n",
       "      <td>6.0</td>\n",
       "      <td>1996.0</td>\n",
       "    </tr>\n",
       "    <tr>\n",
       "      <th>95</th>\n",
       "      <td>A2333535359</td>\n",
       "      <td>9.0</td>\n",
       "      <td>2000.0</td>\n",
       "    </tr>\n",
       "  </tbody>\n",
       "</table>\n",
       "</div>"
      ],
      "text/plain": [
       "      author_id  average_group_size  end_year\n",
       "0   A1973568665                10.0    1992.0\n",
       "72  A2066475195                 5.0    1996.0\n",
       "73  A2662327865                 6.0    1996.0\n",
       "74  A2689291091                 6.0    1996.0\n",
       "95  A2333535359                 9.0    2000.0"
      ]
     },
     "execution_count": 9,
     "metadata": {},
     "output_type": "execute_result"
    }
   ],
   "source": [
    "group_size.head(5)"
   ]
  },
  {
   "cell_type": "markdown",
   "id": "9529e158-90a8-445c-8718-0524cff45d5e",
   "metadata": {},
   "source": [
    "##### quantiles of group size"
   ]
  },
  {
   "cell_type": "code",
   "execution_count": 14,
   "id": "5b1fb40c-50ff-45b0-a277-add3b9a7d6c1",
   "metadata": {
    "tags": []
   },
   "outputs": [
    {
     "name": "stdout",
     "output_type": "stream",
     "text": [
      "year 1980 5.0 8.0 15.0 \n",
      "\n",
      "year 1985 5.0 11.0 20.0 \n",
      "\n",
      "year 1990 6.0 12.0 23.0 \n",
      "\n",
      "year 1995 7.0 13.0 25.0 \n",
      "\n",
      "year 2000 7.0 14.0 26.0 \n",
      "\n",
      "year 2005 8.0 16.0 29.0 \n",
      "\n",
      "year 2010 9.0 17.0 31.0 \n",
      "\n"
     ]
    }
   ],
   "source": [
    "Years = [1980,1985,1990,1995,2000,2005,2010]\n",
    "window = 5\n",
    "for year_i in Years:\n",
    "    data_i = list(group_size['average_group_size'][(group_size.end_year>=year_i)&(group_size.end_year<year_i+window)])\n",
    "    q25 = np.quantile(data_i,0.25)\n",
    "    q50 = np.quantile(data_i,0.50)\n",
    "    q75 = np.quantile(data_i,0.75)\n",
    "    \n",
    "    print('year',year_i,q25,q50,q75,'\\n')"
   ]
  },
  {
   "cell_type": "markdown",
   "id": "7d50c3a4-1739-4980-a555-d5755c50ebfd",
   "metadata": {},
   "source": [
    "##### done"
   ]
  },
  {
   "cell_type": "code",
   "execution_count": 10,
   "id": "61102e92-6c15-4bc0-b854-3ab38c1a487f",
   "metadata": {
    "tags": []
   },
   "outputs": [],
   "source": [
    "yearly_average_group_size = group_size.groupby('end_year')['average_group_size'].mean().reset_index(name='yearly_average_group_size')"
   ]
  },
  {
   "cell_type": "code",
   "execution_count": 11,
   "id": "e1483ce9-8ec2-404b-b2d8-dfa9d114ed65",
   "metadata": {
    "tags": []
   },
   "outputs": [
    {
     "data": {
      "text/html": [
       "<div>\n",
       "<style scoped>\n",
       "    .dataframe tbody tr th:only-of-type {\n",
       "        vertical-align: middle;\n",
       "    }\n",
       "\n",
       "    .dataframe tbody tr th {\n",
       "        vertical-align: top;\n",
       "    }\n",
       "\n",
       "    .dataframe thead th {\n",
       "        text-align: right;\n",
       "    }\n",
       "</style>\n",
       "<table border=\"1\" class=\"dataframe\">\n",
       "  <thead>\n",
       "    <tr style=\"text-align: right;\">\n",
       "      <th></th>\n",
       "      <th>end_year</th>\n",
       "      <th>yearly_average_group_size</th>\n",
       "    </tr>\n",
       "  </thead>\n",
       "  <tbody>\n",
       "    <tr>\n",
       "      <th>0</th>\n",
       "      <td>1980.0</td>\n",
       "      <td>10.281553</td>\n",
       "    </tr>\n",
       "    <tr>\n",
       "      <th>1</th>\n",
       "      <td>1981.0</td>\n",
       "      <td>11.190930</td>\n",
       "    </tr>\n",
       "    <tr>\n",
       "      <th>2</th>\n",
       "      <td>1982.0</td>\n",
       "      <td>10.693281</td>\n",
       "    </tr>\n",
       "    <tr>\n",
       "      <th>3</th>\n",
       "      <td>1983.0</td>\n",
       "      <td>12.371875</td>\n",
       "    </tr>\n",
       "    <tr>\n",
       "      <th>4</th>\n",
       "      <td>1984.0</td>\n",
       "      <td>11.090383</td>\n",
       "    </tr>\n",
       "  </tbody>\n",
       "</table>\n",
       "</div>"
      ],
      "text/plain": [
       "   end_year  yearly_average_group_size\n",
       "0    1980.0                  10.281553\n",
       "1    1981.0                  11.190930\n",
       "2    1982.0                  10.693281\n",
       "3    1983.0                  12.371875\n",
       "4    1984.0                  11.090383"
      ]
     },
     "execution_count": 11,
     "metadata": {},
     "output_type": "execute_result"
    }
   ],
   "source": [
    "yearly_average_group_size.head(5)"
   ]
  },
  {
   "cell_type": "markdown",
   "id": "407353b4-b57a-4bbf-b960-81828a82227e",
   "metadata": {
    "jp-MarkdownHeadingCollapsed": true,
    "tags": []
   },
   "source": [
    "##### 3_years_window data"
   ]
  },
  {
   "cell_type": "code",
   "execution_count": 17,
   "id": "2678279a-b609-4461-aa59-85b47672b8ff",
   "metadata": {
    "scrolled": true,
    "tags": []
   },
   "outputs": [],
   "source": [
    "group_info = pd.read_csv('groupinfo(G1 mentor 3_years_window).csv')\n",
    "group_info_0 = group_info[(group_info.end_year>=1980)&(group_info.end_year<=2015)]\n",
    "# len(group_info_0)\n",
    "group_size = group_info_0[['author_id','average_group_size','end_year']].drop_duplicates()\n",
    "yearly_average_group_size_3years = group_size.groupby('end_year')['average_group_size'].mean().reset_index(name='yearly_average_group_size')"
   ]
  },
  {
   "cell_type": "markdown",
   "id": "3896a1ba-8abf-4cdc-b522-0860f0de5e02",
   "metadata": {},
   "source": [
    "##### done"
   ]
  },
  {
   "cell_type": "code",
   "execution_count": 24,
   "id": "65718fda-c6f2-4277-8328-9033396f59aa",
   "metadata": {
    "tags": []
   },
   "outputs": [
    {
     "data": {
      "image/png": "[encoded data removed]",
      "text/plain": [
       "<Figure size 400x309 with 1 Axes>"
      ]
     },
     "metadata": {},
     "output_type": "display_data"
    }
   ],
   "source": [
    "sns.set(style='ticks', font_scale=1.1, font='Arial')\n",
    "fig, ax = plt.subplots(constrained_layout=True,figsize=[1*4,0.618*5])\n",
    "x = list(yearly_average_group_size.end_year)\n",
    "y = yearly_average_group_size.yearly_average_group_size\n",
    "# y = yearly_average_group_size.yearly_average_group_size.rolling(2).mean()\n",
    "ax.plot(x,y,marker='.',ms='8',label='5-year window',color='#d8b365')\n",
    "\n",
    "x_3years = list(yearly_average_group_size_3years .end_year)\n",
    "y_3years  = yearly_average_group_size_3years .yearly_average_group_size\n",
    "# y = yearly_average_group_size.yearly_average_group_size.rolling(2).mean()\n",
    "ax.plot(x_3years ,y_3years ,marker='.',ms='8',label='3-year window',color='#5ab4ac')\n",
    "\n",
    "\n",
    "ax.set_ylim([6,40])\n",
    "ax.set_title('Physics')\n",
    "ax.set_ylabel('average group size')\n",
    "ax.set_xlabel('Year')\n",
    "ax.legend(frameon=0)\n",
    "ax.xaxis.set_major_locator(MultipleLocator(5))\n",
    "ax.xaxis.set_minor_locator(MultipleLocator(5))\n",
    "\n",
    "ax.yaxis.set_major_locator(MultipleLocator(4))\n",
    "ax.yaxis.set_minor_locator(MultipleLocator(2))\n",
    "\n",
    "ax.grid(True,which='both',ls=\"--\")\n",
    "\n",
    "fig.savefig('group_size_evolution(Physics).pdf')"
   ]
  },
  {
   "cell_type": "code",
   "execution_count": null,
   "id": "c68d03f2-94ea-43dd-a392-b1862bc64b8b",
   "metadata": {},
   "outputs": [],
   "source": []
  }
 ],
 "metadata": {
  "kernelspec": {
   "display_name": "myenv",
   "language": "python",
   "name": "myenv"
  },
  "language_info": {
   "codemirror_mode": {
    "name": "ipython",
    "version": 3
   },
   "file_extension": ".py",
   "mimetype": "text/x-python",
   "name": "python",
   "nbconvert_exporter": "python",
   "pygments_lexer": "ipython3",
   "version": "3.11.4"
  }
 },
 "nbformat": 4,
 "nbformat_minor": 5
}
