{
 "cells": [
  {
   "cell_type": "code",
   "execution_count": 1,
   "id": "5a1f4bbc-aa4b-49f0-b97d-0d67b8061b7a",
   "metadata": {
    "tags": []
   },
   "outputs": [],
   "source": [
    "import pandas as pd\n",
    "import os\n",
    "import random\n",
    "import numpy as np\n",
    "import matplotlib.pyplot as plt\n",
    "import seaborn as sns\n",
    "from matplotlib.pyplot import MultipleLocator\n",
    "import matplotlib.pyplot as plt\n",
    "import seaborn as sns  #画密度图\n",
    "from matplotlib.ticker import MaxNLocator, FuncFormatter, MultipleLocator\n",
    "import matplotlib.ticker as ticker\n",
    "import palettable #python颜色库"
   ]
  },
  {
   "cell_type": "code",
   "execution_count": 2,
   "id": "e9e2acc8-1151-4475-aaf2-64e4a401b178",
   "metadata": {
    "tags": []
   },
   "outputs": [],
   "source": [
    "# group_info = pd.read_csv('groupinfo(G1 mentor).csv')\n",
    "group_info = pd.read_csv('group_info_OnlyLastAuthorPaper(current_scientific_age1213).csv')"
   ]
  },
  {
   "cell_type": "code",
   "execution_count": 3,
   "id": "bc28ce7c-3543-42e2-b9d7-7a2af402475d",
   "metadata": {
    "tags": []
   },
   "outputs": [
    {
     "data": {
      "text/html": [
       "<div>\n",
       "<style scoped>\n",
       "    .dataframe tbody tr th:only-of-type {\n",
       "        vertical-align: middle;\n",
       "    }\n",
       "\n",
       "    .dataframe tbody tr th {\n",
       "        vertical-align: top;\n",
       "    }\n",
       "\n",
       "    .dataframe thead th {\n",
       "        text-align: right;\n",
       "    }\n",
       "</style>\n",
       "<table border=\"1\" class=\"dataframe\">\n",
       "  <thead>\n",
       "    <tr style=\"text-align: right;\">\n",
       "      <th></th>\n",
       "      <th>work_id</th>\n",
       "      <th>author_position</th>\n",
       "      <th>author_id</th>\n",
       "      <th>institution_id</th>\n",
       "      <th>publication_year</th>\n",
       "      <th>first_pub_year</th>\n",
       "      <th>scientific_age</th>\n",
       "      <th>group_size</th>\n",
       "      <th>mentor_id</th>\n",
       "      <th>current_year</th>\n",
       "      <th>ratio_institution</th>\n",
       "      <th>current_scientific_age</th>\n",
       "    </tr>\n",
       "  </thead>\n",
       "  <tbody>\n",
       "    <tr>\n",
       "      <th>0</th>\n",
       "      <td>W1987398976</td>\n",
       "      <td>first</td>\n",
       "      <td>A1973568665</td>\n",
       "      <td>I126307644</td>\n",
       "      <td>1989</td>\n",
       "      <td>1988</td>\n",
       "      <td>1</td>\n",
       "      <td>2</td>\n",
       "      <td>A1095119240</td>\n",
       "      <td>1989</td>\n",
       "      <td>1.0</td>\n",
       "      <td>1</td>\n",
       "    </tr>\n",
       "    <tr>\n",
       "      <th>1</th>\n",
       "      <td>W2009362099</td>\n",
       "      <td>first</td>\n",
       "      <td>A1973568665</td>\n",
       "      <td>I126307644</td>\n",
       "      <td>1989</td>\n",
       "      <td>1988</td>\n",
       "      <td>1</td>\n",
       "      <td>2</td>\n",
       "      <td>A1095119240</td>\n",
       "      <td>1989</td>\n",
       "      <td>1.0</td>\n",
       "      <td>1</td>\n",
       "    </tr>\n",
       "    <tr>\n",
       "      <th>2</th>\n",
       "      <td>W2128354159</td>\n",
       "      <td>first</td>\n",
       "      <td>A2350033295</td>\n",
       "      <td>I126307644</td>\n",
       "      <td>1989</td>\n",
       "      <td>1985</td>\n",
       "      <td>4</td>\n",
       "      <td>2</td>\n",
       "      <td>A1095119240</td>\n",
       "      <td>1989</td>\n",
       "      <td>1.0</td>\n",
       "      <td>4</td>\n",
       "    </tr>\n",
       "    <tr>\n",
       "      <th>3</th>\n",
       "      <td>W1987398976</td>\n",
       "      <td>first</td>\n",
       "      <td>A1973568665</td>\n",
       "      <td>I126307644</td>\n",
       "      <td>1989</td>\n",
       "      <td>1988</td>\n",
       "      <td>1</td>\n",
       "      <td>2</td>\n",
       "      <td>A1095119240</td>\n",
       "      <td>1990</td>\n",
       "      <td>1.0</td>\n",
       "      <td>2</td>\n",
       "    </tr>\n",
       "    <tr>\n",
       "      <th>4</th>\n",
       "      <td>W2009362099</td>\n",
       "      <td>first</td>\n",
       "      <td>A1973568665</td>\n",
       "      <td>I126307644</td>\n",
       "      <td>1989</td>\n",
       "      <td>1988</td>\n",
       "      <td>1</td>\n",
       "      <td>2</td>\n",
       "      <td>A1095119240</td>\n",
       "      <td>1990</td>\n",
       "      <td>1.0</td>\n",
       "      <td>2</td>\n",
       "    </tr>\n",
       "  </tbody>\n",
       "</table>\n",
       "</div>"
      ],
      "text/plain": [
       "       work_id author_position    author_id institution_id  publication_year  \\\n",
       "0  W1987398976           first  A1973568665     I126307644              1989   \n",
       "1  W2009362099           first  A1973568665     I126307644              1989   \n",
       "2  W2128354159           first  A2350033295     I126307644              1989   \n",
       "3  W1987398976           first  A1973568665     I126307644              1989   \n",
       "4  W2009362099           first  A1973568665     I126307644              1989   \n",
       "\n",
       "   first_pub_year  scientific_age  group_size    mentor_id  current_year  \\\n",
       "0            1988               1           2  A1095119240          1989   \n",
       "1            1988               1           2  A1095119240          1989   \n",
       "2            1985               4           2  A1095119240          1989   \n",
       "3            1988               1           2  A1095119240          1990   \n",
       "4            1988               1           2  A1095119240          1990   \n",
       "\n",
       "   ratio_institution  current_scientific_age  \n",
       "0                1.0                       1  \n",
       "1                1.0                       1  \n",
       "2                1.0                       4  \n",
       "3                1.0                       2  \n",
       "4                1.0                       2  "
      ]
     },
     "execution_count": 3,
     "metadata": {},
     "output_type": "execute_result"
    }
   ],
   "source": [
    "group_info.head(5)"
   ]
  },
  {
   "cell_type": "code",
   "execution_count": 5,
   "id": "036576e7-8b32-4c62-afa0-e8b76ad9cba3",
   "metadata": {
    "tags": []
   },
   "outputs": [],
   "source": [
    "inpath = '/Users/yanmemgxing/Nutstore Files/scientific group/'"
   ]
  },
  {
   "cell_type": "code",
   "execution_count": 6,
   "id": "1fad97e6-39a9-4d1f-83f7-b6a0838abe0a",
   "metadata": {
    "scrolled": true,
    "tags": []
   },
   "outputs": [],
   "source": [
    "file = 'career_span'\n",
    "career_span = pd.read_csv(f'{inpath}{file}.csv')"
   ]
  },
  {
   "cell_type": "code",
   "execution_count": 7,
   "id": "2a11a262-2ba4-4816-8a67-f7d54634153f",
   "metadata": {
    "tags": []
   },
   "outputs": [
    {
     "data": {
      "text/html": [
       "<div>\n",
       "<style scoped>\n",
       "    .dataframe tbody tr th:only-of-type {\n",
       "        vertical-align: middle;\n",
       "    }\n",
       "\n",
       "    .dataframe tbody tr th {\n",
       "        vertical-align: top;\n",
       "    }\n",
       "\n",
       "    .dataframe thead th {\n",
       "        text-align: right;\n",
       "    }\n",
       "</style>\n",
       "<table border=\"1\" class=\"dataframe\">\n",
       "  <thead>\n",
       "    <tr style=\"text-align: right;\">\n",
       "      <th></th>\n",
       "      <th>author_id</th>\n",
       "      <th>first_pub_year</th>\n",
       "      <th>last_pub_year</th>\n",
       "      <th>career_len</th>\n",
       "    </tr>\n",
       "  </thead>\n",
       "  <tbody>\n",
       "    <tr>\n",
       "      <th>0</th>\n",
       "      <td>A1011734083</td>\n",
       "      <td>2002</td>\n",
       "      <td>2022</td>\n",
       "      <td>20</td>\n",
       "    </tr>\n",
       "    <tr>\n",
       "      <th>1</th>\n",
       "      <td>A101902757</td>\n",
       "      <td>2013</td>\n",
       "      <td>2017</td>\n",
       "      <td>4</td>\n",
       "    </tr>\n",
       "    <tr>\n",
       "      <th>2</th>\n",
       "      <td>A102530866</td>\n",
       "      <td>1957</td>\n",
       "      <td>1957</td>\n",
       "      <td>0</td>\n",
       "    </tr>\n",
       "    <tr>\n",
       "      <th>3</th>\n",
       "      <td>A1040500386</td>\n",
       "      <td>1997</td>\n",
       "      <td>2020</td>\n",
       "      <td>23</td>\n",
       "    </tr>\n",
       "    <tr>\n",
       "      <th>4</th>\n",
       "      <td>A1055365530</td>\n",
       "      <td>2013</td>\n",
       "      <td>2014</td>\n",
       "      <td>1</td>\n",
       "    </tr>\n",
       "  </tbody>\n",
       "</table>\n",
       "</div>"
      ],
      "text/plain": [
       "     author_id  first_pub_year  last_pub_year  career_len\n",
       "0  A1011734083            2002           2022          20\n",
       "1   A101902757            2013           2017           4\n",
       "2   A102530866            1957           1957           0\n",
       "3  A1040500386            1997           2020          23\n",
       "4  A1055365530            2013           2014           1"
      ]
     },
     "execution_count": 7,
     "metadata": {},
     "output_type": "execute_result"
    }
   ],
   "source": [
    "career_span.head(5)"
   ]
  },
  {
   "cell_type": "code",
   "execution_count": 32,
   "id": "2a00f3fc-4243-4dbd-9c81-2074e19e0499",
   "metadata": {
    "tags": []
   },
   "outputs": [
    {
     "data": {
      "text/plain": [
       "True"
      ]
     },
     "execution_count": 32,
     "metadata": {},
     "output_type": "execute_result"
    }
   ],
   "source": [
    "mentors = set(group_info.mentor_id)\n",
    "all_authors = set(career_span.author_id)\n",
    "len(mentors)==len(mentors.intersection(all_authors))"
   ]
  },
  {
   "cell_type": "code",
   "execution_count": 33,
   "id": "3ad05bde-3045-4b14-b23f-7e8e1d7c7538",
   "metadata": {
    "tags": []
   },
   "outputs": [
    {
     "data": {
      "text/plain": [
       "True"
      ]
     },
     "execution_count": 33,
     "metadata": {},
     "output_type": "execute_result"
    }
   ],
   "source": [
    "mentees = set(group_info.author_id)\n",
    "all_authors = set(career_span.author_id)\n",
    "len(mentees)==len(mentees.intersection(all_authors))"
   ]
  },
  {
   "cell_type": "code",
   "execution_count": 8,
   "id": "29483a6a-6013-42ba-bb51-4655435c182b",
   "metadata": {
    "tags": []
   },
   "outputs": [],
   "source": [
    "group_info = group_info.merge(career_span[['author_id','career_len']],on='author_id',how='left')"
   ]
  },
  {
   "cell_type": "code",
   "execution_count": 9,
   "id": "9d5fc7f5-ebce-4a24-94b5-92f95783b611",
   "metadata": {
    "tags": []
   },
   "outputs": [],
   "source": [
    "tp = career_span[['author_id','first_pub_year']].rename(columns={'author_id':'mentor_id','first_pub_year':'mentor_first_pub_year'}).drop_duplicates()\n",
    "group_info = group_info.merge(tp,on='mentor_id',how='left')"
   ]
  },
  {
   "cell_type": "code",
   "execution_count": 10,
   "id": "6a806673-2ca1-47f4-a594-36b581ef6b95",
   "metadata": {
    "tags": []
   },
   "outputs": [],
   "source": [
    "mentor_scientific_age = group_info['publication_year'] - group_info['mentor_first_pub_year']\n",
    "group_info['mentor_scientific_age'] = mentor_scientific_age\n",
    "mentor_current_scientific_age = group_info['current_year'] - group_info['mentor_first_pub_year']\n",
    "group_info['mentor_current_scientific_age'] = mentor_current_scientific_age"
   ]
  },
  {
   "cell_type": "code",
   "execution_count": 11,
   "id": "eb515c8a-cd8b-4de5-88b1-504a932bca1d",
   "metadata": {
    "tags": []
   },
   "outputs": [
    {
     "data": {
      "text/html": [
       "<div>\n",
       "<style scoped>\n",
       "    .dataframe tbody tr th:only-of-type {\n",
       "        vertical-align: middle;\n",
       "    }\n",
       "\n",
       "    .dataframe tbody tr th {\n",
       "        vertical-align: top;\n",
       "    }\n",
       "\n",
       "    .dataframe thead th {\n",
       "        text-align: right;\n",
       "    }\n",
       "</style>\n",
       "<table border=\"1\" class=\"dataframe\">\n",
       "  <thead>\n",
       "    <tr style=\"text-align: right;\">\n",
       "      <th></th>\n",
       "      <th>work_id</th>\n",
       "      <th>author_position</th>\n",
       "      <th>author_id</th>\n",
       "      <th>institution_id</th>\n",
       "      <th>publication_year</th>\n",
       "      <th>first_pub_year</th>\n",
       "      <th>scientific_age</th>\n",
       "      <th>group_size</th>\n",
       "      <th>mentor_id</th>\n",
       "      <th>current_year</th>\n",
       "      <th>ratio_institution</th>\n",
       "      <th>current_scientific_age</th>\n",
       "      <th>career_len</th>\n",
       "      <th>mentor_first_pub_year</th>\n",
       "      <th>mentor_scientific_age</th>\n",
       "      <th>mentor_current_scientific_age</th>\n",
       "    </tr>\n",
       "  </thead>\n",
       "  <tbody>\n",
       "    <tr>\n",
       "      <th>0</th>\n",
       "      <td>W1987398976</td>\n",
       "      <td>first</td>\n",
       "      <td>A1973568665</td>\n",
       "      <td>I126307644</td>\n",
       "      <td>1989</td>\n",
       "      <td>1988</td>\n",
       "      <td>1</td>\n",
       "      <td>2</td>\n",
       "      <td>A1095119240</td>\n",
       "      <td>1989</td>\n",
       "      <td>1.0</td>\n",
       "      <td>1</td>\n",
       "      <td>33</td>\n",
       "      <td>1985</td>\n",
       "      <td>4</td>\n",
       "      <td>4</td>\n",
       "    </tr>\n",
       "    <tr>\n",
       "      <th>1</th>\n",
       "      <td>W2009362099</td>\n",
       "      <td>first</td>\n",
       "      <td>A1973568665</td>\n",
       "      <td>I126307644</td>\n",
       "      <td>1989</td>\n",
       "      <td>1988</td>\n",
       "      <td>1</td>\n",
       "      <td>2</td>\n",
       "      <td>A1095119240</td>\n",
       "      <td>1989</td>\n",
       "      <td>1.0</td>\n",
       "      <td>1</td>\n",
       "      <td>33</td>\n",
       "      <td>1985</td>\n",
       "      <td>4</td>\n",
       "      <td>4</td>\n",
       "    </tr>\n",
       "    <tr>\n",
       "      <th>2</th>\n",
       "      <td>W2128354159</td>\n",
       "      <td>first</td>\n",
       "      <td>A2350033295</td>\n",
       "      <td>I126307644</td>\n",
       "      <td>1989</td>\n",
       "      <td>1985</td>\n",
       "      <td>4</td>\n",
       "      <td>2</td>\n",
       "      <td>A1095119240</td>\n",
       "      <td>1989</td>\n",
       "      <td>1.0</td>\n",
       "      <td>4</td>\n",
       "      <td>32</td>\n",
       "      <td>1985</td>\n",
       "      <td>4</td>\n",
       "      <td>4</td>\n",
       "    </tr>\n",
       "    <tr>\n",
       "      <th>3</th>\n",
       "      <td>W1987398976</td>\n",
       "      <td>first</td>\n",
       "      <td>A1973568665</td>\n",
       "      <td>I126307644</td>\n",
       "      <td>1989</td>\n",
       "      <td>1988</td>\n",
       "      <td>1</td>\n",
       "      <td>2</td>\n",
       "      <td>A1095119240</td>\n",
       "      <td>1990</td>\n",
       "      <td>1.0</td>\n",
       "      <td>2</td>\n",
       "      <td>33</td>\n",
       "      <td>1985</td>\n",
       "      <td>4</td>\n",
       "      <td>5</td>\n",
       "    </tr>\n",
       "    <tr>\n",
       "      <th>4</th>\n",
       "      <td>W2009362099</td>\n",
       "      <td>first</td>\n",
       "      <td>A1973568665</td>\n",
       "      <td>I126307644</td>\n",
       "      <td>1989</td>\n",
       "      <td>1988</td>\n",
       "      <td>1</td>\n",
       "      <td>2</td>\n",
       "      <td>A1095119240</td>\n",
       "      <td>1990</td>\n",
       "      <td>1.0</td>\n",
       "      <td>2</td>\n",
       "      <td>33</td>\n",
       "      <td>1985</td>\n",
       "      <td>4</td>\n",
       "      <td>5</td>\n",
       "    </tr>\n",
       "  </tbody>\n",
       "</table>\n",
       "</div>"
      ],
      "text/plain": [
       "       work_id author_position    author_id institution_id  publication_year  \\\n",
       "0  W1987398976           first  A1973568665     I126307644              1989   \n",
       "1  W2009362099           first  A1973568665     I126307644              1989   \n",
       "2  W2128354159           first  A2350033295     I126307644              1989   \n",
       "3  W1987398976           first  A1973568665     I126307644              1989   \n",
       "4  W2009362099           first  A1973568665     I126307644              1989   \n",
       "\n",
       "   first_pub_year  scientific_age  group_size    mentor_id  current_year  \\\n",
       "0            1988               1           2  A1095119240          1989   \n",
       "1            1988               1           2  A1095119240          1989   \n",
       "2            1985               4           2  A1095119240          1989   \n",
       "3            1988               1           2  A1095119240          1990   \n",
       "4            1988               1           2  A1095119240          1990   \n",
       "\n",
       "   ratio_institution  current_scientific_age  career_len  \\\n",
       "0                1.0                       1          33   \n",
       "1                1.0                       1          33   \n",
       "2                1.0                       4          32   \n",
       "3                1.0                       2          33   \n",
       "4                1.0                       2          33   \n",
       "\n",
       "   mentor_first_pub_year  mentor_scientific_age  mentor_current_scientific_age  \n",
       "0                   1985                      4                              4  \n",
       "1                   1985                      4                              4  \n",
       "2                   1985                      4                              4  \n",
       "3                   1985                      4                              5  \n",
       "4                   1985                      4                              5  "
      ]
     },
     "execution_count": 11,
     "metadata": {},
     "output_type": "execute_result"
    }
   ],
   "source": [
    "group_info.head(5)"
   ]
  },
  {
   "cell_type": "code",
   "execution_count": 12,
   "id": "26acc1f9-96d2-4142-9436-1f7242c2ceb1",
   "metadata": {
    "tags": []
   },
   "outputs": [
    {
     "data": {
      "text/plain": [
       "3968354"
      ]
     },
     "execution_count": 12,
     "metadata": {},
     "output_type": "execute_result"
    }
   ],
   "source": [
    "len(group_info)"
   ]
  },
  {
   "cell_type": "code",
   "execution_count": 13,
   "id": "a07d2ac5-cc49-4bd0-bd10-6b90ea601214",
   "metadata": {
    "tags": []
   },
   "outputs": [],
   "source": [
    "# filter condition\n",
    "group_test = group_info[['author_id','mentor_id','institution_id','current_year','career_len',\n",
    "                         'group_size']][(group_info.current_scientific_age<6)&(group_info.mentor_scientific_age>10)].drop_duplicates()\n",
    "\n",
    "# function\n",
    "def group_size_end_year(tp_df):\n",
    "    # tp_df = tp_df[['author_id','mentor_id','institution_id','current_year','career_len','group_size']].drop_duplicates()\n",
    "    end_year = round(np.min(tp_df['current_year']))\n",
    "    career_len = np.mean(tp_df['career_len'])\n",
    "    group_size = round(np.mean(tp_df['group_size']))\n",
    "    \n",
    "    return end_year,career_len,group_size\n",
    "\n",
    "temp = group_test.groupby(['author_id','mentor_id','institution_id']).apply(group_size_end_year).reset_index(name='group_size_info')"
   ]
  },
  {
   "cell_type": "code",
   "execution_count": 14,
   "id": "e4886abe-91f4-44b0-baa0-af3f51db8915",
   "metadata": {
    "tags": []
   },
   "outputs": [
    {
     "name": "stdout",
     "output_type": "stream",
     "text": [
      "215296\n"
     ]
    }
   ],
   "source": [
    "group_size_info = pd.DataFrame(temp.group_size_info.tolist(),columns=['end_year','career_len','group_size'])\n",
    "temp = pd.concat((temp,group_size_info),axis=1)\n",
    "average_group_size = temp.groupby(['author_id','end_year','career_len'])['group_size'].agg('mean').reset_index(name='average_group_size')\n",
    "print(len(average_group_size))"
   ]
  },
  {
   "cell_type": "code",
   "execution_count": 16,
   "id": "a475566c-0fda-462a-add7-8198d1596d80",
   "metadata": {
    "tags": []
   },
   "outputs": [],
   "source": [
    "group_info = group_info.merge(average_group_size,on='author_id',how='left')"
   ]
  },
  {
   "cell_type": "code",
   "execution_count": 19,
   "id": "b763a629-aa74-4f6a-a92e-eeff2a4530a8",
   "metadata": {
    "tags": []
   },
   "outputs": [],
   "source": [
    "group_info = group_info.drop(columns=['career_len_x']).rename(columns={'career_len_y':'career_len'})"
   ]
  },
  {
   "cell_type": "code",
   "execution_count": 1,
   "id": "af8883f7-2e61-48a7-a7f0-f57092879e7f",
   "metadata": {
    "tags": []
   },
   "outputs": [],
   "source": [
    "# group_info.to_csv('groupinfo(G1 mentor).csv',index=0)"
   ]
  },
  {
   "cell_type": "code",
   "execution_count": 18,
   "id": "c72344d1-e283-464b-a6bf-66e470682864",
   "metadata": {
    "tags": []
   },
   "outputs": [
    {
     "data": {
      "text/html": [
       "<div>\n",
       "<style scoped>\n",
       "    .dataframe tbody tr th:only-of-type {\n",
       "        vertical-align: middle;\n",
       "    }\n",
       "\n",
       "    .dataframe tbody tr th {\n",
       "        vertical-align: top;\n",
       "    }\n",
       "\n",
       "    .dataframe thead th {\n",
       "        text-align: right;\n",
       "    }\n",
       "</style>\n",
       "<table border=\"1\" class=\"dataframe\">\n",
       "  <thead>\n",
       "    <tr style=\"text-align: right;\">\n",
       "      <th></th>\n",
       "      <th>author_id</th>\n",
       "      <th>end_year</th>\n",
       "      <th>career_len</th>\n",
       "      <th>average_group_size</th>\n",
       "    </tr>\n",
       "  </thead>\n",
       "  <tbody>\n",
       "    <tr>\n",
       "      <th>124578</th>\n",
       "      <td>A2626688840</td>\n",
       "      <td>2012</td>\n",
       "      <td>0.0</td>\n",
       "      <td>7.0</td>\n",
       "    </tr>\n",
       "    <tr>\n",
       "      <th>28818</th>\n",
       "      <td>A2091213365</td>\n",
       "      <td>2009</td>\n",
       "      <td>12.0</td>\n",
       "      <td>16.0</td>\n",
       "    </tr>\n",
       "    <tr>\n",
       "      <th>99323</th>\n",
       "      <td>A2491725674</td>\n",
       "      <td>1998</td>\n",
       "      <td>5.0</td>\n",
       "      <td>16.0</td>\n",
       "    </tr>\n",
       "    <tr>\n",
       "      <th>201250</th>\n",
       "      <td>A3177469341</td>\n",
       "      <td>2005</td>\n",
       "      <td>0.0</td>\n",
       "      <td>14.0</td>\n",
       "    </tr>\n",
       "    <tr>\n",
       "      <th>30212</th>\n",
       "      <td>A2097090906</td>\n",
       "      <td>1993</td>\n",
       "      <td>5.0</td>\n",
       "      <td>45.0</td>\n",
       "    </tr>\n",
       "  </tbody>\n",
       "</table>\n",
       "</div>"
      ],
      "text/plain": [
       "          author_id  end_year  career_len  average_group_size\n",
       "124578  A2626688840      2012         0.0                 7.0\n",
       "28818   A2091213365      2009        12.0                16.0\n",
       "99323   A2491725674      1998         5.0                16.0\n",
       "201250  A3177469341      2005         0.0                14.0\n",
       "30212   A2097090906      1993         5.0                45.0"
      ]
     },
     "execution_count": 18,
     "metadata": {},
     "output_type": "execute_result"
    }
   ],
   "source": [
    "average_group_size.sample(5)"
   ]
  },
  {
   "cell_type": "code",
   "execution_count": 42,
   "id": "86cce21c-b032-4d93-b9f8-84bcfc041eb8",
   "metadata": {
    "tags": []
   },
   "outputs": [],
   "source": [
    "mentee = list(set(group_info['author_id']))"
   ]
  },
  {
   "cell_type": "code",
   "execution_count": 108,
   "id": "cb64aae9-02d4-482f-9df9-e78cb9c43ed7",
   "metadata": {
    "tags": []
   },
   "outputs": [],
   "source": [
    "def survial_rate(data,current_year,drop_criteria):\n",
    "    # data_i = data[data.first_pub_year==current_year]\n",
    "    data_i = data[data.end_year==current_year]\n",
    "    Q75 = np.quantile(data_i['average_group_size'],0.75)\n",
    "    Q50 = np.quantile(data_i['average_group_size'],0.50)\n",
    "    Q25 = np.quantile(data_i['average_group_size'],0.25)\n",
    "    Q10 = np.quantile(data_i['average_group_size'],0.10)\n",
    "    \n",
    "    #All\n",
    "    survial_all = data_i[data_i.career_len>=drop_criteria]\n",
    "    survival_rate_all = len(survial_all)/len(data_i[data_i.career_len>0])\n",
    "    survival_rate_all_0 = len(survial_all)/len(data_i)\n",
    "    \n",
    "    # G75\n",
    "    G75 = data_i[data_i.average_group_size>=Q75]\n",
    "    survial_75 = G75[G75.career_len>=drop_criteria]\n",
    "    survival_rate_75 = len(survial_75)/len(G75[G75.career_len>0])\n",
    "    survival_rate_75_0 = len(survial_75)/len(G75)\n",
    "    # print('survival_rate_75,survival_rate_75_0 : ',survival_rate_75,survival_rate_75_0)\n",
    "\n",
    "    # G25\n",
    "    G25 = data_i[data_i.average_group_size<=Q25]\n",
    "    # print('len_G25 : ',len(G25))\n",
    "    survial_25 = G25[G25.career_len>=drop_criteria]\n",
    "    # print('len_survival_25 : ',len(survial_25))\n",
    "    survival_rate_25 = len(survial_25)/len(G25[G25.career_len>0])\n",
    "    survival_rate_25_0 = len(survial_25)/len(G25)\n",
    "    # print('survival_rate_25,survival_rate_25_0 : ',survival_rate_25,survival_rate_25_0)\n",
    "    return len(data_i),len(data_i[data_i.career_len>0]),len(survial_all),survival_rate_all,survival_rate_all_0,survival_rate_75,survival_rate_75_0,survival_rate_25,survival_rate_25_0"
   ]
  },
  {
   "cell_type": "code",
   "execution_count": 44,
   "id": "c9b37815-a1d0-40bd-9265-e13cd8e4b171",
   "metadata": {
    "tags": []
   },
   "outputs": [
    {
     "data": {
      "text/plain": [
       "(6674,\n",
       " 0.5143418467583497,\n",
       " 0.3922685046448906,\n",
       " 0.47442958300550747,\n",
       " 0.35345838218053927,\n",
       " 0.5430637738330046,\n",
       " 0.4320083682008368)"
      ]
     },
     "execution_count": 44,
     "metadata": {},
     "output_type": "execute_result"
    }
   ],
   "source": [
    "survial_rate(average_group_size,2005,10)"
   ]
  },
  {
   "cell_type": "code",
   "execution_count": 109,
   "id": "cafc9202-d6dd-4ef5-a74f-a187a20c01c6",
   "metadata": {
    "tags": []
   },
   "outputs": [],
   "source": [
    "data = average_group_size\n",
    "\n",
    "Data = []\n",
    "years = list(range(1960,2015+1))\n",
    "# years = list(range(2008,2015+1))\n",
    "# Drop_Criteria = list(range(5,15+1))\n",
    "Drop_Criteria = [5,8,10,13,15,18,20]\n",
    "for drop_criteria in Drop_Criteria:\n",
    "    for current_year in years:\n",
    "        # print(drop_criteria,completeness,current_year)\n",
    "\n",
    "        num_of_mentee,num_of_mentee1,num_of_surviver,survival_rate_all,survival_rate_all_0,survival_rate_75,survival_rate_75_0,survival_rate_25,survival_rate_25_0 = survial_rate(data,current_year,drop_criteria)\n",
    "\n",
    "        temp = [current_year,num_of_mentee,num_of_mentee1,num_of_surviver,survival_rate_all,survival_rate_all_0,survival_rate_75,survival_rate_75_0,survival_rate_25,survival_rate_25_0,drop_criteria]\n",
    "        Data.append(temp)"
   ]
  },
  {
   "cell_type": "code",
   "execution_count": 110,
   "id": "884b6467-6ef2-4b94-bf70-4a421c3493b6",
   "metadata": {
    "tags": []
   },
   "outputs": [],
   "source": [
    "Data = pd.DataFrame(Data,\n",
    "                    columns=['current_year','num_of_mentee','num_of_mentee1','num_of_surviver','survival_rate_all',\n",
    "                    'survival_rate_all_0','survival_rate_75','survival_rate_75_0','survival_rate_25','survival_rate_25_0','drop_criteria'])"
   ]
  },
  {
   "cell_type": "code",
   "execution_count": 111,
   "id": "3573dc56-fd30-447c-a9a6-cb896147e002",
   "metadata": {
    "tags": []
   },
   "outputs": [
    {
     "data": {
      "text/html": [
       "<div>\n",
       "<style scoped>\n",
       "    .dataframe tbody tr th:only-of-type {\n",
       "        vertical-align: middle;\n",
       "    }\n",
       "\n",
       "    .dataframe tbody tr th {\n",
       "        vertical-align: top;\n",
       "    }\n",
       "\n",
       "    .dataframe thead th {\n",
       "        text-align: right;\n",
       "    }\n",
       "</style>\n",
       "<table border=\"1\" class=\"dataframe\">\n",
       "  <thead>\n",
       "    <tr style=\"text-align: right;\">\n",
       "      <th></th>\n",
       "      <th>current_year</th>\n",
       "      <th>num_of_mentee</th>\n",
       "      <th>num_of_mentee1</th>\n",
       "      <th>num_of_surviver</th>\n",
       "      <th>survival_rate_all</th>\n",
       "      <th>survival_rate_all_0</th>\n",
       "      <th>survival_rate_75</th>\n",
       "      <th>survival_rate_75_0</th>\n",
       "      <th>survival_rate_25</th>\n",
       "      <th>survival_rate_25_0</th>\n",
       "      <th>drop_criteria</th>\n",
       "    </tr>\n",
       "  </thead>\n",
       "  <tbody>\n",
       "    <tr>\n",
       "      <th>0</th>\n",
       "      <td>1960</td>\n",
       "      <td>97</td>\n",
       "      <td>63</td>\n",
       "      <td>30</td>\n",
       "      <td>0.476190</td>\n",
       "      <td>0.309278</td>\n",
       "      <td>0.181818</td>\n",
       "      <td>0.080000</td>\n",
       "      <td>0.476190</td>\n",
       "      <td>0.294118</td>\n",
       "      <td>5</td>\n",
       "    </tr>\n",
       "    <tr>\n",
       "      <th>1</th>\n",
       "      <td>1961</td>\n",
       "      <td>120</td>\n",
       "      <td>77</td>\n",
       "      <td>50</td>\n",
       "      <td>0.649351</td>\n",
       "      <td>0.416667</td>\n",
       "      <td>0.600000</td>\n",
       "      <td>0.352941</td>\n",
       "      <td>0.875000</td>\n",
       "      <td>0.500000</td>\n",
       "      <td>5</td>\n",
       "    </tr>\n",
       "    <tr>\n",
       "      <th>2</th>\n",
       "      <td>1962</td>\n",
       "      <td>114</td>\n",
       "      <td>59</td>\n",
       "      <td>34</td>\n",
       "      <td>0.576271</td>\n",
       "      <td>0.298246</td>\n",
       "      <td>0.357143</td>\n",
       "      <td>0.166667</td>\n",
       "      <td>0.666667</td>\n",
       "      <td>0.352941</td>\n",
       "      <td>5</td>\n",
       "    </tr>\n",
       "    <tr>\n",
       "      <th>3</th>\n",
       "      <td>1963</td>\n",
       "      <td>106</td>\n",
       "      <td>55</td>\n",
       "      <td>22</td>\n",
       "      <td>0.400000</td>\n",
       "      <td>0.207547</td>\n",
       "      <td>0.466667</td>\n",
       "      <td>0.218750</td>\n",
       "      <td>0.357143</td>\n",
       "      <td>0.178571</td>\n",
       "      <td>5</td>\n",
       "    </tr>\n",
       "    <tr>\n",
       "      <th>4</th>\n",
       "      <td>1964</td>\n",
       "      <td>143</td>\n",
       "      <td>84</td>\n",
       "      <td>45</td>\n",
       "      <td>0.535714</td>\n",
       "      <td>0.314685</td>\n",
       "      <td>0.500000</td>\n",
       "      <td>0.325581</td>\n",
       "      <td>0.363636</td>\n",
       "      <td>0.216216</td>\n",
       "      <td>5</td>\n",
       "    </tr>\n",
       "    <tr>\n",
       "      <th>...</th>\n",
       "      <td>...</td>\n",
       "      <td>...</td>\n",
       "      <td>...</td>\n",
       "      <td>...</td>\n",
       "      <td>...</td>\n",
       "      <td>...</td>\n",
       "      <td>...</td>\n",
       "      <td>...</td>\n",
       "      <td>...</td>\n",
       "      <td>...</td>\n",
       "      <td>...</td>\n",
       "    </tr>\n",
       "    <tr>\n",
       "      <th>387</th>\n",
       "      <td>2011</td>\n",
       "      <td>7814</td>\n",
       "      <td>6261</td>\n",
       "      <td>0</td>\n",
       "      <td>0.000000</td>\n",
       "      <td>0.000000</td>\n",
       "      <td>0.000000</td>\n",
       "      <td>0.000000</td>\n",
       "      <td>0.000000</td>\n",
       "      <td>0.000000</td>\n",
       "      <td>20</td>\n",
       "    </tr>\n",
       "    <tr>\n",
       "      <th>388</th>\n",
       "      <td>2012</td>\n",
       "      <td>7453</td>\n",
       "      <td>5934</td>\n",
       "      <td>0</td>\n",
       "      <td>0.000000</td>\n",
       "      <td>0.000000</td>\n",
       "      <td>0.000000</td>\n",
       "      <td>0.000000</td>\n",
       "      <td>0.000000</td>\n",
       "      <td>0.000000</td>\n",
       "      <td>20</td>\n",
       "    </tr>\n",
       "    <tr>\n",
       "      <th>389</th>\n",
       "      <td>2013</td>\n",
       "      <td>7314</td>\n",
       "      <td>5875</td>\n",
       "      <td>0</td>\n",
       "      <td>0.000000</td>\n",
       "      <td>0.000000</td>\n",
       "      <td>0.000000</td>\n",
       "      <td>0.000000</td>\n",
       "      <td>0.000000</td>\n",
       "      <td>0.000000</td>\n",
       "      <td>20</td>\n",
       "    </tr>\n",
       "    <tr>\n",
       "      <th>390</th>\n",
       "      <td>2014</td>\n",
       "      <td>7609</td>\n",
       "      <td>6050</td>\n",
       "      <td>1</td>\n",
       "      <td>0.000165</td>\n",
       "      <td>0.000131</td>\n",
       "      <td>0.000000</td>\n",
       "      <td>0.000000</td>\n",
       "      <td>0.000611</td>\n",
       "      <td>0.000496</td>\n",
       "      <td>20</td>\n",
       "    </tr>\n",
       "    <tr>\n",
       "      <th>391</th>\n",
       "      <td>2015</td>\n",
       "      <td>7794</td>\n",
       "      <td>6206</td>\n",
       "      <td>0</td>\n",
       "      <td>0.000000</td>\n",
       "      <td>0.000000</td>\n",
       "      <td>0.000000</td>\n",
       "      <td>0.000000</td>\n",
       "      <td>0.000000</td>\n",
       "      <td>0.000000</td>\n",
       "      <td>20</td>\n",
       "    </tr>\n",
       "  </tbody>\n",
       "</table>\n",
       "<p>392 rows × 11 columns</p>\n",
       "</div>"
      ],
      "text/plain": [
       "     current_year  num_of_mentee  num_of_mentee1  num_of_surviver  \\\n",
       "0            1960             97              63               30   \n",
       "1            1961            120              77               50   \n",
       "2            1962            114              59               34   \n",
       "3            1963            106              55               22   \n",
       "4            1964            143              84               45   \n",
       "..            ...            ...             ...              ...   \n",
       "387          2011           7814            6261                0   \n",
       "388          2012           7453            5934                0   \n",
       "389          2013           7314            5875                0   \n",
       "390          2014           7609            6050                1   \n",
       "391          2015           7794            6206                0   \n",
       "\n",
       "     survival_rate_all  survival_rate_all_0  survival_rate_75  \\\n",
       "0             0.476190             0.309278          0.181818   \n",
       "1             0.649351             0.416667          0.600000   \n",
       "2             0.576271             0.298246          0.357143   \n",
       "3             0.400000             0.207547          0.466667   \n",
       "4             0.535714             0.314685          0.500000   \n",
       "..                 ...                  ...               ...   \n",
       "387           0.000000             0.000000          0.000000   \n",
       "388           0.000000             0.000000          0.000000   \n",
       "389           0.000000             0.000000          0.000000   \n",
       "390           0.000165             0.000131          0.000000   \n",
       "391           0.000000             0.000000          0.000000   \n",
       "\n",
       "     survival_rate_75_0  survival_rate_25  survival_rate_25_0  drop_criteria  \n",
       "0              0.080000          0.476190            0.294118              5  \n",
       "1              0.352941          0.875000            0.500000              5  \n",
       "2              0.166667          0.666667            0.352941              5  \n",
       "3              0.218750          0.357143            0.178571              5  \n",
       "4              0.325581          0.363636            0.216216              5  \n",
       "..                  ...               ...                 ...            ...  \n",
       "387            0.000000          0.000000            0.000000             20  \n",
       "388            0.000000          0.000000            0.000000             20  \n",
       "389            0.000000          0.000000            0.000000             20  \n",
       "390            0.000000          0.000611            0.000496             20  \n",
       "391            0.000000          0.000000            0.000000             20  \n",
       "\n",
       "[392 rows x 11 columns]"
      ]
     },
     "execution_count": 111,
     "metadata": {},
     "output_type": "execute_result"
    }
   ],
   "source": [
    "Data"
   ]
  },
  {
   "cell_type": "markdown",
   "id": "3e455448-124a-4fd5-a3a5-bf1147436cf2",
   "metadata": {},
   "source": [
    "#### Plot"
   ]
  },
  {
   "cell_type": "markdown",
   "id": "9a3138a1-f342-412e-be3f-90e3e034fb1a",
   "metadata": {},
   "source": [
    "##### number of mentees and survivers"
   ]
  },
  {
   "cell_type": "code",
   "execution_count": 114,
   "id": "1eab7a86-4eb0-47b4-b393-dfe54059d013",
   "metadata": {
    "tags": []
   },
   "outputs": [
    {
     "data": {
      "image/png": "[encoded data removed]",
      "text/plain": [
       "<Figure size 400x309 with 1 Axes>"
      ]
     },
     "metadata": {},
     "output_type": "display_data"
    }
   ],
   "source": [
    "drop_criteria = 10\n",
    "df = Data[(Data.drop_criteria==drop_criteria)&(Data.current_year<=2009)&(Data.current_year>=1980)].sort_values(by='current_year')\n",
    "sns.set(style='ticks', font_scale=1.0, font='Arial')\n",
    "fig, ax = plt.subplots(constrained_layout=True,figsize=[1*4,0.618*5])\n",
    "\n",
    "ax.bar(df['current_year'],df['num_of_mentee1'],1,label='total mentees',color='darkgrey',alpha=1)\n",
    "ax.bar(df['current_year'],df['num_of_surviver'],1,label='survived mentees',color='lightgrey',alpha=1)\n",
    "ax.spines['right'].set_visible(False)\n",
    "ax.spines['top'].set_visible(False)\n",
    "ax.set_ylim([0,18500])\n",
    "ax.set_xlabel('Year')\n",
    "ax.set_ylabel('Count')\n",
    "ax.set_title('Physics')\n",
    "ax.legend(loc=2,edgecolor='white')\n",
    "ax.yaxis.set_major_locator(MultipleLocator(3000))\n",
    "ax.yaxis.set_minor_locator(MultipleLocator(1000))\n",
    "ax.set_xticks(ticks=np.arange(1980, 2015,5),labels=np.arange(1980, 2015,5),rotation=0)\n",
    "fig.savefig('number of mentee.pdf')"
   ]
  },
  {
   "cell_type": "code",
   "execution_count": 107,
   "id": "7412afd2-51ca-4eb1-92ea-6f6c1e096f8b",
   "metadata": {
    "tags": []
   },
   "outputs": [
    {
     "data": {
      "image/png": "[encoded data removed]",
      "text/plain": [
       "<Figure size 400x309 with 1 Axes>"
      ]
     },
     "metadata": {},
     "output_type": "display_data"
    }
   ],
   "source": [
    "Drop_Criteria = [5,8,10,13,15,18,20]\n",
    "\n",
    "\n",
    "# input parameter\n",
    "drop_criteria = 10\n",
    "\n",
    "df = Data[(Data.drop_criteria==drop_criteria)&(Data.current_year<=2009)&(Data.current_year>=1979)].sort_values(by='current_year')\n",
    "\n",
    "\n",
    "sns.set(style='ticks', font_scale=1.0, font='Arial')\n",
    "fig, ax = plt.subplots(constrained_layout=True,figsize=[1*4,0.618*5])\n",
    "\n",
    "# data\n",
    "x = list(df.current_year)\n",
    "y_small = [float(k) for k in list(df.survival_rate_25.rolling(2).mean())]\n",
    "y_all = [float(k) for k in list(df.survival_rate_all.rolling(2).mean())]\n",
    "y_big = [float(k) for k in list(df.survival_rate_75.rolling(2).mean())]\n",
    "\n",
    "# plot\n",
    "ax.plot(x, y_small, label=f'SmallGroup', marker='.',ms=3,lw=0.75)\n",
    "ax.plot(x, y_all, label=f'Overall', marker='.',color='grey',ms=3,lw=0.75)\n",
    "ax.plot(x, y_big, label=f'BigGroup', marker='.',ms=3,lw=0.75)\n",
    "\n",
    "# annotation set\n",
    "ax.legend(loc=2,frameon=0)\n",
    "ax.set(xlim=(x[0], 2009),#|xticks=np.arange(x[0]-1, x[-1]+5,5),\n",
    "       ylim=(0.3, 0.7),# yticks=np.arange(0.3, 0.71, 0.1),\n",
    "       xlabel='Year', \n",
    "       ylabel='Survival Rate',\n",
    "       title=f'Physics'\n",
    "      )\n",
    "ax.set_xticks(ticks=np.arange(1980, 2015,5),labels=np.arange(1980, 2015,5),rotation=0)\n",
    "ax.set_yticks(ticks=[0.3,0.4,0.5,0.6,0.7],labels=['30%','40%','50%','60%','70%'])\n",
    "# ax.axvline(x=2022-3-drop_criteria,ls='--',color='r',lw=0.75)\n",
    "ax.axvline(x=2000,ls='--',color='k',alpha=0.7,lw=0.75)\n",
    "\n",
    "ax.spines['top'].set_visible(False)\n",
    "ax.spines['right'].set_visible(False)\n",
    "# ax.spines['bottom'].set_visible(False)\n",
    "# ax.spines['left'].set_visible(False)\n",
    "\n",
    "# ax.xaxis.set_major_locator(MultipleLocator(5))\n",
    "# ax.xaxis.set_minor_locator(MultipleLocator(1))\n",
    "\n",
    "# ax.yaxis.set_major_locator(MultipleLocator(0.1))\n",
    "ax.yaxis.set_minor_locator(MultipleLocator(0.025))\n",
    "\n",
    "# ax.annotate('Accurate Line', xy=(2022-5-drop_criteria, 0.5), xytext=(2022-5-drop_criteria, 0.56),\n",
    "#             arrowprops=dict(facecolor='r', shrink=0.05,edgecolor='r'),fontsize=10)\n",
    "plt.show()\n",
    "fig.savefig('survival_rate.pdf')"
   ]
  },
  {
   "cell_type": "code",
   "execution_count": 53,
   "id": "ea01cb97-1ba2-43cc-9276-02e214cdd613",
   "metadata": {
    "tags": []
   },
   "outputs": [
    {
     "data": {
      "text/html": [
       "<div>\n",
       "<style scoped>\n",
       "    .dataframe tbody tr th:only-of-type {\n",
       "        vertical-align: middle;\n",
       "    }\n",
       "\n",
       "    .dataframe tbody tr th {\n",
       "        vertical-align: top;\n",
       "    }\n",
       "\n",
       "    .dataframe thead th {\n",
       "        text-align: right;\n",
       "    }\n",
       "</style>\n",
       "<table border=\"1\" class=\"dataframe\">\n",
       "  <thead>\n",
       "    <tr style=\"text-align: right;\">\n",
       "      <th></th>\n",
       "      <th>author_id</th>\n",
       "      <th>first_pub_year</th>\n",
       "      <th>career_len</th>\n",
       "      <th>average_group_size</th>\n",
       "    </tr>\n",
       "  </thead>\n",
       "  <tbody>\n",
       "    <tr>\n",
       "      <th>12</th>\n",
       "      <td>A1004092558</td>\n",
       "      <td>2005</td>\n",
       "      <td>16</td>\n",
       "      <td>18.833333</td>\n",
       "    </tr>\n",
       "    <tr>\n",
       "      <th>52</th>\n",
       "      <td>A101307155</td>\n",
       "      <td>2005</td>\n",
       "      <td>14</td>\n",
       "      <td>14.500000</td>\n",
       "    </tr>\n",
       "    <tr>\n",
       "      <th>54</th>\n",
       "      <td>A101383955</td>\n",
       "      <td>2005</td>\n",
       "      <td>17</td>\n",
       "      <td>16.625000</td>\n",
       "    </tr>\n",
       "    <tr>\n",
       "      <th>71</th>\n",
       "      <td>A1019669161</td>\n",
       "      <td>2005</td>\n",
       "      <td>16</td>\n",
       "      <td>22.250000</td>\n",
       "    </tr>\n",
       "    <tr>\n",
       "      <th>77</th>\n",
       "      <td>A1020757165</td>\n",
       "      <td>2005</td>\n",
       "      <td>6</td>\n",
       "      <td>11.833333</td>\n",
       "    </tr>\n",
       "    <tr>\n",
       "      <th>...</th>\n",
       "      <td>...</td>\n",
       "      <td>...</td>\n",
       "      <td>...</td>\n",
       "      <td>...</td>\n",
       "    </tr>\n",
       "    <tr>\n",
       "      <th>254140</th>\n",
       "      <td>A9873716</td>\n",
       "      <td>2005</td>\n",
       "      <td>6</td>\n",
       "      <td>75.363636</td>\n",
       "    </tr>\n",
       "    <tr>\n",
       "      <th>254154</th>\n",
       "      <td>A99165078</td>\n",
       "      <td>2005</td>\n",
       "      <td>17</td>\n",
       "      <td>44.888889</td>\n",
       "    </tr>\n",
       "    <tr>\n",
       "      <th>254168</th>\n",
       "      <td>A995841352</td>\n",
       "      <td>2005</td>\n",
       "      <td>3</td>\n",
       "      <td>17.800000</td>\n",
       "    </tr>\n",
       "    <tr>\n",
       "      <th>254176</th>\n",
       "      <td>A997262877</td>\n",
       "      <td>2005</td>\n",
       "      <td>2</td>\n",
       "      <td>24.166667</td>\n",
       "    </tr>\n",
       "    <tr>\n",
       "      <th>254183</th>\n",
       "      <td>A99993189</td>\n",
       "      <td>2005</td>\n",
       "      <td>10</td>\n",
       "      <td>6.500000</td>\n",
       "    </tr>\n",
       "  </tbody>\n",
       "</table>\n",
       "<p>8801 rows × 4 columns</p>\n",
       "</div>"
      ],
      "text/plain": [
       "          author_id  first_pub_year  career_len  average_group_size\n",
       "12      A1004092558            2005          16           18.833333\n",
       "52       A101307155            2005          14           14.500000\n",
       "54       A101383955            2005          17           16.625000\n",
       "71      A1019669161            2005          16           22.250000\n",
       "77      A1020757165            2005           6           11.833333\n",
       "...             ...             ...         ...                 ...\n",
       "254140     A9873716            2005           6           75.363636\n",
       "254154    A99165078            2005          17           44.888889\n",
       "254168   A995841352            2005           3           17.800000\n",
       "254176   A997262877            2005           2           24.166667\n",
       "254183    A99993189            2005          10            6.500000\n",
       "\n",
       "[8801 rows x 4 columns]"
      ]
     },
     "execution_count": 53,
     "metadata": {},
     "output_type": "execute_result"
    }
   ],
   "source": [
    "year_i = 2005\n",
    "data_i = average_group_size[average_group_size.first_pub_year==year_i]\n",
    "data_i"
   ]
  },
  {
   "cell_type": "code",
   "execution_count": 54,
   "id": "1b7a669e-2cee-4edb-bbf4-2a9a1f8353a6",
   "metadata": {
    "tags": []
   },
   "outputs": [
    {
     "name": "stdout",
     "output_type": "stream",
     "text": [
      "(Q75, Q50, Q25, Q10) :  (28.76923076923077, 16.428571428571427, 8.285714285714286, 4.25)\n"
     ]
    }
   ],
   "source": [
    "Q75 = np.quantile(data_i['average_group_size'],0.75)\n",
    "Q50 = np.quantile(data_i['average_group_size'],0.50)\n",
    "Q25 = np.quantile(data_i['average_group_size'],0.25)\n",
    "Q10 = np.quantile(data_i['average_group_size'],0.10)\n",
    "print('(Q75, Q50, Q25, Q10) : ',(Q75,Q50,Q25,Q10))"
   ]
  },
  {
   "cell_type": "code",
   "execution_count": 55,
   "id": "10912736-40be-4cfa-9644-bfb5843a9dfc",
   "metadata": {
    "tags": []
   },
   "outputs": [
    {
     "name": "stdout",
     "output_type": "stream",
     "text": [
      "survival_rate_75,survival_rate_75_0 :  0.587709497206704 0.47796456156292594\n",
      "survival_rate_25,survival_rate_25_0 :  0.5839335180055402 0.4788732394366197\n"
     ]
    }
   ],
   "source": [
    "drop_criteria = 10\n",
    "G75 = data_i[data_i.average_group_size>=Q75]\n",
    "# G75\n",
    "survial_75 = G75[G75.career_len>=drop_criteria]\n",
    "survival_rate_75 = len(survial_75)/len(G75[G75.career_len>0])\n",
    "survival_rate_75_0 = len(survial_75)/len(G75)\n",
    "print('survival_rate_75,survival_rate_75_0 : ',survival_rate_75,survival_rate_75_0)\n",
    "\n",
    "G25 = data_i[data_i.average_group_size<=Q25]\n",
    "# print('len_G25 : ',len(G25))\n",
    "survial_25 = G25[G25.career_len>=drop_criteria]\n",
    "# print('len_survival_25 : ',len(survial_25))\n",
    "survival_rate_25 = len(survial_25)/len(G25[G25.career_len>0])\n",
    "survival_rate_25_0 = len(survial_25)/len(G25)\n",
    "print('survival_rate_25,survival_rate_25_0 : ',survival_rate_25,survival_rate_25_0)"
   ]
  },
  {
   "cell_type": "code",
   "execution_count": null,
   "id": "07eb1483-1c43-4f6c-a780-8d91725bc8bc",
   "metadata": {},
   "outputs": [],
   "source": []
  },
  {
   "cell_type": "markdown",
   "id": "e35beed6-2bd4-4b87-935e-feef2cd80fde",
   "metadata": {},
   "source": [
    "##### Case Study"
   ]
  },
  {
   "cell_type": "code",
   "execution_count": 118,
   "id": "ffb454c7-bd93-43d0-8b12-ec61a2b4dd71",
   "metadata": {
    "tags": []
   },
   "outputs": [
    {
     "name": "stdout",
     "output_type": "stream",
     "text": [
      "A2330391704 A2246089616 2012\n"
     ]
    },
    {
     "data": {
      "text/html": [
       "<div>\n",
       "<style scoped>\n",
       "    .dataframe tbody tr th:only-of-type {\n",
       "        vertical-align: middle;\n",
       "    }\n",
       "\n",
       "    .dataframe tbody tr th {\n",
       "        vertical-align: top;\n",
       "    }\n",
       "\n",
       "    .dataframe thead th {\n",
       "        text-align: right;\n",
       "    }\n",
       "</style>\n",
       "<table border=\"1\" class=\"dataframe\">\n",
       "  <thead>\n",
       "    <tr style=\"text-align: right;\">\n",
       "      <th></th>\n",
       "      <th>author_id</th>\n",
       "      <th>mentor_id</th>\n",
       "      <th>first_pub_year</th>\n",
       "      <th>career_len</th>\n",
       "      <th>current_year</th>\n",
       "      <th>current_scientific_age</th>\n",
       "      <th>group_size</th>\n",
       "    </tr>\n",
       "  </thead>\n",
       "  <tbody>\n",
       "    <tr>\n",
       "      <th>2638878</th>\n",
       "      <td>A2330391704</td>\n",
       "      <td>A2246089616</td>\n",
       "      <td>2012</td>\n",
       "      <td>1</td>\n",
       "      <td>2014</td>\n",
       "      <td>2</td>\n",
       "      <td>4</td>\n",
       "    </tr>\n",
       "    <tr>\n",
       "      <th>2638884</th>\n",
       "      <td>A2330391704</td>\n",
       "      <td>A2246089616</td>\n",
       "      <td>2012</td>\n",
       "      <td>1</td>\n",
       "      <td>2015</td>\n",
       "      <td>3</td>\n",
       "      <td>10</td>\n",
       "    </tr>\n",
       "    <tr>\n",
       "      <th>2638903</th>\n",
       "      <td>A2330391704</td>\n",
       "      <td>A2246089616</td>\n",
       "      <td>2012</td>\n",
       "      <td>1</td>\n",
       "      <td>2016</td>\n",
       "      <td>4</td>\n",
       "      <td>11</td>\n",
       "    </tr>\n",
       "    <tr>\n",
       "      <th>2638930</th>\n",
       "      <td>A2330391704</td>\n",
       "      <td>A2246089616</td>\n",
       "      <td>2012</td>\n",
       "      <td>1</td>\n",
       "      <td>2017</td>\n",
       "      <td>5</td>\n",
       "      <td>13</td>\n",
       "    </tr>\n",
       "  </tbody>\n",
       "</table>\n",
       "</div>"
      ],
      "text/plain": [
       "           author_id    mentor_id  first_pub_year  career_len  current_year  \\\n",
       "2638878  A2330391704  A2246089616            2012           1          2014   \n",
       "2638884  A2330391704  A2246089616            2012           1          2015   \n",
       "2638903  A2330391704  A2246089616            2012           1          2016   \n",
       "2638930  A2330391704  A2246089616            2012           1          2017   \n",
       "\n",
       "         current_scientific_age  group_size  \n",
       "2638878                       2           4  \n",
       "2638884                       3          10  \n",
       "2638903                       4          11  \n",
       "2638930                       5          13  "
      ]
     },
     "execution_count": 118,
     "metadata": {},
     "output_type": "execute_result"
    }
   ],
   "source": [
    "i = random.sample(range(0,len(mentee)),1)[0]\n",
    "mentee_i = mentee[i]\n",
    "\n",
    "\n",
    "tp = group_info[['author_id','mentor_id','first_pub_year','career_len','current_year','current_scientific_age','group_size']][group_info.author_id==mentee_i].drop_duplicates()\n",
    "mentor_i = tp['mentor_id'].tolist()[0]\n",
    "first_pub_year_i = tp['first_pub_year'].tolist()[0]\n",
    "print(mentee_i,mentor_i,first_pub_year_i)\n",
    "tp"
   ]
  },
  {
   "cell_type": "code",
   "execution_count": 90,
   "id": "8a3e30fd-d02f-4f12-b741-e9973737a64e",
   "metadata": {
    "tags": []
   },
   "outputs": [
    {
     "data": {
      "text/html": [
       "<div>\n",
       "<style scoped>\n",
       "    .dataframe tbody tr th:only-of-type {\n",
       "        vertical-align: middle;\n",
       "    }\n",
       "\n",
       "    .dataframe tbody tr th {\n",
       "        vertical-align: top;\n",
       "    }\n",
       "\n",
       "    .dataframe thead th {\n",
       "        text-align: right;\n",
       "    }\n",
       "</style>\n",
       "<table border=\"1\" class=\"dataframe\">\n",
       "  <thead>\n",
       "    <tr style=\"text-align: right;\">\n",
       "      <th></th>\n",
       "      <th>author_id</th>\n",
       "      <th>first_pub_year</th>\n",
       "      <th>career_len</th>\n",
       "      <th>publication_year</th>\n",
       "      <th>current_year</th>\n",
       "      <th>current_scientific_age</th>\n",
       "      <th>group_size</th>\n",
       "    </tr>\n",
       "  </thead>\n",
       "  <tbody>\n",
       "    <tr>\n",
       "      <th>355571</th>\n",
       "      <td>A2015258572</td>\n",
       "      <td>1976</td>\n",
       "      <td>45</td>\n",
       "      <td>1977</td>\n",
       "      <td>1982</td>\n",
       "      <td>6</td>\n",
       "      <td>12</td>\n",
       "    </tr>\n",
       "    <tr>\n",
       "      <th>355572</th>\n",
       "      <td>A2099017348</td>\n",
       "      <td>1976</td>\n",
       "      <td>46</td>\n",
       "      <td>1977</td>\n",
       "      <td>1982</td>\n",
       "      <td>6</td>\n",
       "      <td>12</td>\n",
       "    </tr>\n",
       "    <tr>\n",
       "      <th>355573</th>\n",
       "      <td>A2420314315</td>\n",
       "      <td>1974</td>\n",
       "      <td>48</td>\n",
       "      <td>1977</td>\n",
       "      <td>1982</td>\n",
       "      <td>8</td>\n",
       "      <td>12</td>\n",
       "    </tr>\n",
       "    <tr>\n",
       "      <th>355574</th>\n",
       "      <td>A3100648638</td>\n",
       "      <td>1975</td>\n",
       "      <td>45</td>\n",
       "      <td>1977</td>\n",
       "      <td>1982</td>\n",
       "      <td>7</td>\n",
       "      <td>12</td>\n",
       "    </tr>\n",
       "    <tr>\n",
       "      <th>355575</th>\n",
       "      <td>A2688081795</td>\n",
       "      <td>1973</td>\n",
       "      <td>11</td>\n",
       "      <td>1977</td>\n",
       "      <td>1982</td>\n",
       "      <td>9</td>\n",
       "      <td>12</td>\n",
       "    </tr>\n",
       "    <tr>\n",
       "      <th>355576</th>\n",
       "      <td>A3176708939</td>\n",
       "      <td>1976</td>\n",
       "      <td>2</td>\n",
       "      <td>1977</td>\n",
       "      <td>1982</td>\n",
       "      <td>6</td>\n",
       "      <td>12</td>\n",
       "    </tr>\n",
       "    <tr>\n",
       "      <th>355581</th>\n",
       "      <td>A682443092</td>\n",
       "      <td>1976</td>\n",
       "      <td>8</td>\n",
       "      <td>1977</td>\n",
       "      <td>1982</td>\n",
       "      <td>6</td>\n",
       "      <td>12</td>\n",
       "    </tr>\n",
       "    <tr>\n",
       "      <th>355582</th>\n",
       "      <td>A279689453</td>\n",
       "      <td>1977</td>\n",
       "      <td>0</td>\n",
       "      <td>1977</td>\n",
       "      <td>1982</td>\n",
       "      <td>5</td>\n",
       "      <td>12</td>\n",
       "    </tr>\n",
       "    <tr>\n",
       "      <th>355584</th>\n",
       "      <td>A1659926710</td>\n",
       "      <td>1974</td>\n",
       "      <td>3</td>\n",
       "      <td>1977</td>\n",
       "      <td>1982</td>\n",
       "      <td>8</td>\n",
       "      <td>12</td>\n",
       "    </tr>\n",
       "    <tr>\n",
       "      <th>355585</th>\n",
       "      <td>A3100648638</td>\n",
       "      <td>1975</td>\n",
       "      <td>45</td>\n",
       "      <td>1978</td>\n",
       "      <td>1982</td>\n",
       "      <td>7</td>\n",
       "      <td>12</td>\n",
       "    </tr>\n",
       "    <tr>\n",
       "      <th>355586</th>\n",
       "      <td>A3176708939</td>\n",
       "      <td>1976</td>\n",
       "      <td>2</td>\n",
       "      <td>1978</td>\n",
       "      <td>1982</td>\n",
       "      <td>6</td>\n",
       "      <td>12</td>\n",
       "    </tr>\n",
       "    <tr>\n",
       "      <th>355587</th>\n",
       "      <td>A2688081795</td>\n",
       "      <td>1973</td>\n",
       "      <td>11</td>\n",
       "      <td>1978</td>\n",
       "      <td>1982</td>\n",
       "      <td>9</td>\n",
       "      <td>12</td>\n",
       "    </tr>\n",
       "    <tr>\n",
       "      <th>355588</th>\n",
       "      <td>A3163427302</td>\n",
       "      <td>1972</td>\n",
       "      <td>50</td>\n",
       "      <td>1978</td>\n",
       "      <td>1982</td>\n",
       "      <td>10</td>\n",
       "      <td>12</td>\n",
       "    </tr>\n",
       "    <tr>\n",
       "      <th>355589</th>\n",
       "      <td>A1992983214</td>\n",
       "      <td>1972</td>\n",
       "      <td>48</td>\n",
       "      <td>1978</td>\n",
       "      <td>1982</td>\n",
       "      <td>10</td>\n",
       "      <td>12</td>\n",
       "    </tr>\n",
       "    <tr>\n",
       "      <th>355590</th>\n",
       "      <td>A2150381119</td>\n",
       "      <td>1977</td>\n",
       "      <td>7</td>\n",
       "      <td>1978</td>\n",
       "      <td>1982</td>\n",
       "      <td>5</td>\n",
       "      <td>12</td>\n",
       "    </tr>\n",
       "  </tbody>\n",
       "</table>\n",
       "</div>"
      ],
      "text/plain": [
       "          author_id  first_pub_year  career_len  publication_year  \\\n",
       "355571  A2015258572            1976          45              1977   \n",
       "355572  A2099017348            1976          46              1977   \n",
       "355573  A2420314315            1974          48              1977   \n",
       "355574  A3100648638            1975          45              1977   \n",
       "355575  A2688081795            1973          11              1977   \n",
       "355576  A3176708939            1976           2              1977   \n",
       "355581   A682443092            1976           8              1977   \n",
       "355582   A279689453            1977           0              1977   \n",
       "355584  A1659926710            1974           3              1977   \n",
       "355585  A3100648638            1975          45              1978   \n",
       "355586  A3176708939            1976           2              1978   \n",
       "355587  A2688081795            1973          11              1978   \n",
       "355588  A3163427302            1972          50              1978   \n",
       "355589  A1992983214            1972          48              1978   \n",
       "355590  A2150381119            1977           7              1978   \n",
       "\n",
       "        current_year  current_scientific_age  group_size  \n",
       "355571          1982                       6          12  \n",
       "355572          1982                       6          12  \n",
       "355573          1982                       8          12  \n",
       "355574          1982                       7          12  \n",
       "355575          1982                       9          12  \n",
       "355576          1982                       6          12  \n",
       "355581          1982                       6          12  \n",
       "355582          1982                       5          12  \n",
       "355584          1982                       8          12  \n",
       "355585          1982                       7          12  \n",
       "355586          1982                       6          12  \n",
       "355587          1982                       9          12  \n",
       "355588          1982                      10          12  \n",
       "355589          1982                      10          12  \n",
       "355590          1982                       5          12  "
      ]
     },
     "execution_count": 90,
     "metadata": {},
     "output_type": "execute_result"
    }
   ],
   "source": [
    "group_info[['author_id','first_pub_year','career_len','publication_year','current_year','current_scientific_age','group_size']][(group_info.mentor_id==mentor_i)&(group_info.current_year==first_pub_year_i)].drop_duplicates()"
   ]
  },
  {
   "cell_type": "markdown",
   "id": "24bfd56b-f01c-48d2-8636-6f391fae1a93",
   "metadata": {
    "tags": []
   },
   "source": [
    "##### filter 1: mentor_scientific_age > 5"
   ]
  },
  {
   "cell_type": "code",
   "execution_count": 37,
   "id": "60759192-c71e-4237-97b0-0cbb86e2c880",
   "metadata": {
    "tags": []
   },
   "outputs": [
    {
     "data": {
      "text/plain": [
       "3626500"
      ]
     },
     "execution_count": 37,
     "metadata": {},
     "output_type": "execute_result"
    }
   ],
   "source": [
    "# group_info = group_info[group_info.mentor_scientific_age>10]\n",
    "# len(group_info)"
   ]
  },
  {
   "cell_type": "markdown",
   "id": "d1626f6c-e563-4cc0-ac1d-0a8b145a7e89",
   "metadata": {
    "jp-MarkdownHeadingCollapsed": true,
    "tags": []
   },
   "source": [
    "##### supplementary plot"
   ]
  },
  {
   "cell_type": "code",
   "execution_count": 36,
   "id": "55a89f7b-2900-4a36-9300-2dce7475d0d6",
   "metadata": {
    "tags": []
   },
   "outputs": [
    {
     "data": {
      "text/plain": [
       "<matplotlib.legend.Legend at 0x287cabfd0>"
      ]
     },
     "execution_count": 36,
     "metadata": {},
     "output_type": "execute_result"
    },
    {
     "data": {
      "image/png": "[encoded data removed]",
      "text/plain": [
       "<Figure size 500x309 with 1 Axes>"
      ]
     },
     "metadata": {},
     "output_type": "display_data"
    }
   ],
   "source": [
    "ratio_institution = group_info[['work_id','ratio_institution']].drop_duplicates()\n",
    "\n",
    "# display preset\n",
    "sns.set(style='ticks', font_scale=1.0, font='Arial')\n",
    "\n",
    "fig, ax = plt.subplots(constrained_layout=True,figsize=[1*5,0.618*5])\n",
    "\n",
    "# plot\n",
    "# sns.histplot(data=ratio_institution, x=\"ratio_institution\",stat='proportion', #cumulative=1,\n",
    "#              ax=ax,label='pdf plot')\n",
    "\n",
    "sns.ecdfplot(data=ratio_institution, x=\"ratio_institution\",stat='proportion',complementary=0,\n",
    "             ax=ax,label='cdf plot')\n",
    "plt.legend()"
   ]
  },
  {
   "cell_type": "markdown",
   "id": "90b843b6-baac-4934-8867-e3d4a2d190cb",
   "metadata": {},
   "source": [
    "##### done"
   ]
  },
  {
   "cell_type": "code",
   "execution_count": null,
   "id": "6ffb9e8b-ad54-4948-afa2-0fb2f5f72d25",
   "metadata": {},
   "outputs": [],
   "source": [
    "def survial_rate(data,current_year,drop_criteria,mentor_scientific_age):\n",
    "    group_info_data = data\n",
    "    \n",
    "    group_info_2000 = group_info_data[['author_id','group_size','career_len','mentor_id']][(group_info_data.current_year==current_year)\n",
    "                            &(group_info_data.mentor_scientific_age>=mentor_scientific_age)].drop_duplicates()\n",
    "    \n",
    "    # if a mentee works with two mentor, we use the average group size of two mentor as the mentee's group size\n",
    "    group_info_2000 = group_info_2000.groupby(['author_id','career_len'])['group_size'].agg('mean').reset_index(name='group_size')\n",
    "    \n",
    "    num_of_mentee = len(group_info_2000)\n",
    "    survial_all = group_info_2000[group_info_2000.career_len>drop_criteria]\n",
    "    \n",
    "    # print(len(group_info_2000))\n",
    "    Q75 = np.quantile(group_info_2000['group_size'],0.75)\n",
    "    Q25 = np.quantile(group_info_2000['group_size'],0.25)\n",
    "    \n",
    "    G75 = group_info_2000[group_info_2000.group_size>=Q75]\n",
    "    # print('len_G75 : ',len(G75))\n",
    "    survial_75 = G75[G75.career_len>drop_criteria]\n",
    "    # print('len_survival_75 : ',len(survial_75))\n",
    "    survival_rate_75 = len(survial_75)/len(G75)\n",
    "    # print('survival_rate_75 : ',survival_rate_75)\n",
    "    \n",
    "    G25 = group_info_2000[group_info_2000.group_size<=Q25]\n",
    "    # print('len_G25 : ',len(G25))\n",
    "    survial_25 = G25[G25.career_len>drop_criteria]\n",
    "    # print('len_survival_25 : ',len(survial_25))\n",
    "    survival_rate_25 = len(survial_25)/len(G25)\n",
    "    # print('survival_rate_25 : ',survival_rate_25)\n",
    "    \n",
    "    return num_of_mentee,survival_rate_75,survival_rate_25"
   ]
  }
 ],
 "metadata": {
  "kernelspec": {
   "display_name": "myenv",
   "language": "python",
   "name": "myenv"
  },
  "language_info": {
   "codemirror_mode": {
    "name": "ipython",
    "version": 3
   },
   "file_extension": ".py",
   "mimetype": "text/x-python",
   "name": "python",
   "nbconvert_exporter": "python",
   "pygments_lexer": "ipython3",
   "version": "3.11.3"
  }
 },
 "nbformat": 4,
 "nbformat_minor": 5
}
