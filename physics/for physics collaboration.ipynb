{
 "cells": [
  {
   "cell_type": "code",
   "execution_count": 1,
   "id": "3833646f",
   "metadata": {},
   "outputs": [],
   "source": [
    "import pandas as pd\n",
    "import numpy as np\n",
    "import csv\n",
    "import pickle\n",
    "from collections import Counter\n",
    "import matplotlib.pyplot as plt\n",
    "import powerlaw,math\n",
    "import os\n",
    "import scipy.stats as stats\n",
    "import random\n",
    "from numpy import polyfit, poly1d"
   ]
  },
  {
   "cell_type": "code",
   "execution_count": 2,
   "id": "d2e4694a",
   "metadata": {},
   "outputs": [
    {
     "name": "stdout",
     "output_type": "stream",
     "text": [
      ".DS_Store\n",
      "22500\n"
     ]
    }
   ],
   "source": [
    "files = os.listdir('physics pubs')\n",
    "TP = {}\n",
    "for k in files:\n",
    "    try:\n",
    "        with open('physics pubs/'+k,'rb')as f:\n",
    "            tp = pickle.load(f)\n",
    "        for i in tp:\n",
    "            TP[i] = tp[i]\n",
    "    except:\n",
    "        print(k)\n",
    "pub_chemistry0 = TP\n",
    "print(len(pub_chemistry0))"
   ]
  },
  {
   "cell_type": "code",
   "execution_count": 3,
   "id": "5021b84c",
   "metadata": {},
   "outputs": [],
   "source": [
    "#将生涯长度为0的做调整\n",
    "pub_chemistry = {}\n",
    "empty=[]\n",
    "nopa = []\n",
    "for k in pub_chemistry0:\n",
    "    tp = pub_chemistry0[k]\n",
    "    if len(tp)>0:\n",
    "        cl = tp[2]\n",
    "        if cl==1:\n",
    "            empty.append(k)\n",
    "            tp[3] = tp[0]  # 0总发文量\n",
    "            tp[6] = tp[5]  # 5总引用\n",
    "            tp[9] = tp[8]  # 8总合作者数\n",
    "        else:\n",
    "            tp = tp\n",
    "    else:\n",
    "        nopa.append(k)\n",
    "        tp = tp\n",
    "    pub_chemistry[k] = tp"
   ]
  },
  {
   "cell_type": "code",
   "execution_count": 4,
   "id": "a7a80147",
   "metadata": {},
   "outputs": [],
   "source": [
    "colla = {}\n",
    "for k in pub_chemistry:\n",
    "    try:\n",
    "        colla[k] = pub_chemistry[k][-1]\n",
    "    except:\n",
    "        a = 'nt'"
   ]
  },
  {
   "cell_type": "code",
   "execution_count": 5,
   "id": "511bdec1",
   "metadata": {},
   "outputs": [
    {
     "name": "stdout",
     "output_type": "stream",
     "text": [
      "15722\n"
     ]
    }
   ],
   "source": [
    "print(len(colla))"
   ]
  },
  {
   "cell_type": "code",
   "execution_count": 26,
   "id": "7cb42584",
   "metadata": {},
   "outputs": [],
   "source": [
    "# colla"
   ]
  },
  {
   "cell_type": "code",
   "execution_count": 6,
   "id": "3ea634bd",
   "metadata": {},
   "outputs": [],
   "source": [
    "mto_mte_colla = []\n",
    "for k in colla:\n",
    "    tp = colla[k]\n",
    "    if len(tp)>0:\n",
    "        temp = []\n",
    "        for k1 in tp:\n",
    "            temp = [k,tp[k1][0],k1,tp[k1][1]]\n",
    "            mto_mte_colla.append(temp)\n",
    "    else:\n",
    "        a = 'nt'"
   ]
  },
  {
   "cell_type": "code",
   "execution_count": 7,
   "id": "6f31286b",
   "metadata": {},
   "outputs": [
    {
     "data": {
      "text/plain": [
       "38203"
      ]
     },
     "execution_count": 7,
     "metadata": {},
     "output_type": "execute_result"
    }
   ],
   "source": [
    "len(mto_mte_colla)"
   ]
  },
  {
   "cell_type": "code",
   "execution_count": 8,
   "id": "4a89e36f",
   "metadata": {},
   "outputs": [],
   "source": [
    "mto_mte_colla_df = pd.DataFrame(mto_mte_colla,columns=['Mentor','PubsOfMentorInTraning','Mentee','CollaPubsOfWithMentor'])"
   ]
  },
  {
   "cell_type": "code",
   "execution_count": 9,
   "id": "c834f604",
   "metadata": {},
   "outputs": [
    {
     "data": {
      "text/html": [
       "<div>\n",
       "<style scoped>\n",
       "    .dataframe tbody tr th:only-of-type {\n",
       "        vertical-align: middle;\n",
       "    }\n",
       "\n",
       "    .dataframe tbody tr th {\n",
       "        vertical-align: top;\n",
       "    }\n",
       "\n",
       "    .dataframe thead th {\n",
       "        text-align: right;\n",
       "    }\n",
       "</style>\n",
       "<table border=\"1\" class=\"dataframe\">\n",
       "  <thead>\n",
       "    <tr style=\"text-align: right;\">\n",
       "      <th></th>\n",
       "      <th>Mentor</th>\n",
       "      <th>PubsOfMentorInTraning</th>\n",
       "      <th>Mentee</th>\n",
       "      <th>CollaPubsOfWithMentor</th>\n",
       "    </tr>\n",
       "  </thead>\n",
       "  <tbody>\n",
       "    <tr>\n",
       "      <th>0</th>\n",
       "      <td>715714</td>\n",
       "      <td>24</td>\n",
       "      <td>717033</td>\n",
       "      <td>0</td>\n",
       "    </tr>\n",
       "  </tbody>\n",
       "</table>\n",
       "</div>"
      ],
      "text/plain": [
       "   Mentor  PubsOfMentorInTraning  Mentee  CollaPubsOfWithMentor\n",
       "0  715714                     24  717033                      0"
      ]
     },
     "execution_count": 9,
     "metadata": {},
     "output_type": "execute_result"
    }
   ],
   "source": [
    "mto_mte_colla_df.head(1)"
   ]
  },
  {
   "cell_type": "code",
   "execution_count": 10,
   "id": "20e73696",
   "metadata": {},
   "outputs": [],
   "source": [
    "mto_mte_colla_df.to_csv('physics_colla_info.csv',index=0)"
   ]
  },
  {
   "cell_type": "code",
   "execution_count": 28,
   "id": "41058762",
   "metadata": {},
   "outputs": [],
   "source": [
    "neuro = pd.read_csv('physics_1224.csv')"
   ]
  },
  {
   "cell_type": "code",
   "execution_count": 32,
   "id": "1da31051",
   "metadata": {},
   "outputs": [],
   "source": [
    "MTO = np.array(neuro.MentorID)\n",
    "# 在进行退出率的相关计算时，以所有的学生数为参考\n",
    "TP = []\n",
    "for k in neuro.MenteeID:\n",
    "    if k in MTO:\n",
    "        TP.append(1)\n",
    "    else:\n",
    "        TP.append(0)\n",
    "neuro['Survival0'] = TP              \n",
    "# neuro = neuro[neuro.StopYear<2000]"
   ]
  },
  {
   "cell_type": "code",
   "execution_count": 33,
   "id": "7f56bffd",
   "metadata": {},
   "outputs": [
    {
     "data": {
      "text/plain": [
       "Index(['Unnamed: 0', 'Unnamed: 0.1', 'CID', 'MenteeID', 'MentorID',\n",
       "       'MentorshipType', 'Institution', 'InstitutionMAGID', 'StartYear',\n",
       "       'StopYear', 'NumOfMenteesOfTheMentor', 'NumOfMenteesOfTheMentor10',\n",
       "       'NumOfMenteesOfTheMenteeIn20', 'BigOrSmall', 'Survival0'],\n",
       "      dtype='object')"
      ]
     },
     "execution_count": 33,
     "metadata": {},
     "output_type": "execute_result"
    }
   ],
   "source": [
    "neuro.columns"
   ]
  },
  {
   "cell_type": "code",
   "execution_count": 41,
   "id": "e8c98edf",
   "metadata": {},
   "outputs": [],
   "source": [
    "neuro_19601995 = neuro[(neuro['StopYear']>=1960)&(neuro['StopYear']<=1995)]\n",
    "BigGroup = neuro_19601995.MenteeID[neuro_19601995.BigOrSmall==1]\n",
    "SmallGroup = neuro_19601995.MenteeID[neuro_19601995.BigOrSmall==0]\n",
    "Survival_Mentee = neuro_19601995.MenteeID[neuro_19601995.Survival0==1]\n",
    "Dropout_Mentee = neuro_19601995.MenteeID[neuro_19601995.Survival0==0]"
   ]
  },
  {
   "cell_type": "code",
   "execution_count": 42,
   "id": "02b032e3",
   "metadata": {},
   "outputs": [],
   "source": [
    "tp_sv = mto_mte_colla_df.CollaPubsOfWithMentor[mto_mte_colla_df.Mentee.isin(Survival_Mentee)]\n",
    "tp_dp = mto_mte_colla_df.CollaPubsOfWithMentor[mto_mte_colla_df.Mentee.isin(Dropout_Mentee)]"
   ]
  },
  {
   "cell_type": "code",
   "execution_count": 45,
   "id": "ae68b999",
   "metadata": {},
   "outputs": [
    {
     "name": "stdout",
     "output_type": "stream",
     "text": [
      "1.0\n",
      "0.0\n"
     ]
    }
   ],
   "source": [
    "print(np.median(tp_sv))\n",
    "print(np.median(tp_dp))"
   ]
  },
  {
   "cell_type": "code",
   "execution_count": 48,
   "id": "eb88e2c9",
   "metadata": {},
   "outputs": [
    {
     "data": {
      "text/plain": [
       "<matplotlib.legend.Legend at 0x7fdfc1182ac0>"
      ]
     },
     "execution_count": 48,
     "metadata": {},
     "output_type": "execute_result"
    },
    {
     "data": {
      "image/png": "[encoded data removed]",
      "text/plain": [
       "<Figure size 432x288 with 1 Axes>"
      ]
     },
     "metadata": {
      "needs_background": "light"
     },
     "output_type": "display_data"
    }
   ],
   "source": [
    "plt.hist(tp_sv,label='Survival mentee',range=[0,40],bins=20,density=1)\n",
    "plt.hist(tp_dp,label='Dropout mentee',range=[0,40],bins=20,density=1,alpha=0.6)\n",
    "plt.legend()"
   ]
  },
  {
   "cell_type": "code",
   "execution_count": 51,
   "id": "257cf240",
   "metadata": {},
   "outputs": [
    {
     "name": "stdout",
     "output_type": "stream",
     "text": [
      "1.0\n",
      "0.0\n"
     ]
    },
    {
     "data": {
      "text/plain": [
       "<matplotlib.legend.Legend at 0x7fdfc12a6040>"
      ]
     },
     "execution_count": 51,
     "metadata": {},
     "output_type": "execute_result"
    },
    {
     "data": {
      "image/png": "[encoded data removed]",
      "text/plain": [
       "<Figure size 432x288 with 1 Axes>"
      ]
     },
     "metadata": {
      "needs_background": "light"
     },
     "output_type": "display_data"
    }
   ],
   "source": [
    "tp_sv_big = mto_mte_colla_df.CollaPubsOfWithMentor[(mto_mte_colla_df.Mentee.isin(Survival_Mentee))\n",
    "                                              &(mto_mte_colla_df.Mentee.isin(BigGroup))]\n",
    "tp_dp_big = mto_mte_colla_df.CollaPubsOfWithMentor[(mto_mte_colla_df.Mentee.isin(Dropout_Mentee))\n",
    "                                              &(mto_mte_colla_df.Mentee.isin(BigGroup))]\n",
    "print(np.median(tp_sv_big))\n",
    "print(np.median(tp_dp_big))\n",
    "plt.hist(tp_sv_big,label='Survival mentee',range=[0,40],bins=20,density=1)\n",
    "plt.hist(tp_dp_big,label='Dropout mentee',range=[0,40],bins=20,density=1,alpha=0.6)\n",
    "plt.legend()"
   ]
  },
  {
   "cell_type": "code",
   "execution_count": 75,
   "id": "5e67d6fc",
   "metadata": {},
   "outputs": [
    {
     "name": "stdout",
     "output_type": "stream",
     "text": [
      "非参数检验结果： MannwhitneyuResult(statistic=9174979.5, pvalue=3.2052994080290234e-23)\n"
     ]
    },
    {
     "data": {
      "image/png": "[encoded data removed]",
      "text/plain": [
       "<Figure size 432x288 with 1 Axes>"
      ]
     },
     "metadata": {
      "needs_background": "light"
     },
     "output_type": "display_data"
    }
   ],
   "source": [
    "tp_sv_big = mto_mte_colla_df.CollaPubsOfWithMentor[(mto_mte_colla_df.Mentee.isin(Survival_Mentee))\n",
    "                                              &(mto_mte_colla_df.Mentee.isin(BigGroup))]\n",
    "tp_dp_big = mto_mte_colla_df.CollaPubsOfWithMentor[(mto_mte_colla_df.Mentee.isin(Dropout_Mentee))\n",
    "                                              &(mto_mte_colla_df.Mentee.isin(BigGroup))]\n",
    "\n",
    "print('非参数检验结果：',stats.mannwhitneyu(tp_sv_big,tp_dp_big,alternative='two-sided'))\n",
    "\n",
    "results, edges = np.histogram(tp_sv_big, density=1,range=[0,50],bins=50)\n",
    "binWidth = edges[1] - edges[0]\n",
    "\n",
    "results1, edges1 = np.histogram(tp_dp_big, density=1,range=[0,50],bins=50)\n",
    "binWidth1 = edges1[1] - edges1[0]\n",
    "\n",
    "#计算累积概率密度分布\n",
    "x0 = edges;y0 = results*binWidth\n",
    "Y0 = []\n",
    "tp = 0\n",
    "for k in y0:\n",
    "    tp+=k\n",
    "    Y0.append(tp)\n",
    "Y0 = np.array(Y0)\n",
    "    \n",
    "x1 = edges1\n",
    "y1 = results1*binWidth1\n",
    "Y1 = []\n",
    "tp = 0\n",
    "for k in y1:\n",
    "    tp+=k\n",
    "    Y1.append(tp)\n",
    "Y1 = np.array(Y1)\n",
    "\n",
    "plt.loglog(x0[0:len(x0)-1],Y0,label='Survival Mentee',color='seagreen',marker='o',ls='',alpha=0.8)\n",
    "plt.loglog(x1[0:len(x1)-1],Y1,label='Dropout Mentee',color='chocolate',marker='o',ls='',alpha=0.8)\n",
    "plt.legend(loc='center right')\n",
    "plt.xlabel('co-authored papers with mentor in training')\n",
    "plt.ylabel('cdf')\n",
    "plt.title('BigGroup')\n",
    "plt.grid(True,which=\"both\", ls=\"-\")"
   ]
  },
  {
   "cell_type": "code",
   "execution_count": 76,
   "id": "bacc9c72",
   "metadata": {},
   "outputs": [
    {
     "name": "stdout",
     "output_type": "stream",
     "text": [
      "非参数检验结果： MannwhitneyuResult(statistic=13156524.0, pvalue=0.006665768955292269)\n"
     ]
    },
    {
     "data": {
      "image/png": "[encoded data removed]",
      "text/plain": [
       "<Figure size 432x288 with 1 Axes>"
      ]
     },
     "metadata": {
      "needs_background": "light"
     },
     "output_type": "display_data"
    }
   ],
   "source": [
    "tp_sv_big = mto_mte_colla_df.CollaPubsOfWithMentor[(mto_mte_colla_df.Mentee.isin(Survival_Mentee))\n",
    "                                              &(mto_mte_colla_df.Mentee.isin(SmallGroup))]\n",
    "tp_dp_big = mto_mte_colla_df.CollaPubsOfWithMentor[(mto_mte_colla_df.Mentee.isin(Dropout_Mentee))\n",
    "                                              &(mto_mte_colla_df.Mentee.isin(SmallGroup))]\n",
    "\n",
    "print('非参数检验结果：',stats.mannwhitneyu(tp_sv_big,tp_dp_big,alternative='two-sided'))\n",
    "\n",
    "results, edges = np.histogram(tp_sv_big, density=1,range=[0,50],bins=50)\n",
    "binWidth = edges[1] - edges[0]\n",
    "\n",
    "results1, edges1 = np.histogram(tp_dp_big, density=1,range=[0,50],bins=50)\n",
    "binWidth1 = edges1[1] - edges1[0]\n",
    "\n",
    "#计算累积概率密度分布\n",
    "x0 = edges;y0 = results*binWidth\n",
    "Y0 = []\n",
    "tp = 0\n",
    "for k in y0:\n",
    "    tp+=k\n",
    "    Y0.append(tp)\n",
    "Y0 = np.array(Y0)\n",
    "    \n",
    "x1 = edges1\n",
    "y1 = results1*binWidth1\n",
    "Y1 = []\n",
    "tp = 0\n",
    "for k in y1:\n",
    "    tp+=k\n",
    "    Y1.append(tp)\n",
    "Y1 = np.array(Y1)\n",
    "\n",
    "plt.loglog(x0[0:len(x0)-1],Y0,label='Survival Mentee',color='seagreen',marker='o',ls='',alpha=0.8)\n",
    "plt.loglog(x1[0:len(x1)-1],Y1,label='Dropout Mentee',color='chocolate',marker='o',ls='',alpha=0.8)\n",
    "plt.legend(loc='center right')\n",
    "plt.xlabel('co-authored papers with mentor in training')\n",
    "plt.ylabel('cdf')\n",
    "plt.title('SmallGroup')\n",
    "plt.grid(True,which=\"both\", ls=\"-\")"
   ]
  },
  {
   "cell_type": "markdown",
   "id": "5a031ee9",
   "metadata": {},
   "source": [
    "##### 老师在培养学生期间发文量的区别"
   ]
  },
  {
   "cell_type": "code",
   "execution_count": 83,
   "id": "5bf7a8dd",
   "metadata": {
    "scrolled": true
   },
   "outputs": [
    {
     "name": "stdout",
     "output_type": "stream",
     "text": [
      "非参数检验结果： MannwhitneyuResult(statistic=60547819.0, pvalue=0.0)\n"
     ]
    },
    {
     "data": {
      "image/png": "[encoded data removed]",
      "text/plain": [
       "<Figure size 432x288 with 1 Axes>"
      ]
     },
     "metadata": {
      "needs_background": "light"
     },
     "output_type": "display_data"
    }
   ],
   "source": [
    "tp_sv_big = mto_mte_colla_df.PubsOfMentorInTraning[\n",
    "                                              mto_mte_colla_df.Mentee.isin(BigGroup)]\n",
    "tp_dp_big = mto_mte_colla_df.PubsOfMentorInTraning[\n",
    "                                              mto_mte_colla_df.Mentee.isin(SmallGroup)]\n",
    "\n",
    "print('非参数检验结果：',stats.mannwhitneyu(tp_sv_big,tp_dp_big,alternative='two-sided'))\n",
    "\n",
    "results, edges = np.histogram(tp_sv_big, density=1,range=[0,50],bins=50)\n",
    "binWidth = edges[1] - edges[0]\n",
    "\n",
    "results1, edges1 = np.histogram(tp_dp_big, density=1,range=[0,50],bins=50)\n",
    "binWidth1 = edges1[1] - edges1[0]\n",
    "\n",
    "#计算累积概率密度分布\n",
    "x0 = edges;y0 = results*binWidth\n",
    "Y0 = []\n",
    "tp = 0\n",
    "for k in y0:\n",
    "    tp+=k\n",
    "    Y0.append(tp)\n",
    "Y0 = np.array(Y0)\n",
    "    \n",
    "x1 = edges1\n",
    "y1 = results1*binWidth1\n",
    "Y1 = []\n",
    "tp = 0\n",
    "for k in y1:\n",
    "    tp+=k\n",
    "    Y1.append(tp)\n",
    "Y1 = np.array(Y1)\n",
    "\n",
    "plt.loglog(x0[0:len(x0)-1],Y0,label='BigGroup',color='coral',marker='o',ls='',alpha=1,markerfacecolor='white')\n",
    "plt.loglog(x1[0:len(x1)-1],Y1,label='SmallGroup',color='steelblue',marker='o',ls='',alpha=1,markerfacecolor='white')\n",
    "plt.legend(loc='upper left')\n",
    "plt.xlabel('papers of mentor in training')\n",
    "plt.ylabel('cdf')\n",
    "plt.grid(True,which=\"both\", ls=\"-\")"
   ]
  },
  {
   "cell_type": "code",
   "execution_count": 109,
   "id": "3fa376fc",
   "metadata": {},
   "outputs": [
    {
     "data": {
      "image/png": "[encoded data removed]",
      "text/plain": [
       "<Figure size 432x288 with 1 Axes>"
      ]
     },
     "metadata": {
      "needs_background": "light"
     },
     "output_type": "display_data"
    }
   ],
   "source": [
    "tp_big = mto_mte_colla_df.Mentee[mto_mte_colla_df.Mentee.isin(BigGroup)]\n",
    "tp_small = mto_mte_colla_df.Mentee[mto_mte_colla_df.Mentee.isin(SmallGroup)]\n",
    "\n",
    "tp_big_sv = mto_mte_colla_df.Mentee[(mto_mte_colla_df.Mentee.isin(BigGroup))\n",
    "                                   &(mto_mte_colla_df.Mentee.isin(Survival_Mentee))]\n",
    "tp_small_sv = mto_mte_colla_df.Mentee[mto_mte_colla_df.Mentee.isin(SmallGroup)\n",
    "                                     &(mto_mte_colla_df.Mentee.isin(Survival_Mentee))]\n",
    "\n",
    "sr_big = len(tp_big_sv)/len(tp_big)\n",
    "sr_small = len(tp_small_sv)/len(tp_small)\n",
    "x = [0,0.5]\n",
    "y = [sr_big,sr_small]\n",
    "plt.bar(x,y,color=['coral','steelblue'],width=0.3)\n",
    "plt.ylim([0.3,0.75])\n",
    "plt.tight_layout()\n",
    "# plt.xlabel('papers of mentor in training')\n",
    "# plt.ylabel('cdf')\n",
    "# plt.grid(True,which=\"both\", ls=\"-\")"
   ]
  },
  {
   "cell_type": "code",
   "execution_count": null,
   "id": "60374deb",
   "metadata": {},
   "outputs": [],
   "source": []
  }
 ],
 "metadata": {
  "kernelspec": {
   "display_name": "Python 3",
   "language": "python",
   "name": "python3"
  },
  "language_info": {
   "codemirror_mode": {
    "name": "ipython",
    "version": 3
   },
   "file_extension": ".py",
   "mimetype": "text/x-python",
   "name": "python",
   "nbconvert_exporter": "python",
   "pygments_lexer": "ipython3",
   "version": "3.8.3"
  }
 },
 "nbformat": 4,
 "nbformat_minor": 5
}
