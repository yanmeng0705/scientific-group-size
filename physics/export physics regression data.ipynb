{
 "cells": [
  {
   "cell_type": "code",
   "execution_count": 1,
   "id": "2a50a87a",
   "metadata": {},
   "outputs": [],
   "source": [
    "import pandas as pd\n",
    "import numpy as np\n",
    "import csv\n",
    "import pickle\n",
    "from collections import Counter\n",
    "import matplotlib.pyplot as plt\n",
    "import powerlaw,math\n",
    "import os\n",
    "import scipy.stats as stats\n",
    "import random\n",
    "from numpy import polyfit, poly1d"
   ]
  },
  {
   "cell_type": "markdown",
   "id": "aacbd064",
   "metadata": {},
   "source": [
    "### 能否进入top (being top or not)"
   ]
  },
  {
   "cell_type": "code",
   "execution_count": 5,
   "id": "6e5ed952",
   "metadata": {},
   "outputs": [],
   "source": [
    "neuro = pd.read_csv('physics_0123.csv')\n",
    "neuro = neuro[(neuro.StopYear<=1995)&(neuro.StopYear>=1960)]"
   ]
  },
  {
   "cell_type": "code",
   "execution_count": 6,
   "id": "0140a75f",
   "metadata": {},
   "outputs": [
    {
     "name": "stdout",
     "output_type": "stream",
     "text": [
      "530.6346153846154\n",
      "815.2439024390244\n",
      "1014.1578947368421\n",
      "971.516129032258\n"
     ]
    }
   ],
   "source": [
    "interval = [[1960,1970],[1970,1980],[1980,1990],[1985,1995]]\n",
    "Top = {}\n",
    "for itl in interval:\n",
    "    i0 = itl[0];i1 = itl[1]\n",
    "    temp = np.array(neuro[['CID','YearlyCitationOfMentee']][(neuro.StopYear>=i0)&(neuro.StopYear<=i1)])\n",
    "    CID = temp[:,0]\n",
    "    YC = temp[:,1]\n",
    "    mm = sorted(temp,key = lambda x:x[1],reverse=1)\n",
    "    \n",
    "    pt = 0.05   #进入 top 25\n",
    "    th = mm[round(len(mm)*pt)][1]\n",
    "    print(th)\n",
    "    for i in range(len(CID)):\n",
    "        if YC[i]>=th:\n",
    "            Top[CID[i]]=1\n",
    "        else:\n",
    "            Top[CID[i]]=0"
   ]
  },
  {
   "cell_type": "code",
   "execution_count": 7,
   "id": "735c2c1f",
   "metadata": {},
   "outputs": [],
   "source": [
    "CID = neuro['CID']\n",
    "b_or_s = []\n",
    "for k in CID:\n",
    "    b_or_s.append(Top[k])\n",
    "neuro['Top25'] = b_or_s"
   ]
  },
  {
   "cell_type": "markdown",
   "id": "3a7dd93b",
   "metadata": {},
   "source": [
    "##### 导出回归数据 (export regression data)"
   ]
  },
  {
   "cell_type": "code",
   "execution_count": 8,
   "id": "92097067",
   "metadata": {},
   "outputs": [],
   "source": [
    "neuro_re = neuro[['MenteeID', 'MentorID','StopYear','BirthYearOfMentee','First5YearPubsOfMentee',\n",
    "                  'First5YearCitationOfMentee','First5YearCollaOfMentee','CollaPubsOfWithMentor',\n",
    "                  'BigOrSmall',\n",
    "                  'TotalPubsOfMentor','TotalCitationOfMentor','TotalCollaOfMentor','CareerAgeOfMentorInTraining',\n",
    "                  'YearlyPubsOfMentor','YearlyCitationOfMentor','YearllyCollaOfMentor','PubsOfMentorInTraning',\n",
    "        \n",
    "                  'Survival0','Survival1','YearlyCitationOfMentee','Top25','NumOfMenteesOfTheMenteeIn20']][(neuro.CareerAgeOfMentorInTraining<50)&(neuro.CareerAgeOfMentorInTraining>0)\n",
    "                                             &(neuro.BigOrSmall!=-1)]\n",
    "#neuro_era.BigOrSmall!=2)] #(neuro_era.TotalPubsOfMentor>0)&(neuro_era.CareerAgeOfMentorInTraining>-1)\n",
    "                                    #(neuro_era.CareerAgeOfMentorInTraining<50)"
   ]
  },
  {
   "cell_type": "code",
   "execution_count": 9,
   "id": "209dd92e",
   "metadata": {},
   "outputs": [
    {
     "data": {
      "text/plain": [
       "(3963, 22)"
      ]
     },
     "execution_count": 9,
     "metadata": {},
     "output_type": "execute_result"
    }
   ],
   "source": [
    "neuro_re.shape"
   ]
  },
  {
   "cell_type": "code",
   "execution_count": 10,
   "id": "00a5ded2",
   "metadata": {},
   "outputs": [],
   "source": [
    "# neuro_re = neuro_re[(neuro_re.StopYear<=1995)&(neuro_re.StopYear>=1970)]"
   ]
  },
  {
   "cell_type": "code",
   "execution_count": 11,
   "id": "e9e9b9bd",
   "metadata": {},
   "outputs": [
    {
     "name": "stdout",
     "output_type": "stream",
     "text": [
      "0.40848094471282875\n",
      "0.6780952380952381\n"
     ]
    }
   ],
   "source": [
    "#测试大小团队中的生存率 (test survival rate)\n",
    "all_big = neuro_re['MenteeID'][neuro_re.BigOrSmall==1]\n",
    "all_small = neuro_re['MenteeID'][neuro_re.BigOrSmall==0]\n",
    "sb = neuro_re['MenteeID'][neuro_re.Survival0==1]\n",
    "sur_big = all_big[all_big.isin(sb)]\n",
    "sur_small = all_small[all_small.isin(sb)]\n",
    "print(len(sur_big)/len(all_big))\n",
    "print(len(sur_small)/len(all_small))"
   ]
  },
  {
   "cell_type": "code",
   "execution_count": 12,
   "id": "896f16b2",
   "metadata": {},
   "outputs": [],
   "source": [
    "neuro_re.to_csv('test0_0.25.csv',index=0)"
   ]
  },
  {
   "cell_type": "markdown",
   "id": "1df98bcc",
   "metadata": {},
   "source": [
    "##### 批量输出 cem 匹配截断点 (export cutting points)"
   ]
  },
  {
   "cell_type": "code",
   "execution_count": 13,
   "id": "b4e72bed",
   "metadata": {},
   "outputs": [],
   "source": [
    "cutpoint_list = ['First5YearPubsOfMentee','First5YearCitationOfMentee','First5YearCollaOfMentee',\n",
    "                 'CollaPubsOfWithMentor',\n",
    "                     'TotalPubsOfMentor','TotalCitationOfMentor','TotalCollaOfMentor',\n",
    "                     'YearlyPubsOfMentor','YearlyCitationOfMentor','YearllyCollaOfMentor',\n",
    "                 'PubsOfMentorInTraning']"
   ]
  },
  {
   "cell_type": "code",
   "execution_count": 25,
   "id": "b93a14d4",
   "metadata": {
    "scrolled": true
   },
   "outputs": [
    {
     "name": "stdout",
     "output_type": "stream",
     "text": [
      "First5YearPubsOfMentee\n",
      "[0, 1.0, 8.0, 525]\n",
      "First5YearCitationOfMentee\n",
      "[0, 6.0, 175.0, 38297]\n",
      "First5YearCollaOfMentee\n",
      "[0, 2.0, 8.0, 294]\n",
      "CollaPubsOfWithMentor\n",
      "[0, 0.0, 0.0, 95]\n",
      "TotalPubsOfMentor\n",
      "[0, 15.0, 151.0, 2127]\n",
      "TotalCitationOfMentor\n",
      "[0, 260.0, 4912.0, 226338]\n",
      "TotalCollaOfMentor\n",
      "[0, 13.0, 124.0, 2619]\n",
      "YearlyPubsOfMentor\n",
      "[0.0, 0.9523809523809523, 2.8480186480186487, 75.57142857142857]\n",
      "YearlyCitationOfMentor\n",
      "[0.0, 12.852555301296722, 96.7106060606061, 4330.234042553191]\n",
      "YearllyCollaOfMentor\n",
      "[0.0, 0.7540983606557377, 2.5508163265306125, 87.3]\n",
      "PubsOfMentorInTraning\n",
      "[0, 0.0, 15.0, 300]\n"
     ]
    }
   ],
   "source": [
    "CutPoint = pd.DataFrame()\n",
    "for k in cutpoint_list:\n",
    "#     tp = np.array(neuro_re[k])\n",
    "    tp = np.array(neuro[k])\n",
    "    # plt.hist(tp,range=[0,1000],bins=100)\n",
    "    # print(a)\n",
    "    print(k)\n",
    "    qt = [0,0.3,0.6,1]\n",
    "    cut = []\n",
    "    for q in qt:\n",
    "        cut.append(np.quantile(tp,q))\n",
    "    CutPoint[k] = cut    \n",
    "    print(cut)"
   ]
  },
  {
   "cell_type": "code",
   "execution_count": 26,
   "id": "18f9c41a",
   "metadata": {},
   "outputs": [
    {
     "name": "stdout",
     "output_type": "stream",
     "text": [
      "CollaPubsOfWithMentor\n",
      "[0, 1, 3.0, 95]\n"
     ]
    }
   ],
   "source": [
    "#手动补充和修正0特多的变量的cutpoint (manually minor adjustment for cutting points)\n",
    "cp = ['CollaPubsOfWithMentor']\n",
    "for k in cp:\n",
    "#     tp = np.array(neuro_re[k])\n",
    "    tp = np.array(neuro[k])\n",
    "    tp = tp[tp>0]\n",
    "    # print(a)\n",
    "    print(k)\n",
    "    qt = [0,0.5,1]\n",
    "    cut = [0]\n",
    "    for q in qt:\n",
    "        cut.append(np.quantile(tp,q))\n",
    "    print(cut)\n",
    "    CutPoint[k] = cut\n",
    "CutPoint['CareerAgeOfMentorInTraining'] =  [0,15,25,50]\n",
    "\n",
    "# CutPoint['TotalPubsOfMentor'] =  [0, 1000, 6000, 20854.0, 309472]\n",
    "# CutPoint['TotalCitationOfMentor'] =  [0, 100, 3000,309472]\n",
    "# CutPoint['TotalCollaOfMentor'] =  [0, 50, 200, 526.0, 12568]\n",
    "# CutPoint['YearllyCollaOfMentor'] =  [0, 2, 8, 88]\n",
    "CutPoint['PubsOfMentorInTraning'] =  [0, 6,15,300]"
   ]
  },
  {
   "cell_type": "code",
   "execution_count": 27,
   "id": "4a12007d",
   "metadata": {},
   "outputs": [],
   "source": [
    "CutPoint['First5YearPubsOfMentee'] =  [0,5.0, 10.0, 435]\n",
    "# CutPoint['First5YearCollaOfMentee'] =  [0, 4, 8.0, 18.0, 294]\n",
    "CutPoint['First5YearCitationOfMentee'] =  [0, 50,518.7999999999993, 38297]\n"
   ]
  },
  {
   "cell_type": "code",
   "execution_count": 28,
   "id": "61790590",
   "metadata": {
    "scrolled": true
   },
   "outputs": [
    {
     "data": {
      "text/html": [
       "<div>\n",
       "<style scoped>\n",
       "    .dataframe tbody tr th:only-of-type {\n",
       "        vertical-align: middle;\n",
       "    }\n",
       "\n",
       "    .dataframe tbody tr th {\n",
       "        vertical-align: top;\n",
       "    }\n",
       "\n",
       "    .dataframe thead th {\n",
       "        text-align: right;\n",
       "    }\n",
       "</style>\n",
       "<table border=\"1\" class=\"dataframe\">\n",
       "  <thead>\n",
       "    <tr style=\"text-align: right;\">\n",
       "      <th></th>\n",
       "      <th>First5YearPubsOfMentee</th>\n",
       "      <th>First5YearCitationOfMentee</th>\n",
       "      <th>First5YearCollaOfMentee</th>\n",
       "      <th>CollaPubsOfWithMentor</th>\n",
       "      <th>TotalPubsOfMentor</th>\n",
       "      <th>TotalCitationOfMentor</th>\n",
       "      <th>TotalCollaOfMentor</th>\n",
       "      <th>YearlyPubsOfMentor</th>\n",
       "      <th>YearlyCitationOfMentor</th>\n",
       "      <th>YearllyCollaOfMentor</th>\n",
       "      <th>PubsOfMentorInTraning</th>\n",
       "      <th>CareerAgeOfMentorInTraining</th>\n",
       "    </tr>\n",
       "  </thead>\n",
       "  <tbody>\n",
       "    <tr>\n",
       "      <th>0</th>\n",
       "      <td>0.0</td>\n",
       "      <td>0.0</td>\n",
       "      <td>0.0</td>\n",
       "      <td>0.0</td>\n",
       "      <td>0.0</td>\n",
       "      <td>0.0</td>\n",
       "      <td>0.0</td>\n",
       "      <td>0.000000</td>\n",
       "      <td>0.000000</td>\n",
       "      <td>0.000000</td>\n",
       "      <td>0</td>\n",
       "      <td>0</td>\n",
       "    </tr>\n",
       "    <tr>\n",
       "      <th>1</th>\n",
       "      <td>5.0</td>\n",
       "      <td>50.0</td>\n",
       "      <td>2.0</td>\n",
       "      <td>1.0</td>\n",
       "      <td>15.0</td>\n",
       "      <td>260.0</td>\n",
       "      <td>13.0</td>\n",
       "      <td>0.952381</td>\n",
       "      <td>12.852555</td>\n",
       "      <td>0.754098</td>\n",
       "      <td>6</td>\n",
       "      <td>15</td>\n",
       "    </tr>\n",
       "    <tr>\n",
       "      <th>2</th>\n",
       "      <td>10.0</td>\n",
       "      <td>518.8</td>\n",
       "      <td>8.0</td>\n",
       "      <td>3.0</td>\n",
       "      <td>151.0</td>\n",
       "      <td>4912.0</td>\n",
       "      <td>124.0</td>\n",
       "      <td>2.848019</td>\n",
       "      <td>96.710606</td>\n",
       "      <td>2.550816</td>\n",
       "      <td>15</td>\n",
       "      <td>25</td>\n",
       "    </tr>\n",
       "    <tr>\n",
       "      <th>3</th>\n",
       "      <td>435.0</td>\n",
       "      <td>38297.0</td>\n",
       "      <td>294.0</td>\n",
       "      <td>95.0</td>\n",
       "      <td>2127.0</td>\n",
       "      <td>226338.0</td>\n",
       "      <td>2619.0</td>\n",
       "      <td>75.571429</td>\n",
       "      <td>4330.234043</td>\n",
       "      <td>87.300000</td>\n",
       "      <td>300</td>\n",
       "      <td>50</td>\n",
       "    </tr>\n",
       "  </tbody>\n",
       "</table>\n",
       "</div>"
      ],
      "text/plain": [
       "   First5YearPubsOfMentee  First5YearCitationOfMentee  \\\n",
       "0                     0.0                         0.0   \n",
       "1                     5.0                        50.0   \n",
       "2                    10.0                       518.8   \n",
       "3                   435.0                     38297.0   \n",
       "\n",
       "   First5YearCollaOfMentee  CollaPubsOfWithMentor  TotalPubsOfMentor  \\\n",
       "0                      0.0                    0.0                0.0   \n",
       "1                      2.0                    1.0               15.0   \n",
       "2                      8.0                    3.0              151.0   \n",
       "3                    294.0                   95.0             2127.0   \n",
       "\n",
       "   TotalCitationOfMentor  TotalCollaOfMentor  YearlyPubsOfMentor  \\\n",
       "0                    0.0                 0.0            0.000000   \n",
       "1                  260.0                13.0            0.952381   \n",
       "2                 4912.0               124.0            2.848019   \n",
       "3               226338.0              2619.0           75.571429   \n",
       "\n",
       "   YearlyCitationOfMentor  YearllyCollaOfMentor  PubsOfMentorInTraning  \\\n",
       "0                0.000000              0.000000                      0   \n",
       "1               12.852555              0.754098                      6   \n",
       "2               96.710606              2.550816                     15   \n",
       "3             4330.234043             87.300000                    300   \n",
       "\n",
       "   CareerAgeOfMentorInTraining  \n",
       "0                            0  \n",
       "1                           15  \n",
       "2                           25  \n",
       "3                           50  "
      ]
     },
     "execution_count": 28,
     "metadata": {},
     "output_type": "execute_result"
    }
   ],
   "source": [
    "CutPoint"
   ]
  },
  {
   "cell_type": "code",
   "execution_count": 29,
   "id": "906ca277",
   "metadata": {},
   "outputs": [],
   "source": [
    "CutPoint.to_csv('CutPoint0_0.25.csv',index=0)"
   ]
  },
  {
   "cell_type": "code",
   "execution_count": 226,
   "id": "0460ef36",
   "metadata": {},
   "outputs": [],
   "source": [
    "# neuro_re1 = neuro_era[['NumOfMenteesOfTheMentor10','BirthYearOfMentee','First5YearPubsOfMentee','First5YearCitationOfMentee','First5YearCollaOfMentee',\n",
    "#                      'BigOrSmall','TotalPubsOfMentor','TotalCitationOfMentor','TotalCollaOfMentor',\n",
    "#                      'YearlyPubsOfMentor','YearlyCitationOfMentor','YearllyCollaOfMentor','CareerAgeOfMentorInTraining',\n",
    "#                     'Survival','NumOfMenteesOfTheMenteeIn20']][(neuro_era.CareerAgeOfMentorInTraining>-1)&(neuro_era.CareerAgeOfMentorInTraining<50)&\n",
    "#                                 (neuro_era.TotalPubsOfMentor>0)&(neuro_era.BigOrSmall!=1)&(neuro_era.Survival==1)]"
   ]
  },
  {
   "cell_type": "code",
   "execution_count": 128,
   "id": "c6e9451c",
   "metadata": {},
   "outputs": [
    {
     "data": {
      "text/plain": [
       "Index(['CID', 'MenteeID', 'MentorID', 'MentorshipType', 'Institution',\n",
       "       'InstitutionMAGID', 'StartYear', 'StopYear', 'NumOfMenteesOfTheMentor',\n",
       "       'NumOfMenteesOfTheMentor10', 'NumOfMenteesOfTheMenteeIn20',\n",
       "       'NumOfMenteesOfTheMentee', 'BigOrSmall', 'Survival0', 'Survival1',\n",
       "       'TotalPubsOfMentor', 'YearOfTheFirstPubsOfMentorPubs',\n",
       "       'YearlyPubsOfMentor', 'TotalCitationOfMentor', 'YearlyCitationOfMentor',\n",
       "       'TotalCollaOfMentor', 'YearllyCollaOfMentor',\n",
       "       'YearOfTheFirstPubsOfMenteePubs', 'First5YearPubsOfMentee',\n",
       "       'First5YearCitationOfMentee', 'First5YearCollaOfMentee',\n",
       "       'YearlyPubsOfMentee', 'YearlyCitationOfMentee', 'BirthYearOfMentee',\n",
       "       'CareerAgeOfMentorInTraining', 'Top25'],\n",
       "      dtype='object')"
      ]
     },
     "execution_count": 128,
     "metadata": {},
     "output_type": "execute_result"
    }
   ],
   "source": [
    "neuro.columns"
   ]
  },
  {
   "cell_type": "code",
   "execution_count": 30,
   "id": "ef95cdcc",
   "metadata": {},
   "outputs": [],
   "source": [
    "#限制条件比较少的情况 (less limitations)\n",
    "neuro_re1 = neuro[['MenteeID', 'MentorID','StopYear','BirthYearOfMentee','First5YearPubsOfMentee',\n",
    "                  'First5YearCitationOfMentee','First5YearCollaOfMentee','CollaPubsOfWithMentor',\n",
    "                  'BigOrSmall',\n",
    "                  'TotalPubsOfMentor','TotalCitationOfMentor','TotalCollaOfMentor','CareerAgeOfMentorInTraining',\n",
    "                  'YearlyPubsOfMentor','YearlyCitationOfMentor','YearllyCollaOfMentor','PubsOfMentorInTraning',\n",
    "        \n",
    "                  'Survival0','Survival1','YearlyCitationOfMentee','Top25',\n",
    "                   'NumOfMenteesOfTheMenteeIn20']][(neuro.CareerAgeOfMentorInTraining<50)&(neuro.CareerAgeOfMentorInTraining>0)\n",
    "                                             &(neuro.BigOrSmall!=-1)&(neuro.Survival0==1)]\n",
    "    "
   ]
  },
  {
   "cell_type": "code",
   "execution_count": 31,
   "id": "7892549f",
   "metadata": {},
   "outputs": [
    {
     "data": {
      "text/plain": [
       "(2185, 22)"
      ]
     },
     "execution_count": 31,
     "metadata": {},
     "output_type": "execute_result"
    }
   ],
   "source": [
    "neuro_re1.shape"
   ]
  },
  {
   "cell_type": "code",
   "execution_count": 32,
   "id": "257f3d80",
   "metadata": {},
   "outputs": [
    {
     "name": "stdout",
     "output_type": "stream",
     "text": [
      "First5YearPubsOfMentee\n",
      "[0, 4.0, 10.0, 525]\n",
      "First5YearCitationOfMentee\n",
      "[0, 48.0, 276.0, 38297]\n",
      "First5YearCollaOfMentee\n",
      "[0, 4.0, 10.0, 196]\n",
      "CollaPubsOfWithMentor\n",
      "[0, 0.0, 0.0, 41]\n",
      "TotalPubsOfMentor\n",
      "[1, 75.0, 209.0, 1445]\n",
      "TotalCitationOfMentor\n",
      "[0, 1952.7999999999993, 8120.0, 222046]\n",
      "TotalCollaOfMentor\n",
      "[0, 59.0, 165.39999999999986, 2272]\n",
      "YearlyPubsOfMentor\n",
      "[0.060606060606060615, 1.5516908212560383, 3.642283298097249, 42.411764705882355]\n",
      "YearlyCitationOfMentor\n",
      "[0.0, 44.59760368663595, 153.5818181818181, 4330.234042553191]\n",
      "YearllyCollaOfMentor\n",
      "[0.0, 1.2594074074074073, 3.153747645951036, 50.488888888888894]\n",
      "PubsOfMentorInTraning\n",
      "[0, 8.0, 22.0, 300]\n"
     ]
    }
   ],
   "source": [
    "CutPoint1 = pd.DataFrame()\n",
    "for k in cutpoint_list:\n",
    "    tp = np.array(neuro_re1[k])\n",
    "    # plt.hist(tp,range=[0,1000],bins=100)\n",
    "    # print(a)\n",
    "    print(k)\n",
    "    qt = [0,0.3,0.6,1]\n",
    "    cut = []\n",
    "    for q in qt:\n",
    "        cut.append(np.quantile(tp,q))\n",
    "    CutPoint1[k] = cut    \n",
    "    print(cut)"
   ]
  },
  {
   "cell_type": "code",
   "execution_count": 33,
   "id": "e039d046",
   "metadata": {},
   "outputs": [
    {
     "name": "stdout",
     "output_type": "stream",
     "text": [
      "CollaPubsOfWithMentor\n",
      "[0, 1, 3.0, 95]\n"
     ]
    }
   ],
   "source": [
    "#手动补充和修正0特多的变量的cutpoint (manually minor chage for cutting points)\n",
    "cp = ['CollaPubsOfWithMentor']\n",
    "for k in cp:\n",
    "#     tp = np.array(neuro_re[k])\n",
    "    tp = np.array(neuro[k])\n",
    "    tp = tp[tp>0]\n",
    "    # print(a)\n",
    "    print(k)\n",
    "    qt = [0,0.5,1]\n",
    "    cut = [0]\n",
    "    for q in qt:\n",
    "        cut.append(np.quantile(tp,q))\n",
    "    print(cut)\n",
    "    CutPoint1[k] = cut\n",
    "CutPoint1['CareerAgeOfMentorInTraining'] =  [0,15,25,50]\n",
    "\n",
    "# CutPoint['TotalPubsOfMentor'] =  [0, 1000, 6000, 20854.0, 309472]\n",
    "CutPoint1['TotalCitationOfMentor'] =  [0, 1000, 5000,309472]\n",
    "# CutPoint['TotalCollaOfMentor'] =  [0, 50, 200, 526.0, 12568]\n",
    "# CutPoint['YearllyCollaOfMentor'] =  [0, 2, 8, 88]\n",
    "# CutPoint['PubsOfMentorInTraning'] =  [0, 6,19,300]"
   ]
  },
  {
   "cell_type": "code",
   "execution_count": 34,
   "id": "f726a3e4",
   "metadata": {},
   "outputs": [],
   "source": [
    "neuro_re1.to_csv('test1_0.25.csv',index=0)"
   ]
  },
  {
   "cell_type": "code",
   "execution_count": 35,
   "id": "30bbceaf",
   "metadata": {},
   "outputs": [],
   "source": [
    "CutPoint1.to_csv('CutPoint1_0.25.csv',index=0)"
   ]
  },
  {
   "cell_type": "code",
   "execution_count": null,
   "id": "17bb940b",
   "metadata": {},
   "outputs": [],
   "source": []
  },
  {
   "cell_type": "code",
   "execution_count": null,
   "id": "d5835bb2",
   "metadata": {},
   "outputs": [],
   "source": []
  }
 ],
 "metadata": {
  "kernelspec": {
   "display_name": "Python 3",
   "language": "python",
   "name": "python3"
  },
  "language_info": {
   "codemirror_mode": {
    "name": "ipython",
    "version": 3
   },
   "file_extension": ".py",
   "mimetype": "text/x-python",
   "name": "python",
   "nbconvert_exporter": "python",
   "pygments_lexer": "ipython3",
   "version": "3.8.3"
  }
 },
 "nbformat": 4,
 "nbformat_minor": 5
}
