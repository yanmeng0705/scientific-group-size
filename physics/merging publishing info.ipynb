{
 "cells": [
  {
   "cell_type": "code",
   "execution_count": 1,
   "id": "2a50a87a",
   "metadata": {},
   "outputs": [],
   "source": [
    "import pandas as pd\n",
    "import numpy as np\n",
    "import csv\n",
    "import pickle\n",
    "from collections import Counter\n",
    "import matplotlib.pyplot as plt\n",
    "import powerlaw,math\n",
    "import os\n",
    "import scipy.stats as stats\n",
    "import random\n",
    "from numpy import polyfit, poly1d"
   ]
  },
  {
   "cell_type": "code",
   "execution_count": 412,
   "id": "1215d104",
   "metadata": {},
   "outputs": [],
   "source": [
    "files = os.listdir('physics pubs')"
   ]
  },
  {
   "cell_type": "code",
   "execution_count": 413,
   "id": "efc4638a",
   "metadata": {},
   "outputs": [],
   "source": [
    "TP = {}\n",
    "for k in files:\n",
    "    try:\n",
    "        with open('physics pubs/'+k,'rb')as f:\n",
    "            tp = pickle.load(f)\n",
    "        for i in tp:\n",
    "            TP[i] = tp[i]\n",
    "    except:\n",
    "        print(k)"
   ]
  },
  {
   "cell_type": "code",
   "execution_count": 414,
   "id": "af06ab6e",
   "metadata": {
    "scrolled": true
   },
   "outputs": [
    {
     "name": "stdout",
     "output_type": "stream",
     "text": [
      "22500\n"
     ]
    }
   ],
   "source": [
    "pub_chemistry0 = TP\n",
    "print(len(pub_chemistry0))"
   ]
  },
  {
   "cell_type": "code",
   "execution_count": 415,
   "id": "fcbc880a",
   "metadata": {},
   "outputs": [],
   "source": [
    "#将生涯长度为0的做调整 (career length==0)\n",
    "pub_chemistry = {}\n",
    "empty=[]\n",
    "nopa = []\n",
    "for k in pub_chemistry0:\n",
    "    tp = pub_chemistry0[k]\n",
    "    if len(tp)>0:\n",
    "        cl = tp[2]\n",
    "        if cl==1:\n",
    "            empty.append(k)\n",
    "            tp[3] = tp[0]  # 0总发文量 total pubs\n",
    "            tp[6] = tp[5]  # 5总引用 total citations\n",
    "            tp[9] = tp[8]  # 8总合作者数 total coauthors\n",
    "        else:\n",
    "            tp = tp\n",
    "    else:\n",
    "        nopa.append(k)\n",
    "        tp = tp\n",
    "    pub_chemistry[k] = tp"
   ]
  },
  {
   "cell_type": "code",
   "execution_count": 416,
   "id": "1d723ab3",
   "metadata": {},
   "outputs": [],
   "source": [
    "neuro = pd.read_csv('physics_0123.csv')\n",
    "# neuro = neuro[(neuro.StopYear<=1995)&(neuro.StopYear>=1960)]"
   ]
  },
  {
   "cell_type": "code",
   "execution_count": 417,
   "id": "b5453c54",
   "metadata": {},
   "outputs": [],
   "source": [
    "Neuro = pd.read_csv('physics.csv')\n",
    "MTO = np.array(Neuro.MentorID)"
   ]
  },
  {
   "cell_type": "code",
   "execution_count": 418,
   "id": "a90c3c12",
   "metadata": {},
   "outputs": [
    {
     "data": {
      "text/plain": [
       "(13837, 13)"
      ]
     },
     "execution_count": 418,
     "metadata": {},
     "output_type": "execute_result"
    }
   ],
   "source": [
    "neuro.shape"
   ]
  },
  {
   "cell_type": "code",
   "execution_count": 419,
   "id": "2df4e4e1",
   "metadata": {},
   "outputs": [
    {
     "data": {
      "text/html": [
       "<div>\n",
       "<style scoped>\n",
       "    .dataframe tbody tr th:only-of-type {\n",
       "        vertical-align: middle;\n",
       "    }\n",
       "\n",
       "    .dataframe tbody tr th {\n",
       "        vertical-align: top;\n",
       "    }\n",
       "\n",
       "    .dataframe thead th {\n",
       "        text-align: right;\n",
       "    }\n",
       "</style>\n",
       "<table border=\"1\" class=\"dataframe\">\n",
       "  <thead>\n",
       "    <tr style=\"text-align: right;\">\n",
       "      <th></th>\n",
       "      <th>Unnamed: 0</th>\n",
       "      <th>CID</th>\n",
       "      <th>MenteeID</th>\n",
       "      <th>MentorID</th>\n",
       "      <th>MentorshipType</th>\n",
       "      <th>Institution</th>\n",
       "      <th>InstitutionMAGID</th>\n",
       "      <th>StartYear</th>\n",
       "      <th>StopYear</th>\n",
       "      <th>NumOfMenteesOfTheMentor</th>\n",
       "      <th>NumOfMenteesOfTheMentor10</th>\n",
       "      <th>NumOfMenteesOfTheMenteeIn20</th>\n",
       "      <th>BigOrSmall</th>\n",
       "    </tr>\n",
       "  </thead>\n",
       "  <tbody>\n",
       "    <tr>\n",
       "      <th>0</th>\n",
       "      <td>3</td>\n",
       "      <td>6</td>\n",
       "      <td>18761</td>\n",
       "      <td>9</td>\n",
       "      <td>1</td>\n",
       "      <td>University of California, Berkeley</td>\n",
       "      <td>95457486.0</td>\n",
       "      <td>-1</td>\n",
       "      <td>1984</td>\n",
       "      <td>8</td>\n",
       "      <td>4</td>\n",
       "      <td>0</td>\n",
       "      <td>1</td>\n",
       "    </tr>\n",
       "  </tbody>\n",
       "</table>\n",
       "</div>"
      ],
      "text/plain": [
       "   Unnamed: 0  CID  MenteeID  MentorID  MentorshipType  \\\n",
       "0           3    6     18761         9               1   \n",
       "\n",
       "                          Institution  InstitutionMAGID  StartYear  StopYear  \\\n",
       "0  University of California, Berkeley        95457486.0         -1      1984   \n",
       "\n",
       "   NumOfMenteesOfTheMentor  NumOfMenteesOfTheMentor10  \\\n",
       "0                        8                          4   \n",
       "\n",
       "   NumOfMenteesOfTheMenteeIn20  BigOrSmall  \n",
       "0                            0           1  "
      ]
     },
     "execution_count": 419,
     "metadata": {},
     "output_type": "execute_result"
    }
   ],
   "source": [
    "neuro.head(1)"
   ]
  },
  {
   "cell_type": "code",
   "execution_count": 422,
   "id": "81add906",
   "metadata": {
    "scrolled": true
   },
   "outputs": [
    {
     "name": "stdout",
     "output_type": "stream",
     "text": [
      "1901\n",
      "1995\n"
     ]
    }
   ],
   "source": [
    "StopYear = neuro.StopYear\n",
    "print(min(StopYear))\n",
    "print(max(StopYear))"
   ]
  },
  {
   "cell_type": "code",
   "execution_count": 423,
   "id": "85df491b",
   "metadata": {
    "scrolled": true
   },
   "outputs": [
    {
     "name": "stdout",
     "output_type": "stream",
     "text": [
      "2.0\n"
     ]
    },
    {
     "data": {
      "image/png": "[encoded data removed]",
      "text/plain": [
       "<Figure size 432x288 with 1 Axes>"
      ]
     },
     "metadata": {
      "needs_background": "light"
     },
     "output_type": "display_data"
    }
   ],
   "source": [
    "# tp = neuro.NumOfMenteesOfTheMentor\n",
    "tp = neuro.NumOfMenteesOfTheMentor10\n",
    "plt.hist(tp,range=[0,20],bins=10)\n",
    "print(np.median(tp))"
   ]
  },
  {
   "cell_type": "code",
   "execution_count": 424,
   "id": "c903f1c5",
   "metadata": {},
   "outputs": [],
   "source": [
    "mentee = neuro.MenteeID; mentee_np = np.array(mentee)\n",
    "mentor = neuro.MentorID; mentor_np = np.array(mentor)\n",
    "StopYear = neuro.StopYear; StopYear_np = np.array(StopYear)"
   ]
  },
  {
   "cell_type": "code",
   "execution_count": 427,
   "id": "a5d0b9e8",
   "metadata": {},
   "outputs": [
    {
     "data": {
      "text/plain": [
       "(13837, 13)"
      ]
     },
     "execution_count": 427,
     "metadata": {},
     "output_type": "execute_result"
    }
   ],
   "source": [
    "neuro.shape"
   ]
  },
  {
   "cell_type": "code",
   "execution_count": 428,
   "id": "7c2b5b8a",
   "metadata": {},
   "outputs": [],
   "source": [
    "# 在进行退出率的相关计算时，以所有的学生数为参考 (survival rate)\n",
    "TP = []\n",
    "for k in neuro.MenteeID:\n",
    "    if k in MTO:\n",
    "        TP.append(1)\n",
    "    else:\n",
    "        TP.append(0)\n",
    "neuro['Survival0'] = TP              \n",
    "# neuro = neuro[neuro.StopYear<2000]"
   ]
  },
  {
   "cell_type": "code",
   "execution_count": 429,
   "id": "e81dceb4",
   "metadata": {},
   "outputs": [
    {
     "name": "stdout",
     "output_type": "stream",
     "text": [
      "0.5030355594102341\n",
      "0.7072667217175888\n"
     ]
    }
   ],
   "source": [
    "#测试大小团队中的生存率 (test survial rate)\n",
    "all_big = neuro['MenteeID'][neuro.BigOrSmall==1]\n",
    "all_small = neuro['MenteeID'][neuro.BigOrSmall==0]\n",
    "sb = neuro['MenteeID'][neuro.Survival0==1]\n",
    "sur_big = all_big[all_big.isin(sb)]\n",
    "sur_small = all_small[all_small.isin(sb)]\n",
    "print(len(sur_big)/len(all_big))\n",
    "print(len(sur_small)/len(all_small))"
   ]
  },
  {
   "cell_type": "code",
   "execution_count": 432,
   "id": "032b8828",
   "metadata": {},
   "outputs": [],
   "source": [
    "#在进行学生表现的相关计算时，以前20年是否招到学生作为活下的参照 (fecundity)\n",
    "TP = []\n",
    "for k in neuro.NumOfMenteesOfTheMenteeIn20:\n",
    "    if k>0:\n",
    "        TP.append(1)\n",
    "    else:\n",
    "        TP.append(0)\n",
    "neuro['Survival1'] = TP              "
   ]
  },
  {
   "cell_type": "code",
   "execution_count": 433,
   "id": "b2c683b4",
   "metadata": {},
   "outputs": [],
   "source": [
    "#测试大小团队中的生存率 (test survival)\n",
    "all_big = neuro['MenteeID'][neuro.BigOrSmall==1]\n",
    "all_small = neuro['MenteeID'][neuro.BigOrSmall==0]\n",
    "sb = neuro['MenteeID'][neuro.Survival1==1]\n",
    "sur_big = all_big[all_big.isin(sb)]\n",
    "sur_small = all_small[all_small.isin(sb)]"
   ]
  },
  {
   "cell_type": "code",
   "execution_count": 434,
   "id": "1a3e4fe3",
   "metadata": {
    "scrolled": true
   },
   "outputs": [
    {
     "data": {
      "text/plain": [
       "7199"
      ]
     },
     "execution_count": 434,
     "metadata": {},
     "output_type": "execute_result"
    }
   ],
   "source": [
    "len(sb)"
   ]
  },
  {
   "cell_type": "code",
   "execution_count": 435,
   "id": "f109d619",
   "metadata": {},
   "outputs": [
    {
     "name": "stdout",
     "output_type": "stream",
     "text": [
      "0.4203527030933796\n",
      "0.565028901734104\n"
     ]
    }
   ],
   "source": [
    "print(len(sur_big)/len(all_big))\n",
    "print(len(sur_small)/len(all_small))"
   ]
  },
  {
   "cell_type": "markdown",
   "id": "0b3965c3",
   "metadata": {},
   "source": [
    "##### 只选择1995年之前的学生 (mentees before 1995)"
   ]
  },
  {
   "cell_type": "code",
   "execution_count": 436,
   "id": "c66d810f",
   "metadata": {},
   "outputs": [
    {
     "data": {
      "text/plain": [
       "(7115, 15)"
      ]
     },
     "execution_count": 436,
     "metadata": {},
     "output_type": "execute_result"
    }
   ],
   "source": [
    "test_neuro = neuro[(neuro.StopYear<=1995)&(neuro.StopYear>=1970)]\n",
    "test_neuro.shape"
   ]
  },
  {
   "cell_type": "code",
   "execution_count": 437,
   "id": "7639c468",
   "metadata": {},
   "outputs": [],
   "source": [
    "#测试大小团队中的生存率 (test survival rate)\n",
    "all_big = test_neuro['MenteeID'][test_neuro.BigOrSmall==1]\n",
    "all_small = test_neuro['MenteeID'][test_neuro.BigOrSmall==0]\n",
    "sb = test_neuro['MenteeID'][test_neuro.Survival0==1]\n",
    "sur_big = all_big[all_big.isin(sb)]\n",
    "sur_small = all_small[all_small.isin(sb)]"
   ]
  },
  {
   "cell_type": "code",
   "execution_count": 438,
   "id": "88fc1474",
   "metadata": {},
   "outputs": [
    {
     "name": "stdout",
     "output_type": "stream",
     "text": [
      "0.38218714768883877\n",
      "0.6693195384003183\n"
     ]
    }
   ],
   "source": [
    "print(len(sur_big)/len(all_big))\n",
    "print(len(sur_small)/len(all_small))"
   ]
  },
  {
   "cell_type": "code",
   "execution_count": 439,
   "id": "6d8bf25e",
   "metadata": {
    "scrolled": true
   },
   "outputs": [
    {
     "data": {
      "text/html": [
       "<div>\n",
       "<style scoped>\n",
       "    .dataframe tbody tr th:only-of-type {\n",
       "        vertical-align: middle;\n",
       "    }\n",
       "\n",
       "    .dataframe tbody tr th {\n",
       "        vertical-align: top;\n",
       "    }\n",
       "\n",
       "    .dataframe thead th {\n",
       "        text-align: right;\n",
       "    }\n",
       "</style>\n",
       "<table border=\"1\" class=\"dataframe\">\n",
       "  <thead>\n",
       "    <tr style=\"text-align: right;\">\n",
       "      <th></th>\n",
       "      <th>Unnamed: 0</th>\n",
       "      <th>CID</th>\n",
       "      <th>MenteeID</th>\n",
       "      <th>MentorID</th>\n",
       "      <th>MentorshipType</th>\n",
       "      <th>Institution</th>\n",
       "      <th>InstitutionMAGID</th>\n",
       "      <th>StartYear</th>\n",
       "      <th>StopYear</th>\n",
       "      <th>NumOfMenteesOfTheMentor</th>\n",
       "      <th>NumOfMenteesOfTheMentor10</th>\n",
       "      <th>NumOfMenteesOfTheMenteeIn20</th>\n",
       "      <th>BigOrSmall</th>\n",
       "      <th>Survival0</th>\n",
       "      <th>Survival1</th>\n",
       "    </tr>\n",
       "  </thead>\n",
       "  <tbody>\n",
       "    <tr>\n",
       "      <th>0</th>\n",
       "      <td>3</td>\n",
       "      <td>6</td>\n",
       "      <td>18761</td>\n",
       "      <td>9</td>\n",
       "      <td>1</td>\n",
       "      <td>University of California, Berkeley</td>\n",
       "      <td>95457486.0</td>\n",
       "      <td>-1</td>\n",
       "      <td>1984</td>\n",
       "      <td>8</td>\n",
       "      <td>4</td>\n",
       "      <td>0</td>\n",
       "      <td>1</td>\n",
       "      <td>0</td>\n",
       "      <td>0</td>\n",
       "    </tr>\n",
       "  </tbody>\n",
       "</table>\n",
       "</div>"
      ],
      "text/plain": [
       "   Unnamed: 0  CID  MenteeID  MentorID  MentorshipType  \\\n",
       "0           3    6     18761         9               1   \n",
       "\n",
       "                          Institution  InstitutionMAGID  StartYear  StopYear  \\\n",
       "0  University of California, Berkeley        95457486.0         -1      1984   \n",
       "\n",
       "   NumOfMenteesOfTheMentor  NumOfMenteesOfTheMentor10  \\\n",
       "0                        8                          4   \n",
       "\n",
       "   NumOfMenteesOfTheMenteeIn20  BigOrSmall  Survival0  Survival1  \n",
       "0                            0           1          0          0  "
      ]
     },
     "execution_count": 439,
     "metadata": {},
     "output_type": "execute_result"
    }
   ],
   "source": [
    "neuro.head(1)"
   ]
  },
  {
   "cell_type": "code",
   "execution_count": 440,
   "id": "96f6445f",
   "metadata": {},
   "outputs": [],
   "source": [
    "#补充老师的文章属性信息 (mentors' attribute)\n",
    "attri = ['TotalPubsOfMentor','YearOfTheFirstPubsOfMentorPubs','YearlyPubsOfMentor','TotalCitationOfMentor',\n",
    "         'YearlyCitationOfMentor','TotalCollaOfMentor','YearllyCollaOfMentor',\n",
    "        ]\n",
    "index = [0,1,3,5,6,8,9]\n",
    "for i in range(len(attri)):\n",
    "    atr = attri[i]\n",
    "    if atr!='YearOfTheFirstPubsOfMentorPubs':\n",
    "        TP = []\n",
    "        for k in neuro.MentorID:\n",
    "            try:\n",
    "                tp = pub_chemistry[k][index[i]]\n",
    "            except:\n",
    "                tp = 0                            #在 mag 中没有找到该作者的发表信息 (no information in MAG)\n",
    "            TP.append(tp)\n",
    "    else:\n",
    "        TP = []\n",
    "        for k in neuro.MentorID:\n",
    "            try:\n",
    "                tp = pub_chemistry[k][index[i]]\n",
    "            except:\n",
    "                tp = -1                            #在 mag 中没有找到该作者的发表信息,则第一篇文章发表年份记为 -1 (marked as -1) \n",
    "            TP.append(tp)\n",
    "    neuro[atr] = TP "
   ]
  },
  {
   "cell_type": "code",
   "execution_count": 441,
   "id": "f675ce51",
   "metadata": {},
   "outputs": [],
   "source": [
    "#补充学生的文章属性信息 (mentees' attribute)\n",
    "attri = ['YearOfTheFirstPubsOfMenteePubs','First5YearPubsOfMentee','First5YearCitationOfMentee',\n",
    "         'First5YearCollaOfMentee','YearlyPubsOfMentee','YearlyCitationOfMentee']\n",
    "index = [1,4,7,10,3,6]\n",
    "for i in range(len(attri)):\n",
    "    atr = attri[i]\n",
    "    if atr!='YearOfTheFirstPubsOfMenteePubs':\n",
    "        TP = []\n",
    "        for k in neuro.MenteeID:\n",
    "            try:\n",
    "                tp = pub_chemistry[k][index[i]]\n",
    "            except:\n",
    "                tp = 0                            #在 mag 中没有找到该作者的发表信息 (no information in MAG)\n",
    "            TP.append(tp)\n",
    "            TP.append(tp)\n",
    "        \n",
    "    else:\n",
    "        TP = []\n",
    "        for k in neuro.MenteeID:\n",
    "            try:\n",
    "                tp = pub_chemistry[k][index[i]]\n",
    "            except:\n",
    "                tp = -1                            #在 mag 中没有找到该作者的发表信息 (no information in MAG)\n",
    "            TP.append(tp)\n",
    "            TP.append(tp)\n",
    "        \n",
    "    neuro[atr] = TP "
   ]
  },
  {
   "cell_type": "code",
   "execution_count": 442,
   "id": "b571a6eb",
   "metadata": {},
   "outputs": [],
   "source": [
    "#通过学生的第一篇文章发表时间补充学生的出道的时间 (StopYear of mentees)\n",
    "TP = []\n",
    "tp0 = list(neuro.StopYear)                        # StopYear 中又可能出现 -1 (-1 happens)\n",
    "tp1 = list(neuro.YearOfTheFirstPubsOfMenteePubs)  #这里面也可能出现 -1 (-1 also happens)\n",
    "for i in range(len(tp0)):\n",
    "    if tp0[i]>0 and tp1[i]>0:\n",
    "        TP.append(min(tp0[i],tp1[i]))\n",
    "    elif tp0[i]*tp1[i]<0:\n",
    "        TP.append(max(tp0[i],tp1[i]))\n",
    "    else:\n",
    "        TP.append(-1)\n",
    "neuro['BirthYearOfMentee'] = TP  "
   ]
  },
  {
   "cell_type": "code",
   "execution_count": 443,
   "id": "b9f5262c",
   "metadata": {},
   "outputs": [],
   "source": [
    "#通过老师第一篇文章发表时间补充每位学生受训时的老师的学术年龄 (career age of mentors as the year of the first paper)\n",
    "TP = []\n",
    "tp0 = list(neuro.StopYear)\n",
    "tp1 = list(neuro.YearOfTheFirstPubsOfMentorPubs)\n",
    "for i in range(len(tp1)):\n",
    "    if tp0[i]>0 and tp1[i]>0:\n",
    "        TP.append(tp0[i]-float(tp1[i]))\n",
    "    else:\n",
    "        TP.append(-1)\n",
    "neuro['CareerAgeOfMentorInTraining'] = TP # -1代表无法判断老师的学术年龄  (no information of career age)"
   ]
  },
  {
   "cell_type": "markdown",
   "id": "3e12ec30",
   "metadata": {},
   "source": [
    "##### 加入受训期间老师的发文量和学生与导师的合作文章数量 (mentor-mentee coauthored papers in training)"
   ]
  },
  {
   "cell_type": "code",
   "execution_count": 444,
   "id": "ea63b9bc",
   "metadata": {},
   "outputs": [],
   "source": [
    "neuro = neuro.drop(['Unnamed: 0'],axis=1)"
   ]
  },
  {
   "cell_type": "code",
   "execution_count": 445,
   "id": "ac778828",
   "metadata": {},
   "outputs": [],
   "source": [
    "chemistry_colla_info = pd.read_csv('physics_colla_info.csv')"
   ]
  },
  {
   "cell_type": "code",
   "execution_count": 446,
   "id": "bbf0312f",
   "metadata": {},
   "outputs": [],
   "source": [
    "CC = {}\n",
    "for k in np.array(chemistry_colla_info):\n",
    "    tp_key = (k[2],k[0])\n",
    "    tp_value = (k[1],k[3])\n",
    "    CC[tp_key] = tp_value"
   ]
  },
  {
   "cell_type": "code",
   "execution_count": 447,
   "id": "c437e3d0",
   "metadata": {},
   "outputs": [],
   "source": [
    "TP0 = []\n",
    "TP1 = []\n",
    "NN = np.array(neuro)\n",
    "for i in range(len(neuro)):\n",
    "    try:\n",
    "        tp_key = (NN[i][1],NN[i][2])\n",
    "        temp = CC[tp_key]\n",
    "        TP0.append(temp[0])\n",
    "        TP1.append(temp[1])\n",
    "    except:\n",
    "        TP0.append(0)\n",
    "        TP1.append(0)\n",
    "neuro['PubsOfMentorInTraning'] = TP0 \n",
    "neuro['CollaPubsOfWithMentor'] = TP1"
   ]
  },
  {
   "cell_type": "code",
   "execution_count": 448,
   "id": "1ae5fae6",
   "metadata": {},
   "outputs": [
    {
     "data": {
      "text/plain": [
       "(array([1.1511e+04, 1.6910e+03, 4.3200e+02, 1.3000e+02, 3.5000e+01,\n",
       "        1.8000e+01, 1.1000e+01, 6.0000e+00, 1.0000e+00, 2.0000e+00]),\n",
       " array([  0.,  30.,  60.,  90., 120., 150., 180., 210., 240., 270., 300.]),\n",
       " <BarContainer object of 10 artists>)"
      ]
     },
     "execution_count": 448,
     "metadata": {},
     "output_type": "execute_result"
    },
    {
     "data": {
      "image/png": "[encoded data removed]",
      "text/plain": [
       "<Figure size 432x288 with 1 Axes>"
      ]
     },
     "metadata": {
      "needs_background": "light"
     },
     "output_type": "display_data"
    }
   ],
   "source": [
    "plt.hist(neuro['PubsOfMentorInTraning'])"
   ]
  },
  {
   "cell_type": "code",
   "execution_count": 449,
   "id": "7524e068",
   "metadata": {},
   "outputs": [
    {
     "data": {
      "text/plain": [
       "(13837, 31)"
      ]
     },
     "execution_count": 449,
     "metadata": {},
     "output_type": "execute_result"
    }
   ],
   "source": [
    "neuro.shape"
   ]
  },
  {
   "cell_type": "code",
   "execution_count": 452,
   "id": "0835a67c",
   "metadata": {},
   "outputs": [
    {
     "data": {
      "text/html": [
       "<div>\n",
       "<style scoped>\n",
       "    .dataframe tbody tr th:only-of-type {\n",
       "        vertical-align: middle;\n",
       "    }\n",
       "\n",
       "    .dataframe tbody tr th {\n",
       "        vertical-align: top;\n",
       "    }\n",
       "\n",
       "    .dataframe thead th {\n",
       "        text-align: right;\n",
       "    }\n",
       "</style>\n",
       "<table border=\"1\" class=\"dataframe\">\n",
       "  <thead>\n",
       "    <tr style=\"text-align: right;\">\n",
       "      <th></th>\n",
       "      <th>CID</th>\n",
       "      <th>MenteeID</th>\n",
       "      <th>MentorID</th>\n",
       "      <th>MentorshipType</th>\n",
       "      <th>Institution</th>\n",
       "      <th>InstitutionMAGID</th>\n",
       "      <th>StartYear</th>\n",
       "      <th>StopYear</th>\n",
       "      <th>NumOfMenteesOfTheMentor</th>\n",
       "      <th>NumOfMenteesOfTheMentor10</th>\n",
       "      <th>...</th>\n",
       "      <th>YearOfTheFirstPubsOfMenteePubs</th>\n",
       "      <th>First5YearPubsOfMentee</th>\n",
       "      <th>First5YearCitationOfMentee</th>\n",
       "      <th>First5YearCollaOfMentee</th>\n",
       "      <th>YearlyPubsOfMentee</th>\n",
       "      <th>YearlyCitationOfMentee</th>\n",
       "      <th>BirthYearOfMentee</th>\n",
       "      <th>CareerAgeOfMentorInTraining</th>\n",
       "      <th>PubsOfMentorInTraning</th>\n",
       "      <th>CollaPubsOfWithMentor</th>\n",
       "    </tr>\n",
       "  </thead>\n",
       "  <tbody>\n",
       "    <tr>\n",
       "      <th>0</th>\n",
       "      <td>6</td>\n",
       "      <td>18761</td>\n",
       "      <td>9</td>\n",
       "      <td>1</td>\n",
       "      <td>University of California, Berkeley</td>\n",
       "      <td>95457486.0</td>\n",
       "      <td>-1</td>\n",
       "      <td>1984</td>\n",
       "      <td>8</td>\n",
       "      <td>4</td>\n",
       "      <td>...</td>\n",
       "      <td>1986.0</td>\n",
       "      <td>19</td>\n",
       "      <td>745</td>\n",
       "      <td>25</td>\n",
       "      <td>7.666667</td>\n",
       "      <td>441.083333</td>\n",
       "      <td>1984.0</td>\n",
       "      <td>21.0</td>\n",
       "      <td>3</td>\n",
       "      <td>0</td>\n",
       "    </tr>\n",
       "    <tr>\n",
       "      <th>1</th>\n",
       "      <td>248</td>\n",
       "      <td>211</td>\n",
       "      <td>34756</td>\n",
       "      <td>1</td>\n",
       "      <td>University of Rome</td>\n",
       "      <td>NaN</td>\n",
       "      <td>-1</td>\n",
       "      <td>1928</td>\n",
       "      <td>34</td>\n",
       "      <td>6</td>\n",
       "      <td>...</td>\n",
       "      <td>1930.0</td>\n",
       "      <td>7</td>\n",
       "      <td>329</td>\n",
       "      <td>8</td>\n",
       "      <td>1.465116</td>\n",
       "      <td>38.383721</td>\n",
       "      <td>1928.0</td>\n",
       "      <td>7.0</td>\n",
       "      <td>12</td>\n",
       "      <td>0</td>\n",
       "    </tr>\n",
       "    <tr>\n",
       "      <th>2</th>\n",
       "      <td>273</td>\n",
       "      <td>4361</td>\n",
       "      <td>1216</td>\n",
       "      <td>1</td>\n",
       "      <td>Leiden University</td>\n",
       "      <td>121797337.0</td>\n",
       "      <td>-1</td>\n",
       "      <td>1968</td>\n",
       "      <td>24</td>\n",
       "      <td>14</td>\n",
       "      <td>...</td>\n",
       "      <td>-1.0</td>\n",
       "      <td>0</td>\n",
       "      <td>0</td>\n",
       "      <td>0</td>\n",
       "      <td>0.000000</td>\n",
       "      <td>0.000000</td>\n",
       "      <td>1968.0</td>\n",
       "      <td>-1.0</td>\n",
       "      <td>0</td>\n",
       "      <td>0</td>\n",
       "    </tr>\n",
       "  </tbody>\n",
       "</table>\n",
       "<p>3 rows × 31 columns</p>\n",
       "</div>"
      ],
      "text/plain": [
       "   CID  MenteeID  MentorID  MentorshipType  \\\n",
       "0    6     18761         9               1   \n",
       "1  248       211     34756               1   \n",
       "2  273      4361      1216               1   \n",
       "\n",
       "                          Institution  InstitutionMAGID  StartYear  StopYear  \\\n",
       "0  University of California, Berkeley        95457486.0         -1      1984   \n",
       "1                  University of Rome               NaN         -1      1928   \n",
       "2                   Leiden University       121797337.0         -1      1968   \n",
       "\n",
       "   NumOfMenteesOfTheMentor  NumOfMenteesOfTheMentor10  ...  \\\n",
       "0                        8                          4  ...   \n",
       "1                       34                          6  ...   \n",
       "2                       24                         14  ...   \n",
       "\n",
       "   YearOfTheFirstPubsOfMenteePubs  First5YearPubsOfMentee  \\\n",
       "0                          1986.0                      19   \n",
       "1                          1930.0                       7   \n",
       "2                            -1.0                       0   \n",
       "\n",
       "   First5YearCitationOfMentee  First5YearCollaOfMentee  YearlyPubsOfMentee  \\\n",
       "0                         745                       25            7.666667   \n",
       "1                         329                        8            1.465116   \n",
       "2                           0                        0            0.000000   \n",
       "\n",
       "   YearlyCitationOfMentee  BirthYearOfMentee  CareerAgeOfMentorInTraining  \\\n",
       "0              441.083333             1984.0                         21.0   \n",
       "1               38.383721             1928.0                          7.0   \n",
       "2                0.000000             1968.0                         -1.0   \n",
       "\n",
       "   PubsOfMentorInTraning  CollaPubsOfWithMentor  \n",
       "0                      3                      0  \n",
       "1                     12                      0  \n",
       "2                      0                      0  \n",
       "\n",
       "[3 rows x 31 columns]"
      ]
     },
     "execution_count": 452,
     "metadata": {},
     "output_type": "execute_result"
    }
   ],
   "source": [
    "neuro.head(3)"
   ]
  },
  {
   "cell_type": "code",
   "execution_count": 451,
   "id": "f4fc7a2e",
   "metadata": {},
   "outputs": [],
   "source": [
    "neuro.to_csv('physics_0123.csv',header=neuro.columns,index=0)"
   ]
  },
  {
   "cell_type": "code",
   "execution_count": 296,
   "id": "4265dc0c",
   "metadata": {},
   "outputs": [
    {
     "name": "stdout",
     "output_type": "stream",
     "text": [
      "0.4159897392047884\n",
      "0.6671398154719659\n"
     ]
    }
   ],
   "source": [
    "#测试大小团队中的生存率 (test survival rate)\n",
    "all_big = neuro['MenteeID'][neuro.BigOrSmall==1]\n",
    "all_small = neuro['MenteeID'][neuro.BigOrSmall==0]\n",
    "sb = neuro['MenteeID'][neuro.Survival0==1]\n",
    "sur_big = all_big[all_big.isin(sb)]\n",
    "sur_small = all_small[all_small.isin(sb)]\n",
    "print(len(sur_big)/len(all_big))\n",
    "print(len(sur_small)/len(all_small))"
   ]
  },
  {
   "cell_type": "code",
   "execution_count": 297,
   "id": "217d63ca",
   "metadata": {},
   "outputs": [
    {
     "data": {
      "text/html": [
       "<div>\n",
       "<style scoped>\n",
       "    .dataframe tbody tr th:only-of-type {\n",
       "        vertical-align: middle;\n",
       "    }\n",
       "\n",
       "    .dataframe tbody tr th {\n",
       "        vertical-align: top;\n",
       "    }\n",
       "\n",
       "    .dataframe thead th {\n",
       "        text-align: right;\n",
       "    }\n",
       "</style>\n",
       "<table border=\"1\" class=\"dataframe\">\n",
       "  <thead>\n",
       "    <tr style=\"text-align: right;\">\n",
       "      <th></th>\n",
       "      <th>CID</th>\n",
       "      <th>MenteeID</th>\n",
       "      <th>MentorID</th>\n",
       "      <th>MentorshipType</th>\n",
       "      <th>Institution</th>\n",
       "      <th>InstitutionMAGID</th>\n",
       "      <th>StartYear</th>\n",
       "      <th>StopYear</th>\n",
       "      <th>NumOfMenteesOfTheMentor</th>\n",
       "      <th>NumOfMenteesOfTheMentor10</th>\n",
       "      <th>...</th>\n",
       "      <th>YearOfTheFirstPubsOfMenteePubs</th>\n",
       "      <th>First5YearPubsOfMentee</th>\n",
       "      <th>First5YearCitationOfMentee</th>\n",
       "      <th>First5YearCollaOfMentee</th>\n",
       "      <th>YearlyPubsOfMentee</th>\n",
       "      <th>YearlyCitationOfMentee</th>\n",
       "      <th>BirthYearOfMentee</th>\n",
       "      <th>CareerAgeOfMentorInTraining</th>\n",
       "      <th>PubsOfMentorInTraning</th>\n",
       "      <th>CollaPubsOfWithMentor</th>\n",
       "    </tr>\n",
       "  </thead>\n",
       "  <tbody>\n",
       "    <tr>\n",
       "      <th>0</th>\n",
       "      <td>6</td>\n",
       "      <td>18761</td>\n",
       "      <td>9</td>\n",
       "      <td>1</td>\n",
       "      <td>University of California, Berkeley</td>\n",
       "      <td>95457486.0</td>\n",
       "      <td>-1</td>\n",
       "      <td>1984</td>\n",
       "      <td>8</td>\n",
       "      <td>4</td>\n",
       "      <td>...</td>\n",
       "      <td>1986.0</td>\n",
       "      <td>19</td>\n",
       "      <td>745</td>\n",
       "      <td>25</td>\n",
       "      <td>7.666667</td>\n",
       "      <td>441.083333</td>\n",
       "      <td>1984.0</td>\n",
       "      <td>21.0</td>\n",
       "      <td>3</td>\n",
       "      <td>0</td>\n",
       "    </tr>\n",
       "  </tbody>\n",
       "</table>\n",
       "<p>1 rows × 32 columns</p>\n",
       "</div>"
      ],
      "text/plain": [
       "   CID  MenteeID  MentorID  MentorshipType  \\\n",
       "0    6     18761         9               1   \n",
       "\n",
       "                          Institution  InstitutionMAGID  StartYear  StopYear  \\\n",
       "0  University of California, Berkeley        95457486.0         -1      1984   \n",
       "\n",
       "   NumOfMenteesOfTheMentor  NumOfMenteesOfTheMentor10  ...  \\\n",
       "0                        8                          4  ...   \n",
       "\n",
       "   YearOfTheFirstPubsOfMenteePubs  First5YearPubsOfMentee  \\\n",
       "0                          1986.0                      19   \n",
       "\n",
       "   First5YearCitationOfMentee  First5YearCollaOfMentee  YearlyPubsOfMentee  \\\n",
       "0                         745                       25            7.666667   \n",
       "\n",
       "   YearlyCitationOfMentee  BirthYearOfMentee  CareerAgeOfMentorInTraining  \\\n",
       "0              441.083333             1984.0                         21.0   \n",
       "\n",
       "   PubsOfMentorInTraning  CollaPubsOfWithMentor  \n",
       "0                      3                      0  \n",
       "\n",
       "[1 rows x 32 columns]"
      ]
     },
     "execution_count": 297,
     "metadata": {},
     "output_type": "execute_result"
    }
   ],
   "source": [
    "neuro.head(1)"
   ]
  },
  {
   "cell_type": "code",
   "execution_count": 299,
   "id": "b03598c9",
   "metadata": {},
   "outputs": [],
   "source": [
    "# neuro = neuro.drop(['Unnamed: 0'],axis=1)"
   ]
  },
  {
   "cell_type": "code",
   "execution_count": 300,
   "id": "d919f0ca",
   "metadata": {},
   "outputs": [
    {
     "data": {
      "text/plain": [
       "(9399, 32)"
      ]
     },
     "execution_count": 300,
     "metadata": {},
     "output_type": "execute_result"
    }
   ],
   "source": [
    "neuro.shape"
   ]
  },
  {
   "cell_type": "code",
   "execution_count": 301,
   "id": "1559b8c1",
   "metadata": {},
   "outputs": [],
   "source": [
    "#save data\n",
    "# neuro.to_csv('physics_0123.csv',index=0)"
   ]
  }
 ],
 "metadata": {
  "kernelspec": {
   "display_name": "Python 3",
   "language": "python",
   "name": "python3"
  },
  "language_info": {
   "codemirror_mode": {
    "name": "ipython",
    "version": 3
   },
   "file_extension": ".py",
   "mimetype": "text/x-python",
   "name": "python",
   "nbconvert_exporter": "python",
   "pygments_lexer": "ipython3",
   "version": "3.8.3"
  }
 },
 "nbformat": 4,
 "nbformat_minor": 5
}
