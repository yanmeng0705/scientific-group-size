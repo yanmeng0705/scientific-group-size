{
 "cells": [
  {
   "cell_type": "code",
   "execution_count": 1,
   "id": "504282cd",
   "metadata": {},
   "outputs": [],
   "source": [
    "import pandas as pd\n",
    "import numpy as np\n",
    "import csv\n",
    "import pickle\n",
    "from collections import Counter\n",
    "import matplotlib.pyplot as plt\n",
    "import powerlaw,math\n",
    "import os\n",
    "import seaborn as sns\n",
    "from mpl_toolkits.axes_grid1.inset_locator import inset_axes\n",
    "from matplotlib.ticker import MultipleLocator, FormatStrFormatter"
   ]
  },
  {
   "cell_type": "code",
   "execution_count": 2,
   "id": "e854b03d",
   "metadata": {},
   "outputs": [],
   "source": [
    "researcher = pd.read_csv('/Users/yanmemgxing/Desktop/my files/2021/mentor-mentee/Qing Ke/fields/researcher.csv')\n",
    "mentorship = pd.read_csv('/Users/yanmemgxing/Desktop/my files/2021/mentor-mentee/Qing Ke/fields/mentorship.csv')\n",
    "files_field = ['chemistry.csv','physics.csv','neuro.csv']"
   ]
  },
  {
   "cell_type": "code",
   "execution_count": 3,
   "id": "982b3c5f",
   "metadata": {},
   "outputs": [],
   "source": [
    "fields_rl = {}\n",
    "for item in files_field:\n",
    "    tp = pd.read_csv('./fields/'+item)\n",
    "    tn = item.split('.')[0]\n",
    "    fields_rl[tn] = tp"
   ]
  },
  {
   "cell_type": "code",
   "execution_count": 4,
   "id": "38a76fa1",
   "metadata": {},
   "outputs": [
    {
     "data": {
      "text/html": [
       "<div>\n",
       "<style scoped>\n",
       "    .dataframe tbody tr th:only-of-type {\n",
       "        vertical-align: middle;\n",
       "    }\n",
       "\n",
       "    .dataframe tbody tr th {\n",
       "        vertical-align: top;\n",
       "    }\n",
       "\n",
       "    .dataframe thead th {\n",
       "        text-align: right;\n",
       "    }\n",
       "</style>\n",
       "<table border=\"1\" class=\"dataframe\">\n",
       "  <thead>\n",
       "    <tr style=\"text-align: right;\">\n",
       "      <th></th>\n",
       "      <th>Unnamed: 0</th>\n",
       "      <th>CID</th>\n",
       "      <th>MenteeID</th>\n",
       "      <th>MentorID</th>\n",
       "      <th>MentorshipType</th>\n",
       "      <th>Institution</th>\n",
       "      <th>InstitutionMAGID</th>\n",
       "      <th>StartYear</th>\n",
       "      <th>StopYear</th>\n",
       "    </tr>\n",
       "  </thead>\n",
       "  <tbody>\n",
       "    <tr>\n",
       "      <th>0</th>\n",
       "      <td>3</td>\n",
       "      <td>6</td>\n",
       "      <td>18761</td>\n",
       "      <td>9</td>\n",
       "      <td>1</td>\n",
       "      <td>University of California, Berkeley</td>\n",
       "      <td>95457486.0</td>\n",
       "      <td>-1</td>\n",
       "      <td>1984</td>\n",
       "    </tr>\n",
       "    <tr>\n",
       "      <th>1</th>\n",
       "      <td>117</td>\n",
       "      <td>130</td>\n",
       "      <td>53604</td>\n",
       "      <td>33687</td>\n",
       "      <td>1</td>\n",
       "      <td>Utrecht University</td>\n",
       "      <td>193662353.0</td>\n",
       "      <td>-1</td>\n",
       "      <td>1997</td>\n",
       "    </tr>\n",
       "  </tbody>\n",
       "</table>\n",
       "</div>"
      ],
      "text/plain": [
       "   Unnamed: 0  CID  MenteeID  MentorID  MentorshipType  \\\n",
       "0           3    6     18761         9               1   \n",
       "1         117  130     53604     33687               1   \n",
       "\n",
       "                          Institution  InstitutionMAGID  StartYear  StopYear  \n",
       "0  University of California, Berkeley        95457486.0         -1      1984  \n",
       "1                  Utrecht University       193662353.0         -1      1997  "
      ]
     },
     "execution_count": 4,
     "metadata": {},
     "output_type": "execute_result"
    }
   ],
   "source": [
    "fields_rl['chemistry'].head(2)"
   ]
  },
  {
   "cell_type": "code",
   "execution_count": 5,
   "id": "adad1133",
   "metadata": {},
   "outputs": [
    {
     "name": "stdout",
     "output_type": "stream",
     "text": [
      "[0.7854814170832428, 0.7118017822212562, 0.55553140621604]\n",
      "4601 4601 4601\n",
      "[0.8004255319148936, 0.6531914893617021, 0.43148936170212765]\n",
      "2350 2350 2350\n",
      "[0.8192044997991161, 0.6742705570291777, 0.5680996384089996]\n",
      "2489 1885 2489\n"
     ]
    }
   ],
   "source": [
    "field_GSE = {}\n",
    "for k in fields_rl:   # key is field's name\n",
    "    nm = k + '_GSE.pickle'\n",
    "    neuro0 = fields_rl[k]\n",
    "    MTO = set(neuro0.MentorID)\n",
    "    with open(nm,'rb')as f:\n",
    "        neuro = pickle.load(f)\n",
    "    neuro = neuro[(neuro.StopYear>=1960)&(neuro.StopYear<=1995)]\n",
    "    gse = neuro.NumOfMenteesOfTheMentor10\n",
    "    th1,th2,th3 = np.quantile(gse,0.25),np.quantile(gse,0.5),np.quantile(gse,0.75)\n",
    "    n_th = math.ceil(len(gse)*0.25)\n",
    "    mte_small = np.array(neuro.MenteeID[neuro.NumOfMenteesOfTheMentor10<=th1])\n",
    "    mte_small = mte_small[:n_th]\n",
    "    mte_median = np.array(neuro.MenteeID[(neuro.NumOfMenteesOfTheMentor10>th1)&\n",
    "                                         (neuro.NumOfMenteesOfTheMentor10<th3)])\n",
    "    mte_median = mte_median[:n_th]\n",
    "    mte_big = np.array(neuro.MenteeID[neuro.NumOfMenteesOfTheMentor10>=th3])\n",
    "    mte_big = mte_big[:n_th]\n",
    "    \n",
    "    sr_small = len([m for m in mte_small if m in MTO])/len(mte_small)\n",
    "    sr_median = len([m for m in mte_median if m in MTO])/len(mte_median)\n",
    "    sr_big = len([m for m in mte_big if m in MTO])/len(mte_big)\n",
    "    \n",
    "    print([sr_small,sr_median,sr_big])\n",
    "    print(len(mte_small),len(mte_median),len(mte_big))\n",
    "    field_GSE[k] = [sr_small,sr_median,sr_big]"
   ]
  },
  {
   "cell_type": "markdown",
   "id": "d91d4ef2",
   "metadata": {},
   "source": [
    "##### 以发文量计算的 dropout"
   ]
  },
  {
   "cell_type": "code",
   "execution_count": 6,
   "id": "f3b4c8df",
   "metadata": {},
   "outputs": [],
   "source": [
    "fields_pub = {}\n",
    "for item in files_field:\n",
    "    tp0 = item.split('.')[0]\n",
    "    tp = pd.read_csv(tp0 + '_0207.csv')\n",
    "    fields_pub[tp0] = tp"
   ]
  },
  {
   "cell_type": "code",
   "execution_count": 7,
   "id": "602ef591",
   "metadata": {},
   "outputs": [
    {
     "name": "stdout",
     "output_type": "stream",
     "text": [
      "chemistry\n",
      "[0.8398174309932623, 0.8128667680938926, 0.6631167137578787]\n",
      "4601 4601 4601\n",
      "physics\n",
      "[0.7787234042553192, 0.7353191489361702, 0.5574468085106383]\n",
      "2350 2350 2350\n",
      "neuro\n",
      "[0.8585777420650864, 0.8047745358090186, 0.7159501807955002]\n",
      "2489 1885 2489\n"
     ]
    }
   ],
   "source": [
    "field_GSE_pub = {}\n",
    "for k in fields_pub:   # key is field's name\n",
    "    print(k)\n",
    "    neuro = fields_pub[k]\n",
    "    neuro = neuro[(neuro.StopYear>=1960)&(neuro.StopYear<=1995)]\n",
    "    MTO = np.array(neuro.MenteeID[neuro.S_Or_DP==1])\n",
    "    gse = neuro.NumOfMenteesOfTheMentor10\n",
    "    n_th = math.ceil(len(gse)*0.25)\n",
    "    \n",
    "    #预处理好的数据：分年代计算的退出\n",
    "#     bigGroup = neuro['MenteeID'][neuro.BigOrSmall==1]\n",
    "#     smallGroup = neuro['MenteeID'][neuro.BigOrSmall==0]\n",
    "#     medianGroup = neuro['MenteeID'][neuro.BigOrSmall==-1]\n",
    "#     mte_small = smallGroup[:n_th]\n",
    "#     mte_median = medianGroup[:n_th]\n",
    "#     mte_big = bigGroup[:n_th]\n",
    "    \n",
    "    #整体区间计算：1960-1995\n",
    "    th1,th2,th3 = np.quantile(gse,0.25),np.quantile(gse,0.5),np.quantile(gse,0.75)\n",
    "    n_th = math.ceil(len(gse)*0.25)\n",
    "    mte_small = np.array(neuro.MenteeID[neuro.NumOfMenteesOfTheMentor10<=th1])\n",
    "    mte_small = mte_small[:n_th]\n",
    "    mte_median = np.array(neuro.MenteeID[(neuro.NumOfMenteesOfTheMentor10>th1)&\n",
    "                                         (neuro.NumOfMenteesOfTheMentor10<th3)])\n",
    "    mte_median = mte_median[:n_th]\n",
    "    mte_big = np.array(neuro.MenteeID[neuro.NumOfMenteesOfTheMentor10>=th3])\n",
    "    mte_big = mte_big[:n_th]\n",
    "    \n",
    "    \n",
    "   \n",
    "    \n",
    "    sr_small = len([m for m in mte_small if m in MTO])/len(mte_small)\n",
    "    sr_median = len([m for m in mte_median if m in MTO])/len(mte_median)\n",
    "    sr_big = len([m for m in mte_big if m in MTO])/len(mte_big)\n",
    "    \n",
    "    print([sr_small,sr_median,sr_big])\n",
    "    print(len(mte_small),len(mte_median),len(mte_big))\n",
    "    field_GSE_pub[k] = [sr_small,sr_median,sr_big]"
   ]
  },
  {
   "cell_type": "code",
   "execution_count": 77,
   "id": "6a6689e5",
   "metadata": {},
   "outputs": [
    {
     "data": {
      "text/plain": [
       "dict_keys(['chemistry', 'physics', 'neuro'])"
      ]
     },
     "execution_count": 77,
     "metadata": {},
     "output_type": "execute_result"
    }
   ],
   "source": [
    "field_GSE_pub.keys()"
   ]
  },
  {
   "cell_type": "code",
   "execution_count": 8,
   "id": "da42a7ab",
   "metadata": {},
   "outputs": [],
   "source": [
    "import matplotlib.colors as colors\n",
    "rgb=([253,192,134],[127,201,127],[190,174,212])\n",
    "rgb=np.array(rgb)/255\n",
    "icmap=colors.ListedColormap(rgb,name='my_color')\n",
    "cmap_color = icmap  #.reversed()"
   ]
  },
  {
   "cell_type": "code",
   "execution_count": 54,
   "id": "2704e9fc",
   "metadata": {},
   "outputs": [],
   "source": [
    "# cmap_color"
   ]
  },
  {
   "cell_type": "code",
   "execution_count": 13,
   "id": "70d36506",
   "metadata": {},
   "outputs": [
    {
     "name": "stdout",
     "output_type": "stream",
     "text": [
      "[0.79, 0.71, 0.56]\n",
      "[0.8, 0.65, 0.43]\n",
      "[0.82, 0.67, 0.57]\n",
      "[0.84, 0.81, 0.66]\n",
      "[0.78, 0.74, 0.56]\n",
      "[0.86, 0.8, 0.72]\n"
     ]
    },
    {
     "data": {
      "image/png": "[encoded data removed]",
      "text/plain": [
       "<Figure size 504x216 with 2 Axes>"
      ]
     },
     "metadata": {},
     "output_type": "display_data"
    }
   ],
   "source": [
    "sns.set(style='ticks', font_scale=0.7, font='Arial')\n",
    "l_index = [' a. ',' b. ',' c. ',' d. ',' e. ',' f. ',' g. ',' h. ',' i. ',' j. ',' k. ',' l. ']\n",
    "fig = plt.figure(figsize=(7,3),tight_layout=1)#figsize=(10,3.5)\n",
    "#图1\n",
    "ax = fig.add_subplot(1,2,1)\n",
    "i = 0\n",
    "color_list = []\n",
    "for k in fields_pub:\n",
    "    y = field_GSE[k]\n",
    "    y = [round(ty,2) for ty in y]\n",
    "    print(y)\n",
    "    x = np.array([0,2,4])\n",
    "    bar_width = 0.5\n",
    "    rects1 = ax.bar(x+bar_width*(i+1), y, bar_width, align=\"center\", color=rgb[i], \n",
    "                  label=k, alpha=1)\n",
    "    def autolabel(rects):\n",
    "        for rect in rects:\n",
    "            height = rect.get_height()\n",
    "            ax.annotate('{}'.format(height),\n",
    "                        xy=(rect.get_x() + rect.get_width() / 2, height),\n",
    "                        xytext=(0, 3),  # 3 points vertical offset\n",
    "                        textcoords=\"offset pixels\",\n",
    "                        ha='center', va='bottom')\n",
    "    autolabel(rects1)\n",
    "    i+=1\n",
    "X_ticks = ['SmallGroup','MedianGroup','BigGroup']\n",
    "c = ax.set_xticks(ticks=[1,3,5],labels=X_ticks)\n",
    "ax.tick_params(labelsize=10)\n",
    "ax.spines['top'].set_visible(False)\n",
    "ax.spines['right'].set_visible(False) \n",
    "ax.set_ylim([0.3,1])\n",
    "ax.legend()\n",
    "ax.set_ylabel('Proliferation Survival Rate')\n",
    "ax.text(-0.14, 1.1,' a. ',ha='center', va='center', transform=ax.transAxes)\n",
    "#图2\n",
    "ax = fig.add_subplot(1,2,2)\n",
    "i = 0\n",
    "color_list = []\n",
    "for k in fields_pub:\n",
    "    y = field_GSE_pub[k]\n",
    "    y = [round(ty,2) for ty in y]\n",
    "    print(y)\n",
    "    x = np.array([0,2,4])\n",
    "    bar_width = 0.5\n",
    "    rects1 = ax.bar(x+bar_width*(i+1), y, bar_width, align=\"center\", color=rgb[i], \n",
    "                  label=k, alpha=1,hatch='/')\n",
    "    autolabel(rects1)\n",
    "    i+=1\n",
    "X_ticks = ['SmallGroup','MedianGroup','BigGroup']\n",
    "c = ax.set_xticks(ticks=[1,3,5],labels=X_ticks)\n",
    "ax.tick_params(labelsize=10)\n",
    "ax.spines['top'].set_visible(False)\n",
    "ax.spines['right'].set_visible(False) \n",
    "ax.set_ylim([0.3,1])\n",
    "ax.set_ylabel('Publication Survival Rate')\n",
    "ax.legend()\n",
    "ax.text(-0.14, 1.1,' b. ',ha='center', va='center', transform=ax.transAxes)\n",
    "fig.savefig('dropout comparasion.pdf')"
   ]
  },
  {
   "cell_type": "code",
   "execution_count": null,
   "id": "37a2c653",
   "metadata": {},
   "outputs": [],
   "source": []
  }
 ],
 "metadata": {
  "kernelspec": {
   "display_name": "Python 3",
   "language": "python",
   "name": "python3"
  },
  "language_info": {
   "codemirror_mode": {
    "name": "ipython",
    "version": 3
   },
   "file_extension": ".py",
   "mimetype": "text/x-python",
   "name": "python",
   "nbconvert_exporter": "python",
   "pygments_lexer": "ipython3",
   "version": "3.8.3"
  }
 },
 "nbformat": 4,
 "nbformat_minor": 5
}
