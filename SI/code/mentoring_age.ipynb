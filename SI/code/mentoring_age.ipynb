{
 "cells": [
  {
   "cell_type": "code",
   "execution_count": 17,
   "id": "b7107d6f",
   "metadata": {},
   "outputs": [],
   "source": [
    "import pandas as pd\n",
    "import numpy as np\n",
    "import csv\n",
    "import pickle\n",
    "from collections import Counter\n",
    "import matplotlib.pyplot as plt\n",
    "import powerlaw,math\n",
    "import os\n",
    "import seaborn as sns\n",
    "from mpl_toolkits.axes_grid1.inset_locator import inset_axes\n",
    "from matplotlib.pyplot import MultipleLocator"
   ]
  },
  {
   "cell_type": "code",
   "execution_count": 2,
   "id": "be2f10c7",
   "metadata": {},
   "outputs": [],
   "source": [
    "researcher = pd.read_csv('/Users/yanmemgxing/Desktop/my files/2021/mentor-mentee/Qing Ke/fields/researcher.csv')\n",
    "mentorship = pd.read_csv('/Users/yanmemgxing/Desktop/my files/2021/mentor-mentee/Qing Ke/fields/mentorship.csv')"
   ]
  },
  {
   "cell_type": "code",
   "execution_count": 3,
   "id": "69742f5c",
   "metadata": {},
   "outputs": [],
   "source": [
    "files_field = ['chemistry.csv','physics.csv','neuro.csv']"
   ]
  },
  {
   "cell_type": "code",
   "execution_count": 4,
   "id": "2215485e",
   "metadata": {},
   "outputs": [],
   "source": [
    "fields_rl = {}\n",
    "for item in files_field:\n",
    "    tp = pd.read_csv('./fields/'+item)\n",
    "    tn = item.split('.')[0]\n",
    "    fields_rl[tn] = tp"
   ]
  },
  {
   "cell_type": "code",
   "execution_count": 5,
   "id": "0b8808f3",
   "metadata": {},
   "outputs": [
    {
     "name": "stdout",
     "output_type": "stream",
     "text": [
      "132453\n"
     ]
    },
    {
     "data": {
      "text/html": [
       "<div>\n",
       "<style scoped>\n",
       "    .dataframe tbody tr th:only-of-type {\n",
       "        vertical-align: middle;\n",
       "    }\n",
       "\n",
       "    .dataframe tbody tr th {\n",
       "        vertical-align: top;\n",
       "    }\n",
       "\n",
       "    .dataframe thead th {\n",
       "        text-align: right;\n",
       "    }\n",
       "</style>\n",
       "<table border=\"1\" class=\"dataframe\">\n",
       "  <thead>\n",
       "    <tr style=\"text-align: right;\">\n",
       "      <th></th>\n",
       "      <th>Unnamed: 0</th>\n",
       "      <th>CID</th>\n",
       "      <th>MenteeID</th>\n",
       "      <th>MentorID</th>\n",
       "      <th>MentorshipType</th>\n",
       "      <th>Institution</th>\n",
       "      <th>InstitutionMAGID</th>\n",
       "      <th>StartYear</th>\n",
       "      <th>StopYear</th>\n",
       "    </tr>\n",
       "  </thead>\n",
       "  <tbody>\n",
       "    <tr>\n",
       "      <th>0</th>\n",
       "      <td>3</td>\n",
       "      <td>6</td>\n",
       "      <td>18761</td>\n",
       "      <td>9</td>\n",
       "      <td>1</td>\n",
       "      <td>University of California, Berkeley</td>\n",
       "      <td>95457486.0</td>\n",
       "      <td>-1</td>\n",
       "      <td>1984</td>\n",
       "    </tr>\n",
       "    <tr>\n",
       "      <th>1</th>\n",
       "      <td>117</td>\n",
       "      <td>130</td>\n",
       "      <td>53604</td>\n",
       "      <td>33687</td>\n",
       "      <td>1</td>\n",
       "      <td>Utrecht University</td>\n",
       "      <td>193662353.0</td>\n",
       "      <td>-1</td>\n",
       "      <td>1997</td>\n",
       "    </tr>\n",
       "    <tr>\n",
       "      <th>2</th>\n",
       "      <td>137</td>\n",
       "      <td>151</td>\n",
       "      <td>20</td>\n",
       "      <td>24</td>\n",
       "      <td>2</td>\n",
       "      <td>Baylor College of Medicine</td>\n",
       "      <td>181547552.0</td>\n",
       "      <td>-1</td>\n",
       "      <td>-1</td>\n",
       "    </tr>\n",
       "    <tr>\n",
       "      <th>3</th>\n",
       "      <td>147</td>\n",
       "      <td>161</td>\n",
       "      <td>12561</td>\n",
       "      <td>52639</td>\n",
       "      <td>1</td>\n",
       "      <td>University of Washington, Seattle</td>\n",
       "      <td>201448701.0</td>\n",
       "      <td>1967</td>\n",
       "      <td>1971</td>\n",
       "    </tr>\n",
       "    <tr>\n",
       "      <th>4</th>\n",
       "      <td>190</td>\n",
       "      <td>212</td>\n",
       "      <td>188</td>\n",
       "      <td>189</td>\n",
       "      <td>1</td>\n",
       "      <td>Harvard University</td>\n",
       "      <td>136199984.0</td>\n",
       "      <td>-1</td>\n",
       "      <td>1927</td>\n",
       "    </tr>\n",
       "  </tbody>\n",
       "</table>\n",
       "</div>"
      ],
      "text/plain": [
       "   Unnamed: 0  CID  MenteeID  MentorID  MentorshipType  \\\n",
       "0           3    6     18761         9               1   \n",
       "1         117  130     53604     33687               1   \n",
       "2         137  151        20        24               2   \n",
       "3         147  161     12561     52639               1   \n",
       "4         190  212       188       189               1   \n",
       "\n",
       "                          Institution  InstitutionMAGID  StartYear  StopYear  \n",
       "0  University of California, Berkeley        95457486.0         -1      1984  \n",
       "1                  Utrecht University       193662353.0         -1      1997  \n",
       "2          Baylor College of Medicine       181547552.0         -1        -1  \n",
       "3   University of Washington, Seattle       201448701.0       1967      1971  \n",
       "4                  Harvard University       136199984.0         -1      1927  "
      ]
     },
     "execution_count": 5,
     "metadata": {},
     "output_type": "execute_result"
    }
   ],
   "source": [
    "tp = fields_rl['chemistry']\n",
    "# tp = fields_rl['physics']\n",
    "# tp = fields_rl['neuro']\n",
    "print(len(tp))\n",
    "tp.head(5)"
   ]
  },
  {
   "cell_type": "markdown",
   "id": "3b5c00ad",
   "metadata": {},
   "source": [
    "##### 为什么选取毕业25年后的招生数作为指标：为什么是25？"
   ]
  },
  {
   "cell_type": "markdown",
   "id": "0c41539f",
   "metadata": {},
   "source": [
    "1.学生受训时的导师的学术年龄分布"
   ]
  },
  {
   "cell_type": "code",
   "execution_count": 6,
   "id": "f98e8ecd",
   "metadata": {},
   "outputs": [
    {
     "name": "stdout",
     "output_type": "stream",
     "text": [
      "26271\n",
      "15420\n"
     ]
    }
   ],
   "source": [
    "tp1 = pd.DataFrame(tp[(tp.StopYear!=-1)])      # having stopyear\n",
    "mto = set(tp1['MentorID'])\n",
    "mmb_BirthYear = {}\n",
    "for k in mto:\n",
    "    try:\n",
    "        by = min(tp1['StopYear'][tp1.MenteeID==k])\n",
    "        mmb_BirthYear[k] = by\n",
    "    except:\n",
    "        a = 'nt'\n",
    "print(len(mto))\n",
    "print(len(mmb_BirthYear))"
   ]
  },
  {
   "cell_type": "code",
   "execution_count": 7,
   "id": "3e90974c",
   "metadata": {},
   "outputs": [
    {
     "name": "stdout",
     "output_type": "stream",
     "text": [
      "chemistry\n",
      "26271\n",
      "15420\n",
      "physics\n",
      "15348\n",
      "8581\n",
      "neuro\n",
      "30093\n",
      "9203\n"
     ]
    }
   ],
   "source": [
    "#计算一个三个领域的所有老师的出道年份的csv\n",
    "mentor_birthYear = []\n",
    "F_name = ['chemistry','physics','neuro']\n",
    "for f in F_name:\n",
    "    print(f)\n",
    "    tp = fields_rl[f]\n",
    "    tp1 = pd.DataFrame(tp[(tp.StopYear!=-1)])      # having stopyear\n",
    "    mto = set(tp1['MentorID'])\n",
    "    print(len(mto))\n",
    "    temp = []\n",
    "    for k in mto:\n",
    "        try:\n",
    "            by = min(tp1['StopYear'][tp1.MenteeID==k])\n",
    "#             mmb_BirthYear[k] = by\n",
    "            temp1 = [k,by]\n",
    "            temp.append(temp1)\n",
    "        except:\n",
    "            a = 'nt'\n",
    "    print(len(temp))\n",
    "    mentor_birthYear.extend(temp)"
   ]
  },
  {
   "cell_type": "code",
   "execution_count": 24,
   "id": "9b03bd3b",
   "metadata": {},
   "outputs": [],
   "source": [
    "# mentor_birthYear.to_csv('mentor_birthYear.csv',header=['MentorID','Birthyear'],index=0)"
   ]
  },
  {
   "cell_type": "code",
   "execution_count": 8,
   "id": "253750ac",
   "metadata": {},
   "outputs": [],
   "source": [
    "CareerAge_chem = []\n",
    "for k in mmb_BirthYear:\n",
    "    my_k = np.array(tp1['StopYear'][tp1.MentorID==k])\n",
    "    CareerAge_chem.extend(list(my_k - mmb_BirthYear[k]))"
   ]
  },
  {
   "cell_type": "code",
   "execution_count": 9,
   "id": "76314d22",
   "metadata": {},
   "outputs": [],
   "source": [
    "CareerAge_phy = []\n",
    "for k in mmb_BirthYear:\n",
    "    my_k = np.array(tp1['StopYear'][tp1.MentorID==k])\n",
    "    CareerAge_phy.extend(list(my_k - mmb_BirthYear[k]))"
   ]
  },
  {
   "cell_type": "code",
   "execution_count": 10,
   "id": "b2b0f540",
   "metadata": {},
   "outputs": [],
   "source": [
    "CareerAge_neuro = []\n",
    "for k in mmb_BirthYear:\n",
    "    my_k = np.array(tp1['StopYear'][tp1.MentorID==k])\n",
    "    CareerAge_neuro.extend(list(my_k - mmb_BirthYear[k]))"
   ]
  },
  {
   "cell_type": "code",
   "execution_count": 11,
   "id": "84ff3b14",
   "metadata": {},
   "outputs": [],
   "source": [
    "CA = [CareerAge_chem,CareerAge_phy,CareerAge_neuro]"
   ]
  },
  {
   "cell_type": "code",
   "execution_count": 12,
   "id": "ce09bc42",
   "metadata": {},
   "outputs": [],
   "source": [
    "mmb_BirthYear_1995 = [k for k in mmb_BirthYear if mmb_BirthYear[k]<=1995]\n",
    "tp = fields_rl['chemistry']\n",
    "tp1 = pd.DataFrame(tp[(tp.StopYear!=-1)])      # having stopyear\n",
    "CareerAge_chem1995 = []\n",
    "for k in mmb_BirthYear_1995:\n",
    "    my_k = np.array(tp1['StopYear'][tp1.MentorID==k])\n",
    "    CareerAge_chem1995.extend(list(my_k - mmb_BirthYear[k]))"
   ]
  },
  {
   "cell_type": "code",
   "execution_count": 13,
   "id": "2c8f5fc7",
   "metadata": {},
   "outputs": [],
   "source": [
    "mmb_BirthYear_1995 = [k for k in mmb_BirthYear if mmb_BirthYear[k]<=1995]\n",
    "tp = fields_rl['physics']\n",
    "tp1 = pd.DataFrame(tp[(tp.StopYear!=-1)])      # having stopyear\n",
    "CareerAge_phy1995 = []\n",
    "for k in mmb_BirthYear_1995:\n",
    "    my_k = np.array(tp1['StopYear'][tp1.MentorID==k])\n",
    "    CareerAge_phy1995.extend(list(my_k - mmb_BirthYear[k]))"
   ]
  },
  {
   "cell_type": "code",
   "execution_count": 14,
   "id": "97d73b2f",
   "metadata": {},
   "outputs": [],
   "source": [
    "mmb_BirthYear_1995 = [k for k in mmb_BirthYear if mmb_BirthYear[k]<=1995]\n",
    "tp = fields_rl['neuro']\n",
    "tp1 = pd.DataFrame(tp[(tp.StopYear!=-1)])      # having stopyear\n",
    "CareerAge_neuro1995 = []\n",
    "for k in mmb_BirthYear_1995:\n",
    "    my_k = np.array(tp1['StopYear'][tp1.MentorID==k])\n",
    "    CareerAge_neuro1995.extend(list(my_k - mmb_BirthYear[k]))"
   ]
  },
  {
   "cell_type": "code",
   "execution_count": 15,
   "id": "eaeb26ed",
   "metadata": {},
   "outputs": [],
   "source": [
    "CA_1995 = [CareerAge_chem1995,CareerAge_phy1995,CareerAge_neuro1995]"
   ]
  },
  {
   "cell_type": "code",
   "execution_count": 19,
   "id": "bc7576a0",
   "metadata": {},
   "outputs": [
    {
     "name": "stderr",
     "output_type": "stream",
     "text": [
      "<ipython-input-19-116775544d1c>:96: UserWarning: This figure includes Axes that are not compatible with tight_layout, so results might be incorrect.\n",
      "  fig.savefig('mentoring_age.pdf')\n",
      "/Users/yanmemgxing/anaconda3/lib/python3.8/site-packages/IPython/core/pylabtools.py:132: UserWarning: This figure includes Axes that are not compatible with tight_layout, so results might be incorrect.\n",
      "  fig.canvas.print_figure(bytes_io, **kw)\n"
     ]
    },
    {
     "data": {
      "image/png": "[encoded data removed]",
      "text/plain": [
       "<Figure size 1512x864 with 12 Axes>"
      ]
     },
     "metadata": {},
     "output_type": "display_data"
    }
   ],
   "source": [
    "sns.set(style='ticks', font_scale=2, font='Arial')\n",
    "l_index = [' a. ',' b. ',' c. ',' d. ',' e. ',' f. ',' g. ',' h. ',' i. ',' j. ',' k. ',' l. ']\n",
    "fig = plt.figure(figsize=(21,12),tight_layout=1)#figsize=(10,3.5)\n",
    "for i in range(0,3):\n",
    "    fd = files_field[i].split('.')[0]\n",
    "    CareerAge = CA[i]\n",
    "    \n",
    "    ax = fig.add_subplot(2,3,i+1)\n",
    "    results, edges = np.histogram(CareerAge, density=1,range=[0,80],bins=80)\n",
    "    binWidth = edges[1] - edges[0]\n",
    "    ax.bar(edges[0:-1],results,label='Survival Mentee',color='yellowgreen',alpha=1)\n",
    "#     legend = ax.legend(loc=(0.85,0.1), bbox_to_anchor=(0.1, 0.1, 6/10, 3/5),\n",
    "#                borderaxespad=0,edgecolor='white')#prop = legend_properties, \n",
    "#     frame = legend.get_frame() \n",
    "#     frame.set_alpha(1) \n",
    "#     frame.set_facecolor('none') # 设置图例legend背景透明\n",
    "#     legend.get_frame().set_linewidth(0.0)\n",
    "\n",
    "    ax.set_xlabel('career age of mentoring')\n",
    "    ax.set_ylabel('Probability')\n",
    "    # ax.spines['top'].set_visible(False)\n",
    "    # ax.spines['right'].set_visible(False)\n",
    "    ax.set_title(fd)\n",
    "    # ax.grid(True,which=\"both\", ls=\"-\")\n",
    "    ax.text(-0.14, 1.1,l_index[i],ha='center', va='center', transform=ax.transAxes)\n",
    "\n",
    "    x0 = edges;y0 = results*binWidth\n",
    "    Y0 = []\n",
    "    tp = 0\n",
    "    for k in y0:\n",
    "        tp+=k\n",
    "        Y0.append(tp)\n",
    "    Y0 = np.array(Y0)\n",
    "    axins = inset_axes(ax, width=2.4, height=1.5,loc='upper right')\n",
    "    axins.plot(x0[0:len(x0)-1],Y0,label='Survival Mentee',color='seagreen',marker='o',ls='',\n",
    "              alpha=0.8,markerfacecolor='white')\n",
    "    axins.set_ylabel('cdf')\n",
    "    axins.set_ylim([-0.05,1.1])\n",
    "    axins.set_xlim([-3,82])\n",
    "    y_major_locator=MultipleLocator(0.5)\n",
    "    axins.yaxis.set_major_locator(y_major_locator)\n",
    "#     axins.set_xlabel('career age of mentoring')\n",
    "    #画标示线\n",
    "    axins.plot([25,25],[-0.05,Y0[25]],'--r')\n",
    "    axins.plot([-3,25],[Y0[25],Y0[25]],'--r')\n",
    "#     axins\n",
    "    # axins.set_title('SmallGroup')\n",
    "    # axins.grid(True,which=\"both\", ls=\"-\")\n",
    "    # axins.spines['top'].set_visible(False)\n",
    "    # axins.spines['right'].set_visible(False)\n",
    "    \n",
    "    \n",
    "    \n",
    "    #第二行的图\n",
    "    CareerAge = CA_1995[i]\n",
    "    ax = fig.add_subplot(2,3,i+4)\n",
    "    results, edges = np.histogram(CareerAge, density=1,range=[0,80],bins=80)\n",
    "    binWidth = edges[1] - edges[0]\n",
    "    ax.bar(edges[0:-1],results,label='Survival Mentee',color='gold',alpha=1)\n",
    "#     legend = ax.legend(loc=(0.85,0.1), bbox_to_anchor=(0.1, 0.1, 6/10, 3/5),\n",
    "#                borderaxespad=0,edgecolor='white')#prop = legend_properties, \n",
    "#     frame = legend.get_frame() \n",
    "#     frame.set_alpha(1) \n",
    "#     frame.set_facecolor('none') # 设置图例legend背景透明\n",
    "#     legend.get_frame().set_linewidth(0.0)\n",
    "\n",
    "    ax.set_xlabel('career age of mentoring')\n",
    "    ax.set_ylabel('Probability')\n",
    "    # ax.spines['top'].set_visible(False)\n",
    "    # ax.spines['right'].set_visible(False)\n",
    "    ax.set_title(fd+' ( <1995 )')\n",
    "    # ax.grid(True,which=\"both\", ls=\"-\")\n",
    "    ax.text(-0.14, 1.1,l_index[i+3],ha='center', va='center', transform=ax.transAxes)\n",
    "\n",
    "    x0 = edges;y0 = results*binWidth\n",
    "    Y0 = []\n",
    "    tp = 0\n",
    "    for k in y0:\n",
    "        tp+=k\n",
    "        Y0.append(tp)\n",
    "    Y0 = np.array(Y0)\n",
    "    axins = inset_axes(ax, width=2.4, height=1.5,loc='upper right')\n",
    "    axins.plot(x0[0:len(x0)-1],Y0,label='Survival Mentee',color='goldenrod',marker='o',ls='',\n",
    "              alpha=0.8,markerfacecolor='white')\n",
    "    axins.set_ylabel('cdf')\n",
    "    axins.set_ylim([-0.05,1.1])\n",
    "    axins.set_xlim([-3,82])\n",
    "#     axins.set_xlabel('career age of mentoring')\n",
    "    #画标示线\n",
    "    axins.plot([25,25],[-0.05,Y0[25]],'--r')\n",
    "    axins.plot([-3,25],[Y0[25],Y0[25]],'--r')\n",
    "    y_major_locator=MultipleLocator(0.5)\n",
    "    axins.yaxis.set_major_locator(y_major_locator)\n",
    "    \n",
    "    \n",
    "fig.savefig('mentoring_age.pdf')"
   ]
  },
  {
   "cell_type": "markdown",
   "id": "7491e2a7",
   "metadata": {},
   "source": [
    "##### correlation coefficient between 25y and overall"
   ]
  },
  {
   "cell_type": "code",
   "execution_count": 62,
   "id": "c959d96f",
   "metadata": {},
   "outputs": [
    {
     "name": "stdout",
     "output_type": "stream",
     "text": [
      "132453\n"
     ]
    },
    {
     "data": {
      "text/html": [
       "<div>\n",
       "<style scoped>\n",
       "    .dataframe tbody tr th:only-of-type {\n",
       "        vertical-align: middle;\n",
       "    }\n",
       "\n",
       "    .dataframe tbody tr th {\n",
       "        vertical-align: top;\n",
       "    }\n",
       "\n",
       "    .dataframe thead th {\n",
       "        text-align: right;\n",
       "    }\n",
       "</style>\n",
       "<table border=\"1\" class=\"dataframe\">\n",
       "  <thead>\n",
       "    <tr style=\"text-align: right;\">\n",
       "      <th></th>\n",
       "      <th>Unnamed: 0</th>\n",
       "      <th>CID</th>\n",
       "      <th>MenteeID</th>\n",
       "      <th>MentorID</th>\n",
       "      <th>MentorshipType</th>\n",
       "      <th>Institution</th>\n",
       "      <th>InstitutionMAGID</th>\n",
       "      <th>StartYear</th>\n",
       "      <th>StopYear</th>\n",
       "    </tr>\n",
       "  </thead>\n",
       "  <tbody>\n",
       "    <tr>\n",
       "      <th>0</th>\n",
       "      <td>3</td>\n",
       "      <td>6</td>\n",
       "      <td>18761</td>\n",
       "      <td>9</td>\n",
       "      <td>1</td>\n",
       "      <td>University of California, Berkeley</td>\n",
       "      <td>95457486.0</td>\n",
       "      <td>-1</td>\n",
       "      <td>1984</td>\n",
       "    </tr>\n",
       "    <tr>\n",
       "      <th>1</th>\n",
       "      <td>117</td>\n",
       "      <td>130</td>\n",
       "      <td>53604</td>\n",
       "      <td>33687</td>\n",
       "      <td>1</td>\n",
       "      <td>Utrecht University</td>\n",
       "      <td>193662353.0</td>\n",
       "      <td>-1</td>\n",
       "      <td>1997</td>\n",
       "    </tr>\n",
       "    <tr>\n",
       "      <th>2</th>\n",
       "      <td>137</td>\n",
       "      <td>151</td>\n",
       "      <td>20</td>\n",
       "      <td>24</td>\n",
       "      <td>2</td>\n",
       "      <td>Baylor College of Medicine</td>\n",
       "      <td>181547552.0</td>\n",
       "      <td>-1</td>\n",
       "      <td>-1</td>\n",
       "    </tr>\n",
       "    <tr>\n",
       "      <th>3</th>\n",
       "      <td>147</td>\n",
       "      <td>161</td>\n",
       "      <td>12561</td>\n",
       "      <td>52639</td>\n",
       "      <td>1</td>\n",
       "      <td>University of Washington, Seattle</td>\n",
       "      <td>201448701.0</td>\n",
       "      <td>1967</td>\n",
       "      <td>1971</td>\n",
       "    </tr>\n",
       "    <tr>\n",
       "      <th>4</th>\n",
       "      <td>190</td>\n",
       "      <td>212</td>\n",
       "      <td>188</td>\n",
       "      <td>189</td>\n",
       "      <td>1</td>\n",
       "      <td>Harvard University</td>\n",
       "      <td>136199984.0</td>\n",
       "      <td>-1</td>\n",
       "      <td>1927</td>\n",
       "    </tr>\n",
       "  </tbody>\n",
       "</table>\n",
       "</div>"
      ],
      "text/plain": [
       "   Unnamed: 0  CID  MenteeID  MentorID  MentorshipType  \\\n",
       "0           3    6     18761         9               1   \n",
       "1         117  130     53604     33687               1   \n",
       "2         137  151        20        24               2   \n",
       "3         147  161     12561     52639               1   \n",
       "4         190  212       188       189               1   \n",
       "\n",
       "                          Institution  InstitutionMAGID  StartYear  StopYear  \n",
       "0  University of California, Berkeley        95457486.0         -1      1984  \n",
       "1                  Utrecht University       193662353.0         -1      1997  \n",
       "2          Baylor College of Medicine       181547552.0         -1        -1  \n",
       "3   University of Washington, Seattle       201448701.0       1967      1971  \n",
       "4                  Harvard University       136199984.0         -1      1927  "
      ]
     },
     "execution_count": 62,
     "metadata": {},
     "output_type": "execute_result"
    }
   ],
   "source": [
    "#\n",
    "tp = fields_rl['chemistry']\n",
    "# tp = fields_rl['physics']\n",
    "# tp = fields_rl['neuro']\n",
    "# print(len(tp))\n",
    "# tp.head(5)\n",
    "tp1 = pd.DataFrame(tp[(tp.StopYear!=-1)])      # having stopyear\n",
    "mto = set(tp1['MentorID'])\n",
    "mmb_BirthYear = {}\n",
    "for k in mto:\n",
    "    try:\n",
    "        by = min(tp1['StopYear'][tp1.MenteeID==k])\n",
    "        mmb_BirthYear[k] = by\n",
    "    except:\n",
    "        a = 'nt'\n",
    "print(len(mto))\n",
    "print(len(mmb_BirthYear))"
   ]
  },
  {
   "cell_type": "code",
   "execution_count": 25,
   "id": "b3a7e65e",
   "metadata": {},
   "outputs": [
    {
     "data": {
      "text/html": [
       "<div>\n",
       "<style scoped>\n",
       "    .dataframe tbody tr th:only-of-type {\n",
       "        vertical-align: middle;\n",
       "    }\n",
       "\n",
       "    .dataframe tbody tr th {\n",
       "        vertical-align: top;\n",
       "    }\n",
       "\n",
       "    .dataframe thead th {\n",
       "        text-align: right;\n",
       "    }\n",
       "</style>\n",
       "<table border=\"1\" class=\"dataframe\">\n",
       "  <thead>\n",
       "    <tr style=\"text-align: right;\">\n",
       "      <th></th>\n",
       "      <th>0</th>\n",
       "      <th>1</th>\n",
       "    </tr>\n",
       "  </thead>\n",
       "  <tbody>\n",
       "    <tr>\n",
       "      <th>0</th>\n",
       "      <td>655362</td>\n",
       "      <td>1968</td>\n",
       "    </tr>\n",
       "    <tr>\n",
       "      <th>1</th>\n",
       "      <td>786438</td>\n",
       "      <td>1941</td>\n",
       "    </tr>\n",
       "  </tbody>\n",
       "</table>\n",
       "</div>"
      ],
      "text/plain": [
       "        0     1\n",
       "0  655362  1968\n",
       "1  786438  1941"
      ]
     },
     "execution_count": 25,
     "metadata": {},
     "output_type": "execute_result"
    }
   ],
   "source": [
    "mentor_birthYear.head(2)"
   ]
  },
  {
   "cell_type": "code",
   "execution_count": 27,
   "id": "2a90bcfa",
   "metadata": {},
   "outputs": [],
   "source": [
    "from scipy.stats import pearsonr\n",
    "# pccs = pearsonr(x, y)"
   ]
  },
  {
   "cell_type": "code",
   "execution_count": 41,
   "id": "e9c6c07f",
   "metadata": {},
   "outputs": [
    {
     "name": "stdout",
     "output_type": "stream",
     "text": [
      "10304\n",
      "chemistry (0.8048961475508247, 0.0)\n",
      "6341\n",
      "physics (0.8112419345875687, 0.0)\n",
      "4664\n",
      "neuro (0.8184578168249733, 0.0)\n"
     ]
    }
   ],
   "source": [
    "F_name = ['chemistry','physics','neuro']\n",
    "for f in F_name:\n",
    "    tp = fields_rl[f]\n",
    "    tp1 = pd.DataFrame(tp[(tp.StopYear!=-1)])      # having stopyear\n",
    "    mto = set(tp1['MentorID'])\n",
    "    l_all = []\n",
    "    l_25 = []\n",
    "    for k in mto:\n",
    "        try:\n",
    "            m_by = list(mentor_birthYear[1][mentor_birthYear[0]==k])\n",
    "#             print(m_by)\n",
    "            m_by = m_by[0]\n",
    "            if m_by<=1985:\n",
    "                mte_all = np.array(tp1['StopYear'][tp1.MentorID==k]) - m_by\n",
    "                mte_25 = mte_all[mte_all<=25]\n",
    "                l_all.append(len(mte_all))\n",
    "                l_25.append(len(mte_25))\n",
    "            else:\n",
    "                a = 'nt'\n",
    "        except:\n",
    "            a = 'nt'\n",
    "    print(len(l_all))\n",
    "    print(f,pearsonr(l_all, l_25))"
   ]
  },
  {
   "cell_type": "code",
   "execution_count": 40,
   "id": "611bd849",
   "metadata": {},
   "outputs": [
    {
     "name": "stdout",
     "output_type": "stream",
     "text": [
      "neuro (0.31185114480605336, 9.985836164971158e-106)\n"
     ]
    }
   ],
   "source": [
    "print(f,pearsonr(l_all, l_25))"
   ]
  },
  {
   "cell_type": "code",
   "execution_count": null,
   "id": "ad495488",
   "metadata": {},
   "outputs": [],
   "source": []
  },
  {
   "cell_type": "code",
   "execution_count": null,
   "id": "14bc686f",
   "metadata": {},
   "outputs": [],
   "source": []
  },
  {
   "cell_type": "code",
   "execution_count": null,
   "id": "923606be",
   "metadata": {},
   "outputs": [],
   "source": []
  },
  {
   "cell_type": "code",
   "execution_count": null,
   "id": "e5342ff2",
   "metadata": {},
   "outputs": [],
   "source": []
  },
  {
   "cell_type": "code",
   "execution_count": null,
   "id": "37254dd8",
   "metadata": {},
   "outputs": [],
   "source": [
    "#计算时间相对较长一点点\n",
    "#补充每位学生的毕业后30年内的学生数\n",
    "tp_l = []\n",
    "count = 0\n",
    "for i in range(len(mentee_np)):\n",
    "    print(count)\n",
    "#     mto = mentor_np[i]                            #老师\n",
    "    mte = mentee_np[i]                              #学生\n",
    "    yy = StopYear_np[i]                             #受训年份\n",
    "    mteyear_of_mte = StopYear_np[mentor_np==mte]    #该学生的学生的受训时间\n",
    "    if len(mteyear_of_mte)==0:\n",
    "        tp_l.append(0)\n",
    "    else:\n",
    "        tp_t = mteyear_of_mte - yy\n",
    "#         tp_t1 = tp_t[tp_t<=20]                      #毕业20年后的招生数\n",
    "        tp_t1 = tp_t[tp_t<=25]                      #毕业25年后的招生数        \n",
    "        tp_l.append(len(tp_t1))\n",
    "    count+=1\n",
    "neuro['NumOfMenteesOfTheMenteeIn20'] = tp_l"
   ]
  }
 ],
 "metadata": {
  "kernelspec": {
   "display_name": "Python 3",
   "language": "python",
   "name": "python3"
  },
  "language_info": {
   "codemirror_mode": {
    "name": "ipython",
    "version": 3
   },
   "file_extension": ".py",
   "mimetype": "text/x-python",
   "name": "python",
   "nbconvert_exporter": "python",
   "pygments_lexer": "ipython3",
   "version": "3.8.3"
  }
 },
 "nbformat": 4,
 "nbformat_minor": 5
}
