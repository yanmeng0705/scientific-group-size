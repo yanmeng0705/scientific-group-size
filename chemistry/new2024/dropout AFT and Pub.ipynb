{
 "cells": [
  {
   "cell_type": "code",
   "execution_count": 1,
   "id": "9a6835e4-5e59-45a2-b593-c39cc12ca8aa",
   "metadata": {
    "tags": []
   },
   "outputs": [],
   "source": [
    "import pandas as pd\n",
    "from collections import Counter\n",
    "import matplotlib.pyplot as plt\n",
    "import seaborn as sns"
   ]
  },
  {
   "cell_type": "code",
   "execution_count": 3,
   "id": "d83a9eea-9183-40f6-ac7a-604df04590a9",
   "metadata": {
    "tags": []
   },
   "outputs": [],
   "source": [
    "neuro = pd.read_csv('chemistry.csv')"
   ]
  },
  {
   "cell_type": "code",
   "execution_count": 4,
   "id": "d7655f54-f195-4902-91cf-39ffb8ae8f10",
   "metadata": {
    "tags": []
   },
   "outputs": [
    {
     "data": {
      "text/html": [
       "<div>\n",
       "<style scoped>\n",
       "    .dataframe tbody tr th:only-of-type {\n",
       "        vertical-align: middle;\n",
       "    }\n",
       "\n",
       "    .dataframe tbody tr th {\n",
       "        vertical-align: top;\n",
       "    }\n",
       "\n",
       "    .dataframe thead th {\n",
       "        text-align: right;\n",
       "    }\n",
       "</style>\n",
       "<table border=\"1\" class=\"dataframe\">\n",
       "  <thead>\n",
       "    <tr style=\"text-align: right;\">\n",
       "      <th></th>\n",
       "      <th>Unnamed: 0</th>\n",
       "      <th>CID</th>\n",
       "      <th>MenteeID</th>\n",
       "      <th>MentorID</th>\n",
       "      <th>MentorshipType</th>\n",
       "      <th>Institution</th>\n",
       "      <th>InstitutionMAGID</th>\n",
       "      <th>StartYear</th>\n",
       "      <th>StopYear</th>\n",
       "    </tr>\n",
       "  </thead>\n",
       "  <tbody>\n",
       "    <tr>\n",
       "      <th>0</th>\n",
       "      <td>3</td>\n",
       "      <td>6</td>\n",
       "      <td>18761</td>\n",
       "      <td>9</td>\n",
       "      <td>1</td>\n",
       "      <td>University of California, Berkeley</td>\n",
       "      <td>95457486.0</td>\n",
       "      <td>-1</td>\n",
       "      <td>1984</td>\n",
       "    </tr>\n",
       "    <tr>\n",
       "      <th>1</th>\n",
       "      <td>117</td>\n",
       "      <td>130</td>\n",
       "      <td>53604</td>\n",
       "      <td>33687</td>\n",
       "      <td>1</td>\n",
       "      <td>Utrecht University</td>\n",
       "      <td>193662353.0</td>\n",
       "      <td>-1</td>\n",
       "      <td>1997</td>\n",
       "    </tr>\n",
       "    <tr>\n",
       "      <th>2</th>\n",
       "      <td>137</td>\n",
       "      <td>151</td>\n",
       "      <td>20</td>\n",
       "      <td>24</td>\n",
       "      <td>2</td>\n",
       "      <td>Baylor College of Medicine</td>\n",
       "      <td>181547552.0</td>\n",
       "      <td>-1</td>\n",
       "      <td>-1</td>\n",
       "    </tr>\n",
       "    <tr>\n",
       "      <th>3</th>\n",
       "      <td>147</td>\n",
       "      <td>161</td>\n",
       "      <td>12561</td>\n",
       "      <td>52639</td>\n",
       "      <td>1</td>\n",
       "      <td>University of Washington, Seattle</td>\n",
       "      <td>201448701.0</td>\n",
       "      <td>1967</td>\n",
       "      <td>1971</td>\n",
       "    </tr>\n",
       "    <tr>\n",
       "      <th>4</th>\n",
       "      <td>190</td>\n",
       "      <td>212</td>\n",
       "      <td>188</td>\n",
       "      <td>189</td>\n",
       "      <td>1</td>\n",
       "      <td>Harvard University</td>\n",
       "      <td>136199984.0</td>\n",
       "      <td>-1</td>\n",
       "      <td>1927</td>\n",
       "    </tr>\n",
       "  </tbody>\n",
       "</table>\n",
       "</div>"
      ],
      "text/plain": [
       "   Unnamed: 0  CID  MenteeID  MentorID  MentorshipType  \\\n",
       "0           3    6     18761         9               1   \n",
       "1         117  130     53604     33687               1   \n",
       "2         137  151        20        24               2   \n",
       "3         147  161     12561     52639               1   \n",
       "4         190  212       188       189               1   \n",
       "\n",
       "                          Institution  InstitutionMAGID  StartYear  StopYear  \n",
       "0  University of California, Berkeley        95457486.0         -1      1984  \n",
       "1                  Utrecht University       193662353.0         -1      1997  \n",
       "2          Baylor College of Medicine       181547552.0         -1        -1  \n",
       "3   University of Washington, Seattle       201448701.0       1967      1971  \n",
       "4                  Harvard University       136199984.0         -1      1927  "
      ]
     },
     "execution_count": 4,
     "metadata": {},
     "output_type": "execute_result"
    }
   ],
   "source": [
    "neuro.head(5)"
   ]
  },
  {
   "cell_type": "code",
   "execution_count": 5,
   "id": "e905c05a-0a87-49ef-bb7d-b831f721786e",
   "metadata": {
    "tags": []
   },
   "outputs": [],
   "source": [
    "mentorship = pd.read_csv('/Users/yanmemgxing/Nutstore Files/scientific group/mentorship.csv')"
   ]
  },
  {
   "cell_type": "code",
   "execution_count": 6,
   "id": "6a1d6cd7-30a0-4a52-aa67-4e04d512a898",
   "metadata": {
    "tags": []
   },
   "outputs": [
    {
     "data": {
      "text/html": [
       "<div>\n",
       "<style scoped>\n",
       "    .dataframe tbody tr th:only-of-type {\n",
       "        vertical-align: middle;\n",
       "    }\n",
       "\n",
       "    .dataframe tbody tr th {\n",
       "        vertical-align: top;\n",
       "    }\n",
       "\n",
       "    .dataframe thead th {\n",
       "        text-align: right;\n",
       "    }\n",
       "</style>\n",
       "<table border=\"1\" class=\"dataframe\">\n",
       "  <thead>\n",
       "    <tr style=\"text-align: right;\">\n",
       "      <th></th>\n",
       "      <th>CID</th>\n",
       "      <th>MenteeID</th>\n",
       "      <th>MentorID</th>\n",
       "      <th>MentorshipType</th>\n",
       "      <th>Institution</th>\n",
       "      <th>InstitutionMAGID</th>\n",
       "      <th>StartYear</th>\n",
       "      <th>StopYear</th>\n",
       "    </tr>\n",
       "  </thead>\n",
       "  <tbody>\n",
       "    <tr>\n",
       "      <th>0</th>\n",
       "      <td>2</td>\n",
       "      <td>2</td>\n",
       "      <td>3</td>\n",
       "      <td>1</td>\n",
       "      <td>University of California, Berkeley</td>\n",
       "      <td>95457486.0</td>\n",
       "      <td>2000</td>\n",
       "      <td>2005</td>\n",
       "    </tr>\n",
       "    <tr>\n",
       "      <th>1</th>\n",
       "      <td>3</td>\n",
       "      <td>4</td>\n",
       "      <td>3</td>\n",
       "      <td>2</td>\n",
       "      <td>University of California, Berkeley</td>\n",
       "      <td>95457486.0</td>\n",
       "      <td>2003</td>\n",
       "      <td>2006</td>\n",
       "    </tr>\n",
       "    <tr>\n",
       "      <th>2</th>\n",
       "      <td>5</td>\n",
       "      <td>6</td>\n",
       "      <td>3</td>\n",
       "      <td>1</td>\n",
       "      <td>University of California, Berkeley</td>\n",
       "      <td>95457486.0</td>\n",
       "      <td>2002</td>\n",
       "      <td>2008</td>\n",
       "    </tr>\n",
       "    <tr>\n",
       "      <th>3</th>\n",
       "      <td>6</td>\n",
       "      <td>18761</td>\n",
       "      <td>9</td>\n",
       "      <td>1</td>\n",
       "      <td>University of California, Berkeley</td>\n",
       "      <td>95457486.0</td>\n",
       "      <td>-1</td>\n",
       "      <td>1984</td>\n",
       "    </tr>\n",
       "    <tr>\n",
       "      <th>4</th>\n",
       "      <td>7</td>\n",
       "      <td>10</td>\n",
       "      <td>16</td>\n",
       "      <td>2</td>\n",
       "      <td>Washington University, Saint Louis</td>\n",
       "      <td>204465549.0</td>\n",
       "      <td>-1</td>\n",
       "      <td>-1</td>\n",
       "    </tr>\n",
       "  </tbody>\n",
       "</table>\n",
       "</div>"
      ],
      "text/plain": [
       "   CID  MenteeID  MentorID  MentorshipType  \\\n",
       "0    2         2         3               1   \n",
       "1    3         4         3               2   \n",
       "2    5         6         3               1   \n",
       "3    6     18761         9               1   \n",
       "4    7        10        16               2   \n",
       "\n",
       "                          Institution  InstitutionMAGID  StartYear  StopYear  \n",
       "0  University of California, Berkeley        95457486.0       2000      2005  \n",
       "1  University of California, Berkeley        95457486.0       2003      2006  \n",
       "2  University of California, Berkeley        95457486.0       2002      2008  \n",
       "3  University of California, Berkeley        95457486.0         -1      1984  \n",
       "4  Washington University, Saint Louis       204465549.0         -1        -1  "
      ]
     },
     "execution_count": 6,
     "metadata": {},
     "output_type": "execute_result"
    }
   ],
   "source": [
    "mentorship.head(5)"
   ]
  },
  {
   "cell_type": "code",
   "execution_count": 7,
   "id": "0ca3cdc8-49e4-42cd-ad69-3f82d1b3ea3d",
   "metadata": {
    "tags": []
   },
   "outputs": [],
   "source": [
    "mentors = set(mentorship.MentorID)"
   ]
  },
  {
   "cell_type": "code",
   "execution_count": 8,
   "id": "d0b91302-6b5f-4e04-a569-d19eab1d2b95",
   "metadata": {
    "tags": []
   },
   "outputs": [],
   "source": [
    "neuro_surviver = pd.DataFrame(neuro['MenteeID'][neuro.MenteeID.isin(mentors)].drop_duplicates())"
   ]
  },
  {
   "cell_type": "code",
   "execution_count": 9,
   "id": "7ee35a7e-adcd-4087-a8e4-929736aef6c7",
   "metadata": {
    "tags": []
   },
   "outputs": [],
   "source": [
    "neuro_surviver['surviver'] = 1"
   ]
  },
  {
   "cell_type": "code",
   "execution_count": 10,
   "id": "04c56006-a8bf-4ac0-a3b1-5198b7688f0b",
   "metadata": {
    "tags": []
   },
   "outputs": [
    {
     "data": {
      "text/html": [
       "<div>\n",
       "<style scoped>\n",
       "    .dataframe tbody tr th:only-of-type {\n",
       "        vertical-align: middle;\n",
       "    }\n",
       "\n",
       "    .dataframe tbody tr th {\n",
       "        vertical-align: top;\n",
       "    }\n",
       "\n",
       "    .dataframe thead th {\n",
       "        text-align: right;\n",
       "    }\n",
       "</style>\n",
       "<table border=\"1\" class=\"dataframe\">\n",
       "  <thead>\n",
       "    <tr style=\"text-align: right;\">\n",
       "      <th></th>\n",
       "      <th>MenteeID</th>\n",
       "      <th>surviver</th>\n",
       "    </tr>\n",
       "  </thead>\n",
       "  <tbody>\n",
       "    <tr>\n",
       "      <th>0</th>\n",
       "      <td>18761</td>\n",
       "      <td>1</td>\n",
       "    </tr>\n",
       "    <tr>\n",
       "      <th>2</th>\n",
       "      <td>20</td>\n",
       "      <td>1</td>\n",
       "    </tr>\n",
       "    <tr>\n",
       "      <th>3</th>\n",
       "      <td>12561</td>\n",
       "      <td>1</td>\n",
       "    </tr>\n",
       "    <tr>\n",
       "      <th>4</th>\n",
       "      <td>188</td>\n",
       "      <td>1</td>\n",
       "    </tr>\n",
       "    <tr>\n",
       "      <th>5</th>\n",
       "      <td>189</td>\n",
       "      <td>1</td>\n",
       "    </tr>\n",
       "  </tbody>\n",
       "</table>\n",
       "</div>"
      ],
      "text/plain": [
       "   MenteeID  surviver\n",
       "0     18761         1\n",
       "2        20         1\n",
       "3     12561         1\n",
       "4       188         1\n",
       "5       189         1"
      ]
     },
     "execution_count": 10,
     "metadata": {},
     "output_type": "execute_result"
    }
   ],
   "source": [
    "neuro_surviver.head(5)"
   ]
  },
  {
   "cell_type": "code",
   "execution_count": 11,
   "id": "5a58d077-82e5-43df-a05c-dfd8fec9c422",
   "metadata": {
    "tags": []
   },
   "outputs": [],
   "source": [
    "neuro_mentees = neuro[['MenteeID','MentorID','StopYear']]"
   ]
  },
  {
   "cell_type": "code",
   "execution_count": 12,
   "id": "52e186f2-3e60-4bba-9bd9-07726fe9809b",
   "metadata": {
    "tags": []
   },
   "outputs": [
    {
     "data": {
      "text/html": [
       "<div>\n",
       "<style scoped>\n",
       "    .dataframe tbody tr th:only-of-type {\n",
       "        vertical-align: middle;\n",
       "    }\n",
       "\n",
       "    .dataframe tbody tr th {\n",
       "        vertical-align: top;\n",
       "    }\n",
       "\n",
       "    .dataframe thead th {\n",
       "        text-align: right;\n",
       "    }\n",
       "</style>\n",
       "<table border=\"1\" class=\"dataframe\">\n",
       "  <thead>\n",
       "    <tr style=\"text-align: right;\">\n",
       "      <th></th>\n",
       "      <th>MenteeID</th>\n",
       "      <th>MentorID</th>\n",
       "      <th>StopYear</th>\n",
       "    </tr>\n",
       "  </thead>\n",
       "  <tbody>\n",
       "    <tr>\n",
       "      <th>0</th>\n",
       "      <td>18761</td>\n",
       "      <td>9</td>\n",
       "      <td>1984</td>\n",
       "    </tr>\n",
       "    <tr>\n",
       "      <th>1</th>\n",
       "      <td>53604</td>\n",
       "      <td>33687</td>\n",
       "      <td>1997</td>\n",
       "    </tr>\n",
       "    <tr>\n",
       "      <th>2</th>\n",
       "      <td>20</td>\n",
       "      <td>24</td>\n",
       "      <td>-1</td>\n",
       "    </tr>\n",
       "  </tbody>\n",
       "</table>\n",
       "</div>"
      ],
      "text/plain": [
       "   MenteeID  MentorID  StopYear\n",
       "0     18761         9      1984\n",
       "1     53604     33687      1997\n",
       "2        20        24        -1"
      ]
     },
     "execution_count": 12,
     "metadata": {},
     "output_type": "execute_result"
    }
   ],
   "source": [
    "neuro_mentees.head(3)"
   ]
  },
  {
   "cell_type": "code",
   "execution_count": 13,
   "id": "18fe9948-5010-4196-b101-29a281f6cf59",
   "metadata": {
    "tags": []
   },
   "outputs": [],
   "source": [
    "neuro_mentees_surviver_0 = neuro_mentees.merge(neuro_surviver,on='MenteeID',how='left')"
   ]
  },
  {
   "cell_type": "code",
   "execution_count": 14,
   "id": "a0b2eb48-e854-4399-a1a5-214deff5b232",
   "metadata": {
    "tags": []
   },
   "outputs": [
    {
     "data": {
      "text/html": [
       "<div>\n",
       "<style scoped>\n",
       "    .dataframe tbody tr th:only-of-type {\n",
       "        vertical-align: middle;\n",
       "    }\n",
       "\n",
       "    .dataframe tbody tr th {\n",
       "        vertical-align: top;\n",
       "    }\n",
       "\n",
       "    .dataframe thead th {\n",
       "        text-align: right;\n",
       "    }\n",
       "</style>\n",
       "<table border=\"1\" class=\"dataframe\">\n",
       "  <thead>\n",
       "    <tr style=\"text-align: right;\">\n",
       "      <th></th>\n",
       "      <th>MenteeID</th>\n",
       "      <th>MentorID</th>\n",
       "      <th>StopYear</th>\n",
       "      <th>surviver</th>\n",
       "    </tr>\n",
       "  </thead>\n",
       "  <tbody>\n",
       "    <tr>\n",
       "      <th>0</th>\n",
       "      <td>18761</td>\n",
       "      <td>9</td>\n",
       "      <td>1984</td>\n",
       "      <td>1.0</td>\n",
       "    </tr>\n",
       "    <tr>\n",
       "      <th>1</th>\n",
       "      <td>53604</td>\n",
       "      <td>33687</td>\n",
       "      <td>1997</td>\n",
       "      <td>NaN</td>\n",
       "    </tr>\n",
       "    <tr>\n",
       "      <th>2</th>\n",
       "      <td>20</td>\n",
       "      <td>24</td>\n",
       "      <td>-1</td>\n",
       "      <td>1.0</td>\n",
       "    </tr>\n",
       "    <tr>\n",
       "      <th>3</th>\n",
       "      <td>12561</td>\n",
       "      <td>52639</td>\n",
       "      <td>1971</td>\n",
       "      <td>1.0</td>\n",
       "    </tr>\n",
       "    <tr>\n",
       "      <th>4</th>\n",
       "      <td>188</td>\n",
       "      <td>189</td>\n",
       "      <td>1927</td>\n",
       "      <td>1.0</td>\n",
       "    </tr>\n",
       "  </tbody>\n",
       "</table>\n",
       "</div>"
      ],
      "text/plain": [
       "   MenteeID  MentorID  StopYear  surviver\n",
       "0     18761         9      1984       1.0\n",
       "1     53604     33687      1997       NaN\n",
       "2        20        24        -1       1.0\n",
       "3     12561     52639      1971       1.0\n",
       "4       188       189      1927       1.0"
      ]
     },
     "execution_count": 14,
     "metadata": {},
     "output_type": "execute_result"
    }
   ],
   "source": [
    "neuro_mentees_surviver_0.head(5)"
   ]
  },
  {
   "cell_type": "code",
   "execution_count": 16,
   "id": "44a03a90-c2aa-4a40-8f1c-6172c8eb9843",
   "metadata": {
    "tags": []
   },
   "outputs": [],
   "source": [
    "SR = []\n",
    "for year in range(1960,2010):\n",
    "    neuro_mentees_surviver = neuro_mentees_surviver_0[neuro_mentees_surviver_0.StopYear==year]\n",
    "    sr = len(set(neuro_mentees_surviver['MenteeID'][neuro_mentees_surviver.surviver==1]))/len(set(neuro_mentees_surviver['MenteeID']))\n",
    "    SR.append((year,sr))"
   ]
  },
  {
   "cell_type": "code",
   "execution_count": 17,
   "id": "40f10415-44d4-4ada-bda2-b282fab16a40",
   "metadata": {
    "tags": []
   },
   "outputs": [
    {
     "data": {
      "text/plain": [
       "[<matplotlib.lines.Line2D at 0x117da9cd0>]"
      ]
     },
     "execution_count": 17,
     "metadata": {},
     "output_type": "execute_result"
    },
    {
     "data": {
      "image/png": "[encoded data removed]",
      "text/plain": [
       "<Figure size 500x309 with 1 Axes>"
      ]
     },
     "metadata": {},
     "output_type": "display_data"
    }
   ],
   "source": [
    "fig, ax = plt.subplots(1,1,constrained_layout=True,figsize=[1*5,0.618*5])\n",
    "sns.set(style='ticks',font_scale=1.2, font='Arial')\n",
    "x = [k[0] for k in SR]\n",
    "y = [k[1] for k in SR]\n",
    "ax.plot(x,y,marker='o')\n"
   ]
  },
  {
   "cell_type": "markdown",
   "id": "ebaf0ab4-180a-4acf-aba3-172aae3cf0e9",
   "metadata": {
    "tags": []
   },
   "source": [
    "##### Surviver in Pubs."
   ]
  },
  {
   "cell_type": "code",
   "execution_count": 18,
   "id": "a9656f50-64a3-4547-a963-9f0503f5d6ea",
   "metadata": {
    "tags": []
   },
   "outputs": [
    {
     "data": {
      "text/html": [
       "<div>\n",
       "<style scoped>\n",
       "    .dataframe tbody tr th:only-of-type {\n",
       "        vertical-align: middle;\n",
       "    }\n",
       "\n",
       "    .dataframe tbody tr th {\n",
       "        vertical-align: top;\n",
       "    }\n",
       "\n",
       "    .dataframe thead th {\n",
       "        text-align: right;\n",
       "    }\n",
       "</style>\n",
       "<table border=\"1\" class=\"dataframe\">\n",
       "  <thead>\n",
       "    <tr style=\"text-align: right;\">\n",
       "      <th></th>\n",
       "      <th>MenteeID</th>\n",
       "      <th>MentorID</th>\n",
       "      <th>StopYear</th>\n",
       "      <th>surviver</th>\n",
       "    </tr>\n",
       "  </thead>\n",
       "  <tbody>\n",
       "    <tr>\n",
       "      <th>0</th>\n",
       "      <td>18761</td>\n",
       "      <td>9</td>\n",
       "      <td>1984</td>\n",
       "      <td>1.0</td>\n",
       "    </tr>\n",
       "    <tr>\n",
       "      <th>1</th>\n",
       "      <td>53604</td>\n",
       "      <td>33687</td>\n",
       "      <td>1997</td>\n",
       "      <td>NaN</td>\n",
       "    </tr>\n",
       "    <tr>\n",
       "      <th>2</th>\n",
       "      <td>20</td>\n",
       "      <td>24</td>\n",
       "      <td>-1</td>\n",
       "      <td>1.0</td>\n",
       "    </tr>\n",
       "    <tr>\n",
       "      <th>3</th>\n",
       "      <td>12561</td>\n",
       "      <td>52639</td>\n",
       "      <td>1971</td>\n",
       "      <td>1.0</td>\n",
       "    </tr>\n",
       "    <tr>\n",
       "      <th>4</th>\n",
       "      <td>188</td>\n",
       "      <td>189</td>\n",
       "      <td>1927</td>\n",
       "      <td>1.0</td>\n",
       "    </tr>\n",
       "  </tbody>\n",
       "</table>\n",
       "</div>"
      ],
      "text/plain": [
       "   MenteeID  MentorID  StopYear  surviver\n",
       "0     18761         9      1984       1.0\n",
       "1     53604     33687      1997       NaN\n",
       "2        20        24        -1       1.0\n",
       "3     12561     52639      1971       1.0\n",
       "4       188       189      1927       1.0"
      ]
     },
     "execution_count": 18,
     "metadata": {},
     "output_type": "execute_result"
    }
   ],
   "source": [
    "neuro_mentees_surviver_0.head(5)"
   ]
  },
  {
   "cell_type": "code",
   "execution_count": 20,
   "id": "7defccfe-2207-4a89-9a93-77f039234a13",
   "metadata": {
    "tags": []
   },
   "outputs": [],
   "source": [
    "pid_mag_openalex = pd.read_csv('pid_mag_openalex.csv')"
   ]
  },
  {
   "cell_type": "code",
   "execution_count": 21,
   "id": "6410edfe-6efb-4cdd-ae20-292a678db481",
   "metadata": {
    "tags": []
   },
   "outputs": [],
   "source": [
    "pid_mag_openalex = pid_mag_openalex.rename(columns={'PID':'MenteeID'})"
   ]
  },
  {
   "cell_type": "code",
   "execution_count": 22,
   "id": "de4fb028-75a1-44a1-83b5-5123c1f25f6f",
   "metadata": {
    "tags": []
   },
   "outputs": [
    {
     "data": {
      "text/html": [
       "<div>\n",
       "<style scoped>\n",
       "    .dataframe tbody tr th:only-of-type {\n",
       "        vertical-align: middle;\n",
       "    }\n",
       "\n",
       "    .dataframe tbody tr th {\n",
       "        vertical-align: top;\n",
       "    }\n",
       "\n",
       "    .dataframe thead th {\n",
       "        text-align: right;\n",
       "    }\n",
       "</style>\n",
       "<table border=\"1\" class=\"dataframe\">\n",
       "  <thead>\n",
       "    <tr style=\"text-align: right;\">\n",
       "      <th></th>\n",
       "      <th>MenteeID</th>\n",
       "      <th>MAGAuthorID</th>\n",
       "      <th>author_id</th>\n",
       "    </tr>\n",
       "  </thead>\n",
       "  <tbody>\n",
       "    <tr>\n",
       "      <th>0</th>\n",
       "      <td>1</td>\n",
       "      <td>2.171828e+09</td>\n",
       "      <td>A2171827615</td>\n",
       "    </tr>\n",
       "    <tr>\n",
       "      <th>1</th>\n",
       "      <td>2</td>\n",
       "      <td>2.082173e+09</td>\n",
       "      <td>A2082172561</td>\n",
       "    </tr>\n",
       "    <tr>\n",
       "      <th>2</th>\n",
       "      <td>3</td>\n",
       "      <td>2.110166e+09</td>\n",
       "      <td>A2110165986</td>\n",
       "    </tr>\n",
       "    <tr>\n",
       "      <th>3</th>\n",
       "      <td>4</td>\n",
       "      <td>2.183264e+09</td>\n",
       "      <td>A2183263527</td>\n",
       "    </tr>\n",
       "    <tr>\n",
       "      <th>4</th>\n",
       "      <td>5</td>\n",
       "      <td>2.156587e+09</td>\n",
       "      <td>A2156586888</td>\n",
       "    </tr>\n",
       "  </tbody>\n",
       "</table>\n",
       "</div>"
      ],
      "text/plain": [
       "   MenteeID   MAGAuthorID    author_id\n",
       "0         1  2.171828e+09  A2171827615\n",
       "1         2  2.082173e+09  A2082172561\n",
       "2         3  2.110166e+09  A2110165986\n",
       "3         4  2.183264e+09  A2183263527\n",
       "4         5  2.156587e+09  A2156586888"
      ]
     },
     "execution_count": 22,
     "metadata": {},
     "output_type": "execute_result"
    }
   ],
   "source": [
    "pid_mag_openalex.head(5)"
   ]
  },
  {
   "cell_type": "code",
   "execution_count": 23,
   "id": "cfb1dfe7-6266-4e96-b28c-cef082ba2c92",
   "metadata": {
    "tags": []
   },
   "outputs": [],
   "source": [
    "neuro_mentees_surviver_0 = neuro_mentees_surviver_0.merge(pid_mag_openalex,on='MenteeID',how='left')"
   ]
  },
  {
   "cell_type": "code",
   "execution_count": 24,
   "id": "a60822cb-b39f-4c21-91fc-df965304d80a",
   "metadata": {
    "tags": []
   },
   "outputs": [
    {
     "data": {
      "text/html": [
       "<div>\n",
       "<style scoped>\n",
       "    .dataframe tbody tr th:only-of-type {\n",
       "        vertical-align: middle;\n",
       "    }\n",
       "\n",
       "    .dataframe tbody tr th {\n",
       "        vertical-align: top;\n",
       "    }\n",
       "\n",
       "    .dataframe thead th {\n",
       "        text-align: right;\n",
       "    }\n",
       "</style>\n",
       "<table border=\"1\" class=\"dataframe\">\n",
       "  <thead>\n",
       "    <tr style=\"text-align: right;\">\n",
       "      <th></th>\n",
       "      <th>MenteeID</th>\n",
       "      <th>MentorID</th>\n",
       "      <th>StopYear</th>\n",
       "      <th>surviver</th>\n",
       "      <th>MAGAuthorID</th>\n",
       "      <th>author_id</th>\n",
       "    </tr>\n",
       "  </thead>\n",
       "  <tbody>\n",
       "    <tr>\n",
       "      <th>0</th>\n",
       "      <td>18761</td>\n",
       "      <td>9</td>\n",
       "      <td>1984</td>\n",
       "      <td>1.0</td>\n",
       "      <td>2.809701e+09</td>\n",
       "      <td>A2809701389</td>\n",
       "    </tr>\n",
       "    <tr>\n",
       "      <th>1</th>\n",
       "      <td>53604</td>\n",
       "      <td>33687</td>\n",
       "      <td>1997</td>\n",
       "      <td>NaN</td>\n",
       "      <td>1.874842e+09</td>\n",
       "      <td>A1874842480</td>\n",
       "    </tr>\n",
       "    <tr>\n",
       "      <th>2</th>\n",
       "      <td>20</td>\n",
       "      <td>24</td>\n",
       "      <td>-1</td>\n",
       "      <td>1.0</td>\n",
       "      <td>2.169128e+09</td>\n",
       "      <td>A2169128453</td>\n",
       "    </tr>\n",
       "    <tr>\n",
       "      <th>3</th>\n",
       "      <td>12561</td>\n",
       "      <td>52639</td>\n",
       "      <td>1971</td>\n",
       "      <td>1.0</td>\n",
       "      <td>2.307650e+09</td>\n",
       "      <td>A2307649786</td>\n",
       "    </tr>\n",
       "    <tr>\n",
       "      <th>4</th>\n",
       "      <td>188</td>\n",
       "      <td>189</td>\n",
       "      <td>1927</td>\n",
       "      <td>1.0</td>\n",
       "      <td>2.039886e+09</td>\n",
       "      <td>A2039885679</td>\n",
       "    </tr>\n",
       "  </tbody>\n",
       "</table>\n",
       "</div>"
      ],
      "text/plain": [
       "   MenteeID  MentorID  StopYear  surviver   MAGAuthorID    author_id\n",
       "0     18761         9      1984       1.0  2.809701e+09  A2809701389\n",
       "1     53604     33687      1997       NaN  1.874842e+09  A1874842480\n",
       "2        20        24        -1       1.0  2.169128e+09  A2169128453\n",
       "3     12561     52639      1971       1.0  2.307650e+09  A2307649786\n",
       "4       188       189      1927       1.0  2.039886e+09  A2039885679"
      ]
     },
     "execution_count": 24,
     "metadata": {},
     "output_type": "execute_result"
    }
   ],
   "source": [
    "neuro_mentees_surviver_0.head(5)"
   ]
  },
  {
   "cell_type": "code",
   "execution_count": 25,
   "id": "0a325648-bbc9-4abc-ae9e-d5efb3ea9a73",
   "metadata": {
    "tags": []
   },
   "outputs": [],
   "source": [
    "surviver_with_OpenALexID = neuro_mentees_surviver_0[['MenteeID','StopYear','author_id']][(neuro_mentees_surviver_0.surviver==1)\n",
    "                                                                                        &(~neuro_mentees_surviver_0.author_id.isnull())\n",
    "                                                                                        &(neuro_mentees_surviver_0.StopYear>-1)]"
   ]
  },
  {
   "cell_type": "code",
   "execution_count": 26,
   "id": "360a325d-1367-423e-adc4-a76da93da991",
   "metadata": {
    "tags": []
   },
   "outputs": [
    {
     "data": {
      "text/html": [
       "<div>\n",
       "<style scoped>\n",
       "    .dataframe tbody tr th:only-of-type {\n",
       "        vertical-align: middle;\n",
       "    }\n",
       "\n",
       "    .dataframe tbody tr th {\n",
       "        vertical-align: top;\n",
       "    }\n",
       "\n",
       "    .dataframe thead th {\n",
       "        text-align: right;\n",
       "    }\n",
       "</style>\n",
       "<table border=\"1\" class=\"dataframe\">\n",
       "  <thead>\n",
       "    <tr style=\"text-align: right;\">\n",
       "      <th></th>\n",
       "      <th>MenteeID</th>\n",
       "      <th>StopYear</th>\n",
       "      <th>author_id</th>\n",
       "    </tr>\n",
       "  </thead>\n",
       "  <tbody>\n",
       "    <tr>\n",
       "      <th>0</th>\n",
       "      <td>18761</td>\n",
       "      <td>1984</td>\n",
       "      <td>A2809701389</td>\n",
       "    </tr>\n",
       "    <tr>\n",
       "      <th>3</th>\n",
       "      <td>12561</td>\n",
       "      <td>1971</td>\n",
       "      <td>A2307649786</td>\n",
       "    </tr>\n",
       "    <tr>\n",
       "      <th>4</th>\n",
       "      <td>188</td>\n",
       "      <td>1927</td>\n",
       "      <td>A2039885679</td>\n",
       "    </tr>\n",
       "    <tr>\n",
       "      <th>10</th>\n",
       "      <td>13297</td>\n",
       "      <td>1986</td>\n",
       "      <td>A2251248762</td>\n",
       "    </tr>\n",
       "    <tr>\n",
       "      <th>11</th>\n",
       "      <td>286</td>\n",
       "      <td>1977</td>\n",
       "      <td>A2293671064</td>\n",
       "    </tr>\n",
       "  </tbody>\n",
       "</table>\n",
       "</div>"
      ],
      "text/plain": [
       "    MenteeID  StopYear    author_id\n",
       "0      18761      1984  A2809701389\n",
       "3      12561      1971  A2307649786\n",
       "4        188      1927  A2039885679\n",
       "10     13297      1986  A2251248762\n",
       "11       286      1977  A2293671064"
      ]
     },
     "execution_count": 26,
     "metadata": {},
     "output_type": "execute_result"
    }
   ],
   "source": [
    "surviver_with_OpenALexID.head(5)"
   ]
  },
  {
   "cell_type": "code",
   "execution_count": 27,
   "id": "dc43c9ae-c248-4acf-bb49-26f73db417a7",
   "metadata": {
    "tags": []
   },
   "outputs": [],
   "source": [
    "career_span = pd.read_csv('career_span.csv')"
   ]
  },
  {
   "cell_type": "code",
   "execution_count": 28,
   "id": "fb101a70-97f0-40c6-9324-d61e5f21c729",
   "metadata": {
    "tags": []
   },
   "outputs": [
    {
     "data": {
      "text/html": [
       "<div>\n",
       "<style scoped>\n",
       "    .dataframe tbody tr th:only-of-type {\n",
       "        vertical-align: middle;\n",
       "    }\n",
       "\n",
       "    .dataframe tbody tr th {\n",
       "        vertical-align: top;\n",
       "    }\n",
       "\n",
       "    .dataframe thead th {\n",
       "        text-align: right;\n",
       "    }\n",
       "</style>\n",
       "<table border=\"1\" class=\"dataframe\">\n",
       "  <thead>\n",
       "    <tr style=\"text-align: right;\">\n",
       "      <th></th>\n",
       "      <th>author_id</th>\n",
       "      <th>first_pub_year</th>\n",
       "      <th>last_pub_year</th>\n",
       "      <th>career_len</th>\n",
       "    </tr>\n",
       "  </thead>\n",
       "  <tbody>\n",
       "    <tr>\n",
       "      <th>0</th>\n",
       "      <td>A100443890</td>\n",
       "      <td>1985</td>\n",
       "      <td>2021</td>\n",
       "      <td>36</td>\n",
       "    </tr>\n",
       "    <tr>\n",
       "      <th>1</th>\n",
       "      <td>A10276863</td>\n",
       "      <td>2010</td>\n",
       "      <td>2022</td>\n",
       "      <td>12</td>\n",
       "    </tr>\n",
       "    <tr>\n",
       "      <th>2</th>\n",
       "      <td>A102980197</td>\n",
       "      <td>1994</td>\n",
       "      <td>2022</td>\n",
       "      <td>28</td>\n",
       "    </tr>\n",
       "    <tr>\n",
       "      <th>3</th>\n",
       "      <td>A1042434965</td>\n",
       "      <td>2004</td>\n",
       "      <td>2022</td>\n",
       "      <td>18</td>\n",
       "    </tr>\n",
       "    <tr>\n",
       "      <th>4</th>\n",
       "      <td>A106505410</td>\n",
       "      <td>2003</td>\n",
       "      <td>2008</td>\n",
       "      <td>5</td>\n",
       "    </tr>\n",
       "  </tbody>\n",
       "</table>\n",
       "</div>"
      ],
      "text/plain": [
       "     author_id  first_pub_year  last_pub_year  career_len\n",
       "0   A100443890            1985           2021          36\n",
       "1    A10276863            2010           2022          12\n",
       "2   A102980197            1994           2022          28\n",
       "3  A1042434965            2004           2022          18\n",
       "4   A106505410            2003           2008           5"
      ]
     },
     "execution_count": 28,
     "metadata": {},
     "output_type": "execute_result"
    }
   ],
   "source": [
    "career_span.head(5)"
   ]
  },
  {
   "cell_type": "code",
   "execution_count": 29,
   "id": "3712ef93-56d2-45a7-8e43-6cb93b44823e",
   "metadata": {
    "tags": []
   },
   "outputs": [],
   "source": [
    "surviver_with_OpenALexID = surviver_with_OpenALexID.merge(career_span,on='author_id',how='left')"
   ]
  },
  {
   "cell_type": "code",
   "execution_count": 30,
   "id": "854789d7-1dfc-4c06-88d6-106c2fdfd0ce",
   "metadata": {
    "tags": []
   },
   "outputs": [
    {
     "data": {
      "text/html": [
       "<div>\n",
       "<style scoped>\n",
       "    .dataframe tbody tr th:only-of-type {\n",
       "        vertical-align: middle;\n",
       "    }\n",
       "\n",
       "    .dataframe tbody tr th {\n",
       "        vertical-align: top;\n",
       "    }\n",
       "\n",
       "    .dataframe thead th {\n",
       "        text-align: right;\n",
       "    }\n",
       "</style>\n",
       "<table border=\"1\" class=\"dataframe\">\n",
       "  <thead>\n",
       "    <tr style=\"text-align: right;\">\n",
       "      <th></th>\n",
       "      <th>MenteeID</th>\n",
       "      <th>StopYear</th>\n",
       "      <th>author_id</th>\n",
       "      <th>first_pub_year</th>\n",
       "      <th>last_pub_year</th>\n",
       "      <th>career_len</th>\n",
       "    </tr>\n",
       "  </thead>\n",
       "  <tbody>\n",
       "    <tr>\n",
       "      <th>11213</th>\n",
       "      <td>98103</td>\n",
       "      <td>1993</td>\n",
       "      <td>A2573395430</td>\n",
       "      <td>1988.0</td>\n",
       "      <td>2022.0</td>\n",
       "      <td>34.0</td>\n",
       "    </tr>\n",
       "    <tr>\n",
       "      <th>12084</th>\n",
       "      <td>106721</td>\n",
       "      <td>2002</td>\n",
       "      <td>A281638742</td>\n",
       "      <td>2001.0</td>\n",
       "      <td>2013.0</td>\n",
       "      <td>12.0</td>\n",
       "    </tr>\n",
       "    <tr>\n",
       "      <th>13279</th>\n",
       "      <td>144930</td>\n",
       "      <td>2001</td>\n",
       "      <td>A2111899898</td>\n",
       "      <td>2001.0</td>\n",
       "      <td>2022.0</td>\n",
       "      <td>21.0</td>\n",
       "    </tr>\n",
       "    <tr>\n",
       "      <th>4592</th>\n",
       "      <td>69355</td>\n",
       "      <td>1970</td>\n",
       "      <td>A2141576179</td>\n",
       "      <td>1964.0</td>\n",
       "      <td>2008.0</td>\n",
       "      <td>44.0</td>\n",
       "    </tr>\n",
       "    <tr>\n",
       "      <th>1895</th>\n",
       "      <td>53016</td>\n",
       "      <td>1984</td>\n",
       "      <td>A1975592966</td>\n",
       "      <td>1989.0</td>\n",
       "      <td>2020.0</td>\n",
       "      <td>31.0</td>\n",
       "    </tr>\n",
       "  </tbody>\n",
       "</table>\n",
       "</div>"
      ],
      "text/plain": [
       "       MenteeID  StopYear    author_id  first_pub_year  last_pub_year  \\\n",
       "11213     98103      1993  A2573395430          1988.0         2022.0   \n",
       "12084    106721      2002   A281638742          2001.0         2013.0   \n",
       "13279    144930      2001  A2111899898          2001.0         2022.0   \n",
       "4592      69355      1970  A2141576179          1964.0         2008.0   \n",
       "1895      53016      1984  A1975592966          1989.0         2020.0   \n",
       "\n",
       "       career_len  \n",
       "11213        34.0  \n",
       "12084        12.0  \n",
       "13279        21.0  \n",
       "4592         44.0  \n",
       "1895         31.0  "
      ]
     },
     "execution_count": 30,
     "metadata": {},
     "output_type": "execute_result"
    }
   ],
   "source": [
    "surviver_with_OpenALexID.sample(5)"
   ]
  },
  {
   "cell_type": "code",
   "execution_count": 31,
   "id": "2372981f-fc49-4289-a422-fd4bf900f312",
   "metadata": {
    "tags": []
   },
   "outputs": [],
   "source": [
    "surviver_careerLen = surviver_with_OpenALexID[['StopYear','career_len']][~surviver_with_OpenALexID.career_len.isnull()]"
   ]
  },
  {
   "cell_type": "code",
   "execution_count": 32,
   "id": "a55cd9e1-c879-4b34-94c6-1d0825eabcbb",
   "metadata": {
    "tags": []
   },
   "outputs": [
    {
     "data": {
      "text/html": [
       "<div>\n",
       "<style scoped>\n",
       "    .dataframe tbody tr th:only-of-type {\n",
       "        vertical-align: middle;\n",
       "    }\n",
       "\n",
       "    .dataframe tbody tr th {\n",
       "        vertical-align: top;\n",
       "    }\n",
       "\n",
       "    .dataframe thead th {\n",
       "        text-align: right;\n",
       "    }\n",
       "</style>\n",
       "<table border=\"1\" class=\"dataframe\">\n",
       "  <thead>\n",
       "    <tr style=\"text-align: right;\">\n",
       "      <th></th>\n",
       "      <th>StopYear</th>\n",
       "      <th>career_len</th>\n",
       "    </tr>\n",
       "  </thead>\n",
       "  <tbody>\n",
       "    <tr>\n",
       "      <th>0</th>\n",
       "      <td>1984</td>\n",
       "      <td>36.0</td>\n",
       "    </tr>\n",
       "    <tr>\n",
       "      <th>1</th>\n",
       "      <td>1971</td>\n",
       "      <td>38.0</td>\n",
       "    </tr>\n",
       "    <tr>\n",
       "      <th>2</th>\n",
       "      <td>1927</td>\n",
       "      <td>45.0</td>\n",
       "    </tr>\n",
       "    <tr>\n",
       "      <th>3</th>\n",
       "      <td>1986</td>\n",
       "      <td>26.0</td>\n",
       "    </tr>\n",
       "    <tr>\n",
       "      <th>4</th>\n",
       "      <td>1977</td>\n",
       "      <td>43.0</td>\n",
       "    </tr>\n",
       "  </tbody>\n",
       "</table>\n",
       "</div>"
      ],
      "text/plain": [
       "   StopYear  career_len\n",
       "0      1984        36.0\n",
       "1      1971        38.0\n",
       "2      1927        45.0\n",
       "3      1986        26.0\n",
       "4      1977        43.0"
      ]
     },
     "execution_count": 32,
     "metadata": {},
     "output_type": "execute_result"
    }
   ],
   "source": [
    "surviver_careerLen.head(5)"
   ]
  },
  {
   "cell_type": "code",
   "execution_count": 33,
   "id": "d317c478-d2de-421d-bca7-d1abc0d6ae57",
   "metadata": {
    "tags": []
   },
   "outputs": [],
   "source": [
    "surviver_careerLen = surviver_careerLen[surviver_careerLen.StopYear<2000]"
   ]
  },
  {
   "cell_type": "code",
   "execution_count": 34,
   "id": "2ddd2743-65a4-4e26-a1bc-1005ff209b97",
   "metadata": {
    "scrolled": true,
    "tags": []
   },
   "outputs": [
    {
     "data": {
      "text/plain": [
       "<matplotlib.legend.Legend at 0x117e47f90>"
      ]
     },
     "execution_count": 34,
     "metadata": {},
     "output_type": "execute_result"
    },
    {
     "data": {
      "image/png": "[encoded data removed]",
      "text/plain": [
       "<Figure size 500x309 with 1 Axes>"
      ]
     },
     "metadata": {},
     "output_type": "display_data"
    }
   ],
   "source": [
    "fig, ax = plt.subplots(1,1,constrained_layout=True,figsize=[1*5,0.618*5])\n",
    "sns.set(style='ticks',font_scale=1.2, font='Arial')\n",
    "\n",
    "sns.histplot(data=surviver_careerLen, x=\"career_len\",stat='probability',cumulative=1,fill=0,element=\"step\",\n",
    "             ax=ax)\n",
    "ax.axvline(x=10,color='r',ls='--',label='x =1 0')\n",
    "ax.axvline(x=20,color='seagreen',ls='--',label='x = 20')\n",
    "ax.axhline(y=0.1,color='k',ls='--',label='y = 0.1')\n",
    "plt.legend(frameon=0,loc=1)"
   ]
  },
  {
   "cell_type": "markdown",
   "id": "b8d1a08f-481e-4291-bf72-71b7f3d4cfea",
   "metadata": {},
   "source": [
    "##### dropout"
   ]
  },
  {
   "cell_type": "code",
   "execution_count": 35,
   "id": "f87bd883-eed6-4294-97a6-a4c7622bc5e3",
   "metadata": {
    "tags": []
   },
   "outputs": [],
   "source": [
    "dropout_with_OpenALexID = neuro_mentees_surviver_0[['MenteeID','StopYear','author_id']][(neuro_mentees_surviver_0.surviver.isnull())\n",
    "                                                                                        &(~neuro_mentees_surviver_0.author_id.isnull())\n",
    "                                                                                        &(neuro_mentees_surviver_0.StopYear>-1)]"
   ]
  },
  {
   "cell_type": "code",
   "execution_count": 36,
   "id": "04d73d3d-7ea7-4bbb-84a0-596f4d93b2bc",
   "metadata": {
    "tags": []
   },
   "outputs": [],
   "source": [
    "dropout_with_OpenALexID = dropout_with_OpenALexID.merge(career_span,on='author_id',how='left')"
   ]
  },
  {
   "cell_type": "code",
   "execution_count": 37,
   "id": "e21fd25a-eca3-4b96-8346-3bd13b65e14d",
   "metadata": {
    "tags": []
   },
   "outputs": [
    {
     "data": {
      "text/html": [
       "<div>\n",
       "<style scoped>\n",
       "    .dataframe tbody tr th:only-of-type {\n",
       "        vertical-align: middle;\n",
       "    }\n",
       "\n",
       "    .dataframe tbody tr th {\n",
       "        vertical-align: top;\n",
       "    }\n",
       "\n",
       "    .dataframe thead th {\n",
       "        text-align: right;\n",
       "    }\n",
       "</style>\n",
       "<table border=\"1\" class=\"dataframe\">\n",
       "  <thead>\n",
       "    <tr style=\"text-align: right;\">\n",
       "      <th></th>\n",
       "      <th>MenteeID</th>\n",
       "      <th>StopYear</th>\n",
       "      <th>author_id</th>\n",
       "      <th>first_pub_year</th>\n",
       "      <th>last_pub_year</th>\n",
       "      <th>career_len</th>\n",
       "    </tr>\n",
       "  </thead>\n",
       "  <tbody>\n",
       "    <tr>\n",
       "      <th>0</th>\n",
       "      <td>53604</td>\n",
       "      <td>1997</td>\n",
       "      <td>A1874842480</td>\n",
       "      <td>1995.0</td>\n",
       "      <td>2021.0</td>\n",
       "      <td>26.0</td>\n",
       "    </tr>\n",
       "    <tr>\n",
       "      <th>1</th>\n",
       "      <td>1305</td>\n",
       "      <td>2008</td>\n",
       "      <td>A2078461133</td>\n",
       "      <td>1998.0</td>\n",
       "      <td>2016.0</td>\n",
       "      <td>18.0</td>\n",
       "    </tr>\n",
       "    <tr>\n",
       "      <th>2</th>\n",
       "      <td>55119</td>\n",
       "      <td>1975</td>\n",
       "      <td>A2319933687</td>\n",
       "      <td>NaN</td>\n",
       "      <td>NaN</td>\n",
       "      <td>NaN</td>\n",
       "    </tr>\n",
       "    <tr>\n",
       "      <th>3</th>\n",
       "      <td>1867</td>\n",
       "      <td>2006</td>\n",
       "      <td>A106410412</td>\n",
       "      <td>2006.0</td>\n",
       "      <td>2006.0</td>\n",
       "      <td>0.0</td>\n",
       "    </tr>\n",
       "    <tr>\n",
       "      <th>4</th>\n",
       "      <td>1892</td>\n",
       "      <td>2004</td>\n",
       "      <td>A2130447482</td>\n",
       "      <td>2004.0</td>\n",
       "      <td>2021.0</td>\n",
       "      <td>17.0</td>\n",
       "    </tr>\n",
       "  </tbody>\n",
       "</table>\n",
       "</div>"
      ],
      "text/plain": [
       "   MenteeID  StopYear    author_id  first_pub_year  last_pub_year  career_len\n",
       "0     53604      1997  A1874842480          1995.0         2021.0        26.0\n",
       "1      1305      2008  A2078461133          1998.0         2016.0        18.0\n",
       "2     55119      1975  A2319933687             NaN            NaN         NaN\n",
       "3      1867      2006   A106410412          2006.0         2006.0         0.0\n",
       "4      1892      2004  A2130447482          2004.0         2021.0        17.0"
      ]
     },
     "execution_count": 37,
     "metadata": {},
     "output_type": "execute_result"
    }
   ],
   "source": [
    "dropout_with_OpenALexID.head(5)"
   ]
  },
  {
   "cell_type": "code",
   "execution_count": 38,
   "id": "bd2803ef-a090-4075-a715-f4b8dee8cd1f",
   "metadata": {
    "tags": []
   },
   "outputs": [],
   "source": [
    "dropout_careerLen = dropout_with_OpenALexID[['StopYear','career_len']][~dropout_with_OpenALexID.career_len.isnull()]"
   ]
  },
  {
   "cell_type": "code",
   "execution_count": 39,
   "id": "4b6e92b8-fe67-4f6f-b995-3734a7a5a0a3",
   "metadata": {
    "tags": []
   },
   "outputs": [],
   "source": [
    "dropout_careerLen = dropout_careerLen[dropout_careerLen.StopYear<2000]"
   ]
  },
  {
   "cell_type": "code",
   "execution_count": 40,
   "id": "2a236c48-225e-44e3-90b9-16bcef1fce99",
   "metadata": {
    "tags": []
   },
   "outputs": [
    {
     "data": {
      "text/plain": [
       "<matplotlib.legend.Legend at 0x12775ea10>"
      ]
     },
     "execution_count": 40,
     "metadata": {},
     "output_type": "execute_result"
    },
    {
     "data": {
      "image/png": "[encoded data removed]",
      "text/plain": [
       "<Figure size 500x309 with 1 Axes>"
      ]
     },
     "metadata": {},
     "output_type": "display_data"
    }
   ],
   "source": [
    "fig, ax = plt.subplots(1,1,constrained_layout=True,figsize=[1*5,0.618*5])\n",
    "sns.set(style='ticks',font_scale=1.2, font='Arial')\n",
    "\n",
    "sns.histplot(data=dropout_careerLen, x=\"career_len\",stat='probability',cumulative=1,element='step',fill=0,\n",
    "             ax=ax)\n",
    "ax.axvline(x=10,color='r',ls='--',label='x=10')\n",
    "ax.axvline(x=20,color='seagreen',ls='--',label='x=20')\n",
    "ax.axhline(y=0.1,color='k',ls='--',label='y=0.1')\n",
    "plt.legend(frameon=0,loc=1)"
   ]
  },
  {
   "cell_type": "markdown",
   "id": "fb4a052d-13e1-4c29-8776-78f0007be472",
   "metadata": {},
   "source": [
    "#### Survival Rate calcuated by Pub."
   ]
  },
  {
   "cell_type": "code",
   "execution_count": 41,
   "id": "179ce74b-0dca-4eef-a0f6-5f65278e646d",
   "metadata": {
    "tags": []
   },
   "outputs": [
    {
     "data": {
      "text/html": [
       "<div>\n",
       "<style scoped>\n",
       "    .dataframe tbody tr th:only-of-type {\n",
       "        vertical-align: middle;\n",
       "    }\n",
       "\n",
       "    .dataframe tbody tr th {\n",
       "        vertical-align: top;\n",
       "    }\n",
       "\n",
       "    .dataframe thead th {\n",
       "        text-align: right;\n",
       "    }\n",
       "</style>\n",
       "<table border=\"1\" class=\"dataframe\">\n",
       "  <thead>\n",
       "    <tr style=\"text-align: right;\">\n",
       "      <th></th>\n",
       "      <th>MenteeID</th>\n",
       "      <th>MentorID</th>\n",
       "      <th>StopYear</th>\n",
       "      <th>surviver</th>\n",
       "      <th>MAGAuthorID</th>\n",
       "      <th>author_id</th>\n",
       "    </tr>\n",
       "  </thead>\n",
       "  <tbody>\n",
       "    <tr>\n",
       "      <th>0</th>\n",
       "      <td>18761</td>\n",
       "      <td>9</td>\n",
       "      <td>1984</td>\n",
       "      <td>1.0</td>\n",
       "      <td>2.809701e+09</td>\n",
       "      <td>A2809701389</td>\n",
       "    </tr>\n",
       "    <tr>\n",
       "      <th>1</th>\n",
       "      <td>53604</td>\n",
       "      <td>33687</td>\n",
       "      <td>1997</td>\n",
       "      <td>NaN</td>\n",
       "      <td>1.874842e+09</td>\n",
       "      <td>A1874842480</td>\n",
       "    </tr>\n",
       "    <tr>\n",
       "      <th>2</th>\n",
       "      <td>20</td>\n",
       "      <td>24</td>\n",
       "      <td>-1</td>\n",
       "      <td>1.0</td>\n",
       "      <td>2.169128e+09</td>\n",
       "      <td>A2169128453</td>\n",
       "    </tr>\n",
       "    <tr>\n",
       "      <th>3</th>\n",
       "      <td>12561</td>\n",
       "      <td>52639</td>\n",
       "      <td>1971</td>\n",
       "      <td>1.0</td>\n",
       "      <td>2.307650e+09</td>\n",
       "      <td>A2307649786</td>\n",
       "    </tr>\n",
       "    <tr>\n",
       "      <th>4</th>\n",
       "      <td>188</td>\n",
       "      <td>189</td>\n",
       "      <td>1927</td>\n",
       "      <td>1.0</td>\n",
       "      <td>2.039886e+09</td>\n",
       "      <td>A2039885679</td>\n",
       "    </tr>\n",
       "  </tbody>\n",
       "</table>\n",
       "</div>"
      ],
      "text/plain": [
       "   MenteeID  MentorID  StopYear  surviver   MAGAuthorID    author_id\n",
       "0     18761         9      1984       1.0  2.809701e+09  A2809701389\n",
       "1     53604     33687      1997       NaN  1.874842e+09  A1874842480\n",
       "2        20        24        -1       1.0  2.169128e+09  A2169128453\n",
       "3     12561     52639      1971       1.0  2.307650e+09  A2307649786\n",
       "4       188       189      1927       1.0  2.039886e+09  A2039885679"
      ]
     },
     "execution_count": 41,
     "metadata": {},
     "output_type": "execute_result"
    }
   ],
   "source": [
    "neuro_mentees_surviver_0.head(5)"
   ]
  },
  {
   "cell_type": "code",
   "execution_count": 42,
   "id": "9f920643-bf05-43cb-a924-3e2a98e9688a",
   "metadata": {
    "tags": []
   },
   "outputs": [
    {
     "data": {
      "text/html": [
       "<div>\n",
       "<style scoped>\n",
       "    .dataframe tbody tr th:only-of-type {\n",
       "        vertical-align: middle;\n",
       "    }\n",
       "\n",
       "    .dataframe tbody tr th {\n",
       "        vertical-align: top;\n",
       "    }\n",
       "\n",
       "    .dataframe thead th {\n",
       "        text-align: right;\n",
       "    }\n",
       "</style>\n",
       "<table border=\"1\" class=\"dataframe\">\n",
       "  <thead>\n",
       "    <tr style=\"text-align: right;\">\n",
       "      <th></th>\n",
       "      <th>author_id</th>\n",
       "      <th>first_pub_year</th>\n",
       "      <th>last_pub_year</th>\n",
       "      <th>career_len</th>\n",
       "    </tr>\n",
       "  </thead>\n",
       "  <tbody>\n",
       "    <tr>\n",
       "      <th>0</th>\n",
       "      <td>A100443890</td>\n",
       "      <td>1985</td>\n",
       "      <td>2021</td>\n",
       "      <td>36</td>\n",
       "    </tr>\n",
       "    <tr>\n",
       "      <th>1</th>\n",
       "      <td>A10276863</td>\n",
       "      <td>2010</td>\n",
       "      <td>2022</td>\n",
       "      <td>12</td>\n",
       "    </tr>\n",
       "    <tr>\n",
       "      <th>2</th>\n",
       "      <td>A102980197</td>\n",
       "      <td>1994</td>\n",
       "      <td>2022</td>\n",
       "      <td>28</td>\n",
       "    </tr>\n",
       "    <tr>\n",
       "      <th>3</th>\n",
       "      <td>A1042434965</td>\n",
       "      <td>2004</td>\n",
       "      <td>2022</td>\n",
       "      <td>18</td>\n",
       "    </tr>\n",
       "    <tr>\n",
       "      <th>4</th>\n",
       "      <td>A106505410</td>\n",
       "      <td>2003</td>\n",
       "      <td>2008</td>\n",
       "      <td>5</td>\n",
       "    </tr>\n",
       "  </tbody>\n",
       "</table>\n",
       "</div>"
      ],
      "text/plain": [
       "     author_id  first_pub_year  last_pub_year  career_len\n",
       "0   A100443890            1985           2021          36\n",
       "1    A10276863            2010           2022          12\n",
       "2   A102980197            1994           2022          28\n",
       "3  A1042434965            2004           2022          18\n",
       "4   A106505410            2003           2008           5"
      ]
     },
     "execution_count": 42,
     "metadata": {},
     "output_type": "execute_result"
    }
   ],
   "source": [
    "career_span.head(5)"
   ]
  },
  {
   "cell_type": "code",
   "execution_count": 43,
   "id": "a13c931f-381a-4257-9e57-d6f2cbc5018a",
   "metadata": {
    "tags": []
   },
   "outputs": [],
   "source": [
    "neuro_mentees_info = neuro_mentees_surviver_0.merge(career_span,on='author_id',how='left')"
   ]
  },
  {
   "cell_type": "code",
   "execution_count": 44,
   "id": "e8fd20a7-1555-4617-ba94-7badd38432b3",
   "metadata": {
    "tags": []
   },
   "outputs": [],
   "source": [
    "neuro_mentees_info = neuro_mentees_info[~neuro_mentees_info.author_id.isnull()]"
   ]
  },
  {
   "cell_type": "code",
   "execution_count": 45,
   "id": "46b3328a-b769-4ba2-925f-a0927aaf49ac",
   "metadata": {
    "tags": []
   },
   "outputs": [
    {
     "data": {
      "text/html": [
       "<div>\n",
       "<style scoped>\n",
       "    .dataframe tbody tr th:only-of-type {\n",
       "        vertical-align: middle;\n",
       "    }\n",
       "\n",
       "    .dataframe tbody tr th {\n",
       "        vertical-align: top;\n",
       "    }\n",
       "\n",
       "    .dataframe thead th {\n",
       "        text-align: right;\n",
       "    }\n",
       "</style>\n",
       "<table border=\"1\" class=\"dataframe\">\n",
       "  <thead>\n",
       "    <tr style=\"text-align: right;\">\n",
       "      <th></th>\n",
       "      <th>MenteeID</th>\n",
       "      <th>MentorID</th>\n",
       "      <th>StopYear</th>\n",
       "      <th>surviver</th>\n",
       "      <th>MAGAuthorID</th>\n",
       "      <th>author_id</th>\n",
       "      <th>first_pub_year</th>\n",
       "      <th>last_pub_year</th>\n",
       "      <th>career_len</th>\n",
       "    </tr>\n",
       "  </thead>\n",
       "  <tbody>\n",
       "    <tr>\n",
       "      <th>0</th>\n",
       "      <td>18761</td>\n",
       "      <td>9</td>\n",
       "      <td>1984</td>\n",
       "      <td>1.0</td>\n",
       "      <td>2.809701e+09</td>\n",
       "      <td>A2809701389</td>\n",
       "      <td>1986.0</td>\n",
       "      <td>2022.0</td>\n",
       "      <td>36.0</td>\n",
       "    </tr>\n",
       "    <tr>\n",
       "      <th>1</th>\n",
       "      <td>53604</td>\n",
       "      <td>33687</td>\n",
       "      <td>1997</td>\n",
       "      <td>NaN</td>\n",
       "      <td>1.874842e+09</td>\n",
       "      <td>A1874842480</td>\n",
       "      <td>1995.0</td>\n",
       "      <td>2021.0</td>\n",
       "      <td>26.0</td>\n",
       "    </tr>\n",
       "    <tr>\n",
       "      <th>2</th>\n",
       "      <td>20</td>\n",
       "      <td>24</td>\n",
       "      <td>-1</td>\n",
       "      <td>1.0</td>\n",
       "      <td>2.169128e+09</td>\n",
       "      <td>A2169128453</td>\n",
       "      <td>1985.0</td>\n",
       "      <td>2021.0</td>\n",
       "      <td>36.0</td>\n",
       "    </tr>\n",
       "    <tr>\n",
       "      <th>3</th>\n",
       "      <td>12561</td>\n",
       "      <td>52639</td>\n",
       "      <td>1971</td>\n",
       "      <td>1.0</td>\n",
       "      <td>2.307650e+09</td>\n",
       "      <td>A2307649786</td>\n",
       "      <td>1972.0</td>\n",
       "      <td>2010.0</td>\n",
       "      <td>38.0</td>\n",
       "    </tr>\n",
       "    <tr>\n",
       "      <th>4</th>\n",
       "      <td>188</td>\n",
       "      <td>189</td>\n",
       "      <td>1927</td>\n",
       "      <td>1.0</td>\n",
       "      <td>2.039886e+09</td>\n",
       "      <td>A2039885679</td>\n",
       "      <td>1928.0</td>\n",
       "      <td>1973.0</td>\n",
       "      <td>45.0</td>\n",
       "    </tr>\n",
       "  </tbody>\n",
       "</table>\n",
       "</div>"
      ],
      "text/plain": [
       "   MenteeID  MentorID  StopYear  surviver   MAGAuthorID    author_id  \\\n",
       "0     18761         9      1984       1.0  2.809701e+09  A2809701389   \n",
       "1     53604     33687      1997       NaN  1.874842e+09  A1874842480   \n",
       "2        20        24        -1       1.0  2.169128e+09  A2169128453   \n",
       "3     12561     52639      1971       1.0  2.307650e+09  A2307649786   \n",
       "4       188       189      1927       1.0  2.039886e+09  A2039885679   \n",
       "\n",
       "   first_pub_year  last_pub_year  career_len  \n",
       "0          1986.0         2022.0        36.0  \n",
       "1          1995.0         2021.0        26.0  \n",
       "2          1985.0         2021.0        36.0  \n",
       "3          1972.0         2010.0        38.0  \n",
       "4          1928.0         1973.0        45.0  "
      ]
     },
     "execution_count": 45,
     "metadata": {},
     "output_type": "execute_result"
    }
   ],
   "source": [
    "neuro_mentees_info.head(5)"
   ]
  },
  {
   "cell_type": "code",
   "execution_count": 46,
   "id": "052a6196-9d0a-4bc5-a412-53ad2e115d60",
   "metadata": {
    "tags": []
   },
   "outputs": [],
   "source": [
    "dropout_temp = neuro_mentees_info[neuro_mentees_info.surviver.isnull()]"
   ]
  },
  {
   "cell_type": "code",
   "execution_count": 58,
   "id": "deb4e672-0157-462a-b7c1-1fce662452d0",
   "metadata": {
    "tags": []
   },
   "outputs": [],
   "source": [
    "switch = 1\n",
    "\n",
    "if switch==1:\n",
    "    def survival_rate(df):\n",
    "        try:\n",
    "            survival_5 = len(df[df.career_len>5])/len(df[df.career_len>0])\n",
    "            survival_10 = len(df[df.career_len>10])/len(df[df.career_len>0])\n",
    "            survival_15 = len(df[df.career_len>15])/len(df[df.career_len>0])\n",
    "        except:\n",
    "            survival_5 = 0\n",
    "            survival_10 = 0\n",
    "            survival_15 = 0\n",
    "        return [survival_5 ,survival_10 ,survival_15]\n",
    "    \n",
    "else:\n",
    "    def survival_rate(df):\n",
    "        try:\n",
    "            survival_5 = len(df[df.career_len>5])/len(df)\n",
    "            survival_10 = len(df[df.career_len>10])/len(df)\n",
    "            survival_15 = len(df[df.career_len>15])/len(df)\n",
    "        except:\n",
    "            survival_5 = 0\n",
    "            survival_10 = 0\n",
    "            survival_15 = 0  \n",
    "        \n",
    "        return [survival_5 ,survival_10 ,survival_15]\n"
   ]
  },
  {
   "cell_type": "code",
   "execution_count": 59,
   "id": "ff48d85b-88b7-4bb9-84b1-8a10acca3e05",
   "metadata": {
    "tags": []
   },
   "outputs": [
    {
     "name": "stdout",
     "output_type": "stream",
     "text": [
      "2019.0\n"
     ]
    }
   ],
   "source": [
    "upbondary = max(neuro_mentees_info.first_pub_year)\n",
    "print(upbondary )\n",
    "neuro_mentees_info = neuro_mentees_info[neuro_mentees_info.first_pub_year<upbondary]"
   ]
  },
  {
   "cell_type": "code",
   "execution_count": 60,
   "id": "2ab994f2-1861-4844-8a2b-1169920d8e0b",
   "metadata": {
    "scrolled": true,
    "tags": []
   },
   "outputs": [],
   "source": [
    "survival_info = neuro_mentees_info.groupby('first_pub_year').apply(survival_rate).reset_index(name='survival rate')\n",
    "\n",
    "data = survival_info[(survival_info.first_pub_year>1960)&\n",
    "             (survival_info.first_pub_year<2005)]"
   ]
  },
  {
   "cell_type": "code",
   "execution_count": 61,
   "id": "d6cb4bed-2d02-4696-806c-8c4842107734",
   "metadata": {
    "tags": []
   },
   "outputs": [],
   "source": [
    "x = list(data.first_pub_year)\n",
    "temp = list(data['survival rate'])\n",
    "\n",
    "y5 = [k[0] for k in temp]\n",
    "y10 = [k[1] for k in temp]\n",
    "y15 = [k[2] for k in temp]"
   ]
  },
  {
   "cell_type": "code",
   "execution_count": 62,
   "id": "9fe4b03d-e2ed-4ae9-97e0-a436371f1756",
   "metadata": {
    "tags": []
   },
   "outputs": [
    {
     "data": {
      "image/png": "[encoded data removed]",
      "text/plain": [
       "<Figure size 500x309 with 1 Axes>"
      ]
     },
     "metadata": {},
     "output_type": "display_data"
    }
   ],
   "source": [
    "fig, ax = plt.subplots(constrained_layout=True,figsize=[1*5,0.618*5])\n",
    "\n",
    "# plot\n",
    "ax.plot(x, y5, label=f'y5', marker='.')\n",
    "ax.plot(x, y10, label=f'y10', marker='.')\n",
    "ax.plot(x, y15, label=f'y15', marker='.')\n",
    "\n",
    "ax.set(ylabel='survival rate',title=f'chemistry pub. (switch = {switch})')\n",
    "plt.legend(frameon=0)\n",
    "\n",
    "fig.savefig(f'/Users/yanmemgxing/Desktop/chemistry pub. (switch = {switch}).png',dpi=100)"
   ]
  },
  {
   "cell_type": "code",
   "execution_count": null,
   "id": "e247e6a3-7c87-4bcb-aed6-f25f41e271a4",
   "metadata": {},
   "outputs": [],
   "source": []
  }
 ],
 "metadata": {
  "kernelspec": {
   "display_name": "myenv",
   "language": "python",
   "name": "myenv"
  },
  "language_info": {
   "codemirror_mode": {
    "name": "ipython",
    "version": 3
   },
   "file_extension": ".py",
   "mimetype": "text/x-python",
   "name": "python",
   "nbconvert_exporter": "python",
   "pygments_lexer": "ipython3",
   "version": "3.11.3"
  }
 },
 "nbformat": 4,
 "nbformat_minor": 5
}
