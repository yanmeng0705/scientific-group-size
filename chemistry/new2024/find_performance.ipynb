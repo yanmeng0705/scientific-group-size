{
 "cells": [
  {
   "cell_type": "code",
   "execution_count": 1,
   "id": "ec1abaef-0244-45f4-a1af-19a4b5f1ca77",
   "metadata": {
    "tags": []
   },
   "outputs": [],
   "source": [
    "import pandas as pd\n",
    "import os\n",
    "import random\n",
    "import numpy as np\n",
    "import matplotlib.pyplot as plt\n",
    "import seaborn as sns"
   ]
  },
  {
   "cell_type": "code",
   "execution_count": 2,
   "id": "2bbfa4fb-9574-4de4-802c-944ba4d1e4fc",
   "metadata": {
    "tags": []
   },
   "outputs": [],
   "source": [
    "group_info = pd.read_csv('group_info_OnlyLastAuthorPaper.csv')"
   ]
  },
  {
   "cell_type": "code",
   "execution_count": 3,
   "id": "b3c3a964-8bb4-4bf5-aecf-405a30e4e8c2",
   "metadata": {
    "tags": []
   },
   "outputs": [
    {
     "data": {
      "text/html": [
       "<div>\n",
       "<style scoped>\n",
       "    .dataframe tbody tr th:only-of-type {\n",
       "        vertical-align: middle;\n",
       "    }\n",
       "\n",
       "    .dataframe tbody tr th {\n",
       "        vertical-align: top;\n",
       "    }\n",
       "\n",
       "    .dataframe thead th {\n",
       "        text-align: right;\n",
       "    }\n",
       "</style>\n",
       "<table border=\"1\" class=\"dataframe\">\n",
       "  <thead>\n",
       "    <tr style=\"text-align: right;\">\n",
       "      <th></th>\n",
       "      <th>work_id</th>\n",
       "      <th>author_position</th>\n",
       "      <th>author_id</th>\n",
       "      <th>institution_id</th>\n",
       "      <th>publication_year</th>\n",
       "      <th>first_pub_year</th>\n",
       "      <th>scientific_age</th>\n",
       "      <th>group_size</th>\n",
       "      <th>mentor_id</th>\n",
       "      <th>current_year</th>\n",
       "      <th>ratio_institution</th>\n",
       "      <th>last_pub_year</th>\n",
       "      <th>career_len</th>\n",
       "      <th>mentor_first_pub_year</th>\n",
       "      <th>mentor_scientific_age</th>\n",
       "    </tr>\n",
       "  </thead>\n",
       "  <tbody>\n",
       "    <tr>\n",
       "      <th>0</th>\n",
       "      <td>W1977009494</td>\n",
       "      <td>first</td>\n",
       "      <td>A2065840449</td>\n",
       "      <td>I79817857</td>\n",
       "      <td>1996</td>\n",
       "      <td>1996</td>\n",
       "      <td>0</td>\n",
       "      <td>1</td>\n",
       "      <td>A2159931953</td>\n",
       "      <td>1996</td>\n",
       "      <td>1.0</td>\n",
       "      <td>2015.0</td>\n",
       "      <td>19.0</td>\n",
       "      <td>1993</td>\n",
       "      <td>3</td>\n",
       "    </tr>\n",
       "    <tr>\n",
       "      <th>1</th>\n",
       "      <td>W1977009494</td>\n",
       "      <td>first</td>\n",
       "      <td>A2065840449</td>\n",
       "      <td>I79817857</td>\n",
       "      <td>1996</td>\n",
       "      <td>1996</td>\n",
       "      <td>0</td>\n",
       "      <td>1</td>\n",
       "      <td>A2159931953</td>\n",
       "      <td>1997</td>\n",
       "      <td>1.0</td>\n",
       "      <td>2015.0</td>\n",
       "      <td>19.0</td>\n",
       "      <td>1993</td>\n",
       "      <td>4</td>\n",
       "    </tr>\n",
       "    <tr>\n",
       "      <th>2</th>\n",
       "      <td>W1977009494</td>\n",
       "      <td>first</td>\n",
       "      <td>A2065840449</td>\n",
       "      <td>I79817857</td>\n",
       "      <td>1996</td>\n",
       "      <td>1996</td>\n",
       "      <td>0</td>\n",
       "      <td>2</td>\n",
       "      <td>A2159931953</td>\n",
       "      <td>1998</td>\n",
       "      <td>1.0</td>\n",
       "      <td>2015.0</td>\n",
       "      <td>19.0</td>\n",
       "      <td>1993</td>\n",
       "      <td>5</td>\n",
       "    </tr>\n",
       "    <tr>\n",
       "      <th>3</th>\n",
       "      <td>W2032668235</td>\n",
       "      <td>first</td>\n",
       "      <td>A2677772339</td>\n",
       "      <td>I79817857</td>\n",
       "      <td>1998</td>\n",
       "      <td>1998</td>\n",
       "      <td>0</td>\n",
       "      <td>2</td>\n",
       "      <td>A2159931953</td>\n",
       "      <td>1998</td>\n",
       "      <td>1.0</td>\n",
       "      <td>1998.0</td>\n",
       "      <td>0.0</td>\n",
       "      <td>1993</td>\n",
       "      <td>5</td>\n",
       "    </tr>\n",
       "    <tr>\n",
       "      <th>4</th>\n",
       "      <td>W1977009494</td>\n",
       "      <td>first</td>\n",
       "      <td>A2065840449</td>\n",
       "      <td>I79817857</td>\n",
       "      <td>1996</td>\n",
       "      <td>1996</td>\n",
       "      <td>0</td>\n",
       "      <td>2</td>\n",
       "      <td>A2159931953</td>\n",
       "      <td>1999</td>\n",
       "      <td>1.0</td>\n",
       "      <td>2015.0</td>\n",
       "      <td>19.0</td>\n",
       "      <td>1993</td>\n",
       "      <td>6</td>\n",
       "    </tr>\n",
       "  </tbody>\n",
       "</table>\n",
       "</div>"
      ],
      "text/plain": [
       "       work_id author_position    author_id institution_id  publication_year  \\\n",
       "0  W1977009494           first  A2065840449      I79817857              1996   \n",
       "1  W1977009494           first  A2065840449      I79817857              1996   \n",
       "2  W1977009494           first  A2065840449      I79817857              1996   \n",
       "3  W2032668235           first  A2677772339      I79817857              1998   \n",
       "4  W1977009494           first  A2065840449      I79817857              1996   \n",
       "\n",
       "   first_pub_year  scientific_age  group_size    mentor_id  current_year  \\\n",
       "0            1996               0           1  A2159931953          1996   \n",
       "1            1996               0           1  A2159931953          1997   \n",
       "2            1996               0           2  A2159931953          1998   \n",
       "3            1998               0           2  A2159931953          1998   \n",
       "4            1996               0           2  A2159931953          1999   \n",
       "\n",
       "   ratio_institution  last_pub_year  career_len  mentor_first_pub_year  \\\n",
       "0                1.0         2015.0        19.0                   1993   \n",
       "1                1.0         2015.0        19.0                   1993   \n",
       "2                1.0         2015.0        19.0                   1993   \n",
       "3                1.0         1998.0         0.0                   1993   \n",
       "4                1.0         2015.0        19.0                   1993   \n",
       "\n",
       "   mentor_scientific_age  \n",
       "0                      3  \n",
       "1                      4  \n",
       "2                      5  \n",
       "3                      5  \n",
       "4                      6  "
      ]
     },
     "execution_count": 3,
     "metadata": {},
     "output_type": "execute_result"
    }
   ],
   "source": [
    "group_info.head(5)"
   ]
  },
  {
   "cell_type": "markdown",
   "id": "dc4b66a8-a59e-428d-b536-140be4175f0d",
   "metadata": {},
   "source": [
    "#### Find Mentee's performance"
   ]
  },
  {
   "cell_type": "markdown",
   "id": "2234c901-5856-43d1-8e58-615dc5b4ba3b",
   "metadata": {},
   "source": [
    "pub_num\n",
    "\n",
    "total_cits\n",
    "\n",
    "yearly_cits\n",
    "\n",
    "fecundity\n",
    "\n",
    "career length"
   ]
  },
  {
   "cell_type": "code",
   "execution_count": 4,
   "id": "e1e24ce6-2cfc-4386-86a2-668880c83f65",
   "metadata": {
    "tags": []
   },
   "outputs": [],
   "source": [
    "all_mentee = group_info.author_id.drop_duplicates().tolist()"
   ]
  },
  {
   "cell_type": "code",
   "execution_count": 5,
   "id": "a412a1bf-28a1-4295-9006-6befabdf5bc9",
   "metadata": {
    "tags": []
   },
   "outputs": [
    {
     "name": "stdout",
     "output_type": "stream",
     "text": [
      "num_of_mentee:  670770\n"
     ]
    }
   ],
   "source": [
    "print('num_of_mentee: ',len(all_mentee))"
   ]
  },
  {
   "cell_type": "markdown",
   "id": "361cae5c-88b3-4116-9e7b-168b55c037c5",
   "metadata": {
    "tags": []
   },
   "source": [
    "##### find mentee's work"
   ]
  },
  {
   "cell_type": "code",
   "execution_count": 6,
   "id": "011ee1b7-2320-4b37-bdfc-adfddcccb146",
   "metadata": {
    "scrolled": true,
    "tags": []
   },
   "outputs": [],
   "source": [
    "from sqlalchemy import create_engine\n",
    "engine = create_engine(\"mysql+pymysql://{user}:{pw}@{host}:{port}/{db}?charset=utf8mb4\"\n",
    "                       .format(user=\"openalex_ym\",\n",
    "                               pw=\"openalex.ym\",\n",
    "                               host=\"172.18.18.167\",\n",
    "                               port=3306,\n",
    "                               db=\"openalex2022\"),\n",
    "                       )"
   ]
  },
  {
   "cell_type": "code",
   "execution_count": 7,
   "id": "dea53c81-950a-4d4f-bd11-27f8eaa76696",
   "metadata": {
    "tags": []
   },
   "outputs": [],
   "source": [
    "mentee_groups = []\n",
    "interval = 5000\n",
    "start_point = 0\n",
    "while True:\n",
    "    end_point = start_point + interval\n",
    "    try:\n",
    "        temp = all_mentee[start_point:end_point]\n",
    "        mentee_groups.append(temp)\n",
    "    except:\n",
    "        temp = all_mentee[start_point:]\n",
    "        mentee_groups.append(temp)\n",
    "        \n",
    "    start_point = end_point\n",
    "    if end_point>len(all_mentee):\n",
    "        break"
   ]
  },
  {
   "cell_type": "code",
   "execution_count": 8,
   "id": "67c9efff-e4c4-45b2-b87b-7a71831afaa6",
   "metadata": {
    "tags": []
   },
   "outputs": [
    {
     "name": "stdout",
     "output_type": "stream",
     "text": [
      "135\n"
     ]
    }
   ],
   "source": [
    "print(len(mentee_groups))"
   ]
  },
  {
   "cell_type": "code",
   "execution_count": 9,
   "id": "251c18ca-91ba-46af-b24e-a23be12e599a",
   "metadata": {
    "scrolled": true,
    "tags": []
   },
   "outputs": [
    {
     "name": "stdout",
     "output_type": "stream",
     "text": [
      "135\n",
      "0\n",
      "10\n",
      "20\n",
      "30\n",
      "40\n",
      "50\n",
      "60\n",
      "70\n",
      "80\n",
      "90\n",
      "100\n",
      "110\n",
      "120\n",
      "130\n"
     ]
    }
   ],
   "source": [
    "l = len(mentee_groups)\n",
    "print(l)\n",
    "for i in range(l):\n",
    "    temp =  mentee_groups[i]\n",
    "    sql_query = \"\"\"select works_authorships.work_id, works_authorships.author_id\n",
    "\n",
    "                    from works_authorships \n",
    "\n",
    "                    where works_authorships.author_id in {}\n",
    "                    \"\"\".format(tuple(temp))\n",
    "\n",
    "\n",
    "    data = pd.read_sql(sql_query, con=engine)\n",
    "    # merge data\n",
    "    if i==0:\n",
    "        tp = data\n",
    "    else:\n",
    "        tp = pd.concat((tp,data))\n",
    "    if i%10==0:\n",
    "        print(i)\n",
    "\n",
    "Data = tp"
   ]
  },
  {
   "cell_type": "code",
   "execution_count": 13,
   "id": "d6491f99-d24e-478e-bec7-ca3983d51d78",
   "metadata": {
    "tags": []
   },
   "outputs": [],
   "source": [
    "Data = Data.rename(columns={'id':'work_id'})"
   ]
  },
  {
   "cell_type": "code",
   "execution_count": 14,
   "id": "f12db2de-3177-4558-a44a-2e51638e525d",
   "metadata": {
    "tags": []
   },
   "outputs": [
    {
     "data": {
      "text/html": [
       "<div>\n",
       "<style scoped>\n",
       "    .dataframe tbody tr th:only-of-type {\n",
       "        vertical-align: middle;\n",
       "    }\n",
       "\n",
       "    .dataframe tbody tr th {\n",
       "        vertical-align: top;\n",
       "    }\n",
       "\n",
       "    .dataframe thead th {\n",
       "        text-align: right;\n",
       "    }\n",
       "</style>\n",
       "<table border=\"1\" class=\"dataframe\">\n",
       "  <thead>\n",
       "    <tr style=\"text-align: right;\">\n",
       "      <th></th>\n",
       "      <th>work_id</th>\n",
       "      <th>author_id</th>\n",
       "    </tr>\n",
       "  </thead>\n",
       "  <tbody>\n",
       "    <tr>\n",
       "      <th>0</th>\n",
       "      <td>W1998731205</td>\n",
       "      <td>A105266732</td>\n",
       "    </tr>\n",
       "    <tr>\n",
       "      <th>1</th>\n",
       "      <td>W2905418025</td>\n",
       "      <td>A105266732</td>\n",
       "    </tr>\n",
       "    <tr>\n",
       "      <th>2</th>\n",
       "      <td>W2954584004</td>\n",
       "      <td>A105266732</td>\n",
       "    </tr>\n",
       "    <tr>\n",
       "      <th>3</th>\n",
       "      <td>W2588602655</td>\n",
       "      <td>A105266732</td>\n",
       "    </tr>\n",
       "    <tr>\n",
       "      <th>4</th>\n",
       "      <td>W2587357650</td>\n",
       "      <td>A105266732</td>\n",
       "    </tr>\n",
       "  </tbody>\n",
       "</table>\n",
       "</div>"
      ],
      "text/plain": [
       "       work_id   author_id\n",
       "0  W1998731205  A105266732\n",
       "1  W2905418025  A105266732\n",
       "2  W2954584004  A105266732\n",
       "3  W2588602655  A105266732\n",
       "4  W2587357650  A105266732"
      ]
     },
     "execution_count": 14,
     "metadata": {},
     "output_type": "execute_result"
    }
   ],
   "source": [
    "Data.head(5)"
   ]
  },
  {
   "cell_type": "code",
   "execution_count": 15,
   "id": "c70eb8a3-80cd-4022-b760-48a22db94902",
   "metadata": {
    "tags": []
   },
   "outputs": [],
   "source": [
    "Data.to_csv('alex_mentee_work.csv',index=0)"
   ]
  },
  {
   "cell_type": "markdown",
   "id": "25dff8ea-2cc5-44af-9d09-b1d3532f251a",
   "metadata": {},
   "source": [
    "##### Done"
   ]
  },
  {
   "cell_type": "markdown",
   "id": "7df9b31f-5fa2-4e5d-99b3-a27481195f80",
   "metadata": {},
   "source": [
    "##### find work's performance"
   ]
  },
  {
   "cell_type": "code",
   "execution_count": 16,
   "id": "e4b2ae8c-005b-45f2-bd84-0dcbc6477308",
   "metadata": {
    "tags": []
   },
   "outputs": [],
   "source": [
    "alex_mentee_work = Data"
   ]
  },
  {
   "cell_type": "code",
   "execution_count": 17,
   "id": "039a93ed-0f78-437d-9e4e-d3ab6defb58c",
   "metadata": {
    "tags": []
   },
   "outputs": [
    {
     "data": {
      "text/html": [
       "<div>\n",
       "<style scoped>\n",
       "    .dataframe tbody tr th:only-of-type {\n",
       "        vertical-align: middle;\n",
       "    }\n",
       "\n",
       "    .dataframe tbody tr th {\n",
       "        vertical-align: top;\n",
       "    }\n",
       "\n",
       "    .dataframe thead th {\n",
       "        text-align: right;\n",
       "    }\n",
       "</style>\n",
       "<table border=\"1\" class=\"dataframe\">\n",
       "  <thead>\n",
       "    <tr style=\"text-align: right;\">\n",
       "      <th></th>\n",
       "      <th>work_id</th>\n",
       "      <th>author_id</th>\n",
       "    </tr>\n",
       "  </thead>\n",
       "  <tbody>\n",
       "    <tr>\n",
       "      <th>0</th>\n",
       "      <td>W1998731205</td>\n",
       "      <td>A105266732</td>\n",
       "    </tr>\n",
       "    <tr>\n",
       "      <th>1</th>\n",
       "      <td>W2905418025</td>\n",
       "      <td>A105266732</td>\n",
       "    </tr>\n",
       "    <tr>\n",
       "      <th>2</th>\n",
       "      <td>W2954584004</td>\n",
       "      <td>A105266732</td>\n",
       "    </tr>\n",
       "    <tr>\n",
       "      <th>3</th>\n",
       "      <td>W2588602655</td>\n",
       "      <td>A105266732</td>\n",
       "    </tr>\n",
       "    <tr>\n",
       "      <th>4</th>\n",
       "      <td>W2587357650</td>\n",
       "      <td>A105266732</td>\n",
       "    </tr>\n",
       "  </tbody>\n",
       "</table>\n",
       "</div>"
      ],
      "text/plain": [
       "       work_id   author_id\n",
       "0  W1998731205  A105266732\n",
       "1  W2905418025  A105266732\n",
       "2  W2954584004  A105266732\n",
       "3  W2588602655  A105266732\n",
       "4  W2587357650  A105266732"
      ]
     },
     "execution_count": 17,
     "metadata": {},
     "output_type": "execute_result"
    }
   ],
   "source": [
    "alex_mentee_work.head(5)"
   ]
  },
  {
   "cell_type": "code",
   "execution_count": 18,
   "id": "02e44543-d62b-4519-a5ed-1603f60f62bb",
   "metadata": {
    "tags": []
   },
   "outputs": [],
   "source": [
    "works = alex_mentee_work.work_id.drop_duplicates().tolist()"
   ]
  },
  {
   "cell_type": "code",
   "execution_count": 19,
   "id": "af450234-053f-4e20-b127-8125f2828029",
   "metadata": {
    "tags": []
   },
   "outputs": [
    {
     "name": "stdout",
     "output_type": "stream",
     "text": [
      "7108094\n"
     ]
    }
   ],
   "source": [
    "print(len(works))"
   ]
  },
  {
   "cell_type": "code",
   "execution_count": 20,
   "id": "72384592-1e7c-46b7-9cd8-d8879b4ec450",
   "metadata": {
    "tags": []
   },
   "outputs": [],
   "source": [
    "works_groups = []\n",
    "interval = 5000\n",
    "start_point = 0\n",
    "while True:\n",
    "    end_point = start_point + interval\n",
    "    try:\n",
    "        temp = works[start_point:end_point]\n",
    "        works_groups.append(temp)\n",
    "    except:\n",
    "        temp = works[start_point:]\n",
    "        works_groups.append(temp)\n",
    "        \n",
    "    start_point = end_point\n",
    "    if end_point>len(works):\n",
    "        break"
   ]
  },
  {
   "cell_type": "code",
   "execution_count": 21,
   "id": "6b5365b4-3a32-41d2-87c3-3292afaefc2a",
   "metadata": {
    "scrolled": true,
    "tags": []
   },
   "outputs": [
    {
     "name": "stdout",
     "output_type": "stream",
     "text": [
      "1422\n",
      "0\n",
      "10\n",
      "20\n",
      "30\n",
      "40\n",
      "50\n",
      "60\n",
      "70\n",
      "80\n",
      "90\n",
      "100\n",
      "110\n",
      "120\n",
      "130\n",
      "140\n",
      "150\n",
      "160\n",
      "170\n",
      "180\n",
      "190\n",
      "200\n",
      "210\n",
      "220\n",
      "230\n",
      "240\n",
      "250\n",
      "260\n",
      "270\n",
      "280\n",
      "290\n",
      "300\n",
      "310\n",
      "320\n",
      "330\n",
      "340\n",
      "350\n",
      "360\n",
      "370\n",
      "380\n",
      "390\n",
      "400\n",
      "410\n",
      "420\n",
      "430\n",
      "440\n",
      "450\n",
      "460\n",
      "470\n",
      "480\n",
      "490\n",
      "500\n",
      "510\n",
      "520\n",
      "530\n",
      "540\n",
      "550\n",
      "560\n",
      "570\n",
      "580\n",
      "590\n",
      "600\n",
      "610\n",
      "620\n",
      "630\n",
      "640\n",
      "650\n",
      "660\n",
      "670\n",
      "680\n",
      "690\n",
      "700\n",
      "710\n",
      "720\n",
      "730\n",
      "740\n",
      "750\n",
      "760\n",
      "770\n",
      "780\n",
      "790\n",
      "800\n",
      "810\n",
      "820\n",
      "830\n",
      "840\n",
      "850\n",
      "860\n",
      "870\n",
      "880\n",
      "890\n",
      "900\n",
      "910\n",
      "920\n",
      "930\n",
      "940\n",
      "950\n",
      "960\n",
      "970\n",
      "980\n",
      "990\n",
      "1000\n",
      "1010\n",
      "1020\n",
      "1030\n",
      "1040\n",
      "1050\n",
      "1060\n",
      "1070\n",
      "1080\n",
      "1090\n",
      "1100\n",
      "1110\n",
      "1120\n",
      "1130\n",
      "1140\n",
      "1150\n",
      "1160\n",
      "1170\n",
      "1180\n",
      "1190\n",
      "1200\n",
      "1210\n",
      "1220\n",
      "1230\n",
      "1240\n",
      "1250\n",
      "1260\n",
      "1270\n",
      "1280\n",
      "1290\n",
      "1300\n",
      "1310\n",
      "1320\n",
      "1330\n",
      "1340\n",
      "1350\n",
      "1360\n",
      "1370\n",
      "1380\n",
      "1390\n",
      "1400\n",
      "1410\n",
      "1420\n"
     ]
    }
   ],
   "source": [
    "l = len(works_groups)\n",
    "print(l)\n",
    "for i in range(l):\n",
    "    temp =  works_groups[i]\n",
    "    sql_query = \"\"\"select works_puby_cits_team_concepts_innovation.id, works_puby_cits_team_concepts_innovation.cits,works_puby_cits_team_concepts_innovation.cits5\n",
    "\n",
    "                    from works_puby_cits_team_concepts_innovation \n",
    "\n",
    "                    where works_puby_cits_team_concepts_innovation.id in {}\n",
    "                    \"\"\".format(tuple(temp))\n",
    "\n",
    "\n",
    "    data = pd.read_sql(sql_query, con=engine)\n",
    "    # merge data\n",
    "    if i==0:\n",
    "        tp = data\n",
    "    else:\n",
    "        tp = pd.concat((tp,data))\n",
    "    if i%10==0:\n",
    "        print(i)\n",
    "\n",
    "Data = tp"
   ]
  },
  {
   "cell_type": "code",
   "execution_count": 22,
   "id": "1a32414f-9a7d-421c-91c0-236c1f18912a",
   "metadata": {
    "tags": []
   },
   "outputs": [
    {
     "data": {
      "text/html": [
       "<div>\n",
       "<style scoped>\n",
       "    .dataframe tbody tr th:only-of-type {\n",
       "        vertical-align: middle;\n",
       "    }\n",
       "\n",
       "    .dataframe tbody tr th {\n",
       "        vertical-align: top;\n",
       "    }\n",
       "\n",
       "    .dataframe thead th {\n",
       "        text-align: right;\n",
       "    }\n",
       "</style>\n",
       "<table border=\"1\" class=\"dataframe\">\n",
       "  <thead>\n",
       "    <tr style=\"text-align: right;\">\n",
       "      <th></th>\n",
       "      <th>id</th>\n",
       "      <th>cits</th>\n",
       "      <th>cits5</th>\n",
       "    </tr>\n",
       "  </thead>\n",
       "  <tbody>\n",
       "    <tr>\n",
       "      <th>0</th>\n",
       "      <td>W1003929037</td>\n",
       "      <td>58.0</td>\n",
       "      <td>12.0</td>\n",
       "    </tr>\n",
       "    <tr>\n",
       "      <th>1</th>\n",
       "      <td>W1006958873</td>\n",
       "      <td>41.0</td>\n",
       "      <td>10.0</td>\n",
       "    </tr>\n",
       "    <tr>\n",
       "      <th>2</th>\n",
       "      <td>W1009664936</td>\n",
       "      <td>2.0</td>\n",
       "      <td>1.0</td>\n",
       "    </tr>\n",
       "    <tr>\n",
       "      <th>3</th>\n",
       "      <td>W1011889563</td>\n",
       "      <td>3.0</td>\n",
       "      <td>1.0</td>\n",
       "    </tr>\n",
       "    <tr>\n",
       "      <th>4</th>\n",
       "      <td>W102281971</td>\n",
       "      <td>106.0</td>\n",
       "      <td>27.0</td>\n",
       "    </tr>\n",
       "  </tbody>\n",
       "</table>\n",
       "</div>"
      ],
      "text/plain": [
       "            id   cits  cits5\n",
       "0  W1003929037   58.0   12.0\n",
       "1  W1006958873   41.0   10.0\n",
       "2  W1009664936    2.0    1.0\n",
       "3  W1011889563    3.0    1.0\n",
       "4   W102281971  106.0   27.0"
      ]
     },
     "execution_count": 22,
     "metadata": {},
     "output_type": "execute_result"
    }
   ],
   "source": [
    "Data.head(5)"
   ]
  },
  {
   "cell_type": "code",
   "execution_count": 23,
   "id": "6d3a3fcd-e9ad-4e45-9427-1e04a2c3ea76",
   "metadata": {
    "tags": []
   },
   "outputs": [],
   "source": [
    "work_cits = Data"
   ]
  },
  {
   "cell_type": "code",
   "execution_count": 24,
   "id": "a0224dc0-940e-4070-ad88-231cb7c4ca79",
   "metadata": {
    "tags": []
   },
   "outputs": [],
   "source": [
    "work_cits = work_cits.rename(columns={'id':'work_id'})"
   ]
  },
  {
   "cell_type": "code",
   "execution_count": 25,
   "id": "cfcac14f-1222-4183-96c2-c57f3d2108fe",
   "metadata": {
    "tags": []
   },
   "outputs": [
    {
     "data": {
      "text/html": [
       "<div>\n",
       "<style scoped>\n",
       "    .dataframe tbody tr th:only-of-type {\n",
       "        vertical-align: middle;\n",
       "    }\n",
       "\n",
       "    .dataframe tbody tr th {\n",
       "        vertical-align: top;\n",
       "    }\n",
       "\n",
       "    .dataframe thead th {\n",
       "        text-align: right;\n",
       "    }\n",
       "</style>\n",
       "<table border=\"1\" class=\"dataframe\">\n",
       "  <thead>\n",
       "    <tr style=\"text-align: right;\">\n",
       "      <th></th>\n",
       "      <th>work_id</th>\n",
       "      <th>cits</th>\n",
       "      <th>cits5</th>\n",
       "    </tr>\n",
       "  </thead>\n",
       "  <tbody>\n",
       "    <tr>\n",
       "      <th>0</th>\n",
       "      <td>W1003929037</td>\n",
       "      <td>58.0</td>\n",
       "      <td>12.0</td>\n",
       "    </tr>\n",
       "    <tr>\n",
       "      <th>1</th>\n",
       "      <td>W1006958873</td>\n",
       "      <td>41.0</td>\n",
       "      <td>10.0</td>\n",
       "    </tr>\n",
       "    <tr>\n",
       "      <th>2</th>\n",
       "      <td>W1009664936</td>\n",
       "      <td>2.0</td>\n",
       "      <td>1.0</td>\n",
       "    </tr>\n",
       "    <tr>\n",
       "      <th>3</th>\n",
       "      <td>W1011889563</td>\n",
       "      <td>3.0</td>\n",
       "      <td>1.0</td>\n",
       "    </tr>\n",
       "    <tr>\n",
       "      <th>4</th>\n",
       "      <td>W102281971</td>\n",
       "      <td>106.0</td>\n",
       "      <td>27.0</td>\n",
       "    </tr>\n",
       "  </tbody>\n",
       "</table>\n",
       "</div>"
      ],
      "text/plain": [
       "       work_id   cits  cits5\n",
       "0  W1003929037   58.0   12.0\n",
       "1  W1006958873   41.0   10.0\n",
       "2  W1009664936    2.0    1.0\n",
       "3  W1011889563    3.0    1.0\n",
       "4   W102281971  106.0   27.0"
      ]
     },
     "execution_count": 25,
     "metadata": {},
     "output_type": "execute_result"
    }
   ],
   "source": [
    "work_cits.head(5)"
   ]
  },
  {
   "cell_type": "code",
   "execution_count": 26,
   "id": "42e1ef6f-30b0-4a35-ba63-69f266421ee1",
   "metadata": {
    "tags": []
   },
   "outputs": [
    {
     "data": {
      "text/html": [
       "<div>\n",
       "<style scoped>\n",
       "    .dataframe tbody tr th:only-of-type {\n",
       "        vertical-align: middle;\n",
       "    }\n",
       "\n",
       "    .dataframe tbody tr th {\n",
       "        vertical-align: top;\n",
       "    }\n",
       "\n",
       "    .dataframe thead th {\n",
       "        text-align: right;\n",
       "    }\n",
       "</style>\n",
       "<table border=\"1\" class=\"dataframe\">\n",
       "  <thead>\n",
       "    <tr style=\"text-align: right;\">\n",
       "      <th></th>\n",
       "      <th>work_id</th>\n",
       "      <th>author_id</th>\n",
       "    </tr>\n",
       "  </thead>\n",
       "  <tbody>\n",
       "    <tr>\n",
       "      <th>0</th>\n",
       "      <td>W1998731205</td>\n",
       "      <td>A105266732</td>\n",
       "    </tr>\n",
       "    <tr>\n",
       "      <th>1</th>\n",
       "      <td>W2905418025</td>\n",
       "      <td>A105266732</td>\n",
       "    </tr>\n",
       "    <tr>\n",
       "      <th>2</th>\n",
       "      <td>W2954584004</td>\n",
       "      <td>A105266732</td>\n",
       "    </tr>\n",
       "    <tr>\n",
       "      <th>3</th>\n",
       "      <td>W2588602655</td>\n",
       "      <td>A105266732</td>\n",
       "    </tr>\n",
       "    <tr>\n",
       "      <th>4</th>\n",
       "      <td>W2587357650</td>\n",
       "      <td>A105266732</td>\n",
       "    </tr>\n",
       "  </tbody>\n",
       "</table>\n",
       "</div>"
      ],
      "text/plain": [
       "       work_id   author_id\n",
       "0  W1998731205  A105266732\n",
       "1  W2905418025  A105266732\n",
       "2  W2954584004  A105266732\n",
       "3  W2588602655  A105266732\n",
       "4  W2587357650  A105266732"
      ]
     },
     "execution_count": 26,
     "metadata": {},
     "output_type": "execute_result"
    }
   ],
   "source": [
    "alex_mentee_work.head(5)"
   ]
  },
  {
   "cell_type": "code",
   "execution_count": 27,
   "id": "ddde0dcc-4ddf-4a8c-b869-975fec758954",
   "metadata": {
    "tags": []
   },
   "outputs": [],
   "source": [
    "alex_mentee_work_cits = alex_mentee_work.merge(work_cits,on='work_id',how='left')"
   ]
  },
  {
   "cell_type": "code",
   "execution_count": 28,
   "id": "50c50356-fdd5-4041-a88f-8c2c9a0cd508",
   "metadata": {
    "tags": []
   },
   "outputs": [
    {
     "data": {
      "text/html": [
       "<div>\n",
       "<style scoped>\n",
       "    .dataframe tbody tr th:only-of-type {\n",
       "        vertical-align: middle;\n",
       "    }\n",
       "\n",
       "    .dataframe tbody tr th {\n",
       "        vertical-align: top;\n",
       "    }\n",
       "\n",
       "    .dataframe thead th {\n",
       "        text-align: right;\n",
       "    }\n",
       "</style>\n",
       "<table border=\"1\" class=\"dataframe\">\n",
       "  <thead>\n",
       "    <tr style=\"text-align: right;\">\n",
       "      <th></th>\n",
       "      <th>work_id</th>\n",
       "      <th>author_id</th>\n",
       "      <th>cits</th>\n",
       "      <th>cits5</th>\n",
       "    </tr>\n",
       "  </thead>\n",
       "  <tbody>\n",
       "    <tr>\n",
       "      <th>0</th>\n",
       "      <td>W1998731205</td>\n",
       "      <td>A105266732</td>\n",
       "      <td>0.0</td>\n",
       "      <td>0.0</td>\n",
       "    </tr>\n",
       "    <tr>\n",
       "      <th>1</th>\n",
       "      <td>W1998731205</td>\n",
       "      <td>A105266732</td>\n",
       "      <td>0.0</td>\n",
       "      <td>0.0</td>\n",
       "    </tr>\n",
       "    <tr>\n",
       "      <th>2</th>\n",
       "      <td>W2905418025</td>\n",
       "      <td>A105266732</td>\n",
       "      <td>8.0</td>\n",
       "      <td>5.0</td>\n",
       "    </tr>\n",
       "    <tr>\n",
       "      <th>3</th>\n",
       "      <td>W2954584004</td>\n",
       "      <td>A105266732</td>\n",
       "      <td>5.0</td>\n",
       "      <td>5.0</td>\n",
       "    </tr>\n",
       "    <tr>\n",
       "      <th>4</th>\n",
       "      <td>W2588602655</td>\n",
       "      <td>A105266732</td>\n",
       "      <td>0.0</td>\n",
       "      <td>0.0</td>\n",
       "    </tr>\n",
       "  </tbody>\n",
       "</table>\n",
       "</div>"
      ],
      "text/plain": [
       "       work_id   author_id  cits  cits5\n",
       "0  W1998731205  A105266732   0.0    0.0\n",
       "1  W1998731205  A105266732   0.0    0.0\n",
       "2  W2905418025  A105266732   8.0    5.0\n",
       "3  W2954584004  A105266732   5.0    5.0\n",
       "4  W2588602655  A105266732   0.0    0.0"
      ]
     },
     "execution_count": 28,
     "metadata": {},
     "output_type": "execute_result"
    }
   ],
   "source": [
    "alex_mentee_work_cits.head(5)"
   ]
  },
  {
   "cell_type": "code",
   "execution_count": 29,
   "id": "7254009a-0cef-4a8d-8751-ced1990b5b6d",
   "metadata": {
    "tags": []
   },
   "outputs": [],
   "source": [
    "total_cits = alex_mentee_work_cits.groupby('author_id')['cits'].agg('sum').reset_index(name='total_cits')"
   ]
  },
  {
   "cell_type": "code",
   "execution_count": 30,
   "id": "d1da4111-ede2-42c6-9eb4-ae986d44c7db",
   "metadata": {
    "tags": []
   },
   "outputs": [
    {
     "data": {
      "text/html": [
       "<div>\n",
       "<style scoped>\n",
       "    .dataframe tbody tr th:only-of-type {\n",
       "        vertical-align: middle;\n",
       "    }\n",
       "\n",
       "    .dataframe tbody tr th {\n",
       "        vertical-align: top;\n",
       "    }\n",
       "\n",
       "    .dataframe thead th {\n",
       "        text-align: right;\n",
       "    }\n",
       "</style>\n",
       "<table border=\"1\" class=\"dataframe\">\n",
       "  <thead>\n",
       "    <tr style=\"text-align: right;\">\n",
       "      <th></th>\n",
       "      <th>author_id</th>\n",
       "      <th>total_cits</th>\n",
       "    </tr>\n",
       "  </thead>\n",
       "  <tbody>\n",
       "    <tr>\n",
       "      <th>0</th>\n",
       "      <td>4224342845</td>\n",
       "      <td>0.0</td>\n",
       "    </tr>\n",
       "    <tr>\n",
       "      <th>1</th>\n",
       "      <td>4224342846</td>\n",
       "      <td>0.0</td>\n",
       "    </tr>\n",
       "    <tr>\n",
       "      <th>2</th>\n",
       "      <td>A1000090264</td>\n",
       "      <td>268.0</td>\n",
       "    </tr>\n",
       "    <tr>\n",
       "      <th>3</th>\n",
       "      <td>A100017777</td>\n",
       "      <td>25.0</td>\n",
       "    </tr>\n",
       "    <tr>\n",
       "      <th>4</th>\n",
       "      <td>A1000197587</td>\n",
       "      <td>712.0</td>\n",
       "    </tr>\n",
       "  </tbody>\n",
       "</table>\n",
       "</div>"
      ],
      "text/plain": [
       "     author_id  total_cits\n",
       "0   4224342845         0.0\n",
       "1   4224342846         0.0\n",
       "2  A1000090264       268.0\n",
       "3   A100017777        25.0\n",
       "4  A1000197587       712.0"
      ]
     },
     "execution_count": 30,
     "metadata": {},
     "output_type": "execute_result"
    }
   ],
   "source": [
    "total_cits.head(5)"
   ]
  },
  {
   "cell_type": "code",
   "execution_count": 31,
   "id": "2d11e0ce-83b0-4d24-aa67-4355338750b1",
   "metadata": {
    "tags": []
   },
   "outputs": [],
   "source": [
    "total_cits5 = alex_mentee_work_cits.groupby('author_id')['cits5'].agg('sum').reset_index(name='total_cits5')"
   ]
  },
  {
   "cell_type": "code",
   "execution_count": 32,
   "id": "2455d717-2203-49e6-b46b-df8974c076c7",
   "metadata": {
    "tags": []
   },
   "outputs": [
    {
     "data": {
      "text/html": [
       "<div>\n",
       "<style scoped>\n",
       "    .dataframe tbody tr th:only-of-type {\n",
       "        vertical-align: middle;\n",
       "    }\n",
       "\n",
       "    .dataframe tbody tr th {\n",
       "        vertical-align: top;\n",
       "    }\n",
       "\n",
       "    .dataframe thead th {\n",
       "        text-align: right;\n",
       "    }\n",
       "</style>\n",
       "<table border=\"1\" class=\"dataframe\">\n",
       "  <thead>\n",
       "    <tr style=\"text-align: right;\">\n",
       "      <th></th>\n",
       "      <th>author_id</th>\n",
       "      <th>total_cits5</th>\n",
       "    </tr>\n",
       "  </thead>\n",
       "  <tbody>\n",
       "    <tr>\n",
       "      <th>0</th>\n",
       "      <td>4224342845</td>\n",
       "      <td>0.0</td>\n",
       "    </tr>\n",
       "    <tr>\n",
       "      <th>1</th>\n",
       "      <td>4224342846</td>\n",
       "      <td>0.0</td>\n",
       "    </tr>\n",
       "    <tr>\n",
       "      <th>2</th>\n",
       "      <td>A1000090264</td>\n",
       "      <td>189.0</td>\n",
       "    </tr>\n",
       "    <tr>\n",
       "      <th>3</th>\n",
       "      <td>A100017777</td>\n",
       "      <td>14.0</td>\n",
       "    </tr>\n",
       "    <tr>\n",
       "      <th>4</th>\n",
       "      <td>A1000197587</td>\n",
       "      <td>592.0</td>\n",
       "    </tr>\n",
       "  </tbody>\n",
       "</table>\n",
       "</div>"
      ],
      "text/plain": [
       "     author_id  total_cits5\n",
       "0   4224342845          0.0\n",
       "1   4224342846          0.0\n",
       "2  A1000090264        189.0\n",
       "3   A100017777         14.0\n",
       "4  A1000197587        592.0"
      ]
     },
     "execution_count": 32,
     "metadata": {},
     "output_type": "execute_result"
    }
   ],
   "source": [
    "total_cits5.head(5)"
   ]
  },
  {
   "cell_type": "code",
   "execution_count": 33,
   "id": "8f04c6b3-bd68-4044-8906-714d83692361",
   "metadata": {
    "tags": []
   },
   "outputs": [],
   "source": [
    "cits = total_cits.merge(total_cits5,on='author_id',how='left')"
   ]
  },
  {
   "cell_type": "code",
   "execution_count": 34,
   "id": "a3dfcb2b-c79d-45b7-bc6f-820d1ac7d8c3",
   "metadata": {
    "tags": []
   },
   "outputs": [
    {
     "data": {
      "text/html": [
       "<div>\n",
       "<style scoped>\n",
       "    .dataframe tbody tr th:only-of-type {\n",
       "        vertical-align: middle;\n",
       "    }\n",
       "\n",
       "    .dataframe tbody tr th {\n",
       "        vertical-align: top;\n",
       "    }\n",
       "\n",
       "    .dataframe thead th {\n",
       "        text-align: right;\n",
       "    }\n",
       "</style>\n",
       "<table border=\"1\" class=\"dataframe\">\n",
       "  <thead>\n",
       "    <tr style=\"text-align: right;\">\n",
       "      <th></th>\n",
       "      <th>author_id</th>\n",
       "      <th>total_cits</th>\n",
       "      <th>total_cits5</th>\n",
       "    </tr>\n",
       "  </thead>\n",
       "  <tbody>\n",
       "    <tr>\n",
       "      <th>0</th>\n",
       "      <td>4224342845</td>\n",
       "      <td>0.0</td>\n",
       "      <td>0.0</td>\n",
       "    </tr>\n",
       "    <tr>\n",
       "      <th>1</th>\n",
       "      <td>4224342846</td>\n",
       "      <td>0.0</td>\n",
       "      <td>0.0</td>\n",
       "    </tr>\n",
       "    <tr>\n",
       "      <th>2</th>\n",
       "      <td>A1000090264</td>\n",
       "      <td>268.0</td>\n",
       "      <td>189.0</td>\n",
       "    </tr>\n",
       "    <tr>\n",
       "      <th>3</th>\n",
       "      <td>A100017777</td>\n",
       "      <td>25.0</td>\n",
       "      <td>14.0</td>\n",
       "    </tr>\n",
       "    <tr>\n",
       "      <th>4</th>\n",
       "      <td>A1000197587</td>\n",
       "      <td>712.0</td>\n",
       "      <td>592.0</td>\n",
       "    </tr>\n",
       "  </tbody>\n",
       "</table>\n",
       "</div>"
      ],
      "text/plain": [
       "     author_id  total_cits  total_cits5\n",
       "0   4224342845         0.0          0.0\n",
       "1   4224342846         0.0          0.0\n",
       "2  A1000090264       268.0        189.0\n",
       "3   A100017777        25.0         14.0\n",
       "4  A1000197587       712.0        592.0"
      ]
     },
     "execution_count": 34,
     "metadata": {},
     "output_type": "execute_result"
    }
   ],
   "source": [
    "cits.head(5)"
   ]
  },
  {
   "cell_type": "code",
   "execution_count": 35,
   "id": "b1d40689-85ca-4040-a760-076eee347110",
   "metadata": {
    "tags": []
   },
   "outputs": [],
   "source": [
    "paper_num = alex_mentee_work.groupby('author_id')['work_id'].agg('count').reset_index(name='paper_num')"
   ]
  },
  {
   "cell_type": "code",
   "execution_count": 36,
   "id": "526dcf9f-e5ef-48c8-bc56-4d0d26642ef8",
   "metadata": {
    "tags": []
   },
   "outputs": [
    {
     "data": {
      "text/html": [
       "<div>\n",
       "<style scoped>\n",
       "    .dataframe tbody tr th:only-of-type {\n",
       "        vertical-align: middle;\n",
       "    }\n",
       "\n",
       "    .dataframe tbody tr th {\n",
       "        vertical-align: top;\n",
       "    }\n",
       "\n",
       "    .dataframe thead th {\n",
       "        text-align: right;\n",
       "    }\n",
       "</style>\n",
       "<table border=\"1\" class=\"dataframe\">\n",
       "  <thead>\n",
       "    <tr style=\"text-align: right;\">\n",
       "      <th></th>\n",
       "      <th>author_id</th>\n",
       "      <th>paper_num</th>\n",
       "    </tr>\n",
       "  </thead>\n",
       "  <tbody>\n",
       "    <tr>\n",
       "      <th>0</th>\n",
       "      <td>4224342845</td>\n",
       "      <td>1</td>\n",
       "    </tr>\n",
       "    <tr>\n",
       "      <th>1</th>\n",
       "      <td>4224342846</td>\n",
       "      <td>1</td>\n",
       "    </tr>\n",
       "    <tr>\n",
       "      <th>2</th>\n",
       "      <td>A1000090264</td>\n",
       "      <td>10</td>\n",
       "    </tr>\n",
       "    <tr>\n",
       "      <th>3</th>\n",
       "      <td>A100017777</td>\n",
       "      <td>2</td>\n",
       "    </tr>\n",
       "    <tr>\n",
       "      <th>4</th>\n",
       "      <td>A1000197587</td>\n",
       "      <td>20</td>\n",
       "    </tr>\n",
       "  </tbody>\n",
       "</table>\n",
       "</div>"
      ],
      "text/plain": [
       "     author_id  paper_num\n",
       "0   4224342845          1\n",
       "1   4224342846          1\n",
       "2  A1000090264         10\n",
       "3   A100017777          2\n",
       "4  A1000197587         20"
      ]
     },
     "execution_count": 36,
     "metadata": {},
     "output_type": "execute_result"
    }
   ],
   "source": [
    "paper_num.head(5)"
   ]
  },
  {
   "cell_type": "code",
   "execution_count": 37,
   "id": "96ebd2fa-24f1-427a-9f9d-689618433bd4",
   "metadata": {
    "tags": []
   },
   "outputs": [],
   "source": [
    "cits = cits.merge(paper_num,how='left',on='author_id')"
   ]
  },
  {
   "cell_type": "code",
   "execution_count": 38,
   "id": "cc462a38-456a-4d4f-a29a-697eef6d0f61",
   "metadata": {
    "tags": []
   },
   "outputs": [
    {
     "data": {
      "text/html": [
       "<div>\n",
       "<style scoped>\n",
       "    .dataframe tbody tr th:only-of-type {\n",
       "        vertical-align: middle;\n",
       "    }\n",
       "\n",
       "    .dataframe tbody tr th {\n",
       "        vertical-align: top;\n",
       "    }\n",
       "\n",
       "    .dataframe thead th {\n",
       "        text-align: right;\n",
       "    }\n",
       "</style>\n",
       "<table border=\"1\" class=\"dataframe\">\n",
       "  <thead>\n",
       "    <tr style=\"text-align: right;\">\n",
       "      <th></th>\n",
       "      <th>author_id</th>\n",
       "      <th>total_cits</th>\n",
       "      <th>total_cits5</th>\n",
       "      <th>paper_num</th>\n",
       "    </tr>\n",
       "  </thead>\n",
       "  <tbody>\n",
       "    <tr>\n",
       "      <th>0</th>\n",
       "      <td>4224342845</td>\n",
       "      <td>0.0</td>\n",
       "      <td>0.0</td>\n",
       "      <td>1</td>\n",
       "    </tr>\n",
       "    <tr>\n",
       "      <th>1</th>\n",
       "      <td>4224342846</td>\n",
       "      <td>0.0</td>\n",
       "      <td>0.0</td>\n",
       "      <td>1</td>\n",
       "    </tr>\n",
       "    <tr>\n",
       "      <th>2</th>\n",
       "      <td>A1000090264</td>\n",
       "      <td>268.0</td>\n",
       "      <td>189.0</td>\n",
       "      <td>10</td>\n",
       "    </tr>\n",
       "    <tr>\n",
       "      <th>3</th>\n",
       "      <td>A100017777</td>\n",
       "      <td>25.0</td>\n",
       "      <td>14.0</td>\n",
       "      <td>2</td>\n",
       "    </tr>\n",
       "    <tr>\n",
       "      <th>4</th>\n",
       "      <td>A1000197587</td>\n",
       "      <td>712.0</td>\n",
       "      <td>592.0</td>\n",
       "      <td>20</td>\n",
       "    </tr>\n",
       "  </tbody>\n",
       "</table>\n",
       "</div>"
      ],
      "text/plain": [
       "     author_id  total_cits  total_cits5  paper_num\n",
       "0   4224342845         0.0          0.0          1\n",
       "1   4224342846         0.0          0.0          1\n",
       "2  A1000090264       268.0        189.0         10\n",
       "3   A100017777        25.0         14.0          2\n",
       "4  A1000197587       712.0        592.0         20"
      ]
     },
     "execution_count": 38,
     "metadata": {},
     "output_type": "execute_result"
    }
   ],
   "source": [
    "cits.head(5)"
   ]
  },
  {
   "cell_type": "code",
   "execution_count": 39,
   "id": "b8dc2979-6be8-430a-81f9-99c2cdfee2c9",
   "metadata": {
    "tags": []
   },
   "outputs": [
    {
     "data": {
      "text/plain": [
       "(670770, 4)"
      ]
     },
     "execution_count": 39,
     "metadata": {},
     "output_type": "execute_result"
    }
   ],
   "source": [
    "cits.shape"
   ]
  },
  {
   "cell_type": "code",
   "execution_count": 40,
   "id": "7239ce19-1442-473f-a776-111c098f36a0",
   "metadata": {
    "tags": []
   },
   "outputs": [],
   "source": [
    "cits.to_csv('author_performance.csv',index=0)"
   ]
  },
  {
   "cell_type": "code",
   "execution_count": null,
   "id": "7dfad4a7-86c5-4ac6-b96c-abeff6570455",
   "metadata": {},
   "outputs": [],
   "source": []
  }
 ],
 "metadata": {
  "kernelspec": {
   "display_name": "myenv",
   "language": "python",
   "name": "myenv"
  },
  "language_info": {
   "codemirror_mode": {
    "name": "ipython",
    "version": 3
   },
   "file_extension": ".py",
   "mimetype": "text/x-python",
   "name": "python",
   "nbconvert_exporter": "python",
   "pygments_lexer": "ipython3",
   "version": "3.11.4"
  }
 },
 "nbformat": 4,
 "nbformat_minor": 5
}
