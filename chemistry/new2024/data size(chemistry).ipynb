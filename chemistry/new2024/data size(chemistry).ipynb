{
 "cells": [
  {
   "cell_type": "code",
   "execution_count": 2,
   "id": "3d8daf19-a46a-4826-90c8-9a7898c9203e",
   "metadata": {
    "tags": []
   },
   "outputs": [],
   "source": [
    "import pandas as pd"
   ]
  },
  {
   "cell_type": "code",
   "execution_count": 3,
   "id": "80f8bd94-b410-4c8d-99b8-02189258213c",
   "metadata": {
    "tags": []
   },
   "outputs": [],
   "source": [
    "inpath = '/Users/yanmemgxing/Nutstore Files/scientific group/chemistry/'"
   ]
  },
  {
   "cell_type": "code",
   "execution_count": 4,
   "id": "6689fa35-bf7b-4dcb-949f-7cd8298d9f39",
   "metadata": {
    "tags": []
   },
   "outputs": [],
   "source": [
    "group_info = pd.read_csv(f'{inpath}group_info_OnlyLastAuthorPaper(current_scientific_age1213).csv')"
   ]
  },
  {
   "cell_type": "code",
   "execution_count": 5,
   "id": "d1abf543-a9ff-4a81-a039-a00bfead597c",
   "metadata": {
    "tags": []
   },
   "outputs": [
    {
     "data": {
      "text/html": [
       "<div>\n",
       "<style scoped>\n",
       "    .dataframe tbody tr th:only-of-type {\n",
       "        vertical-align: middle;\n",
       "    }\n",
       "\n",
       "    .dataframe tbody tr th {\n",
       "        vertical-align: top;\n",
       "    }\n",
       "\n",
       "    .dataframe thead th {\n",
       "        text-align: right;\n",
       "    }\n",
       "</style>\n",
       "<table border=\"1\" class=\"dataframe\">\n",
       "  <thead>\n",
       "    <tr style=\"text-align: right;\">\n",
       "      <th></th>\n",
       "      <th>work_id</th>\n",
       "      <th>author_position</th>\n",
       "      <th>author_id</th>\n",
       "      <th>institution_id</th>\n",
       "      <th>publication_year</th>\n",
       "      <th>first_pub_year</th>\n",
       "      <th>scientific_age</th>\n",
       "      <th>group_size</th>\n",
       "      <th>mentor_id</th>\n",
       "      <th>current_year</th>\n",
       "      <th>ratio_institution</th>\n",
       "      <th>current_scientific_age</th>\n",
       "      <th>last_pub_year</th>\n",
       "      <th>career_len</th>\n",
       "    </tr>\n",
       "  </thead>\n",
       "  <tbody>\n",
       "    <tr>\n",
       "      <th>0</th>\n",
       "      <td>W2138259155</td>\n",
       "      <td>first</td>\n",
       "      <td>A2223507391</td>\n",
       "      <td>I205783295</td>\n",
       "      <td>2004</td>\n",
       "      <td>2004</td>\n",
       "      <td>0</td>\n",
       "      <td>1</td>\n",
       "      <td>A2671777495</td>\n",
       "      <td>2004</td>\n",
       "      <td>1.0</td>\n",
       "      <td>0</td>\n",
       "      <td>2004.0</td>\n",
       "      <td>0.0</td>\n",
       "    </tr>\n",
       "    <tr>\n",
       "      <th>1</th>\n",
       "      <td>W2138259155</td>\n",
       "      <td>first</td>\n",
       "      <td>A2223507391</td>\n",
       "      <td>I205783295</td>\n",
       "      <td>2004</td>\n",
       "      <td>2004</td>\n",
       "      <td>0</td>\n",
       "      <td>3</td>\n",
       "      <td>A2671777495</td>\n",
       "      <td>2005</td>\n",
       "      <td>1.0</td>\n",
       "      <td>1</td>\n",
       "      <td>2004.0</td>\n",
       "      <td>0.0</td>\n",
       "    </tr>\n",
       "    <tr>\n",
       "      <th>2</th>\n",
       "      <td>W2085228080</td>\n",
       "      <td>first</td>\n",
       "      <td>A2760994840</td>\n",
       "      <td>I205783295</td>\n",
       "      <td>2005</td>\n",
       "      <td>2005</td>\n",
       "      <td>0</td>\n",
       "      <td>3</td>\n",
       "      <td>A2671777495</td>\n",
       "      <td>2005</td>\n",
       "      <td>1.0</td>\n",
       "      <td>0</td>\n",
       "      <td>2005.0</td>\n",
       "      <td>0.0</td>\n",
       "    </tr>\n",
       "    <tr>\n",
       "      <th>3</th>\n",
       "      <td>W2152099342</td>\n",
       "      <td>first</td>\n",
       "      <td>A2760994840</td>\n",
       "      <td>I205783295</td>\n",
       "      <td>2005</td>\n",
       "      <td>2005</td>\n",
       "      <td>0</td>\n",
       "      <td>3</td>\n",
       "      <td>A2671777495</td>\n",
       "      <td>2005</td>\n",
       "      <td>1.0</td>\n",
       "      <td>0</td>\n",
       "      <td>2005.0</td>\n",
       "      <td>0.0</td>\n",
       "    </tr>\n",
       "    <tr>\n",
       "      <th>4</th>\n",
       "      <td>W2152099342</td>\n",
       "      <td>middle</td>\n",
       "      <td>A2588414634</td>\n",
       "      <td>I205783295</td>\n",
       "      <td>2005</td>\n",
       "      <td>2005</td>\n",
       "      <td>0</td>\n",
       "      <td>3</td>\n",
       "      <td>A2671777495</td>\n",
       "      <td>2005</td>\n",
       "      <td>1.0</td>\n",
       "      <td>0</td>\n",
       "      <td>2005.0</td>\n",
       "      <td>0.0</td>\n",
       "    </tr>\n",
       "  </tbody>\n",
       "</table>\n",
       "</div>"
      ],
      "text/plain": [
       "       work_id author_position    author_id institution_id  publication_year  \\\n",
       "0  W2138259155           first  A2223507391     I205783295              2004   \n",
       "1  W2138259155           first  A2223507391     I205783295              2004   \n",
       "2  W2085228080           first  A2760994840     I205783295              2005   \n",
       "3  W2152099342           first  A2760994840     I205783295              2005   \n",
       "4  W2152099342          middle  A2588414634     I205783295              2005   \n",
       "\n",
       "   first_pub_year  scientific_age  group_size    mentor_id  current_year  \\\n",
       "0            2004               0           1  A2671777495          2004   \n",
       "1            2004               0           3  A2671777495          2005   \n",
       "2            2005               0           3  A2671777495          2005   \n",
       "3            2005               0           3  A2671777495          2005   \n",
       "4            2005               0           3  A2671777495          2005   \n",
       "\n",
       "   ratio_institution  current_scientific_age  last_pub_year  career_len  \n",
       "0                1.0                       0         2004.0         0.0  \n",
       "1                1.0                       1         2004.0         0.0  \n",
       "2                1.0                       0         2005.0         0.0  \n",
       "3                1.0                       0         2005.0         0.0  \n",
       "4                1.0                       0         2005.0         0.0  "
      ]
     },
     "execution_count": 5,
     "metadata": {},
     "output_type": "execute_result"
    }
   ],
   "source": [
    "group_info.head(5)"
   ]
  },
  {
   "cell_type": "markdown",
   "id": "d34fefe1-9166-4dc1-95f2-255e3db128e3",
   "metadata": {},
   "source": [
    "##### mentors"
   ]
  },
  {
   "cell_type": "code",
   "execution_count": 6,
   "id": "49bd954b-98a6-4d6b-ba81-797cf2d44d21",
   "metadata": {
    "tags": []
   },
   "outputs": [],
   "source": [
    "mentor = group_info['mentor_id'][group_info.current_year>=1980].drop_duplicates()"
   ]
  },
  {
   "cell_type": "code",
   "execution_count": 7,
   "id": "34e24ba3-87b7-412d-b966-92c51e4aa9c1",
   "metadata": {
    "tags": []
   },
   "outputs": [
    {
     "data": {
      "text/plain": [
       "19137"
      ]
     },
     "execution_count": 7,
     "metadata": {},
     "output_type": "execute_result"
    }
   ],
   "source": [
    "len(mentor)"
   ]
  },
  {
   "cell_type": "markdown",
   "id": "668fe819-633d-4d5d-9a47-2b1531792d5d",
   "metadata": {},
   "source": [
    "##### mentees"
   ]
  },
  {
   "cell_type": "code",
   "execution_count": 8,
   "id": "99fdf715-b1e6-4fed-a75a-872716d2c5f5",
   "metadata": {
    "tags": []
   },
   "outputs": [
    {
     "data": {
      "text/plain": [
       "804171"
      ]
     },
     "execution_count": 8,
     "metadata": {},
     "output_type": "execute_result"
    }
   ],
   "source": [
    "mentee = group_info['author_id'][group_info.current_year>=1980].drop_duplicates()\n",
    "len(mentee)"
   ]
  },
  {
   "cell_type": "markdown",
   "id": "8fc28949-6ea9-4915-b3ab-ab4e22f7c2e9",
   "metadata": {},
   "source": [
    "##### mentorship"
   ]
  },
  {
   "cell_type": "code",
   "execution_count": 9,
   "id": "0f15279b-f1c3-459a-9be4-63e0fbe10141",
   "metadata": {
    "tags": []
   },
   "outputs": [],
   "source": [
    "mentee_mentor = group_info[['author_id','mentor_id']][group_info.current_year>=1980].drop_duplicates()"
   ]
  },
  {
   "cell_type": "code",
   "execution_count": 10,
   "id": "833c7f45-af6a-4303-81c5-2bb05d0af25a",
   "metadata": {
    "tags": []
   },
   "outputs": [
    {
     "data": {
      "text/plain": [
       "(904958, 2)"
      ]
     },
     "execution_count": 10,
     "metadata": {},
     "output_type": "execute_result"
    }
   ],
   "source": [
    "mentee_mentor.shape"
   ]
  },
  {
   "cell_type": "markdown",
   "id": "57d9879d-c592-45f7-9224-102c9809b1e4",
   "metadata": {},
   "source": [
    "##### works"
   ]
  },
  {
   "cell_type": "code",
   "execution_count": 11,
   "id": "dcb8d70a-3b34-4494-b19c-31451eb3b924",
   "metadata": {
    "tags": []
   },
   "outputs": [],
   "source": [
    "G1_allWorks = pd.read_csv(f'{inpath}G1_allWorks_year.csv')"
   ]
  },
  {
   "cell_type": "code",
   "execution_count": 12,
   "id": "c6002b22-a4d5-4f3f-abf2-c4222147fb7e",
   "metadata": {
    "tags": []
   },
   "outputs": [
    {
     "data": {
      "text/html": [
       "<div>\n",
       "<style scoped>\n",
       "    .dataframe tbody tr th:only-of-type {\n",
       "        vertical-align: middle;\n",
       "    }\n",
       "\n",
       "    .dataframe tbody tr th {\n",
       "        vertical-align: top;\n",
       "    }\n",
       "\n",
       "    .dataframe thead th {\n",
       "        text-align: right;\n",
       "    }\n",
       "</style>\n",
       "<table border=\"1\" class=\"dataframe\">\n",
       "  <thead>\n",
       "    <tr style=\"text-align: right;\">\n",
       "      <th></th>\n",
       "      <th>work_id</th>\n",
       "      <th>publication_year</th>\n",
       "    </tr>\n",
       "  </thead>\n",
       "  <tbody>\n",
       "    <tr>\n",
       "      <th>0</th>\n",
       "      <td>W1006909194</td>\n",
       "      <td>2021</td>\n",
       "    </tr>\n",
       "    <tr>\n",
       "      <th>1</th>\n",
       "      <td>W103460356</td>\n",
       "      <td>1984</td>\n",
       "    </tr>\n",
       "    <tr>\n",
       "      <th>2</th>\n",
       "      <td>W1037135555</td>\n",
       "      <td>2012</td>\n",
       "    </tr>\n",
       "    <tr>\n",
       "      <th>3</th>\n",
       "      <td>W103725739</td>\n",
       "      <td>2014</td>\n",
       "    </tr>\n",
       "    <tr>\n",
       "      <th>4</th>\n",
       "      <td>W105395097</td>\n",
       "      <td>2010</td>\n",
       "    </tr>\n",
       "  </tbody>\n",
       "</table>\n",
       "</div>"
      ],
      "text/plain": [
       "       work_id  publication_year\n",
       "0  W1006909194              2021\n",
       "1   W103460356              1984\n",
       "2  W1037135555              2012\n",
       "3   W103725739              2014\n",
       "4   W105395097              2010"
      ]
     },
     "execution_count": 12,
     "metadata": {},
     "output_type": "execute_result"
    }
   ],
   "source": [
    "G1_allWorks.head(5)"
   ]
  },
  {
   "cell_type": "code",
   "execution_count": 13,
   "id": "13edf200-64ec-4eb3-8c6a-9b7888f76f01",
   "metadata": {
    "tags": []
   },
   "outputs": [
    {
     "data": {
      "text/plain": [
       "(7022504, 2)"
      ]
     },
     "execution_count": 13,
     "metadata": {},
     "output_type": "execute_result"
    }
   ],
   "source": [
    "G1_allWorks.shape"
   ]
  },
  {
   "cell_type": "code",
   "execution_count": 14,
   "id": "5639529a-c0d9-484a-ac70-17f2fd6dd0ad",
   "metadata": {},
   "outputs": [
    {
     "name": "stdout",
     "output_type": "stream",
     "text": [
      "mentor mentee mentorship works\n",
      "19137 804171 904958 7022504\n"
     ]
    }
   ],
   "source": [
    "print('mentor','mentee','mentorship','works')\n",
    "print(len(mentor),len(mentee),len(mentee_mentor),len(G1_allWorks))"
   ]
  },
  {
   "cell_type": "code",
   "execution_count": null,
   "id": "800a52a8-5ceb-4826-b965-7627aa8f7052",
   "metadata": {},
   "outputs": [],
   "source": []
  }
 ],
 "metadata": {
  "kernelspec": {
   "display_name": "myenv",
   "language": "python",
   "name": "myenv"
  },
  "language_info": {
   "codemirror_mode": {
    "name": "ipython",
    "version": 3
   },
   "file_extension": ".py",
   "mimetype": "text/x-python",
   "name": "python",
   "nbconvert_exporter": "python",
   "pygments_lexer": "ipython3",
   "version": "3.11.4"
  }
 },
 "nbformat": 4,
 "nbformat_minor": 5
}
