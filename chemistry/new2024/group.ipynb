{
 "cells": [
  {
   "cell_type": "code",
   "execution_count": 1,
   "id": "2bf53cc7-1abc-4ed1-aace-ab159ba18d2b",
   "metadata": {
    "tags": []
   },
   "outputs": [],
   "source": [
    "n0 = 0\n",
    "n1 = n0 + 2000"
   ]
  },
  {
   "cell_type": "code",
   "execution_count": 2,
   "id": "bfc55781-5af2-42ff-a6e0-120ba8283004",
   "metadata": {
    "tags": []
   },
   "outputs": [],
   "source": [
    "import pandas as pd\n",
    "import random\n",
    "import numpy as np"
   ]
  },
  {
   "cell_type": "code",
   "execution_count": 3,
   "id": "14fb9266-eb6b-49e2-a4e6-de361b96a9d9",
   "metadata": {
    "tags": []
   },
   "outputs": [],
   "source": [
    "authorship = pd.read_csv('work_authorship.csv')"
   ]
  },
  {
   "cell_type": "code",
   "execution_count": 4,
   "id": "2613e3d3-bf25-4e67-9827-38e3eff45529",
   "metadata": {
    "tags": []
   },
   "outputs": [
    {
     "data": {
      "text/html": [
       "<div>\n",
       "<style scoped>\n",
       "    .dataframe tbody tr th:only-of-type {\n",
       "        vertical-align: middle;\n",
       "    }\n",
       "\n",
       "    .dataframe tbody tr th {\n",
       "        vertical-align: top;\n",
       "    }\n",
       "\n",
       "    .dataframe thead th {\n",
       "        text-align: right;\n",
       "    }\n",
       "</style>\n",
       "<table border=\"1\" class=\"dataframe\">\n",
       "  <thead>\n",
       "    <tr style=\"text-align: right;\">\n",
       "      <th></th>\n",
       "      <th>work_id</th>\n",
       "      <th>author_position</th>\n",
       "      <th>author_id</th>\n",
       "      <th>institution_id</th>\n",
       "      <th>publication_year</th>\n",
       "      <th>first_pub_year</th>\n",
       "      <th>last_pub_year</th>\n",
       "      <th>career_len</th>\n",
       "      <th>scientific_age</th>\n",
       "    </tr>\n",
       "  </thead>\n",
       "  <tbody>\n",
       "    <tr>\n",
       "      <th>0</th>\n",
       "      <td>W1015054358</td>\n",
       "      <td>first</td>\n",
       "      <td>A271637905</td>\n",
       "      <td>I200719446</td>\n",
       "      <td>2008</td>\n",
       "      <td>1999</td>\n",
       "      <td>2022</td>\n",
       "      <td>23</td>\n",
       "      <td>9</td>\n",
       "    </tr>\n",
       "    <tr>\n",
       "      <th>1</th>\n",
       "      <td>W1015054358</td>\n",
       "      <td>middle</td>\n",
       "      <td>A2099306368</td>\n",
       "      <td>I204308271</td>\n",
       "      <td>2008</td>\n",
       "      <td>2005</td>\n",
       "      <td>2021</td>\n",
       "      <td>16</td>\n",
       "      <td>3</td>\n",
       "    </tr>\n",
       "    <tr>\n",
       "      <th>2</th>\n",
       "      <td>W1015054358</td>\n",
       "      <td>middle</td>\n",
       "      <td>A2116498896</td>\n",
       "      <td>I200719446</td>\n",
       "      <td>2008</td>\n",
       "      <td>2004</td>\n",
       "      <td>2021</td>\n",
       "      <td>17</td>\n",
       "      <td>4</td>\n",
       "    </tr>\n",
       "  </tbody>\n",
       "</table>\n",
       "</div>"
      ],
      "text/plain": [
       "       work_id author_position    author_id institution_id  publication_year  \\\n",
       "0  W1015054358           first   A271637905     I200719446              2008   \n",
       "1  W1015054358          middle  A2099306368     I204308271              2008   \n",
       "2  W1015054358          middle  A2116498896     I200719446              2008   \n",
       "\n",
       "   first_pub_year  last_pub_year  career_len  scientific_age  \n",
       "0            1999           2022          23               9  \n",
       "1            2005           2021          16               3  \n",
       "2            2004           2021          17               4  "
      ]
     },
     "execution_count": 4,
     "metadata": {},
     "output_type": "execute_result"
    }
   ],
   "source": [
    "authorship.head(3)"
   ]
  },
  {
   "cell_type": "code",
   "execution_count": 5,
   "id": "b7617606-7e8a-4d12-b961-f8a34ffb494b",
   "metadata": {
    "tags": []
   },
   "outputs": [
    {
     "data": {
      "text/plain": [
       "17419535"
      ]
     },
     "execution_count": 5,
     "metadata": {},
     "output_type": "execute_result"
    }
   ],
   "source": [
    "len(authorship)"
   ]
  },
  {
   "cell_type": "code",
   "execution_count": 6,
   "id": "655033e6-a21b-4e98-a6eb-269f58413a7a",
   "metadata": {
    "tags": []
   },
   "outputs": [],
   "source": [
    "inst_completeness =  pd.read_csv('inst_completeness.csv')"
   ]
  },
  {
   "cell_type": "code",
   "execution_count": 7,
   "id": "bd204756-9698-4878-a4f4-15756651e69c",
   "metadata": {
    "tags": []
   },
   "outputs": [
    {
     "data": {
      "text/html": [
       "<div>\n",
       "<style scoped>\n",
       "    .dataframe tbody tr th:only-of-type {\n",
       "        vertical-align: middle;\n",
       "    }\n",
       "\n",
       "    .dataframe tbody tr th {\n",
       "        vertical-align: top;\n",
       "    }\n",
       "\n",
       "    .dataframe thead th {\n",
       "        text-align: right;\n",
       "    }\n",
       "</style>\n",
       "<table border=\"1\" class=\"dataframe\">\n",
       "  <thead>\n",
       "    <tr style=\"text-align: right;\">\n",
       "      <th></th>\n",
       "      <th>work_id</th>\n",
       "      <th>ratio_inst.</th>\n",
       "    </tr>\n",
       "  </thead>\n",
       "  <tbody>\n",
       "    <tr>\n",
       "      <th>0</th>\n",
       "      <td>W1000000589</td>\n",
       "      <td>0.0</td>\n",
       "    </tr>\n",
       "    <tr>\n",
       "      <th>1</th>\n",
       "      <td>W1000004903</td>\n",
       "      <td>1.0</td>\n",
       "    </tr>\n",
       "    <tr>\n",
       "      <th>2</th>\n",
       "      <td>W1000011982</td>\n",
       "      <td>1.0</td>\n",
       "    </tr>\n",
       "  </tbody>\n",
       "</table>\n",
       "</div>"
      ],
      "text/plain": [
       "       work_id  ratio_inst.\n",
       "0  W1000000589          0.0\n",
       "1  W1000004903          1.0\n",
       "2  W1000011982          1.0"
      ]
     },
     "execution_count": 7,
     "metadata": {},
     "output_type": "execute_result"
    }
   ],
   "source": [
    "inst_completeness.head(3)"
   ]
  },
  {
   "cell_type": "code",
   "execution_count": 8,
   "id": "5f075d65-0e6f-47ba-8a60-8b00966b02e9",
   "metadata": {
    "tags": []
   },
   "outputs": [],
   "source": [
    "works = list(set(inst_completeness.work_id))"
   ]
  },
  {
   "cell_type": "code",
   "execution_count": 9,
   "id": "44300096-60d1-4463-8363-3a5a10684e5c",
   "metadata": {
    "tags": []
   },
   "outputs": [
    {
     "data": {
      "text/plain": [
       "3380196"
      ]
     },
     "execution_count": 9,
     "metadata": {},
     "output_type": "execute_result"
    }
   ],
   "source": [
    "len(works)"
   ]
  },
  {
   "cell_type": "code",
   "execution_count": 10,
   "id": "d65f538d-011d-4b9f-817e-db1f1646d8c1",
   "metadata": {
    "tags": []
   },
   "outputs": [],
   "source": [
    "works_inst_not0 = list(set(inst_completeness.work_id[inst_completeness['ratio_inst.']>0]))"
   ]
  },
  {
   "cell_type": "code",
   "execution_count": 11,
   "id": "17cef85e-71e2-451e-a470-374838d0a1b6",
   "metadata": {
    "tags": []
   },
   "outputs": [
    {
     "data": {
      "text/plain": [
       "2512874"
      ]
     },
     "execution_count": 11,
     "metadata": {},
     "output_type": "execute_result"
    }
   ],
   "source": [
    "len(works_inst_not0)"
   ]
  },
  {
   "cell_type": "code",
   "execution_count": 12,
   "id": "73c857b0-9fc2-458c-bbde-2216208f0993",
   "metadata": {
    "tags": []
   },
   "outputs": [],
   "source": [
    "authorship = authorship[authorship.work_id.isin(works_inst_not0)]"
   ]
  },
  {
   "cell_type": "code",
   "execution_count": 13,
   "id": "dbda0fe6-f267-4737-aa20-5afdf592ecc7",
   "metadata": {
    "tags": []
   },
   "outputs": [
    {
     "data": {
      "text/html": [
       "<div>\n",
       "<style scoped>\n",
       "    .dataframe tbody tr th:only-of-type {\n",
       "        vertical-align: middle;\n",
       "    }\n",
       "\n",
       "    .dataframe tbody tr th {\n",
       "        vertical-align: top;\n",
       "    }\n",
       "\n",
       "    .dataframe thead th {\n",
       "        text-align: right;\n",
       "    }\n",
       "</style>\n",
       "<table border=\"1\" class=\"dataframe\">\n",
       "  <thead>\n",
       "    <tr style=\"text-align: right;\">\n",
       "      <th></th>\n",
       "      <th>work_id</th>\n",
       "      <th>author_position</th>\n",
       "      <th>author_id</th>\n",
       "      <th>institution_id</th>\n",
       "      <th>publication_year</th>\n",
       "      <th>first_pub_year</th>\n",
       "      <th>last_pub_year</th>\n",
       "      <th>career_len</th>\n",
       "      <th>scientific_age</th>\n",
       "    </tr>\n",
       "  </thead>\n",
       "  <tbody>\n",
       "    <tr>\n",
       "      <th>0</th>\n",
       "      <td>W1015054358</td>\n",
       "      <td>first</td>\n",
       "      <td>A271637905</td>\n",
       "      <td>I200719446</td>\n",
       "      <td>2008</td>\n",
       "      <td>1999</td>\n",
       "      <td>2022</td>\n",
       "      <td>23</td>\n",
       "      <td>9</td>\n",
       "    </tr>\n",
       "    <tr>\n",
       "      <th>1</th>\n",
       "      <td>W1015054358</td>\n",
       "      <td>middle</td>\n",
       "      <td>A2099306368</td>\n",
       "      <td>I204308271</td>\n",
       "      <td>2008</td>\n",
       "      <td>2005</td>\n",
       "      <td>2021</td>\n",
       "      <td>16</td>\n",
       "      <td>3</td>\n",
       "    </tr>\n",
       "    <tr>\n",
       "      <th>2</th>\n",
       "      <td>W1015054358</td>\n",
       "      <td>middle</td>\n",
       "      <td>A2116498896</td>\n",
       "      <td>I200719446</td>\n",
       "      <td>2008</td>\n",
       "      <td>2004</td>\n",
       "      <td>2021</td>\n",
       "      <td>17</td>\n",
       "      <td>4</td>\n",
       "    </tr>\n",
       "    <tr>\n",
       "      <th>3</th>\n",
       "      <td>W1015054358</td>\n",
       "      <td>middle</td>\n",
       "      <td>A2154523226</td>\n",
       "      <td>I161318765</td>\n",
       "      <td>2008</td>\n",
       "      <td>2008</td>\n",
       "      <td>2008</td>\n",
       "      <td>0</td>\n",
       "      <td>0</td>\n",
       "    </tr>\n",
       "    <tr>\n",
       "      <th>4</th>\n",
       "      <td>W1015054358</td>\n",
       "      <td>middle</td>\n",
       "      <td>A2122755604</td>\n",
       "      <td>I161318765</td>\n",
       "      <td>2008</td>\n",
       "      <td>1968</td>\n",
       "      <td>2021</td>\n",
       "      <td>53</td>\n",
       "      <td>40</td>\n",
       "    </tr>\n",
       "  </tbody>\n",
       "</table>\n",
       "</div>"
      ],
      "text/plain": [
       "       work_id author_position    author_id institution_id  publication_year  \\\n",
       "0  W1015054358           first   A271637905     I200719446              2008   \n",
       "1  W1015054358          middle  A2099306368     I204308271              2008   \n",
       "2  W1015054358          middle  A2116498896     I200719446              2008   \n",
       "3  W1015054358          middle  A2154523226     I161318765              2008   \n",
       "4  W1015054358          middle  A2122755604     I161318765              2008   \n",
       "\n",
       "   first_pub_year  last_pub_year  career_len  scientific_age  \n",
       "0            1999           2022          23               9  \n",
       "1            2005           2021          16               3  \n",
       "2            2004           2021          17               4  \n",
       "3            2008           2008           0               0  \n",
       "4            1968           2021          53              40  "
      ]
     },
     "execution_count": 13,
     "metadata": {},
     "output_type": "execute_result"
    }
   ],
   "source": [
    "authorship.head(5)"
   ]
  },
  {
   "cell_type": "code",
   "execution_count": 14,
   "id": "25ab10e2-8288-4886-8dc9-7d3ad0ab3477",
   "metadata": {
    "tags": []
   },
   "outputs": [],
   "source": [
    "target_author = pd.read_csv('target_author.csv')"
   ]
  },
  {
   "cell_type": "code",
   "execution_count": 15,
   "id": "3b990096-f199-4252-8229-54f15aae2470",
   "metadata": {
    "tags": []
   },
   "outputs": [
    {
     "data": {
      "text/html": [
       "<div>\n",
       "<style scoped>\n",
       "    .dataframe tbody tr th:only-of-type {\n",
       "        vertical-align: middle;\n",
       "    }\n",
       "\n",
       "    .dataframe tbody tr th {\n",
       "        vertical-align: top;\n",
       "    }\n",
       "\n",
       "    .dataframe thead th {\n",
       "        text-align: right;\n",
       "    }\n",
       "</style>\n",
       "<table border=\"1\" class=\"dataframe\">\n",
       "  <thead>\n",
       "    <tr style=\"text-align: right;\">\n",
       "      <th></th>\n",
       "      <th>author_id</th>\n",
       "      <th>MAGAuthorID</th>\n",
       "      <th>AFTMentorID</th>\n",
       "      <th>FirstMenteeYear</th>\n",
       "    </tr>\n",
       "  </thead>\n",
       "  <tbody>\n",
       "    <tr>\n",
       "      <th>0</th>\n",
       "      <td>A367921</td>\n",
       "      <td>367921</td>\n",
       "      <td>2488</td>\n",
       "      <td>2000</td>\n",
       "    </tr>\n",
       "    <tr>\n",
       "      <th>1</th>\n",
       "      <td>A1199224</td>\n",
       "      <td>1199224</td>\n",
       "      <td>95661</td>\n",
       "      <td>2009</td>\n",
       "    </tr>\n",
       "    <tr>\n",
       "      <th>2</th>\n",
       "      <td>A1495678</td>\n",
       "      <td>1495678</td>\n",
       "      <td>51349</td>\n",
       "      <td>1963</td>\n",
       "    </tr>\n",
       "  </tbody>\n",
       "</table>\n",
       "</div>"
      ],
      "text/plain": [
       "  author_id  MAGAuthorID  AFTMentorID  FirstMenteeYear\n",
       "0   A367921       367921         2488             2000\n",
       "1  A1199224      1199224        95661             2009\n",
       "2  A1495678      1495678        51349             1963"
      ]
     },
     "execution_count": 15,
     "metadata": {},
     "output_type": "execute_result"
    }
   ],
   "source": [
    "target_author.head(3)"
   ]
  },
  {
   "cell_type": "code",
   "execution_count": 16,
   "id": "b049cc62-40d8-4360-a08b-66ff0fa9a9c8",
   "metadata": {
    "tags": []
   },
   "outputs": [],
   "source": [
    "authors = list(target_author.author_id)\n",
    "FirstMenteeYear = list(target_author.FirstMenteeYear)"
   ]
  },
  {
   "cell_type": "code",
   "execution_count": 17,
   "id": "2418ba23-b198-4202-b501-c95ce33069ec",
   "metadata": {
    "tags": []
   },
   "outputs": [
    {
     "name": "stdout",
     "output_type": "stream",
     "text": [
      "25727\n"
     ]
    }
   ],
   "source": [
    "print(len(authors))"
   ]
  },
  {
   "cell_type": "markdown",
   "id": "cacef752-7440-483f-ac30-54387e66e2ff",
   "metadata": {},
   "source": [
    "#### Case Study"
   ]
  },
  {
   "cell_type": "code",
   "execution_count": 18,
   "id": "4a9ec6a7-685c-4164-a72a-37afdc62da7b",
   "metadata": {
    "tags": []
   },
   "outputs": [],
   "source": [
    "def group_info(author_i,df,backward_window,scientific_age_window):\n",
    "    auship = df\n",
    "    \n",
    "    # Method1\n",
    "    #mentor's all publications\n",
    "    # works_i = auship['work_id'][auship.author_id==author_i]\n",
    "    # print('len(works_i) : ',len(works_i))\n",
    "    \n",
    "    # Method2\n",
    "    #mentor's all last-author publications\n",
    "    works_i = auship['work_id'][(auship.author_id==author_i)&(auship.author_position=='last')]\n",
    "    \n",
    "\n",
    "    auship_i = auship[auship.work_id.isin(works_i)].sort_values(by='publication_year')\n",
    "    # print('len(auship_i) : ',len(auship_i))\n",
    "\n",
    "    auship_null = auship_i[~auship_i.institution_id.isnull()]\n",
    "\n",
    "    # print('the ratio of with institution : ','{:.0%}'.format(len(auship_null)/len(auship_i)))\n",
    "    \n",
    "    years_i = auship_i.publication_year\n",
    "    try:\n",
    "        start_year = min(years_i)\n",
    "        end_year = max(years_i)\n",
    "    except:\n",
    "        start_year = 2021\n",
    "        end_year = 2022\n",
    "    # print('start_year : ',start_year)\n",
    "    # print('end_year : ',end_year)\n",
    "    \n",
    "    Group = pd.DataFrame([],columns=['work_id','author_position', 'author_id', 'institution_id', 'publication_year',\n",
    "                                               'first_pub_year', 'scientific_age', 'group_size', 'mentor_id', 'current_year', 'ratio_institution','current_scientific_age'])\n",
    "   \n",
    "    for current_year in range(start_year,end_year+1):\n",
    "        # print('current_year : ',current_year)\n",
    "        auship_i_back = auship_i[(auship_i.publication_year>=current_year-backward_window)&\n",
    "                                (auship_i.publication_year<=current_year)]\n",
    "        auship_i_back_notnull = auship_i_back[~auship_i_back.institution_id.isnull()]\n",
    "        \n",
    "        \n",
    "        auship_i_back =  auship_i_back.reset_index().drop(columns=['index'])\n",
    "        #new consideration : current_scientific_age\n",
    "        csa = np.array(auship_i_back['first_pub_year'] - current_year)*-1\n",
    "        auship_i_back.loc[:,'current_scientific_age']  = csa\n",
    "        \n",
    "        \n",
    "        if len(auship_i_back)==0:\n",
    "            ratio_institution = 0\n",
    "        else:\n",
    "            ratio_institution = len(auship_i_back_notnull)/len(auship_i_back)\n",
    "            \n",
    "            # print('the ratio of with institution : ','{:.0%}'.format(ratio_institution))\n",
    "        \n",
    "        \n",
    "        # ratio_institution = len(auship_i_back_notnull)/len(auship_i_back)\n",
    "        # print('the ratio of with institution : ','{:.0%}'.format(ratio_institution))\n",
    "\n",
    "        if not ratio_institution==0:\n",
    "            try:\n",
    "                institution_i = auship_i_back['institution_id'][auship_i_back.author_id==author_i].mode().iloc[0]\n",
    "                # print('institution_i : ',institution_i)\n",
    "\n",
    "                group_i = auship_i_back[(auship_i_back.institution_id==institution_i)\n",
    "                                       &(auship_i_back.current_scientific_age<=scientific_age_window) # see above: current_scientific_age\n",
    "                                       &(auship_i_back.author_id!=author_i)]\n",
    "\n",
    "                group_size = len(set(group_i.author_id))\n",
    "            # print('group_size : ',group_size)\n",
    "            except:\n",
    "                group_size = 0\n",
    "            if group_size>0:\n",
    "                group_i = group_i.assign(group_size = group_size)\n",
    "                group_i = group_i.assign(mentor_id = author_i)\n",
    "                group_i = group_i.assign(current_year = current_year)\n",
    "                group_i = group_i.assign(ratio_institution = ratio_institution)\n",
    "            else:\n",
    "                group_i = pd.DataFrame([],columns=['work_id','author_position', 'author_id', 'institution_id', 'publication_year',\n",
    "                                               'first_pub_year', 'scientific_age', 'group_size', 'mentor_id', 'current_year', 'ratio_institution','current_scientific_age'])\n",
    "        else:\n",
    "            group_i = pd.DataFrame([],columns=['work_id','author_position', 'author_id', 'institution_id', 'publication_year',\n",
    "                                               'first_pub_year', 'scientific_age', 'group_size', 'mentor_id', 'current_year', 'ratio_institution','current_scientific_age'])\n",
    "        Group = pd.concat((Group,group_i))\n",
    "    return Group"
   ]
  },
  {
   "cell_type": "code",
   "execution_count": 19,
   "id": "4d9f7f60-e296-4bd9-9e7c-380b3c3ebb46",
   "metadata": {
    "scrolled": true,
    "tags": []
   },
   "outputs": [
    {
     "name": "stdout",
     "output_type": "stream",
     "text": [
      "0\n",
      "10\n",
      "20\n",
      "30\n",
      "40\n",
      "50\n",
      "60\n",
      "70\n",
      "80\n",
      "90\n",
      "100\n",
      "110\n",
      "120\n",
      "130\n",
      "140\n",
      "150\n",
      "160\n",
      "170\n",
      "180\n",
      "190\n",
      "200\n",
      "210\n",
      "220\n",
      "230\n",
      "240\n",
      "250\n",
      "260\n",
      "270\n",
      "280\n",
      "290\n",
      "300\n",
      "310\n",
      "320\n",
      "330\n",
      "340\n",
      "350\n",
      "360\n",
      "370\n",
      "380\n",
      "390\n",
      "400\n",
      "410\n",
      "420\n",
      "430\n",
      "440\n",
      "450\n",
      "460\n",
      "470\n",
      "480\n",
      "490\n",
      "500\n",
      "510\n",
      "520\n",
      "530\n",
      "540\n",
      "550\n",
      "560\n",
      "570\n",
      "580\n",
      "590\n",
      "600\n",
      "610\n",
      "620\n",
      "630\n",
      "640\n",
      "650\n",
      "660\n",
      "670\n",
      "680\n",
      "690\n",
      "700\n",
      "710\n",
      "720\n",
      "730\n",
      "740\n",
      "750\n",
      "760\n",
      "770\n",
      "780\n",
      "790\n",
      "800\n",
      "810\n",
      "820\n",
      "830\n",
      "840\n",
      "850\n",
      "860\n",
      "870\n",
      "880\n",
      "890\n",
      "900\n",
      "910\n",
      "920\n",
      "930\n",
      "940\n",
      "950\n",
      "960\n",
      "970\n",
      "980\n",
      "990\n",
      "1000\n",
      "1010\n",
      "1020\n",
      "1030\n",
      "1040\n",
      "1050\n",
      "1060\n",
      "1070\n",
      "1080\n",
      "1090\n",
      "1100\n",
      "1110\n",
      "1120\n",
      "1130\n",
      "1140\n",
      "1150\n",
      "1160\n",
      "1170\n",
      "1180\n",
      "1190\n",
      "1200\n",
      "1210\n",
      "1220\n",
      "1230\n",
      "1240\n",
      "1250\n",
      "1260\n",
      "1270\n",
      "1280\n",
      "1290\n",
      "1300\n",
      "1310\n",
      "1320\n",
      "1330\n",
      "1340\n",
      "1350\n",
      "1360\n",
      "1370\n",
      "1380\n",
      "1390\n",
      "1400\n",
      "1410\n",
      "1420\n",
      "1430\n",
      "1440\n",
      "1450\n",
      "1460\n",
      "1470\n",
      "1480\n",
      "1490\n",
      "1500\n",
      "1510\n",
      "1520\n",
      "1530\n",
      "1540\n",
      "1550\n",
      "1560\n",
      "1570\n",
      "1580\n",
      "1590\n",
      "1600\n",
      "1610\n",
      "1620\n",
      "1630\n",
      "1640\n",
      "1650\n",
      "1660\n",
      "1670\n",
      "1680\n",
      "1690\n",
      "1700\n",
      "1710\n",
      "1720\n",
      "1730\n",
      "1740\n",
      "1750\n",
      "1760\n",
      "1770\n",
      "1780\n",
      "1790\n",
      "1800\n",
      "1810\n",
      "1820\n",
      "1830\n",
      "1840\n",
      "1850\n",
      "1860\n",
      "1870\n",
      "1880\n",
      "1890\n",
      "1900\n",
      "1910\n",
      "1920\n",
      "1930\n",
      "1940\n",
      "1950\n",
      "1960\n",
      "1970\n",
      "1980\n",
      "1990\n"
     ]
    }
   ],
   "source": [
    "backward_window = 3\n",
    "scientific_age_window = 10\n",
    "Data = pd.DataFrame([],columns=['work_id','author_position', 'author_id', 'institution_id', 'publication_year',\n",
    "                                               'first_pub_year', 'scientific_age', 'group_size', 'mentor_id', 'current_year', 'ratio_institution'])\n",
    "# Iterate author\n",
    "# i = random.sample(range(len(authors)),1)[0]\n",
    "# i = 9465\n",
    "\n",
    "# n0 = 0\n",
    "# n1 = n0 + 2000\n",
    "\n",
    "for i in range(n0,n1):\n",
    "# print('i : ',i)\n",
    "    author_i = authors[i]\n",
    "    # print('author_i : ',author_i)\n",
    "    author_year = FirstMenteeYear[i]\n",
    "    # print('author_year : ',author_year)\n",
    "\n",
    "    data = group_info(author_i,authorship,backward_window,scientific_age_window)\n",
    "    Data = pd.concat((Data,data))\n",
    "    if i%10==0:\n",
    "        print(i)\n",
    "\n",
    "Data['current_scientific_age'] = Data['current_year'] - Data['first_pub_year']\n",
    "Data.to_csv(f'groupsize/author_{n0}_{n1}.csv',index=0)"
   ]
  },
  {
   "cell_type": "code",
   "execution_count": null,
   "id": "1a07ce97-73f7-40ec-8041-fba31fca9694",
   "metadata": {},
   "outputs": [],
   "source": []
  }
 ],
 "metadata": {
  "kernelspec": {
   "display_name": "Python 3 (ipykernel)",
   "language": "python",
   "name": "python3"
  },
  "language_info": {
   "codemirror_mode": {
    "name": "ipython",
    "version": 3
   },
   "file_extension": ".py",
   "mimetype": "text/x-python",
   "name": "python",
   "nbconvert_exporter": "python",
   "pygments_lexer": "ipython3",
   "version": "3.11.3"
  }
 },
 "nbformat": 4,
 "nbformat_minor": 5
}
