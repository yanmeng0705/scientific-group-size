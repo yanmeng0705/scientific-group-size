{
 "cells": [
  {
   "cell_type": "code",
   "execution_count": 1,
   "id": "e9c5861d-a8e6-447c-a2fc-df4f231f60aa",
   "metadata": {
    "tags": []
   },
   "outputs": [],
   "source": [
    "import pandas as pd"
   ]
  },
  {
   "cell_type": "code",
   "execution_count": 2,
   "id": "716c3328-ef7f-405a-8f1e-5016e4f24e59",
   "metadata": {
    "tags": []
   },
   "outputs": [],
   "source": [
    "target_author = pd.read_csv('work_authorship.csv')"
   ]
  },
  {
   "cell_type": "code",
   "execution_count": 4,
   "id": "e2098e6c-d832-4038-bbe1-b7223a033e96",
   "metadata": {
    "tags": []
   },
   "outputs": [
    {
     "data": {
      "text/html": [
       "<div>\n",
       "<style scoped>\n",
       "    .dataframe tbody tr th:only-of-type {\n",
       "        vertical-align: middle;\n",
       "    }\n",
       "\n",
       "    .dataframe tbody tr th {\n",
       "        vertical-align: top;\n",
       "    }\n",
       "\n",
       "    .dataframe thead th {\n",
       "        text-align: right;\n",
       "    }\n",
       "</style>\n",
       "<table border=\"1\" class=\"dataframe\">\n",
       "  <thead>\n",
       "    <tr style=\"text-align: right;\">\n",
       "      <th></th>\n",
       "      <th>work_id</th>\n",
       "      <th>author_position</th>\n",
       "      <th>author_id</th>\n",
       "      <th>institution_id</th>\n",
       "      <th>publication_year</th>\n",
       "    </tr>\n",
       "  </thead>\n",
       "  <tbody>\n",
       "    <tr>\n",
       "      <th>0</th>\n",
       "      <td>W1015054358</td>\n",
       "      <td>first</td>\n",
       "      <td>A271637905</td>\n",
       "      <td>I200719446</td>\n",
       "      <td>2008</td>\n",
       "    </tr>\n",
       "    <tr>\n",
       "      <th>1</th>\n",
       "      <td>W1015054358</td>\n",
       "      <td>middle</td>\n",
       "      <td>A2099306368</td>\n",
       "      <td>I204308271</td>\n",
       "      <td>2008</td>\n",
       "    </tr>\n",
       "    <tr>\n",
       "      <th>2</th>\n",
       "      <td>W1015054358</td>\n",
       "      <td>middle</td>\n",
       "      <td>A2116498896</td>\n",
       "      <td>I200719446</td>\n",
       "      <td>2008</td>\n",
       "    </tr>\n",
       "    <tr>\n",
       "      <th>3</th>\n",
       "      <td>W1015054358</td>\n",
       "      <td>middle</td>\n",
       "      <td>A2154523226</td>\n",
       "      <td>I161318765</td>\n",
       "      <td>2008</td>\n",
       "    </tr>\n",
       "    <tr>\n",
       "      <th>4</th>\n",
       "      <td>W1015054358</td>\n",
       "      <td>middle</td>\n",
       "      <td>A2122755604</td>\n",
       "      <td>I161318765</td>\n",
       "      <td>2008</td>\n",
       "    </tr>\n",
       "  </tbody>\n",
       "</table>\n",
       "</div>"
      ],
      "text/plain": [
       "       work_id author_position    author_id institution_id  publication_year\n",
       "0  W1015054358           first   A271637905     I200719446              2008\n",
       "1  W1015054358          middle  A2099306368     I204308271              2008\n",
       "2  W1015054358          middle  A2116498896     I200719446              2008\n",
       "3  W1015054358          middle  A2154523226     I161318765              2008\n",
       "4  W1015054358          middle  A2122755604     I161318765              2008"
      ]
     },
     "execution_count": 4,
     "metadata": {},
     "output_type": "execute_result"
    }
   ],
   "source": [
    "target_author.head(5)"
   ]
  },
  {
   "cell_type": "code",
   "execution_count": 3,
   "id": "76cfd8e3-3f4d-4599-89b4-62e183eee7a5",
   "metadata": {
    "tags": []
   },
   "outputs": [],
   "source": [
    "career_span = pd.read_csv('career_span.csv')"
   ]
  },
  {
   "cell_type": "code",
   "execution_count": 5,
   "id": "35acdb6f-7daa-4129-a9cf-dbb7a1571693",
   "metadata": {
    "tags": []
   },
   "outputs": [
    {
     "data": {
      "text/html": [
       "<div>\n",
       "<style scoped>\n",
       "    .dataframe tbody tr th:only-of-type {\n",
       "        vertical-align: middle;\n",
       "    }\n",
       "\n",
       "    .dataframe tbody tr th {\n",
       "        vertical-align: top;\n",
       "    }\n",
       "\n",
       "    .dataframe thead th {\n",
       "        text-align: right;\n",
       "    }\n",
       "</style>\n",
       "<table border=\"1\" class=\"dataframe\">\n",
       "  <thead>\n",
       "    <tr style=\"text-align: right;\">\n",
       "      <th></th>\n",
       "      <th>author_id</th>\n",
       "      <th>first_pub_year</th>\n",
       "      <th>last_pub_year</th>\n",
       "      <th>career_len</th>\n",
       "    </tr>\n",
       "  </thead>\n",
       "  <tbody>\n",
       "    <tr>\n",
       "      <th>0</th>\n",
       "      <td>A100443890</td>\n",
       "      <td>1985</td>\n",
       "      <td>2021</td>\n",
       "      <td>36</td>\n",
       "    </tr>\n",
       "    <tr>\n",
       "      <th>1</th>\n",
       "      <td>A10276863</td>\n",
       "      <td>2010</td>\n",
       "      <td>2022</td>\n",
       "      <td>12</td>\n",
       "    </tr>\n",
       "    <tr>\n",
       "      <th>2</th>\n",
       "      <td>A102980197</td>\n",
       "      <td>1994</td>\n",
       "      <td>2022</td>\n",
       "      <td>28</td>\n",
       "    </tr>\n",
       "    <tr>\n",
       "      <th>3</th>\n",
       "      <td>A1042434965</td>\n",
       "      <td>2004</td>\n",
       "      <td>2022</td>\n",
       "      <td>18</td>\n",
       "    </tr>\n",
       "    <tr>\n",
       "      <th>4</th>\n",
       "      <td>A106505410</td>\n",
       "      <td>2003</td>\n",
       "      <td>2008</td>\n",
       "      <td>5</td>\n",
       "    </tr>\n",
       "  </tbody>\n",
       "</table>\n",
       "</div>"
      ],
      "text/plain": [
       "     author_id  first_pub_year  last_pub_year  career_len\n",
       "0   A100443890            1985           2021          36\n",
       "1    A10276863            2010           2022          12\n",
       "2   A102980197            1994           2022          28\n",
       "3  A1042434965            2004           2022          18\n",
       "4   A106505410            2003           2008           5"
      ]
     },
     "execution_count": 5,
     "metadata": {},
     "output_type": "execute_result"
    }
   ],
   "source": [
    "career_span.head(5)"
   ]
  },
  {
   "cell_type": "code",
   "execution_count": 6,
   "id": "b5c02843-d7b2-4ae6-b2ba-0a49ff74bf48",
   "metadata": {
    "tags": []
   },
   "outputs": [],
   "source": [
    "target_author = target_author.merge(career_span,on='author_id',how='left')"
   ]
  },
  {
   "cell_type": "code",
   "execution_count": 9,
   "id": "aa8af49b-caab-4c97-b02a-4c79771a2914",
   "metadata": {
    "tags": []
   },
   "outputs": [
    {
     "data": {
      "text/html": [
       "<div>\n",
       "<style scoped>\n",
       "    .dataframe tbody tr th:only-of-type {\n",
       "        vertical-align: middle;\n",
       "    }\n",
       "\n",
       "    .dataframe tbody tr th {\n",
       "        vertical-align: top;\n",
       "    }\n",
       "\n",
       "    .dataframe thead th {\n",
       "        text-align: right;\n",
       "    }\n",
       "</style>\n",
       "<table border=\"1\" class=\"dataframe\">\n",
       "  <thead>\n",
       "    <tr style=\"text-align: right;\">\n",
       "      <th></th>\n",
       "      <th>work_id</th>\n",
       "      <th>author_position</th>\n",
       "      <th>author_id</th>\n",
       "      <th>institution_id</th>\n",
       "      <th>publication_year</th>\n",
       "      <th>first_pub_year</th>\n",
       "      <th>last_pub_year</th>\n",
       "      <th>career_len</th>\n",
       "      <th>scientific_age</th>\n",
       "    </tr>\n",
       "  </thead>\n",
       "  <tbody>\n",
       "    <tr>\n",
       "      <th>0</th>\n",
       "      <td>W1015054358</td>\n",
       "      <td>first</td>\n",
       "      <td>A271637905</td>\n",
       "      <td>I200719446</td>\n",
       "      <td>2008</td>\n",
       "      <td>1999</td>\n",
       "      <td>2022</td>\n",
       "      <td>23</td>\n",
       "      <td>9</td>\n",
       "    </tr>\n",
       "    <tr>\n",
       "      <th>1</th>\n",
       "      <td>W1015054358</td>\n",
       "      <td>middle</td>\n",
       "      <td>A2099306368</td>\n",
       "      <td>I204308271</td>\n",
       "      <td>2008</td>\n",
       "      <td>2005</td>\n",
       "      <td>2021</td>\n",
       "      <td>16</td>\n",
       "      <td>3</td>\n",
       "    </tr>\n",
       "    <tr>\n",
       "      <th>2</th>\n",
       "      <td>W1015054358</td>\n",
       "      <td>middle</td>\n",
       "      <td>A2116498896</td>\n",
       "      <td>I200719446</td>\n",
       "      <td>2008</td>\n",
       "      <td>2004</td>\n",
       "      <td>2021</td>\n",
       "      <td>17</td>\n",
       "      <td>4</td>\n",
       "    </tr>\n",
       "    <tr>\n",
       "      <th>3</th>\n",
       "      <td>W1015054358</td>\n",
       "      <td>middle</td>\n",
       "      <td>A2154523226</td>\n",
       "      <td>I161318765</td>\n",
       "      <td>2008</td>\n",
       "      <td>2008</td>\n",
       "      <td>2008</td>\n",
       "      <td>0</td>\n",
       "      <td>0</td>\n",
       "    </tr>\n",
       "    <tr>\n",
       "      <th>4</th>\n",
       "      <td>W1015054358</td>\n",
       "      <td>middle</td>\n",
       "      <td>A2122755604</td>\n",
       "      <td>I161318765</td>\n",
       "      <td>2008</td>\n",
       "      <td>1968</td>\n",
       "      <td>2021</td>\n",
       "      <td>53</td>\n",
       "      <td>40</td>\n",
       "    </tr>\n",
       "  </tbody>\n",
       "</table>\n",
       "</div>"
      ],
      "text/plain": [
       "       work_id author_position    author_id institution_id  publication_year  \\\n",
       "0  W1015054358           first   A271637905     I200719446              2008   \n",
       "1  W1015054358          middle  A2099306368     I204308271              2008   \n",
       "2  W1015054358          middle  A2116498896     I200719446              2008   \n",
       "3  W1015054358          middle  A2154523226     I161318765              2008   \n",
       "4  W1015054358          middle  A2122755604     I161318765              2008   \n",
       "\n",
       "   first_pub_year  last_pub_year  career_len  scientific_age  \n",
       "0            1999           2022          23               9  \n",
       "1            2005           2021          16               3  \n",
       "2            2004           2021          17               4  \n",
       "3            2008           2008           0               0  \n",
       "4            1968           2021          53              40  "
      ]
     },
     "execution_count": 9,
     "metadata": {},
     "output_type": "execute_result"
    }
   ],
   "source": [
    "target_author.head(5)"
   ]
  },
  {
   "cell_type": "code",
   "execution_count": 8,
   "id": "99ea1ea3-97ad-4a5b-84c6-f5dc98446ec5",
   "metadata": {
    "tags": []
   },
   "outputs": [],
   "source": [
    "target_author['scientific_age'] = target_author.publication_year - target_author.first_pub_year"
   ]
  },
  {
   "cell_type": "code",
   "execution_count": 10,
   "id": "765de370-4330-4e56-b9c3-31b3aa5cb3e4",
   "metadata": {
    "tags": []
   },
   "outputs": [],
   "source": [
    "target_author.to_csv('work_authorship.csv',index=0)"
   ]
  },
  {
   "cell_type": "code",
   "execution_count": null,
   "id": "74c3055a-6266-4495-a508-31c0703d2970",
   "metadata": {},
   "outputs": [],
   "source": []
  }
 ],
 "metadata": {
  "kernelspec": {
   "display_name": "myenv",
   "language": "python",
   "name": "myenv"
  },
  "language_info": {
   "codemirror_mode": {
    "name": "ipython",
    "version": 3
   },
   "file_extension": ".py",
   "mimetype": "text/x-python",
   "name": "python",
   "nbconvert_exporter": "python",
   "pygments_lexer": "ipython3",
   "version": "3.11.4"
  }
 },
 "nbformat": 4,
 "nbformat_minor": 5
}
