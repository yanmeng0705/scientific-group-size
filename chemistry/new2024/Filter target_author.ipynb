{
 "cells": [
  {
   "cell_type": "code",
   "execution_count": 1,
   "id": "cd1c1163",
   "metadata": {
    "tags": []
   },
   "outputs": [],
   "source": [
    "import pandas as pd\n",
    "import seaborn as sns"
   ]
  },
  {
   "cell_type": "markdown",
   "id": "27bfa31f-5f75-4ce7-be70-17ff75a088dc",
   "metadata": {
    "tags": []
   },
   "source": [
    "#### Import AFT Data set"
   ]
  },
  {
   "cell_type": "markdown",
   "id": "eb28552c",
   "metadata": {},
   "source": [
    "##### mentorship"
   ]
  },
  {
   "cell_type": "code",
   "execution_count": 3,
   "id": "6cd8ecaa",
   "metadata": {
    "scrolled": true,
    "tags": []
   },
   "outputs": [],
   "source": [
    "Mtoship = pd.read_csv('chemistry.csv')"
   ]
  },
  {
   "cell_type": "code",
   "execution_count": 4,
   "id": "99979448",
   "metadata": {
    "tags": []
   },
   "outputs": [
    {
     "data": {
      "text/html": [
       "<div>\n",
       "<style scoped>\n",
       "    .dataframe tbody tr th:only-of-type {\n",
       "        vertical-align: middle;\n",
       "    }\n",
       "\n",
       "    .dataframe tbody tr th {\n",
       "        vertical-align: top;\n",
       "    }\n",
       "\n",
       "    .dataframe thead th {\n",
       "        text-align: right;\n",
       "    }\n",
       "</style>\n",
       "<table border=\"1\" class=\"dataframe\">\n",
       "  <thead>\n",
       "    <tr style=\"text-align: right;\">\n",
       "      <th></th>\n",
       "      <th>Unnamed: 0</th>\n",
       "      <th>CID</th>\n",
       "      <th>MenteeID</th>\n",
       "      <th>MentorID</th>\n",
       "      <th>MentorshipType</th>\n",
       "      <th>Institution</th>\n",
       "      <th>InstitutionMAGID</th>\n",
       "      <th>StartYear</th>\n",
       "      <th>StopYear</th>\n",
       "    </tr>\n",
       "  </thead>\n",
       "  <tbody>\n",
       "    <tr>\n",
       "      <th>75027</th>\n",
       "      <td>521934</td>\n",
       "      <td>1203426</td>\n",
       "      <td>634921</td>\n",
       "      <td>70097</td>\n",
       "      <td>2</td>\n",
       "      <td>Cincinnati Children's Hospital and  Medical Ce...</td>\n",
       "      <td>NaN</td>\n",
       "      <td>2014</td>\n",
       "      <td>2017</td>\n",
       "    </tr>\n",
       "  </tbody>\n",
       "</table>\n",
       "</div>"
      ],
      "text/plain": [
       "       Unnamed: 0      CID  MenteeID  MentorID  MentorshipType  \\\n",
       "75027      521934  1203426    634921     70097               2   \n",
       "\n",
       "                                             Institution  InstitutionMAGID  \\\n",
       "75027  Cincinnati Children's Hospital and  Medical Ce...               NaN   \n",
       "\n",
       "       StartYear  StopYear  \n",
       "75027       2014      2017  "
      ]
     },
     "execution_count": 4,
     "metadata": {},
     "output_type": "execute_result"
    }
   ],
   "source": [
    "Mtoship.sample(1)"
   ]
  },
  {
   "cell_type": "code",
   "execution_count": 5,
   "id": "f9e1b41a-6610-4511-8d4e-0300fbe22047",
   "metadata": {
    "tags": []
   },
   "outputs": [
    {
     "data": {
      "text/plain": [
       "<Axes: xlabel='StopYear', ylabel='Count'>"
      ]
     },
     "execution_count": 5,
     "metadata": {},
     "output_type": "execute_result"
    },
    {
     "data": {
      "image/png": "[encoded data removed]",
      "text/plain": [
       "<Figure size 640x480 with 1 Axes>"
      ]
     },
     "metadata": {},
     "output_type": "display_data"
    }
   ],
   "source": [
    "sns.histplot(data=Mtoship, x=\"StopYear\",binrange=[1800,2022])"
   ]
  },
  {
   "cell_type": "code",
   "execution_count": 6,
   "id": "b03a8430-43f4-437e-8700-a76c02ef4fd4",
   "metadata": {
    "tags": []
   },
   "outputs": [
    {
     "data": {
      "text/plain": [
       "0.8016881459838584"
      ]
     },
     "execution_count": 6,
     "metadata": {},
     "output_type": "execute_result"
    }
   ],
   "source": [
    "len(Mtoship[Mtoship.StopYear!=-1])/len(Mtoship)"
   ]
  },
  {
   "cell_type": "code",
   "execution_count": 7,
   "id": "a261aac1-1140-400c-88c9-8a903704c2a3",
   "metadata": {
    "tags": []
   },
   "outputs": [],
   "source": [
    "Mentor_StopYear = Mtoship[['MentorID','StopYear']][Mtoship.StopYear!=-1]"
   ]
  },
  {
   "cell_type": "code",
   "execution_count": 8,
   "id": "c1adf8aa-639f-4e7b-9511-abac158bbb47",
   "metadata": {
    "tags": []
   },
   "outputs": [
    {
     "data": {
      "text/html": [
       "<div>\n",
       "<style scoped>\n",
       "    .dataframe tbody tr th:only-of-type {\n",
       "        vertical-align: middle;\n",
       "    }\n",
       "\n",
       "    .dataframe tbody tr th {\n",
       "        vertical-align: top;\n",
       "    }\n",
       "\n",
       "    .dataframe thead th {\n",
       "        text-align: right;\n",
       "    }\n",
       "</style>\n",
       "<table border=\"1\" class=\"dataframe\">\n",
       "  <thead>\n",
       "    <tr style=\"text-align: right;\">\n",
       "      <th></th>\n",
       "      <th>MentorID</th>\n",
       "      <th>StopYear</th>\n",
       "    </tr>\n",
       "  </thead>\n",
       "  <tbody>\n",
       "    <tr>\n",
       "      <th>0</th>\n",
       "      <td>9</td>\n",
       "      <td>1984</td>\n",
       "    </tr>\n",
       "    <tr>\n",
       "      <th>1</th>\n",
       "      <td>33687</td>\n",
       "      <td>1997</td>\n",
       "    </tr>\n",
       "    <tr>\n",
       "      <th>3</th>\n",
       "      <td>52639</td>\n",
       "      <td>1971</td>\n",
       "    </tr>\n",
       "    <tr>\n",
       "      <th>4</th>\n",
       "      <td>189</td>\n",
       "      <td>1927</td>\n",
       "    </tr>\n",
       "    <tr>\n",
       "      <th>6</th>\n",
       "      <td>223</td>\n",
       "      <td>1871</td>\n",
       "    </tr>\n",
       "  </tbody>\n",
       "</table>\n",
       "</div>"
      ],
      "text/plain": [
       "   MentorID  StopYear\n",
       "0         9      1984\n",
       "1     33687      1997\n",
       "3     52639      1971\n",
       "4       189      1927\n",
       "6       223      1871"
      ]
     },
     "execution_count": 8,
     "metadata": {},
     "output_type": "execute_result"
    }
   ],
   "source": [
    "Mentor_StopYear.head(5)"
   ]
  },
  {
   "cell_type": "code",
   "execution_count": 9,
   "id": "b2fb3b6d-80ec-40a6-aa3a-77050af67fc0",
   "metadata": {
    "tags": []
   },
   "outputs": [],
   "source": [
    "idx = Mentor_StopYear.groupby(['MentorID'])['StopYear'].transform(min) == Mentor_StopYear['StopYear'] #choose the minimum StopYear \n",
    "Mentor_FirstYear = Mentor_StopYear[idx]"
   ]
  },
  {
   "cell_type": "code",
   "execution_count": 10,
   "id": "06965398-0920-4992-88f5-6b36e76e91ee",
   "metadata": {
    "scrolled": true,
    "tags": []
   },
   "outputs": [],
   "source": [
    "Mentor_FirstYear = Mentor_FirstYear.rename(columns={'StopYear':'FirstMenteeYear'})"
   ]
  },
  {
   "cell_type": "code",
   "execution_count": 11,
   "id": "2b9b95f2-912b-4e0f-a8d4-6adb9b540337",
   "metadata": {
    "tags": []
   },
   "outputs": [
    {
     "data": {
      "text/html": [
       "<div>\n",
       "<style scoped>\n",
       "    .dataframe tbody tr th:only-of-type {\n",
       "        vertical-align: middle;\n",
       "    }\n",
       "\n",
       "    .dataframe tbody tr th {\n",
       "        vertical-align: top;\n",
       "    }\n",
       "\n",
       "    .dataframe thead th {\n",
       "        text-align: right;\n",
       "    }\n",
       "</style>\n",
       "<table border=\"1\" class=\"dataframe\">\n",
       "  <thead>\n",
       "    <tr style=\"text-align: right;\">\n",
       "      <th></th>\n",
       "      <th>MentorID</th>\n",
       "      <th>FirstMenteeYear</th>\n",
       "    </tr>\n",
       "  </thead>\n",
       "  <tbody>\n",
       "    <tr>\n",
       "      <th>1</th>\n",
       "      <td>33687</td>\n",
       "      <td>1997</td>\n",
       "    </tr>\n",
       "    <tr>\n",
       "      <th>3</th>\n",
       "      <td>52639</td>\n",
       "      <td>1971</td>\n",
       "    </tr>\n",
       "    <tr>\n",
       "      <th>7</th>\n",
       "      <td>87777</td>\n",
       "      <td>1842</td>\n",
       "    </tr>\n",
       "    <tr>\n",
       "      <th>14</th>\n",
       "      <td>339</td>\n",
       "      <td>1932</td>\n",
       "    </tr>\n",
       "    <tr>\n",
       "      <th>15</th>\n",
       "      <td>339</td>\n",
       "      <td>1932</td>\n",
       "    </tr>\n",
       "  </tbody>\n",
       "</table>\n",
       "</div>"
      ],
      "text/plain": [
       "    MentorID  FirstMenteeYear\n",
       "1      33687             1997\n",
       "3      52639             1971\n",
       "7      87777             1842\n",
       "14       339             1932\n",
       "15       339             1932"
      ]
     },
     "execution_count": 11,
     "metadata": {},
     "output_type": "execute_result"
    }
   ],
   "source": [
    "Mentor_FirstYear.head(5)"
   ]
  },
  {
   "cell_type": "code",
   "execution_count": 12,
   "id": "9ba32b35-4b7c-465d-b5cf-a4d070e73482",
   "metadata": {
    "tags": []
   },
   "outputs": [
    {
     "data": {
      "text/plain": [
       "28964"
      ]
     },
     "execution_count": 12,
     "metadata": {},
     "output_type": "execute_result"
    }
   ],
   "source": [
    "len(Mentor_FirstYear)"
   ]
  },
  {
   "cell_type": "code",
   "execution_count": 13,
   "id": "26e0c9ae-52a6-4a66-b8aa-38476eeeb626",
   "metadata": {
    "tags": []
   },
   "outputs": [
    {
     "data": {
      "text/plain": [
       "<Axes: xlabel='FirstMenteeYear', ylabel='Probability'>"
      ]
     },
     "execution_count": 13,
     "metadata": {},
     "output_type": "execute_result"
    },
    {
     "data": {
      "image/png": "[encoded data removed]",
      "text/plain": [
       "<Figure size 640x480 with 1 Axes>"
      ]
     },
     "metadata": {},
     "output_type": "display_data"
    }
   ],
   "source": [
    "sns.histplot(data=Mentor_FirstYear, x=\"FirstMenteeYear\",binrange=[1800,2022],stat='probability',cumulative=True)"
   ]
  },
  {
   "cell_type": "markdown",
   "id": "69297a6e-bd81-45f3-a352-1799dadc831b",
   "metadata": {},
   "source": [
    "Check the result above"
   ]
  },
  {
   "cell_type": "code",
   "execution_count": 14,
   "id": "2a8e202d-3919-4a66-a2e8-5137f9cf39a3",
   "metadata": {
    "tags": []
   },
   "outputs": [],
   "source": [
    "Mentor_FirstYear.to_csv('Mentor_FirstMenteeYear.csv',index=0)"
   ]
  },
  {
   "cell_type": "markdown",
   "id": "37cb40d1",
   "metadata": {},
   "source": [
    "##### researcher"
   ]
  },
  {
   "cell_type": "code",
   "execution_count": 15,
   "id": "5806d825",
   "metadata": {
    "tags": []
   },
   "outputs": [],
   "source": [
    "PeoInfo = pd.read_csv('researcher.csv')"
   ]
  },
  {
   "cell_type": "code",
   "execution_count": 16,
   "id": "88f5625c",
   "metadata": {
    "tags": []
   },
   "outputs": [
    {
     "data": {
      "text/html": [
       "<div>\n",
       "<style scoped>\n",
       "    .dataframe tbody tr th:only-of-type {\n",
       "        vertical-align: middle;\n",
       "    }\n",
       "\n",
       "    .dataframe tbody tr th {\n",
       "        vertical-align: top;\n",
       "    }\n",
       "\n",
       "    .dataframe thead th {\n",
       "        text-align: right;\n",
       "    }\n",
       "</style>\n",
       "<table border=\"1\" class=\"dataframe\">\n",
       "  <thead>\n",
       "    <tr style=\"text-align: right;\">\n",
       "      <th></th>\n",
       "      <th>PID</th>\n",
       "      <th>FirstName</th>\n",
       "      <th>MiddleName</th>\n",
       "      <th>LastName</th>\n",
       "      <th>Institution</th>\n",
       "      <th>InstitutionMAGID</th>\n",
       "      <th>ResearchArea</th>\n",
       "      <th>ORCID</th>\n",
       "      <th>MAGAuthorID</th>\n",
       "    </tr>\n",
       "  </thead>\n",
       "  <tbody>\n",
       "    <tr>\n",
       "      <th>374728</th>\n",
       "      <td>406023</td>\n",
       "      <td>ZHE</td>\n",
       "      <td>NaN</td>\n",
       "      <td>CHENG</td>\n",
       "      <td>Georgia Institute of Technology</td>\n",
       "      <td>130701444.0</td>\n",
       "      <td>math</td>\n",
       "      <td>NaN</td>\n",
       "      <td>2.401828e+09</td>\n",
       "    </tr>\n",
       "  </tbody>\n",
       "</table>\n",
       "</div>"
      ],
      "text/plain": [
       "           PID FirstName MiddleName LastName                      Institution  \\\n",
       "374728  406023       ZHE        NaN    CHENG  Georgia Institute of Technology   \n",
       "\n",
       "        InstitutionMAGID ResearchArea ORCID   MAGAuthorID  \n",
       "374728       130701444.0         math   NaN  2.401828e+09  "
      ]
     },
     "execution_count": 16,
     "metadata": {},
     "output_type": "execute_result"
    }
   ],
   "source": [
    "PeoInfo.sample(1)"
   ]
  },
  {
   "cell_type": "code",
   "execution_count": 22,
   "id": "3ee65e45-57ec-41e9-99c8-3032c85cdb96",
   "metadata": {
    "tags": []
   },
   "outputs": [
    {
     "data": {
      "text/plain": [
       "(774733, 9)"
      ]
     },
     "execution_count": 22,
     "metadata": {},
     "output_type": "execute_result"
    }
   ],
   "source": [
    "PeoInfo.shape"
   ]
  },
  {
   "cell_type": "code",
   "execution_count": 17,
   "id": "c6d09f40-44c2-4cb8-9c73-1bd0e2c6e274",
   "metadata": {
    "tags": []
   },
   "outputs": [],
   "source": [
    "PeoInfo = PeoInfo.rename(columns={'PID':'MentorID'})"
   ]
  },
  {
   "cell_type": "code",
   "execution_count": 18,
   "id": "c6315747",
   "metadata": {
    "tags": []
   },
   "outputs": [],
   "source": [
    "Mentor_FirstYear = Mentor_FirstYear.merge(PeoInfo, on='MentorID',how='left')[['MentorID','MAGAuthorID','FirstMenteeYear']]"
   ]
  },
  {
   "cell_type": "code",
   "execution_count": 19,
   "id": "3ea72420",
   "metadata": {
    "tags": []
   },
   "outputs": [],
   "source": [
    "Mentor_FirstYear = Mentor_FirstYear[~Mentor_FirstYear.MAGAuthorID.isnull()]"
   ]
  },
  {
   "cell_type": "code",
   "execution_count": 20,
   "id": "dc1580f2-1220-4e5b-adf4-b91d56d71df4",
   "metadata": {
    "tags": []
   },
   "outputs": [
    {
     "data": {
      "text/html": [
       "<div>\n",
       "<style scoped>\n",
       "    .dataframe tbody tr th:only-of-type {\n",
       "        vertical-align: middle;\n",
       "    }\n",
       "\n",
       "    .dataframe tbody tr th {\n",
       "        vertical-align: top;\n",
       "    }\n",
       "\n",
       "    .dataframe thead th {\n",
       "        text-align: right;\n",
       "    }\n",
       "</style>\n",
       "<table border=\"1\" class=\"dataframe\">\n",
       "  <thead>\n",
       "    <tr style=\"text-align: right;\">\n",
       "      <th></th>\n",
       "      <th>MentorID</th>\n",
       "      <th>MAGAuthorID</th>\n",
       "      <th>FirstMenteeYear</th>\n",
       "    </tr>\n",
       "  </thead>\n",
       "  <tbody>\n",
       "    <tr>\n",
       "      <th>1</th>\n",
       "      <td>52639</td>\n",
       "      <td>2.619948e+09</td>\n",
       "      <td>1971</td>\n",
       "    </tr>\n",
       "    <tr>\n",
       "      <th>3</th>\n",
       "      <td>339</td>\n",
       "      <td>2.165067e+09</td>\n",
       "      <td>1932</td>\n",
       "    </tr>\n",
       "    <tr>\n",
       "      <th>4</th>\n",
       "      <td>339</td>\n",
       "      <td>2.165067e+09</td>\n",
       "      <td>1932</td>\n",
       "    </tr>\n",
       "    <tr>\n",
       "      <th>5</th>\n",
       "      <td>51265</td>\n",
       "      <td>1.987742e+09</td>\n",
       "      <td>1982</td>\n",
       "    </tr>\n",
       "    <tr>\n",
       "      <th>6</th>\n",
       "      <td>189</td>\n",
       "      <td>2.152986e+09</td>\n",
       "      <td>1910</td>\n",
       "    </tr>\n",
       "    <tr>\n",
       "      <th>...</th>\n",
       "      <td>...</td>\n",
       "      <td>...</td>\n",
       "      <td>...</td>\n",
       "    </tr>\n",
       "    <tr>\n",
       "      <th>28958</th>\n",
       "      <td>839557</td>\n",
       "      <td>2.079478e+09</td>\n",
       "      <td>1994</td>\n",
       "    </tr>\n",
       "    <tr>\n",
       "      <th>28960</th>\n",
       "      <td>351345</td>\n",
       "      <td>2.143182e+09</td>\n",
       "      <td>1978</td>\n",
       "    </tr>\n",
       "    <tr>\n",
       "      <th>28961</th>\n",
       "      <td>351345</td>\n",
       "      <td>2.143182e+09</td>\n",
       "      <td>1978</td>\n",
       "    </tr>\n",
       "    <tr>\n",
       "      <th>28962</th>\n",
       "      <td>97262</td>\n",
       "      <td>2.155241e+09</td>\n",
       "      <td>1992</td>\n",
       "    </tr>\n",
       "    <tr>\n",
       "      <th>28963</th>\n",
       "      <td>287445</td>\n",
       "      <td>1.829128e+09</td>\n",
       "      <td>1991</td>\n",
       "    </tr>\n",
       "  </tbody>\n",
       "</table>\n",
       "<p>25313 rows × 3 columns</p>\n",
       "</div>"
      ],
      "text/plain": [
       "       MentorID   MAGAuthorID  FirstMenteeYear\n",
       "1         52639  2.619948e+09             1971\n",
       "3           339  2.165067e+09             1932\n",
       "4           339  2.165067e+09             1932\n",
       "5         51265  1.987742e+09             1982\n",
       "6           189  2.152986e+09             1910\n",
       "...         ...           ...              ...\n",
       "28958    839557  2.079478e+09             1994\n",
       "28960    351345  2.143182e+09             1978\n",
       "28961    351345  2.143182e+09             1978\n",
       "28962     97262  2.155241e+09             1992\n",
       "28963    287445  1.829128e+09             1991\n",
       "\n",
       "[25313 rows x 3 columns]"
      ]
     },
     "execution_count": 20,
     "metadata": {},
     "output_type": "execute_result"
    }
   ],
   "source": [
    "Mentor_FirstYear"
   ]
  },
  {
   "cell_type": "code",
   "execution_count": 23,
   "id": "47fceebe",
   "metadata": {
    "tags": []
   },
   "outputs": [],
   "source": [
    "magId = [int(k) for k in list(Mentor_FirstYear.MAGAuthorID)]"
   ]
  },
  {
   "cell_type": "code",
   "execution_count": 24,
   "id": "c29d968f-9a78-4c9e-9c79-9a2e99d7bc12",
   "metadata": {
    "tags": []
   },
   "outputs": [],
   "source": [
    "from sqlalchemy import create_engine\n",
    "engine = create_engine(\"mysql+pymysql://{user}:{pw}@{host}:{port}/{db}?charset=utf8mb4\"\n",
    "                       .format(user=\"openalex_ym\",\n",
    "                               pw=\"openalex.ym\",\n",
    "                               host=\"172.18.18.167\",\n",
    "                               port=3306,\n",
    "                               db=\"openalex2022\"),\n",
    "                       )"
   ]
  },
  {
   "cell_type": "code",
   "execution_count": 25,
   "id": "d344e0d4-b2e5-4305-82cb-2f8523fca9b1",
   "metadata": {
    "tags": []
   },
   "outputs": [],
   "source": [
    "magId_groups = []\n",
    "interval = 5000\n",
    "start_point = 0\n",
    "while True:\n",
    "    end_point = start_point + interval\n",
    "    try:\n",
    "        temp = magId[start_point:end_point]\n",
    "        magId_groups.append(temp)\n",
    "    except:\n",
    "        temp = magId[start_point:]\n",
    "        magId_groups.append(temp)\n",
    "        \n",
    "    start_point = end_point\n",
    "    if end_point>len(magId):\n",
    "        break"
   ]
  },
  {
   "cell_type": "code",
   "execution_count": 26,
   "id": "52a924e2-3a3c-4871-85c0-000d0b348e3a",
   "metadata": {
    "tags": []
   },
   "outputs": [
    {
     "name": "stdout",
     "output_type": "stream",
     "text": [
      "6\n"
     ]
    }
   ],
   "source": [
    "print(len(magId_groups))"
   ]
  },
  {
   "cell_type": "code",
   "execution_count": 27,
   "id": "2d71d58c-4358-47fd-bf77-378e1709b29e",
   "metadata": {
    "tags": []
   },
   "outputs": [],
   "source": [
    "l = len(magId_groups)\n",
    "for i in range(l):\n",
    "    temp =  magId_groups[i]\n",
    "    sql_query = \"\"\"select authors_ids.author_id, authors_ids.mag \n",
    "\n",
    "                    from authors_ids \n",
    "\n",
    "                    where authors_ids.mag in {}\n",
    "                    \"\"\".format(tuple(temp))\n",
    "\n",
    "\n",
    "    data = pd.read_sql(sql_query, con=engine)\n",
    "    # merge data\n",
    "    if i==0:\n",
    "        tp = data\n",
    "    else:\n",
    "        tp = pd.concat((tp,data))\n",
    "\n",
    "data = tp"
   ]
  },
  {
   "cell_type": "code",
   "execution_count": 28,
   "id": "f1437b55-75e4-4841-b9a6-81327b69d7ff",
   "metadata": {
    "tags": []
   },
   "outputs": [],
   "source": [
    "data = data.rename(columns={'mag':'MAGAuthorID'})"
   ]
  },
  {
   "cell_type": "code",
   "execution_count": 29,
   "id": "515e30b4-2d4a-4ee6-bf2a-6732548c6c47",
   "metadata": {
    "tags": []
   },
   "outputs": [
    {
     "data": {
      "text/html": [
       "<div>\n",
       "<style scoped>\n",
       "    .dataframe tbody tr th:only-of-type {\n",
       "        vertical-align: middle;\n",
       "    }\n",
       "\n",
       "    .dataframe tbody tr th {\n",
       "        vertical-align: top;\n",
       "    }\n",
       "\n",
       "    .dataframe thead th {\n",
       "        text-align: right;\n",
       "    }\n",
       "</style>\n",
       "<table border=\"1\" class=\"dataframe\">\n",
       "  <thead>\n",
       "    <tr style=\"text-align: right;\">\n",
       "      <th></th>\n",
       "      <th>author_id</th>\n",
       "      <th>MAGAuthorID</th>\n",
       "    </tr>\n",
       "  </thead>\n",
       "  <tbody>\n",
       "    <tr>\n",
       "      <th>0</th>\n",
       "      <td>A367921</td>\n",
       "      <td>367921</td>\n",
       "    </tr>\n",
       "    <tr>\n",
       "      <th>1</th>\n",
       "      <td>A1199224</td>\n",
       "      <td>1199224</td>\n",
       "    </tr>\n",
       "    <tr>\n",
       "      <th>2</th>\n",
       "      <td>A1495678</td>\n",
       "      <td>1495678</td>\n",
       "    </tr>\n",
       "    <tr>\n",
       "      <th>3</th>\n",
       "      <td>A2191649</td>\n",
       "      <td>2191649</td>\n",
       "    </tr>\n",
       "    <tr>\n",
       "      <th>4</th>\n",
       "      <td>A2229241</td>\n",
       "      <td>2229241</td>\n",
       "    </tr>\n",
       "    <tr>\n",
       "      <th>...</th>\n",
       "      <td>...</td>\n",
       "      <td>...</td>\n",
       "    </tr>\n",
       "    <tr>\n",
       "      <th>287</th>\n",
       "      <td>A2957634552</td>\n",
       "      <td>2957634552</td>\n",
       "    </tr>\n",
       "    <tr>\n",
       "      <th>288</th>\n",
       "      <td>A2984796274</td>\n",
       "      <td>2984796274</td>\n",
       "    </tr>\n",
       "    <tr>\n",
       "      <th>289</th>\n",
       "      <td>A3032105808</td>\n",
       "      <td>3032105808</td>\n",
       "    </tr>\n",
       "    <tr>\n",
       "      <th>290</th>\n",
       "      <td>A3045494378</td>\n",
       "      <td>3045494378</td>\n",
       "    </tr>\n",
       "    <tr>\n",
       "      <th>291</th>\n",
       "      <td>A3065901580</td>\n",
       "      <td>3065901580</td>\n",
       "    </tr>\n",
       "  </tbody>\n",
       "</table>\n",
       "<p>22592 rows × 2 columns</p>\n",
       "</div>"
      ],
      "text/plain": [
       "       author_id  MAGAuthorID\n",
       "0        A367921       367921\n",
       "1       A1199224      1199224\n",
       "2       A1495678      1495678\n",
       "3       A2191649      2191649\n",
       "4       A2229241      2229241\n",
       "..           ...          ...\n",
       "287  A2957634552   2957634552\n",
       "288  A2984796274   2984796274\n",
       "289  A3032105808   3032105808\n",
       "290  A3045494378   3045494378\n",
       "291  A3065901580   3065901580\n",
       "\n",
       "[22592 rows x 2 columns]"
      ]
     },
     "execution_count": 29,
     "metadata": {},
     "output_type": "execute_result"
    }
   ],
   "source": [
    "data"
   ]
  },
  {
   "cell_type": "code",
   "execution_count": 30,
   "id": "3f5cbe09-b177-465c-8949-e2e6d265e362",
   "metadata": {
    "tags": []
   },
   "outputs": [],
   "source": [
    "data = data.merge(Mentor_FirstYear,on='MAGAuthorID',how='left')"
   ]
  },
  {
   "cell_type": "code",
   "execution_count": 31,
   "id": "686c3f22-8b14-4cbe-99f6-edab13d8dca1",
   "metadata": {
    "tags": []
   },
   "outputs": [],
   "source": [
    "data = data.rename(columns={'MentorID':'AFTMentorID'})"
   ]
  },
  {
   "cell_type": "code",
   "execution_count": 32,
   "id": "dae01f99-e297-4f86-a1a9-d84b392893e8",
   "metadata": {
    "tags": []
   },
   "outputs": [
    {
     "data": {
      "text/html": [
       "<div>\n",
       "<style scoped>\n",
       "    .dataframe tbody tr th:only-of-type {\n",
       "        vertical-align: middle;\n",
       "    }\n",
       "\n",
       "    .dataframe tbody tr th {\n",
       "        vertical-align: top;\n",
       "    }\n",
       "\n",
       "    .dataframe thead th {\n",
       "        text-align: right;\n",
       "    }\n",
       "</style>\n",
       "<table border=\"1\" class=\"dataframe\">\n",
       "  <thead>\n",
       "    <tr style=\"text-align: right;\">\n",
       "      <th></th>\n",
       "      <th>author_id</th>\n",
       "      <th>MAGAuthorID</th>\n",
       "      <th>AFTMentorID</th>\n",
       "      <th>FirstMenteeYear</th>\n",
       "    </tr>\n",
       "  </thead>\n",
       "  <tbody>\n",
       "    <tr>\n",
       "      <th>0</th>\n",
       "      <td>A367921</td>\n",
       "      <td>367921</td>\n",
       "      <td>2488</td>\n",
       "      <td>2000</td>\n",
       "    </tr>\n",
       "    <tr>\n",
       "      <th>1</th>\n",
       "      <td>A1199224</td>\n",
       "      <td>1199224</td>\n",
       "      <td>95661</td>\n",
       "      <td>2009</td>\n",
       "    </tr>\n",
       "    <tr>\n",
       "      <th>2</th>\n",
       "      <td>A1495678</td>\n",
       "      <td>1495678</td>\n",
       "      <td>51349</td>\n",
       "      <td>1963</td>\n",
       "    </tr>\n",
       "    <tr>\n",
       "      <th>3</th>\n",
       "      <td>A2191649</td>\n",
       "      <td>2191649</td>\n",
       "      <td>62912</td>\n",
       "      <td>2005</td>\n",
       "    </tr>\n",
       "    <tr>\n",
       "      <th>4</th>\n",
       "      <td>A2191649</td>\n",
       "      <td>2191649</td>\n",
       "      <td>62912</td>\n",
       "      <td>2005</td>\n",
       "    </tr>\n",
       "    <tr>\n",
       "      <th>...</th>\n",
       "      <td>...</td>\n",
       "      <td>...</td>\n",
       "      <td>...</td>\n",
       "      <td>...</td>\n",
       "    </tr>\n",
       "    <tr>\n",
       "      <th>25722</th>\n",
       "      <td>A2957634552</td>\n",
       "      <td>2957634552</td>\n",
       "      <td>737952</td>\n",
       "      <td>2005</td>\n",
       "    </tr>\n",
       "    <tr>\n",
       "      <th>25723</th>\n",
       "      <td>A2984796274</td>\n",
       "      <td>2984796274</td>\n",
       "      <td>59514</td>\n",
       "      <td>1963</td>\n",
       "    </tr>\n",
       "    <tr>\n",
       "      <th>25724</th>\n",
       "      <td>A3032105808</td>\n",
       "      <td>3032105808</td>\n",
       "      <td>837913</td>\n",
       "      <td>2012</td>\n",
       "    </tr>\n",
       "    <tr>\n",
       "      <th>25725</th>\n",
       "      <td>A3045494378</td>\n",
       "      <td>3045494378</td>\n",
       "      <td>834800</td>\n",
       "      <td>2012</td>\n",
       "    </tr>\n",
       "    <tr>\n",
       "      <th>25726</th>\n",
       "      <td>A3065901580</td>\n",
       "      <td>3065901580</td>\n",
       "      <td>835464</td>\n",
       "      <td>1954</td>\n",
       "    </tr>\n",
       "  </tbody>\n",
       "</table>\n",
       "<p>25727 rows × 4 columns</p>\n",
       "</div>"
      ],
      "text/plain": [
       "         author_id  MAGAuthorID  AFTMentorID  FirstMenteeYear\n",
       "0          A367921       367921         2488             2000\n",
       "1         A1199224      1199224        95661             2009\n",
       "2         A1495678      1495678        51349             1963\n",
       "3         A2191649      2191649        62912             2005\n",
       "4         A2191649      2191649        62912             2005\n",
       "...            ...          ...          ...              ...\n",
       "25722  A2957634552   2957634552       737952             2005\n",
       "25723  A2984796274   2984796274        59514             1963\n",
       "25724  A3032105808   3032105808       837913             2012\n",
       "25725  A3045494378   3045494378       834800             2012\n",
       "25726  A3065901580   3065901580       835464             1954\n",
       "\n",
       "[25727 rows x 4 columns]"
      ]
     },
     "execution_count": 32,
     "metadata": {},
     "output_type": "execute_result"
    }
   ],
   "source": [
    "data"
   ]
  },
  {
   "cell_type": "code",
   "execution_count": 33,
   "id": "0f4f1bdc-f105-4e5e-895b-4098abcec1b9",
   "metadata": {
    "tags": []
   },
   "outputs": [],
   "source": [
    "data.to_csv('target_author.csv',index=0)"
   ]
  },
  {
   "cell_type": "code",
   "execution_count": null,
   "id": "45cb8a7b-3734-49a6-bae8-02ba4e4d983d",
   "metadata": {},
   "outputs": [],
   "source": []
  }
 ],
 "metadata": {
  "kernelspec": {
   "display_name": "myenv",
   "language": "python",
   "name": "myenv"
  },
  "language_info": {
   "codemirror_mode": {
    "name": "ipython",
    "version": 3
   },
   "file_extension": ".py",
   "mimetype": "text/x-python",
   "name": "python",
   "nbconvert_exporter": "python",
   "pygments_lexer": "ipython3",
   "version": "3.11.4"
  }
 },
 "nbformat": 4,
 "nbformat_minor": 5
}
