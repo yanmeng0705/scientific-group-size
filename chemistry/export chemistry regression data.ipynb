{
 "cells": [
  {
   "cell_type": "code",
   "execution_count": 1,
   "id": "2a50a87a",
   "metadata": {},
   "outputs": [],
   "source": [
    "import pandas as pd\n",
    "import numpy as np\n",
    "import csv\n",
    "import pickle\n",
    "from collections import Counter\n",
    "import matplotlib.pyplot as plt\n",
    "import powerlaw,math\n",
    "import os\n",
    "import scipy.stats as stats\n",
    "import random\n",
    "from numpy import polyfit, poly1d"
   ]
  },
  {
   "cell_type": "markdown",
   "id": "cc84da8b",
   "metadata": {},
   "source": [
    "### 导出回归数据 (export regression data)"
   ]
  },
  {
   "cell_type": "code",
   "execution_count": 73,
   "id": "964a78cb",
   "metadata": {},
   "outputs": [],
   "source": [
    "neuro = pd.read_csv('chemistry_0123.csv')"
   ]
  },
  {
   "cell_type": "code",
   "execution_count": 74,
   "id": "84d635fb",
   "metadata": {
    "scrolled": true
   },
   "outputs": [
    {
     "data": {
      "text/plain": [
       "25138"
      ]
     },
     "execution_count": 74,
     "metadata": {},
     "output_type": "execute_result"
    }
   ],
   "source": [
    "len(neuro)"
   ]
  },
  {
   "cell_type": "markdown",
   "id": "b0fa2e36",
   "metadata": {},
   "source": [
    "增加一列是否可以进入top5% (column : top5% or not)"
   ]
  },
  {
   "cell_type": "code",
   "execution_count": 77,
   "id": "1d048fa0",
   "metadata": {},
   "outputs": [],
   "source": [
    "neuro = neuro[(neuro.StopYear<=1995)&(neuro.StopYear>=1960)]"
   ]
  },
  {
   "cell_type": "code",
   "execution_count": 78,
   "id": "058b78a9",
   "metadata": {},
   "outputs": [
    {
     "name": "stdout",
     "output_type": "stream",
     "text": [
      "1960\n",
      "1995\n"
     ]
    }
   ],
   "source": [
    "tp = neuro.StopYear\n",
    "print(min(tp))\n",
    "print(max(tp))"
   ]
  },
  {
   "cell_type": "code",
   "execution_count": 79,
   "id": "a8b9058a",
   "metadata": {},
   "outputs": [
    {
     "name": "stdout",
     "output_type": "stream",
     "text": [
      "702.8833333333333\n",
      "873.8888888888888\n",
      "946.5121951219513\n",
      "859.5641025641024\n"
     ]
    }
   ],
   "source": [
    "interval = [[1960,1970],[1970,1980],[1980,1990],[1985,1995]]\n",
    "Top = {}\n",
    "for itl in interval:\n",
    "    i0 = itl[0];i1 = itl[1]\n",
    "    temp = np.array(neuro[['CID','YearlyCitationOfMentee']][(neuro.StopYear>=i0)&(neuro.StopYear<=i1)])\n",
    "    CID = temp[:,0]\n",
    "    YC = temp[:,1]\n",
    "    mm = sorted(temp,key = lambda x:x[1],reverse=1)\n",
    "    \n",
    "    pt = 0.05   #进入 top 5%\n",
    "    th = mm[round(len(mm)*pt)][1]\n",
    "    print(th)\n",
    "    for i in range(len(CID)):\n",
    "        if YC[i]>=th:\n",
    "            Top[CID[i]]=1\n",
    "        else:\n",
    "            Top[CID[i]]=0"
   ]
  },
  {
   "cell_type": "code",
   "execution_count": 80,
   "id": "0b14d780",
   "metadata": {},
   "outputs": [],
   "source": [
    "CID = neuro['CID']\n",
    "b_or_s = []\n",
    "for k in CID:\n",
    "    b_or_s.append(Top[k])\n",
    "neuro['Top25'] = b_or_s"
   ]
  },
  {
   "cell_type": "code",
   "execution_count": 81,
   "id": "8df56f00",
   "metadata": {},
   "outputs": [
    {
     "data": {
      "text/plain": [
       "(18404, 32)"
      ]
     },
     "execution_count": 81,
     "metadata": {},
     "output_type": "execute_result"
    }
   ],
   "source": [
    "neuro.shape"
   ]
  },
  {
   "cell_type": "code",
   "execution_count": 82,
   "id": "92097067",
   "metadata": {},
   "outputs": [],
   "source": [
    "neuro_re = neuro[['MenteeID', 'MentorID','StopYear','BirthYearOfMentee','First5YearPubsOfMentee',\n",
    "                  'First5YearCitationOfMentee','First5YearCollaOfMentee','CollaPubsOfWithMentor',\n",
    "                  'BigOrSmall',\n",
    "                  'TotalPubsOfMentor','TotalCitationOfMentor','TotalCollaOfMentor','CareerAgeOfMentorInTraining',\n",
    "                  'YearlyPubsOfMentor','YearlyCitationOfMentor','YearllyCollaOfMentor','PubsOfMentorInTraning',\n",
    "        \n",
    "                  'Survival0','Survival1','YearlyCitationOfMentee','Top25','NumOfMenteesOfTheMenteeIn20']][(neuro.CareerAgeOfMentorInTraining<50)&(neuro.CareerAgeOfMentorInTraining>0)\n",
    "                                             &(neuro.BigOrSmall!=-1)]\n",
    "#neuro_era.BigOrSmall!=2)] #(neuro_era.TotalPubsOfMentor>0)&(neuro_era.CareerAgeOfMentorInTraining>-1)\n",
    "                                    #(neuro_era.CareerAgeOfMentorInTraining<50)"
   ]
  },
  {
   "cell_type": "code",
   "execution_count": 83,
   "id": "209dd92e",
   "metadata": {
    "scrolled": true
   },
   "outputs": [
    {
     "data": {
      "text/plain": [
       "(9193, 22)"
      ]
     },
     "execution_count": 83,
     "metadata": {},
     "output_type": "execute_result"
    }
   ],
   "source": [
    "neuro_re.shape"
   ]
  },
  {
   "cell_type": "code",
   "execution_count": 84,
   "id": "00a5ded2",
   "metadata": {},
   "outputs": [],
   "source": [
    "# neuro_re = neuro_re[(neuro_re.StopYear<=1995)&(neuro_re.StopYear>=1970)]"
   ]
  },
  {
   "cell_type": "code",
   "execution_count": 85,
   "id": "e9e9b9bd",
   "metadata": {
    "scrolled": true
   },
   "outputs": [
    {
     "name": "stdout",
     "output_type": "stream",
     "text": [
      "0.5200282752120641\n",
      "0.7670236411396242\n"
     ]
    }
   ],
   "source": [
    "#测试大小团队中的生存率 (test survival rate)\n",
    "all_big = neuro_re['MenteeID'][neuro_re.BigOrSmall==1]\n",
    "all_small = neuro_re['MenteeID'][neuro_re.BigOrSmall==0]\n",
    "sb = neuro_re['MenteeID'][neuro_re.Survival0==1]\n",
    "sur_big = all_big[all_big.isin(sb)]\n",
    "sur_small = all_small[all_small.isin(sb)]\n",
    "print(len(sur_big)/len(all_big))\n",
    "print(len(sur_small)/len(all_small))"
   ]
  },
  {
   "cell_type": "markdown",
   "id": "22b4dc5e",
   "metadata": {},
   "source": [
    "导出数据 (export data)"
   ]
  },
  {
   "cell_type": "code",
   "execution_count": 86,
   "id": "896f16b2",
   "metadata": {},
   "outputs": [],
   "source": [
    "neuro_re.to_csv('test0_0.25.csv',index=0)"
   ]
  },
  {
   "cell_type": "markdown",
   "id": "1df98bcc",
   "metadata": {},
   "source": [
    "批量输出 cem 匹配截断点 (export cutting points for coarsen matching)"
   ]
  },
  {
   "cell_type": "code",
   "execution_count": 87,
   "id": "b4e72bed",
   "metadata": {},
   "outputs": [],
   "source": [
    "cutpoint_list = ['First5YearPubsOfMentee','First5YearCitationOfMentee','First5YearCollaOfMentee',\n",
    "                 'CollaPubsOfWithMentor',\n",
    "                     'TotalPubsOfMentor','TotalCitationOfMentor','TotalCollaOfMentor',\n",
    "                     'YearlyPubsOfMentor','YearlyCitationOfMentor','YearllyCollaOfMentor',\n",
    "                 'PubsOfMentorInTraning']"
   ]
  },
  {
   "cell_type": "code",
   "execution_count": 88,
   "id": "b93a14d4",
   "metadata": {
    "scrolled": true
   },
   "outputs": [
    {
     "name": "stdout",
     "output_type": "stream",
     "text": [
      "First5YearPubsOfMentee\n",
      "[0, 3.0, 8.0, 134]\n",
      "First5YearCitationOfMentee\n",
      "[0, 56.0, 284.0, 232661]\n",
      "First5YearCollaOfMentee\n",
      "[0, 4.0, 11.0, 294]\n",
      "CollaPubsOfWithMentor\n",
      "[0, 0.0, 1.0, 77]\n",
      "TotalPubsOfMentor\n",
      "[0, 78.0, 237.0, 3290]\n",
      "TotalCitationOfMentor\n",
      "[0, 2058.0, 9921.0, 309472]\n",
      "TotalCollaOfMentor\n",
      "[0, 76.0, 250.0, 4303]\n",
      "YearlyPubsOfMentor\n",
      "[0.0, 1.8113207547169807, 4.531914893617022, 80.24390243902441]\n",
      "YearlyCitationOfMentor\n",
      "[0.0, 51.0, 184.82142857142856, 6393.69696969697]\n",
      "YearllyCollaOfMentor\n",
      "[0.0, 1.85, 4.760695652173912, 71.07843137254902]\n",
      "PubsOfMentorInTraning\n",
      "[0, 9.0, 32.0, 561]\n"
     ]
    }
   ],
   "source": [
    "CutPoint = pd.DataFrame()\n",
    "for k in cutpoint_list:\n",
    "#     tp = np.array(neuro_re[k])\n",
    "    tp = np.array(neuro[k])\n",
    "    # plt.hist(tp,range=[0,1000],bins=100)\n",
    "    # print(a)\n",
    "    print(k)\n",
    "    qt = [0,0.3,0.6,1]\n",
    "    cut = []\n",
    "    for q in qt:\n",
    "        cut.append(np.quantile(tp,q))\n",
    "    CutPoint[k] = cut    \n",
    "#     print(cut)"
   ]
  },
  {
   "cell_type": "code",
   "execution_count": 2,
   "id": "18f9c41a",
   "metadata": {},
   "outputs": [],
   "source": [
    "#手动补充和修正0特多的变量的cutpoint (minor adjustment for cutting points)\n",
    "cp = ['CollaPubsOfWithMentor']\n",
    "for k in cp:\n",
    "#     tp = np.array(neuro_re[k])\n",
    "    tp = np.array(neuro[k])\n",
    "    tp = tp[tp>0]\n",
    "    # print(a)\n",
    "#     print(k)\n",
    "    qt = [0,0.5,1]\n",
    "    cut = [0]\n",
    "    for q in qt:\n",
    "        cut.append(np.quantile(tp,q))\n",
    "#     print(cut)\n",
    "    CutPoint[k] = cut\n",
    "CutPoint['CareerAgeOfMentorInTraining'] =  [0,15,25,50]\n",
    "\n",
    "# CutPoint['TotalPubsOfMentor'] =  [0, 1000, 6000, 20854.0, 309472]\n",
    "CutPoint['TotalCitationOfMentor'] =  [0, 100, 3000,309472]\n",
    "# CutPoint['TotalCollaOfMentor'] =  [0, 50, 200, 526.0, 12568]\n",
    "CutPoint['YearllyCollaOfMentor'] =  [0, 2, 8, 88]\n",
    "# CutPoint['PubsOfMentorInTraning'] =  [0, 6,20,500]"
   ]
  },
  {
   "cell_type": "markdown",
   "id": "d4948c22",
   "metadata": {},
   "source": [
    "导出数据 (export data)"
   ]
  },
  {
   "cell_type": "code",
   "execution_count": 92,
   "id": "906ca277",
   "metadata": {},
   "outputs": [],
   "source": [
    "CutPoint.to_csv('CutPoint0_0.25.csv',index=0)"
   ]
  },
  {
   "cell_type": "markdown",
   "id": "58838187",
   "metadata": {},
   "source": [
    "### 生存下来的学生的数据 (data of survived mentees)"
   ]
  },
  {
   "cell_type": "code",
   "execution_count": 94,
   "id": "ef95cdcc",
   "metadata": {},
   "outputs": [],
   "source": [
    "neuro_re1 = neuro[['MenteeID', 'MentorID','StopYear','BirthYearOfMentee','First5YearPubsOfMentee',\n",
    "                  'First5YearCitationOfMentee','First5YearCollaOfMentee','CollaPubsOfWithMentor',\n",
    "                  'BigOrSmall',\n",
    "                  'TotalPubsOfMentor','TotalCitationOfMentor','TotalCollaOfMentor','CareerAgeOfMentorInTraining',\n",
    "                  'YearlyPubsOfMentor','YearlyCitationOfMentor','YearllyCollaOfMentor','PubsOfMentorInTraning',\n",
    "        \n",
    "                  'Survival0','Survival1','YearlyCitationOfMentee','Top25',\n",
    "                   'NumOfMenteesOfTheMenteeIn20']][(neuro.CareerAgeOfMentorInTraining<50)&(neuro.CareerAgeOfMentorInTraining>0)\n",
    "                                             &(neuro.BigOrSmall!=-1)&(neuro.Survival0==1)]\n",
    "    "
   ]
  },
  {
   "cell_type": "code",
   "execution_count": 95,
   "id": "4129fd9a",
   "metadata": {},
   "outputs": [
    {
     "data": {
      "text/plain": [
       "(6003, 22)"
      ]
     },
     "execution_count": 95,
     "metadata": {},
     "output_type": "execute_result"
    }
   ],
   "source": [
    "neuro_re1.shape"
   ]
  },
  {
   "cell_type": "code",
   "execution_count": 96,
   "id": "257f3d80",
   "metadata": {},
   "outputs": [
    {
     "name": "stdout",
     "output_type": "stream",
     "text": [
      "First5YearPubsOfMentee\n",
      "[0, 5.0, 10.0, 134]\n",
      "First5YearCitationOfMentee\n",
      "[0, 115.0, 353.0, 72767]\n",
      "First5YearCollaOfMentee\n",
      "[0, 6.0, 13.0, 170]\n",
      "CollaPubsOfWithMentor\n",
      "[0, 0.0, 2.0, 56]\n",
      "TotalPubsOfMentor\n",
      "[1, 106.0, 278.0, 2791]\n",
      "TotalCitationOfMentor\n",
      "[0, 3273.7999999999997, 11752.0, 283698]\n",
      "TotalCollaOfMentor\n",
      "[1, 104.0, 281.0, 4303]\n",
      "YearlyPubsOfMentor\n",
      "[0.04166666666666666, 2.2289408866995064, 5.063333333333333, 42.473684210526315]\n",
      "YearlyCitationOfMentor\n",
      "[0.0, 69.3793103448276, 221.73584905660374, 5959.452380952382]\n",
      "YearllyCollaOfMentor\n",
      "[0.017543859649122806, 2.248630136986301, 5.1124183006535935, 70.24]\n",
      "PubsOfMentorInTraning\n",
      "[0, 14.0, 37.0, 561]\n"
     ]
    }
   ],
   "source": [
    "CutPoint1 = pd.DataFrame()\n",
    "for k in cutpoint_list:\n",
    "    tp = np.array(neuro_re1[k])\n",
    "    # plt.hist(tp,range=[0,1000],bins=100)\n",
    "    # print(a)\n",
    "#     print(k)\n",
    "    qt = [0,0.3,0.6,1]\n",
    "    cut = []\n",
    "    for q in qt:\n",
    "        cut.append(np.quantile(tp,q))\n",
    "    CutPoint1[k] = cut    \n",
    "#     print(cut)"
   ]
  },
  {
   "cell_type": "code",
   "execution_count": 98,
   "id": "96edb807",
   "metadata": {},
   "outputs": [
    {
     "name": "stdout",
     "output_type": "stream",
     "text": [
      "CollaPubsOfWithMentor\n",
      "[0, 1, 4.0, 77]\n"
     ]
    }
   ],
   "source": [
    "#手动补充和修正0特多的变量的cutpoint (minor adjustment for cutting point)\n",
    "cp = ['CollaPubsOfWithMentor']\n",
    "for k in cp:\n",
    "#     tp = np.array(neuro_re[k])\n",
    "    tp = np.array(neuro[k])\n",
    "    tp = tp[tp>0]\n",
    "    # print(a)\n",
    "#     print(k)\n",
    "    qt = [0,0.5,1]\n",
    "    cut = [0]\n",
    "    for q in qt:\n",
    "        cut.append(np.quantile(tp,q))\n",
    "#     print(cut)\n",
    "    CutPoint1[k] = cut\n",
    "CutPoint1['CareerAgeOfMentorInTraining'] =  [0,15,25,50]\n",
    "\n",
    "# CutPoint['TotalPubsOfMentor'] =  [0, 1000, 6000, 20854.0, 309472]\n",
    "CutPoint1['TotalCitationOfMentor'] =  [0, 2000, 5000,309472]\n",
    "# CutPoint['TotalCollaOfMentor'] =  [0, 50, 200, 526.0, 12568]\n",
    "# CutPoint['YearllyCollaOfMentor'] =  [0, 2, 8, 88]\n",
    "# CutPoint['PubsOfMentorInTraning'] =  [0, 6,19,300]"
   ]
  },
  {
   "cell_type": "markdown",
   "id": "f46923d3",
   "metadata": {},
   "source": [
    "导出数据 (export data)"
   ]
  },
  {
   "cell_type": "code",
   "execution_count": 99,
   "id": "f726a3e4",
   "metadata": {},
   "outputs": [],
   "source": [
    "neuro_re1.to_csv('test1_0.25.csv',index=0)"
   ]
  },
  {
   "cell_type": "code",
   "execution_count": 100,
   "id": "30bbceaf",
   "metadata": {},
   "outputs": [],
   "source": [
    "CutPoint1.to_csv('CutPoint1_0.25.csv',index=0)"
   ]
  },
  {
   "cell_type": "code",
   "execution_count": null,
   "id": "d5835bb2",
   "metadata": {},
   "outputs": [],
   "source": []
  }
 ],
 "metadata": {
  "kernelspec": {
   "display_name": "Python 3",
   "language": "python",
   "name": "python3"
  },
  "language_info": {
   "codemirror_mode": {
    "name": "ipython",
    "version": 3
   },
   "file_extension": ".py",
   "mimetype": "text/x-python",
   "name": "python",
   "nbconvert_exporter": "python",
   "pygments_lexer": "ipython3",
   "version": "3.8.3"
  }
 },
 "nbformat": 4,
 "nbformat_minor": 5
}
