{
 "cells": [
  {
   "cell_type": "code",
   "execution_count": 1,
   "id": "96d3faee-19af-40f2-8217-217fc4b4d5d4",
   "metadata": {
    "tags": []
   },
   "outputs": [],
   "source": [
    "import pandas as pd\n",
    "import os"
   ]
  },
  {
   "cell_type": "code",
   "execution_count": 2,
   "id": "4628f58c-c024-4d26-99ee-25c84d98e617",
   "metadata": {
    "tags": []
   },
   "outputs": [
    {
     "name": "stdout",
     "output_type": "stream",
     "text": [
      "(612439, 14)\n",
      "(830768, 14)\n"
     ]
    }
   ],
   "source": [
    "files = os.listdir('groupsize')\n",
    "Data = pd.DataFrame([])\n",
    "for file in files:\n",
    "    if file.endswith('csv'):\n",
    "        data = pd.read_csv(f'groupsize/{file}')\n",
    "        print(data.shape)\n",
    "        Data = pd.concat((Data,data))"
   ]
  },
  {
   "cell_type": "code",
   "execution_count": 3,
   "id": "ba2c08e8-7582-4163-a288-5ca386e1df8b",
   "metadata": {
    "tags": []
   },
   "outputs": [
    {
     "data": {
      "text/html": [
       "<div>\n",
       "<style scoped>\n",
       "    .dataframe tbody tr th:only-of-type {\n",
       "        vertical-align: middle;\n",
       "    }\n",
       "\n",
       "    .dataframe tbody tr th {\n",
       "        vertical-align: top;\n",
       "    }\n",
       "\n",
       "    .dataframe thead th {\n",
       "        text-align: right;\n",
       "    }\n",
       "</style>\n",
       "<table border=\"1\" class=\"dataframe\">\n",
       "  <thead>\n",
       "    <tr style=\"text-align: right;\">\n",
       "      <th></th>\n",
       "      <th>work_id</th>\n",
       "      <th>author_position</th>\n",
       "      <th>author_id</th>\n",
       "      <th>institution_id</th>\n",
       "      <th>publication_year</th>\n",
       "      <th>first_pub_year</th>\n",
       "      <th>scientific_age</th>\n",
       "      <th>group_size</th>\n",
       "      <th>mentor_id</th>\n",
       "      <th>current_year</th>\n",
       "      <th>ratio_institution</th>\n",
       "      <th>last_pub_year</th>\n",
       "      <th>career_len</th>\n",
       "      <th>current_scientific_age</th>\n",
       "    </tr>\n",
       "  </thead>\n",
       "  <tbody>\n",
       "    <tr>\n",
       "      <th>0</th>\n",
       "      <td>W2107396164</td>\n",
       "      <td>first</td>\n",
       "      <td>A2306916401</td>\n",
       "      <td>I162714631</td>\n",
       "      <td>2001</td>\n",
       "      <td>1992</td>\n",
       "      <td>9</td>\n",
       "      <td>1</td>\n",
       "      <td>A1974614280</td>\n",
       "      <td>2001</td>\n",
       "      <td>1.0</td>\n",
       "      <td>2019.0</td>\n",
       "      <td>27.0</td>\n",
       "      <td>9</td>\n",
       "    </tr>\n",
       "    <tr>\n",
       "      <th>1</th>\n",
       "      <td>W2107396164</td>\n",
       "      <td>first</td>\n",
       "      <td>A2306916401</td>\n",
       "      <td>I162714631</td>\n",
       "      <td>2001</td>\n",
       "      <td>1992</td>\n",
       "      <td>9</td>\n",
       "      <td>1</td>\n",
       "      <td>A1974614280</td>\n",
       "      <td>2002</td>\n",
       "      <td>1.0</td>\n",
       "      <td>2019.0</td>\n",
       "      <td>27.0</td>\n",
       "      <td>10</td>\n",
       "    </tr>\n",
       "    <tr>\n",
       "      <th>2</th>\n",
       "      <td>W2081251766</td>\n",
       "      <td>first</td>\n",
       "      <td>A2115301866</td>\n",
       "      <td>I162714631</td>\n",
       "      <td>2005</td>\n",
       "      <td>2003</td>\n",
       "      <td>2</td>\n",
       "      <td>2</td>\n",
       "      <td>A1974614280</td>\n",
       "      <td>2005</td>\n",
       "      <td>1.0</td>\n",
       "      <td>2021.0</td>\n",
       "      <td>18.0</td>\n",
       "      <td>2</td>\n",
       "    </tr>\n",
       "    <tr>\n",
       "      <th>3</th>\n",
       "      <td>W2020768529</td>\n",
       "      <td>first</td>\n",
       "      <td>A1524231447</td>\n",
       "      <td>I162714631</td>\n",
       "      <td>2005</td>\n",
       "      <td>2005</td>\n",
       "      <td>0</td>\n",
       "      <td>2</td>\n",
       "      <td>A1974614280</td>\n",
       "      <td>2005</td>\n",
       "      <td>1.0</td>\n",
       "      <td>2009.0</td>\n",
       "      <td>4.0</td>\n",
       "      <td>0</td>\n",
       "    </tr>\n",
       "    <tr>\n",
       "      <th>4</th>\n",
       "      <td>W2020768529</td>\n",
       "      <td>middle</td>\n",
       "      <td>A2115301866</td>\n",
       "      <td>I162714631</td>\n",
       "      <td>2005</td>\n",
       "      <td>2003</td>\n",
       "      <td>2</td>\n",
       "      <td>2</td>\n",
       "      <td>A1974614280</td>\n",
       "      <td>2005</td>\n",
       "      <td>1.0</td>\n",
       "      <td>2021.0</td>\n",
       "      <td>18.0</td>\n",
       "      <td>2</td>\n",
       "    </tr>\n",
       "  </tbody>\n",
       "</table>\n",
       "</div>"
      ],
      "text/plain": [
       "       work_id author_position    author_id institution_id  publication_year  \\\n",
       "0  W2107396164           first  A2306916401     I162714631              2001   \n",
       "1  W2107396164           first  A2306916401     I162714631              2001   \n",
       "2  W2081251766           first  A2115301866     I162714631              2005   \n",
       "3  W2020768529           first  A1524231447     I162714631              2005   \n",
       "4  W2020768529          middle  A2115301866     I162714631              2005   \n",
       "\n",
       "   first_pub_year  scientific_age  group_size    mentor_id  current_year  \\\n",
       "0            1992               9           1  A1974614280          2001   \n",
       "1            1992               9           1  A1974614280          2002   \n",
       "2            2003               2           2  A1974614280          2005   \n",
       "3            2005               0           2  A1974614280          2005   \n",
       "4            2003               2           2  A1974614280          2005   \n",
       "\n",
       "   ratio_institution  last_pub_year  career_len  current_scientific_age  \n",
       "0                1.0         2019.0        27.0                       9  \n",
       "1                1.0         2019.0        27.0                      10  \n",
       "2                1.0         2021.0        18.0                       2  \n",
       "3                1.0         2009.0         4.0                       0  \n",
       "4                1.0         2021.0        18.0                       2  "
      ]
     },
     "execution_count": 3,
     "metadata": {},
     "output_type": "execute_result"
    }
   ],
   "source": [
    "Data.head(5)"
   ]
  },
  {
   "cell_type": "code",
   "execution_count": 4,
   "id": "36a52a2d-df2e-464e-947a-7152cfdae010",
   "metadata": {
    "tags": []
   },
   "outputs": [],
   "source": [
    "Data.to_csv('group_info_OnlyLastAuthorPaper(current_scientific_age).csv',index=0)"
   ]
  },
  {
   "cell_type": "code",
   "execution_count": null,
   "id": "9ebeb02a-45ff-48eb-ae90-9f472acc57ac",
   "metadata": {},
   "outputs": [],
   "source": []
  }
 ],
 "metadata": {
  "kernelspec": {
   "display_name": "myenv",
   "language": "python",
   "name": "myenv"
  },
  "language_info": {
   "codemirror_mode": {
    "name": "ipython",
    "version": 3
   },
   "file_extension": ".py",
   "mimetype": "text/x-python",
   "name": "python",
   "nbconvert_exporter": "python",
   "pygments_lexer": "ipython3",
   "version": "3.11.4"
  }
 },
 "nbformat": 4,
 "nbformat_minor": 5
}
