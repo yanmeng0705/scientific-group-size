{
 "cells": [
  {
   "cell_type": "code",
   "execution_count": 1,
   "id": "2a50a87a",
   "metadata": {},
   "outputs": [],
   "source": [
    "import pandas as pd\n",
    "import numpy as np\n",
    "import csv\n",
    "import pickle\n",
    "from collections import Counter\n",
    "import matplotlib.pyplot as plt\n",
    "import powerlaw,math\n",
    "import os\n",
    "import scipy.stats as stats\n",
    "import random\n",
    "from numpy import polyfit, poly1d"
   ]
  },
  {
   "cell_type": "code",
   "execution_count": 214,
   "id": "1215d104",
   "metadata": {},
   "outputs": [],
   "source": [
    "files = os.listdir('chemistry pubs')"
   ]
  },
  {
   "cell_type": "code",
   "execution_count": 215,
   "id": "efc4638a",
   "metadata": {},
   "outputs": [],
   "source": [
    "TP = {}\n",
    "for k in files:\n",
    "    try:\n",
    "        with open('chemistry pubs/'+k,'rb')as f:\n",
    "            tp = pickle.load(f)\n",
    "        for i in tp:\n",
    "            TP[i] = tp[i]\n",
    "    except:\n",
    "        print(k)"
   ]
  },
  {
   "cell_type": "code",
   "execution_count": 216,
   "id": "af06ab6e",
   "metadata": {
    "scrolled": true
   },
   "outputs": [
    {
     "name": "stdout",
     "output_type": "stream",
     "text": [
      "49248\n"
     ]
    }
   ],
   "source": [
    "pub_chemistry0 = TP\n",
    "print(len(pub_chemistry0))"
   ]
  },
  {
   "cell_type": "code",
   "execution_count": 217,
   "id": "fcbc880a",
   "metadata": {},
   "outputs": [],
   "source": [
    "#将生涯长度为0的做调整\n",
    "pub_chemistry = {}\n",
    "empty=[]\n",
    "nopa = []\n",
    "for k in pub_chemistry0:\n",
    "    tp = pub_chemistry0[k]\n",
    "    if len(tp)>0:\n",
    "        cl = tp[2]\n",
    "        if cl==1:\n",
    "            empty.append(k)\n",
    "            tp[3] = tp[0]  # 0总发文量\n",
    "            tp[6] = tp[5]  # 5总引用\n",
    "            tp[9] = tp[8]  # 8总合作者数\n",
    "        else:\n",
    "            tp = tp\n",
    "    else:\n",
    "        nopa.append(k)\n",
    "        tp = tp\n",
    "    pub_chemistry[k] = tp"
   ]
  },
  {
   "cell_type": "code",
   "execution_count": 280,
   "id": "1d723ab3",
   "metadata": {},
   "outputs": [],
   "source": [
    "# neuro = pd.read_csv('chemistry_1224.csv')\n",
    "neuro = pd.read_csv('chemistry_0123.csv')   #此处已经是下面代码更新后的数据"
   ]
  },
  {
   "cell_type": "code",
   "execution_count": 281,
   "id": "3612177e",
   "metadata": {},
   "outputs": [
    {
     "data": {
      "text/plain": [
       "(25138, 13)"
      ]
     },
     "execution_count": 281,
     "metadata": {},
     "output_type": "execute_result"
    }
   ],
   "source": [
    "neuro.shape"
   ]
  },
  {
   "cell_type": "code",
   "execution_count": 282,
   "id": "b5453c54",
   "metadata": {},
   "outputs": [],
   "source": [
    "Neuro = pd.read_csv('chemistry.csv')\n",
    "MTO = np.array(Neuro.MentorID)"
   ]
  },
  {
   "cell_type": "code",
   "execution_count": 288,
   "id": "81add906",
   "metadata": {},
   "outputs": [
    {
     "name": "stdout",
     "output_type": "stream",
     "text": [
      "1901\n",
      "1995\n"
     ]
    }
   ],
   "source": [
    "StopYear = neuro.StopYear\n",
    "print(min(StopYear))\n",
    "print(max(StopYear))"
   ]
  },
  {
   "cell_type": "code",
   "execution_count": 293,
   "id": "7c2b5b8a",
   "metadata": {},
   "outputs": [],
   "source": [
    "# 在进行退出率的相关计算时，以所有的学生数为参考\n",
    "TP = []\n",
    "for k in neuro.MenteeID:\n",
    "    if k in MTO:\n",
    "        TP.append(1)\n",
    "    else:\n",
    "        TP.append(0)\n",
    "neuro['Survival0'] = TP              \n",
    "# neuro = neuro[neuro.StopYear<2000]"
   ]
  },
  {
   "cell_type": "code",
   "execution_count": 294,
   "id": "e81dceb4",
   "metadata": {},
   "outputs": [
    {
     "name": "stdout",
     "output_type": "stream",
     "text": [
      "0.5683373110580748\n",
      "0.7861120581884306\n"
     ]
    }
   ],
   "source": [
    "#测试大小团队中的生存率\n",
    "all_big = neuro['MenteeID'][neuro.BigOrSmall==1]\n",
    "all_small = neuro['MenteeID'][neuro.BigOrSmall==0]\n",
    "sb = neuro['MenteeID'][neuro.Survival0==1]\n",
    "sur_big = all_big[all_big.isin(sb)]\n",
    "sur_small = all_small[all_small.isin(sb)]\n",
    "print(len(sur_big)/len(all_big))\n",
    "print(len(sur_small)/len(all_small))"
   ]
  },
  {
   "cell_type": "code",
   "execution_count": 297,
   "id": "032b8828",
   "metadata": {},
   "outputs": [],
   "source": [
    "#在进行学生表现的相关计算时，以前20年是否招到学生作为活下的参照\n",
    "TP = []\n",
    "for k in neuro.NumOfMenteesOfTheMenteeIn20:\n",
    "    if k>0:\n",
    "        TP.append(1)\n",
    "    else:\n",
    "        TP.append(0)\n",
    "neuro['Survival1'] = TP              "
   ]
  },
  {
   "cell_type": "code",
   "execution_count": 301,
   "id": "96f6445f",
   "metadata": {},
   "outputs": [],
   "source": [
    "#补充老师的文章属性信息\n",
    "attri = ['TotalPubsOfMentor','YearOfTheFirstPubsOfMentorPubs','YearlyPubsOfMentor','TotalCitationOfMentor',\n",
    "         'YearlyCitationOfMentor','TotalCollaOfMentor','YearllyCollaOfMentor',\n",
    "        ]\n",
    "index = [0,1,3,5,6,8,9]\n",
    "for i in range(len(attri)):\n",
    "    atr = attri[i]\n",
    "    if atr!='YearOfTheFirstPubsOfMentorPubs':\n",
    "        TP = []\n",
    "        for k in neuro.MentorID:\n",
    "            try:\n",
    "                tp = pub_chemistry[k][index[i]]\n",
    "            except:\n",
    "                tp = 0                            #在 mag 中没有找到该作者的发表信息\n",
    "            TP.append(tp)\n",
    "    else:\n",
    "        TP = []\n",
    "        for k in neuro.MentorID:\n",
    "            try:\n",
    "                tp = pub_chemistry[k][index[i]]\n",
    "            except:\n",
    "                tp = -1                            #在 mag 中没有找到该作者的发表信息,则第一篇文章发表年份记为 -1  \n",
    "            TP.append(tp)\n",
    "    neuro[atr] = TP "
   ]
  },
  {
   "cell_type": "code",
   "execution_count": 302,
   "id": "f675ce51",
   "metadata": {},
   "outputs": [],
   "source": [
    "#补充学生的文章属性信息\n",
    "attri = ['YearOfTheFirstPubsOfMenteePubs','First5YearPubsOfMentee','First5YearCitationOfMentee',\n",
    "         'First5YearCollaOfMentee','YearlyPubsOfMentee','YearlyCitationOfMentee']\n",
    "index = [1,4,7,10,3,6]\n",
    "for i in range(len(attri)):\n",
    "    atr = attri[i]\n",
    "    if atr!='YearOfTheFirstPubsOfMenteePubs':\n",
    "        TP = []\n",
    "        for k in neuro.MenteeID:\n",
    "            try:\n",
    "                tp = pub_chemistry[k][index[i]]\n",
    "            except:\n",
    "                tp = 0                            #在 mag 中没有找到该作者的发表信息\n",
    "            TP.append(tp)\n",
    "        \n",
    "    else:\n",
    "        TP = []\n",
    "        for k in neuro.MenteeID:\n",
    "            try:\n",
    "                tp = pub_chemistry[k][index[i]]\n",
    "            except:\n",
    "                tp = -1                            #在 mag 中没有找到该作者的发表信息\n",
    "            TP.append(tp)\n",
    "        \n",
    "    neuro[atr] = TP "
   ]
  },
  {
   "cell_type": "code",
   "execution_count": 303,
   "id": "b571a6eb",
   "metadata": {},
   "outputs": [],
   "source": [
    "#通过学生的第一篇文章发表时间补充学生的出道的时间\n",
    "TP = []\n",
    "tp0 = list(neuro.StopYear)                        # StopYear 中又可能出现 -1\n",
    "tp1 = list(neuro.YearOfTheFirstPubsOfMenteePubs)  #这里面也可能出现 -1\n",
    "for i in range(len(tp0)):\n",
    "    if tp0[i]>0 and tp1[i]>0:\n",
    "        TP.append(min(tp0[i],tp1[i]))\n",
    "    elif tp0[i]*tp1[i]<0:\n",
    "        TP.append(max(tp0[i],tp1[i]))\n",
    "    else:\n",
    "        TP.append(-1)\n",
    "neuro['BirthYearOfMentee'] = TP  "
   ]
  },
  {
   "cell_type": "code",
   "execution_count": 304,
   "id": "b9f5262c",
   "metadata": {},
   "outputs": [],
   "source": [
    "#通过老师第一篇文章发表时间补充每位学生受训时的老师的学术年龄\n",
    "TP = []\n",
    "tp0 = list(neuro.StopYear)\n",
    "tp1 = list(neuro.YearOfTheFirstPubsOfMentorPubs)\n",
    "for i in range(len(tp1)):\n",
    "    if tp0[i]>0 and tp1[i]>0:\n",
    "        TP.append(tp0[i]-float(tp1[i]))\n",
    "    else:\n",
    "        TP.append(-1)\n",
    "neuro['CareerAgeOfMentorInTraining'] = TP # -1代表无法判断老师的学术年龄 "
   ]
  },
  {
   "cell_type": "code",
   "execution_count": 305,
   "id": "7524e068",
   "metadata": {},
   "outputs": [
    {
     "data": {
      "text/plain": [
       "(25138, 30)"
      ]
     },
     "execution_count": 305,
     "metadata": {},
     "output_type": "execute_result"
    }
   ],
   "source": [
    "neuro.shape"
   ]
  },
  {
   "cell_type": "code",
   "execution_count": 306,
   "id": "116f0a8c",
   "metadata": {
    "scrolled": true
   },
   "outputs": [
    {
     "data": {
      "text/html": [
       "<div>\n",
       "<style scoped>\n",
       "    .dataframe tbody tr th:only-of-type {\n",
       "        vertical-align: middle;\n",
       "    }\n",
       "\n",
       "    .dataframe tbody tr th {\n",
       "        vertical-align: top;\n",
       "    }\n",
       "\n",
       "    .dataframe thead th {\n",
       "        text-align: right;\n",
       "    }\n",
       "</style>\n",
       "<table border=\"1\" class=\"dataframe\">\n",
       "  <thead>\n",
       "    <tr style=\"text-align: right;\">\n",
       "      <th></th>\n",
       "      <th>Unnamed: 0</th>\n",
       "      <th>CID</th>\n",
       "      <th>MenteeID</th>\n",
       "      <th>MentorID</th>\n",
       "      <th>MentorshipType</th>\n",
       "      <th>Institution</th>\n",
       "      <th>InstitutionMAGID</th>\n",
       "      <th>StartYear</th>\n",
       "      <th>StopYear</th>\n",
       "      <th>NumOfMenteesOfTheMentor</th>\n",
       "      <th>...</th>\n",
       "      <th>TotalCollaOfMentor</th>\n",
       "      <th>YearllyCollaOfMentor</th>\n",
       "      <th>YearOfTheFirstPubsOfMenteePubs</th>\n",
       "      <th>First5YearPubsOfMentee</th>\n",
       "      <th>First5YearCitationOfMentee</th>\n",
       "      <th>First5YearCollaOfMentee</th>\n",
       "      <th>YearlyPubsOfMentee</th>\n",
       "      <th>YearlyCitationOfMentee</th>\n",
       "      <th>BirthYearOfMentee</th>\n",
       "      <th>CareerAgeOfMentorInTraining</th>\n",
       "    </tr>\n",
       "  </thead>\n",
       "  <tbody>\n",
       "    <tr>\n",
       "      <th>0</th>\n",
       "      <td>3</td>\n",
       "      <td>6</td>\n",
       "      <td>18761</td>\n",
       "      <td>9</td>\n",
       "      <td>1</td>\n",
       "      <td>University of California, Berkeley</td>\n",
       "      <td>95457486.0</td>\n",
       "      <td>-1</td>\n",
       "      <td>1984</td>\n",
       "      <td>10</td>\n",
       "      <td>...</td>\n",
       "      <td>139</td>\n",
       "      <td>3.564103</td>\n",
       "      <td>1986.0</td>\n",
       "      <td>19</td>\n",
       "      <td>745</td>\n",
       "      <td>25</td>\n",
       "      <td>7.666667</td>\n",
       "      <td>441.083333</td>\n",
       "      <td>1984.0</td>\n",
       "      <td>21.0</td>\n",
       "    </tr>\n",
       "  </tbody>\n",
       "</table>\n",
       "<p>1 rows × 30 columns</p>\n",
       "</div>"
      ],
      "text/plain": [
       "   Unnamed: 0  CID  MenteeID  MentorID  MentorshipType  \\\n",
       "0           3    6     18761         9               1   \n",
       "\n",
       "                          Institution  InstitutionMAGID  StartYear  StopYear  \\\n",
       "0  University of California, Berkeley        95457486.0         -1      1984   \n",
       "\n",
       "   NumOfMenteesOfTheMentor  ...  TotalCollaOfMentor  YearllyCollaOfMentor  \\\n",
       "0                       10  ...                 139              3.564103   \n",
       "\n",
       "   YearOfTheFirstPubsOfMenteePubs  First5YearPubsOfMentee  \\\n",
       "0                          1986.0                      19   \n",
       "\n",
       "   First5YearCitationOfMentee  First5YearCollaOfMentee  YearlyPubsOfMentee  \\\n",
       "0                         745                       25            7.666667   \n",
       "\n",
       "   YearlyCitationOfMentee  BirthYearOfMentee  CareerAgeOfMentorInTraining  \n",
       "0              441.083333             1984.0                         21.0  \n",
       "\n",
       "[1 rows x 30 columns]"
      ]
     },
     "execution_count": 306,
     "metadata": {},
     "output_type": "execute_result"
    }
   ],
   "source": [
    "neuro.head(1)"
   ]
  },
  {
   "cell_type": "markdown",
   "id": "7f6def03",
   "metadata": {},
   "source": [
    "##### 加入受训期间老师的发文量和学生与导师的合作文章数量"
   ]
  },
  {
   "cell_type": "code",
   "execution_count": 307,
   "id": "b25bfdc4",
   "metadata": {},
   "outputs": [],
   "source": [
    "neuro = neuro.drop(['Unnamed: 0'],axis=1)"
   ]
  },
  {
   "cell_type": "code",
   "execution_count": 308,
   "id": "82364500",
   "metadata": {},
   "outputs": [],
   "source": [
    "chemistry_colla_info = pd.read_csv('chemistry_colla_info.csv')    #在 collaboration code 中计算出来的 "
   ]
  },
  {
   "cell_type": "code",
   "execution_count": 309,
   "id": "52e426b0",
   "metadata": {},
   "outputs": [],
   "source": [
    "CC = {}\n",
    "for k in np.array(chemistry_colla_info):\n",
    "    tp_key = (k[2],k[0])\n",
    "    tp_value = (k[1],k[3])\n",
    "    CC[tp_key] = tp_value"
   ]
  },
  {
   "cell_type": "code",
   "execution_count": 311,
   "id": "aad57798",
   "metadata": {},
   "outputs": [],
   "source": [
    "TP0 = []\n",
    "TP1 = []\n",
    "NN = np.array(neuro)\n",
    "for i in range(len(neuro)):\n",
    "    try:\n",
    "        tp_key = (NN[i][1],NN[i][2])\n",
    "#         print(tp_key)\n",
    "        temp = CC[tp_key]\n",
    "        \n",
    "        TP0.append(temp[0])\n",
    "        TP1.append(temp[1])\n",
    "    except:\n",
    "        TP0.append(0)\n",
    "        TP1.append(0)\n",
    "neuro['PubsOfMentorInTraning'] = TP0 \n",
    "neuro['CollaPubsOfWithMentor'] = TP1"
   ]
  },
  {
   "cell_type": "code",
   "execution_count": 312,
   "id": "e7ad9c88",
   "metadata": {},
   "outputs": [
    {
     "data": {
      "text/plain": [
       "(25138, 31)"
      ]
     },
     "execution_count": 312,
     "metadata": {},
     "output_type": "execute_result"
    }
   ],
   "source": [
    "neuro.shape"
   ]
  },
  {
   "cell_type": "markdown",
   "id": "b137718b",
   "metadata": {},
   "source": [
    "### 导出最后计算的数据"
   ]
  },
  {
   "cell_type": "code",
   "execution_count": 313,
   "id": "3f87c556",
   "metadata": {},
   "outputs": [],
   "source": [
    "# neuro.to_csv('chemistry_0123.csv',header=neuro.columns,index=0)"
   ]
  },
  {
   "cell_type": "code",
   "execution_count": 315,
   "id": "5f5ca106",
   "metadata": {},
   "outputs": [
    {
     "data": {
      "text/html": [
       "<div>\n",
       "<style scoped>\n",
       "    .dataframe tbody tr th:only-of-type {\n",
       "        vertical-align: middle;\n",
       "    }\n",
       "\n",
       "    .dataframe tbody tr th {\n",
       "        vertical-align: top;\n",
       "    }\n",
       "\n",
       "    .dataframe thead th {\n",
       "        text-align: right;\n",
       "    }\n",
       "</style>\n",
       "<table border=\"1\" class=\"dataframe\">\n",
       "  <thead>\n",
       "    <tr style=\"text-align: right;\">\n",
       "      <th></th>\n",
       "      <th>CID</th>\n",
       "      <th>MenteeID</th>\n",
       "      <th>MentorID</th>\n",
       "      <th>MentorshipType</th>\n",
       "      <th>Institution</th>\n",
       "      <th>InstitutionMAGID</th>\n",
       "      <th>StartYear</th>\n",
       "      <th>StopYear</th>\n",
       "      <th>NumOfMenteesOfTheMentor</th>\n",
       "      <th>NumOfMenteesOfTheMentor10</th>\n",
       "      <th>...</th>\n",
       "      <th>YearOfTheFirstPubsOfMenteePubs</th>\n",
       "      <th>First5YearPubsOfMentee</th>\n",
       "      <th>First5YearCitationOfMentee</th>\n",
       "      <th>First5YearCollaOfMentee</th>\n",
       "      <th>YearlyPubsOfMentee</th>\n",
       "      <th>YearlyCitationOfMentee</th>\n",
       "      <th>BirthYearOfMentee</th>\n",
       "      <th>CareerAgeOfMentorInTraining</th>\n",
       "      <th>PubsOfMentorInTraning</th>\n",
       "      <th>CollaPubsOfWithMentor</th>\n",
       "    </tr>\n",
       "  </thead>\n",
       "  <tbody>\n",
       "    <tr>\n",
       "      <th>0</th>\n",
       "      <td>6</td>\n",
       "      <td>18761</td>\n",
       "      <td>9</td>\n",
       "      <td>1</td>\n",
       "      <td>University of California, Berkeley</td>\n",
       "      <td>95457486.0</td>\n",
       "      <td>-1</td>\n",
       "      <td>1984</td>\n",
       "      <td>10</td>\n",
       "      <td>4</td>\n",
       "      <td>...</td>\n",
       "      <td>1986.0</td>\n",
       "      <td>19</td>\n",
       "      <td>745</td>\n",
       "      <td>25</td>\n",
       "      <td>7.666667</td>\n",
       "      <td>441.083333</td>\n",
       "      <td>1984.0</td>\n",
       "      <td>21.0</td>\n",
       "      <td>3</td>\n",
       "      <td>0</td>\n",
       "    </tr>\n",
       "    <tr>\n",
       "      <th>1</th>\n",
       "      <td>161</td>\n",
       "      <td>12561</td>\n",
       "      <td>52639</td>\n",
       "      <td>1</td>\n",
       "      <td>University of Washington, Seattle</td>\n",
       "      <td>201448701.0</td>\n",
       "      <td>1967</td>\n",
       "      <td>1971</td>\n",
       "      <td>1</td>\n",
       "      <td>1</td>\n",
       "      <td>...</td>\n",
       "      <td>1972.0</td>\n",
       "      <td>11</td>\n",
       "      <td>305</td>\n",
       "      <td>25</td>\n",
       "      <td>3.435897</td>\n",
       "      <td>98.384615</td>\n",
       "      <td>1971.0</td>\n",
       "      <td>15.0</td>\n",
       "      <td>5</td>\n",
       "      <td>1</td>\n",
       "    </tr>\n",
       "    <tr>\n",
       "      <th>2</th>\n",
       "      <td>212</td>\n",
       "      <td>188</td>\n",
       "      <td>189</td>\n",
       "      <td>1</td>\n",
       "      <td>Harvard University</td>\n",
       "      <td>136199984.0</td>\n",
       "      <td>-1</td>\n",
       "      <td>1927</td>\n",
       "      <td>9</td>\n",
       "      <td>4</td>\n",
       "      <td>...</td>\n",
       "      <td>1928.0</td>\n",
       "      <td>5</td>\n",
       "      <td>702</td>\n",
       "      <td>2</td>\n",
       "      <td>0.391304</td>\n",
       "      <td>32.717391</td>\n",
       "      <td>1927.0</td>\n",
       "      <td>26.0</td>\n",
       "      <td>8</td>\n",
       "      <td>0</td>\n",
       "    </tr>\n",
       "  </tbody>\n",
       "</table>\n",
       "<p>3 rows × 31 columns</p>\n",
       "</div>"
      ],
      "text/plain": [
       "   CID  MenteeID  MentorID  MentorshipType  \\\n",
       "0    6     18761         9               1   \n",
       "1  161     12561     52639               1   \n",
       "2  212       188       189               1   \n",
       "\n",
       "                          Institution  InstitutionMAGID  StartYear  StopYear  \\\n",
       "0  University of California, Berkeley        95457486.0         -1      1984   \n",
       "1   University of Washington, Seattle       201448701.0       1967      1971   \n",
       "2                  Harvard University       136199984.0         -1      1927   \n",
       "\n",
       "   NumOfMenteesOfTheMentor  NumOfMenteesOfTheMentor10  ...  \\\n",
       "0                       10                          4  ...   \n",
       "1                        1                          1  ...   \n",
       "2                        9                          4  ...   \n",
       "\n",
       "   YearOfTheFirstPubsOfMenteePubs  First5YearPubsOfMentee  \\\n",
       "0                          1986.0                      19   \n",
       "1                          1972.0                      11   \n",
       "2                          1928.0                       5   \n",
       "\n",
       "   First5YearCitationOfMentee  First5YearCollaOfMentee  YearlyPubsOfMentee  \\\n",
       "0                         745                       25            7.666667   \n",
       "1                         305                       25            3.435897   \n",
       "2                         702                        2            0.391304   \n",
       "\n",
       "   YearlyCitationOfMentee  BirthYearOfMentee  CareerAgeOfMentorInTraining  \\\n",
       "0              441.083333             1984.0                         21.0   \n",
       "1               98.384615             1971.0                         15.0   \n",
       "2               32.717391             1927.0                         26.0   \n",
       "\n",
       "   PubsOfMentorInTraning  CollaPubsOfWithMentor  \n",
       "0                      3                      0  \n",
       "1                      5                      1  \n",
       "2                      8                      0  \n",
       "\n",
       "[3 rows x 31 columns]"
      ]
     },
     "execution_count": 315,
     "metadata": {},
     "output_type": "execute_result"
    }
   ],
   "source": [
    "neuro.head(3)"
   ]
  }
 ],
 "metadata": {
  "kernelspec": {
   "display_name": "Python 3",
   "language": "python",
   "name": "python3"
  },
  "language_info": {
   "codemirror_mode": {
    "name": "ipython",
    "version": 3
   },
   "file_extension": ".py",
   "mimetype": "text/x-python",
   "name": "python",
   "nbconvert_exporter": "python",
   "pygments_lexer": "ipython3",
   "version": "3.8.3"
  }
 },
 "nbformat": 4,
 "nbformat_minor": 5
}
