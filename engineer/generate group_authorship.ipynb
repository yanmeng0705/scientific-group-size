{
 "cells": [
  {
   "cell_type": "code",
   "execution_count": 2,
   "id": "cd1c1163",
   "metadata": {
    "tags": []
   },
   "outputs": [],
   "source": [
    "import pandas as pd\n",
    "import seaborn as sns\n",
    "from sqlalchemy import create_engine\n",
    "engine = create_engine(\"mysql+pymysql://{user}:{pw}@{host}:{port}/{db}?charset=utf8mb4\"\n",
    "                       .format(user=\"openalex_ym\",\n",
    "                               pw=\"openalex.ym\",\n",
    "                               host=\"172.18.18.167\",\n",
    "                               port=3306,\n",
    "                               db=\"openalex2022\"),\n",
    "                       )"
   ]
  },
  {
   "cell_type": "markdown",
   "id": "27bfa31f-5f75-4ce7-be70-17ff75a088dc",
   "metadata": {
    "tags": []
   },
   "source": [
    "#### Import AFT Data set"
   ]
  },
  {
   "cell_type": "markdown",
   "id": "eb28552c",
   "metadata": {},
   "source": [
    "##### mentorship"
   ]
  },
  {
   "cell_type": "code",
   "execution_count": 2,
   "id": "6cd8ecaa",
   "metadata": {
    "scrolled": true,
    "tags": []
   },
   "outputs": [],
   "source": [
    "Mtoship = pd.read_csv('cellbio.csv')"
   ]
  },
  {
   "cell_type": "code",
   "execution_count": 3,
   "id": "99979448",
   "metadata": {
    "tags": []
   },
   "outputs": [
    {
     "data": {
      "text/html": [
       "<div>\n",
       "<style scoped>\n",
       "    .dataframe tbody tr th:only-of-type {\n",
       "        vertical-align: middle;\n",
       "    }\n",
       "\n",
       "    .dataframe tbody tr th {\n",
       "        vertical-align: top;\n",
       "    }\n",
       "\n",
       "    .dataframe thead th {\n",
       "        text-align: right;\n",
       "    }\n",
       "</style>\n",
       "<table border=\"1\" class=\"dataframe\">\n",
       "  <thead>\n",
       "    <tr style=\"text-align: right;\">\n",
       "      <th></th>\n",
       "      <th>Unnamed: 0</th>\n",
       "      <th>CID</th>\n",
       "      <th>MenteeID</th>\n",
       "      <th>MentorID</th>\n",
       "      <th>MentorshipType</th>\n",
       "      <th>Institution</th>\n",
       "      <th>InstitutionMAGID</th>\n",
       "      <th>StartYear</th>\n",
       "      <th>StopYear</th>\n",
       "    </tr>\n",
       "  </thead>\n",
       "  <tbody>\n",
       "    <tr>\n",
       "      <th>0</th>\n",
       "      <td>321</td>\n",
       "      <td>362</td>\n",
       "      <td>329</td>\n",
       "      <td>327</td>\n",
       "      <td>2</td>\n",
       "      <td>University of California, Berkeley</td>\n",
       "      <td>95457486.0</td>\n",
       "      <td>1988</td>\n",
       "      <td>1992</td>\n",
       "    </tr>\n",
       "    <tr>\n",
       "      <th>1</th>\n",
       "      <td>1271</td>\n",
       "      <td>1438</td>\n",
       "      <td>412</td>\n",
       "      <td>1835</td>\n",
       "      <td>1</td>\n",
       "      <td>California Institute of Technology</td>\n",
       "      <td>122411786.0</td>\n",
       "      <td>-1</td>\n",
       "      <td>1987</td>\n",
       "    </tr>\n",
       "    <tr>\n",
       "      <th>2</th>\n",
       "      <td>1381</td>\n",
       "      <td>1551</td>\n",
       "      <td>1273</td>\n",
       "      <td>359</td>\n",
       "      <td>2</td>\n",
       "      <td>Yale University</td>\n",
       "      <td>32971472.0</td>\n",
       "      <td>-1</td>\n",
       "      <td>1984</td>\n",
       "    </tr>\n",
       "    <tr>\n",
       "      <th>3</th>\n",
       "      <td>1874</td>\n",
       "      <td>2118</td>\n",
       "      <td>1696</td>\n",
       "      <td>751</td>\n",
       "      <td>1</td>\n",
       "      <td>Johns Hopkins University</td>\n",
       "      <td>145311948.0</td>\n",
       "      <td>-1</td>\n",
       "      <td>1997</td>\n",
       "    </tr>\n",
       "    <tr>\n",
       "      <th>4</th>\n",
       "      <td>1888</td>\n",
       "      <td>2132</td>\n",
       "      <td>359</td>\n",
       "      <td>527</td>\n",
       "      <td>0</td>\n",
       "      <td>Johns Hopkins University</td>\n",
       "      <td>145311948.0</td>\n",
       "      <td>-1</td>\n",
       "      <td>-1</td>\n",
       "    </tr>\n",
       "  </tbody>\n",
       "</table>\n",
       "</div>"
      ],
      "text/plain": [
       "   Unnamed: 0   CID  MenteeID  MentorID  MentorshipType  \\\n",
       "0         321   362       329       327               2   \n",
       "1        1271  1438       412      1835               1   \n",
       "2        1381  1551      1273       359               2   \n",
       "3        1874  2118      1696       751               1   \n",
       "4        1888  2132       359       527               0   \n",
       "\n",
       "                          Institution  InstitutionMAGID  StartYear  StopYear  \n",
       "0  University of California, Berkeley        95457486.0       1988      1992  \n",
       "1  California Institute of Technology       122411786.0         -1      1987  \n",
       "2                     Yale University        32971472.0         -1      1984  \n",
       "3            Johns Hopkins University       145311948.0         -1      1997  \n",
       "4            Johns Hopkins University       145311948.0         -1        -1  "
      ]
     },
     "execution_count": 3,
     "metadata": {},
     "output_type": "execute_result"
    }
   ],
   "source": [
    "Mtoship.head(5)"
   ]
  },
  {
   "cell_type": "code",
   "execution_count": 4,
   "id": "63994bf8-85dc-418b-998c-04a1e30474e7",
   "metadata": {
    "tags": []
   },
   "outputs": [
    {
     "name": "stdout",
     "output_type": "stream",
     "text": [
      "7750\n"
     ]
    }
   ],
   "source": [
    "MentorID = list(set(Mtoship.MentorID))\n",
    "print(len(MentorID))"
   ]
  },
  {
   "cell_type": "code",
   "execution_count": 5,
   "id": "ff3e77e6-8519-4af1-8e5a-37cb94692b6b",
   "metadata": {
    "tags": []
   },
   "outputs": [],
   "source": [
    "pid_mag_openalex = pd.read_csv('pid_mag_openalex.csv')"
   ]
  },
  {
   "cell_type": "code",
   "execution_count": 6,
   "id": "a8a9981c-6b71-4a97-91e9-c30f327bbdc7",
   "metadata": {
    "tags": []
   },
   "outputs": [
    {
     "data": {
      "text/html": [
       "<div>\n",
       "<style scoped>\n",
       "    .dataframe tbody tr th:only-of-type {\n",
       "        vertical-align: middle;\n",
       "    }\n",
       "\n",
       "    .dataframe tbody tr th {\n",
       "        vertical-align: top;\n",
       "    }\n",
       "\n",
       "    .dataframe thead th {\n",
       "        text-align: right;\n",
       "    }\n",
       "</style>\n",
       "<table border=\"1\" class=\"dataframe\">\n",
       "  <thead>\n",
       "    <tr style=\"text-align: right;\">\n",
       "      <th></th>\n",
       "      <th>PID</th>\n",
       "      <th>MAGAuthorID</th>\n",
       "      <th>author_id</th>\n",
       "    </tr>\n",
       "  </thead>\n",
       "  <tbody>\n",
       "    <tr>\n",
       "      <th>0</th>\n",
       "      <td>1</td>\n",
       "      <td>2.171828e+09</td>\n",
       "      <td>A2171827615</td>\n",
       "    </tr>\n",
       "    <tr>\n",
       "      <th>1</th>\n",
       "      <td>2</td>\n",
       "      <td>2.082173e+09</td>\n",
       "      <td>A2082172561</td>\n",
       "    </tr>\n",
       "    <tr>\n",
       "      <th>2</th>\n",
       "      <td>3</td>\n",
       "      <td>2.110166e+09</td>\n",
       "      <td>A2110165986</td>\n",
       "    </tr>\n",
       "    <tr>\n",
       "      <th>3</th>\n",
       "      <td>4</td>\n",
       "      <td>2.183264e+09</td>\n",
       "      <td>A2183263527</td>\n",
       "    </tr>\n",
       "    <tr>\n",
       "      <th>4</th>\n",
       "      <td>5</td>\n",
       "      <td>2.156587e+09</td>\n",
       "      <td>A2156586888</td>\n",
       "    </tr>\n",
       "  </tbody>\n",
       "</table>\n",
       "</div>"
      ],
      "text/plain": [
       "   PID   MAGAuthorID    author_id\n",
       "0    1  2.171828e+09  A2171827615\n",
       "1    2  2.082173e+09  A2082172561\n",
       "2    3  2.110166e+09  A2110165986\n",
       "3    4  2.183264e+09  A2183263527\n",
       "4    5  2.156587e+09  A2156586888"
      ]
     },
     "execution_count": 6,
     "metadata": {},
     "output_type": "execute_result"
    }
   ],
   "source": [
    "pid_mag_openalex.head(5)"
   ]
  },
  {
   "cell_type": "code",
   "execution_count": 7,
   "id": "bcc4d040-02ed-4de2-80ca-a8fc0ddc34ac",
   "metadata": {
    "tags": []
   },
   "outputs": [
    {
     "name": "stdout",
     "output_type": "stream",
     "text": [
      "6949\n"
     ]
    }
   ],
   "source": [
    "mentor = pid_mag_openalex['author_id'][(pid_mag_openalex.PID.isin(MentorID))&(~pid_mag_openalex.author_id.isnull())]\n",
    "print(len(mentor))"
   ]
  },
  {
   "cell_type": "code",
   "execution_count": 8,
   "id": "0f4f1bdc-f105-4e5e-895b-4098abcec1b9",
   "metadata": {
    "tags": []
   },
   "outputs": [],
   "source": [
    "mentor.to_csv('target_author.csv',index=0)"
   ]
  },
  {
   "cell_type": "markdown",
   "id": "51c52bc8-9a23-45e9-8ff5-058ffcfbb366",
   "metadata": {
    "tags": []
   },
   "source": [
    "#### find authorship of target_author"
   ]
  },
  {
   "cell_type": "code",
   "execution_count": 9,
   "id": "45cb8a7b-3734-49a6-bae8-02ba4e4d983d",
   "metadata": {},
   "outputs": [],
   "source": [
    "target_author = mentor"
   ]
  },
  {
   "cell_type": "code",
   "execution_count": 11,
   "id": "dfbfa72d-69d0-4000-bebd-95998f29897a",
   "metadata": {
    "tags": []
   },
   "outputs": [
    {
     "name": "stdout",
     "output_type": "stream",
     "text": [
      "2\n"
     ]
    }
   ],
   "source": [
    "mentee_groups = []\n",
    "interval = 5000\n",
    "start_point = 0\n",
    "while True:\n",
    "    end_point = start_point + interval\n",
    "    try:\n",
    "        temp = target_author[start_point:end_point]\n",
    "        mentee_groups.append(temp)\n",
    "    except:\n",
    "        temp = target_author[start_point:]\n",
    "        mentee_groups.append(temp)\n",
    "        \n",
    "    start_point = end_point\n",
    "    if end_point>len(target_author):\n",
    "        break\n",
    "print(len(mentee_groups))"
   ]
  },
  {
   "cell_type": "code",
   "execution_count": 12,
   "id": "5bdc0128-e26f-46c4-bb61-23382ba90e71",
   "metadata": {
    "scrolled": true,
    "tags": []
   },
   "outputs": [
    {
     "name": "stdout",
     "output_type": "stream",
     "text": [
      "2\n",
      "0\n"
     ]
    }
   ],
   "source": [
    "l = len(mentee_groups)\n",
    "print(l)\n",
    "for i in range(l):\n",
    "    temp =  mentee_groups[i]\n",
    "    sql_query = \"\"\"select works_authorships.work_id, works_authorships.author_id\n",
    "\n",
    "                    from works_authorships \n",
    "\n",
    "                    where works_authorships.author_id in {}\n",
    "                    \"\"\".format(tuple(temp))\n",
    "\n",
    "\n",
    "    data = pd.read_sql(sql_query, con=engine)\n",
    "    # merge data\n",
    "    if i==0:\n",
    "        tp = data\n",
    "    else:\n",
    "        tp = pd.concat((tp,data))\n",
    "    if i%10==0:\n",
    "        print(i)\n",
    "\n",
    "Data = tp"
   ]
  },
  {
   "cell_type": "code",
   "execution_count": 13,
   "id": "1c365a58-7210-4b8d-b2d0-2983006638aa",
   "metadata": {
    "tags": []
   },
   "outputs": [
    {
     "data": {
      "text/html": [
       "<div>\n",
       "<style scoped>\n",
       "    .dataframe tbody tr th:only-of-type {\n",
       "        vertical-align: middle;\n",
       "    }\n",
       "\n",
       "    .dataframe tbody tr th {\n",
       "        vertical-align: top;\n",
       "    }\n",
       "\n",
       "    .dataframe thead th {\n",
       "        text-align: right;\n",
       "    }\n",
       "</style>\n",
       "<table border=\"1\" class=\"dataframe\">\n",
       "  <thead>\n",
       "    <tr style=\"text-align: right;\">\n",
       "      <th></th>\n",
       "      <th>work_id</th>\n",
       "      <th>author_id</th>\n",
       "    </tr>\n",
       "  </thead>\n",
       "  <tbody>\n",
       "    <tr>\n",
       "      <th>0</th>\n",
       "      <td>W1985765285</td>\n",
       "      <td>A100549476</td>\n",
       "    </tr>\n",
       "    <tr>\n",
       "      <th>1</th>\n",
       "      <td>W2405137022</td>\n",
       "      <td>A100549476</td>\n",
       "    </tr>\n",
       "    <tr>\n",
       "      <th>2</th>\n",
       "      <td>W2889237557</td>\n",
       "      <td>A100549476</td>\n",
       "    </tr>\n",
       "    <tr>\n",
       "      <th>3</th>\n",
       "      <td>W2998601278</td>\n",
       "      <td>A100549476</td>\n",
       "    </tr>\n",
       "    <tr>\n",
       "      <th>4</th>\n",
       "      <td>W1964706578</td>\n",
       "      <td>A100549476</td>\n",
       "    </tr>\n",
       "  </tbody>\n",
       "</table>\n",
       "</div>"
      ],
      "text/plain": [
       "       work_id   author_id\n",
       "0  W1985765285  A100549476\n",
       "1  W2405137022  A100549476\n",
       "2  W2889237557  A100549476\n",
       "3  W2998601278  A100549476\n",
       "4  W1964706578  A100549476"
      ]
     },
     "execution_count": 13,
     "metadata": {},
     "output_type": "execute_result"
    }
   ],
   "source": [
    "Data.head(5)"
   ]
  },
  {
   "cell_type": "code",
   "execution_count": 14,
   "id": "d9a2f111-0d4b-4805-a6b4-faf7b9d6077a",
   "metadata": {
    "tags": []
   },
   "outputs": [
    {
     "name": "stdout",
     "output_type": "stream",
     "text": [
      "903183\n"
     ]
    }
   ],
   "source": [
    "target_work = Data.work_id.drop_duplicates().tolist()\n",
    "print(len(target_work))"
   ]
  },
  {
   "cell_type": "markdown",
   "id": "e3e904ea-13be-4321-bfe3-34b6907f6b5f",
   "metadata": {},
   "source": [
    "##### find full authorship"
   ]
  },
  {
   "cell_type": "code",
   "execution_count": 15,
   "id": "6066d051-44f0-408d-a595-c6b6216fe47c",
   "metadata": {
    "tags": []
   },
   "outputs": [
    {
     "data": {
      "text/plain": [
       "181"
      ]
     },
     "execution_count": 15,
     "metadata": {},
     "output_type": "execute_result"
    }
   ],
   "source": [
    "paper_groups = []\n",
    "interval = 5000\n",
    "start_point = 0\n",
    "while True:\n",
    "    end_point = start_point + interval\n",
    "    try:\n",
    "        temp = target_work[start_point:end_point]\n",
    "        paper_groups.append(temp)\n",
    "    except:\n",
    "        temp = target_work[start_point:]\n",
    "        paper_groups.append(temp)\n",
    "        \n",
    "    start_point = end_point\n",
    "    if end_point>len(target_work):\n",
    "        break\n",
    "len(paper_groups)"
   ]
  },
  {
   "cell_type": "code",
   "execution_count": 16,
   "id": "5b204776-a4d6-44bb-a06b-41ab14d470d6",
   "metadata": {
    "scrolled": true,
    "tags": []
   },
   "outputs": [
    {
     "name": "stdout",
     "output_type": "stream",
     "text": [
      "0\n",
      "10\n",
      "20\n",
      "30\n",
      "40\n",
      "50\n",
      "60\n",
      "70\n",
      "80\n",
      "90\n",
      "100\n",
      "110\n",
      "120\n",
      "130\n",
      "140\n",
      "150\n",
      "160\n",
      "170\n",
      "180\n"
     ]
    }
   ],
   "source": [
    "l = len(paper_groups)\n",
    "n0 = 0\n",
    "n1 = l\n",
    "for i in range(n0,n1):\n",
    "    temp =  paper_groups[i]\n",
    "    sql_query = \"\"\"select *\n",
    "\n",
    "                    from works_authorships \n",
    "\n",
    "                    where works_authorships.work_id in {}\n",
    "                    \"\"\".format(tuple(temp))\n",
    "\n",
    "\n",
    "    data = pd.read_sql(sql_query, con=engine)\n",
    "    # merge data\n",
    "    if i==n0:\n",
    "        tp = data\n",
    "    else:\n",
    "        tp = pd.concat((tp,data))\n",
    "    # print(i)\n",
    "    \n",
    "    if i%10==0:\n",
    "        print(i)\n",
    "\n",
    "Data = tp"
   ]
  },
  {
   "cell_type": "code",
   "execution_count": 17,
   "id": "e9d113a5-0270-4703-97f9-0dce0e2e1612",
   "metadata": {
    "tags": []
   },
   "outputs": [],
   "source": [
    "inst_ids = list(Data.institution_id)\n",
    "inst_ids1 = [k.replace('\\r', '') for k in inst_ids]\n",
    "Data['institution_id'] = inst_ids1"
   ]
  },
  {
   "cell_type": "code",
   "execution_count": 18,
   "id": "bbf53df1-8eed-441e-a977-5109cc64f1c2",
   "metadata": {
    "tags": []
   },
   "outputs": [
    {
     "data": {
      "text/html": [
       "<div>\n",
       "<style scoped>\n",
       "    .dataframe tbody tr th:only-of-type {\n",
       "        vertical-align: middle;\n",
       "    }\n",
       "\n",
       "    .dataframe tbody tr th {\n",
       "        vertical-align: top;\n",
       "    }\n",
       "\n",
       "    .dataframe thead th {\n",
       "        text-align: right;\n",
       "    }\n",
       "</style>\n",
       "<table border=\"1\" class=\"dataframe\">\n",
       "  <thead>\n",
       "    <tr style=\"text-align: right;\">\n",
       "      <th></th>\n",
       "      <th>work_id</th>\n",
       "      <th>author_position</th>\n",
       "      <th>author_id</th>\n",
       "      <th>institution_id</th>\n",
       "    </tr>\n",
       "  </thead>\n",
       "  <tbody>\n",
       "    <tr>\n",
       "      <th>25085</th>\n",
       "      <td>W2621065569</td>\n",
       "      <td>middle</td>\n",
       "      <td>A2181956068</td>\n",
       "      <td></td>\n",
       "    </tr>\n",
       "    <tr>\n",
       "      <th>27903</th>\n",
       "      <td>W3199289237</td>\n",
       "      <td>middle</td>\n",
       "      <td>A1997613316</td>\n",
       "      <td>I4210140103</td>\n",
       "    </tr>\n",
       "    <tr>\n",
       "      <th>4216</th>\n",
       "      <td>W1993482400</td>\n",
       "      <td>first</td>\n",
       "      <td>A2181472056</td>\n",
       "      <td>I20089843</td>\n",
       "    </tr>\n",
       "    <tr>\n",
       "      <th>29303</th>\n",
       "      <td>W2934954259</td>\n",
       "      <td>middle</td>\n",
       "      <td>A2935327374</td>\n",
       "      <td>I130769515</td>\n",
       "    </tr>\n",
       "    <tr>\n",
       "      <th>8062</th>\n",
       "      <td>W2043646309</td>\n",
       "      <td>middle</td>\n",
       "      <td>A2125259716</td>\n",
       "      <td>I157725225</td>\n",
       "    </tr>\n",
       "  </tbody>\n",
       "</table>\n",
       "</div>"
      ],
      "text/plain": [
       "           work_id author_position    author_id institution_id\n",
       "25085  W2621065569          middle  A2181956068               \n",
       "27903  W3199289237          middle  A1997613316    I4210140103\n",
       "4216   W1993482400           first  A2181472056      I20089843\n",
       "29303  W2934954259          middle  A2935327374     I130769515\n",
       "8062   W2043646309          middle  A2125259716     I157725225"
      ]
     },
     "execution_count": 18,
     "metadata": {},
     "output_type": "execute_result"
    }
   ],
   "source": [
    "Data.sample(5)"
   ]
  },
  {
   "cell_type": "code",
   "execution_count": 19,
   "id": "4b380efc-3973-47fc-b808-ca8f208c0bc4",
   "metadata": {
    "tags": []
   },
   "outputs": [],
   "source": [
    "Data.to_csv('G1_mentee_authorship.csv',index=0)"
   ]
  },
  {
   "cell_type": "code",
   "execution_count": 20,
   "id": "8c3a4af0-66bf-4814-98cb-0c9b32dfd449",
   "metadata": {
    "tags": []
   },
   "outputs": [
    {
     "data": {
      "text/plain": [
       "6830"
      ]
     },
     "execution_count": 20,
     "metadata": {},
     "output_type": "execute_result"
    }
   ],
   "source": [
    "len(set(target_author))"
   ]
  },
  {
   "cell_type": "code",
   "execution_count": 21,
   "id": "0f962301-9960-429f-8aa1-92e89109a08e",
   "metadata": {
    "tags": []
   },
   "outputs": [
    {
     "data": {
      "text/plain": [
       "True"
      ]
     },
     "execution_count": 21,
     "metadata": {},
     "output_type": "execute_result"
    }
   ],
   "source": [
    "all_author = set(Data['author_id'])\n",
    "set(target_author).intersection(all_author) == set(target_author)"
   ]
  },
  {
   "cell_type": "code",
   "execution_count": 22,
   "id": "20a0cda1-a352-4efa-bbf8-da70954adfc6",
   "metadata": {
    "tags": []
   },
   "outputs": [
    {
     "data": {
      "text/plain": [
       "6830"
      ]
     },
     "execution_count": 22,
     "metadata": {},
     "output_type": "execute_result"
    }
   ],
   "source": [
    "len(set(target_author).intersection(all_author))"
   ]
  },
  {
   "cell_type": "markdown",
   "id": "46117272-bbff-4ea5-8565-668bb885d63a",
   "metadata": {},
   "source": [
    "##### find career info of all authors"
   ]
  },
  {
   "cell_type": "code",
   "execution_count": 23,
   "id": "8b73afdb-f91a-4b94-98da-a6a246cc51f9",
   "metadata": {
    "tags": []
   },
   "outputs": [],
   "source": [
    "all_mentee = Data.author_id.drop_duplicates().tolist()"
   ]
  },
  {
   "cell_type": "code",
   "execution_count": 24,
   "id": "67bdf1a0-f0b7-4b92-bfb9-2167120c34c1",
   "metadata": {
    "tags": []
   },
   "outputs": [
    {
     "data": {
      "text/plain": [
       "286"
      ]
     },
     "execution_count": 24,
     "metadata": {},
     "output_type": "execute_result"
    }
   ],
   "source": [
    "mentee_groups = []\n",
    "interval = 5000\n",
    "start_point = 0\n",
    "while True:\n",
    "    end_point = start_point + interval\n",
    "    try:\n",
    "        temp = all_mentee[start_point:end_point]\n",
    "        mentee_groups.append(temp)\n",
    "    except:\n",
    "        temp = all_mentee[start_point:]\n",
    "        mentee_groups.append(temp)\n",
    "        \n",
    "    start_point = end_point\n",
    "    if end_point>len(all_mentee):\n",
    "        break\n",
    "len(mentee_groups)"
   ]
  },
  {
   "cell_type": "code",
   "execution_count": 25,
   "id": "cbaf578c-8e7b-4a5e-85e6-9dcd212e7860",
   "metadata": {
    "scrolled": true,
    "tags": []
   },
   "outputs": [
    {
     "name": "stdout",
     "output_type": "stream",
     "text": [
      "286\n",
      "0\n",
      "10\n",
      "20\n",
      "30\n",
      "40\n",
      "50\n",
      "60\n",
      "70\n",
      "80\n",
      "90\n",
      "100\n",
      "110\n",
      "120\n",
      "130\n",
      "140\n",
      "150\n",
      "160\n",
      "170\n",
      "180\n",
      "190\n",
      "200\n",
      "210\n",
      "220\n",
      "230\n",
      "240\n",
      "250\n",
      "260\n",
      "270\n",
      "280\n"
     ]
    }
   ],
   "source": [
    "l = len(mentee_groups)\n",
    "print(l)\n",
    "n0 = 0\n",
    "n1 = l\n",
    "for i in range(n0,n1):\n",
    "    temp =  mentee_groups[i]\n",
    "    sql_query = \"\"\"select works_authorships.work_id, works_authorships.author_id\n",
    "\n",
    "                    from works_authorships \n",
    "\n",
    "                    where works_authorships.author_id in {}\n",
    "                    \"\"\".format(tuple(temp))\n",
    "\n",
    "\n",
    "    data = pd.read_sql(sql_query, con=engine)\n",
    "    # merge data\n",
    "    if i==0:\n",
    "        tp = data\n",
    "    else:\n",
    "        tp = pd.concat((tp,data))\n",
    "    if i%10==0:\n",
    "        print(i)\n",
    "\n",
    "Data = tp"
   ]
  },
  {
   "cell_type": "code",
   "execution_count": null,
   "id": "dae64295-aff6-4e16-9d21-ddf26a171638",
   "metadata": {
    "tags": []
   },
   "outputs": [],
   "source": [
    "Data.to_csv('G1_mentee_allWorks.csv',index=0)"
   ]
  },
  {
   "cell_type": "markdown",
   "id": "f8f93e08-cb7f-4857-9c33-574789fd5696",
   "metadata": {
    "tags": []
   },
   "source": [
    "##### find publication_year"
   ]
  },
  {
   "cell_type": "code",
   "execution_count": 3,
   "id": "1d0d53d6-764a-418c-b8d5-24ea7857829a",
   "metadata": {
    "tags": []
   },
   "outputs": [],
   "source": [
    "Data = pd.read_csv('G1_mentee_allWorks.csv')"
   ]
  },
  {
   "cell_type": "code",
   "execution_count": 4,
   "id": "35789cf3-5cb3-4c7e-9983-7eefcd6527e0",
   "metadata": {
    "tags": []
   },
   "outputs": [
    {
     "name": "stdout",
     "output_type": "stream",
     "text": [
      "23647108\n",
      "4730\n"
     ]
    }
   ],
   "source": [
    "paper = list(set(Data.work_id))\n",
    "print(len(paper))\n",
    "\n",
    "paper_groups = []\n",
    "interval = 5000\n",
    "start_point = 0\n",
    "while True:\n",
    "    end_point = start_point + interval\n",
    "    try:\n",
    "        temp = paper[start_point:end_point]\n",
    "        paper_groups.append(temp)\n",
    "    except:\n",
    "        temp = paper[start_point:]\n",
    "        paper_groups.append(temp)\n",
    "        \n",
    "    start_point = end_point\n",
    "    if end_point>len(paper):\n",
    "        break\n",
    "print(len(paper_groups))"
   ]
  },
  {
   "cell_type": "code",
   "execution_count": 5,
   "id": "6024074d-69d6-4002-9a85-df921c9c4569",
   "metadata": {
    "scrolled": true,
    "tags": []
   },
   "outputs": [
    {
     "name": "stdout",
     "output_type": "stream",
     "text": [
      "4730\n",
      "0\n",
      "10\n",
      "20\n",
      "30\n",
      "40\n",
      "50\n",
      "60\n",
      "70\n",
      "80\n",
      "90\n",
      "100\n",
      "110\n",
      "120\n",
      "130\n",
      "140\n",
      "150\n",
      "160\n",
      "170\n",
      "180\n",
      "190\n",
      "200\n",
      "210\n",
      "220\n",
      "230\n",
      "240\n",
      "250\n",
      "260\n",
      "270\n",
      "280\n",
      "290\n",
      "300\n",
      "310\n",
      "320\n",
      "330\n",
      "340\n",
      "350\n",
      "360\n",
      "370\n",
      "380\n",
      "390\n",
      "400\n",
      "410\n",
      "420\n",
      "430\n",
      "440\n",
      "450\n",
      "460\n",
      "470\n",
      "480\n",
      "490\n",
      "500\n",
      "510\n",
      "520\n",
      "530\n",
      "540\n",
      "550\n",
      "560\n",
      "570\n",
      "580\n",
      "590\n",
      "600\n",
      "610\n",
      "620\n",
      "630\n",
      "640\n",
      "650\n",
      "660\n",
      "670\n",
      "680\n",
      "690\n",
      "700\n",
      "710\n",
      "720\n",
      "730\n",
      "740\n",
      "750\n",
      "760\n",
      "770\n",
      "780\n",
      "790\n",
      "800\n",
      "810\n",
      "820\n",
      "830\n",
      "840\n",
      "850\n",
      "860\n",
      "870\n",
      "880\n",
      "890\n",
      "900\n",
      "910\n",
      "920\n",
      "930\n"
     ]
    },
    {
     "ename": "KeyboardInterrupt",
     "evalue": "",
     "output_type": "error",
     "traceback": [
      "\u001b[0;31m---------------------------------------------------------------------------\u001b[0m",
      "\u001b[0;31mKeyboardInterrupt\u001b[0m                         Traceback (most recent call last)",
      "Cell \u001b[0;32mIn[5], line 18\u001b[0m\n\u001b[1;32m     16\u001b[0m     tp \u001b[38;5;241m=\u001b[39m data\n\u001b[1;32m     17\u001b[0m \u001b[38;5;28;01melse\u001b[39;00m:\n\u001b[0;32m---> 18\u001b[0m     tp \u001b[38;5;241m=\u001b[39m \u001b[43mpd\u001b[49m\u001b[38;5;241;43m.\u001b[39;49m\u001b[43mconcat\u001b[49m\u001b[43m(\u001b[49m\u001b[43m(\u001b[49m\u001b[43mtp\u001b[49m\u001b[43m,\u001b[49m\u001b[43mdata\u001b[49m\u001b[43m)\u001b[49m\u001b[43m)\u001b[49m\n\u001b[1;32m     19\u001b[0m \u001b[38;5;28;01mif\u001b[39;00m i\u001b[38;5;241m%\u001b[39m\u001b[38;5;241m10\u001b[39m\u001b[38;5;241m==\u001b[39m\u001b[38;5;241m0\u001b[39m:\n\u001b[1;32m     20\u001b[0m     \u001b[38;5;28mprint\u001b[39m(i)\n",
      "File \u001b[0;32m~/anaconda3/envs/myenv/lib/python3.11/site-packages/pandas/core/reshape/concat.py:385\u001b[0m, in \u001b[0;36mconcat\u001b[0;34m(objs, axis, join, ignore_index, keys, levels, names, verify_integrity, sort, copy)\u001b[0m\n\u001b[1;32m    370\u001b[0m     copy \u001b[38;5;241m=\u001b[39m \u001b[38;5;28;01mFalse\u001b[39;00m\n\u001b[1;32m    372\u001b[0m op \u001b[38;5;241m=\u001b[39m _Concatenator(\n\u001b[1;32m    373\u001b[0m     objs,\n\u001b[1;32m    374\u001b[0m     axis\u001b[38;5;241m=\u001b[39maxis,\n\u001b[0;32m   (...)\u001b[0m\n\u001b[1;32m    382\u001b[0m     sort\u001b[38;5;241m=\u001b[39msort,\n\u001b[1;32m    383\u001b[0m )\n\u001b[0;32m--> 385\u001b[0m \u001b[38;5;28;01mreturn\u001b[39;00m \u001b[43mop\u001b[49m\u001b[38;5;241;43m.\u001b[39;49m\u001b[43mget_result\u001b[49m\u001b[43m(\u001b[49m\u001b[43m)\u001b[49m\n",
      "File \u001b[0;32m~/anaconda3/envs/myenv/lib/python3.11/site-packages/pandas/core/reshape/concat.py:616\u001b[0m, in \u001b[0;36m_Concatenator.get_result\u001b[0;34m(self)\u001b[0m\n\u001b[1;32m    612\u001b[0m             indexers[ax] \u001b[38;5;241m=\u001b[39m obj_labels\u001b[38;5;241m.\u001b[39mget_indexer(new_labels)\n\u001b[1;32m    614\u001b[0m     mgrs_indexers\u001b[38;5;241m.\u001b[39mappend((obj\u001b[38;5;241m.\u001b[39m_mgr, indexers))\n\u001b[0;32m--> 616\u001b[0m new_data \u001b[38;5;241m=\u001b[39m \u001b[43mconcatenate_managers\u001b[49m\u001b[43m(\u001b[49m\n\u001b[1;32m    617\u001b[0m \u001b[43m    \u001b[49m\u001b[43mmgrs_indexers\u001b[49m\u001b[43m,\u001b[49m\u001b[43m \u001b[49m\u001b[38;5;28;43mself\u001b[39;49m\u001b[38;5;241;43m.\u001b[39;49m\u001b[43mnew_axes\u001b[49m\u001b[43m,\u001b[49m\u001b[43m \u001b[49m\u001b[43mconcat_axis\u001b[49m\u001b[38;5;241;43m=\u001b[39;49m\u001b[38;5;28;43mself\u001b[39;49m\u001b[38;5;241;43m.\u001b[39;49m\u001b[43mbm_axis\u001b[49m\u001b[43m,\u001b[49m\u001b[43m \u001b[49m\u001b[43mcopy\u001b[49m\u001b[38;5;241;43m=\u001b[39;49m\u001b[38;5;28;43mself\u001b[39;49m\u001b[38;5;241;43m.\u001b[39;49m\u001b[43mcopy\u001b[49m\n\u001b[1;32m    618\u001b[0m \u001b[43m\u001b[49m\u001b[43m)\u001b[49m\n\u001b[1;32m    619\u001b[0m \u001b[38;5;28;01mif\u001b[39;00m \u001b[38;5;129;01mnot\u001b[39;00m \u001b[38;5;28mself\u001b[39m\u001b[38;5;241m.\u001b[39mcopy \u001b[38;5;129;01mand\u001b[39;00m \u001b[38;5;129;01mnot\u001b[39;00m using_copy_on_write():\n\u001b[1;32m    620\u001b[0m     new_data\u001b[38;5;241m.\u001b[39m_consolidate_inplace()\n",
      "File \u001b[0;32m~/anaconda3/envs/myenv/lib/python3.11/site-packages/pandas/core/internals/concat.py:232\u001b[0m, in \u001b[0;36mconcatenate_managers\u001b[0;34m(mgrs_indexers, axes, concat_axis, copy)\u001b[0m\n\u001b[1;32m    226\u001b[0m vals \u001b[38;5;241m=\u001b[39m [ju\u001b[38;5;241m.\u001b[39mblock\u001b[38;5;241m.\u001b[39mvalues \u001b[38;5;28;01mfor\u001b[39;00m ju \u001b[38;5;129;01min\u001b[39;00m join_units]\n\u001b[1;32m    228\u001b[0m \u001b[38;5;28;01mif\u001b[39;00m \u001b[38;5;129;01mnot\u001b[39;00m blk\u001b[38;5;241m.\u001b[39mis_extension:\n\u001b[1;32m    229\u001b[0m     \u001b[38;5;66;03m# _is_uniform_join_units ensures a single dtype, so\u001b[39;00m\n\u001b[1;32m    230\u001b[0m     \u001b[38;5;66;03m#  we can use np.concatenate, which is more performant\u001b[39;00m\n\u001b[1;32m    231\u001b[0m     \u001b[38;5;66;03m#  than concat_compat\u001b[39;00m\n\u001b[0;32m--> 232\u001b[0m     values \u001b[38;5;241m=\u001b[39m \u001b[43mnp\u001b[49m\u001b[38;5;241;43m.\u001b[39;49m\u001b[43mconcatenate\u001b[49m\u001b[43m(\u001b[49m\u001b[43mvals\u001b[49m\u001b[43m,\u001b[49m\u001b[43m \u001b[49m\u001b[43maxis\u001b[49m\u001b[38;5;241;43m=\u001b[39;49m\u001b[38;5;241;43m1\u001b[39;49m\u001b[43m)\u001b[49m\n\u001b[1;32m    233\u001b[0m \u001b[38;5;28;01melse\u001b[39;00m:\n\u001b[1;32m    234\u001b[0m     \u001b[38;5;66;03m# TODO(EA2D): special-casing not needed with 2D EAs\u001b[39;00m\n\u001b[1;32m    235\u001b[0m     values \u001b[38;5;241m=\u001b[39m concat_compat(vals, axis\u001b[38;5;241m=\u001b[39m\u001b[38;5;241m1\u001b[39m)\n",
      "\u001b[0;31mKeyboardInterrupt\u001b[0m: "
     ]
    }
   ],
   "source": [
    "l = len(paper_groups)\n",
    "print(l)\n",
    "for i in range(l):\n",
    "    temp =  paper_groups[i]\n",
    "    sql_query = \"\"\"select works.id, works.publication_year\n",
    "\n",
    "                    from works \n",
    "\n",
    "                    where works.id in {}\n",
    "                    \"\"\".format(tuple(temp))\n",
    "\n",
    "\n",
    "    data = pd.read_sql(sql_query, con=engine)\n",
    "    # merge data\n",
    "    if i==0:\n",
    "        tp = data\n",
    "    else:\n",
    "        tp = pd.concat((tp,data))\n",
    "    if i%10==0:\n",
    "        print(i)"
   ]
  },
  {
   "cell_type": "code",
   "execution_count": null,
   "id": "c791ae18-bef0-40e1-b51e-b8a4ae7a6a39",
   "metadata": {
    "tags": []
   },
   "outputs": [],
   "source": [
    "tp = tp.rename(columns={'id':'work_id'})\n",
    "tp.to_csv('G1_allWorks_year.csv',index=0)"
   ]
  },
  {
   "cell_type": "code",
   "execution_count": null,
   "id": "9dd0cacd-556f-4c82-8ce3-3d849cb4dce8",
   "metadata": {
    "tags": []
   },
   "outputs": [],
   "source": [
    "Data = Data.merge(tp,on='work_id',how='left')\n",
    "min_year = Data[['author_id','publication_year']].drop_duplicates()\n",
    "first_pub_year = min_year.groupby('author_id')['publication_year'].min().reset_index(name='first_pub_year')\n",
    "last_pub_year = min_year.groupby('author_id')['publication_year'].max().reset_index(name='last_pub_year')\n",
    "\n",
    "career_span = first_pub_year.merge(last_pub_year,on='author_id',how='left')\n",
    "career_span['career_len'] = career_span['last_pub_year'] - career_span['first_pub_year']"
   ]
  },
  {
   "cell_type": "code",
   "execution_count": null,
   "id": "f7c2fd28-37c5-4425-a137-95b080be2b2e",
   "metadata": {
    "tags": []
   },
   "outputs": [],
   "source": [
    "career_span.to_csv('G1_mentee_careerSpan.csv',index=0)"
   ]
  },
  {
   "cell_type": "markdown",
   "id": "3aeb1276-982a-44d9-8e4b-1e90984e7315",
   "metadata": {},
   "source": [
    "##### Tabel for GroupSize(G2)"
   ]
  },
  {
   "cell_type": "code",
   "execution_count": null,
   "id": "35f751d4-bec9-48b8-8043-964b5eac534d",
   "metadata": {
    "tags": []
   },
   "outputs": [],
   "source": [
    "authorship = pd.read_csv('G1_mentee_authorship.csv')\n",
    "authorship = authorship.merge(career_span,on='author_id',how='left')\n",
    "work_year = pd.read_csv('G1_allWorks_year.csv')\n",
    "authorship = authorship.merge(work_year,on='work_id',how='left')\n",
    "authorship['scientific_age'] = authorship['publication_year'] - authorship['first_pub_year']"
   ]
  },
  {
   "cell_type": "code",
   "execution_count": null,
   "id": "622c8988-4242-474a-881c-2e2cf7f7cc18",
   "metadata": {
    "tags": []
   },
   "outputs": [],
   "source": [
    "authorship.to_csv('G1_mentee_authorship.csv',index=0)"
   ]
  },
  {
   "cell_type": "code",
   "execution_count": null,
   "id": "0900779a-ed04-4215-93ea-c511216c43da",
   "metadata": {
    "tags": []
   },
   "outputs": [],
   "source": [
    "def inst_completeness(tp_df):\n",
    "    not_null_num = len(tp_df[~tp_df.institution_id.isnull()])\n",
    "    ratio = not_null_num/len(tp_df)\n",
    "    \n",
    "    return ratio"
   ]
  },
  {
   "cell_type": "code",
   "execution_count": null,
   "id": "0421cd3b-0827-46df-87c7-67495488731c",
   "metadata": {
    "tags": []
   },
   "outputs": [],
   "source": [
    "data = authorship.groupby('work_id').apply(inst_completeness).reset_index(name = 'ratio_inst.')\n",
    "data.to_csv('G1_mentee_inst_completeness.csv',index=0)"
   ]
  },
  {
   "cell_type": "code",
   "execution_count": null,
   "id": "8a999593-ea02-4d6b-b739-5b657f5450a6",
   "metadata": {},
   "outputs": [],
   "source": []
  }
 ],
 "metadata": {
  "kernelspec": {
   "display_name": "myenv",
   "language": "python",
   "name": "myenv"
  },
  "language_info": {
   "codemirror_mode": {
    "name": "ipython",
    "version": 3
   },
   "file_extension": ".py",
   "mimetype": "text/x-python",
   "name": "python",
   "nbconvert_exporter": "python",
   "pygments_lexer": "ipython3",
   "version": "3.11.4"
  }
 },
 "nbformat": 4,
 "nbformat_minor": 5
}
