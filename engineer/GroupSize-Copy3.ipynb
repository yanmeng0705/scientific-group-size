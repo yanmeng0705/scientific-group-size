{
 "cells": [
  {
   "cell_type": "code",
   "execution_count": 1,
   "id": "528a4104-ea5a-47d9-ac20-547b71d6a674",
   "metadata": {
    "tags": []
   },
   "outputs": [],
   "source": [
    "n0 = 6000\n",
    "n1 = n0 + 949"
   ]
  },
  {
   "cell_type": "code",
   "execution_count": 2,
   "id": "a198fc8d-ed7e-4be2-b9fc-7f04571112bf",
   "metadata": {
    "tags": []
   },
   "outputs": [],
   "source": [
    "import pandas as pd\n",
    "import random\n",
    "import numpy as np"
   ]
  },
  {
   "cell_type": "code",
   "execution_count": 3,
   "id": "3aadfd73-c4a2-49b0-b256-7dbcb80e7970",
   "metadata": {
    "tags": []
   },
   "outputs": [],
   "source": [
    "authorship = pd.read_csv('G1_mentee_authorship.csv')"
   ]
  },
  {
   "cell_type": "code",
   "execution_count": 4,
   "id": "7b5e6c03-2fc0-427a-9e13-2e9e8ce152cf",
   "metadata": {
    "tags": []
   },
   "outputs": [],
   "source": [
    "target_author = pd.read_csv('target_author.csv')['author_id'].tolist()"
   ]
  },
  {
   "cell_type": "code",
   "execution_count": 5,
   "id": "d205bc0d-ebc3-40fa-a422-63bc423ee352",
   "metadata": {
    "tags": []
   },
   "outputs": [
    {
     "data": {
      "text/plain": [
       "6949"
      ]
     },
     "execution_count": 5,
     "metadata": {},
     "output_type": "execute_result"
    }
   ],
   "source": [
    "len(target_author)"
   ]
  },
  {
   "cell_type": "code",
   "execution_count": 6,
   "id": "83cbaddc-3917-4969-b294-8cbbfba1600f",
   "metadata": {
    "tags": []
   },
   "outputs": [
    {
     "data": {
      "text/html": [
       "<div>\n",
       "<style scoped>\n",
       "    .dataframe tbody tr th:only-of-type {\n",
       "        vertical-align: middle;\n",
       "    }\n",
       "\n",
       "    .dataframe tbody tr th {\n",
       "        vertical-align: top;\n",
       "    }\n",
       "\n",
       "    .dataframe thead th {\n",
       "        text-align: right;\n",
       "    }\n",
       "</style>\n",
       "<table border=\"1\" class=\"dataframe\">\n",
       "  <thead>\n",
       "    <tr style=\"text-align: right;\">\n",
       "      <th></th>\n",
       "      <th>work_id</th>\n",
       "      <th>author_position</th>\n",
       "      <th>author_id</th>\n",
       "      <th>institution_id</th>\n",
       "      <th>first_pub_year</th>\n",
       "      <th>last_pub_year</th>\n",
       "      <th>career_len</th>\n",
       "      <th>publication_year</th>\n",
       "      <th>scientific_age</th>\n",
       "    </tr>\n",
       "  </thead>\n",
       "  <tbody>\n",
       "    <tr>\n",
       "      <th>0</th>\n",
       "      <td>W1033085884</td>\n",
       "      <td>first</td>\n",
       "      <td>A3022368640</td>\n",
       "      <td>I5388228</td>\n",
       "      <td>2006</td>\n",
       "      <td>2006</td>\n",
       "      <td>0</td>\n",
       "      <td>2006</td>\n",
       "      <td>0</td>\n",
       "    </tr>\n",
       "    <tr>\n",
       "      <th>1</th>\n",
       "      <td>W1033085884</td>\n",
       "      <td>middle</td>\n",
       "      <td>A2613136029</td>\n",
       "      <td>I5388228</td>\n",
       "      <td>2003</td>\n",
       "      <td>2010</td>\n",
       "      <td>7</td>\n",
       "      <td>2006</td>\n",
       "      <td>3</td>\n",
       "    </tr>\n",
       "    <tr>\n",
       "      <th>2</th>\n",
       "      <td>W1033085884</td>\n",
       "      <td>middle</td>\n",
       "      <td>A2044805072</td>\n",
       "      <td>I5388228</td>\n",
       "      <td>2006</td>\n",
       "      <td>2006</td>\n",
       "      <td>0</td>\n",
       "      <td>2006</td>\n",
       "      <td>0</td>\n",
       "    </tr>\n",
       "    <tr>\n",
       "      <th>3</th>\n",
       "      <td>W1033085884</td>\n",
       "      <td>middle</td>\n",
       "      <td>A2886369024</td>\n",
       "      <td>I5388228</td>\n",
       "      <td>2005</td>\n",
       "      <td>2006</td>\n",
       "      <td>1</td>\n",
       "      <td>2006</td>\n",
       "      <td>1</td>\n",
       "    </tr>\n",
       "    <tr>\n",
       "      <th>4</th>\n",
       "      <td>W1033085884</td>\n",
       "      <td>middle</td>\n",
       "      <td>A1016359704</td>\n",
       "      <td>I5388228</td>\n",
       "      <td>2006</td>\n",
       "      <td>2006</td>\n",
       "      <td>0</td>\n",
       "      <td>2006</td>\n",
       "      <td>0</td>\n",
       "    </tr>\n",
       "  </tbody>\n",
       "</table>\n",
       "</div>"
      ],
      "text/plain": [
       "       work_id author_position    author_id institution_id  first_pub_year  \\\n",
       "0  W1033085884           first  A3022368640       I5388228            2006   \n",
       "1  W1033085884          middle  A2613136029       I5388228            2003   \n",
       "2  W1033085884          middle  A2044805072       I5388228            2006   \n",
       "3  W1033085884          middle  A2886369024       I5388228            2005   \n",
       "4  W1033085884          middle  A1016359704       I5388228            2006   \n",
       "\n",
       "   last_pub_year  career_len  publication_year  scientific_age  \n",
       "0           2006           0              2006               0  \n",
       "1           2010           7              2006               3  \n",
       "2           2006           0              2006               0  \n",
       "3           2006           1              2006               1  \n",
       "4           2006           0              2006               0  "
      ]
     },
     "execution_count": 6,
     "metadata": {},
     "output_type": "execute_result"
    }
   ],
   "source": [
    "authorship.head(5)"
   ]
  },
  {
   "cell_type": "code",
   "execution_count": 7,
   "id": "5be6917a-4f60-4617-9cb7-e62668fd4de5",
   "metadata": {
    "tags": []
   },
   "outputs": [
    {
     "data": {
      "text/plain": [
       "903183"
      ]
     },
     "execution_count": 7,
     "metadata": {},
     "output_type": "execute_result"
    }
   ],
   "source": [
    "len(set(authorship.work_id))"
   ]
  },
  {
   "cell_type": "code",
   "execution_count": 8,
   "id": "6213e5ca-c418-4c32-9c10-ac7a46cfcbd5",
   "metadata": {
    "tags": []
   },
   "outputs": [],
   "source": [
    "inst_completeness = pd.read_csv('G1_mentee_inst_completeness.csv')"
   ]
  },
  {
   "cell_type": "code",
   "execution_count": 9,
   "id": "73f73216-4e15-4a16-a419-a613005040d1",
   "metadata": {
    "tags": []
   },
   "outputs": [
    {
     "data": {
      "text/plain": [
       "751272"
      ]
     },
     "execution_count": 9,
     "metadata": {},
     "output_type": "execute_result"
    }
   ],
   "source": [
    "target_works1 = set(inst_completeness['work_id'][inst_completeness['ratio_inst.']>0])\n",
    "len(target_works1)"
   ]
  },
  {
   "cell_type": "code",
   "execution_count": 10,
   "id": "d7ec5a53-49e7-412e-835d-90598c0fe298",
   "metadata": {
    "tags": []
   },
   "outputs": [],
   "source": [
    "authorship = authorship[authorship.work_id.isin(target_works1)]"
   ]
  },
  {
   "cell_type": "code",
   "execution_count": 11,
   "id": "cd089230-1fb7-4312-bdaf-49653e043217",
   "metadata": {
    "tags": []
   },
   "outputs": [],
   "source": [
    "def group_info(author_i,df,backward_window,scientific_age_window):\n",
    "    auship = df\n",
    "    \n",
    "    # Method2\n",
    "    #mentor's all last-author publications\n",
    "    works_i = auship['work_id'][(auship.author_id==author_i)&(auship.author_position=='last')]\n",
    "    \n",
    "\n",
    "    auship_i = auship[auship.work_id.isin(works_i)].sort_values(by='publication_year')\n",
    "    # print('len(auship_i) : ',len(auship_i))\n",
    "\n",
    "    auship_null = auship_i[~auship_i.institution_id.isnull()]\n",
    "\n",
    "    # print('the ratio of with institution : ','{:.0%}'.format(len(auship_null)/len(auship_i)))\n",
    "    \n",
    "    years_i = auship_i.publication_year\n",
    "    try:\n",
    "        start_year = min(years_i)\n",
    "        end_year = max(years_i)\n",
    "    except:\n",
    "        start_year = 2021\n",
    "        end_year = 2022\n",
    "    # print('start_year : ',start_year)\n",
    "    # print('end_year : ',end_year)\n",
    "    \n",
    "    Group = pd.DataFrame([],columns=['work_id','author_position', 'author_id', 'institution_id', 'publication_year',\n",
    "                                               'first_pub_year', 'scientific_age', 'group_size', 'mentor_id', 'current_year', 'ratio_institution'])\n",
    "   \n",
    "    for current_year in range(start_year,end_year+1):\n",
    "        # print('current_year : ',current_year)\n",
    "        auship_i_back = auship_i[(auship_i.publication_year>=current_year-backward_window)&\n",
    "                                (auship_i.publication_year<=current_year)]\n",
    "        \n",
    "        auship_i_back =  auship_i_back.reset_index().drop(columns=['index'])\n",
    "        #new consideration : current_scientific_age\n",
    "        csa = np.array(auship_i_back['first_pub_year'] - current_year)*-1\n",
    "        auship_i_back['current_scientific_age']  = csa\n",
    "\n",
    "        auship_i_back_notnull = auship_i_back[~auship_i_back.institution_id.isnull()]\n",
    "        \n",
    "        \n",
    "        if len(auship_i_back)==0:\n",
    "            ratio_institution = 0\n",
    "        else:\n",
    "            ratio_institution = len(auship_i_back_notnull)/len(auship_i_back)\n",
    "            \n",
    "            # print('the ratio of with institution : ','{:.0%}'.format(ratio_institution))\n",
    "        \n",
    "        \n",
    "        # ratio_institution = len(auship_i_back_notnull)/len(auship_i_back)\n",
    "        # print('the ratio of with institution : ','{:.0%}'.format(ratio_institution))\n",
    "\n",
    "        if not ratio_institution==0:\n",
    "            try:\n",
    "                institution_i = auship_i_back['institution_id'][auship_i_back.author_id==author_i].mode().iloc[0]\n",
    "                # print('institution_i : ',institution_i)\n",
    "\n",
    "                group_i = auship_i_back[(auship_i_back.institution_id==institution_i)\n",
    "                                       &(auship_i_back.current_scientific_age<=scientific_age_window) # see above: current_scientific_age\n",
    "                                       &(auship_i_back.author_id!=author_i)]\n",
    "\n",
    "                group_size = len(set(group_i.author_id))\n",
    "            # print('group_size : ',group_size)\n",
    "            except:\n",
    "                group_size = 0\n",
    "            if group_size>0:\n",
    "                group_i = group_i.assign(group_size = group_size)\n",
    "                group_i = group_i.assign(mentor_id = author_i)\n",
    "                group_i = group_i.assign(current_year = current_year)\n",
    "                group_i = group_i.assign(ratio_institution = ratio_institution)\n",
    "            else:\n",
    "                group_i = pd.DataFrame([],columns=['work_id','author_position', 'author_id', 'institution_id', 'publication_year',\n",
    "                                               'first_pub_year', 'scientific_age', 'group_size', 'mentor_id', 'current_year', 'ratio_institution'])\n",
    "        else:\n",
    "            group_i = pd.DataFrame([],columns=['work_id','author_position', 'author_id', 'institution_id', 'publication_year',\n",
    "                                               'first_pub_year', 'scientific_age', 'group_size', 'mentor_id', 'current_year', 'ratio_institution'])\n",
    "        Group = pd.concat((Group,group_i))\n",
    "    return Group"
   ]
  },
  {
   "cell_type": "code",
   "execution_count": 12,
   "id": "6c9cfbba-487f-4074-a105-edce230e1977",
   "metadata": {
    "scrolled": true,
    "tags": []
   },
   "outputs": [
    {
     "name": "stdout",
     "output_type": "stream",
     "text": [
      "6000\n",
      "6010\n",
      "6020\n",
      "6030\n",
      "6040\n",
      "6050\n",
      "6060\n",
      "6070\n",
      "6080\n",
      "6090\n",
      "6100\n",
      "6110\n",
      "6120\n",
      "6130\n",
      "6140\n",
      "6150\n",
      "6160\n",
      "6170\n",
      "6180\n",
      "6190\n",
      "6200\n",
      "6210\n",
      "6220\n",
      "6230\n",
      "6240\n",
      "6250\n",
      "6260\n",
      "6270\n",
      "6280\n",
      "6290\n",
      "6300\n",
      "6310\n",
      "6320\n",
      "6330\n",
      "6340\n",
      "6350\n",
      "6360\n",
      "6370\n",
      "6380\n",
      "6390\n",
      "6400\n",
      "6410\n",
      "6420\n",
      "6430\n",
      "6440\n",
      "6450\n",
      "6460\n",
      "6470\n",
      "6480\n",
      "6490\n",
      "6500\n",
      "6510\n",
      "6520\n",
      "6530\n",
      "6540\n",
      "6550\n",
      "6560\n",
      "6570\n",
      "6580\n",
      "6590\n",
      "6600\n",
      "6610\n",
      "6620\n",
      "6630\n",
      "6640\n",
      "6650\n",
      "6660\n",
      "6670\n",
      "6680\n",
      "6690\n",
      "6700\n",
      "6710\n",
      "6720\n",
      "6730\n",
      "6740\n",
      "6750\n",
      "6760\n",
      "6770\n",
      "6780\n",
      "6790\n",
      "6800\n",
      "6810\n",
      "6820\n",
      "6830\n",
      "6840\n",
      "6850\n",
      "6860\n",
      "6870\n",
      "6880\n",
      "6890\n",
      "6900\n",
      "6910\n",
      "6920\n",
      "6930\n",
      "6940\n"
     ]
    }
   ],
   "source": [
    "backward_window = 5\n",
    "scientific_age_window = 10\n",
    "Data = pd.DataFrame([],columns=['work_id','author_position', 'author_id', 'institution_id', 'publication_year',\n",
    "                                               'first_pub_year', 'scientific_age', 'group_size', 'mentor_id', 'current_year', 'ratio_institution'])\n",
    "\n",
    "for i in range(n0,n1):\n",
    "    author_i = target_author[i]\n",
    "    data = group_info(author_i,authorship,backward_window,scientific_age_window)\n",
    "    Data = pd.concat((Data,data))\n",
    "    if i%10==0:\n",
    "        print(i)\n",
    "\n",
    "Data['current_scientific_age'] = Data['current_year'] - Data['first_pub_year']\n",
    "Data.to_csv(f'groupsize/author_{n0}_{n1}.csv',index=0)"
   ]
  },
  {
   "cell_type": "code",
   "execution_count": null,
   "id": "31ac6bb2-83f4-427a-bd6c-f8ae6cd67490",
   "metadata": {},
   "outputs": [],
   "source": []
  }
 ],
 "metadata": {
  "kernelspec": {
   "display_name": "Python 3 (ipykernel)",
   "language": "python",
   "name": "python3"
  },
  "language_info": {
   "codemirror_mode": {
    "name": "ipython",
    "version": 3
   },
   "file_extension": ".py",
   "mimetype": "text/x-python",
   "name": "python",
   "nbconvert_exporter": "python",
   "pygments_lexer": "ipython3",
   "version": "3.11.3"
  }
 },
 "nbformat": 4,
 "nbformat_minor": 5
}
