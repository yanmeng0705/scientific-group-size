{
 "cells": [
  {
   "cell_type": "code",
   "execution_count": 1,
   "id": "5b7591fa-6639-407f-a270-f1b622392ba0",
   "metadata": {
    "tags": []
   },
   "outputs": [],
   "source": [
    "import pandas as pd\n",
    "import os\n",
    "import random\n",
    "import numpy as np\n",
    "import matplotlib.pyplot as plt\n",
    "import seaborn as sns"
   ]
  },
  {
   "cell_type": "code",
   "execution_count": 3,
   "id": "ae9fbeed-ef76-4033-bcc2-d57ea669caca",
   "metadata": {
    "tags": []
   },
   "outputs": [],
   "source": [
    "group_info = pd.read_csv('group_info.csv')"
   ]
  },
  {
   "cell_type": "code",
   "execution_count": 4,
   "id": "32f15889-01b4-4135-915a-d0d0be30c74b",
   "metadata": {
    "tags": []
   },
   "outputs": [
    {
     "data": {
      "text/html": [
       "<div>\n",
       "<style scoped>\n",
       "    .dataframe tbody tr th:only-of-type {\n",
       "        vertical-align: middle;\n",
       "    }\n",
       "\n",
       "    .dataframe tbody tr th {\n",
       "        vertical-align: top;\n",
       "    }\n",
       "\n",
       "    .dataframe thead th {\n",
       "        text-align: right;\n",
       "    }\n",
       "</style>\n",
       "<table border=\"1\" class=\"dataframe\">\n",
       "  <thead>\n",
       "    <tr style=\"text-align: right;\">\n",
       "      <th></th>\n",
       "      <th>work_id</th>\n",
       "      <th>author_position</th>\n",
       "      <th>author_id</th>\n",
       "      <th>institution_id</th>\n",
       "      <th>publication_year</th>\n",
       "      <th>scientific_age</th>\n",
       "      <th>group_size</th>\n",
       "      <th>mentor_id</th>\n",
       "      <th>current_year</th>\n",
       "      <th>ratio_institution</th>\n",
       "      <th>first_pub_year</th>\n",
       "      <th>last_pub_year</th>\n",
       "      <th>career_len</th>\n",
       "      <th>mentor_first_pub_year</th>\n",
       "      <th>mentor_scientific_age</th>\n",
       "    </tr>\n",
       "  </thead>\n",
       "  <tbody>\n",
       "    <tr>\n",
       "      <th>0</th>\n",
       "      <td>W3106330698</td>\n",
       "      <td>last</td>\n",
       "      <td>A2992032169</td>\n",
       "      <td>I102197404</td>\n",
       "      <td>2001</td>\n",
       "      <td>0</td>\n",
       "      <td>1</td>\n",
       "      <td>A2620033670</td>\n",
       "      <td>2001</td>\n",
       "      <td>1.0</td>\n",
       "      <td>2001</td>\n",
       "      <td>2002</td>\n",
       "      <td>1</td>\n",
       "      <td>2001</td>\n",
       "      <td>0</td>\n",
       "    </tr>\n",
       "    <tr>\n",
       "      <th>1</th>\n",
       "      <td>W3106330698</td>\n",
       "      <td>last</td>\n",
       "      <td>A2992032169</td>\n",
       "      <td>I102197404</td>\n",
       "      <td>2001</td>\n",
       "      <td>0</td>\n",
       "      <td>1</td>\n",
       "      <td>A2620033670</td>\n",
       "      <td>2002</td>\n",
       "      <td>1.0</td>\n",
       "      <td>2001</td>\n",
       "      <td>2002</td>\n",
       "      <td>1</td>\n",
       "      <td>2001</td>\n",
       "      <td>1</td>\n",
       "    </tr>\n",
       "    <tr>\n",
       "      <th>2</th>\n",
       "      <td>W2017298868</td>\n",
       "      <td>last</td>\n",
       "      <td>A2992032169</td>\n",
       "      <td>I102197404</td>\n",
       "      <td>2002</td>\n",
       "      <td>1</td>\n",
       "      <td>1</td>\n",
       "      <td>A2620033670</td>\n",
       "      <td>2002</td>\n",
       "      <td>1.0</td>\n",
       "      <td>2001</td>\n",
       "      <td>2002</td>\n",
       "      <td>1</td>\n",
       "      <td>2001</td>\n",
       "      <td>1</td>\n",
       "    </tr>\n",
       "    <tr>\n",
       "      <th>3</th>\n",
       "      <td>W3106330698</td>\n",
       "      <td>last</td>\n",
       "      <td>A2992032169</td>\n",
       "      <td>I102197404</td>\n",
       "      <td>2001</td>\n",
       "      <td>0</td>\n",
       "      <td>1</td>\n",
       "      <td>A2620033670</td>\n",
       "      <td>2003</td>\n",
       "      <td>1.0</td>\n",
       "      <td>2001</td>\n",
       "      <td>2002</td>\n",
       "      <td>1</td>\n",
       "      <td>2001</td>\n",
       "      <td>2</td>\n",
       "    </tr>\n",
       "    <tr>\n",
       "      <th>4</th>\n",
       "      <td>W2017298868</td>\n",
       "      <td>last</td>\n",
       "      <td>A2992032169</td>\n",
       "      <td>I102197404</td>\n",
       "      <td>2002</td>\n",
       "      <td>1</td>\n",
       "      <td>1</td>\n",
       "      <td>A2620033670</td>\n",
       "      <td>2003</td>\n",
       "      <td>1.0</td>\n",
       "      <td>2001</td>\n",
       "      <td>2002</td>\n",
       "      <td>1</td>\n",
       "      <td>2001</td>\n",
       "      <td>2</td>\n",
       "    </tr>\n",
       "  </tbody>\n",
       "</table>\n",
       "</div>"
      ],
      "text/plain": [
       "       work_id author_position    author_id institution_id  publication_year  \\\n",
       "0  W3106330698            last  A2992032169     I102197404              2001   \n",
       "1  W3106330698            last  A2992032169     I102197404              2001   \n",
       "2  W2017298868            last  A2992032169     I102197404              2002   \n",
       "3  W3106330698            last  A2992032169     I102197404              2001   \n",
       "4  W2017298868            last  A2992032169     I102197404              2002   \n",
       "\n",
       "   scientific_age  group_size    mentor_id  current_year  ratio_institution  \\\n",
       "0               0           1  A2620033670          2001                1.0   \n",
       "1               0           1  A2620033670          2002                1.0   \n",
       "2               1           1  A2620033670          2002                1.0   \n",
       "3               0           1  A2620033670          2003                1.0   \n",
       "4               1           1  A2620033670          2003                1.0   \n",
       "\n",
       "   first_pub_year  last_pub_year  career_len  mentor_first_pub_year  \\\n",
       "0            2001           2002           1                   2001   \n",
       "1            2001           2002           1                   2001   \n",
       "2            2001           2002           1                   2001   \n",
       "3            2001           2002           1                   2001   \n",
       "4            2001           2002           1                   2001   \n",
       "\n",
       "   mentor_scientific_age  \n",
       "0                      0  \n",
       "1                      1  \n",
       "2                      1  \n",
       "3                      2  \n",
       "4                      2  "
      ]
     },
     "execution_count": 4,
     "metadata": {},
     "output_type": "execute_result"
    }
   ],
   "source": [
    "group_info.head(5)"
   ]
  },
  {
   "cell_type": "code",
   "execution_count": 5,
   "id": "574326a6-2799-4ffe-a2af-ec5019073a7c",
   "metadata": {
    "tags": []
   },
   "outputs": [
    {
     "data": {
      "text/plain": [
       "2023"
      ]
     },
     "execution_count": 5,
     "metadata": {},
     "output_type": "execute_result"
    }
   ],
   "source": [
    "max(group_info.current_year)"
   ]
  },
  {
   "cell_type": "code",
   "execution_count": 6,
   "id": "7bfc7f6f-84ad-48b6-816a-a41d0aa7401c",
   "metadata": {
    "tags": []
   },
   "outputs": [
    {
     "name": "stdout",
     "output_type": "stream",
     "text": [
      "8224257\n"
     ]
    }
   ],
   "source": [
    "print(len(group_info))"
   ]
  },
  {
   "cell_type": "markdown",
   "id": "20a17fc8-c591-43c7-ac68-f91edc750a56",
   "metadata": {},
   "source": [
    "##### current_year is the important iterative variable"
   ]
  },
  {
   "cell_type": "markdown",
   "id": "bbf2153e-8b05-4d76-ac40-17236b4bc1ea",
   "metadata": {},
   "source": [
    "#### Case Study"
   ]
  },
  {
   "cell_type": "code",
   "execution_count": 30,
   "id": "ee8394e1-838c-4858-8d8a-0fedbfc24a38",
   "metadata": {
    "tags": []
   },
   "outputs": [
    {
     "name": "stdout",
     "output_type": "stream",
     "text": [
      "58762\n"
     ]
    }
   ],
   "source": [
    "current_year = 2000\n",
    "completeness = 0.8\n",
    "\n",
    "# group_info_2000 = group_info[group_info.current_year==current_year]\n",
    "\n",
    "group_info_2000 = group_info[['author_id','group_size','career_len','mentor_id']][(group_info.current_year==current_year)\n",
    "                            &(group_info.ratio_institution>=completeness)].drop_duplicates()   # limitation : the completeness of institution information\n",
    "print(len(group_info_2000))"
   ]
  },
  {
   "cell_type": "code",
   "execution_count": 31,
   "id": "c05204e6-e801-4922-9523-56b9d7824ff7",
   "metadata": {
    "tags": []
   },
   "outputs": [
    {
     "data": {
      "text/html": [
       "<div>\n",
       "<style scoped>\n",
       "    .dataframe tbody tr th:only-of-type {\n",
       "        vertical-align: middle;\n",
       "    }\n",
       "\n",
       "    .dataframe tbody tr th {\n",
       "        vertical-align: top;\n",
       "    }\n",
       "\n",
       "    .dataframe thead th {\n",
       "        text-align: right;\n",
       "    }\n",
       "</style>\n",
       "<table border=\"1\" class=\"dataframe\">\n",
       "  <thead>\n",
       "    <tr style=\"text-align: right;\">\n",
       "      <th></th>\n",
       "      <th>author_id</th>\n",
       "      <th>group_size</th>\n",
       "      <th>career_len</th>\n",
       "      <th>mentor_id</th>\n",
       "    </tr>\n",
       "  </thead>\n",
       "  <tbody>\n",
       "    <tr>\n",
       "      <th>236</th>\n",
       "      <td>A2102791458</td>\n",
       "      <td>9</td>\n",
       "      <td>24</td>\n",
       "      <td>A2620220593</td>\n",
       "    </tr>\n",
       "    <tr>\n",
       "      <th>237</th>\n",
       "      <td>A2044233755</td>\n",
       "      <td>9</td>\n",
       "      <td>26</td>\n",
       "      <td>A2620220593</td>\n",
       "    </tr>\n",
       "    <tr>\n",
       "      <th>238</th>\n",
       "      <td>A2142090473</td>\n",
       "      <td>9</td>\n",
       "      <td>8</td>\n",
       "      <td>A2620220593</td>\n",
       "    </tr>\n",
       "    <tr>\n",
       "      <th>239</th>\n",
       "      <td>A2096733727</td>\n",
       "      <td>9</td>\n",
       "      <td>5</td>\n",
       "      <td>A2620220593</td>\n",
       "    </tr>\n",
       "    <tr>\n",
       "      <th>244</th>\n",
       "      <td>A2585269514</td>\n",
       "      <td>9</td>\n",
       "      <td>0</td>\n",
       "      <td>A2620220593</td>\n",
       "    </tr>\n",
       "  </tbody>\n",
       "</table>\n",
       "</div>"
      ],
      "text/plain": [
       "       author_id  group_size  career_len    mentor_id\n",
       "236  A2102791458           9          24  A2620220593\n",
       "237  A2044233755           9          26  A2620220593\n",
       "238  A2142090473           9           8  A2620220593\n",
       "239  A2096733727           9           5  A2620220593\n",
       "244  A2585269514           9           0  A2620220593"
      ]
     },
     "execution_count": 31,
     "metadata": {},
     "output_type": "execute_result"
    }
   ],
   "source": [
    "group_info_2000.head(5)"
   ]
  },
  {
   "cell_type": "code",
   "execution_count": 32,
   "id": "ffdd813d-8864-4936-9251-ab24318e6959",
   "metadata": {
    "tags": []
   },
   "outputs": [
    {
     "name": "stdout",
     "output_type": "stream",
     "text": [
      "num of mentor :  6102\n",
      "num of mentee :  49419\n"
     ]
    }
   ],
   "source": [
    "mentor = list(group_info_2000.mentor_id.drop_duplicates())\n",
    "print('num of mentor : ',len(mentor))\n",
    "\n",
    "mentee = list(group_info_2000.author_id.drop_duplicates())\n",
    "print('num of mentee : ',len(mentee))"
   ]
  },
  {
   "cell_type": "markdown",
   "id": "b0fe1740-431d-413e-a6f5-192470b7753c",
   "metadata": {},
   "source": [
    "##### examine whether a mentee has more than one mentor"
   ]
  },
  {
   "cell_type": "code",
   "execution_count": 33,
   "id": "8052cd60-7e86-4915-9e28-4ff980965216",
   "metadata": {
    "tags": []
   },
   "outputs": [],
   "source": [
    "temp = group_info_2000.groupby('author_id')['author_id'].agg('count').reset_index(name='count')"
   ]
  },
  {
   "cell_type": "code",
   "execution_count": 34,
   "id": "636508e3-421f-44ea-aa7e-eb4694bcb5db",
   "metadata": {
    "tags": []
   },
   "outputs": [],
   "source": [
    "# temp.head(5)"
   ]
  },
  {
   "cell_type": "code",
   "execution_count": 35,
   "id": "74a4df80-aa59-4595-9f3f-c405808d0a17",
   "metadata": {
    "tags": []
   },
   "outputs": [],
   "source": [
    "temp = temp[temp['count']>1]"
   ]
  },
  {
   "cell_type": "code",
   "execution_count": 36,
   "id": "7a1b897e-4b91-40db-8074-7c172eff21b6",
   "metadata": {
    "tags": []
   },
   "outputs": [],
   "source": [
    "# temp.sample(5)"
   ]
  },
  {
   "cell_type": "code",
   "execution_count": 37,
   "id": "c94f77ae-b24b-4de5-a2c6-e9b8dc3bb228",
   "metadata": {
    "tags": []
   },
   "outputs": [],
   "source": [
    "author_multi_group = list(temp.author_id)"
   ]
  },
  {
   "cell_type": "code",
   "execution_count": 38,
   "id": "ca1f61e9-24e6-42bf-9e30-b80202ef30a1",
   "metadata": {
    "tags": []
   },
   "outputs": [],
   "source": [
    "group_info_2000_multi_group = group_info_2000[group_info_2000.author_id.isin(author_multi_group)]"
   ]
  },
  {
   "cell_type": "code",
   "execution_count": 39,
   "id": "02d4ffc3-9456-4599-b7f0-07343916f3ac",
   "metadata": {
    "tags": []
   },
   "outputs": [
    {
     "data": {
      "text/html": [
       "<div>\n",
       "<style scoped>\n",
       "    .dataframe tbody tr th:only-of-type {\n",
       "        vertical-align: middle;\n",
       "    }\n",
       "\n",
       "    .dataframe tbody tr th {\n",
       "        vertical-align: top;\n",
       "    }\n",
       "\n",
       "    .dataframe thead th {\n",
       "        text-align: right;\n",
       "    }\n",
       "</style>\n",
       "<table border=\"1\" class=\"dataframe\">\n",
       "  <thead>\n",
       "    <tr style=\"text-align: right;\">\n",
       "      <th></th>\n",
       "      <th>author_id</th>\n",
       "      <th>group_size</th>\n",
       "      <th>career_len</th>\n",
       "      <th>mentor_id</th>\n",
       "    </tr>\n",
       "  </thead>\n",
       "  <tbody>\n",
       "    <tr>\n",
       "      <th>979</th>\n",
       "      <td>A2467232034</td>\n",
       "      <td>13</td>\n",
       "      <td>28</td>\n",
       "      <td>A2624513062</td>\n",
       "    </tr>\n",
       "    <tr>\n",
       "      <th>980</th>\n",
       "      <td>A2421386536</td>\n",
       "      <td>13</td>\n",
       "      <td>28</td>\n",
       "      <td>A2624513062</td>\n",
       "    </tr>\n",
       "    <tr>\n",
       "      <th>981</th>\n",
       "      <td>A2159000815</td>\n",
       "      <td>13</td>\n",
       "      <td>3</td>\n",
       "      <td>A2624513062</td>\n",
       "    </tr>\n",
       "    <tr>\n",
       "      <th>988</th>\n",
       "      <td>A2111999924</td>\n",
       "      <td>13</td>\n",
       "      <td>3</td>\n",
       "      <td>A2624513062</td>\n",
       "    </tr>\n",
       "    <tr>\n",
       "      <th>992</th>\n",
       "      <td>A2723691872</td>\n",
       "      <td>13</td>\n",
       "      <td>25</td>\n",
       "      <td>A2624513062</td>\n",
       "    </tr>\n",
       "  </tbody>\n",
       "</table>\n",
       "</div>"
      ],
      "text/plain": [
       "       author_id  group_size  career_len    mentor_id\n",
       "979  A2467232034          13          28  A2624513062\n",
       "980  A2421386536          13          28  A2624513062\n",
       "981  A2159000815          13           3  A2624513062\n",
       "988  A2111999924          13           3  A2624513062\n",
       "992  A2723691872          13          25  A2624513062"
      ]
     },
     "execution_count": 39,
     "metadata": {},
     "output_type": "execute_result"
    }
   ],
   "source": [
    "group_info_2000_multi_group.head(5)"
   ]
  },
  {
   "cell_type": "code",
   "execution_count": 40,
   "id": "1b79c7d8-dd3e-4f43-9f3d-cb208e8bf8de",
   "metadata": {
    "tags": []
   },
   "outputs": [
    {
     "data": {
      "image/png": "[encoded data removed]",
      "text/plain": [
       "<Figure size 500x309 with 1 Axes>"
      ]
     },
     "metadata": {},
     "output_type": "display_data"
    }
   ],
   "source": [
    "# display preset\n",
    "sns.set(style='ticks', font_scale=1.0, font='Arial')\n",
    "\n",
    "fig, ax = plt.subplots(constrained_layout=True,figsize=[1*5,0.618*5])\n",
    "\n",
    "# plot\n",
    "sns.histplot(data=group_info_2000_multi_group, x=\"group_size\",stat='proportion', #cumulative=1,\n",
    "             ax=ax,label='pdf plot')\n",
    "\n",
    "sns.ecdfplot(data=group_info_2000_multi_group, x=\"group_size\",stat='proportion',complementary=0,\n",
    "             ax=ax,label='cdf plot')\n",
    "\n",
    "Q75 = np.quantile(group_info_2000['group_size'],0.75)\n",
    "Q25 = np.quantile(group_info_2000['group_size'],0.25)\n",
    "\n",
    "ax.axvline(x=Q75,ls='--',color='r',label=f'Original Big ({int(Q75)})')\n",
    "ax.axvline(x=Q25,ls='--',color='g',label=f'Original Small ({int(Q25)})')\n",
    "# ax.annotate(f'Original Big ({int(Q75)})', xy=(Q75, 0.90), xytext=(Q75, 0.90),\n",
    "#             arrowprops=dict(facecolor='r', shrink=0.05,edgecolor='r'),fontsize=10)\n",
    "\n",
    "# ax.annotate(f'Original Small ({int(Q25)})', xy=(Q25, 0.70), xytext=(Q25, 0.70),\n",
    "#             arrowprops=dict(facecolor='g', shrink=0.05,edgecolor='g'),fontsize=10)\n",
    "ratio = round(len(group_info_2000_multi_group)/len(group_info_2000),2)\n",
    "ax.set(title = f'Ratio in all mentees = {ratio}, Year {current_year}')\n",
    "plt.legend(frameon=0)\n",
    "fig.savefig(f'figs/multipul group/{current_year}.pdf')"
   ]
  },
  {
   "cell_type": "markdown",
   "id": "bcc92fbc-c5d2-4c7f-a09a-ccffc48236d8",
   "metadata": {
    "tags": []
   },
   "source": [
    "#### Institution completeness"
   ]
  },
  {
   "cell_type": "code",
   "execution_count": 5,
   "id": "f5aa49b4-1905-4211-a881-738468e4623f",
   "metadata": {
    "tags": []
   },
   "outputs": [],
   "source": [
    "all_auship = pd.read_csv('work_authorship.csv')"
   ]
  },
  {
   "cell_type": "code",
   "execution_count": 6,
   "id": "6587f677-1e9f-4a08-99a2-16cf5b4edf6b",
   "metadata": {
    "tags": []
   },
   "outputs": [
    {
     "data": {
      "text/html": [
       "<div>\n",
       "<style scoped>\n",
       "    .dataframe tbody tr th:only-of-type {\n",
       "        vertical-align: middle;\n",
       "    }\n",
       "\n",
       "    .dataframe tbody tr th {\n",
       "        vertical-align: top;\n",
       "    }\n",
       "\n",
       "    .dataframe thead th {\n",
       "        text-align: right;\n",
       "    }\n",
       "</style>\n",
       "<table border=\"1\" class=\"dataframe\">\n",
       "  <thead>\n",
       "    <tr style=\"text-align: right;\">\n",
       "      <th></th>\n",
       "      <th>work_id</th>\n",
       "      <th>author_position</th>\n",
       "      <th>author_id</th>\n",
       "      <th>institution_id</th>\n",
       "      <th>publication_year</th>\n",
       "      <th>first_pub_year</th>\n",
       "      <th>last_pub_year</th>\n",
       "      <th>career_len</th>\n",
       "      <th>scientific_age</th>\n",
       "    </tr>\n",
       "  </thead>\n",
       "  <tbody>\n",
       "    <tr>\n",
       "      <th>0</th>\n",
       "      <td>W1000433918</td>\n",
       "      <td>first</td>\n",
       "      <td>A2236851489</td>\n",
       "      <td>I1322918889</td>\n",
       "      <td>1990</td>\n",
       "      <td>1953</td>\n",
       "      <td>1991</td>\n",
       "      <td>38</td>\n",
       "      <td>37</td>\n",
       "    </tr>\n",
       "    <tr>\n",
       "      <th>1</th>\n",
       "      <td>W1000433918</td>\n",
       "      <td>middle</td>\n",
       "      <td>A2443213595</td>\n",
       "      <td>I2613432</td>\n",
       "      <td>1990</td>\n",
       "      <td>1986</td>\n",
       "      <td>2020</td>\n",
       "      <td>34</td>\n",
       "      <td>4</td>\n",
       "    </tr>\n",
       "    <tr>\n",
       "      <th>2</th>\n",
       "      <td>W1000433918</td>\n",
       "      <td>middle</td>\n",
       "      <td>A2301774941</td>\n",
       "      <td>I1322918889</td>\n",
       "      <td>1990</td>\n",
       "      <td>1981</td>\n",
       "      <td>2022</td>\n",
       "      <td>41</td>\n",
       "      <td>9</td>\n",
       "    </tr>\n",
       "    <tr>\n",
       "      <th>3</th>\n",
       "      <td>W1000433918</td>\n",
       "      <td>middle</td>\n",
       "      <td>A2202964799</td>\n",
       "      <td>I204465549</td>\n",
       "      <td>1990</td>\n",
       "      <td>1970</td>\n",
       "      <td>2020</td>\n",
       "      <td>50</td>\n",
       "      <td>20</td>\n",
       "    </tr>\n",
       "    <tr>\n",
       "      <th>4</th>\n",
       "      <td>W1000433918</td>\n",
       "      <td>last</td>\n",
       "      <td>A2264557872</td>\n",
       "      <td>I204465549</td>\n",
       "      <td>1990</td>\n",
       "      <td>1990</td>\n",
       "      <td>1990</td>\n",
       "      <td>0</td>\n",
       "      <td>0</td>\n",
       "    </tr>\n",
       "  </tbody>\n",
       "</table>\n",
       "</div>"
      ],
      "text/plain": [
       "       work_id author_position    author_id institution_id  publication_year  \\\n",
       "0  W1000433918           first  A2236851489    I1322918889              1990   \n",
       "1  W1000433918          middle  A2443213595       I2613432              1990   \n",
       "2  W1000433918          middle  A2301774941    I1322918889              1990   \n",
       "3  W1000433918          middle  A2202964799     I204465549              1990   \n",
       "4  W1000433918            last  A2264557872     I204465549              1990   \n",
       "\n",
       "   first_pub_year  last_pub_year  career_len  scientific_age  \n",
       "0            1953           1991          38              37  \n",
       "1            1986           2020          34               4  \n",
       "2            1981           2022          41               9  \n",
       "3            1970           2020          50              20  \n",
       "4            1990           1990           0               0  "
      ]
     },
     "execution_count": 6,
     "metadata": {},
     "output_type": "execute_result"
    }
   ],
   "source": [
    "all_auship.head(5)"
   ]
  },
  {
   "cell_type": "code",
   "execution_count": 7,
   "id": "0613030c-90c1-417e-95d1-b79d2592dfa4",
   "metadata": {
    "tags": []
   },
   "outputs": [
    {
     "data": {
      "text/plain": [
       "583883"
      ]
     },
     "execution_count": 7,
     "metadata": {},
     "output_type": "execute_result"
    }
   ],
   "source": [
    "len(all_auship)"
   ]
  },
  {
   "cell_type": "code",
   "execution_count": 4,
   "id": "2fb998a0-e38e-408a-9b46-a026da996f41",
   "metadata": {
    "tags": []
   },
   "outputs": [
    {
     "name": "stdout",
     "output_type": "stream",
     "text": [
      "2730484\n"
     ]
    }
   ],
   "source": [
    "work_set = set(all_auship.work_id)\n",
    "print(len(work_set))"
   ]
  },
  {
   "cell_type": "code",
   "execution_count": 5,
   "id": "140553d4-b89a-4471-b134-93e051d0dfef",
   "metadata": {
    "tags": []
   },
   "outputs": [],
   "source": [
    "def get_notnull(x):\n",
    "    temp = x[~x['institution_id'].isnull()]\n",
    "    return len(temp)/len(x)"
   ]
  },
  {
   "cell_type": "code",
   "execution_count": 6,
   "id": "94d51e7e-7cc4-40f7-9f67-e6fd9c3c1eb7",
   "metadata": {
    "scrolled": true,
    "tags": []
   },
   "outputs": [],
   "source": [
    "data = all_auship.groupby('work_id').apply(get_notnull).reset_index(name='ratio_inst.')"
   ]
  },
  {
   "cell_type": "code",
   "execution_count": 7,
   "id": "cc07f5a1-56a4-4bf9-94cd-46f831f8be93",
   "metadata": {
    "tags": []
   },
   "outputs": [
    {
     "data": {
      "text/html": [
       "<div>\n",
       "<style scoped>\n",
       "    .dataframe tbody tr th:only-of-type {\n",
       "        vertical-align: middle;\n",
       "    }\n",
       "\n",
       "    .dataframe tbody tr th {\n",
       "        vertical-align: top;\n",
       "    }\n",
       "\n",
       "    .dataframe thead th {\n",
       "        text-align: right;\n",
       "    }\n",
       "</style>\n",
       "<table border=\"1\" class=\"dataframe\">\n",
       "  <thead>\n",
       "    <tr style=\"text-align: right;\">\n",
       "      <th></th>\n",
       "      <th>work_id</th>\n",
       "      <th>ratio_inst.</th>\n",
       "    </tr>\n",
       "  </thead>\n",
       "  <tbody>\n",
       "    <tr>\n",
       "      <th>0</th>\n",
       "      <td>W100000002</td>\n",
       "      <td>1.0</td>\n",
       "    </tr>\n",
       "    <tr>\n",
       "      <th>1</th>\n",
       "      <td>W1000000589</td>\n",
       "      <td>0.0</td>\n",
       "    </tr>\n",
       "    <tr>\n",
       "      <th>2</th>\n",
       "      <td>W1000002739</td>\n",
       "      <td>1.0</td>\n",
       "    </tr>\n",
       "    <tr>\n",
       "      <th>3</th>\n",
       "      <td>W1000011982</td>\n",
       "      <td>1.0</td>\n",
       "    </tr>\n",
       "    <tr>\n",
       "      <th>4</th>\n",
       "      <td>W100002459</td>\n",
       "      <td>0.5</td>\n",
       "    </tr>\n",
       "  </tbody>\n",
       "</table>\n",
       "</div>"
      ],
      "text/plain": [
       "       work_id  ratio_inst.\n",
       "0   W100000002          1.0\n",
       "1  W1000000589          0.0\n",
       "2  W1000002739          1.0\n",
       "3  W1000011982          1.0\n",
       "4   W100002459          0.5"
      ]
     },
     "execution_count": 7,
     "metadata": {},
     "output_type": "execute_result"
    }
   ],
   "source": [
    "data.head(5)"
   ]
  },
  {
   "cell_type": "code",
   "execution_count": 8,
   "id": "cc50a912-d7bc-422a-b9bc-f4f662248a4d",
   "metadata": {
    "tags": []
   },
   "outputs": [
    {
     "data": {
      "text/plain": [
       "<matplotlib.legend.Legend at 0x1748da92390>"
      ]
     },
     "execution_count": 8,
     "metadata": {},
     "output_type": "execute_result"
    },
    {
     "data": {
      "image/png": "[encoded data removed]",
      "text/plain": [
       "<Figure size 500x309 with 1 Axes>"
      ]
     },
     "metadata": {},
     "output_type": "display_data"
    }
   ],
   "source": [
    "sns.set(style='ticks', font_scale=1.0, font='Arial')\n",
    "\n",
    "fig, ax = plt.subplots(constrained_layout=True,figsize=[1*5,0.618*5])\n",
    "\n",
    "# plot\n",
    "sns.histplot(data=data, x=\"ratio_inst.\",stat='proportion', #cumulative=1,\n",
    "             ax=ax,label='pdf plot')\n",
    "# sns.ecdfplot(data=data, x=\"ratio_inst.\",stat='proportion',complementary=0,\n",
    "#              ax=ax,label='cdf plot')\n",
    "plt.legend()"
   ]
  },
  {
   "cell_type": "code",
   "execution_count": 10,
   "id": "289e1c3b-7739-410d-a956-1e7c92b308a5",
   "metadata": {
    "tags": []
   },
   "outputs": [],
   "source": [
    "data1 = data"
   ]
  },
  {
   "cell_type": "code",
   "execution_count": 11,
   "id": "74aac5e7-1764-435d-8c3d-58bb8ac1c919",
   "metadata": {
    "tags": []
   },
   "outputs": [
    {
     "data": {
      "text/plain": [
       "0.2450246915931388"
      ]
     },
     "execution_count": 11,
     "metadata": {},
     "output_type": "execute_result"
    }
   ],
   "source": [
    "len(data1[data1['ratio_inst.']<0.2])/(len(data1))"
   ]
  },
  {
   "cell_type": "code",
   "execution_count": 12,
   "id": "3537c807-3473-419e-a000-717d69ba9878",
   "metadata": {
    "tags": []
   },
   "outputs": [],
   "source": [
    "data2 = data1[data1['ratio_inst.']>0.0]"
   ]
  },
  {
   "cell_type": "code",
   "execution_count": 13,
   "id": "426078cc-b546-47b9-9c8d-039e27755b98",
   "metadata": {
    "tags": []
   },
   "outputs": [
    {
     "data": {
      "text/plain": [
       "<Axes: xlabel='ratio_inst.', ylabel='Proportion'>"
      ]
     },
     "execution_count": 13,
     "metadata": {},
     "output_type": "execute_result"
    },
    {
     "data": {
      "image/png": "[encoded data removed]",
      "text/plain": [
       "<Figure size 500x309 with 1 Axes>"
      ]
     },
     "metadata": {},
     "output_type": "display_data"
    }
   ],
   "source": [
    "sns.set(style='ticks', font_scale=1.0, font='Arial')\n",
    "\n",
    "fig, ax = plt.subplots(constrained_layout=True,figsize=[1*5,0.618*5])\n",
    "\n",
    "# plot\n",
    "sns.histplot(data=data2, x=\"ratio_inst.\",stat='proportion', #cumulative=1,\n",
    "             ax=ax,label='pdf plot')\n",
    "sns.ecdfplot(data=data2, x=\"ratio_inst.\",stat='proportion',complementary=0,\n",
    "             ax=ax,label='cdf plot')"
   ]
  },
  {
   "cell_type": "code",
   "execution_count": 14,
   "id": "e6fb9c4b-66a6-41bb-afa5-9758e028dfd5",
   "metadata": {
    "tags": []
   },
   "outputs": [],
   "source": [
    "data1.to_csv('inst_completeness.csv',index=0)"
   ]
  },
  {
   "cell_type": "code",
   "execution_count": null,
   "id": "290013ee-ec53-4f93-95a5-628aa432ab1f",
   "metadata": {},
   "outputs": [],
   "source": []
  }
 ],
 "metadata": {
  "kernelspec": {
   "display_name": "Python 3 (ipykernel)",
   "language": "python",
   "name": "python3"
  },
  "language_info": {
   "codemirror_mode": {
    "name": "ipython",
    "version": 3
   },
   "file_extension": ".py",
   "mimetype": "text/x-python",
   "name": "python",
   "nbconvert_exporter": "python",
   "pygments_lexer": "ipython3",
   "version": "3.11.4"
  }
 },
 "nbformat": 4,
 "nbformat_minor": 5
}
