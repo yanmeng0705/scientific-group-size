{
 "cells": [
  {
   "cell_type": "code",
   "execution_count": 1,
   "id": "58c4fd53",
   "metadata": {},
   "outputs": [],
   "source": [
    "import pandas as pd\n",
    "from sqlalchemy import create_engine"
   ]
  },
  {
   "cell_type": "code",
   "execution_count": 2,
   "id": "0d1a8c50",
   "metadata": {},
   "outputs": [],
   "source": [
    "engine = create_engine(\"mysql+pymysql://{user}:{pw}@{host}:{port}/{db}?charset=utf8mb4\"\n",
    "                       .format(user=\"openalex_ym\",\n",
    "                               pw=\"openalex.ym\",\n",
    "                               host=\"172.18.18.167\",\n",
    "                               port=3306,\n",
    "                               db=\"openalex2022\"),\n",
    "                       )"
   ]
  },
  {
   "cell_type": "code",
   "execution_count": 3,
   "id": "4250de85",
   "metadata": {},
   "outputs": [],
   "source": [
    "author_paper = pd.read_csv('author_paper.csv')"
   ]
  },
  {
   "cell_type": "code",
   "execution_count": 4,
   "id": "f5676801",
   "metadata": {
    "scrolled": true
   },
   "outputs": [
    {
     "data": {
      "text/html": [
       "<div>\n",
       "<style scoped>\n",
       "    .dataframe tbody tr th:only-of-type {\n",
       "        vertical-align: middle;\n",
       "    }\n",
       "\n",
       "    .dataframe tbody tr th {\n",
       "        vertical-align: top;\n",
       "    }\n",
       "\n",
       "    .dataframe thead th {\n",
       "        text-align: right;\n",
       "    }\n",
       "</style>\n",
       "<table border=\"1\" class=\"dataframe\">\n",
       "  <thead>\n",
       "    <tr style=\"text-align: right;\">\n",
       "      <th></th>\n",
       "      <th>author_id</th>\n",
       "      <th>work_id</th>\n",
       "    </tr>\n",
       "  </thead>\n",
       "  <tbody>\n",
       "    <tr>\n",
       "      <th>0</th>\n",
       "      <td>A100328954</td>\n",
       "      <td>W2495177872</td>\n",
       "    </tr>\n",
       "    <tr>\n",
       "      <th>1</th>\n",
       "      <td>A100328954</td>\n",
       "      <td>W2720381919</td>\n",
       "    </tr>\n",
       "    <tr>\n",
       "      <th>2</th>\n",
       "      <td>A100328954</td>\n",
       "      <td>W2729378025</td>\n",
       "    </tr>\n",
       "  </tbody>\n",
       "</table>\n",
       "</div>"
      ],
      "text/plain": [
       "    author_id      work_id\n",
       "0  A100328954  W2495177872\n",
       "1  A100328954  W2720381919\n",
       "2  A100328954  W2729378025"
      ]
     },
     "execution_count": 4,
     "metadata": {},
     "output_type": "execute_result"
    }
   ],
   "source": [
    "author_paper.head(3)"
   ]
  },
  {
   "cell_type": "code",
   "execution_count": 10,
   "id": "8ce14d7d",
   "metadata": {},
   "outputs": [
    {
     "data": {
      "text/plain": [
       "(3787424, 2)"
      ]
     },
     "execution_count": 10,
     "metadata": {},
     "output_type": "execute_result"
    }
   ],
   "source": [
    "author_paper.shape"
   ]
  },
  {
   "cell_type": "code",
   "execution_count": 18,
   "id": "ada7d20d",
   "metadata": {},
   "outputs": [],
   "source": [
    "paper = list(author_paper.work_id.drop_duplicates())"
   ]
  },
  {
   "cell_type": "code",
   "execution_count": 14,
   "id": "7a74c7fb",
   "metadata": {},
   "outputs": [
    {
     "name": "stdout",
     "output_type": "stream",
     "text": [
      "2785349\n"
     ]
    }
   ],
   "source": [
    "print(len(paper))"
   ]
  },
  {
   "cell_type": "code",
   "execution_count": 15,
   "id": "7048f5d4",
   "metadata": {},
   "outputs": [],
   "source": [
    "author = list(author_paper.author_id.drop_duplicates())"
   ]
  },
  {
   "cell_type": "code",
   "execution_count": 16,
   "id": "48b5283b",
   "metadata": {},
   "outputs": [
    {
     "name": "stdout",
     "output_type": "stream",
     "text": [
      "20546\n"
     ]
    }
   ],
   "source": [
    "print(len(author))"
   ]
  },
  {
   "cell_type": "code",
   "execution_count": 24,
   "id": "dec2cc62",
   "metadata": {},
   "outputs": [],
   "source": [
    "paper_groups = []\n",
    "interval = 5000\n",
    "start_point = 0\n",
    "while True:\n",
    "    end_point = start_point + interval\n",
    "    try:\n",
    "        temp = paper[start_point:end_point]\n",
    "        paper_groups.append(temp)\n",
    "    except:\n",
    "        temp = paper[start_point:]\n",
    "        paper_groups.append(temp)\n",
    "        \n",
    "    start_point = end_point\n",
    "    if end_point>len(paper):\n",
    "        break"
   ]
  },
  {
   "cell_type": "code",
   "execution_count": 27,
   "id": "6e184535",
   "metadata": {},
   "outputs": [
    {
     "data": {
      "text/plain": [
       "5000"
      ]
     },
     "execution_count": 27,
     "metadata": {},
     "output_type": "execute_result"
    }
   ],
   "source": [
    "len(paper_groups[0])"
   ]
  },
  {
   "cell_type": "code",
   "execution_count": 28,
   "id": "bf4e43ad",
   "metadata": {},
   "outputs": [
    {
     "data": {
      "text/plain": [
       "558"
      ]
     },
     "execution_count": 28,
     "metadata": {},
     "output_type": "execute_result"
    }
   ],
   "source": [
    "len(paper_groups)"
   ]
  },
  {
   "cell_type": "markdown",
   "id": "d2d7ea32",
   "metadata": {},
   "source": [
    "##### Find paper_reference"
   ]
  },
  {
   "cell_type": "code",
   "execution_count": 58,
   "id": "4b9deb42",
   "metadata": {
    "scrolled": true,
    "tags": []
   },
   "outputs": [
    {
     "name": "stdout",
     "output_type": "stream",
     "text": [
      "./paper_reference/paper_reference_2000000_2005000.csv\n",
      "./paper_reference/paper_reference_2005000_2010000.csv\n",
      "./paper_reference/paper_reference_2010000_2015000.csv\n",
      "./paper_reference/paper_reference_2015000_2020000.csv\n",
      "./paper_reference/paper_reference_2020000_2025000.csv\n",
      "./paper_reference/paper_reference_2025000_2030000.csv\n",
      "./paper_reference/paper_reference_2030000_2035000.csv\n",
      "./paper_reference/paper_reference_2035000_2040000.csv\n",
      "./paper_reference/paper_reference_2040000_2045000.csv\n",
      "./paper_reference/paper_reference_2045000_2050000.csv\n",
      "./paper_reference/paper_reference_2050000_2055000.csv\n",
      "./paper_reference/paper_reference_2055000_2060000.csv\n",
      "./paper_reference/paper_reference_2060000_2065000.csv\n",
      "./paper_reference/paper_reference_2065000_2070000.csv\n",
      "./paper_reference/paper_reference_2070000_2075000.csv\n",
      "./paper_reference/paper_reference_2075000_2080000.csv\n",
      "./paper_reference/paper_reference_2080000_2085000.csv\n",
      "./paper_reference/paper_reference_2085000_2090000.csv\n",
      "./paper_reference/paper_reference_2090000_2095000.csv\n",
      "./paper_reference/paper_reference_2095000_2100000.csv\n",
      "./paper_reference/paper_reference_2100000_2105000.csv\n",
      "./paper_reference/paper_reference_2105000_2110000.csv\n",
      "./paper_reference/paper_reference_2110000_2115000.csv\n",
      "./paper_reference/paper_reference_2115000_2120000.csv\n",
      "./paper_reference/paper_reference_2120000_2125000.csv\n",
      "./paper_reference/paper_reference_2125000_2130000.csv\n",
      "./paper_reference/paper_reference_2130000_2135000.csv\n",
      "./paper_reference/paper_reference_2135000_2140000.csv\n",
      "./paper_reference/paper_reference_2140000_2145000.csv\n",
      "./paper_reference/paper_reference_2145000_2150000.csv\n",
      "./paper_reference/paper_reference_2150000_2155000.csv\n",
      "./paper_reference/paper_reference_2155000_2160000.csv\n",
      "./paper_reference/paper_reference_2160000_2165000.csv\n",
      "./paper_reference/paper_reference_2165000_2170000.csv\n",
      "./paper_reference/paper_reference_2170000_2175000.csv\n",
      "./paper_reference/paper_reference_2175000_2180000.csv\n",
      "./paper_reference/paper_reference_2180000_2185000.csv\n",
      "./paper_reference/paper_reference_2185000_2190000.csv\n",
      "./paper_reference/paper_reference_2190000_2195000.csv\n",
      "./paper_reference/paper_reference_2195000_2200000.csv\n",
      "./paper_reference/paper_reference_2200000_2205000.csv\n",
      "./paper_reference/paper_reference_2205000_2210000.csv\n",
      "./paper_reference/paper_reference_2210000_2215000.csv\n",
      "./paper_reference/paper_reference_2215000_2220000.csv\n",
      "./paper_reference/paper_reference_2220000_2225000.csv\n",
      "./paper_reference/paper_reference_2225000_2230000.csv\n",
      "./paper_reference/paper_reference_2230000_2235000.csv\n",
      "./paper_reference/paper_reference_2235000_2240000.csv\n",
      "./paper_reference/paper_reference_2240000_2245000.csv\n",
      "./paper_reference/paper_reference_2245000_2250000.csv\n",
      "./paper_reference/paper_reference_2250000_2255000.csv\n",
      "./paper_reference/paper_reference_2255000_2260000.csv\n",
      "./paper_reference/paper_reference_2260000_2265000.csv\n",
      "./paper_reference/paper_reference_2265000_2270000.csv\n",
      "./paper_reference/paper_reference_2270000_2275000.csv\n",
      "./paper_reference/paper_reference_2275000_2280000.csv\n",
      "./paper_reference/paper_reference_2280000_2285000.csv\n",
      "./paper_reference/paper_reference_2285000_2290000.csv\n",
      "./paper_reference/paper_reference_2290000_2295000.csv\n",
      "./paper_reference/paper_reference_2295000_2300000.csv\n",
      "./paper_reference/paper_reference_2300000_2305000.csv\n",
      "./paper_reference/paper_reference_2305000_2310000.csv\n",
      "./paper_reference/paper_reference_2310000_2315000.csv\n",
      "./paper_reference/paper_reference_2315000_2320000.csv\n",
      "./paper_reference/paper_reference_2320000_2325000.csv\n",
      "./paper_reference/paper_reference_2325000_2330000.csv\n",
      "./paper_reference/paper_reference_2330000_2335000.csv\n",
      "./paper_reference/paper_reference_2335000_2340000.csv\n",
      "./paper_reference/paper_reference_2340000_2345000.csv\n",
      "./paper_reference/paper_reference_2345000_2350000.csv\n",
      "./paper_reference/paper_reference_2350000_2355000.csv\n",
      "./paper_reference/paper_reference_2355000_2360000.csv\n",
      "./paper_reference/paper_reference_2360000_2365000.csv\n",
      "./paper_reference/paper_reference_2365000_2370000.csv\n",
      "./paper_reference/paper_reference_2370000_2375000.csv\n",
      "./paper_reference/paper_reference_2375000_2380000.csv\n",
      "./paper_reference/paper_reference_2380000_2385000.csv\n",
      "./paper_reference/paper_reference_2385000_2390000.csv\n",
      "./paper_reference/paper_reference_2390000_2395000.csv\n",
      "./paper_reference/paper_reference_2395000_2400000.csv\n",
      "./paper_reference/paper_reference_2400000_2405000.csv\n",
      "./paper_reference/paper_reference_2405000_2410000.csv\n",
      "./paper_reference/paper_reference_2410000_2415000.csv\n",
      "./paper_reference/paper_reference_2415000_2420000.csv\n",
      "./paper_reference/paper_reference_2420000_2425000.csv\n",
      "./paper_reference/paper_reference_2425000_2430000.csv\n",
      "./paper_reference/paper_reference_2430000_2435000.csv\n",
      "./paper_reference/paper_reference_2435000_2440000.csv\n",
      "./paper_reference/paper_reference_2440000_2445000.csv\n",
      "./paper_reference/paper_reference_2445000_2450000.csv\n",
      "./paper_reference/paper_reference_2450000_2455000.csv\n",
      "./paper_reference/paper_reference_2455000_2460000.csv\n",
      "./paper_reference/paper_reference_2460000_2465000.csv\n",
      "./paper_reference/paper_reference_2465000_2470000.csv\n",
      "./paper_reference/paper_reference_2470000_2475000.csv\n",
      "./paper_reference/paper_reference_2475000_2480000.csv\n",
      "./paper_reference/paper_reference_2480000_2485000.csv\n",
      "./paper_reference/paper_reference_2485000_2490000.csv\n",
      "./paper_reference/paper_reference_2490000_2495000.csv\n",
      "./paper_reference/paper_reference_2495000_2500000.csv\n",
      "./paper_reference/paper_reference_2500000_2505000.csv\n",
      "./paper_reference/paper_reference_2505000_2510000.csv\n",
      "./paper_reference/paper_reference_2510000_2515000.csv\n",
      "./paper_reference/paper_reference_2515000_2520000.csv\n",
      "./paper_reference/paper_reference_2520000_2525000.csv\n",
      "./paper_reference/paper_reference_2525000_2530000.csv\n",
      "./paper_reference/paper_reference_2530000_2535000.csv\n",
      "./paper_reference/paper_reference_2535000_2540000.csv\n",
      "./paper_reference/paper_reference_2540000_2545000.csv\n",
      "./paper_reference/paper_reference_2545000_2550000.csv\n",
      "./paper_reference/paper_reference_2550000_2555000.csv\n",
      "./paper_reference/paper_reference_2555000_2560000.csv\n",
      "./paper_reference/paper_reference_2560000_2565000.csv\n",
      "./paper_reference/paper_reference_2565000_2570000.csv\n",
      "./paper_reference/paper_reference_2570000_2575000.csv\n",
      "./paper_reference/paper_reference_2575000_2580000.csv\n",
      "./paper_reference/paper_reference_2580000_2585000.csv\n",
      "./paper_reference/paper_reference_2585000_2590000.csv\n",
      "./paper_reference/paper_reference_2590000_2595000.csv\n",
      "./paper_reference/paper_reference_2595000_2600000.csv\n",
      "./paper_reference/paper_reference_2600000_2605000.csv\n",
      "./paper_reference/paper_reference_2605000_2610000.csv\n",
      "./paper_reference/paper_reference_2610000_2615000.csv\n",
      "./paper_reference/paper_reference_2615000_2620000.csv\n",
      "./paper_reference/paper_reference_2620000_2625000.csv\n",
      "./paper_reference/paper_reference_2625000_2630000.csv\n",
      "./paper_reference/paper_reference_2630000_2635000.csv\n",
      "./paper_reference/paper_reference_2635000_2640000.csv\n",
      "./paper_reference/paper_reference_2640000_2645000.csv\n",
      "./paper_reference/paper_reference_2645000_2650000.csv\n",
      "./paper_reference/paper_reference_2650000_2655000.csv\n",
      "./paper_reference/paper_reference_2655000_2660000.csv\n",
      "./paper_reference/paper_reference_2660000_2665000.csv\n",
      "./paper_reference/paper_reference_2665000_2670000.csv\n",
      "./paper_reference/paper_reference_2670000_2675000.csv\n",
      "./paper_reference/paper_reference_2675000_2680000.csv\n",
      "./paper_reference/paper_reference_2680000_2685000.csv\n",
      "./paper_reference/paper_reference_2685000_2690000.csv\n",
      "./paper_reference/paper_reference_2690000_2695000.csv\n",
      "./paper_reference/paper_reference_2695000_2700000.csv\n",
      "./paper_reference/paper_reference_2700000_2705000.csv\n",
      "./paper_reference/paper_reference_2705000_2710000.csv\n",
      "./paper_reference/paper_reference_2710000_2715000.csv\n",
      "./paper_reference/paper_reference_2715000_2720000.csv\n",
      "./paper_reference/paper_reference_2720000_2725000.csv\n",
      "./paper_reference/paper_reference_2725000_2730000.csv\n",
      "./paper_reference/paper_reference_2730000_2735000.csv\n",
      "./paper_reference/paper_reference_2735000_2740000.csv\n",
      "./paper_reference/paper_reference_2740000_2745000.csv\n",
      "./paper_reference/paper_reference_2745000_2750000.csv\n",
      "./paper_reference/paper_reference_2750000_2755000.csv\n",
      "./paper_reference/paper_reference_2755000_2760000.csv\n",
      "./paper_reference/paper_reference_2760000_2765000.csv\n",
      "./paper_reference/paper_reference_2765000_2770000.csv\n",
      "./paper_reference/paper_reference_2770000_2775000.csv\n",
      "./paper_reference/paper_reference_2775000_2780000.csv\n",
      "./paper_reference/paper_reference_2780000_2785000.csv\n",
      "./paper_reference/paper_reference_2785000_2790000.csv\n",
      "CPU times: user 2min 56s, sys: 20.9 s, total: 3min 17s\n",
      "Wall time: 5min 50s\n"
     ]
    }
   ],
   "source": [
    "%%time\n",
    "for i in range(400,558):\n",
    "    sql_query = \"\"\"select works_referenced_works.work_id, \n",
    "                works_referenced_works.referenced_work_id \n",
    "\n",
    "                from works_referenced_works \n",
    "\n",
    "                where works_referenced_works.work_id in {}\n",
    "                \"\"\".format(tuple(paper_groups[i]))\n",
    "\n",
    "\n",
    "    data = pd.read_sql(sql_query, con=engine)\n",
    "    n = (i+1)*5000\n",
    "    data.to_csv(f'./paper_reference/paper_reference_{n-5000}_{n}.csv',index=0)\n",
    "    print(f'./paper_reference/paper_reference_{n-5000}_{n}.csv')"
   ]
  },
  {
   "cell_type": "code",
   "execution_count": 17,
   "id": "56a5e2ad",
   "metadata": {},
   "outputs": [
    {
     "data": {
      "text/plain": [
       "['W2495177872',\n",
       " 'W2720381919',\n",
       " 'W2729378025',\n",
       " 'W1494120849',\n",
       " 'W2611499257',\n",
       " 'W2623239147',\n",
       " 'W2697126697',\n",
       " 'W1965152366',\n",
       " 'W2614086213',\n",
       " 'W2978996539']"
      ]
     },
     "execution_count": 17,
     "metadata": {},
     "output_type": "execute_result"
    }
   ],
   "source": [
    "paper[:10]"
   ]
  },
  {
   "cell_type": "code",
   "execution_count": null,
   "id": "cb3588e0",
   "metadata": {},
   "outputs": [],
   "source": []
  }
 ],
 "metadata": {
  "kernelspec": {
   "display_name": "Python 3 (ipykernel)",
   "language": "python",
   "name": "python3"
  },
  "language_info": {
   "codemirror_mode": {
    "name": "ipython",
    "version": 3
   },
   "file_extension": ".py",
   "mimetype": "text/x-python",
   "name": "python",
   "nbconvert_exporter": "python",
   "pygments_lexer": "ipython3",
   "version": "3.11.4"
  }
 },
 "nbformat": 4,
 "nbformat_minor": 5
}
