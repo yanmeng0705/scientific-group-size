{
 "cells": [
  {
   "cell_type": "code",
   "execution_count": 3,
   "id": "9a6835e4-5e59-45a2-b593-c39cc12ca8aa",
   "metadata": {
    "tags": []
   },
   "outputs": [],
   "source": [
    "import pandas as pd\n",
    "from collections import Counter\n",
    "import matplotlib.pyplot as plt\n",
    "import seaborn as sns"
   ]
  },
  {
   "cell_type": "code",
   "execution_count": 4,
   "id": "d83a9eea-9183-40f6-ac7a-604df04590a9",
   "metadata": {
    "tags": []
   },
   "outputs": [],
   "source": [
    "neuro = pd.read_csv('neuro.csv')"
   ]
  },
  {
   "cell_type": "code",
   "execution_count": 5,
   "id": "d7655f54-f195-4902-91cf-39ffb8ae8f10",
   "metadata": {
    "tags": []
   },
   "outputs": [
    {
     "data": {
      "text/html": [
       "<div>\n",
       "<style scoped>\n",
       "    .dataframe tbody tr th:only-of-type {\n",
       "        vertical-align: middle;\n",
       "    }\n",
       "\n",
       "    .dataframe tbody tr th {\n",
       "        vertical-align: top;\n",
       "    }\n",
       "\n",
       "    .dataframe thead th {\n",
       "        text-align: right;\n",
       "    }\n",
       "</style>\n",
       "<table border=\"1\" class=\"dataframe\">\n",
       "  <thead>\n",
       "    <tr style=\"text-align: right;\">\n",
       "      <th></th>\n",
       "      <th>Unnamed: 0</th>\n",
       "      <th>CID</th>\n",
       "      <th>MenteeID</th>\n",
       "      <th>MentorID</th>\n",
       "      <th>MentorshipType</th>\n",
       "      <th>Institution</th>\n",
       "      <th>InstitutionMAGID</th>\n",
       "      <th>StartYear</th>\n",
       "      <th>StopYear</th>\n",
       "    </tr>\n",
       "  </thead>\n",
       "  <tbody>\n",
       "    <tr>\n",
       "      <th>0</th>\n",
       "      <td>0</td>\n",
       "      <td>2</td>\n",
       "      <td>2</td>\n",
       "      <td>3</td>\n",
       "      <td>1</td>\n",
       "      <td>University of California, Berkeley</td>\n",
       "      <td>95457486.0</td>\n",
       "      <td>2000</td>\n",
       "      <td>2005</td>\n",
       "    </tr>\n",
       "    <tr>\n",
       "      <th>1</th>\n",
       "      <td>1</td>\n",
       "      <td>3</td>\n",
       "      <td>4</td>\n",
       "      <td>3</td>\n",
       "      <td>2</td>\n",
       "      <td>University of California, Berkeley</td>\n",
       "      <td>95457486.0</td>\n",
       "      <td>2003</td>\n",
       "      <td>2006</td>\n",
       "    </tr>\n",
       "    <tr>\n",
       "      <th>2</th>\n",
       "      <td>2</td>\n",
       "      <td>5</td>\n",
       "      <td>6</td>\n",
       "      <td>3</td>\n",
       "      <td>1</td>\n",
       "      <td>University of California, Berkeley</td>\n",
       "      <td>95457486.0</td>\n",
       "      <td>2002</td>\n",
       "      <td>2008</td>\n",
       "    </tr>\n",
       "    <tr>\n",
       "      <th>3</th>\n",
       "      <td>3</td>\n",
       "      <td>6</td>\n",
       "      <td>18761</td>\n",
       "      <td>9</td>\n",
       "      <td>1</td>\n",
       "      <td>University of California, Berkeley</td>\n",
       "      <td>95457486.0</td>\n",
       "      <td>-1</td>\n",
       "      <td>1984</td>\n",
       "    </tr>\n",
       "    <tr>\n",
       "      <th>4</th>\n",
       "      <td>4</td>\n",
       "      <td>7</td>\n",
       "      <td>10</td>\n",
       "      <td>16</td>\n",
       "      <td>2</td>\n",
       "      <td>Washington University, Saint Louis</td>\n",
       "      <td>204465549.0</td>\n",
       "      <td>-1</td>\n",
       "      <td>-1</td>\n",
       "    </tr>\n",
       "  </tbody>\n",
       "</table>\n",
       "</div>"
      ],
      "text/plain": [
       "   Unnamed: 0  CID  MenteeID  MentorID  MentorshipType  \\\n",
       "0           0    2         2         3               1   \n",
       "1           1    3         4         3               2   \n",
       "2           2    5         6         3               1   \n",
       "3           3    6     18761         9               1   \n",
       "4           4    7        10        16               2   \n",
       "\n",
       "                          Institution  InstitutionMAGID  StartYear  StopYear  \n",
       "0  University of California, Berkeley        95457486.0       2000      2005  \n",
       "1  University of California, Berkeley        95457486.0       2003      2006  \n",
       "2  University of California, Berkeley        95457486.0       2002      2008  \n",
       "3  University of California, Berkeley        95457486.0         -1      1984  \n",
       "4  Washington University, Saint Louis       204465549.0         -1        -1  "
      ]
     },
     "execution_count": 5,
     "metadata": {},
     "output_type": "execute_result"
    }
   ],
   "source": [
    "neuro.head(5)"
   ]
  },
  {
   "cell_type": "code",
   "execution_count": 6,
   "id": "e905c05a-0a87-49ef-bb7d-b831f721786e",
   "metadata": {
    "tags": []
   },
   "outputs": [],
   "source": [
    "mentorship = pd.read_csv('/Users/yanmemgxing/Nutstore Files/scientific group/mentorship.csv')"
   ]
  },
  {
   "cell_type": "code",
   "execution_count": 7,
   "id": "6a1d6cd7-30a0-4a52-aa67-4e04d512a898",
   "metadata": {
    "tags": []
   },
   "outputs": [
    {
     "data": {
      "text/html": [
       "<div>\n",
       "<style scoped>\n",
       "    .dataframe tbody tr th:only-of-type {\n",
       "        vertical-align: middle;\n",
       "    }\n",
       "\n",
       "    .dataframe tbody tr th {\n",
       "        vertical-align: top;\n",
       "    }\n",
       "\n",
       "    .dataframe thead th {\n",
       "        text-align: right;\n",
       "    }\n",
       "</style>\n",
       "<table border=\"1\" class=\"dataframe\">\n",
       "  <thead>\n",
       "    <tr style=\"text-align: right;\">\n",
       "      <th></th>\n",
       "      <th>CID</th>\n",
       "      <th>MenteeID</th>\n",
       "      <th>MentorID</th>\n",
       "      <th>MentorshipType</th>\n",
       "      <th>Institution</th>\n",
       "      <th>InstitutionMAGID</th>\n",
       "      <th>StartYear</th>\n",
       "      <th>StopYear</th>\n",
       "    </tr>\n",
       "  </thead>\n",
       "  <tbody>\n",
       "    <tr>\n",
       "      <th>0</th>\n",
       "      <td>2</td>\n",
       "      <td>2</td>\n",
       "      <td>3</td>\n",
       "      <td>1</td>\n",
       "      <td>University of California, Berkeley</td>\n",
       "      <td>95457486.0</td>\n",
       "      <td>2000</td>\n",
       "      <td>2005</td>\n",
       "    </tr>\n",
       "    <tr>\n",
       "      <th>1</th>\n",
       "      <td>3</td>\n",
       "      <td>4</td>\n",
       "      <td>3</td>\n",
       "      <td>2</td>\n",
       "      <td>University of California, Berkeley</td>\n",
       "      <td>95457486.0</td>\n",
       "      <td>2003</td>\n",
       "      <td>2006</td>\n",
       "    </tr>\n",
       "    <tr>\n",
       "      <th>2</th>\n",
       "      <td>5</td>\n",
       "      <td>6</td>\n",
       "      <td>3</td>\n",
       "      <td>1</td>\n",
       "      <td>University of California, Berkeley</td>\n",
       "      <td>95457486.0</td>\n",
       "      <td>2002</td>\n",
       "      <td>2008</td>\n",
       "    </tr>\n",
       "    <tr>\n",
       "      <th>3</th>\n",
       "      <td>6</td>\n",
       "      <td>18761</td>\n",
       "      <td>9</td>\n",
       "      <td>1</td>\n",
       "      <td>University of California, Berkeley</td>\n",
       "      <td>95457486.0</td>\n",
       "      <td>-1</td>\n",
       "      <td>1984</td>\n",
       "    </tr>\n",
       "    <tr>\n",
       "      <th>4</th>\n",
       "      <td>7</td>\n",
       "      <td>10</td>\n",
       "      <td>16</td>\n",
       "      <td>2</td>\n",
       "      <td>Washington University, Saint Louis</td>\n",
       "      <td>204465549.0</td>\n",
       "      <td>-1</td>\n",
       "      <td>-1</td>\n",
       "    </tr>\n",
       "  </tbody>\n",
       "</table>\n",
       "</div>"
      ],
      "text/plain": [
       "   CID  MenteeID  MentorID  MentorshipType  \\\n",
       "0    2         2         3               1   \n",
       "1    3         4         3               2   \n",
       "2    5         6         3               1   \n",
       "3    6     18761         9               1   \n",
       "4    7        10        16               2   \n",
       "\n",
       "                          Institution  InstitutionMAGID  StartYear  StopYear  \n",
       "0  University of California, Berkeley        95457486.0       2000      2005  \n",
       "1  University of California, Berkeley        95457486.0       2003      2006  \n",
       "2  University of California, Berkeley        95457486.0       2002      2008  \n",
       "3  University of California, Berkeley        95457486.0         -1      1984  \n",
       "4  Washington University, Saint Louis       204465549.0         -1        -1  "
      ]
     },
     "execution_count": 7,
     "metadata": {},
     "output_type": "execute_result"
    }
   ],
   "source": [
    "mentorship.head(5)"
   ]
  },
  {
   "cell_type": "code",
   "execution_count": 8,
   "id": "0ca3cdc8-49e4-42cd-ad69-3f82d1b3ea3d",
   "metadata": {
    "tags": []
   },
   "outputs": [],
   "source": [
    "mentors = set(mentorship.MentorID)"
   ]
  },
  {
   "cell_type": "code",
   "execution_count": 9,
   "id": "d0b91302-6b5f-4e04-a569-d19eab1d2b95",
   "metadata": {
    "tags": []
   },
   "outputs": [],
   "source": [
    "neuro_surviver = pd.DataFrame(neuro['MenteeID'][neuro.MenteeID.isin(mentors)].drop_duplicates())"
   ]
  },
  {
   "cell_type": "code",
   "execution_count": 10,
   "id": "7ee35a7e-adcd-4087-a8e4-929736aef6c7",
   "metadata": {
    "tags": []
   },
   "outputs": [],
   "source": [
    "neuro_surviver['surviver'] = 1"
   ]
  },
  {
   "cell_type": "code",
   "execution_count": 11,
   "id": "04c56006-a8bf-4ac0-a3b1-5198b7688f0b",
   "metadata": {
    "tags": []
   },
   "outputs": [
    {
     "data": {
      "text/html": [
       "<div>\n",
       "<style scoped>\n",
       "    .dataframe tbody tr th:only-of-type {\n",
       "        vertical-align: middle;\n",
       "    }\n",
       "\n",
       "    .dataframe tbody tr th {\n",
       "        vertical-align: top;\n",
       "    }\n",
       "\n",
       "    .dataframe thead th {\n",
       "        text-align: right;\n",
       "    }\n",
       "</style>\n",
       "<table border=\"1\" class=\"dataframe\">\n",
       "  <thead>\n",
       "    <tr style=\"text-align: right;\">\n",
       "      <th></th>\n",
       "      <th>MenteeID</th>\n",
       "      <th>surviver</th>\n",
       "    </tr>\n",
       "  </thead>\n",
       "  <tbody>\n",
       "    <tr>\n",
       "      <th>0</th>\n",
       "      <td>2</td>\n",
       "      <td>1</td>\n",
       "    </tr>\n",
       "    <tr>\n",
       "      <th>1</th>\n",
       "      <td>4</td>\n",
       "      <td>1</td>\n",
       "    </tr>\n",
       "    <tr>\n",
       "      <th>3</th>\n",
       "      <td>18761</td>\n",
       "      <td>1</td>\n",
       "    </tr>\n",
       "    <tr>\n",
       "      <th>4</th>\n",
       "      <td>10</td>\n",
       "      <td>1</td>\n",
       "    </tr>\n",
       "    <tr>\n",
       "      <th>5</th>\n",
       "      <td>3</td>\n",
       "      <td>1</td>\n",
       "    </tr>\n",
       "  </tbody>\n",
       "</table>\n",
       "</div>"
      ],
      "text/plain": [
       "   MenteeID  surviver\n",
       "0         2         1\n",
       "1         4         1\n",
       "3     18761         1\n",
       "4        10         1\n",
       "5         3         1"
      ]
     },
     "execution_count": 11,
     "metadata": {},
     "output_type": "execute_result"
    }
   ],
   "source": [
    "neuro_surviver.head(5)"
   ]
  },
  {
   "cell_type": "code",
   "execution_count": 12,
   "id": "5a58d077-82e5-43df-a05c-dfd8fec9c422",
   "metadata": {
    "tags": []
   },
   "outputs": [],
   "source": [
    "neuro_mentees = neuro[['MenteeID','MentorID','StopYear']]"
   ]
  },
  {
   "cell_type": "code",
   "execution_count": 13,
   "id": "52e186f2-3e60-4bba-9bd9-07726fe9809b",
   "metadata": {
    "tags": []
   },
   "outputs": [
    {
     "data": {
      "text/html": [
       "<div>\n",
       "<style scoped>\n",
       "    .dataframe tbody tr th:only-of-type {\n",
       "        vertical-align: middle;\n",
       "    }\n",
       "\n",
       "    .dataframe tbody tr th {\n",
       "        vertical-align: top;\n",
       "    }\n",
       "\n",
       "    .dataframe thead th {\n",
       "        text-align: right;\n",
       "    }\n",
       "</style>\n",
       "<table border=\"1\" class=\"dataframe\">\n",
       "  <thead>\n",
       "    <tr style=\"text-align: right;\">\n",
       "      <th></th>\n",
       "      <th>MenteeID</th>\n",
       "      <th>MentorID</th>\n",
       "      <th>StopYear</th>\n",
       "    </tr>\n",
       "  </thead>\n",
       "  <tbody>\n",
       "    <tr>\n",
       "      <th>0</th>\n",
       "      <td>2</td>\n",
       "      <td>3</td>\n",
       "      <td>2005</td>\n",
       "    </tr>\n",
       "    <tr>\n",
       "      <th>1</th>\n",
       "      <td>4</td>\n",
       "      <td>3</td>\n",
       "      <td>2006</td>\n",
       "    </tr>\n",
       "    <tr>\n",
       "      <th>2</th>\n",
       "      <td>6</td>\n",
       "      <td>3</td>\n",
       "      <td>2008</td>\n",
       "    </tr>\n",
       "  </tbody>\n",
       "</table>\n",
       "</div>"
      ],
      "text/plain": [
       "   MenteeID  MentorID  StopYear\n",
       "0         2         3      2005\n",
       "1         4         3      2006\n",
       "2         6         3      2008"
      ]
     },
     "execution_count": 13,
     "metadata": {},
     "output_type": "execute_result"
    }
   ],
   "source": [
    "neuro_mentees.head(3)"
   ]
  },
  {
   "cell_type": "code",
   "execution_count": 14,
   "id": "18fe9948-5010-4196-b101-29a281f6cf59",
   "metadata": {
    "tags": []
   },
   "outputs": [],
   "source": [
    "neuro_mentees_surviver_0 = neuro_mentees.merge(neuro_surviver,on='MenteeID',how='left')"
   ]
  },
  {
   "cell_type": "code",
   "execution_count": 15,
   "id": "a0b2eb48-e854-4399-a1a5-214deff5b232",
   "metadata": {
    "tags": []
   },
   "outputs": [
    {
     "data": {
      "text/html": [
       "<div>\n",
       "<style scoped>\n",
       "    .dataframe tbody tr th:only-of-type {\n",
       "        vertical-align: middle;\n",
       "    }\n",
       "\n",
       "    .dataframe tbody tr th {\n",
       "        vertical-align: top;\n",
       "    }\n",
       "\n",
       "    .dataframe thead th {\n",
       "        text-align: right;\n",
       "    }\n",
       "</style>\n",
       "<table border=\"1\" class=\"dataframe\">\n",
       "  <thead>\n",
       "    <tr style=\"text-align: right;\">\n",
       "      <th></th>\n",
       "      <th>MenteeID</th>\n",
       "      <th>MentorID</th>\n",
       "      <th>StopYear</th>\n",
       "      <th>surviver</th>\n",
       "    </tr>\n",
       "  </thead>\n",
       "  <tbody>\n",
       "    <tr>\n",
       "      <th>0</th>\n",
       "      <td>2</td>\n",
       "      <td>3</td>\n",
       "      <td>2005</td>\n",
       "      <td>1.0</td>\n",
       "    </tr>\n",
       "    <tr>\n",
       "      <th>1</th>\n",
       "      <td>4</td>\n",
       "      <td>3</td>\n",
       "      <td>2006</td>\n",
       "      <td>1.0</td>\n",
       "    </tr>\n",
       "    <tr>\n",
       "      <th>2</th>\n",
       "      <td>6</td>\n",
       "      <td>3</td>\n",
       "      <td>2008</td>\n",
       "      <td>NaN</td>\n",
       "    </tr>\n",
       "    <tr>\n",
       "      <th>3</th>\n",
       "      <td>18761</td>\n",
       "      <td>9</td>\n",
       "      <td>1984</td>\n",
       "      <td>1.0</td>\n",
       "    </tr>\n",
       "    <tr>\n",
       "      <th>4</th>\n",
       "      <td>10</td>\n",
       "      <td>16</td>\n",
       "      <td>-1</td>\n",
       "      <td>1.0</td>\n",
       "    </tr>\n",
       "  </tbody>\n",
       "</table>\n",
       "</div>"
      ],
      "text/plain": [
       "   MenteeID  MentorID  StopYear  surviver\n",
       "0         2         3      2005       1.0\n",
       "1         4         3      2006       1.0\n",
       "2         6         3      2008       NaN\n",
       "3     18761         9      1984       1.0\n",
       "4        10        16        -1       1.0"
      ]
     },
     "execution_count": 15,
     "metadata": {},
     "output_type": "execute_result"
    }
   ],
   "source": [
    "neuro_mentees_surviver_0.head(5)"
   ]
  },
  {
   "cell_type": "code",
   "execution_count": 16,
   "id": "44a03a90-c2aa-4a40-8f1c-6172c8eb9843",
   "metadata": {
    "tags": []
   },
   "outputs": [],
   "source": [
    "SR = []\n",
    "for year in range(1960,2010):\n",
    "    neuro_mentees_surviver = neuro_mentees_surviver_0[neuro_mentees_surviver_0.StopYear==year]\n",
    "    sr = len(set(neuro_mentees_surviver['MenteeID'][neuro_mentees_surviver.surviver==1]))/len(set(neuro_mentees_surviver['MenteeID']))\n",
    "    SR.append((year,sr))"
   ]
  },
  {
   "cell_type": "code",
   "execution_count": 17,
   "id": "40f10415-44d4-4ada-bda2-b282fab16a40",
   "metadata": {
    "tags": []
   },
   "outputs": [
    {
     "data": {
      "text/plain": [
       "[<matplotlib.lines.Line2D at 0x11ede6310>]"
      ]
     },
     "execution_count": 17,
     "metadata": {},
     "output_type": "execute_result"
    },
    {
     "data": {
      "image/png": "[encoded data removed]",
      "text/plain": [
       "<Figure size 500x309 with 1 Axes>"
      ]
     },
     "metadata": {},
     "output_type": "display_data"
    }
   ],
   "source": [
    "fig, ax = plt.subplots(1,1,constrained_layout=True,figsize=[1*5,0.618*5])\n",
    "sns.set(style='ticks',font_scale=1.2, font='Arial')\n",
    "x = [k[0] for k in SR]\n",
    "y = [k[1] for k in SR]\n",
    "ax.plot(x,y,marker='o')\n"
   ]
  },
  {
   "cell_type": "markdown",
   "id": "ebaf0ab4-180a-4acf-aba3-172aae3cf0e9",
   "metadata": {
    "tags": []
   },
   "source": [
    "##### Surviver in Pubs."
   ]
  },
  {
   "cell_type": "code",
   "execution_count": 18,
   "id": "a9656f50-64a3-4547-a963-9f0503f5d6ea",
   "metadata": {
    "tags": []
   },
   "outputs": [
    {
     "data": {
      "text/html": [
       "<div>\n",
       "<style scoped>\n",
       "    .dataframe tbody tr th:only-of-type {\n",
       "        vertical-align: middle;\n",
       "    }\n",
       "\n",
       "    .dataframe tbody tr th {\n",
       "        vertical-align: top;\n",
       "    }\n",
       "\n",
       "    .dataframe thead th {\n",
       "        text-align: right;\n",
       "    }\n",
       "</style>\n",
       "<table border=\"1\" class=\"dataframe\">\n",
       "  <thead>\n",
       "    <tr style=\"text-align: right;\">\n",
       "      <th></th>\n",
       "      <th>MenteeID</th>\n",
       "      <th>MentorID</th>\n",
       "      <th>StopYear</th>\n",
       "      <th>surviver</th>\n",
       "    </tr>\n",
       "  </thead>\n",
       "  <tbody>\n",
       "    <tr>\n",
       "      <th>0</th>\n",
       "      <td>2</td>\n",
       "      <td>3</td>\n",
       "      <td>2005</td>\n",
       "      <td>1.0</td>\n",
       "    </tr>\n",
       "    <tr>\n",
       "      <th>1</th>\n",
       "      <td>4</td>\n",
       "      <td>3</td>\n",
       "      <td>2006</td>\n",
       "      <td>1.0</td>\n",
       "    </tr>\n",
       "    <tr>\n",
       "      <th>2</th>\n",
       "      <td>6</td>\n",
       "      <td>3</td>\n",
       "      <td>2008</td>\n",
       "      <td>NaN</td>\n",
       "    </tr>\n",
       "    <tr>\n",
       "      <th>3</th>\n",
       "      <td>18761</td>\n",
       "      <td>9</td>\n",
       "      <td>1984</td>\n",
       "      <td>1.0</td>\n",
       "    </tr>\n",
       "    <tr>\n",
       "      <th>4</th>\n",
       "      <td>10</td>\n",
       "      <td>16</td>\n",
       "      <td>-1</td>\n",
       "      <td>1.0</td>\n",
       "    </tr>\n",
       "  </tbody>\n",
       "</table>\n",
       "</div>"
      ],
      "text/plain": [
       "   MenteeID  MentorID  StopYear  surviver\n",
       "0         2         3      2005       1.0\n",
       "1         4         3      2006       1.0\n",
       "2         6         3      2008       NaN\n",
       "3     18761         9      1984       1.0\n",
       "4        10        16        -1       1.0"
      ]
     },
     "execution_count": 18,
     "metadata": {},
     "output_type": "execute_result"
    }
   ],
   "source": [
    "neuro_mentees_surviver_0.head(5)"
   ]
  },
  {
   "cell_type": "code",
   "execution_count": 19,
   "id": "7defccfe-2207-4a89-9a93-77f039234a13",
   "metadata": {
    "tags": []
   },
   "outputs": [],
   "source": [
    "pid_mag_openalex = pd.read_csv('pid_mag_openalex.csv')"
   ]
  },
  {
   "cell_type": "code",
   "execution_count": 20,
   "id": "6410edfe-6efb-4cdd-ae20-292a678db481",
   "metadata": {
    "tags": []
   },
   "outputs": [],
   "source": [
    "pid_mag_openalex = pid_mag_openalex.rename(columns={'PID':'MenteeID'})"
   ]
  },
  {
   "cell_type": "code",
   "execution_count": 21,
   "id": "de4fb028-75a1-44a1-83b5-5123c1f25f6f",
   "metadata": {
    "tags": []
   },
   "outputs": [
    {
     "data": {
      "text/html": [
       "<div>\n",
       "<style scoped>\n",
       "    .dataframe tbody tr th:only-of-type {\n",
       "        vertical-align: middle;\n",
       "    }\n",
       "\n",
       "    .dataframe tbody tr th {\n",
       "        vertical-align: top;\n",
       "    }\n",
       "\n",
       "    .dataframe thead th {\n",
       "        text-align: right;\n",
       "    }\n",
       "</style>\n",
       "<table border=\"1\" class=\"dataframe\">\n",
       "  <thead>\n",
       "    <tr style=\"text-align: right;\">\n",
       "      <th></th>\n",
       "      <th>MenteeID</th>\n",
       "      <th>MAGAuthorID</th>\n",
       "      <th>author_id</th>\n",
       "    </tr>\n",
       "  </thead>\n",
       "  <tbody>\n",
       "    <tr>\n",
       "      <th>0</th>\n",
       "      <td>1</td>\n",
       "      <td>2.171828e+09</td>\n",
       "      <td>A2171827615</td>\n",
       "    </tr>\n",
       "    <tr>\n",
       "      <th>1</th>\n",
       "      <td>2</td>\n",
       "      <td>2.082173e+09</td>\n",
       "      <td>A2082172561</td>\n",
       "    </tr>\n",
       "    <tr>\n",
       "      <th>2</th>\n",
       "      <td>3</td>\n",
       "      <td>2.110166e+09</td>\n",
       "      <td>A2110165986</td>\n",
       "    </tr>\n",
       "    <tr>\n",
       "      <th>3</th>\n",
       "      <td>4</td>\n",
       "      <td>2.183264e+09</td>\n",
       "      <td>A2183263527</td>\n",
       "    </tr>\n",
       "    <tr>\n",
       "      <th>4</th>\n",
       "      <td>5</td>\n",
       "      <td>2.156587e+09</td>\n",
       "      <td>A2156586888</td>\n",
       "    </tr>\n",
       "  </tbody>\n",
       "</table>\n",
       "</div>"
      ],
      "text/plain": [
       "   MenteeID   MAGAuthorID    author_id\n",
       "0         1  2.171828e+09  A2171827615\n",
       "1         2  2.082173e+09  A2082172561\n",
       "2         3  2.110166e+09  A2110165986\n",
       "3         4  2.183264e+09  A2183263527\n",
       "4         5  2.156587e+09  A2156586888"
      ]
     },
     "execution_count": 21,
     "metadata": {},
     "output_type": "execute_result"
    }
   ],
   "source": [
    "pid_mag_openalex.head(5)"
   ]
  },
  {
   "cell_type": "code",
   "execution_count": 22,
   "id": "cfb1dfe7-6266-4e96-b28c-cef082ba2c92",
   "metadata": {
    "tags": []
   },
   "outputs": [],
   "source": [
    "neuro_mentees_surviver_0 = neuro_mentees_surviver_0.merge(pid_mag_openalex,on='MenteeID',how='left')"
   ]
  },
  {
   "cell_type": "code",
   "execution_count": 23,
   "id": "a60822cb-b39f-4c21-91fc-df965304d80a",
   "metadata": {
    "tags": []
   },
   "outputs": [
    {
     "data": {
      "text/html": [
       "<div>\n",
       "<style scoped>\n",
       "    .dataframe tbody tr th:only-of-type {\n",
       "        vertical-align: middle;\n",
       "    }\n",
       "\n",
       "    .dataframe tbody tr th {\n",
       "        vertical-align: top;\n",
       "    }\n",
       "\n",
       "    .dataframe thead th {\n",
       "        text-align: right;\n",
       "    }\n",
       "</style>\n",
       "<table border=\"1\" class=\"dataframe\">\n",
       "  <thead>\n",
       "    <tr style=\"text-align: right;\">\n",
       "      <th></th>\n",
       "      <th>MenteeID</th>\n",
       "      <th>MentorID</th>\n",
       "      <th>StopYear</th>\n",
       "      <th>surviver</th>\n",
       "      <th>MAGAuthorID</th>\n",
       "      <th>author_id</th>\n",
       "    </tr>\n",
       "  </thead>\n",
       "  <tbody>\n",
       "    <tr>\n",
       "      <th>0</th>\n",
       "      <td>2</td>\n",
       "      <td>3</td>\n",
       "      <td>2005</td>\n",
       "      <td>1.0</td>\n",
       "      <td>2.082173e+09</td>\n",
       "      <td>A2082172561</td>\n",
       "    </tr>\n",
       "    <tr>\n",
       "      <th>1</th>\n",
       "      <td>4</td>\n",
       "      <td>3</td>\n",
       "      <td>2006</td>\n",
       "      <td>1.0</td>\n",
       "      <td>2.183264e+09</td>\n",
       "      <td>A2183263527</td>\n",
       "    </tr>\n",
       "    <tr>\n",
       "      <th>2</th>\n",
       "      <td>6</td>\n",
       "      <td>3</td>\n",
       "      <td>2008</td>\n",
       "      <td>NaN</td>\n",
       "      <td>2.607431e+09</td>\n",
       "      <td>A2607431256</td>\n",
       "    </tr>\n",
       "    <tr>\n",
       "      <th>3</th>\n",
       "      <td>18761</td>\n",
       "      <td>9</td>\n",
       "      <td>1984</td>\n",
       "      <td>1.0</td>\n",
       "      <td>2.809701e+09</td>\n",
       "      <td>A2809701389</td>\n",
       "    </tr>\n",
       "    <tr>\n",
       "      <th>4</th>\n",
       "      <td>10</td>\n",
       "      <td>16</td>\n",
       "      <td>-1</td>\n",
       "      <td>1.0</td>\n",
       "      <td>NaN</td>\n",
       "      <td>NaN</td>\n",
       "    </tr>\n",
       "  </tbody>\n",
       "</table>\n",
       "</div>"
      ],
      "text/plain": [
       "   MenteeID  MentorID  StopYear  surviver   MAGAuthorID    author_id\n",
       "0         2         3      2005       1.0  2.082173e+09  A2082172561\n",
       "1         4         3      2006       1.0  2.183264e+09  A2183263527\n",
       "2         6         3      2008       NaN  2.607431e+09  A2607431256\n",
       "3     18761         9      1984       1.0  2.809701e+09  A2809701389\n",
       "4        10        16        -1       1.0           NaN          NaN"
      ]
     },
     "execution_count": 23,
     "metadata": {},
     "output_type": "execute_result"
    }
   ],
   "source": [
    "neuro_mentees_surviver_0.head(5)"
   ]
  },
  {
   "cell_type": "code",
   "execution_count": 24,
   "id": "0a325648-bbc9-4abc-ae9e-d5efb3ea9a73",
   "metadata": {
    "tags": []
   },
   "outputs": [],
   "source": [
    "surviver_with_OpenALexID = neuro_mentees_surviver_0[['MenteeID','StopYear','author_id']][(neuro_mentees_surviver_0.surviver==1)\n",
    "                                                                                        &(~neuro_mentees_surviver_0.author_id.isnull())\n",
    "                                                                                        &(neuro_mentees_surviver_0.StopYear>-1)]"
   ]
  },
  {
   "cell_type": "code",
   "execution_count": 25,
   "id": "360a325d-1367-423e-adc4-a76da93da991",
   "metadata": {
    "tags": []
   },
   "outputs": [
    {
     "data": {
      "text/html": [
       "<div>\n",
       "<style scoped>\n",
       "    .dataframe tbody tr th:only-of-type {\n",
       "        vertical-align: middle;\n",
       "    }\n",
       "\n",
       "    .dataframe tbody tr th {\n",
       "        vertical-align: top;\n",
       "    }\n",
       "\n",
       "    .dataframe thead th {\n",
       "        text-align: right;\n",
       "    }\n",
       "</style>\n",
       "<table border=\"1\" class=\"dataframe\">\n",
       "  <thead>\n",
       "    <tr style=\"text-align: right;\">\n",
       "      <th></th>\n",
       "      <th>MenteeID</th>\n",
       "      <th>StopYear</th>\n",
       "      <th>author_id</th>\n",
       "    </tr>\n",
       "  </thead>\n",
       "  <tbody>\n",
       "    <tr>\n",
       "      <th>0</th>\n",
       "      <td>2</td>\n",
       "      <td>2005</td>\n",
       "      <td>A2082172561</td>\n",
       "    </tr>\n",
       "    <tr>\n",
       "      <th>1</th>\n",
       "      <td>4</td>\n",
       "      <td>2006</td>\n",
       "      <td>A2183263527</td>\n",
       "    </tr>\n",
       "    <tr>\n",
       "      <th>3</th>\n",
       "      <td>18761</td>\n",
       "      <td>1984</td>\n",
       "      <td>A2809701389</td>\n",
       "    </tr>\n",
       "    <tr>\n",
       "      <th>18</th>\n",
       "      <td>5</td>\n",
       "      <td>2009</td>\n",
       "      <td>A2156586888</td>\n",
       "    </tr>\n",
       "    <tr>\n",
       "      <th>29</th>\n",
       "      <td>44</td>\n",
       "      <td>1985</td>\n",
       "      <td>A2194378655</td>\n",
       "    </tr>\n",
       "  </tbody>\n",
       "</table>\n",
       "</div>"
      ],
      "text/plain": [
       "    MenteeID  StopYear    author_id\n",
       "0          2      2005  A2082172561\n",
       "1          4      2006  A2183263527\n",
       "3      18761      1984  A2809701389\n",
       "18         5      2009  A2156586888\n",
       "29        44      1985  A2194378655"
      ]
     },
     "execution_count": 25,
     "metadata": {},
     "output_type": "execute_result"
    }
   ],
   "source": [
    "surviver_with_OpenALexID.head(5)"
   ]
  },
  {
   "cell_type": "code",
   "execution_count": 26,
   "id": "dc43c9ae-c248-4acf-bb49-26f73db417a7",
   "metadata": {
    "tags": []
   },
   "outputs": [],
   "source": [
    "career_span = pd.read_csv('all_AFT_mentee_career_span.csv')"
   ]
  },
  {
   "cell_type": "code",
   "execution_count": 27,
   "id": "fb101a70-97f0-40c6-9324-d61e5f21c729",
   "metadata": {
    "tags": []
   },
   "outputs": [
    {
     "data": {
      "text/html": [
       "<div>\n",
       "<style scoped>\n",
       "    .dataframe tbody tr th:only-of-type {\n",
       "        vertical-align: middle;\n",
       "    }\n",
       "\n",
       "    .dataframe tbody tr th {\n",
       "        vertical-align: top;\n",
       "    }\n",
       "\n",
       "    .dataframe thead th {\n",
       "        text-align: right;\n",
       "    }\n",
       "</style>\n",
       "<table border=\"1\" class=\"dataframe\">\n",
       "  <thead>\n",
       "    <tr style=\"text-align: right;\">\n",
       "      <th></th>\n",
       "      <th>author_id</th>\n",
       "      <th>first_pub_year</th>\n",
       "      <th>last_pub_year</th>\n",
       "      <th>career_len</th>\n",
       "    </tr>\n",
       "  </thead>\n",
       "  <tbody>\n",
       "    <tr>\n",
       "      <th>0</th>\n",
       "      <td>A101120317</td>\n",
       "      <td>2004</td>\n",
       "      <td>2007</td>\n",
       "      <td>3</td>\n",
       "    </tr>\n",
       "    <tr>\n",
       "      <th>1</th>\n",
       "      <td>A1012905225</td>\n",
       "      <td>1997</td>\n",
       "      <td>2022</td>\n",
       "      <td>25</td>\n",
       "    </tr>\n",
       "    <tr>\n",
       "      <th>2</th>\n",
       "      <td>A1016505059</td>\n",
       "      <td>1995</td>\n",
       "      <td>2022</td>\n",
       "      <td>27</td>\n",
       "    </tr>\n",
       "    <tr>\n",
       "      <th>3</th>\n",
       "      <td>A102140478</td>\n",
       "      <td>2006</td>\n",
       "      <td>2008</td>\n",
       "      <td>2</td>\n",
       "    </tr>\n",
       "    <tr>\n",
       "      <th>4</th>\n",
       "      <td>A102503536</td>\n",
       "      <td>1987</td>\n",
       "      <td>2022</td>\n",
       "      <td>35</td>\n",
       "    </tr>\n",
       "  </tbody>\n",
       "</table>\n",
       "</div>"
      ],
      "text/plain": [
       "     author_id  first_pub_year  last_pub_year  career_len\n",
       "0   A101120317            2004           2007           3\n",
       "1  A1012905225            1997           2022          25\n",
       "2  A1016505059            1995           2022          27\n",
       "3   A102140478            2006           2008           2\n",
       "4   A102503536            1987           2022          35"
      ]
     },
     "execution_count": 27,
     "metadata": {},
     "output_type": "execute_result"
    }
   ],
   "source": [
    "career_span.head(5)"
   ]
  },
  {
   "cell_type": "code",
   "execution_count": 28,
   "id": "3712ef93-56d2-45a7-8e43-6cb93b44823e",
   "metadata": {
    "tags": []
   },
   "outputs": [],
   "source": [
    "surviver_with_OpenALexID = surviver_with_OpenALexID.merge(career_span,on='author_id',how='left')"
   ]
  },
  {
   "cell_type": "code",
   "execution_count": 29,
   "id": "854789d7-1dfc-4c06-88d6-106c2fdfd0ce",
   "metadata": {
    "tags": []
   },
   "outputs": [
    {
     "data": {
      "text/html": [
       "<div>\n",
       "<style scoped>\n",
       "    .dataframe tbody tr th:only-of-type {\n",
       "        vertical-align: middle;\n",
       "    }\n",
       "\n",
       "    .dataframe tbody tr th {\n",
       "        vertical-align: top;\n",
       "    }\n",
       "\n",
       "    .dataframe thead th {\n",
       "        text-align: right;\n",
       "    }\n",
       "</style>\n",
       "<table border=\"1\" class=\"dataframe\">\n",
       "  <thead>\n",
       "    <tr style=\"text-align: right;\">\n",
       "      <th></th>\n",
       "      <th>MenteeID</th>\n",
       "      <th>StopYear</th>\n",
       "      <th>author_id</th>\n",
       "      <th>first_pub_year</th>\n",
       "      <th>last_pub_year</th>\n",
       "      <th>career_len</th>\n",
       "    </tr>\n",
       "  </thead>\n",
       "  <tbody>\n",
       "    <tr>\n",
       "      <th>6382</th>\n",
       "      <td>25317</td>\n",
       "      <td>2008</td>\n",
       "      <td>A2139717864</td>\n",
       "      <td>2003</td>\n",
       "      <td>2022</td>\n",
       "      <td>19</td>\n",
       "    </tr>\n",
       "    <tr>\n",
       "      <th>8640</th>\n",
       "      <td>51973</td>\n",
       "      <td>2010</td>\n",
       "      <td>A3012515580</td>\n",
       "      <td>2011</td>\n",
       "      <td>2021</td>\n",
       "      <td>10</td>\n",
       "    </tr>\n",
       "    <tr>\n",
       "      <th>14266</th>\n",
       "      <td>47413</td>\n",
       "      <td>2002</td>\n",
       "      <td>A255454533</td>\n",
       "      <td>2002</td>\n",
       "      <td>2021</td>\n",
       "      <td>19</td>\n",
       "    </tr>\n",
       "    <tr>\n",
       "      <th>13274</th>\n",
       "      <td>51910</td>\n",
       "      <td>2003</td>\n",
       "      <td>A148951416</td>\n",
       "      <td>1998</td>\n",
       "      <td>2022</td>\n",
       "      <td>24</td>\n",
       "    </tr>\n",
       "    <tr>\n",
       "      <th>8101</th>\n",
       "      <td>12482</td>\n",
       "      <td>2013</td>\n",
       "      <td>A2105054212</td>\n",
       "      <td>2009</td>\n",
       "      <td>2022</td>\n",
       "      <td>13</td>\n",
       "    </tr>\n",
       "  </tbody>\n",
       "</table>\n",
       "</div>"
      ],
      "text/plain": [
       "       MenteeID  StopYear    author_id  first_pub_year  last_pub_year  \\\n",
       "6382      25317      2008  A2139717864            2003           2022   \n",
       "8640      51973      2010  A3012515580            2011           2021   \n",
       "14266     47413      2002   A255454533            2002           2021   \n",
       "13274     51910      2003   A148951416            1998           2022   \n",
       "8101      12482      2013  A2105054212            2009           2022   \n",
       "\n",
       "       career_len  \n",
       "6382           19  \n",
       "8640           10  \n",
       "14266          19  \n",
       "13274          24  \n",
       "8101           13  "
      ]
     },
     "execution_count": 29,
     "metadata": {},
     "output_type": "execute_result"
    }
   ],
   "source": [
    "surviver_with_OpenALexID.sample(5)"
   ]
  },
  {
   "cell_type": "code",
   "execution_count": 30,
   "id": "2372981f-fc49-4289-a422-fd4bf900f312",
   "metadata": {
    "tags": []
   },
   "outputs": [],
   "source": [
    "surviver_careerLen = surviver_with_OpenALexID[['StopYear','career_len']][~surviver_with_OpenALexID.career_len.isnull()]"
   ]
  },
  {
   "cell_type": "code",
   "execution_count": 31,
   "id": "a55cd9e1-c879-4b34-94c6-1d0825eabcbb",
   "metadata": {
    "tags": []
   },
   "outputs": [
    {
     "data": {
      "text/html": [
       "<div>\n",
       "<style scoped>\n",
       "    .dataframe tbody tr th:only-of-type {\n",
       "        vertical-align: middle;\n",
       "    }\n",
       "\n",
       "    .dataframe tbody tr th {\n",
       "        vertical-align: top;\n",
       "    }\n",
       "\n",
       "    .dataframe thead th {\n",
       "        text-align: right;\n",
       "    }\n",
       "</style>\n",
       "<table border=\"1\" class=\"dataframe\">\n",
       "  <thead>\n",
       "    <tr style=\"text-align: right;\">\n",
       "      <th></th>\n",
       "      <th>StopYear</th>\n",
       "      <th>career_len</th>\n",
       "    </tr>\n",
       "  </thead>\n",
       "  <tbody>\n",
       "    <tr>\n",
       "      <th>0</th>\n",
       "      <td>2005</td>\n",
       "      <td>20</td>\n",
       "    </tr>\n",
       "    <tr>\n",
       "      <th>1</th>\n",
       "      <td>2006</td>\n",
       "      <td>14</td>\n",
       "    </tr>\n",
       "    <tr>\n",
       "      <th>2</th>\n",
       "      <td>1984</td>\n",
       "      <td>36</td>\n",
       "    </tr>\n",
       "    <tr>\n",
       "      <th>3</th>\n",
       "      <td>2009</td>\n",
       "      <td>15</td>\n",
       "    </tr>\n",
       "    <tr>\n",
       "      <th>4</th>\n",
       "      <td>1985</td>\n",
       "      <td>36</td>\n",
       "    </tr>\n",
       "  </tbody>\n",
       "</table>\n",
       "</div>"
      ],
      "text/plain": [
       "   StopYear  career_len\n",
       "0      2005          20\n",
       "1      2006          14\n",
       "2      1984          36\n",
       "3      2009          15\n",
       "4      1985          36"
      ]
     },
     "execution_count": 31,
     "metadata": {},
     "output_type": "execute_result"
    }
   ],
   "source": [
    "surviver_careerLen.head(5)"
   ]
  },
  {
   "cell_type": "code",
   "execution_count": 32,
   "id": "d317c478-d2de-421d-bca7-d1abc0d6ae57",
   "metadata": {
    "tags": []
   },
   "outputs": [],
   "source": [
    "surviver_careerLen = surviver_careerLen[surviver_careerLen.StopYear<2000]"
   ]
  },
  {
   "cell_type": "code",
   "execution_count": 33,
   "id": "2ddd2743-65a4-4e26-a1bc-1005ff209b97",
   "metadata": {
    "scrolled": true,
    "tags": []
   },
   "outputs": [
    {
     "data": {
      "text/plain": [
       "<matplotlib.legend.Legend at 0x11f8aa450>"
      ]
     },
     "execution_count": 33,
     "metadata": {},
     "output_type": "execute_result"
    },
    {
     "data": {
      "image/png": "[encoded data removed]",
      "text/plain": [
       "<Figure size 500x309 with 1 Axes>"
      ]
     },
     "metadata": {},
     "output_type": "display_data"
    }
   ],
   "source": [
    "fig, ax = plt.subplots(1,1,constrained_layout=True,figsize=[1*5,0.618*5])\n",
    "sns.set(style='ticks',font_scale=1.2, font='Arial')\n",
    "\n",
    "sns.histplot(data=surviver_careerLen, x=\"career_len\",stat='probability',cumulative=1,fill=0,element=\"step\",\n",
    "             ax=ax)\n",
    "ax.axvline(x=10,color='r',ls='--',label='x =1 0')\n",
    "ax.axvline(x=20,color='seagreen',ls='--',label='x = 20')\n",
    "ax.axhline(y=0.1,color='k',ls='--',label='y = 0.1')\n",
    "plt.legend(frameon=0,loc=1)"
   ]
  },
  {
   "cell_type": "markdown",
   "id": "b8d1a08f-481e-4291-bf72-71b7f3d4cfea",
   "metadata": {},
   "source": [
    "##### dropout"
   ]
  },
  {
   "cell_type": "code",
   "execution_count": 34,
   "id": "f87bd883-eed6-4294-97a6-a4c7622bc5e3",
   "metadata": {
    "tags": []
   },
   "outputs": [],
   "source": [
    "dropout_with_OpenALexID = neuro_mentees_surviver_0[['MenteeID','StopYear','author_id']][(neuro_mentees_surviver_0.surviver.isnull())\n",
    "                                                                                        &(~neuro_mentees_surviver_0.author_id.isnull())\n",
    "                                                                                        &(neuro_mentees_surviver_0.StopYear>-1)]"
   ]
  },
  {
   "cell_type": "code",
   "execution_count": 35,
   "id": "04d73d3d-7ea7-4bbb-84a0-596f4d93b2bc",
   "metadata": {
    "tags": []
   },
   "outputs": [],
   "source": [
    "dropout_with_OpenALexID = dropout_with_OpenALexID.merge(career_span,on='author_id',how='left')"
   ]
  },
  {
   "cell_type": "code",
   "execution_count": 36,
   "id": "e21fd25a-eca3-4b96-8346-3bd13b65e14d",
   "metadata": {
    "tags": []
   },
   "outputs": [
    {
     "data": {
      "text/html": [
       "<div>\n",
       "<style scoped>\n",
       "    .dataframe tbody tr th:only-of-type {\n",
       "        vertical-align: middle;\n",
       "    }\n",
       "\n",
       "    .dataframe tbody tr th {\n",
       "        vertical-align: top;\n",
       "    }\n",
       "\n",
       "    .dataframe thead th {\n",
       "        text-align: right;\n",
       "    }\n",
       "</style>\n",
       "<table border=\"1\" class=\"dataframe\">\n",
       "  <thead>\n",
       "    <tr style=\"text-align: right;\">\n",
       "      <th></th>\n",
       "      <th>MenteeID</th>\n",
       "      <th>StopYear</th>\n",
       "      <th>author_id</th>\n",
       "      <th>first_pub_year</th>\n",
       "      <th>last_pub_year</th>\n",
       "      <th>career_len</th>\n",
       "    </tr>\n",
       "  </thead>\n",
       "  <tbody>\n",
       "    <tr>\n",
       "      <th>0</th>\n",
       "      <td>6</td>\n",
       "      <td>2008</td>\n",
       "      <td>A2607431256</td>\n",
       "      <td>2009.0</td>\n",
       "      <td>2021.0</td>\n",
       "      <td>12.0</td>\n",
       "    </tr>\n",
       "    <tr>\n",
       "      <th>1</th>\n",
       "      <td>8</td>\n",
       "      <td>2006</td>\n",
       "      <td>A2792709984</td>\n",
       "      <td>2004.0</td>\n",
       "      <td>2008.0</td>\n",
       "      <td>4.0</td>\n",
       "    </tr>\n",
       "    <tr>\n",
       "      <th>2</th>\n",
       "      <td>17</td>\n",
       "      <td>2002</td>\n",
       "      <td>A1964588873</td>\n",
       "      <td>1993.0</td>\n",
       "      <td>2008.0</td>\n",
       "      <td>15.0</td>\n",
       "    </tr>\n",
       "    <tr>\n",
       "      <th>3</th>\n",
       "      <td>17</td>\n",
       "      <td>2010</td>\n",
       "      <td>A1964588873</td>\n",
       "      <td>1993.0</td>\n",
       "      <td>2008.0</td>\n",
       "      <td>15.0</td>\n",
       "    </tr>\n",
       "    <tr>\n",
       "      <th>4</th>\n",
       "      <td>60</td>\n",
       "      <td>2007</td>\n",
       "      <td>A2259686655</td>\n",
       "      <td>2003.0</td>\n",
       "      <td>2003.0</td>\n",
       "      <td>0.0</td>\n",
       "    </tr>\n",
       "  </tbody>\n",
       "</table>\n",
       "</div>"
      ],
      "text/plain": [
       "   MenteeID  StopYear    author_id  first_pub_year  last_pub_year  career_len\n",
       "0         6      2008  A2607431256          2009.0         2021.0        12.0\n",
       "1         8      2006  A2792709984          2004.0         2008.0         4.0\n",
       "2        17      2002  A1964588873          1993.0         2008.0        15.0\n",
       "3        17      2010  A1964588873          1993.0         2008.0        15.0\n",
       "4        60      2007  A2259686655          2003.0         2003.0         0.0"
      ]
     },
     "execution_count": 36,
     "metadata": {},
     "output_type": "execute_result"
    }
   ],
   "source": [
    "dropout_with_OpenALexID.head(5)"
   ]
  },
  {
   "cell_type": "code",
   "execution_count": 37,
   "id": "bd2803ef-a090-4075-a715-f4b8dee8cd1f",
   "metadata": {
    "tags": []
   },
   "outputs": [],
   "source": [
    "dropout_careerLen = dropout_with_OpenALexID[['StopYear','career_len']][~dropout_with_OpenALexID.career_len.isnull()]"
   ]
  },
  {
   "cell_type": "code",
   "execution_count": 38,
   "id": "4b6e92b8-fe67-4f6f-b995-3734a7a5a0a3",
   "metadata": {
    "tags": []
   },
   "outputs": [],
   "source": [
    "dropout_careerLen = dropout_careerLen[dropout_careerLen.StopYear<2000]"
   ]
  },
  {
   "cell_type": "code",
   "execution_count": 39,
   "id": "2a236c48-225e-44e3-90b9-16bcef1fce99",
   "metadata": {
    "tags": []
   },
   "outputs": [
    {
     "data": {
      "text/plain": [
       "<matplotlib.legend.Legend at 0x123353fd0>"
      ]
     },
     "execution_count": 39,
     "metadata": {},
     "output_type": "execute_result"
    },
    {
     "data": {
      "image/png": "[encoded data removed]",
      "text/plain": [
       "<Figure size 500x309 with 1 Axes>"
      ]
     },
     "metadata": {},
     "output_type": "display_data"
    }
   ],
   "source": [
    "fig, ax = plt.subplots(1,1,constrained_layout=True,figsize=[1*5,0.618*5])\n",
    "sns.set(style='ticks',font_scale=1.2, font='Arial')\n",
    "\n",
    "sns.histplot(data=dropout_careerLen, x=\"career_len\",stat='probability',cumulative=1,element='step',fill=0,\n",
    "             ax=ax)\n",
    "ax.axvline(x=10,color='r',ls='--',label='x=10')\n",
    "ax.axvline(x=20,color='seagreen',ls='--',label='x=20')\n",
    "ax.axhline(y=0.1,color='k',ls='--',label='y=0.1')\n",
    "plt.legend(frameon=0,loc=1)"
   ]
  },
  {
   "cell_type": "markdown",
   "id": "fb4a052d-13e1-4c29-8776-78f0007be472",
   "metadata": {},
   "source": [
    "#### Survival Rate calcuated by Pub."
   ]
  },
  {
   "cell_type": "code",
   "execution_count": 40,
   "id": "179ce74b-0dca-4eef-a0f6-5f65278e646d",
   "metadata": {
    "tags": []
   },
   "outputs": [
    {
     "data": {
      "text/html": [
       "<div>\n",
       "<style scoped>\n",
       "    .dataframe tbody tr th:only-of-type {\n",
       "        vertical-align: middle;\n",
       "    }\n",
       "\n",
       "    .dataframe tbody tr th {\n",
       "        vertical-align: top;\n",
       "    }\n",
       "\n",
       "    .dataframe thead th {\n",
       "        text-align: right;\n",
       "    }\n",
       "</style>\n",
       "<table border=\"1\" class=\"dataframe\">\n",
       "  <thead>\n",
       "    <tr style=\"text-align: right;\">\n",
       "      <th></th>\n",
       "      <th>MenteeID</th>\n",
       "      <th>MentorID</th>\n",
       "      <th>StopYear</th>\n",
       "      <th>surviver</th>\n",
       "      <th>MAGAuthorID</th>\n",
       "      <th>author_id</th>\n",
       "    </tr>\n",
       "  </thead>\n",
       "  <tbody>\n",
       "    <tr>\n",
       "      <th>0</th>\n",
       "      <td>2</td>\n",
       "      <td>3</td>\n",
       "      <td>2005</td>\n",
       "      <td>1.0</td>\n",
       "      <td>2.082173e+09</td>\n",
       "      <td>A2082172561</td>\n",
       "    </tr>\n",
       "    <tr>\n",
       "      <th>1</th>\n",
       "      <td>4</td>\n",
       "      <td>3</td>\n",
       "      <td>2006</td>\n",
       "      <td>1.0</td>\n",
       "      <td>2.183264e+09</td>\n",
       "      <td>A2183263527</td>\n",
       "    </tr>\n",
       "    <tr>\n",
       "      <th>2</th>\n",
       "      <td>6</td>\n",
       "      <td>3</td>\n",
       "      <td>2008</td>\n",
       "      <td>NaN</td>\n",
       "      <td>2.607431e+09</td>\n",
       "      <td>A2607431256</td>\n",
       "    </tr>\n",
       "    <tr>\n",
       "      <th>3</th>\n",
       "      <td>18761</td>\n",
       "      <td>9</td>\n",
       "      <td>1984</td>\n",
       "      <td>1.0</td>\n",
       "      <td>2.809701e+09</td>\n",
       "      <td>A2809701389</td>\n",
       "    </tr>\n",
       "    <tr>\n",
       "      <th>4</th>\n",
       "      <td>10</td>\n",
       "      <td>16</td>\n",
       "      <td>-1</td>\n",
       "      <td>1.0</td>\n",
       "      <td>NaN</td>\n",
       "      <td>NaN</td>\n",
       "    </tr>\n",
       "  </tbody>\n",
       "</table>\n",
       "</div>"
      ],
      "text/plain": [
       "   MenteeID  MentorID  StopYear  surviver   MAGAuthorID    author_id\n",
       "0         2         3      2005       1.0  2.082173e+09  A2082172561\n",
       "1         4         3      2006       1.0  2.183264e+09  A2183263527\n",
       "2         6         3      2008       NaN  2.607431e+09  A2607431256\n",
       "3     18761         9      1984       1.0  2.809701e+09  A2809701389\n",
       "4        10        16        -1       1.0           NaN          NaN"
      ]
     },
     "execution_count": 40,
     "metadata": {},
     "output_type": "execute_result"
    }
   ],
   "source": [
    "neuro_mentees_surviver_0.head(5)"
   ]
  },
  {
   "cell_type": "code",
   "execution_count": 41,
   "id": "9f920643-bf05-43cb-a924-3e2a98e9688a",
   "metadata": {
    "tags": []
   },
   "outputs": [
    {
     "data": {
      "text/html": [
       "<div>\n",
       "<style scoped>\n",
       "    .dataframe tbody tr th:only-of-type {\n",
       "        vertical-align: middle;\n",
       "    }\n",
       "\n",
       "    .dataframe tbody tr th {\n",
       "        vertical-align: top;\n",
       "    }\n",
       "\n",
       "    .dataframe thead th {\n",
       "        text-align: right;\n",
       "    }\n",
       "</style>\n",
       "<table border=\"1\" class=\"dataframe\">\n",
       "  <thead>\n",
       "    <tr style=\"text-align: right;\">\n",
       "      <th></th>\n",
       "      <th>author_id</th>\n",
       "      <th>first_pub_year</th>\n",
       "      <th>last_pub_year</th>\n",
       "      <th>career_len</th>\n",
       "    </tr>\n",
       "  </thead>\n",
       "  <tbody>\n",
       "    <tr>\n",
       "      <th>0</th>\n",
       "      <td>A101120317</td>\n",
       "      <td>2004</td>\n",
       "      <td>2007</td>\n",
       "      <td>3</td>\n",
       "    </tr>\n",
       "    <tr>\n",
       "      <th>1</th>\n",
       "      <td>A1012905225</td>\n",
       "      <td>1997</td>\n",
       "      <td>2022</td>\n",
       "      <td>25</td>\n",
       "    </tr>\n",
       "    <tr>\n",
       "      <th>2</th>\n",
       "      <td>A1016505059</td>\n",
       "      <td>1995</td>\n",
       "      <td>2022</td>\n",
       "      <td>27</td>\n",
       "    </tr>\n",
       "    <tr>\n",
       "      <th>3</th>\n",
       "      <td>A102140478</td>\n",
       "      <td>2006</td>\n",
       "      <td>2008</td>\n",
       "      <td>2</td>\n",
       "    </tr>\n",
       "    <tr>\n",
       "      <th>4</th>\n",
       "      <td>A102503536</td>\n",
       "      <td>1987</td>\n",
       "      <td>2022</td>\n",
       "      <td>35</td>\n",
       "    </tr>\n",
       "  </tbody>\n",
       "</table>\n",
       "</div>"
      ],
      "text/plain": [
       "     author_id  first_pub_year  last_pub_year  career_len\n",
       "0   A101120317            2004           2007           3\n",
       "1  A1012905225            1997           2022          25\n",
       "2  A1016505059            1995           2022          27\n",
       "3   A102140478            2006           2008           2\n",
       "4   A102503536            1987           2022          35"
      ]
     },
     "execution_count": 41,
     "metadata": {},
     "output_type": "execute_result"
    }
   ],
   "source": [
    "career_span.head(5)"
   ]
  },
  {
   "cell_type": "code",
   "execution_count": 67,
   "id": "a13c931f-381a-4257-9e57-d6f2cbc5018a",
   "metadata": {
    "tags": []
   },
   "outputs": [],
   "source": [
    "neuro_mentees_info = neuro_mentees_surviver_0.merge(career_span,on='author_id',how='left')"
   ]
  },
  {
   "cell_type": "code",
   "execution_count": 68,
   "id": "e8fd20a7-1555-4617-ba94-7badd38432b3",
   "metadata": {
    "tags": []
   },
   "outputs": [],
   "source": [
    "# neuro_mentees_info = neuro_mentees_info[~neuro_mentees_info.author_id.isnull()]"
   ]
  },
  {
   "cell_type": "code",
   "execution_count": 77,
   "id": "46b3328a-b769-4ba2-925f-a0927aaf49ac",
   "metadata": {
    "tags": []
   },
   "outputs": [
    {
     "data": {
      "text/html": [
       "<div>\n",
       "<style scoped>\n",
       "    .dataframe tbody tr th:only-of-type {\n",
       "        vertical-align: middle;\n",
       "    }\n",
       "\n",
       "    .dataframe tbody tr th {\n",
       "        vertical-align: top;\n",
       "    }\n",
       "\n",
       "    .dataframe thead th {\n",
       "        text-align: right;\n",
       "    }\n",
       "</style>\n",
       "<table border=\"1\" class=\"dataframe\">\n",
       "  <thead>\n",
       "    <tr style=\"text-align: right;\">\n",
       "      <th></th>\n",
       "      <th>MenteeID</th>\n",
       "      <th>MentorID</th>\n",
       "      <th>StopYear</th>\n",
       "      <th>surviver</th>\n",
       "      <th>MAGAuthorID</th>\n",
       "      <th>author_id</th>\n",
       "      <th>first_pub_year</th>\n",
       "      <th>last_pub_year</th>\n",
       "      <th>career_len</th>\n",
       "    </tr>\n",
       "  </thead>\n",
       "  <tbody>\n",
       "    <tr>\n",
       "      <th>0</th>\n",
       "      <td>2</td>\n",
       "      <td>3</td>\n",
       "      <td>2005</td>\n",
       "      <td>1.0</td>\n",
       "      <td>2.082173e+09</td>\n",
       "      <td>A2082172561</td>\n",
       "      <td>2002.0</td>\n",
       "      <td>2022.0</td>\n",
       "      <td>20.0</td>\n",
       "    </tr>\n",
       "    <tr>\n",
       "      <th>1</th>\n",
       "      <td>4</td>\n",
       "      <td>3</td>\n",
       "      <td>2006</td>\n",
       "      <td>1.0</td>\n",
       "      <td>2.183264e+09</td>\n",
       "      <td>A2183263527</td>\n",
       "      <td>2004.0</td>\n",
       "      <td>2018.0</td>\n",
       "      <td>14.0</td>\n",
       "    </tr>\n",
       "    <tr>\n",
       "      <th>2</th>\n",
       "      <td>6</td>\n",
       "      <td>3</td>\n",
       "      <td>2008</td>\n",
       "      <td>NaN</td>\n",
       "      <td>2.607431e+09</td>\n",
       "      <td>A2607431256</td>\n",
       "      <td>2009.0</td>\n",
       "      <td>2021.0</td>\n",
       "      <td>12.0</td>\n",
       "    </tr>\n",
       "    <tr>\n",
       "      <th>3</th>\n",
       "      <td>18761</td>\n",
       "      <td>9</td>\n",
       "      <td>1984</td>\n",
       "      <td>1.0</td>\n",
       "      <td>2.809701e+09</td>\n",
       "      <td>A2809701389</td>\n",
       "      <td>1986.0</td>\n",
       "      <td>2022.0</td>\n",
       "      <td>36.0</td>\n",
       "    </tr>\n",
       "    <tr>\n",
       "      <th>5</th>\n",
       "      <td>3</td>\n",
       "      <td>16</td>\n",
       "      <td>-1</td>\n",
       "      <td>1.0</td>\n",
       "      <td>2.110166e+09</td>\n",
       "      <td>A2110165986</td>\n",
       "      <td>1990.0</td>\n",
       "      <td>2022.0</td>\n",
       "      <td>32.0</td>\n",
       "    </tr>\n",
       "  </tbody>\n",
       "</table>\n",
       "</div>"
      ],
      "text/plain": [
       "   MenteeID  MentorID  StopYear  surviver   MAGAuthorID    author_id  \\\n",
       "0         2         3      2005       1.0  2.082173e+09  A2082172561   \n",
       "1         4         3      2006       1.0  2.183264e+09  A2183263527   \n",
       "2         6         3      2008       NaN  2.607431e+09  A2607431256   \n",
       "3     18761         9      1984       1.0  2.809701e+09  A2809701389   \n",
       "5         3        16        -1       1.0  2.110166e+09  A2110165986   \n",
       "\n",
       "   first_pub_year  last_pub_year  career_len  \n",
       "0          2002.0         2022.0        20.0  \n",
       "1          2004.0         2018.0        14.0  \n",
       "2          2009.0         2021.0        12.0  \n",
       "3          1986.0         2022.0        36.0  \n",
       "5          1990.0         2022.0        32.0  "
      ]
     },
     "execution_count": 77,
     "metadata": {},
     "output_type": "execute_result"
    }
   ],
   "source": [
    "neuro_mentees_info.head(5)"
   ]
  },
  {
   "cell_type": "code",
   "execution_count": 78,
   "id": "052a6196-9d0a-4bc5-a412-53ad2e115d60",
   "metadata": {
    "tags": []
   },
   "outputs": [],
   "source": [
    "dropout_temp = neuro_mentees_info[neuro_mentees_info.surviver.isnull()]"
   ]
  },
  {
   "cell_type": "code",
   "execution_count": 84,
   "id": "deb4e672-0157-462a-b7c1-1fce662452d0",
   "metadata": {
    "tags": []
   },
   "outputs": [],
   "source": [
    "switch = 1\n",
    "\n",
    "if switch==1:\n",
    "    def survival_rate(df):\n",
    "        try:\n",
    "            survival_5 = len(df[df.career_len>5])/len(df[df.career_len>0])\n",
    "            survival_10 = len(df[df.career_len>10])/len(df[df.career_len>0])\n",
    "            survival_15 = len(df[df.career_len>15])/len(df[df.career_len>0])\n",
    "            survival_20 = len(df[df.career_len>20])/len(df[df.career_len>0])\n",
    "        except:\n",
    "            survival_5 = 0\n",
    "            survival_10 = 0\n",
    "            survival_15 = 0\n",
    "            survival_20 = 0\n",
    "        return [survival_5 ,survival_10 ,survival_15,survival_20]\n",
    "    \n",
    "else:\n",
    "    def survival_rate(df):\n",
    "        try:\n",
    "            survival_5 = len(df[df.career_len>5])/len(df)\n",
    "            survival_10 = len(df[df.career_len>10])/len(df)\n",
    "            survival_15 = len(df[df.career_len>15])/len(df)\n",
    "            survival_20 = len(df[df.career_len>20])/len(df)\n",
    "        except:\n",
    "            survival_5 = 0\n",
    "            survival_10 = 0\n",
    "            survival_15 = 0 \n",
    "            survival_20 = 0\n",
    "        \n",
    "        return [survival_5 ,survival_10 ,survival_15,survival_20]\n"
   ]
  },
  {
   "cell_type": "code",
   "execution_count": 85,
   "id": "ff48d85b-88b7-4bb9-84b1-8a10acca3e05",
   "metadata": {
    "tags": []
   },
   "outputs": [
    {
     "name": "stdout",
     "output_type": "stream",
     "text": [
      "2020.0\n"
     ]
    }
   ],
   "source": [
    "upbondary = max(neuro_mentees_info.first_pub_year)\n",
    "print(upbondary )\n",
    "neuro_mentees_info = neuro_mentees_info[neuro_mentees_info.first_pub_year<upbondary]"
   ]
  },
  {
   "cell_type": "code",
   "execution_count": 86,
   "id": "2ab994f2-1861-4844-8a2b-1169920d8e0b",
   "metadata": {
    "scrolled": true,
    "tags": []
   },
   "outputs": [],
   "source": [
    "survival_info = neuro_mentees_info.groupby('first_pub_year').apply(survival_rate).reset_index(name='survival rate')\n",
    "\n",
    "data = survival_info[(survival_info.first_pub_year>1960)&\n",
    "             (survival_info.first_pub_year<2005)]"
   ]
  },
  {
   "cell_type": "code",
   "execution_count": 87,
   "id": "d6cb4bed-2d02-4696-806c-8c4842107734",
   "metadata": {
    "tags": []
   },
   "outputs": [],
   "source": [
    "x = list(data.first_pub_year)\n",
    "temp = list(data['survival rate'])\n",
    "\n",
    "y5 = [k[0] for k in temp]\n",
    "y10 = [k[1] for k in temp]\n",
    "y15 = [k[2] for k in temp]\n",
    "y20 = [k[3] for k in temp]"
   ]
  },
  {
   "cell_type": "code",
   "execution_count": 88,
   "id": "9fe4b03d-e2ed-4ae9-97e0-a436371f1756",
   "metadata": {
    "tags": []
   },
   "outputs": [
    {
     "data": {
      "image/png": "[encoded data removed]",
      "text/plain": [
       "<Figure size 500x309 with 1 Axes>"
      ]
     },
     "metadata": {},
     "output_type": "display_data"
    }
   ],
   "source": [
    "fig, ax = plt.subplots(constrained_layout=True,figsize=[1*5,0.618*5])\n",
    "\n",
    "# plot\n",
    "ax.plot(x, y5, label=f'y5', marker='.')\n",
    "ax.plot(x, y10, label=f'y10', marker='.')\n",
    "ax.plot(x, y15, label=f'y15', marker='.')\n",
    "ax.plot(x, y20, label=f'y20', marker='.')\n",
    "\n",
    "ax.set(ylabel='survival rate',title=f'neuro pub. (switch = {switch})',\n",
    "      ylim=[0.5,1])\n",
    "\n",
    "plt.legend(frameon=0)\n",
    "\n",
    "fig.savefig(f'/Users/yanmemgxing/Desktop/neuro pub. (switch = {switch}).png',dpi=100)"
   ]
  },
  {
   "cell_type": "code",
   "execution_count": null,
   "id": "e247e6a3-7c87-4bcb-aed6-f25f41e271a4",
   "metadata": {},
   "outputs": [],
   "source": []
  }
 ],
 "metadata": {
  "kernelspec": {
   "display_name": "myenv",
   "language": "python",
   "name": "myenv"
  },
  "language_info": {
   "codemirror_mode": {
    "name": "ipython",
    "version": 3
   },
   "file_extension": ".py",
   "mimetype": "text/x-python",
   "name": "python",
   "nbconvert_exporter": "python",
   "pygments_lexer": "ipython3",
   "version": "3.11.3"
  }
 },
 "nbformat": 4,
 "nbformat_minor": 5
}
