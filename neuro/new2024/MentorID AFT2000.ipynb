{
 "cells": [
  {
   "cell_type": "code",
   "execution_count": 1,
   "id": "b79bb088-bb34-451c-a075-5227ad7e0f99",
   "metadata": {
    "tags": []
   },
   "outputs": [],
   "source": [
    "import pandas as pd"
   ]
  },
  {
   "cell_type": "code",
   "execution_count": 2,
   "id": "03266e40-141f-4571-8b53-98d14ae73f75",
   "metadata": {
    "tags": []
   },
   "outputs": [],
   "source": [
    "group_info_AFT2000 = pd.read_csv('group_info_AFT2000.csv')"
   ]
  },
  {
   "cell_type": "code",
   "execution_count": 3,
   "id": "387c6631-eb4a-4c7c-9b39-d12d395313cf",
   "metadata": {
    "tags": []
   },
   "outputs": [
    {
     "data": {
      "text/html": [
       "<div>\n",
       "<style scoped>\n",
       "    .dataframe tbody tr th:only-of-type {\n",
       "        vertical-align: middle;\n",
       "    }\n",
       "\n",
       "    .dataframe tbody tr th {\n",
       "        vertical-align: top;\n",
       "    }\n",
       "\n",
       "    .dataframe thead th {\n",
       "        text-align: right;\n",
       "    }\n",
       "</style>\n",
       "<table border=\"1\" class=\"dataframe\">\n",
       "  <thead>\n",
       "    <tr style=\"text-align: right;\">\n",
       "      <th></th>\n",
       "      <th>MenteeID</th>\n",
       "      <th>StopYear</th>\n",
       "      <th>GroupSize</th>\n",
       "      <th>MentorID</th>\n",
       "      <th>mag</th>\n",
       "      <th>author_id</th>\n",
       "      <th>first_pub_year</th>\n",
       "      <th>last_pub_year</th>\n",
       "      <th>career_len</th>\n",
       "    </tr>\n",
       "  </thead>\n",
       "  <tbody>\n",
       "    <tr>\n",
       "      <th>74960</th>\n",
       "      <td>18584</td>\n",
       "      <td>2008</td>\n",
       "      <td>2</td>\n",
       "      <td>18588</td>\n",
       "      <td>2.980480e+09</td>\n",
       "      <td>NaN</td>\n",
       "      <td>NaN</td>\n",
       "      <td>NaN</td>\n",
       "      <td>NaN</td>\n",
       "    </tr>\n",
       "    <tr>\n",
       "      <th>50079</th>\n",
       "      <td>94889</td>\n",
       "      <td>2010</td>\n",
       "      <td>4</td>\n",
       "      <td>10815</td>\n",
       "      <td>1.186787e+09</td>\n",
       "      <td>A1186786555</td>\n",
       "      <td>2000.0</td>\n",
       "      <td>2021.0</td>\n",
       "      <td>21.0</td>\n",
       "    </tr>\n",
       "    <tr>\n",
       "      <th>80748</th>\n",
       "      <td>4638</td>\n",
       "      <td>2003</td>\n",
       "      <td>1</td>\n",
       "      <td>19833</td>\n",
       "      <td>2.473610e+09</td>\n",
       "      <td>A2473610168</td>\n",
       "      <td>2005.0</td>\n",
       "      <td>2022.0</td>\n",
       "      <td>17.0</td>\n",
       "    </tr>\n",
       "    <tr>\n",
       "      <th>63404</th>\n",
       "      <td>214790</td>\n",
       "      <td>2003</td>\n",
       "      <td>11</td>\n",
       "      <td>212622</td>\n",
       "      <td>2.499547e+09</td>\n",
       "      <td>A2499546652</td>\n",
       "      <td>2001.0</td>\n",
       "      <td>2015.0</td>\n",
       "      <td>14.0</td>\n",
       "    </tr>\n",
       "    <tr>\n",
       "      <th>36943</th>\n",
       "      <td>50707</td>\n",
       "      <td>2004</td>\n",
       "      <td>15</td>\n",
       "      <td>7103</td>\n",
       "      <td>2.488096e+09</td>\n",
       "      <td>A2488096353</td>\n",
       "      <td>2004.0</td>\n",
       "      <td>2004.0</td>\n",
       "      <td>0.0</td>\n",
       "    </tr>\n",
       "  </tbody>\n",
       "</table>\n",
       "</div>"
      ],
      "text/plain": [
       "       MenteeID  StopYear  GroupSize  MentorID           mag    author_id  \\\n",
       "74960     18584      2008          2     18588  2.980480e+09          NaN   \n",
       "50079     94889      2010          4     10815  1.186787e+09  A1186786555   \n",
       "80748      4638      2003          1     19833  2.473610e+09  A2473610168   \n",
       "63404    214790      2003         11    212622  2.499547e+09  A2499546652   \n",
       "36943     50707      2004         15      7103  2.488096e+09  A2488096353   \n",
       "\n",
       "       first_pub_year  last_pub_year  career_len  \n",
       "74960             NaN            NaN         NaN  \n",
       "50079          2000.0         2021.0        21.0  \n",
       "80748          2005.0         2022.0        17.0  \n",
       "63404          2001.0         2015.0        14.0  \n",
       "36943          2004.0         2004.0         0.0  "
      ]
     },
     "execution_count": 3,
     "metadata": {},
     "output_type": "execute_result"
    }
   ],
   "source": [
    "group_info_AFT2000.sample(5)"
   ]
  },
  {
   "cell_type": "code",
   "execution_count": 4,
   "id": "798413f3-86b1-4714-88aa-f1755364c0b6",
   "metadata": {
    "tags": []
   },
   "outputs": [],
   "source": [
    "group_info = pd.read_csv('group_info.csv')"
   ]
  },
  {
   "cell_type": "code",
   "execution_count": 5,
   "id": "59ba99a1-68db-4f02-9069-f71a8a19eba9",
   "metadata": {
    "tags": []
   },
   "outputs": [
    {
     "data": {
      "text/html": [
       "<div>\n",
       "<style scoped>\n",
       "    .dataframe tbody tr th:only-of-type {\n",
       "        vertical-align: middle;\n",
       "    }\n",
       "\n",
       "    .dataframe tbody tr th {\n",
       "        vertical-align: top;\n",
       "    }\n",
       "\n",
       "    .dataframe thead th {\n",
       "        text-align: right;\n",
       "    }\n",
       "</style>\n",
       "<table border=\"1\" class=\"dataframe\">\n",
       "  <thead>\n",
       "    <tr style=\"text-align: right;\">\n",
       "      <th></th>\n",
       "      <th>work_id</th>\n",
       "      <th>author_position</th>\n",
       "      <th>author_id</th>\n",
       "      <th>institution_id</th>\n",
       "      <th>publication_year</th>\n",
       "      <th>first_pub_year</th>\n",
       "      <th>scientific_age</th>\n",
       "      <th>group_size</th>\n",
       "      <th>mentor_id</th>\n",
       "      <th>current_year</th>\n",
       "      <th>ratio_institution</th>\n",
       "      <th>last_pub_year</th>\n",
       "      <th>career_len</th>\n",
       "      <th>mentor_first_pub_year</th>\n",
       "      <th>mentor_scientific_age</th>\n",
       "    </tr>\n",
       "  </thead>\n",
       "  <tbody>\n",
       "    <tr>\n",
       "      <th>0</th>\n",
       "      <td>W2031577749</td>\n",
       "      <td>middle</td>\n",
       "      <td>A2491431510</td>\n",
       "      <td>I1294671590</td>\n",
       "      <td>1972</td>\n",
       "      <td>1970</td>\n",
       "      <td>2</td>\n",
       "      <td>2</td>\n",
       "      <td>A367921</td>\n",
       "      <td>1972</td>\n",
       "      <td>1.0</td>\n",
       "      <td>1976.0</td>\n",
       "      <td>6.0</td>\n",
       "      <td>1971</td>\n",
       "      <td>1</td>\n",
       "    </tr>\n",
       "    <tr>\n",
       "      <th>1</th>\n",
       "      <td>W2081199337</td>\n",
       "      <td>middle</td>\n",
       "      <td>A2491431510</td>\n",
       "      <td>I1294671590</td>\n",
       "      <td>1972</td>\n",
       "      <td>1970</td>\n",
       "      <td>2</td>\n",
       "      <td>2</td>\n",
       "      <td>A367921</td>\n",
       "      <td>1972</td>\n",
       "      <td>1.0</td>\n",
       "      <td>1976.0</td>\n",
       "      <td>6.0</td>\n",
       "      <td>1971</td>\n",
       "      <td>1</td>\n",
       "    </tr>\n",
       "    <tr>\n",
       "      <th>2</th>\n",
       "      <td>W2081199337</td>\n",
       "      <td>middle</td>\n",
       "      <td>A2724725885</td>\n",
       "      <td>I1294671590</td>\n",
       "      <td>1972</td>\n",
       "      <td>1970</td>\n",
       "      <td>2</td>\n",
       "      <td>2</td>\n",
       "      <td>A367921</td>\n",
       "      <td>1972</td>\n",
       "      <td>1.0</td>\n",
       "      <td>1976.0</td>\n",
       "      <td>6.0</td>\n",
       "      <td>1971</td>\n",
       "      <td>1</td>\n",
       "    </tr>\n",
       "    <tr>\n",
       "      <th>3</th>\n",
       "      <td>W2031577749</td>\n",
       "      <td>middle</td>\n",
       "      <td>A2491431510</td>\n",
       "      <td>I1294671590</td>\n",
       "      <td>1972</td>\n",
       "      <td>1970</td>\n",
       "      <td>2</td>\n",
       "      <td>2</td>\n",
       "      <td>A367921</td>\n",
       "      <td>1973</td>\n",
       "      <td>1.0</td>\n",
       "      <td>1976.0</td>\n",
       "      <td>6.0</td>\n",
       "      <td>1971</td>\n",
       "      <td>2</td>\n",
       "    </tr>\n",
       "    <tr>\n",
       "      <th>4</th>\n",
       "      <td>W2081199337</td>\n",
       "      <td>middle</td>\n",
       "      <td>A2491431510</td>\n",
       "      <td>I1294671590</td>\n",
       "      <td>1972</td>\n",
       "      <td>1970</td>\n",
       "      <td>2</td>\n",
       "      <td>2</td>\n",
       "      <td>A367921</td>\n",
       "      <td>1973</td>\n",
       "      <td>1.0</td>\n",
       "      <td>1976.0</td>\n",
       "      <td>6.0</td>\n",
       "      <td>1971</td>\n",
       "      <td>2</td>\n",
       "    </tr>\n",
       "  </tbody>\n",
       "</table>\n",
       "</div>"
      ],
      "text/plain": [
       "       work_id author_position    author_id institution_id  publication_year  \\\n",
       "0  W2031577749          middle  A2491431510    I1294671590              1972   \n",
       "1  W2081199337          middle  A2491431510    I1294671590              1972   \n",
       "2  W2081199337          middle  A2724725885    I1294671590              1972   \n",
       "3  W2031577749          middle  A2491431510    I1294671590              1972   \n",
       "4  W2081199337          middle  A2491431510    I1294671590              1972   \n",
       "\n",
       "   first_pub_year  scientific_age  group_size mentor_id  current_year  \\\n",
       "0            1970               2           2   A367921          1972   \n",
       "1            1970               2           2   A367921          1972   \n",
       "2            1970               2           2   A367921          1972   \n",
       "3            1970               2           2   A367921          1973   \n",
       "4            1970               2           2   A367921          1973   \n",
       "\n",
       "   ratio_institution  last_pub_year  career_len  mentor_first_pub_year  \\\n",
       "0                1.0         1976.0         6.0                   1971   \n",
       "1                1.0         1976.0         6.0                   1971   \n",
       "2                1.0         1976.0         6.0                   1971   \n",
       "3                1.0         1976.0         6.0                   1971   \n",
       "4                1.0         1976.0         6.0                   1971   \n",
       "\n",
       "   mentor_scientific_age  \n",
       "0                      1  \n",
       "1                      1  \n",
       "2                      1  \n",
       "3                      2  \n",
       "4                      2  "
      ]
     },
     "execution_count": 5,
     "metadata": {},
     "output_type": "execute_result"
    }
   ],
   "source": [
    "group_info.head(5)"
   ]
  },
  {
   "cell_type": "markdown",
   "id": "b20bf9c3-9638-4ba8-9635-1a2e3832aef0",
   "metadata": {},
   "source": [
    "##### Find OpenAlex ID of MentorID"
   ]
  },
  {
   "cell_type": "code",
   "execution_count": 6,
   "id": "6b539051-039a-4bce-a946-482d2c8fe88d",
   "metadata": {
    "tags": []
   },
   "outputs": [],
   "source": [
    "mentor_AFT = list(set(group_info_AFT2000.MentorID))"
   ]
  },
  {
   "cell_type": "code",
   "execution_count": 7,
   "id": "5508b841-aa7d-4f1f-84fd-2b2c6c9ebc3e",
   "metadata": {
    "tags": []
   },
   "outputs": [],
   "source": [
    "researcher = pd.read_csv('researcher.csv')"
   ]
  },
  {
   "cell_type": "code",
   "execution_count": 8,
   "id": "ccad7329-918a-4f08-af3d-783bfe630d62",
   "metadata": {
    "tags": []
   },
   "outputs": [
    {
     "data": {
      "text/html": [
       "<div>\n",
       "<style scoped>\n",
       "    .dataframe tbody tr th:only-of-type {\n",
       "        vertical-align: middle;\n",
       "    }\n",
       "\n",
       "    .dataframe tbody tr th {\n",
       "        vertical-align: top;\n",
       "    }\n",
       "\n",
       "    .dataframe thead th {\n",
       "        text-align: right;\n",
       "    }\n",
       "</style>\n",
       "<table border=\"1\" class=\"dataframe\">\n",
       "  <thead>\n",
       "    <tr style=\"text-align: right;\">\n",
       "      <th></th>\n",
       "      <th>PID</th>\n",
       "      <th>FirstName</th>\n",
       "      <th>MiddleName</th>\n",
       "      <th>LastName</th>\n",
       "      <th>Institution</th>\n",
       "      <th>InstitutionMAGID</th>\n",
       "      <th>ResearchArea</th>\n",
       "      <th>ORCID</th>\n",
       "      <th>MAGAuthorID</th>\n",
       "    </tr>\n",
       "  </thead>\n",
       "  <tbody>\n",
       "    <tr>\n",
       "      <th>0</th>\n",
       "      <td>1</td>\n",
       "      <td>STEPHEN</td>\n",
       "      <td>V</td>\n",
       "      <td>DAVID</td>\n",
       "      <td>Oregon Health and Science University</td>\n",
       "      <td>165690674.0</td>\n",
       "      <td>neuro,csd,bme</td>\n",
       "      <td>0000-0003-4135-3104</td>\n",
       "      <td>2.171828e+09</td>\n",
       "    </tr>\n",
       "    <tr>\n",
       "      <th>1</th>\n",
       "      <td>2</td>\n",
       "      <td>BENJAMIN</td>\n",
       "      <td>Y</td>\n",
       "      <td>HAYDEN</td>\n",
       "      <td>University of Minnesota, Twin Cities</td>\n",
       "      <td>130238516.0</td>\n",
       "      <td>neuro</td>\n",
       "      <td>0000-0002-7678-4281</td>\n",
       "      <td>2.082173e+09</td>\n",
       "    </tr>\n",
       "    <tr>\n",
       "      <th>2</th>\n",
       "      <td>3</td>\n",
       "      <td>JACK</td>\n",
       "      <td>L</td>\n",
       "      <td>GALLANT</td>\n",
       "      <td>University of California, Berkeley</td>\n",
       "      <td>95457486.0</td>\n",
       "      <td>neuro,psych</td>\n",
       "      <td>NaN</td>\n",
       "      <td>2.110166e+09</td>\n",
       "    </tr>\n",
       "    <tr>\n",
       "      <th>3</th>\n",
       "      <td>4</td>\n",
       "      <td>BENJAMIN</td>\n",
       "      <td>NaN</td>\n",
       "      <td>WILLMORE</td>\n",
       "      <td>University of Oxford</td>\n",
       "      <td>40120149.0</td>\n",
       "      <td>neuro</td>\n",
       "      <td>NaN</td>\n",
       "      <td>2.183264e+09</td>\n",
       "    </tr>\n",
       "    <tr>\n",
       "      <th>4</th>\n",
       "      <td>5</td>\n",
       "      <td>KENDRICK</td>\n",
       "      <td>NORRIS</td>\n",
       "      <td>KAY</td>\n",
       "      <td>University of Minnesota, Twin Cities</td>\n",
       "      <td>130238516.0</td>\n",
       "      <td>neuro</td>\n",
       "      <td>NaN</td>\n",
       "      <td>2.156587e+09</td>\n",
       "    </tr>\n",
       "  </tbody>\n",
       "</table>\n",
       "</div>"
      ],
      "text/plain": [
       "   PID FirstName MiddleName  LastName                           Institution  \\\n",
       "0    1   STEPHEN          V     DAVID  Oregon Health and Science University   \n",
       "1    2  BENJAMIN          Y    HAYDEN  University of Minnesota, Twin Cities   \n",
       "2    3      JACK          L   GALLANT    University of California, Berkeley   \n",
       "3    4  BENJAMIN        NaN  WILLMORE                  University of Oxford   \n",
       "4    5  KENDRICK     NORRIS       KAY  University of Minnesota, Twin Cities   \n",
       "\n",
       "   InstitutionMAGID   ResearchArea                ORCID   MAGAuthorID  \n",
       "0       165690674.0  neuro,csd,bme  0000-0003-4135-3104  2.171828e+09  \n",
       "1       130238516.0          neuro  0000-0002-7678-4281  2.082173e+09  \n",
       "2        95457486.0    neuro,psych                  NaN  2.110166e+09  \n",
       "3        40120149.0          neuro                  NaN  2.183264e+09  \n",
       "4       130238516.0          neuro                  NaN  2.156587e+09  "
      ]
     },
     "execution_count": 8,
     "metadata": {},
     "output_type": "execute_result"
    }
   ],
   "source": [
    "researcher.head(5)"
   ]
  },
  {
   "cell_type": "code",
   "execution_count": 9,
   "id": "b8a18c07-7217-42c1-b577-fe173d6f2310",
   "metadata": {
    "tags": []
   },
   "outputs": [],
   "source": [
    "mentor_MAG = researcher[['PID','MAGAuthorID']][(researcher.PID.isin(mentor_AFT))\n",
    "                                              &(~researcher.MAGAuthorID.isnull())]"
   ]
  },
  {
   "cell_type": "code",
   "execution_count": 10,
   "id": "caa0f288-f398-4a64-a539-f3a939d02b39",
   "metadata": {
    "tags": []
   },
   "outputs": [
    {
     "data": {
      "text/plain": [
       "15992"
      ]
     },
     "execution_count": 10,
     "metadata": {},
     "output_type": "execute_result"
    }
   ],
   "source": [
    "len(mentor_MAG)"
   ]
  },
  {
   "cell_type": "code",
   "execution_count": 11,
   "id": "5c2d9eef-097d-46fe-a49a-a355df60a737",
   "metadata": {
    "tags": []
   },
   "outputs": [
    {
     "data": {
      "text/html": [
       "<div>\n",
       "<style scoped>\n",
       "    .dataframe tbody tr th:only-of-type {\n",
       "        vertical-align: middle;\n",
       "    }\n",
       "\n",
       "    .dataframe tbody tr th {\n",
       "        vertical-align: top;\n",
       "    }\n",
       "\n",
       "    .dataframe thead th {\n",
       "        text-align: right;\n",
       "    }\n",
       "</style>\n",
       "<table border=\"1\" class=\"dataframe\">\n",
       "  <thead>\n",
       "    <tr style=\"text-align: right;\">\n",
       "      <th></th>\n",
       "      <th>PID</th>\n",
       "      <th>MAGAuthorID</th>\n",
       "    </tr>\n",
       "  </thead>\n",
       "  <tbody>\n",
       "    <tr>\n",
       "      <th>2</th>\n",
       "      <td>3</td>\n",
       "      <td>2.110166e+09</td>\n",
       "    </tr>\n",
       "    <tr>\n",
       "      <th>6</th>\n",
       "      <td>7</td>\n",
       "      <td>2.052279e+09</td>\n",
       "    </tr>\n",
       "    <tr>\n",
       "      <th>12</th>\n",
       "      <td>13</td>\n",
       "      <td>2.183534e+09</td>\n",
       "    </tr>\n",
       "  </tbody>\n",
       "</table>\n",
       "</div>"
      ],
      "text/plain": [
       "    PID   MAGAuthorID\n",
       "2     3  2.110166e+09\n",
       "6     7  2.052279e+09\n",
       "12   13  2.183534e+09"
      ]
     },
     "execution_count": 11,
     "metadata": {},
     "output_type": "execute_result"
    }
   ],
   "source": [
    "mentor_MAG.head(3)"
   ]
  },
  {
   "cell_type": "code",
   "execution_count": 18,
   "id": "2ab46f72-f12f-4328-ab2d-849781e22632",
   "metadata": {
    "tags": []
   },
   "outputs": [],
   "source": [
    "mentor_MAG = mentor_MAG.rename(columns={'MAGAuthorID':'mag'})"
   ]
  },
  {
   "cell_type": "code",
   "execution_count": 19,
   "id": "9fea4e0f-651c-4de6-9958-ef9190428081",
   "metadata": {
    "tags": []
   },
   "outputs": [],
   "source": [
    "mentors = list(mentor_MAG.mag)"
   ]
  },
  {
   "cell_type": "code",
   "execution_count": 13,
   "id": "776719bb-bcb0-4e7b-b4e6-b2511b9e11a4",
   "metadata": {
    "tags": []
   },
   "outputs": [],
   "source": [
    "from sqlalchemy import create_engine\n",
    "engine = create_engine(\"mysql+pymysql://{user}:{pw}@{host}:{port}/{db}?charset=utf8mb4\"\n",
    "                       .format(user=\"openalex_ym\",\n",
    "                               pw=\"openalex.ym\",\n",
    "                               host=\"172.18.18.167\",\n",
    "                               port=3306,\n",
    "                               db=\"openalex2022\"),\n",
    "                       )"
   ]
  },
  {
   "cell_type": "code",
   "execution_count": 14,
   "id": "bee301be-7411-49bf-8b58-dea9cb6e93a5",
   "metadata": {
    "tags": []
   },
   "outputs": [],
   "source": [
    "magId = [int(k) for k in mentors]"
   ]
  },
  {
   "cell_type": "code",
   "execution_count": 15,
   "id": "73a52b5c-b4bd-406b-8e01-33b5b835511a",
   "metadata": {
    "tags": []
   },
   "outputs": [],
   "source": [
    "magId_groups = []\n",
    "interval = 5000\n",
    "start_point = 0\n",
    "while True:\n",
    "    end_point = start_point + interval\n",
    "    try:\n",
    "        temp = magId[start_point:end_point]\n",
    "        magId_groups.append(temp)\n",
    "    except:\n",
    "        temp = magId[start_point:]\n",
    "        magId_groups.append(temp)\n",
    "        \n",
    "    start_point = end_point\n",
    "    if end_point>len(magId):\n",
    "        break"
   ]
  },
  {
   "cell_type": "code",
   "execution_count": 16,
   "id": "87a7c618-ddf4-46cb-b02c-5439e17f3403",
   "metadata": {
    "tags": []
   },
   "outputs": [],
   "source": [
    "l = len(magId_groups)\n",
    "for i in range(l):\n",
    "    temp =  magId_groups[i]\n",
    "    sql_query = \"\"\"select authors_ids.author_id, authors_ids.mag \n",
    "\n",
    "                    from authors_ids \n",
    "\n",
    "                    where authors_ids.mag in {}\n",
    "                    \"\"\".format(tuple(temp))\n",
    "\n",
    "\n",
    "    data = pd.read_sql(sql_query, con=engine)\n",
    "    # merge data\n",
    "    if i==0:\n",
    "        tp = data\n",
    "    else:\n",
    "        tp = pd.concat((tp,data))\n",
    "\n",
    "data = tp"
   ]
  },
  {
   "cell_type": "code",
   "execution_count": 17,
   "id": "2802f153-83fb-402e-9731-6d27043e46f9",
   "metadata": {
    "tags": []
   },
   "outputs": [
    {
     "data": {
      "text/html": [
       "<div>\n",
       "<style scoped>\n",
       "    .dataframe tbody tr th:only-of-type {\n",
       "        vertical-align: middle;\n",
       "    }\n",
       "\n",
       "    .dataframe tbody tr th {\n",
       "        vertical-align: top;\n",
       "    }\n",
       "\n",
       "    .dataframe thead th {\n",
       "        text-align: right;\n",
       "    }\n",
       "</style>\n",
       "<table border=\"1\" class=\"dataframe\">\n",
       "  <thead>\n",
       "    <tr style=\"text-align: right;\">\n",
       "      <th></th>\n",
       "      <th>author_id</th>\n",
       "      <th>mag</th>\n",
       "    </tr>\n",
       "  </thead>\n",
       "  <tbody>\n",
       "    <tr>\n",
       "      <th>0</th>\n",
       "      <td>A461721</td>\n",
       "      <td>461721</td>\n",
       "    </tr>\n",
       "    <tr>\n",
       "      <th>1</th>\n",
       "      <td>A1121383</td>\n",
       "      <td>1121383</td>\n",
       "    </tr>\n",
       "    <tr>\n",
       "      <th>2</th>\n",
       "      <td>A1750657</td>\n",
       "      <td>1750657</td>\n",
       "    </tr>\n",
       "    <tr>\n",
       "      <th>3</th>\n",
       "      <td>A2626456</td>\n",
       "      <td>2626456</td>\n",
       "    </tr>\n",
       "    <tr>\n",
       "      <th>4</th>\n",
       "      <td>A3881444</td>\n",
       "      <td>3881444</td>\n",
       "    </tr>\n",
       "  </tbody>\n",
       "</table>\n",
       "</div>"
      ],
      "text/plain": [
       "  author_id      mag\n",
       "0   A461721   461721\n",
       "1  A1121383  1121383\n",
       "2  A1750657  1750657\n",
       "3  A2626456  2626456\n",
       "4  A3881444  3881444"
      ]
     },
     "execution_count": 17,
     "metadata": {},
     "output_type": "execute_result"
    }
   ],
   "source": [
    "data.head(5)"
   ]
  },
  {
   "cell_type": "code",
   "execution_count": 20,
   "id": "cfd35d7a-39a6-4bc6-9b16-5471710a16fe",
   "metadata": {
    "tags": []
   },
   "outputs": [],
   "source": [
    "mentor_MAG = mentor_MAG.merge(data,on='mag',how='left')"
   ]
  },
  {
   "cell_type": "code",
   "execution_count": 23,
   "id": "34baf801-4469-43ef-b047-8ee2ad9621c2",
   "metadata": {
    "tags": []
   },
   "outputs": [
    {
     "data": {
      "text/html": [
       "<div>\n",
       "<style scoped>\n",
       "    .dataframe tbody tr th:only-of-type {\n",
       "        vertical-align: middle;\n",
       "    }\n",
       "\n",
       "    .dataframe tbody tr th {\n",
       "        vertical-align: top;\n",
       "    }\n",
       "\n",
       "    .dataframe thead th {\n",
       "        text-align: right;\n",
       "    }\n",
       "</style>\n",
       "<table border=\"1\" class=\"dataframe\">\n",
       "  <thead>\n",
       "    <tr style=\"text-align: right;\">\n",
       "      <th></th>\n",
       "      <th>MentorID</th>\n",
       "      <th>mentor_mag</th>\n",
       "      <th>mentor_id</th>\n",
       "    </tr>\n",
       "  </thead>\n",
       "  <tbody>\n",
       "    <tr>\n",
       "      <th>0</th>\n",
       "      <td>3</td>\n",
       "      <td>2.110166e+09</td>\n",
       "      <td>A2110165986</td>\n",
       "    </tr>\n",
       "    <tr>\n",
       "      <th>1</th>\n",
       "      <td>7</td>\n",
       "      <td>2.052279e+09</td>\n",
       "      <td>A2052278781</td>\n",
       "    </tr>\n",
       "    <tr>\n",
       "      <th>2</th>\n",
       "      <td>13</td>\n",
       "      <td>2.183534e+09</td>\n",
       "      <td>A2183534167</td>\n",
       "    </tr>\n",
       "  </tbody>\n",
       "</table>\n",
       "</div>"
      ],
      "text/plain": [
       "   MentorID    mentor_mag    mentor_id\n",
       "0         3  2.110166e+09  A2110165986\n",
       "1         7  2.052279e+09  A2052278781\n",
       "2        13  2.183534e+09  A2183534167"
      ]
     },
     "execution_count": 23,
     "metadata": {},
     "output_type": "execute_result"
    }
   ],
   "source": [
    "mentor_MAG.head(3)"
   ]
  },
  {
   "cell_type": "code",
   "execution_count": 22,
   "id": "f6922a58-9883-42ee-a337-cbe8ef21c746",
   "metadata": {
    "tags": []
   },
   "outputs": [],
   "source": [
    "mentor_MAG.columns = ['MentorID','mentor_mag','mentor_id']"
   ]
  },
  {
   "cell_type": "code",
   "execution_count": 24,
   "id": "5ebd3d5d-32f9-4108-8fe5-4467cd523a23",
   "metadata": {
    "tags": []
   },
   "outputs": [],
   "source": [
    "group_info_AFT2000 = group_info_AFT2000.merge(mentor_MAG,on='MentorID',how='left')"
   ]
  },
  {
   "cell_type": "code",
   "execution_count": 25,
   "id": "c824eefc-cc8c-40cc-96a1-e44de8b6b5af",
   "metadata": {
    "tags": []
   },
   "outputs": [
    {
     "data": {
      "text/html": [
       "<div>\n",
       "<style scoped>\n",
       "    .dataframe tbody tr th:only-of-type {\n",
       "        vertical-align: middle;\n",
       "    }\n",
       "\n",
       "    .dataframe tbody tr th {\n",
       "        vertical-align: top;\n",
       "    }\n",
       "\n",
       "    .dataframe thead th {\n",
       "        text-align: right;\n",
       "    }\n",
       "</style>\n",
       "<table border=\"1\" class=\"dataframe\">\n",
       "  <thead>\n",
       "    <tr style=\"text-align: right;\">\n",
       "      <th></th>\n",
       "      <th>MenteeID</th>\n",
       "      <th>StopYear</th>\n",
       "      <th>GroupSize</th>\n",
       "      <th>MentorID</th>\n",
       "      <th>mag</th>\n",
       "      <th>author_id</th>\n",
       "      <th>first_pub_year</th>\n",
       "      <th>last_pub_year</th>\n",
       "      <th>career_len</th>\n",
       "      <th>mentor_mag</th>\n",
       "      <th>mentor_id</th>\n",
       "    </tr>\n",
       "  </thead>\n",
       "  <tbody>\n",
       "    <tr>\n",
       "      <th>7215</th>\n",
       "      <td>4017</td>\n",
       "      <td>2003</td>\n",
       "      <td>3</td>\n",
       "      <td>839</td>\n",
       "      <td>1.867895e+09</td>\n",
       "      <td>A1867894562</td>\n",
       "      <td>1999.0</td>\n",
       "      <td>2022.0</td>\n",
       "      <td>23.0</td>\n",
       "      <td>2.428469e+09</td>\n",
       "      <td>A2428468760</td>\n",
       "    </tr>\n",
       "    <tr>\n",
       "      <th>87961</th>\n",
       "      <td>451514</td>\n",
       "      <td>2010</td>\n",
       "      <td>8</td>\n",
       "      <td>448215</td>\n",
       "      <td>NaN</td>\n",
       "      <td>NaN</td>\n",
       "      <td>NaN</td>\n",
       "      <td>NaN</td>\n",
       "      <td>NaN</td>\n",
       "      <td>2.102067e+09</td>\n",
       "      <td>A2102066616</td>\n",
       "    </tr>\n",
       "    <tr>\n",
       "      <th>55196</th>\n",
       "      <td>637280</td>\n",
       "      <td>2007</td>\n",
       "      <td>2</td>\n",
       "      <td>635312</td>\n",
       "      <td>NaN</td>\n",
       "      <td>NaN</td>\n",
       "      <td>NaN</td>\n",
       "      <td>NaN</td>\n",
       "      <td>NaN</td>\n",
       "      <td>NaN</td>\n",
       "      <td>NaN</td>\n",
       "    </tr>\n",
       "    <tr>\n",
       "      <th>48471</th>\n",
       "      <td>505558</td>\n",
       "      <td>2000</td>\n",
       "      <td>7</td>\n",
       "      <td>501670</td>\n",
       "      <td>2.131129e+09</td>\n",
       "      <td>A2131128762</td>\n",
       "      <td>1995.0</td>\n",
       "      <td>1996.0</td>\n",
       "      <td>1.0</td>\n",
       "      <td>2.222329e+09</td>\n",
       "      <td>A2222329283</td>\n",
       "    </tr>\n",
       "    <tr>\n",
       "      <th>54881</th>\n",
       "      <td>78133</td>\n",
       "      <td>2008</td>\n",
       "      <td>1</td>\n",
       "      <td>78134</td>\n",
       "      <td>6.623292e+08</td>\n",
       "      <td>A662329191</td>\n",
       "      <td>2008.0</td>\n",
       "      <td>2022.0</td>\n",
       "      <td>14.0</td>\n",
       "      <td>2.649951e+09</td>\n",
       "      <td>A2649950932</td>\n",
       "    </tr>\n",
       "  </tbody>\n",
       "</table>\n",
       "</div>"
      ],
      "text/plain": [
       "       MenteeID  StopYear  GroupSize  MentorID           mag    author_id  \\\n",
       "7215       4017      2003          3       839  1.867895e+09  A1867894562   \n",
       "87961    451514      2010          8    448215           NaN          NaN   \n",
       "55196    637280      2007          2    635312           NaN          NaN   \n",
       "48471    505558      2000          7    501670  2.131129e+09  A2131128762   \n",
       "54881     78133      2008          1     78134  6.623292e+08   A662329191   \n",
       "\n",
       "       first_pub_year  last_pub_year  career_len    mentor_mag    mentor_id  \n",
       "7215           1999.0         2022.0        23.0  2.428469e+09  A2428468760  \n",
       "87961             NaN            NaN         NaN  2.102067e+09  A2102066616  \n",
       "55196             NaN            NaN         NaN           NaN          NaN  \n",
       "48471          1995.0         1996.0         1.0  2.222329e+09  A2222329283  \n",
       "54881          2008.0         2022.0        14.0  2.649951e+09  A2649950932  "
      ]
     },
     "execution_count": 25,
     "metadata": {},
     "output_type": "execute_result"
    }
   ],
   "source": [
    "group_info_AFT2000.sample(5)"
   ]
  },
  {
   "cell_type": "code",
   "execution_count": 26,
   "id": "9c2aa380-747d-46fd-b264-37247d9b505f",
   "metadata": {
    "tags": []
   },
   "outputs": [],
   "source": [
    "group_info_AFT2000.to_csv('group_info_AFT2000.csv',index=0)"
   ]
  },
  {
   "cell_type": "code",
   "execution_count": null,
   "id": "9cdd7749-c037-47bd-8a79-62c25cfc2260",
   "metadata": {},
   "outputs": [],
   "source": []
  }
 ],
 "metadata": {
  "kernelspec": {
   "display_name": "myenv",
   "language": "python",
   "name": "myenv"
  },
  "language_info": {
   "codemirror_mode": {
    "name": "ipython",
    "version": 3
   },
   "file_extension": ".py",
   "mimetype": "text/x-python",
   "name": "python",
   "nbconvert_exporter": "python",
   "pygments_lexer": "ipython3",
   "version": "3.11.3"
  }
 },
 "nbformat": 4,
 "nbformat_minor": 5
}
