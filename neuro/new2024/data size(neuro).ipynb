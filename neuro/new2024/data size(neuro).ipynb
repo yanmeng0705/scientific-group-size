{
 "cells": [
  {
   "cell_type": "code",
   "execution_count": 1,
   "id": "3d8daf19-a46a-4826-90c8-9a7898c9203e",
   "metadata": {
    "tags": []
   },
   "outputs": [],
   "source": [
    "import pandas as pd"
   ]
  },
  {
   "cell_type": "code",
   "execution_count": 2,
   "id": "80f8bd94-b410-4c8d-99b8-02189258213c",
   "metadata": {
    "tags": []
   },
   "outputs": [],
   "source": [
    "inpath = '/Users/yanmemgxing/Nutstore Files/scientific group/neuro/'"
   ]
  },
  {
   "cell_type": "code",
   "execution_count": 3,
   "id": "6689fa35-bf7b-4dcb-949f-7cd8298d9f39",
   "metadata": {
    "tags": []
   },
   "outputs": [],
   "source": [
    "group_info = pd.read_csv(f'{inpath}group_info_OnlyLastAuthorPaper(current_scientific_age1213).csv')"
   ]
  },
  {
   "cell_type": "code",
   "execution_count": 4,
   "id": "d1abf543-a9ff-4a81-a039-a00bfead597c",
   "metadata": {
    "tags": []
   },
   "outputs": [
    {
     "data": {
      "text/html": [
       "<div>\n",
       "<style scoped>\n",
       "    .dataframe tbody tr th:only-of-type {\n",
       "        vertical-align: middle;\n",
       "    }\n",
       "\n",
       "    .dataframe tbody tr th {\n",
       "        vertical-align: top;\n",
       "    }\n",
       "\n",
       "    .dataframe thead th {\n",
       "        text-align: right;\n",
       "    }\n",
       "</style>\n",
       "<table border=\"1\" class=\"dataframe\">\n",
       "  <thead>\n",
       "    <tr style=\"text-align: right;\">\n",
       "      <th></th>\n",
       "      <th>work_id</th>\n",
       "      <th>author_position</th>\n",
       "      <th>author_id</th>\n",
       "      <th>institution_id</th>\n",
       "      <th>publication_year</th>\n",
       "      <th>first_pub_year</th>\n",
       "      <th>scientific_age</th>\n",
       "      <th>group_size</th>\n",
       "      <th>mentor_id</th>\n",
       "      <th>current_year</th>\n",
       "      <th>ratio_institution</th>\n",
       "      <th>current_scientific_age</th>\n",
       "      <th>last_pub_year</th>\n",
       "      <th>career_len</th>\n",
       "    </tr>\n",
       "  </thead>\n",
       "  <tbody>\n",
       "    <tr>\n",
       "      <th>0</th>\n",
       "      <td>W1982782877</td>\n",
       "      <td>first</td>\n",
       "      <td>A1135552249</td>\n",
       "      <td>I201448701</td>\n",
       "      <td>2006</td>\n",
       "      <td>2005</td>\n",
       "      <td>1</td>\n",
       "      <td>1</td>\n",
       "      <td>A2210051518</td>\n",
       "      <td>2006</td>\n",
       "      <td>0.750</td>\n",
       "      <td>1</td>\n",
       "      <td>2009.0</td>\n",
       "      <td>4.0</td>\n",
       "    </tr>\n",
       "    <tr>\n",
       "      <th>1</th>\n",
       "      <td>W1982782877</td>\n",
       "      <td>first</td>\n",
       "      <td>A1135552249</td>\n",
       "      <td>I201448701</td>\n",
       "      <td>2006</td>\n",
       "      <td>2005</td>\n",
       "      <td>1</td>\n",
       "      <td>2</td>\n",
       "      <td>A2210051518</td>\n",
       "      <td>2007</td>\n",
       "      <td>0.875</td>\n",
       "      <td>2</td>\n",
       "      <td>2009.0</td>\n",
       "      <td>4.0</td>\n",
       "    </tr>\n",
       "    <tr>\n",
       "      <th>2</th>\n",
       "      <td>W1737143051</td>\n",
       "      <td>first</td>\n",
       "      <td>A1975593598</td>\n",
       "      <td>I201448701</td>\n",
       "      <td>2007</td>\n",
       "      <td>1998</td>\n",
       "      <td>9</td>\n",
       "      <td>2</td>\n",
       "      <td>A2210051518</td>\n",
       "      <td>2007</td>\n",
       "      <td>0.875</td>\n",
       "      <td>9</td>\n",
       "      <td>2014.0</td>\n",
       "      <td>16.0</td>\n",
       "    </tr>\n",
       "    <tr>\n",
       "      <th>3</th>\n",
       "      <td>W1982782877</td>\n",
       "      <td>first</td>\n",
       "      <td>A1135552249</td>\n",
       "      <td>I201448701</td>\n",
       "      <td>2006</td>\n",
       "      <td>2005</td>\n",
       "      <td>1</td>\n",
       "      <td>12</td>\n",
       "      <td>A2210051518</td>\n",
       "      <td>2008</td>\n",
       "      <td>1.000</td>\n",
       "      <td>3</td>\n",
       "      <td>2009.0</td>\n",
       "      <td>4.0</td>\n",
       "    </tr>\n",
       "    <tr>\n",
       "      <th>4</th>\n",
       "      <td>W1737143051</td>\n",
       "      <td>first</td>\n",
       "      <td>A1975593598</td>\n",
       "      <td>I201448701</td>\n",
       "      <td>2007</td>\n",
       "      <td>1998</td>\n",
       "      <td>9</td>\n",
       "      <td>12</td>\n",
       "      <td>A2210051518</td>\n",
       "      <td>2008</td>\n",
       "      <td>1.000</td>\n",
       "      <td>10</td>\n",
       "      <td>2014.0</td>\n",
       "      <td>16.0</td>\n",
       "    </tr>\n",
       "  </tbody>\n",
       "</table>\n",
       "</div>"
      ],
      "text/plain": [
       "       work_id author_position    author_id institution_id  publication_year  \\\n",
       "0  W1982782877           first  A1135552249     I201448701              2006   \n",
       "1  W1982782877           first  A1135552249     I201448701              2006   \n",
       "2  W1737143051           first  A1975593598     I201448701              2007   \n",
       "3  W1982782877           first  A1135552249     I201448701              2006   \n",
       "4  W1737143051           first  A1975593598     I201448701              2007   \n",
       "\n",
       "   first_pub_year  scientific_age  group_size    mentor_id  current_year  \\\n",
       "0            2005               1           1  A2210051518          2006   \n",
       "1            2005               1           2  A2210051518          2007   \n",
       "2            1998               9           2  A2210051518          2007   \n",
       "3            2005               1          12  A2210051518          2008   \n",
       "4            1998               9          12  A2210051518          2008   \n",
       "\n",
       "   ratio_institution  current_scientific_age  last_pub_year  career_len  \n",
       "0              0.750                       1         2009.0         4.0  \n",
       "1              0.875                       2         2009.0         4.0  \n",
       "2              0.875                       9         2014.0        16.0  \n",
       "3              1.000                       3         2009.0         4.0  \n",
       "4              1.000                      10         2014.0        16.0  "
      ]
     },
     "execution_count": 4,
     "metadata": {},
     "output_type": "execute_result"
    }
   ],
   "source": [
    "group_info.head(5)"
   ]
  },
  {
   "cell_type": "markdown",
   "id": "d34fefe1-9166-4dc1-95f2-255e3db128e3",
   "metadata": {},
   "source": [
    "##### mentors"
   ]
  },
  {
   "cell_type": "code",
   "execution_count": 5,
   "id": "49bd954b-98a6-4d6b-ba81-797cf2d44d21",
   "metadata": {
    "tags": []
   },
   "outputs": [],
   "source": [
    "mentor = group_info['mentor_id'][group_info.current_year>=1980].drop_duplicates()"
   ]
  },
  {
   "cell_type": "code",
   "execution_count": 6,
   "id": "34e24ba3-87b7-412d-b966-92c51e4aa9c1",
   "metadata": {
    "tags": []
   },
   "outputs": [
    {
     "data": {
      "text/plain": [
       "21264"
      ]
     },
     "execution_count": 6,
     "metadata": {},
     "output_type": "execute_result"
    }
   ],
   "source": [
    "len(mentor)"
   ]
  },
  {
   "cell_type": "markdown",
   "id": "668fe819-633d-4d5d-9a47-2b1531792d5d",
   "metadata": {},
   "source": [
    "##### mentees"
   ]
  },
  {
   "cell_type": "code",
   "execution_count": 7,
   "id": "99fdf715-b1e6-4fed-a75a-872716d2c5f5",
   "metadata": {
    "tags": []
   },
   "outputs": [
    {
     "data": {
      "text/plain": [
       "576616"
      ]
     },
     "execution_count": 7,
     "metadata": {},
     "output_type": "execute_result"
    }
   ],
   "source": [
    "mentee = group_info['author_id'][group_info.current_year>=1980].drop_duplicates()\n",
    "len(mentee)"
   ]
  },
  {
   "cell_type": "markdown",
   "id": "8fc28949-6ea9-4915-b3ab-ab4e22f7c2e9",
   "metadata": {},
   "source": [
    "##### mentorship"
   ]
  },
  {
   "cell_type": "code",
   "execution_count": 8,
   "id": "0f15279b-f1c3-459a-9be4-63e0fbe10141",
   "metadata": {
    "tags": []
   },
   "outputs": [],
   "source": [
    "mentee_mentor = group_info[['author_id','mentor_id']][group_info.current_year>=1980].drop_duplicates()"
   ]
  },
  {
   "cell_type": "code",
   "execution_count": 9,
   "id": "833c7f45-af6a-4303-81c5-2bb05d0af25a",
   "metadata": {
    "tags": []
   },
   "outputs": [
    {
     "data": {
      "text/plain": [
       "(658489, 2)"
      ]
     },
     "execution_count": 9,
     "metadata": {},
     "output_type": "execute_result"
    }
   ],
   "source": [
    "mentee_mentor.shape"
   ]
  },
  {
   "cell_type": "markdown",
   "id": "57d9879d-c592-45f7-9224-102c9809b1e4",
   "metadata": {},
   "source": [
    "##### works"
   ]
  },
  {
   "cell_type": "code",
   "execution_count": 10,
   "id": "dcb8d70a-3b34-4494-b19c-31451eb3b924",
   "metadata": {
    "tags": []
   },
   "outputs": [],
   "source": [
    "G1_allWorks = pd.read_csv(f'{inpath}G1_allWorks_year.csv')"
   ]
  },
  {
   "cell_type": "code",
   "execution_count": 11,
   "id": "c6002b22-a4d5-4f3f-abf2-c4222147fb7e",
   "metadata": {
    "tags": []
   },
   "outputs": [
    {
     "data": {
      "text/html": [
       "<div>\n",
       "<style scoped>\n",
       "    .dataframe tbody tr th:only-of-type {\n",
       "        vertical-align: middle;\n",
       "    }\n",
       "\n",
       "    .dataframe tbody tr th {\n",
       "        vertical-align: top;\n",
       "    }\n",
       "\n",
       "    .dataframe thead th {\n",
       "        text-align: right;\n",
       "    }\n",
       "</style>\n",
       "<table border=\"1\" class=\"dataframe\">\n",
       "  <thead>\n",
       "    <tr style=\"text-align: right;\">\n",
       "      <th></th>\n",
       "      <th>work_id</th>\n",
       "      <th>publication_year</th>\n",
       "    </tr>\n",
       "  </thead>\n",
       "  <tbody>\n",
       "    <tr>\n",
       "      <th>0</th>\n",
       "      <td>W1000865391</td>\n",
       "      <td>2016</td>\n",
       "    </tr>\n",
       "    <tr>\n",
       "      <th>1</th>\n",
       "      <td>W1004263438</td>\n",
       "      <td>2012</td>\n",
       "    </tr>\n",
       "    <tr>\n",
       "      <th>2</th>\n",
       "      <td>W10055105</td>\n",
       "      <td>2008</td>\n",
       "    </tr>\n",
       "    <tr>\n",
       "      <th>3</th>\n",
       "      <td>W1017710698</td>\n",
       "      <td>1992</td>\n",
       "    </tr>\n",
       "    <tr>\n",
       "      <th>4</th>\n",
       "      <td>W1021782659</td>\n",
       "      <td>2013</td>\n",
       "    </tr>\n",
       "  </tbody>\n",
       "</table>\n",
       "</div>"
      ],
      "text/plain": [
       "       work_id  publication_year\n",
       "0  W1000865391              2016\n",
       "1  W1004263438              2012\n",
       "2    W10055105              2008\n",
       "3  W1017710698              1992\n",
       "4  W1021782659              2013"
      ]
     },
     "execution_count": 11,
     "metadata": {},
     "output_type": "execute_result"
    }
   ],
   "source": [
    "G1_allWorks.head(5)"
   ]
  },
  {
   "cell_type": "code",
   "execution_count": 12,
   "id": "13edf200-64ec-4eb3-8c6a-9b7888f76f01",
   "metadata": {
    "tags": []
   },
   "outputs": [
    {
     "data": {
      "text/plain": [
       "(5410717, 2)"
      ]
     },
     "execution_count": 12,
     "metadata": {},
     "output_type": "execute_result"
    }
   ],
   "source": [
    "G1_allWorks.shape"
   ]
  },
  {
   "cell_type": "code",
   "execution_count": 13,
   "id": "5639529a-c0d9-484a-ac70-17f2fd6dd0ad",
   "metadata": {},
   "outputs": [
    {
     "name": "stdout",
     "output_type": "stream",
     "text": [
      "mentor mentee mentorship works\n",
      "21264 576616 658489 5410717\n"
     ]
    }
   ],
   "source": [
    "print('mentor','mentee','mentorship','works')\n",
    "print(len(mentor),len(mentee),len(mentee_mentor),len(G1_allWorks))"
   ]
  },
  {
   "cell_type": "code",
   "execution_count": 14,
   "id": "800a52a8-5ceb-4826-b965-7627aa8f7052",
   "metadata": {},
   "outputs": [
    {
     "data": {
      "text/plain": [
       "52191"
      ]
     },
     "execution_count": 14,
     "metadata": {},
     "output_type": "execute_result"
    }
   ],
   "source": [
    "20183 + 10103 + 21905"
   ]
  },
  {
   "cell_type": "code",
   "execution_count": 15,
   "id": "9763f7ed-99ea-4b24-96d9-823a5f96d4a1",
   "metadata": {
    "tags": []
   },
   "outputs": [
    {
     "data": {
      "text/plain": [
       "1556824"
      ]
     },
     "execution_count": 15,
     "metadata": {},
     "output_type": "execute_result"
    }
   ],
   "source": [
    "772901 + 237821 + 546102"
   ]
  },
  {
   "cell_type": "code",
   "execution_count": 16,
   "id": "16d8148f-c82f-4e7b-b009-c02987e9c7fd",
   "metadata": {
    "tags": []
   },
   "outputs": [
    {
     "data": {
      "text/plain": [
       "1840704"
      ]
     },
     "execution_count": 16,
     "metadata": {},
     "output_type": "execute_result"
    }
   ],
   "source": [
    "904958 + 277287 + 658459"
   ]
  },
  {
   "cell_type": "code",
   "execution_count": 17,
   "id": "3cf14098-d525-424c-8baf-64bfcc928a4d",
   "metadata": {
    "tags": []
   },
   "outputs": [
    {
     "data": {
      "text/plain": [
       "16128897"
      ]
     },
     "execution_count": 17,
     "metadata": {},
     "output_type": "execute_result"
    }
   ],
   "source": [
    "7022504 + 3695676 + 5410717"
   ]
  },
  {
   "cell_type": "code",
   "execution_count": 18,
   "id": "3082916a-638d-4088-a9a2-648526d00061",
   "metadata": {
    "tags": []
   },
   "outputs": [
    {
     "data": {
      "text/plain": [
       "80000"
      ]
     },
     "execution_count": 18,
     "metadata": {},
     "output_type": "execute_result"
    }
   ],
   "source": [
    "2000*40"
   ]
  },
  {
   "cell_type": "code",
   "execution_count": 19,
   "id": "6a91dad5-bd76-4ff8-a2d9-2eb701ece7cc",
   "metadata": {
    "tags": []
   },
   "outputs": [
    {
     "data": {
      "text/plain": [
       "88200"
      ]
     },
     "execution_count": 19,
     "metadata": {},
     "output_type": "execute_result"
    }
   ],
   "source": [
    "2100*42"
   ]
  },
  {
   "cell_type": "code",
   "execution_count": 20,
   "id": "2d296c93-4d19-43f1-b220-1ea042a0f845",
   "metadata": {
    "tags": []
   },
   "outputs": [
    {
     "data": {
      "text/plain": [
       "63000"
      ]
     },
     "execution_count": 20,
     "metadata": {},
     "output_type": "execute_result"
    }
   ],
   "source": [
    "1500*42"
   ]
  },
  {
   "cell_type": "code",
   "execution_count": 25,
   "id": "e4da73ae-b0fb-4554-840b-5b19dd35e6c8",
   "metadata": {
    "tags": []
   },
   "outputs": [
    {
     "data": {
      "text/plain": [
       "1.914732695833127"
      ]
     },
     "execution_count": 25,
     "metadata": {},
     "output_type": "execute_result"
    }
   ],
   "source": [
    "772901/20183/20"
   ]
  },
  {
   "cell_type": "code",
   "execution_count": 28,
   "id": "f6877ef2-4945-47fd-af97-91c8bc01d2da",
   "metadata": {
    "tags": []
   },
   "outputs": [
    {
     "data": {
      "text/plain": [
       "1.1769820845293477"
      ]
     },
     "execution_count": 28,
     "metadata": {},
     "output_type": "execute_result"
    }
   ],
   "source": [
    "237821/10103/20"
   ]
  },
  {
   "cell_type": "code",
   "execution_count": 29,
   "id": "8c9bbfa1-4dbf-4aea-a1fd-dce9415adf3b",
   "metadata": {
    "tags": []
   },
   "outputs": [
    {
     "data": {
      "text/plain": [
       "1.2465236247432094"
      ]
     },
     "execution_count": 29,
     "metadata": {},
     "output_type": "execute_result"
    }
   ],
   "source": [
    "546102/21905/20"
   ]
  },
  {
   "cell_type": "code",
   "execution_count": null,
   "id": "76aa246e-e6e1-4271-8ff7-e3d8a19d3589",
   "metadata": {},
   "outputs": [],
   "source": []
  }
 ],
 "metadata": {
  "kernelspec": {
   "display_name": "myenv",
   "language": "python",
   "name": "myenv"
  },
  "language_info": {
   "codemirror_mode": {
    "name": "ipython",
    "version": 3
   },
   "file_extension": ".py",
   "mimetype": "text/x-python",
   "name": "python",
   "nbconvert_exporter": "python",
   "pygments_lexer": "ipython3",
   "version": "3.11.4"
  }
 },
 "nbformat": 4,
 "nbformat_minor": 5
}
