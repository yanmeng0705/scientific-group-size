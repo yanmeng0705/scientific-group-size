{
 "cells": [
  {
   "cell_type": "code",
   "execution_count": 1,
   "id": "d62cb822-da6d-4ca2-be1e-79f600e55f01",
   "metadata": {
    "tags": []
   },
   "outputs": [],
   "source": [
    "import pandas as pd\n",
    "import os\n",
    "import random\n",
    "import numpy as np\n",
    "import matplotlib.pyplot as plt\n",
    "import seaborn as sns"
   ]
  },
  {
   "cell_type": "code",
   "execution_count": 2,
   "id": "60f7b7a4-9de3-4e30-91dc-08377808c81d",
   "metadata": {
    "tags": []
   },
   "outputs": [],
   "source": [
    "Mtoship = pd.read_csv('neuro.csv')"
   ]
  },
  {
   "cell_type": "code",
   "execution_count": 3,
   "id": "ec4af6df-b3dd-49fc-8c66-8fa1815dc89a",
   "metadata": {
    "tags": []
   },
   "outputs": [],
   "source": [
    "Mtoship = Mtoship[Mtoship.StopYear!=-1]"
   ]
  },
  {
   "cell_type": "code",
   "execution_count": 4,
   "id": "51ba7b80-fcef-41ba-a491-7367b209a98e",
   "metadata": {
    "tags": []
   },
   "outputs": [
    {
     "data": {
      "text/plain": [
       "104896"
      ]
     },
     "execution_count": 4,
     "metadata": {},
     "output_type": "execute_result"
    }
   ],
   "source": [
    "len(Mtoship)"
   ]
  },
  {
   "cell_type": "code",
   "execution_count": 5,
   "id": "4b052655-6948-49b7-a208-1c7813ec952e",
   "metadata": {
    "tags": []
   },
   "outputs": [],
   "source": [
    "Mtoship_2000 = Mtoship[(Mtoship.StopYear!=-1)\n",
    "                 &(Mtoship.StopYear>=2000)]"
   ]
  },
  {
   "cell_type": "code",
   "execution_count": 6,
   "id": "af2b3c8e-336a-4f81-b8f6-93b2c5903118",
   "metadata": {
    "tags": []
   },
   "outputs": [
    {
     "data": {
      "text/plain": [
       "88131"
      ]
     },
     "execution_count": 6,
     "metadata": {},
     "output_type": "execute_result"
    }
   ],
   "source": [
    "len(Mtoship_2000)"
   ]
  },
  {
   "cell_type": "code",
   "execution_count": 7,
   "id": "239da8c1-21bb-4b16-9002-2891cbc270ca",
   "metadata": {
    "tags": []
   },
   "outputs": [
    {
     "data": {
      "text/plain": [
       "<Axes: xlabel='StopYear', ylabel='Probability'>"
      ]
     },
     "execution_count": 7,
     "metadata": {},
     "output_type": "execute_result"
    },
    {
     "data": {
      "image/png": "[encoded data removed]",
      "text/plain": [
       "<Figure size 500x309 with 1 Axes>"
      ]
     },
     "metadata": {},
     "output_type": "display_data"
    }
   ],
   "source": [
    "fig, ax = plt.subplots(constrained_layout=True,figsize=[1*5,0.618*5])\n",
    "\n",
    "sns.histplot(data=Mtoship, x=\"StopYear\",binrange=[1800,2022],\n",
    "             stat='probability',ax=ax)"
   ]
  },
  {
   "cell_type": "code",
   "execution_count": 8,
   "id": "433c55c8-f1f0-4157-b84f-bd0a3a8be17a",
   "metadata": {
    "tags": []
   },
   "outputs": [],
   "source": [
    "Mtoship_2000 = Mtoship_2000[['MenteeID','MentorID','StopYear']]"
   ]
  },
  {
   "cell_type": "code",
   "execution_count": 9,
   "id": "9173f587-3467-47ef-a216-7f18ebccaa33",
   "metadata": {
    "tags": []
   },
   "outputs": [
    {
     "data": {
      "text/plain": [
       "<Axes: xlabel='StopYear', ylabel='Probability'>"
      ]
     },
     "execution_count": 9,
     "metadata": {},
     "output_type": "execute_result"
    },
    {
     "data": {
      "image/png": "[encoded data removed]",
      "text/plain": [
       "<Figure size 500x309 with 1 Axes>"
      ]
     },
     "metadata": {},
     "output_type": "display_data"
    }
   ],
   "source": [
    "fig, ax = plt.subplots(1,1,constrained_layout=True,figsize=[1*5,0.618*5])\n",
    "sns.set(style='ticks',font_scale=1.2, font='Arial')\n",
    "\n",
    "sns.histplot(data=Mtoship_2000, x=\"StopYear\",stat='probability',\n",
    "             ax=ax)"
   ]
  },
  {
   "cell_type": "code",
   "execution_count": 10,
   "id": "fbda4863-295d-4529-9892-83c58599beb1",
   "metadata": {
    "tags": []
   },
   "outputs": [
    {
     "data": {
      "text/html": [
       "<div>\n",
       "<style scoped>\n",
       "    .dataframe tbody tr th:only-of-type {\n",
       "        vertical-align: middle;\n",
       "    }\n",
       "\n",
       "    .dataframe tbody tr th {\n",
       "        vertical-align: top;\n",
       "    }\n",
       "\n",
       "    .dataframe thead th {\n",
       "        text-align: right;\n",
       "    }\n",
       "</style>\n",
       "<table border=\"1\" class=\"dataframe\">\n",
       "  <thead>\n",
       "    <tr style=\"text-align: right;\">\n",
       "      <th></th>\n",
       "      <th>MenteeID</th>\n",
       "      <th>MentorID</th>\n",
       "      <th>StopYear</th>\n",
       "    </tr>\n",
       "  </thead>\n",
       "  <tbody>\n",
       "    <tr>\n",
       "      <th>0</th>\n",
       "      <td>2</td>\n",
       "      <td>3</td>\n",
       "      <td>2005</td>\n",
       "    </tr>\n",
       "    <tr>\n",
       "      <th>1</th>\n",
       "      <td>4</td>\n",
       "      <td>3</td>\n",
       "      <td>2006</td>\n",
       "    </tr>\n",
       "    <tr>\n",
       "      <th>2</th>\n",
       "      <td>6</td>\n",
       "      <td>3</td>\n",
       "      <td>2008</td>\n",
       "    </tr>\n",
       "    <tr>\n",
       "      <th>13</th>\n",
       "      <td>8</td>\n",
       "      <td>3</td>\n",
       "      <td>2006</td>\n",
       "    </tr>\n",
       "    <tr>\n",
       "      <th>18</th>\n",
       "      <td>5</td>\n",
       "      <td>3</td>\n",
       "      <td>2009</td>\n",
       "    </tr>\n",
       "  </tbody>\n",
       "</table>\n",
       "</div>"
      ],
      "text/plain": [
       "    MenteeID  MentorID  StopYear\n",
       "0          2         3      2005\n",
       "1          4         3      2006\n",
       "2          6         3      2008\n",
       "13         8         3      2006\n",
       "18         5         3      2009"
      ]
     },
     "execution_count": 10,
     "metadata": {},
     "output_type": "execute_result"
    }
   ],
   "source": [
    "Mtoship_2000.head(5)"
   ]
  },
  {
   "cell_type": "code",
   "execution_count": 11,
   "id": "d861713e-0506-4ab9-825f-bc0a137c48c7",
   "metadata": {
    "tags": []
   },
   "outputs": [],
   "source": [
    "temp = Mtoship_2000.groupby('MentorID')['MenteeID'].agg('count').reset_index(name='count').sort_values(by='count',ascending=0)"
   ]
  },
  {
   "cell_type": "code",
   "execution_count": 12,
   "id": "c8b9c5f3-a654-464c-bc18-bc9db1e1cb52",
   "metadata": {
    "tags": []
   },
   "outputs": [],
   "source": [
    "MentorID = list(temp.MentorID)"
   ]
  },
  {
   "cell_type": "code",
   "execution_count": 13,
   "id": "ae2050b7-ac57-423a-9dc2-51f35ea0b8a0",
   "metadata": {
    "tags": []
   },
   "outputs": [
    {
     "name": "stdout",
     "output_type": "stream",
     "text": [
      "id_i :  213604\n"
     ]
    }
   ],
   "source": [
    "i = 0\n",
    "id_i = MentorID[i]\n",
    "print('id_i : ',id_i)\n",
    "mentees_i = Mtoship_2000[Mtoship_2000.MentorID==id_i].drop_duplicates()"
   ]
  },
  {
   "cell_type": "code",
   "execution_count": 14,
   "id": "4d6afded-0e2f-4f3f-b9ba-e8bea98dc099",
   "metadata": {
    "tags": []
   },
   "outputs": [
    {
     "data": {
      "text/html": [
       "<div>\n",
       "<style scoped>\n",
       "    .dataframe tbody tr th:only-of-type {\n",
       "        vertical-align: middle;\n",
       "    }\n",
       "\n",
       "    .dataframe tbody tr th {\n",
       "        vertical-align: top;\n",
       "    }\n",
       "\n",
       "    .dataframe thead th {\n",
       "        text-align: right;\n",
       "    }\n",
       "</style>\n",
       "<table border=\"1\" class=\"dataframe\">\n",
       "  <thead>\n",
       "    <tr style=\"text-align: right;\">\n",
       "      <th></th>\n",
       "      <th>MenteeID</th>\n",
       "      <th>MentorID</th>\n",
       "      <th>StopYear</th>\n",
       "    </tr>\n",
       "  </thead>\n",
       "  <tbody>\n",
       "    <tr>\n",
       "      <th>83010</th>\n",
       "      <td>220307</td>\n",
       "      <td>213604</td>\n",
       "      <td>2000</td>\n",
       "    </tr>\n",
       "    <tr>\n",
       "      <th>83011</th>\n",
       "      <td>220308</td>\n",
       "      <td>213604</td>\n",
       "      <td>2000</td>\n",
       "    </tr>\n",
       "    <tr>\n",
       "      <th>83012</th>\n",
       "      <td>220309</td>\n",
       "      <td>213604</td>\n",
       "      <td>2001</td>\n",
       "    </tr>\n",
       "    <tr>\n",
       "      <th>83013</th>\n",
       "      <td>220310</td>\n",
       "      <td>213604</td>\n",
       "      <td>2001</td>\n",
       "    </tr>\n",
       "    <tr>\n",
       "      <th>83014</th>\n",
       "      <td>220311</td>\n",
       "      <td>213604</td>\n",
       "      <td>2002</td>\n",
       "    </tr>\n",
       "    <tr>\n",
       "      <th>...</th>\n",
       "      <td>...</td>\n",
       "      <td>...</td>\n",
       "      <td>...</td>\n",
       "    </tr>\n",
       "    <tr>\n",
       "      <th>85956</th>\n",
       "      <td>264897</td>\n",
       "      <td>213604</td>\n",
       "      <td>2013</td>\n",
       "    </tr>\n",
       "    <tr>\n",
       "      <th>85957</th>\n",
       "      <td>264898</td>\n",
       "      <td>213604</td>\n",
       "      <td>2013</td>\n",
       "    </tr>\n",
       "    <tr>\n",
       "      <th>85958</th>\n",
       "      <td>264899</td>\n",
       "      <td>213604</td>\n",
       "      <td>2013</td>\n",
       "    </tr>\n",
       "    <tr>\n",
       "      <th>85959</th>\n",
       "      <td>264900</td>\n",
       "      <td>213604</td>\n",
       "      <td>2014</td>\n",
       "    </tr>\n",
       "    <tr>\n",
       "      <th>85960</th>\n",
       "      <td>264901</td>\n",
       "      <td>213604</td>\n",
       "      <td>2014</td>\n",
       "    </tr>\n",
       "  </tbody>\n",
       "</table>\n",
       "<p>117 rows × 3 columns</p>\n",
       "</div>"
      ],
      "text/plain": [
       "       MenteeID  MentorID  StopYear\n",
       "83010    220307    213604      2000\n",
       "83011    220308    213604      2000\n",
       "83012    220309    213604      2001\n",
       "83013    220310    213604      2001\n",
       "83014    220311    213604      2002\n",
       "...         ...       ...       ...\n",
       "85956    264897    213604      2013\n",
       "85957    264898    213604      2013\n",
       "85958    264899    213604      2013\n",
       "85959    264900    213604      2014\n",
       "85960    264901    213604      2014\n",
       "\n",
       "[117 rows x 3 columns]"
      ]
     },
     "execution_count": 14,
     "metadata": {},
     "output_type": "execute_result"
    }
   ],
   "source": [
    "mentees_i"
   ]
  },
  {
   "cell_type": "code",
   "execution_count": 16,
   "id": "9a514973-0d29-4842-af96-f726d907baae",
   "metadata": {
    "tags": []
   },
   "outputs": [],
   "source": [
    "# Temp = []\n",
    "interval = 2\n",
    "def groupsize(df,interval,yearbins):\n",
    "    mentees_i = df\n",
    "    Temp = []\n",
    "    for year in yearbins:\n",
    "        mentees_i_year = mentees_i[['MenteeID','StopYear']][mentees_i.StopYear==year]\n",
    "        temp = mentees_i['MenteeID'][(year-interval<=mentees_i.StopYear)\n",
    "                                       &(mentees_i.StopYear<=year+interval)]\n",
    "        mentees_i_year['GroupSize'] = len(temp)\n",
    "        mentees_i_year['MentorID'] = mentees_i['MentorID']\n",
    "        Temp.extend(list(mentees_i_year.values))\n",
    "    return Temp"
   ]
  },
  {
   "cell_type": "code",
   "execution_count": 20,
   "id": "02ebc564-5ab2-40f5-b230-0e14cb36a634",
   "metadata": {
    "tags": []
   },
   "outputs": [],
   "source": [
    "mentor_2002_2012 = list(set(Mtoship_2000['MentorID'][(Mtoship_2000.StopYear>=2002)\n",
    "                                           &(Mtoship_2000.StopYear<=2012)]))"
   ]
  },
  {
   "cell_type": "code",
   "execution_count": 21,
   "id": "f31b5987-094c-44c1-bd54-0ea46e6559bd",
   "metadata": {
    "tags": []
   },
   "outputs": [
    {
     "data": {
      "text/plain": [
       "18069"
      ]
     },
     "execution_count": 21,
     "metadata": {},
     "output_type": "execute_result"
    }
   ],
   "source": [
    "len(mentor_2002_2012)"
   ]
  },
  {
   "cell_type": "code",
   "execution_count": 22,
   "id": "db75b673-dde4-4a6c-a494-958ebc6dac45",
   "metadata": {
    "scrolled": true,
    "tags": []
   },
   "outputs": [
    {
     "name": "stdout",
     "output_type": "stream",
     "text": [
      "0\n",
      "100\n",
      "200\n",
      "300\n",
      "400\n",
      "500\n",
      "600\n",
      "700\n",
      "800\n",
      "900\n",
      "1000\n",
      "1100\n",
      "1200\n",
      "1300\n",
      "1400\n",
      "1500\n",
      "1600\n",
      "1700\n",
      "1800\n",
      "1900\n",
      "2000\n",
      "2100\n",
      "2200\n",
      "2300\n",
      "2400\n",
      "2500\n",
      "2600\n",
      "2700\n",
      "2800\n",
      "2900\n",
      "3000\n",
      "3100\n",
      "3200\n",
      "3300\n",
      "3400\n",
      "3500\n",
      "3600\n",
      "3700\n",
      "3800\n",
      "3900\n",
      "4000\n",
      "4100\n",
      "4200\n",
      "4300\n",
      "4400\n",
      "4500\n",
      "4600\n",
      "4700\n",
      "4800\n",
      "4900\n",
      "5000\n",
      "5100\n",
      "5200\n",
      "5300\n",
      "5400\n",
      "5500\n",
      "5600\n",
      "5700\n",
      "5800\n",
      "5900\n",
      "6000\n",
      "6100\n",
      "6200\n",
      "6300\n",
      "6400\n",
      "6500\n",
      "6600\n",
      "6700\n",
      "6800\n",
      "6900\n",
      "7000\n",
      "7100\n",
      "7200\n",
      "7300\n",
      "7400\n",
      "7500\n",
      "7600\n",
      "7700\n",
      "7800\n",
      "7900\n",
      "8000\n",
      "8100\n",
      "8200\n",
      "8300\n",
      "8400\n",
      "8500\n",
      "8600\n",
      "8700\n",
      "8800\n",
      "8900\n",
      "9000\n",
      "9100\n",
      "9200\n",
      "9300\n",
      "9400\n",
      "9500\n",
      "9600\n",
      "9700\n",
      "9800\n",
      "9900\n",
      "10000\n",
      "10100\n",
      "10200\n",
      "10300\n",
      "10400\n",
      "10500\n",
      "10600\n",
      "10700\n",
      "10800\n",
      "10900\n",
      "11000\n",
      "11100\n",
      "11200\n",
      "11300\n",
      "11400\n",
      "11500\n",
      "11600\n",
      "11700\n",
      "11800\n",
      "11900\n",
      "12000\n",
      "12100\n",
      "12200\n",
      "12300\n",
      "12400\n",
      "12500\n",
      "12600\n",
      "12700\n",
      "12800\n",
      "12900\n",
      "13000\n",
      "13100\n",
      "13200\n",
      "13300\n",
      "13400\n",
      "13500\n",
      "13600\n",
      "13700\n",
      "13800\n",
      "13900\n",
      "14000\n",
      "14100\n",
      "14200\n",
      "14300\n",
      "14400\n",
      "14500\n",
      "14600\n",
      "14700\n",
      "14800\n",
      "14900\n",
      "15000\n",
      "15100\n",
      "15200\n",
      "15300\n",
      "15400\n",
      "15500\n",
      "15600\n",
      "15700\n",
      "15800\n",
      "15900\n",
      "16000\n",
      "16100\n",
      "16200\n",
      "16300\n",
      "16400\n",
      "16500\n",
      "16600\n",
      "16700\n",
      "16800\n",
      "16900\n",
      "17000\n",
      "17100\n",
      "17200\n",
      "17300\n",
      "17400\n",
      "17500\n",
      "17600\n",
      "17700\n",
      "17800\n",
      "17900\n",
      "18000\n"
     ]
    }
   ],
   "source": [
    "interval = 2\n",
    "# yearbins = list(range(2002,2013))\n",
    "Data = []\n",
    "for i in range(len(mentor_2002_2012)):\n",
    "    mentor_i = mentor_2002_2012[i]\n",
    "    mentees_i = Mtoship_2000[Mtoship_2000.MentorID==mentor_i].drop_duplicates()\n",
    "    yearbins = list(mentees_i.StopYear)\n",
    "    Temp = groupsize(mentees_i,interval,yearbins)\n",
    "    Data.extend(Temp)\n",
    "    \n",
    "    if i%100==0:\n",
    "        print(i)"
   ]
  },
  {
   "cell_type": "code",
   "execution_count": 24,
   "id": "e29e6972-2b0f-4a01-b78f-b16eb6a90fe1",
   "metadata": {
    "tags": []
   },
   "outputs": [],
   "source": [
    "Data = pd.DataFrame(Data,columns=['MenteeID','StopYear','GroupSize','MentorID'])"
   ]
  },
  {
   "cell_type": "code",
   "execution_count": 25,
   "id": "e1d1bc2a-085a-4aad-ab8c-82a17aa905aa",
   "metadata": {
    "tags": []
   },
   "outputs": [],
   "source": [
    "Data = Data[Data.StopYear<=2012]"
   ]
  },
  {
   "cell_type": "code",
   "execution_count": 26,
   "id": "02bc8af3-1a00-4a13-93fd-a1f0ac42733c",
   "metadata": {
    "tags": []
   },
   "outputs": [],
   "source": [
    "Data.to_csv('group_info_AFT2000.csv',index=0)"
   ]
  },
  {
   "cell_type": "code",
   "execution_count": 27,
   "id": "c990b5a1-0118-42e9-b3ff-bbb7a21418af",
   "metadata": {
    "tags": []
   },
   "outputs": [
    {
     "data": {
      "text/html": [
       "<div>\n",
       "<style scoped>\n",
       "    .dataframe tbody tr th:only-of-type {\n",
       "        vertical-align: middle;\n",
       "    }\n",
       "\n",
       "    .dataframe tbody tr th {\n",
       "        vertical-align: top;\n",
       "    }\n",
       "\n",
       "    .dataframe thead th {\n",
       "        text-align: right;\n",
       "    }\n",
       "</style>\n",
       "<table border=\"1\" class=\"dataframe\">\n",
       "  <thead>\n",
       "    <tr style=\"text-align: right;\">\n",
       "      <th></th>\n",
       "      <th>MenteeID</th>\n",
       "      <th>StopYear</th>\n",
       "      <th>GroupSize</th>\n",
       "      <th>MentorID</th>\n",
       "    </tr>\n",
       "  </thead>\n",
       "  <tbody>\n",
       "    <tr>\n",
       "      <th>18810</th>\n",
       "      <td>678787</td>\n",
       "      <td>2012</td>\n",
       "      <td>14</td>\n",
       "      <td>2072</td>\n",
       "    </tr>\n",
       "    <tr>\n",
       "      <th>34166</th>\n",
       "      <td>32390</td>\n",
       "      <td>2007</td>\n",
       "      <td>1</td>\n",
       "      <td>4629</td>\n",
       "    </tr>\n",
       "    <tr>\n",
       "      <th>54680</th>\n",
       "      <td>30718</td>\n",
       "      <td>2008</td>\n",
       "      <td>2</td>\n",
       "      <td>9491</td>\n",
       "    </tr>\n",
       "    <tr>\n",
       "      <th>114400</th>\n",
       "      <td>654372</td>\n",
       "      <td>2009</td>\n",
       "      <td>1</td>\n",
       "      <td>646428</td>\n",
       "    </tr>\n",
       "    <tr>\n",
       "      <th>107541</th>\n",
       "      <td>452162</td>\n",
       "      <td>2011</td>\n",
       "      <td>21</td>\n",
       "      <td>448287</td>\n",
       "    </tr>\n",
       "  </tbody>\n",
       "</table>\n",
       "</div>"
      ],
      "text/plain": [
       "        MenteeID  StopYear  GroupSize  MentorID\n",
       "18810     678787      2012         14      2072\n",
       "34166      32390      2007          1      4629\n",
       "54680      30718      2008          2      9491\n",
       "114400    654372      2009          1    646428\n",
       "107541    452162      2011         21    448287"
      ]
     },
     "execution_count": 27,
     "metadata": {},
     "output_type": "execute_result"
    }
   ],
   "source": [
    "Data.sample(5)"
   ]
  },
  {
   "cell_type": "code",
   "execution_count": 29,
   "id": "4073ce78-e3a4-4472-a6e7-36f90e1029d1",
   "metadata": {
    "tags": []
   },
   "outputs": [
    {
     "name": "stdout",
     "output_type": "stream",
     "text": [
      "24775\n"
     ]
    }
   ],
   "source": [
    "Mentors = list(set(Mtoship_2000['MentorID']))\n",
    "print(len(Mentors))\n",
    "Survivers = pd.DataFrame(Mentors,columns=['MenteeID'])\n",
    "Survivers['Survival'] = 1"
   ]
  },
  {
   "cell_type": "code",
   "execution_count": 30,
   "id": "67f8d5d0-6a97-42aa-b3df-4d845c3d793d",
   "metadata": {
    "tags": []
   },
   "outputs": [],
   "source": [
    "Data = Data.merge(Survivers,on='MenteeID',how='left')"
   ]
  },
  {
   "cell_type": "code",
   "execution_count": 31,
   "id": "6910ee9d-aeb4-45c0-b9d3-91b3691cc8f5",
   "metadata": {
    "tags": []
   },
   "outputs": [
    {
     "data": {
      "text/plain": [
       "3302"
      ]
     },
     "execution_count": 31,
     "metadata": {},
     "output_type": "execute_result"
    }
   ],
   "source": [
    "len(set(Data.MenteeID[Data.Survival==1]))"
   ]
  },
  {
   "cell_type": "code",
   "execution_count": 32,
   "id": "33ed0f79-df58-497a-92ce-499640971b07",
   "metadata": {
    "tags": []
   },
   "outputs": [
    {
     "data": {
      "text/plain": [
       "58663"
      ]
     },
     "execution_count": 32,
     "metadata": {},
     "output_type": "execute_result"
    }
   ],
   "source": [
    "len(set(Data.MenteeID))"
   ]
  },
  {
   "cell_type": "code",
   "execution_count": 33,
   "id": "b4be7efe-345f-4bb5-84cd-c7e1b2042713",
   "metadata": {
    "tags": []
   },
   "outputs": [
    {
     "data": {
      "text/plain": [
       "0.0562876088846462"
      ]
     },
     "execution_count": 33,
     "metadata": {},
     "output_type": "execute_result"
    }
   ],
   "source": [
    "len(set(Data.MenteeID[Data.Survival==1]))/len(set(Data.MenteeID))"
   ]
  },
  {
   "cell_type": "code",
   "execution_count": 131,
   "id": "13833743-b73d-4cac-99c9-8ca0ee5e086a",
   "metadata": {
    "tags": []
   },
   "outputs": [],
   "source": [
    "mentor_i = 286946.0"
   ]
  },
  {
   "cell_type": "code",
   "execution_count": 132,
   "id": "b748ca0f-ad45-4184-a1fb-b91cf3fa9242",
   "metadata": {
    "tags": []
   },
   "outputs": [],
   "source": [
    "mentees_i = Mtoship_2000[Mtoship_2000.MentorID==mentor_i].drop_duplicates()\n",
    "Temp = groupsize(mentees_i,interval,yearbins)"
   ]
  },
  {
   "cell_type": "code",
   "execution_count": 134,
   "id": "f9821ffd-d5bd-478e-9e6a-bce279a5e1c5",
   "metadata": {
    "tags": []
   },
   "outputs": [
    {
     "data": {
      "text/html": [
       "<div>\n",
       "<style scoped>\n",
       "    .dataframe tbody tr th:only-of-type {\n",
       "        vertical-align: middle;\n",
       "    }\n",
       "\n",
       "    .dataframe tbody tr th {\n",
       "        vertical-align: top;\n",
       "    }\n",
       "\n",
       "    .dataframe thead th {\n",
       "        text-align: right;\n",
       "    }\n",
       "</style>\n",
       "<table border=\"1\" class=\"dataframe\">\n",
       "  <thead>\n",
       "    <tr style=\"text-align: right;\">\n",
       "      <th></th>\n",
       "      <th>MenteeID</th>\n",
       "      <th>MentorID</th>\n",
       "      <th>StopYear</th>\n",
       "    </tr>\n",
       "  </thead>\n",
       "  <tbody>\n",
       "    <tr>\n",
       "      <th>16364</th>\n",
       "      <td>294586</td>\n",
       "      <td>286946</td>\n",
       "      <td>2002</td>\n",
       "    </tr>\n",
       "    <tr>\n",
       "      <th>16365</th>\n",
       "      <td>294587</td>\n",
       "      <td>286946</td>\n",
       "      <td>2002</td>\n",
       "    </tr>\n",
       "    <tr>\n",
       "      <th>16366</th>\n",
       "      <td>294588</td>\n",
       "      <td>286946</td>\n",
       "      <td>2006</td>\n",
       "    </tr>\n",
       "    <tr>\n",
       "      <th>16367</th>\n",
       "      <td>294589</td>\n",
       "      <td>286946</td>\n",
       "      <td>2011</td>\n",
       "    </tr>\n",
       "    <tr>\n",
       "      <th>16368</th>\n",
       "      <td>294590</td>\n",
       "      <td>286946</td>\n",
       "      <td>2013</td>\n",
       "    </tr>\n",
       "    <tr>\n",
       "      <th>16369</th>\n",
       "      <td>294591</td>\n",
       "      <td>286946</td>\n",
       "      <td>2013</td>\n",
       "    </tr>\n",
       "  </tbody>\n",
       "</table>\n",
       "</div>"
      ],
      "text/plain": [
       "       MenteeID  MentorID  StopYear\n",
       "16364    294586    286946      2002\n",
       "16365    294587    286946      2002\n",
       "16366    294588    286946      2006\n",
       "16367    294589    286946      2011\n",
       "16368    294590    286946      2013\n",
       "16369    294591    286946      2013"
      ]
     },
     "execution_count": 134,
     "metadata": {},
     "output_type": "execute_result"
    }
   ],
   "source": [
    "mentees_i"
   ]
  },
  {
   "cell_type": "code",
   "execution_count": null,
   "id": "f15c9bc2-6dab-4a9e-b910-425948f0cbd8",
   "metadata": {},
   "outputs": [],
   "source": []
  }
 ],
 "metadata": {
  "kernelspec": {
   "display_name": "myenv",
   "language": "python",
   "name": "myenv"
  },
  "language_info": {
   "codemirror_mode": {
    "name": "ipython",
    "version": 3
   },
   "file_extension": ".py",
   "mimetype": "text/x-python",
   "name": "python",
   "nbconvert_exporter": "python",
   "pygments_lexer": "ipython3",
   "version": "3.11.3"
  }
 },
 "nbformat": 4,
 "nbformat_minor": 5
}
