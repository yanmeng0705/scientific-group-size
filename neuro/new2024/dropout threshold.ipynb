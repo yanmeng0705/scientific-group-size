{
 "cells": [
  {
   "cell_type": "code",
   "execution_count": 52,
   "id": "a93c29b8-2c60-4a95-8bcc-e6b46bdf11c4",
   "metadata": {
    "tags": []
   },
   "outputs": [],
   "source": [
    "import pandas as pd\n",
    "from collections import Counter\n",
    "import matplotlib.pyplot as plt\n",
    "import seaborn as sns"
   ]
  },
  {
   "cell_type": "code",
   "execution_count": 4,
   "id": "32f211be-82a5-4965-b366-527ff23a68ec",
   "metadata": {
    "tags": []
   },
   "outputs": [],
   "source": [
    "career_span = pd.read_csv('career_span.csv')"
   ]
  },
  {
   "cell_type": "code",
   "execution_count": 5,
   "id": "d5111ace-4fd3-46b7-b0dd-67003d4d81c9",
   "metadata": {
    "tags": []
   },
   "outputs": [
    {
     "data": {
      "text/html": [
       "<div>\n",
       "<style scoped>\n",
       "    .dataframe tbody tr th:only-of-type {\n",
       "        vertical-align: middle;\n",
       "    }\n",
       "\n",
       "    .dataframe tbody tr th {\n",
       "        vertical-align: top;\n",
       "    }\n",
       "\n",
       "    .dataframe thead th {\n",
       "        text-align: right;\n",
       "    }\n",
       "</style>\n",
       "<table border=\"1\" class=\"dataframe\">\n",
       "  <thead>\n",
       "    <tr style=\"text-align: right;\">\n",
       "      <th></th>\n",
       "      <th>author_id</th>\n",
       "      <th>first_pub_year</th>\n",
       "      <th>last_pub_year</th>\n",
       "      <th>career_len</th>\n",
       "    </tr>\n",
       "  </thead>\n",
       "  <tbody>\n",
       "    <tr>\n",
       "      <th>0</th>\n",
       "      <td>A100226099</td>\n",
       "      <td>2006</td>\n",
       "      <td>2008</td>\n",
       "      <td>2</td>\n",
       "    </tr>\n",
       "    <tr>\n",
       "      <th>1</th>\n",
       "      <td>A1003258884</td>\n",
       "      <td>1966</td>\n",
       "      <td>2020</td>\n",
       "      <td>54</td>\n",
       "    </tr>\n",
       "    <tr>\n",
       "      <th>2</th>\n",
       "      <td>A100862830</td>\n",
       "      <td>1999</td>\n",
       "      <td>2014</td>\n",
       "      <td>15</td>\n",
       "    </tr>\n",
       "    <tr>\n",
       "      <th>3</th>\n",
       "      <td>A1037639800</td>\n",
       "      <td>2000</td>\n",
       "      <td>2000</td>\n",
       "      <td>0</td>\n",
       "    </tr>\n",
       "    <tr>\n",
       "      <th>4</th>\n",
       "      <td>A1039789927</td>\n",
       "      <td>2011</td>\n",
       "      <td>2021</td>\n",
       "      <td>10</td>\n",
       "    </tr>\n",
       "  </tbody>\n",
       "</table>\n",
       "</div>"
      ],
      "text/plain": [
       "     author_id  first_pub_year  last_pub_year  career_len\n",
       "0   A100226099            2006           2008           2\n",
       "1  A1003258884            1966           2020          54\n",
       "2   A100862830            1999           2014          15\n",
       "3  A1037639800            2000           2000           0\n",
       "4  A1039789927            2011           2021          10"
      ]
     },
     "execution_count": 5,
     "metadata": {},
     "output_type": "execute_result"
    }
   ],
   "source": [
    "career_span.head(5)"
   ]
  },
  {
   "cell_type": "code",
   "execution_count": 6,
   "id": "e7f5a564-5e7c-4430-b7ea-b612505cfd7c",
   "metadata": {
    "tags": []
   },
   "outputs": [
    {
     "data": {
      "text/plain": [
       "(2851411, 4)"
      ]
     },
     "execution_count": 6,
     "metadata": {},
     "output_type": "execute_result"
    }
   ],
   "source": [
    "career_span.shape"
   ]
  },
  {
   "cell_type": "code",
   "execution_count": 44,
   "id": "c7e06b8c-efa6-47b2-a6fd-5f4f6e2990d1",
   "metadata": {
    "tags": []
   },
   "outputs": [],
   "source": [
    "yearly_authors = dict(Counter(career_span.first_pub_year))\n",
    "yearly_authors = sorted(yearly_authors.items(),key=lambda kv:kv[0])"
   ]
  },
  {
   "cell_type": "code",
   "execution_count": 110,
   "id": "41c6f2cd-f726-4866-8c44-7e72ac818190",
   "metadata": {
    "tags": []
   },
   "outputs": [
    {
     "name": "stdout",
     "output_type": "stream",
     "text": [
      "0.8115558830541167\n"
     ]
    },
    {
     "data": {
      "image/png": "[encoded data removed]",
      "text/plain": [
       "<Figure size 500x309 with 1 Axes>"
      ]
     },
     "metadata": {},
     "output_type": "display_data"
    }
   ],
   "source": [
    "year_i = 2001\n",
    "authors_i = career_span[career_span.first_pub_year==year_i]\n",
    "RDT = []\n",
    "for t in range(0,20):\n",
    "    relative_dropout_rate = len(authors_i[authors_i.career_len==t])/len(authors_i[authors_i.career_len>=t])\n",
    "    RDT.append((t,relative_dropout_rate))\n",
    "\n",
    "fig, ax = plt.subplots(1,1,constrained_layout=True,figsize=[1*5,0.618*5])\n",
    "sns.set(style='ticks',font_scale=1.2, font='Arial')\n",
    "x = [k[0] for k in RDT]\n",
    "y = [k[1] for k in RDT]\n",
    "ax.plot(x,y,marker='o')\n",
    "\n",
    "t = 5\n",
    "print(len(authors_i[authors_i.career_len>t])/len(authors_i[authors_i.career_len>=1]))"
   ]
  },
  {
   "cell_type": "code",
   "execution_count": 72,
   "id": "c41eb439-51c6-4768-9dd5-7e423480b2d0",
   "metadata": {
    "tags": []
   },
   "outputs": [
    {
     "data": {
      "text/plain": [
       "[(0, 0.28421240426643557),\n",
       " (1, 0.05043617589460566),\n",
       " (2, 0.04985282261844498),\n",
       " (3, 0.04664746043648131),\n",
       " (4, 0.044024506354265844),\n",
       " (5, 0.043388832355424685),\n",
       " (6, 0.04073965099698979),\n",
       " (7, 0.04077106386994785),\n",
       " (8, 0.04169228877136884),\n",
       " (9, 0.03878336755646817),\n",
       " (10, 0.04956073593420385),\n",
       " (11, 0.04658219312786222),\n",
       " (12, 0.05292470900250479),\n",
       " (13, 0.05722019975730421),\n",
       " (14, 0.07366336633663366),\n",
       " (15, 0.12711985178851362),\n",
       " (16, 0.5341632653061225),\n",
       " (17, 0.999474283711557),\n",
       " (18, 0.6666666666666666),\n",
       " (19, 1.0)]"
      ]
     },
     "execution_count": 72,
     "metadata": {},
     "output_type": "execute_result"
    }
   ],
   "source": [
    "RDT"
   ]
  },
  {
   "cell_type": "code",
   "execution_count": null,
   "id": "e6b0745e-4bde-460d-b65a-344db26a9325",
   "metadata": {},
   "outputs": [],
   "source": []
  }
 ],
 "metadata": {
  "kernelspec": {
   "display_name": "myenv",
   "language": "python",
   "name": "myenv"
  },
  "language_info": {
   "codemirror_mode": {
    "name": "ipython",
    "version": 3
   },
   "file_extension": ".py",
   "mimetype": "text/x-python",
   "name": "python",
   "nbconvert_exporter": "python",
   "pygments_lexer": "ipython3",
   "version": "3.11.3"
  }
 },
 "nbformat": 4,
 "nbformat_minor": 5
}
