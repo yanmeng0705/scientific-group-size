{
 "cells": [
  {
   "cell_type": "code",
   "execution_count": 1,
   "id": "cd1c1163",
   "metadata": {
    "tags": []
   },
   "outputs": [],
   "source": [
    "import pandas as pd"
   ]
  },
  {
   "cell_type": "markdown",
   "id": "37cb40d1",
   "metadata": {},
   "source": [
    "##### researcher"
   ]
  },
  {
   "cell_type": "code",
   "execution_count": 2,
   "id": "5806d825",
   "metadata": {
    "tags": []
   },
   "outputs": [],
   "source": [
    "PeoInfo = pd.read_csv('researcher.csv')"
   ]
  },
  {
   "cell_type": "code",
   "execution_count": 3,
   "id": "88f5625c",
   "metadata": {
    "tags": []
   },
   "outputs": [
    {
     "data": {
      "text/html": [
       "<div>\n",
       "<style scoped>\n",
       "    .dataframe tbody tr th:only-of-type {\n",
       "        vertical-align: middle;\n",
       "    }\n",
       "\n",
       "    .dataframe tbody tr th {\n",
       "        vertical-align: top;\n",
       "    }\n",
       "\n",
       "    .dataframe thead th {\n",
       "        text-align: right;\n",
       "    }\n",
       "</style>\n",
       "<table border=\"1\" class=\"dataframe\">\n",
       "  <thead>\n",
       "    <tr style=\"text-align: right;\">\n",
       "      <th></th>\n",
       "      <th>PID</th>\n",
       "      <th>FirstName</th>\n",
       "      <th>MiddleName</th>\n",
       "      <th>LastName</th>\n",
       "      <th>Institution</th>\n",
       "      <th>InstitutionMAGID</th>\n",
       "      <th>ResearchArea</th>\n",
       "      <th>ORCID</th>\n",
       "      <th>MAGAuthorID</th>\n",
       "    </tr>\n",
       "  </thead>\n",
       "  <tbody>\n",
       "    <tr>\n",
       "      <th>0</th>\n",
       "      <td>1</td>\n",
       "      <td>STEPHEN</td>\n",
       "      <td>V</td>\n",
       "      <td>DAVID</td>\n",
       "      <td>Oregon Health and Science University</td>\n",
       "      <td>165690674.0</td>\n",
       "      <td>neuro,csd,bme</td>\n",
       "      <td>0000-0003-4135-3104</td>\n",
       "      <td>2.171828e+09</td>\n",
       "    </tr>\n",
       "    <tr>\n",
       "      <th>1</th>\n",
       "      <td>2</td>\n",
       "      <td>BENJAMIN</td>\n",
       "      <td>Y</td>\n",
       "      <td>HAYDEN</td>\n",
       "      <td>University of Minnesota, Twin Cities</td>\n",
       "      <td>130238516.0</td>\n",
       "      <td>neuro</td>\n",
       "      <td>0000-0002-7678-4281</td>\n",
       "      <td>2.082173e+09</td>\n",
       "    </tr>\n",
       "    <tr>\n",
       "      <th>2</th>\n",
       "      <td>3</td>\n",
       "      <td>JACK</td>\n",
       "      <td>L</td>\n",
       "      <td>GALLANT</td>\n",
       "      <td>University of California, Berkeley</td>\n",
       "      <td>95457486.0</td>\n",
       "      <td>neuro,psych</td>\n",
       "      <td>NaN</td>\n",
       "      <td>2.110166e+09</td>\n",
       "    </tr>\n",
       "    <tr>\n",
       "      <th>3</th>\n",
       "      <td>4</td>\n",
       "      <td>BENJAMIN</td>\n",
       "      <td>NaN</td>\n",
       "      <td>WILLMORE</td>\n",
       "      <td>University of Oxford</td>\n",
       "      <td>40120149.0</td>\n",
       "      <td>neuro</td>\n",
       "      <td>NaN</td>\n",
       "      <td>2.183264e+09</td>\n",
       "    </tr>\n",
       "    <tr>\n",
       "      <th>4</th>\n",
       "      <td>5</td>\n",
       "      <td>KENDRICK</td>\n",
       "      <td>NORRIS</td>\n",
       "      <td>KAY</td>\n",
       "      <td>University of Minnesota, Twin Cities</td>\n",
       "      <td>130238516.0</td>\n",
       "      <td>neuro</td>\n",
       "      <td>NaN</td>\n",
       "      <td>2.156587e+09</td>\n",
       "    </tr>\n",
       "  </tbody>\n",
       "</table>\n",
       "</div>"
      ],
      "text/plain": [
       "   PID FirstName MiddleName  LastName                           Institution  \\\n",
       "0    1   STEPHEN          V     DAVID  Oregon Health and Science University   \n",
       "1    2  BENJAMIN          Y    HAYDEN  University of Minnesota, Twin Cities   \n",
       "2    3      JACK          L   GALLANT    University of California, Berkeley   \n",
       "3    4  BENJAMIN        NaN  WILLMORE                  University of Oxford   \n",
       "4    5  KENDRICK     NORRIS       KAY  University of Minnesota, Twin Cities   \n",
       "\n",
       "   InstitutionMAGID   ResearchArea                ORCID   MAGAuthorID  \n",
       "0       165690674.0  neuro,csd,bme  0000-0003-4135-3104  2.171828e+09  \n",
       "1       130238516.0          neuro  0000-0002-7678-4281  2.082173e+09  \n",
       "2        95457486.0    neuro,psych                  NaN  2.110166e+09  \n",
       "3        40120149.0          neuro                  NaN  2.183264e+09  \n",
       "4       130238516.0          neuro                  NaN  2.156587e+09  "
      ]
     },
     "execution_count": 3,
     "metadata": {},
     "output_type": "execute_result"
    }
   ],
   "source": [
    "PeoInfo.head(5)"
   ]
  },
  {
   "cell_type": "code",
   "execution_count": 4,
   "id": "c6d09f40-44c2-4cb8-9c73-1bd0e2c6e274",
   "metadata": {
    "tags": []
   },
   "outputs": [],
   "source": [
    "PeoInfo = PeoInfo[['PID','MAGAuthorID']][~PeoInfo.MAGAuthorID.isnull()]"
   ]
  },
  {
   "cell_type": "code",
   "execution_count": 5,
   "id": "47fceebe",
   "metadata": {
    "tags": []
   },
   "outputs": [],
   "source": [
    "magId = [int(k) for k in list(PeoInfo.MAGAuthorID)]"
   ]
  },
  {
   "cell_type": "code",
   "execution_count": 6,
   "id": "c29d968f-9a78-4c9e-9c79-9a2e99d7bc12",
   "metadata": {
    "tags": []
   },
   "outputs": [],
   "source": [
    "from sqlalchemy import create_engine\n",
    "engine = create_engine(\"mysql+pymysql://{user}:{pw}@{host}:{port}/{db}?charset=utf8mb4\"\n",
    "                       .format(user=\"openalex_ym\",\n",
    "                               pw=\"openalex.ym\",\n",
    "                               host=\"172.18.18.167\",\n",
    "                               port=3306,\n",
    "                               db=\"openalex2022\"),\n",
    "                       )"
   ]
  },
  {
   "cell_type": "code",
   "execution_count": 7,
   "id": "d344e0d4-b2e5-4305-82cb-2f8523fca9b1",
   "metadata": {
    "tags": []
   },
   "outputs": [],
   "source": [
    "magId_groups = []\n",
    "interval = 5000\n",
    "start_point = 0\n",
    "while True:\n",
    "    end_point = start_point + interval\n",
    "    try:\n",
    "        temp = magId[start_point:end_point]\n",
    "        magId_groups.append(temp)\n",
    "    except:\n",
    "        temp = magId[start_point:]\n",
    "        magId_groups.append(temp)\n",
    "        \n",
    "    start_point = end_point\n",
    "    if end_point>len(magId):\n",
    "        break"
   ]
  },
  {
   "cell_type": "code",
   "execution_count": 8,
   "id": "52a924e2-3a3c-4871-85c0-000d0b348e3a",
   "metadata": {
    "tags": []
   },
   "outputs": [
    {
     "name": "stdout",
     "output_type": "stream",
     "text": [
      "99\n"
     ]
    }
   ],
   "source": [
    "print(len(magId_groups))"
   ]
  },
  {
   "cell_type": "code",
   "execution_count": 9,
   "id": "2d71d58c-4358-47fd-bf77-378e1709b29e",
   "metadata": {
    "tags": []
   },
   "outputs": [],
   "source": [
    "l = len(magId_groups)\n",
    "for i in range(l):\n",
    "    temp =  magId_groups[i]\n",
    "    sql_query = \"\"\"select authors_ids.author_id, authors_ids.mag \n",
    "\n",
    "                    from authors_ids \n",
    "\n",
    "                    where authors_ids.mag in {}\n",
    "                    \"\"\".format(tuple(temp))\n",
    "\n",
    "\n",
    "    data = pd.read_sql(sql_query, con=engine)\n",
    "    # merge data\n",
    "    if i==0:\n",
    "        tp = data\n",
    "    else:\n",
    "        tp = pd.concat((tp,data))\n",
    "\n",
    "data = tp"
   ]
  },
  {
   "cell_type": "code",
   "execution_count": 10,
   "id": "f1437b55-75e4-4841-b9a6-81327b69d7ff",
   "metadata": {
    "tags": []
   },
   "outputs": [],
   "source": [
    "data = data.rename(columns={'mag':'MAGAuthorID'})"
   ]
  },
  {
   "cell_type": "code",
   "execution_count": 11,
   "id": "515e30b4-2d4a-4ee6-bf2a-6732548c6c47",
   "metadata": {
    "tags": []
   },
   "outputs": [
    {
     "data": {
      "text/html": [
       "<div>\n",
       "<style scoped>\n",
       "    .dataframe tbody tr th:only-of-type {\n",
       "        vertical-align: middle;\n",
       "    }\n",
       "\n",
       "    .dataframe tbody tr th {\n",
       "        vertical-align: top;\n",
       "    }\n",
       "\n",
       "    .dataframe thead th {\n",
       "        text-align: right;\n",
       "    }\n",
       "</style>\n",
       "<table border=\"1\" class=\"dataframe\">\n",
       "  <thead>\n",
       "    <tr style=\"text-align: right;\">\n",
       "      <th></th>\n",
       "      <th>author_id</th>\n",
       "      <th>MAGAuthorID</th>\n",
       "    </tr>\n",
       "  </thead>\n",
       "  <tbody>\n",
       "    <tr>\n",
       "      <th>0</th>\n",
       "      <td>A367921</td>\n",
       "      <td>367921</td>\n",
       "    </tr>\n",
       "    <tr>\n",
       "      <th>1</th>\n",
       "      <td>A2214144</td>\n",
       "      <td>2214144</td>\n",
       "    </tr>\n",
       "    <tr>\n",
       "      <th>2</th>\n",
       "      <td>A2626456</td>\n",
       "      <td>2626456</td>\n",
       "    </tr>\n",
       "    <tr>\n",
       "      <th>3</th>\n",
       "      <td>A3881444</td>\n",
       "      <td>3881444</td>\n",
       "    </tr>\n",
       "    <tr>\n",
       "      <th>4</th>\n",
       "      <td>A3966264</td>\n",
       "      <td>3966264</td>\n",
       "    </tr>\n",
       "    <tr>\n",
       "      <th>...</th>\n",
       "      <td>...</td>\n",
       "      <td>...</td>\n",
       "    </tr>\n",
       "    <tr>\n",
       "      <th>4199</th>\n",
       "      <td>A3085024380</td>\n",
       "      <td>3085024380</td>\n",
       "    </tr>\n",
       "    <tr>\n",
       "      <th>4200</th>\n",
       "      <td>A3086004369</td>\n",
       "      <td>3086004369</td>\n",
       "    </tr>\n",
       "    <tr>\n",
       "      <th>4201</th>\n",
       "      <td>A3087060357</td>\n",
       "      <td>3087060357</td>\n",
       "    </tr>\n",
       "    <tr>\n",
       "      <th>4202</th>\n",
       "      <td>A3087666585</td>\n",
       "      <td>3087666585</td>\n",
       "    </tr>\n",
       "    <tr>\n",
       "      <th>4203</th>\n",
       "      <td>A3087736993</td>\n",
       "      <td>3087736993</td>\n",
       "    </tr>\n",
       "  </tbody>\n",
       "</table>\n",
       "<p>474611 rows × 2 columns</p>\n",
       "</div>"
      ],
      "text/plain": [
       "        author_id  MAGAuthorID\n",
       "0         A367921       367921\n",
       "1        A2214144      2214144\n",
       "2        A2626456      2626456\n",
       "3        A3881444      3881444\n",
       "4        A3966264      3966264\n",
       "...           ...          ...\n",
       "4199  A3085024380   3085024380\n",
       "4200  A3086004369   3086004369\n",
       "4201  A3087060357   3087060357\n",
       "4202  A3087666585   3087666585\n",
       "4203  A3087736993   3087736993\n",
       "\n",
       "[474611 rows x 2 columns]"
      ]
     },
     "execution_count": 11,
     "metadata": {},
     "output_type": "execute_result"
    }
   ],
   "source": [
    "data"
   ]
  },
  {
   "cell_type": "code",
   "execution_count": 12,
   "id": "742a2e68-a32d-40c9-9f9b-3f0d260dfffe",
   "metadata": {
    "tags": []
   },
   "outputs": [],
   "source": [
    "PeoInfo = PeoInfo.merge(data,on='MAGAuthorID',how='left')"
   ]
  },
  {
   "cell_type": "code",
   "execution_count": 13,
   "id": "dae01f99-e297-4f86-a1a9-d84b392893e8",
   "metadata": {
    "tags": []
   },
   "outputs": [
    {
     "data": {
      "text/html": [
       "<div>\n",
       "<style scoped>\n",
       "    .dataframe tbody tr th:only-of-type {\n",
       "        vertical-align: middle;\n",
       "    }\n",
       "\n",
       "    .dataframe tbody tr th {\n",
       "        vertical-align: top;\n",
       "    }\n",
       "\n",
       "    .dataframe thead th {\n",
       "        text-align: right;\n",
       "    }\n",
       "</style>\n",
       "<table border=\"1\" class=\"dataframe\">\n",
       "  <thead>\n",
       "    <tr style=\"text-align: right;\">\n",
       "      <th></th>\n",
       "      <th>PID</th>\n",
       "      <th>MAGAuthorID</th>\n",
       "      <th>author_id</th>\n",
       "    </tr>\n",
       "  </thead>\n",
       "  <tbody>\n",
       "    <tr>\n",
       "      <th>0</th>\n",
       "      <td>1</td>\n",
       "      <td>2.171828e+09</td>\n",
       "      <td>A2171827615</td>\n",
       "    </tr>\n",
       "    <tr>\n",
       "      <th>1</th>\n",
       "      <td>2</td>\n",
       "      <td>2.082173e+09</td>\n",
       "      <td>A2082172561</td>\n",
       "    </tr>\n",
       "    <tr>\n",
       "      <th>2</th>\n",
       "      <td>3</td>\n",
       "      <td>2.110166e+09</td>\n",
       "      <td>A2110165986</td>\n",
       "    </tr>\n",
       "    <tr>\n",
       "      <th>3</th>\n",
       "      <td>4</td>\n",
       "      <td>2.183264e+09</td>\n",
       "      <td>A2183263527</td>\n",
       "    </tr>\n",
       "    <tr>\n",
       "      <th>4</th>\n",
       "      <td>5</td>\n",
       "      <td>2.156587e+09</td>\n",
       "      <td>A2156586888</td>\n",
       "    </tr>\n",
       "  </tbody>\n",
       "</table>\n",
       "</div>"
      ],
      "text/plain": [
       "   PID   MAGAuthorID    author_id\n",
       "0    1  2.171828e+09  A2171827615\n",
       "1    2  2.082173e+09  A2082172561\n",
       "2    3  2.110166e+09  A2110165986\n",
       "3    4  2.183264e+09  A2183263527\n",
       "4    5  2.156587e+09  A2156586888"
      ]
     },
     "execution_count": 13,
     "metadata": {},
     "output_type": "execute_result"
    }
   ],
   "source": [
    "PeoInfo.head(5)"
   ]
  },
  {
   "cell_type": "code",
   "execution_count": 14,
   "id": "0f4f1bdc-f105-4e5e-895b-4098abcec1b9",
   "metadata": {
    "tags": []
   },
   "outputs": [],
   "source": [
    "PeoInfo.to_csv('pid_mag_openalex.csv',index=0)"
   ]
  },
  {
   "cell_type": "code",
   "execution_count": null,
   "id": "45cb8a7b-3734-49a6-bae8-02ba4e4d983d",
   "metadata": {},
   "outputs": [],
   "source": []
  }
 ],
 "metadata": {
  "kernelspec": {
   "display_name": "myenv",
   "language": "python",
   "name": "myenv"
  },
  "language_info": {
   "codemirror_mode": {
    "name": "ipython",
    "version": 3
   },
   "file_extension": ".py",
   "mimetype": "text/x-python",
   "name": "python",
   "nbconvert_exporter": "python",
   "pygments_lexer": "ipython3",
   "version": "3.11.4"
  }
 },
 "nbformat": 4,
 "nbformat_minor": 5
}
