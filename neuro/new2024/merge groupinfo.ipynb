{
 "cells": [
  {
   "cell_type": "code",
   "execution_count": 1,
   "id": "c548bdc1-36d7-494a-adfe-8963b2cd9906",
   "metadata": {
    "tags": []
   },
   "outputs": [],
   "source": [
    "import pandas as pd\n",
    "import os"
   ]
  },
  {
   "cell_type": "markdown",
   "id": "adc5e38d-011f-4e23-90ff-c710c6eaf464",
   "metadata": {},
   "source": [
    "### G1 Info"
   ]
  },
  {
   "cell_type": "code",
   "execution_count": 2,
   "id": "5c91dd0f-fefb-475a-b076-362dcb1fae01",
   "metadata": {
    "tags": []
   },
   "outputs": [],
   "source": [
    "files = os.listdir('groupsize')"
   ]
  },
  {
   "cell_type": "code",
   "execution_count": 3,
   "id": "da68f4e4-f2e6-455e-8f23-87dc62c98a47",
   "metadata": {
    "tags": []
   },
   "outputs": [
    {
     "data": {
      "text/plain": [
       "['author_28000_29011.csv',\n",
       " 'author_10000_12000.csv',\n",
       " 'author_6000_8000.csv',\n",
       " 'author_26000_28000.csv',\n",
       " 'author_8000_10000.csv',\n",
       " '.DS_Store',\n",
       " 'author_20000_22000.csv',\n",
       " 'author_16000_18000.csv',\n",
       " 'author_2000_4000.csv',\n",
       " 'author_14000_16000.csv',\n",
       " 'author_12000_14000.csv',\n",
       " 'author_24000_26000.csv',\n",
       " 'author_22000_24000.csv',\n",
       " 'author_0_2000.csv',\n",
       " 'author_4000_6000.csv',\n",
       " 'author_18000_20000.csv']"
      ]
     },
     "execution_count": 3,
     "metadata": {},
     "output_type": "execute_result"
    }
   ],
   "source": [
    "files"
   ]
  },
  {
   "cell_type": "code",
   "execution_count": 4,
   "id": "92d5af61-a58d-4eb7-8bc8-e45e776397b0",
   "metadata": {
    "tags": []
   },
   "outputs": [
    {
     "name": "stdout",
     "output_type": "stream",
     "text": [
      "(171309, 14)\n",
      "(359438, 14)\n",
      "(514325, 14)\n",
      "(548761, 14)\n",
      "(473662, 14)\n",
      "(391396, 14)\n",
      "(224453, 14)\n",
      "(552585, 14)\n",
      "(268682, 14)\n",
      "(404899, 14)\n",
      "(361379, 14)\n",
      "(448591, 14)\n",
      "(558010, 14)\n",
      "(445556, 14)\n",
      "(179733, 14)\n"
     ]
    }
   ],
   "source": [
    "Data = pd.DataFrame([])\n",
    "for file in files:\n",
    "    if file.endswith('csv'):\n",
    "        data = pd.read_csv(f'groupsize/{file}')\n",
    "        print(data.shape)\n",
    "        Data = pd.concat((Data,data))"
   ]
  },
  {
   "cell_type": "code",
   "execution_count": 5,
   "id": "0710cc8d-1dfa-4988-84d6-33dfaf1e9040",
   "metadata": {
    "tags": []
   },
   "outputs": [
    {
     "data": {
      "text/html": [
       "<div>\n",
       "<style scoped>\n",
       "    .dataframe tbody tr th:only-of-type {\n",
       "        vertical-align: middle;\n",
       "    }\n",
       "\n",
       "    .dataframe tbody tr th {\n",
       "        vertical-align: top;\n",
       "    }\n",
       "\n",
       "    .dataframe thead th {\n",
       "        text-align: right;\n",
       "    }\n",
       "</style>\n",
       "<table border=\"1\" class=\"dataframe\">\n",
       "  <thead>\n",
       "    <tr style=\"text-align: right;\">\n",
       "      <th></th>\n",
       "      <th>work_id</th>\n",
       "      <th>author_position</th>\n",
       "      <th>author_id</th>\n",
       "      <th>institution_id</th>\n",
       "      <th>publication_year</th>\n",
       "      <th>first_pub_year</th>\n",
       "      <th>scientific_age</th>\n",
       "      <th>group_size</th>\n",
       "      <th>mentor_id</th>\n",
       "      <th>current_year</th>\n",
       "      <th>ratio_institution</th>\n",
       "      <th>current_scientific_age</th>\n",
       "      <th>last_pub_year</th>\n",
       "      <th>career_len</th>\n",
       "    </tr>\n",
       "  </thead>\n",
       "  <tbody>\n",
       "    <tr>\n",
       "      <th>0</th>\n",
       "      <td>W1982782877</td>\n",
       "      <td>first</td>\n",
       "      <td>A1135552249</td>\n",
       "      <td>I201448701</td>\n",
       "      <td>2006</td>\n",
       "      <td>2005</td>\n",
       "      <td>1</td>\n",
       "      <td>1</td>\n",
       "      <td>A2210051518</td>\n",
       "      <td>2006</td>\n",
       "      <td>1.0</td>\n",
       "      <td>1</td>\n",
       "      <td>2009.0</td>\n",
       "      <td>4.0</td>\n",
       "    </tr>\n",
       "    <tr>\n",
       "      <th>1</th>\n",
       "      <td>W1982782877</td>\n",
       "      <td>first</td>\n",
       "      <td>A1135552249</td>\n",
       "      <td>I201448701</td>\n",
       "      <td>2006</td>\n",
       "      <td>2005</td>\n",
       "      <td>1</td>\n",
       "      <td>2</td>\n",
       "      <td>A2210051518</td>\n",
       "      <td>2007</td>\n",
       "      <td>1.0</td>\n",
       "      <td>2</td>\n",
       "      <td>2009.0</td>\n",
       "      <td>4.0</td>\n",
       "    </tr>\n",
       "    <tr>\n",
       "      <th>2</th>\n",
       "      <td>W1737143051</td>\n",
       "      <td>first</td>\n",
       "      <td>A1975593598</td>\n",
       "      <td>I201448701</td>\n",
       "      <td>2007</td>\n",
       "      <td>1998</td>\n",
       "      <td>9</td>\n",
       "      <td>2</td>\n",
       "      <td>A2210051518</td>\n",
       "      <td>2007</td>\n",
       "      <td>1.0</td>\n",
       "      <td>9</td>\n",
       "      <td>2014.0</td>\n",
       "      <td>16.0</td>\n",
       "    </tr>\n",
       "    <tr>\n",
       "      <th>3</th>\n",
       "      <td>W1982782877</td>\n",
       "      <td>first</td>\n",
       "      <td>A1135552249</td>\n",
       "      <td>I201448701</td>\n",
       "      <td>2006</td>\n",
       "      <td>2005</td>\n",
       "      <td>1</td>\n",
       "      <td>12</td>\n",
       "      <td>A2210051518</td>\n",
       "      <td>2008</td>\n",
       "      <td>1.0</td>\n",
       "      <td>3</td>\n",
       "      <td>2009.0</td>\n",
       "      <td>4.0</td>\n",
       "    </tr>\n",
       "    <tr>\n",
       "      <th>4</th>\n",
       "      <td>W1737143051</td>\n",
       "      <td>first</td>\n",
       "      <td>A1975593598</td>\n",
       "      <td>I201448701</td>\n",
       "      <td>2007</td>\n",
       "      <td>1998</td>\n",
       "      <td>9</td>\n",
       "      <td>12</td>\n",
       "      <td>A2210051518</td>\n",
       "      <td>2008</td>\n",
       "      <td>1.0</td>\n",
       "      <td>10</td>\n",
       "      <td>2014.0</td>\n",
       "      <td>16.0</td>\n",
       "    </tr>\n",
       "  </tbody>\n",
       "</table>\n",
       "</div>"
      ],
      "text/plain": [
       "       work_id author_position    author_id institution_id  publication_year  \\\n",
       "0  W1982782877           first  A1135552249     I201448701              2006   \n",
       "1  W1982782877           first  A1135552249     I201448701              2006   \n",
       "2  W1737143051           first  A1975593598     I201448701              2007   \n",
       "3  W1982782877           first  A1135552249     I201448701              2006   \n",
       "4  W1737143051           first  A1975593598     I201448701              2007   \n",
       "\n",
       "   first_pub_year  scientific_age  group_size    mentor_id  current_year  \\\n",
       "0            2005               1           1  A2210051518          2006   \n",
       "1            2005               1           2  A2210051518          2007   \n",
       "2            1998               9           2  A2210051518          2007   \n",
       "3            2005               1          12  A2210051518          2008   \n",
       "4            1998               9          12  A2210051518          2008   \n",
       "\n",
       "   ratio_institution  current_scientific_age  last_pub_year  career_len  \n",
       "0                1.0                       1         2009.0         4.0  \n",
       "1                1.0                       2         2009.0         4.0  \n",
       "2                1.0                       9         2014.0        16.0  \n",
       "3                1.0                       3         2009.0         4.0  \n",
       "4                1.0                      10         2014.0        16.0  "
      ]
     },
     "execution_count": 5,
     "metadata": {},
     "output_type": "execute_result"
    }
   ],
   "source": [
    "Data.head(5)"
   ]
  },
  {
   "cell_type": "code",
   "execution_count": 6,
   "id": "05eceef6-7000-4c4a-bc3f-3cb6c7211644",
   "metadata": {
    "tags": []
   },
   "outputs": [],
   "source": [
    "Data.to_csv('group_info_OnlyLastAuthorPaper(3_years_window).csv',index=0)"
   ]
  },
  {
   "cell_type": "code",
   "execution_count": null,
   "id": "062b27ed-ee25-4099-a7b3-daf6466e7e0c",
   "metadata": {},
   "outputs": [],
   "source": []
  },
  {
   "cell_type": "markdown",
   "id": "5944eff6-6754-4afa-b356-92f81b044f58",
   "metadata": {},
   "source": [
    "### G2 Info"
   ]
  },
  {
   "cell_type": "code",
   "execution_count": 2,
   "id": "890ec2e4-8995-443b-956e-5f32f2574f26",
   "metadata": {
    "tags": []
   },
   "outputs": [],
   "source": [
    "files = os.listdir('groupsize_G2')"
   ]
  },
  {
   "cell_type": "code",
   "execution_count": 3,
   "id": "b994ef77-ff81-468b-93dc-b2e2c3ec3e6e",
   "metadata": {
    "tags": []
   },
   "outputs": [
    {
     "data": {
      "text/plain": [
       "['author_90000_100000.csv',\n",
       " 'author_40000_50000.csv',\n",
       " 'author_0_10000.csv',\n",
       " 'author_30000_40000.csv',\n",
       " 'author_80000_90000.csv',\n",
       " 'author_10000_20000.csv',\n",
       " 'author_20000_30000.csv',\n",
       " 'author_100000_110000.csv',\n",
       " 'author_110000_121578.csv',\n",
       " 'author_50000_60000.csv',\n",
       " 'author_60000_70000.csv',\n",
       " '.ipynb_checkpoints',\n",
       " 'author_70000_80000.csv']"
      ]
     },
     "execution_count": 3,
     "metadata": {},
     "output_type": "execute_result"
    }
   ],
   "source": [
    "files"
   ]
  },
  {
   "cell_type": "code",
   "execution_count": 4,
   "id": "7890c583-76e9-408f-ac77-faa589f31cad",
   "metadata": {
    "tags": []
   },
   "outputs": [
    {
     "name": "stdout",
     "output_type": "stream",
     "text": [
      "(69408, 12)\n",
      "(65971, 12)\n",
      "(73503, 12)\n",
      "(62782, 12)\n",
      "(58140, 12)\n",
      "(72538, 12)\n",
      "(74726, 12)\n",
      "(56900, 12)\n",
      "(67728, 12)\n",
      "(67180, 12)\n",
      "(66879, 12)\n",
      "(59184, 12)\n"
     ]
    }
   ],
   "source": [
    "Data = pd.DataFrame([])\n",
    "for file in files:\n",
    "    if file.endswith('csv'):\n",
    "        data = pd.read_csv(f'groupsize_G2/{file}')\n",
    "        print(data.shape)\n",
    "        Data = pd.concat((Data,data))"
   ]
  },
  {
   "cell_type": "code",
   "execution_count": 5,
   "id": "0745a018-3544-4e9b-b00a-761d7ca3a36c",
   "metadata": {
    "tags": []
   },
   "outputs": [
    {
     "data": {
      "text/plain": [
       "(794939, 12)"
      ]
     },
     "execution_count": 5,
     "metadata": {},
     "output_type": "execute_result"
    }
   ],
   "source": [
    "Data.shape"
   ]
  },
  {
   "cell_type": "code",
   "execution_count": 8,
   "id": "0aedda06-2fa5-448a-b4e2-51bae1557df2",
   "metadata": {
    "tags": []
   },
   "outputs": [
    {
     "data": {
      "text/html": [
       "<div>\n",
       "<style scoped>\n",
       "    .dataframe tbody tr th:only-of-type {\n",
       "        vertical-align: middle;\n",
       "    }\n",
       "\n",
       "    .dataframe tbody tr th {\n",
       "        vertical-align: top;\n",
       "    }\n",
       "\n",
       "    .dataframe thead th {\n",
       "        text-align: right;\n",
       "    }\n",
       "</style>\n",
       "<table border=\"1\" class=\"dataframe\">\n",
       "  <thead>\n",
       "    <tr style=\"text-align: right;\">\n",
       "      <th></th>\n",
       "      <th>work_id</th>\n",
       "      <th>author_position</th>\n",
       "      <th>author_id</th>\n",
       "      <th>institution_id</th>\n",
       "      <th>publication_year</th>\n",
       "      <th>first_pub_year</th>\n",
       "      <th>scientific_age</th>\n",
       "      <th>group_size</th>\n",
       "      <th>mentor_id</th>\n",
       "      <th>current_year</th>\n",
       "      <th>ratio_institution</th>\n",
       "      <th>current_scientific_age</th>\n",
       "    </tr>\n",
       "  </thead>\n",
       "  <tbody>\n",
       "    <tr>\n",
       "      <th>44131</th>\n",
       "      <td>W2765904352</td>\n",
       "      <td>middle</td>\n",
       "      <td>A2690978501</td>\n",
       "      <td>I219193219</td>\n",
       "      <td>2017</td>\n",
       "      <td>2017</td>\n",
       "      <td>0</td>\n",
       "      <td>7</td>\n",
       "      <td>A2095760383</td>\n",
       "      <td>2017</td>\n",
       "      <td>0.388235</td>\n",
       "      <td>0</td>\n",
       "    </tr>\n",
       "    <tr>\n",
       "      <th>53772</th>\n",
       "      <td>W2604632116</td>\n",
       "      <td>middle</td>\n",
       "      <td>A2090502705</td>\n",
       "      <td>I130769515</td>\n",
       "      <td>2008</td>\n",
       "      <td>2007</td>\n",
       "      <td>1</td>\n",
       "      <td>15</td>\n",
       "      <td>A2468596650</td>\n",
       "      <td>2013</td>\n",
       "      <td>0.379464</td>\n",
       "      <td>6</td>\n",
       "    </tr>\n",
       "    <tr>\n",
       "      <th>53817</th>\n",
       "      <td>W2134345633</td>\n",
       "      <td>first</td>\n",
       "      <td>A202266911</td>\n",
       "      <td>I1282927834</td>\n",
       "      <td>2013</td>\n",
       "      <td>2012</td>\n",
       "      <td>1</td>\n",
       "      <td>7</td>\n",
       "      <td>A2715796631</td>\n",
       "      <td>2015</td>\n",
       "      <td>0.346457</td>\n",
       "      <td>3</td>\n",
       "    </tr>\n",
       "    <tr>\n",
       "      <th>26695</th>\n",
       "      <td>W2518696908</td>\n",
       "      <td>middle</td>\n",
       "      <td>A2951944522</td>\n",
       "      <td>I180585399</td>\n",
       "      <td>2004</td>\n",
       "      <td>1999</td>\n",
       "      <td>5</td>\n",
       "      <td>4</td>\n",
       "      <td>A2309164315</td>\n",
       "      <td>2006</td>\n",
       "      <td>0.100977</td>\n",
       "      <td>7</td>\n",
       "    </tr>\n",
       "    <tr>\n",
       "      <th>45484</th>\n",
       "      <td>W1974055183</td>\n",
       "      <td>middle</td>\n",
       "      <td>A2140340231</td>\n",
       "      <td>I1288214837</td>\n",
       "      <td>2010</td>\n",
       "      <td>2005</td>\n",
       "      <td>5</td>\n",
       "      <td>11</td>\n",
       "      <td>A2107228777</td>\n",
       "      <td>2014</td>\n",
       "      <td>0.522449</td>\n",
       "      <td>9</td>\n",
       "    </tr>\n",
       "  </tbody>\n",
       "</table>\n",
       "</div>"
      ],
      "text/plain": [
       "           work_id author_position    author_id institution_id  \\\n",
       "44131  W2765904352          middle  A2690978501     I219193219   \n",
       "53772  W2604632116          middle  A2090502705     I130769515   \n",
       "53817  W2134345633           first   A202266911    I1282927834   \n",
       "26695  W2518696908          middle  A2951944522     I180585399   \n",
       "45484  W1974055183          middle  A2140340231    I1288214837   \n",
       "\n",
       "       publication_year  first_pub_year  scientific_age  group_size  \\\n",
       "44131              2017            2017               0           7   \n",
       "53772              2008            2007               1          15   \n",
       "53817              2013            2012               1           7   \n",
       "26695              2004            1999               5           4   \n",
       "45484              2010            2005               5          11   \n",
       "\n",
       "         mentor_id  current_year  ratio_institution  current_scientific_age  \n",
       "44131  A2095760383          2017           0.388235                       0  \n",
       "53772  A2468596650          2013           0.379464                       6  \n",
       "53817  A2715796631          2015           0.346457                       3  \n",
       "26695  A2309164315          2006           0.100977                       7  \n",
       "45484  A2107228777          2014           0.522449                       9  "
      ]
     },
     "execution_count": 8,
     "metadata": {},
     "output_type": "execute_result"
    }
   ],
   "source": [
    "Data.sample(5)"
   ]
  },
  {
   "cell_type": "code",
   "execution_count": 7,
   "id": "492cf7d0-3346-4cf0-b1be-1821b609b448",
   "metadata": {
    "tags": []
   },
   "outputs": [],
   "source": [
    "Data.to_csv('G2_group_info_OnlyLastAuthorPaper(current_scientific_age).csv',index=0)"
   ]
  },
  {
   "cell_type": "code",
   "execution_count": 9,
   "id": "944e01e9-9173-4c3e-b8a2-ddf524902f31",
   "metadata": {},
   "outputs": [
    {
     "data": {
      "text/plain": [
       "19334"
      ]
     },
     "execution_count": 9,
     "metadata": {},
     "output_type": "execute_result"
    }
   ],
   "source": [
    "target_author = list(Data.mentor_id.drop_duplicates())\n",
    "len(target_author)"
   ]
  },
  {
   "cell_type": "code",
   "execution_count": 10,
   "id": "fac899b8-c349-4848-b4ce-3d692c3bffda",
   "metadata": {
    "tags": []
   },
   "outputs": [],
   "source": [
    "G1_mentee_work_career = pd.read_csv('G1_mentee_work_career.csv')"
   ]
  },
  {
   "cell_type": "code",
   "execution_count": 11,
   "id": "bceb0af2-083d-41c7-94d2-ec9e0ceb53d3",
   "metadata": {
    "tags": []
   },
   "outputs": [
    {
     "data": {
      "text/html": [
       "<div>\n",
       "<style scoped>\n",
       "    .dataframe tbody tr th:only-of-type {\n",
       "        vertical-align: middle;\n",
       "    }\n",
       "\n",
       "    .dataframe tbody tr th {\n",
       "        vertical-align: top;\n",
       "    }\n",
       "\n",
       "    .dataframe thead th {\n",
       "        text-align: right;\n",
       "    }\n",
       "</style>\n",
       "<table border=\"1\" class=\"dataframe\">\n",
       "  <thead>\n",
       "    <tr style=\"text-align: right;\">\n",
       "      <th></th>\n",
       "      <th>work_id</th>\n",
       "      <th>author_id</th>\n",
       "      <th>publication_year</th>\n",
       "      <th>first_pub_year</th>\n",
       "      <th>last_pub_year</th>\n",
       "      <th>career_len</th>\n",
       "    </tr>\n",
       "  </thead>\n",
       "  <tbody>\n",
       "    <tr>\n",
       "      <th>0</th>\n",
       "      <td>W2183897491</td>\n",
       "      <td>A100345908</td>\n",
       "      <td>2014</td>\n",
       "      <td>2007</td>\n",
       "      <td>2021</td>\n",
       "      <td>14</td>\n",
       "    </tr>\n",
       "    <tr>\n",
       "      <th>1</th>\n",
       "      <td>W2081058593</td>\n",
       "      <td>A100345908</td>\n",
       "      <td>2007</td>\n",
       "      <td>2007</td>\n",
       "      <td>2021</td>\n",
       "      <td>14</td>\n",
       "    </tr>\n",
       "    <tr>\n",
       "      <th>2</th>\n",
       "      <td>W2025851120</td>\n",
       "      <td>A100345908</td>\n",
       "      <td>2014</td>\n",
       "      <td>2007</td>\n",
       "      <td>2021</td>\n",
       "      <td>14</td>\n",
       "    </tr>\n",
       "    <tr>\n",
       "      <th>3</th>\n",
       "      <td>W1983338691</td>\n",
       "      <td>A100345908</td>\n",
       "      <td>2010</td>\n",
       "      <td>2007</td>\n",
       "      <td>2021</td>\n",
       "      <td>14</td>\n",
       "    </tr>\n",
       "    <tr>\n",
       "      <th>4</th>\n",
       "      <td>W2107552544</td>\n",
       "      <td>A100345908</td>\n",
       "      <td>2014</td>\n",
       "      <td>2007</td>\n",
       "      <td>2021</td>\n",
       "      <td>14</td>\n",
       "    </tr>\n",
       "  </tbody>\n",
       "</table>\n",
       "</div>"
      ],
      "text/plain": [
       "       work_id   author_id  publication_year  first_pub_year  last_pub_year  \\\n",
       "0  W2183897491  A100345908              2014            2007           2021   \n",
       "1  W2081058593  A100345908              2007            2007           2021   \n",
       "2  W2025851120  A100345908              2014            2007           2021   \n",
       "3  W1983338691  A100345908              2010            2007           2021   \n",
       "4  W2107552544  A100345908              2014            2007           2021   \n",
       "\n",
       "   career_len  \n",
       "0          14  \n",
       "1          14  \n",
       "2          14  \n",
       "3          14  \n",
       "4          14  "
      ]
     },
     "execution_count": 11,
     "metadata": {},
     "output_type": "execute_result"
    }
   ],
   "source": [
    "G1_mentee_work_career.head(5)"
   ]
  },
  {
   "cell_type": "code",
   "execution_count": 63,
   "id": "d078ae2b-9e36-4cc5-bb3d-d7c92a833ddc",
   "metadata": {
    "tags": []
   },
   "outputs": [],
   "source": [
    "tp0 = G1_mentee_work_career[['author_id','career_len']][G1_mentee_work_career.career_len>5].drop_duplicates()"
   ]
  },
  {
   "cell_type": "code",
   "execution_count": 64,
   "id": "9899e543-abb9-4b68-8da0-fa887f99d48f",
   "metadata": {
    "tags": []
   },
   "outputs": [
    {
     "data": {
      "text/plain": [
       "<Axes: xlabel='career_len', ylabel='Probability'>"
      ]
     },
     "execution_count": 64,
     "metadata": {},
     "output_type": "execute_result"
    },
    {
     "data": {
      "image/png": "[encoded data removed]",
      "text/plain": [
       "<Figure size 500x309 with 1 Axes>"
      ]
     },
     "metadata": {},
     "output_type": "display_data"
    }
   ],
   "source": [
    "fig, ax = plt.subplots(1,1,constrained_layout=True,figsize=[1*5,0.618*5])\n",
    "sns.set(style='ticks',font_scale=1.2, font='Arial')\n",
    "\n",
    "sns.histplot(data=tp0, x=\"career_len\",stat='probability',\n",
    "             ax=ax)"
   ]
  },
  {
   "cell_type": "code",
   "execution_count": 47,
   "id": "44d03146-2e2e-4313-bcc4-287a5ee04e84",
   "metadata": {
    "tags": []
   },
   "outputs": [],
   "source": [
    "tp = G1_mentee_work_career[['author_id','career_len']][G1_mentee_work_career.author_id.isin(target_author)].drop_duplicates()"
   ]
  },
  {
   "cell_type": "code",
   "execution_count": 56,
   "id": "8378e8ec-027d-4917-84c7-1d78bdb42a98",
   "metadata": {
    "tags": []
   },
   "outputs": [
    {
     "data": {
      "text/html": [
       "<div>\n",
       "<style scoped>\n",
       "    .dataframe tbody tr th:only-of-type {\n",
       "        vertical-align: middle;\n",
       "    }\n",
       "\n",
       "    .dataframe tbody tr th {\n",
       "        vertical-align: top;\n",
       "    }\n",
       "\n",
       "    .dataframe thead th {\n",
       "        text-align: right;\n",
       "    }\n",
       "</style>\n",
       "<table border=\"1\" class=\"dataframe\">\n",
       "  <thead>\n",
       "    <tr style=\"text-align: right;\">\n",
       "      <th></th>\n",
       "      <th>author_id</th>\n",
       "      <th>career_len</th>\n",
       "    </tr>\n",
       "  </thead>\n",
       "  <tbody>\n",
       "    <tr>\n",
       "      <th>2984418</th>\n",
       "      <td>A2147823814</td>\n",
       "      <td>30</td>\n",
       "    </tr>\n",
       "    <tr>\n",
       "      <th>4002519</th>\n",
       "      <td>A2406228557</td>\n",
       "      <td>20</td>\n",
       "    </tr>\n",
       "    <tr>\n",
       "      <th>8310190</th>\n",
       "      <td>A2130723381</td>\n",
       "      <td>28</td>\n",
       "    </tr>\n",
       "    <tr>\n",
       "      <th>1934056</th>\n",
       "      <td>A2089853345</td>\n",
       "      <td>21</td>\n",
       "    </tr>\n",
       "    <tr>\n",
       "      <th>2186516</th>\n",
       "      <td>A2135332559</td>\n",
       "      <td>34</td>\n",
       "    </tr>\n",
       "  </tbody>\n",
       "</table>\n",
       "</div>"
      ],
      "text/plain": [
       "           author_id  career_len\n",
       "2984418  A2147823814          30\n",
       "4002519  A2406228557          20\n",
       "8310190  A2130723381          28\n",
       "1934056  A2089853345          21\n",
       "2186516  A2135332559          34"
      ]
     },
     "execution_count": 56,
     "metadata": {},
     "output_type": "execute_result"
    }
   ],
   "source": [
    "tp.sample(5)"
   ]
  },
  {
   "cell_type": "code",
   "execution_count": 43,
   "id": "125107c0-51ed-493f-bfb9-bc6990f701f4",
   "metadata": {
    "tags": []
   },
   "outputs": [
    {
     "data": {
      "text/plain": [
       "6"
      ]
     },
     "execution_count": 43,
     "metadata": {},
     "output_type": "execute_result"
    }
   ],
   "source": [
    "tp"
   ]
  },
  {
   "cell_type": "code",
   "execution_count": 57,
   "id": "5e98cfb6-7e2a-4f35-9c13-0132cf6cf9c4",
   "metadata": {
    "tags": []
   },
   "outputs": [],
   "source": [
    "from matplotlib.pyplot import MultipleLocator\n",
    "import matplotlib.pyplot as plt\n",
    "import seaborn as sns  #画密度图\n",
    "from matplotlib.dates import DateFormatter, ConciseDateFormatter\n",
    "from matplotlib.ticker import MaxNLocator, FuncFormatter, MultipleLocator\n",
    "import matplotlib.ticker as ticker\n",
    "import palettable #python颜色库"
   ]
  },
  {
   "cell_type": "code",
   "execution_count": 58,
   "id": "c22aaae7-cfd2-4451-8d20-a78bbe8187a0",
   "metadata": {
    "tags": []
   },
   "outputs": [
    {
     "data": {
      "text/plain": [
       "<Axes: xlabel='career_len', ylabel='Probability'>"
      ]
     },
     "execution_count": 58,
     "metadata": {},
     "output_type": "execute_result"
    },
    {
     "data": {
      "image/png": "[encoded data removed]",
      "text/plain": [
       "<Figure size 500x309 with 1 Axes>"
      ]
     },
     "metadata": {},
     "output_type": "display_data"
    }
   ],
   "source": [
    "fig, ax = plt.subplots(1,1,constrained_layout=True,figsize=[1*5,0.618*5])\n",
    "sns.set(style='ticks',font_scale=1.2, font='Arial')\n",
    "\n",
    "sns.histplot(data=tp, x=\"career_len\",stat='probability',\n",
    "             ax=ax)"
   ]
  },
  {
   "cell_type": "code",
   "execution_count": null,
   "id": "ac227385-2b60-4815-a130-ddef749e5815",
   "metadata": {},
   "outputs": [],
   "source": []
  }
 ],
 "metadata": {
  "kernelspec": {
   "display_name": "Python 3 (ipykernel)",
   "language": "python",
   "name": "python3"
  },
  "language_info": {
   "codemirror_mode": {
    "name": "ipython",
    "version": 3
   },
   "file_extension": ".py",
   "mimetype": "text/x-python",
   "name": "python",
   "nbconvert_exporter": "python",
   "pygments_lexer": "ipython3",
   "version": "3.11.4"
  }
 },
 "nbformat": 4,
 "nbformat_minor": 5
}
