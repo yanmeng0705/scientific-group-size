{
 "cells": [
  {
   "cell_type": "code",
   "execution_count": 1,
   "id": "ec1abaef-0244-45f4-a1af-19a4b5f1ca77",
   "metadata": {
    "tags": []
   },
   "outputs": [],
   "source": [
    "import pandas as pd\n",
    "import os\n",
    "import random\n",
    "import numpy as np\n",
    "import matplotlib.pyplot as plt\n",
    "import seaborn as sns"
   ]
  },
  {
   "cell_type": "code",
   "execution_count": 2,
   "id": "2bbfa4fb-9574-4de4-802c-944ba4d1e4fc",
   "metadata": {
    "tags": []
   },
   "outputs": [],
   "source": [
    "group_info = pd.read_csv('group_info_OnlyLastAuthorPaper.csv')"
   ]
  },
  {
   "cell_type": "code",
   "execution_count": 3,
   "id": "b3c3a964-8bb4-4bf5-aecf-405a30e4e8c2",
   "metadata": {
    "tags": []
   },
   "outputs": [
    {
     "data": {
      "text/html": [
       "<div>\n",
       "<style scoped>\n",
       "    .dataframe tbody tr th:only-of-type {\n",
       "        vertical-align: middle;\n",
       "    }\n",
       "\n",
       "    .dataframe tbody tr th {\n",
       "        vertical-align: top;\n",
       "    }\n",
       "\n",
       "    .dataframe thead th {\n",
       "        text-align: right;\n",
       "    }\n",
       "</style>\n",
       "<table border=\"1\" class=\"dataframe\">\n",
       "  <thead>\n",
       "    <tr style=\"text-align: right;\">\n",
       "      <th></th>\n",
       "      <th>work_id</th>\n",
       "      <th>author_position</th>\n",
       "      <th>author_id</th>\n",
       "      <th>institution_id</th>\n",
       "      <th>publication_year</th>\n",
       "      <th>first_pub_year</th>\n",
       "      <th>scientific_age</th>\n",
       "      <th>group_size</th>\n",
       "      <th>mentor_id</th>\n",
       "      <th>current_year</th>\n",
       "      <th>ratio_institution</th>\n",
       "      <th>last_pub_year</th>\n",
       "      <th>career_len</th>\n",
       "      <th>mentor_first_pub_year</th>\n",
       "      <th>mentor_scientific_age</th>\n",
       "    </tr>\n",
       "  </thead>\n",
       "  <tbody>\n",
       "    <tr>\n",
       "      <th>0</th>\n",
       "      <td>W1982782877</td>\n",
       "      <td>first</td>\n",
       "      <td>A1135552249</td>\n",
       "      <td>I201448701</td>\n",
       "      <td>2006</td>\n",
       "      <td>2005</td>\n",
       "      <td>1</td>\n",
       "      <td>1</td>\n",
       "      <td>A2210051518</td>\n",
       "      <td>2006</td>\n",
       "      <td>0.750</td>\n",
       "      <td>2009.0</td>\n",
       "      <td>4.0</td>\n",
       "      <td>2002</td>\n",
       "      <td>4</td>\n",
       "    </tr>\n",
       "    <tr>\n",
       "      <th>1</th>\n",
       "      <td>W1982782877</td>\n",
       "      <td>first</td>\n",
       "      <td>A1135552249</td>\n",
       "      <td>I201448701</td>\n",
       "      <td>2006</td>\n",
       "      <td>2005</td>\n",
       "      <td>1</td>\n",
       "      <td>1</td>\n",
       "      <td>A2210051518</td>\n",
       "      <td>2007</td>\n",
       "      <td>0.875</td>\n",
       "      <td>2009.0</td>\n",
       "      <td>4.0</td>\n",
       "      <td>2002</td>\n",
       "      <td>5</td>\n",
       "    </tr>\n",
       "    <tr>\n",
       "      <th>2</th>\n",
       "      <td>W1982782877</td>\n",
       "      <td>first</td>\n",
       "      <td>A1135552249</td>\n",
       "      <td>I201448701</td>\n",
       "      <td>2006</td>\n",
       "      <td>2005</td>\n",
       "      <td>1</td>\n",
       "      <td>7</td>\n",
       "      <td>A2210051518</td>\n",
       "      <td>2008</td>\n",
       "      <td>1.000</td>\n",
       "      <td>2009.0</td>\n",
       "      <td>4.0</td>\n",
       "      <td>2002</td>\n",
       "      <td>6</td>\n",
       "    </tr>\n",
       "    <tr>\n",
       "      <th>3</th>\n",
       "      <td>W2072141006</td>\n",
       "      <td>first</td>\n",
       "      <td>A2167089177</td>\n",
       "      <td>I201448701</td>\n",
       "      <td>2008</td>\n",
       "      <td>2007</td>\n",
       "      <td>1</td>\n",
       "      <td>7</td>\n",
       "      <td>A2210051518</td>\n",
       "      <td>2008</td>\n",
       "      <td>1.000</td>\n",
       "      <td>2010.0</td>\n",
       "      <td>3.0</td>\n",
       "      <td>2002</td>\n",
       "      <td>6</td>\n",
       "    </tr>\n",
       "    <tr>\n",
       "      <th>4</th>\n",
       "      <td>W2072141006</td>\n",
       "      <td>middle</td>\n",
       "      <td>A3154099523</td>\n",
       "      <td>I201448701</td>\n",
       "      <td>2008</td>\n",
       "      <td>2008</td>\n",
       "      <td>0</td>\n",
       "      <td>7</td>\n",
       "      <td>A2210051518</td>\n",
       "      <td>2008</td>\n",
       "      <td>1.000</td>\n",
       "      <td>2008.0</td>\n",
       "      <td>0.0</td>\n",
       "      <td>2002</td>\n",
       "      <td>6</td>\n",
       "    </tr>\n",
       "  </tbody>\n",
       "</table>\n",
       "</div>"
      ],
      "text/plain": [
       "       work_id author_position    author_id institution_id  publication_year  \\\n",
       "0  W1982782877           first  A1135552249     I201448701              2006   \n",
       "1  W1982782877           first  A1135552249     I201448701              2006   \n",
       "2  W1982782877           first  A1135552249     I201448701              2006   \n",
       "3  W2072141006           first  A2167089177     I201448701              2008   \n",
       "4  W2072141006          middle  A3154099523     I201448701              2008   \n",
       "\n",
       "   first_pub_year  scientific_age  group_size    mentor_id  current_year  \\\n",
       "0            2005               1           1  A2210051518          2006   \n",
       "1            2005               1           1  A2210051518          2007   \n",
       "2            2005               1           7  A2210051518          2008   \n",
       "3            2007               1           7  A2210051518          2008   \n",
       "4            2008               0           7  A2210051518          2008   \n",
       "\n",
       "   ratio_institution  last_pub_year  career_len  mentor_first_pub_year  \\\n",
       "0              0.750         2009.0         4.0                   2002   \n",
       "1              0.875         2009.0         4.0                   2002   \n",
       "2              1.000         2009.0         4.0                   2002   \n",
       "3              1.000         2010.0         3.0                   2002   \n",
       "4              1.000         2008.0         0.0                   2002   \n",
       "\n",
       "   mentor_scientific_age  \n",
       "0                      4  \n",
       "1                      5  \n",
       "2                      6  \n",
       "3                      6  \n",
       "4                      6  "
      ]
     },
     "execution_count": 3,
     "metadata": {},
     "output_type": "execute_result"
    }
   ],
   "source": [
    "group_info.head(5)"
   ]
  },
  {
   "cell_type": "markdown",
   "id": "dc4b66a8-a59e-428d-b536-140be4175f0d",
   "metadata": {},
   "source": [
    "#### Find Mentee's performance"
   ]
  },
  {
   "cell_type": "markdown",
   "id": "2234c901-5856-43d1-8e58-615dc5b4ba3b",
   "metadata": {},
   "source": [
    "pub_num\n",
    "\n",
    "total_cits\n",
    "\n",
    "yearly_cits\n",
    "\n",
    "fecundity\n",
    "\n",
    "career length"
   ]
  },
  {
   "cell_type": "code",
   "execution_count": 4,
   "id": "e1e24ce6-2cfc-4386-86a2-668880c83f65",
   "metadata": {
    "tags": []
   },
   "outputs": [],
   "source": [
    "all_mentee = group_info.author_id.drop_duplicates().tolist()"
   ]
  },
  {
   "cell_type": "code",
   "execution_count": 5,
   "id": "a412a1bf-28a1-4295-9006-6befabdf5bc9",
   "metadata": {
    "tags": []
   },
   "outputs": [
    {
     "name": "stdout",
     "output_type": "stream",
     "text": [
      "num_of_mentee:  528960\n"
     ]
    }
   ],
   "source": [
    "print('num_of_mentee: ',len(all_mentee))"
   ]
  },
  {
   "cell_type": "markdown",
   "id": "361cae5c-88b3-4116-9e7b-168b55c037c5",
   "metadata": {
    "tags": []
   },
   "source": [
    "##### find mentee's work"
   ]
  },
  {
   "cell_type": "code",
   "execution_count": 6,
   "id": "011ee1b7-2320-4b37-bdfc-adfddcccb146",
   "metadata": {
    "scrolled": true,
    "tags": []
   },
   "outputs": [],
   "source": [
    "from sqlalchemy import create_engine\n",
    "engine = create_engine(\"mysql+pymysql://{user}:{pw}@{host}:{port}/{db}?charset=utf8mb4\"\n",
    "                       .format(user=\"openalex_ym\",\n",
    "                               pw=\"openalex.ym\",\n",
    "                               host=\"172.18.18.167\",\n",
    "                               port=3306,\n",
    "                               db=\"openalex2022\"),\n",
    "                       )"
   ]
  },
  {
   "cell_type": "code",
   "execution_count": 7,
   "id": "dea53c81-950a-4d4f-bd11-27f8eaa76696",
   "metadata": {
    "tags": []
   },
   "outputs": [],
   "source": [
    "mentee_groups = []\n",
    "interval = 5000\n",
    "start_point = 0\n",
    "while True:\n",
    "    end_point = start_point + interval\n",
    "    try:\n",
    "        temp = all_mentee[start_point:end_point]\n",
    "        mentee_groups.append(temp)\n",
    "    except:\n",
    "        temp = all_mentee[start_point:]\n",
    "        mentee_groups.append(temp)\n",
    "        \n",
    "    start_point = end_point\n",
    "    if end_point>len(all_mentee):\n",
    "        break"
   ]
  },
  {
   "cell_type": "code",
   "execution_count": 8,
   "id": "67c9efff-e4c4-45b2-b87b-7a71831afaa6",
   "metadata": {
    "tags": []
   },
   "outputs": [
    {
     "name": "stdout",
     "output_type": "stream",
     "text": [
      "106\n"
     ]
    }
   ],
   "source": [
    "print(len(mentee_groups))"
   ]
  },
  {
   "cell_type": "code",
   "execution_count": 9,
   "id": "251c18ca-91ba-46af-b24e-a23be12e599a",
   "metadata": {
    "scrolled": true,
    "tags": []
   },
   "outputs": [
    {
     "name": "stdout",
     "output_type": "stream",
     "text": [
      "106\n",
      "0\n",
      "10\n",
      "20\n",
      "30\n",
      "40\n",
      "50\n",
      "60\n",
      "70\n",
      "80\n",
      "90\n",
      "100\n"
     ]
    }
   ],
   "source": [
    "l = len(mentee_groups)\n",
    "print(l)\n",
    "for i in range(l):\n",
    "    temp =  mentee_groups[i]\n",
    "    sql_query = \"\"\"select works_authorships.work_id, works_authorships.author_id\n",
    "\n",
    "                    from works_authorships \n",
    "\n",
    "                    where works_authorships.author_id in {}\n",
    "                    \"\"\".format(tuple(temp))\n",
    "\n",
    "\n",
    "    data = pd.read_sql(sql_query, con=engine)\n",
    "    # merge data\n",
    "    if i==0:\n",
    "        tp = data\n",
    "    else:\n",
    "        tp = pd.concat((tp,data))\n",
    "    if i%10==0:\n",
    "        print(i)\n",
    "\n",
    "Data = tp"
   ]
  },
  {
   "cell_type": "code",
   "execution_count": 10,
   "id": "d6491f99-d24e-478e-bec7-ca3983d51d78",
   "metadata": {
    "tags": []
   },
   "outputs": [],
   "source": [
    "Data = Data.rename(columns={'id':'work_id'})"
   ]
  },
  {
   "cell_type": "code",
   "execution_count": 11,
   "id": "f12db2de-3177-4558-a44a-2e51638e525d",
   "metadata": {
    "tags": []
   },
   "outputs": [
    {
     "data": {
      "text/html": [
       "<div>\n",
       "<style scoped>\n",
       "    .dataframe tbody tr th:only-of-type {\n",
       "        vertical-align: middle;\n",
       "    }\n",
       "\n",
       "    .dataframe tbody tr th {\n",
       "        vertical-align: top;\n",
       "    }\n",
       "\n",
       "    .dataframe thead th {\n",
       "        text-align: right;\n",
       "    }\n",
       "</style>\n",
       "<table border=\"1\" class=\"dataframe\">\n",
       "  <thead>\n",
       "    <tr style=\"text-align: right;\">\n",
       "      <th></th>\n",
       "      <th>work_id</th>\n",
       "      <th>author_id</th>\n",
       "    </tr>\n",
       "  </thead>\n",
       "  <tbody>\n",
       "    <tr>\n",
       "      <th>0</th>\n",
       "      <td>W3208795529</td>\n",
       "      <td>A1012478477</td>\n",
       "    </tr>\n",
       "    <tr>\n",
       "      <th>1</th>\n",
       "      <td>W1608839766</td>\n",
       "      <td>A1012478477</td>\n",
       "    </tr>\n",
       "    <tr>\n",
       "      <th>2</th>\n",
       "      <td>W1552584425</td>\n",
       "      <td>A1012478477</td>\n",
       "    </tr>\n",
       "    <tr>\n",
       "      <th>3</th>\n",
       "      <td>W2050048591</td>\n",
       "      <td>A1012478477</td>\n",
       "    </tr>\n",
       "    <tr>\n",
       "      <th>4</th>\n",
       "      <td>W2049019691</td>\n",
       "      <td>A1012478477</td>\n",
       "    </tr>\n",
       "  </tbody>\n",
       "</table>\n",
       "</div>"
      ],
      "text/plain": [
       "       work_id    author_id\n",
       "0  W3208795529  A1012478477\n",
       "1  W1608839766  A1012478477\n",
       "2  W1552584425  A1012478477\n",
       "3  W2050048591  A1012478477\n",
       "4  W2049019691  A1012478477"
      ]
     },
     "execution_count": 11,
     "metadata": {},
     "output_type": "execute_result"
    }
   ],
   "source": [
    "Data.head(5)"
   ]
  },
  {
   "cell_type": "code",
   "execution_count": 12,
   "id": "c70eb8a3-80cd-4022-b760-48a22db94902",
   "metadata": {
    "tags": []
   },
   "outputs": [],
   "source": [
    "Data.to_csv('alex_mentee_work.csv',index=0)"
   ]
  },
  {
   "cell_type": "markdown",
   "id": "25dff8ea-2cc5-44af-9d09-b1d3532f251a",
   "metadata": {},
   "source": [
    "##### Done"
   ]
  },
  {
   "cell_type": "markdown",
   "id": "7df9b31f-5fa2-4e5d-99b3-a27481195f80",
   "metadata": {},
   "source": [
    "##### find work's performance"
   ]
  },
  {
   "cell_type": "code",
   "execution_count": 13,
   "id": "e4b2ae8c-005b-45f2-bd84-0dcbc6477308",
   "metadata": {
    "tags": []
   },
   "outputs": [],
   "source": [
    "alex_mentee_work = Data"
   ]
  },
  {
   "cell_type": "code",
   "execution_count": 14,
   "id": "039a93ed-0f78-437d-9e4e-d3ab6defb58c",
   "metadata": {
    "tags": []
   },
   "outputs": [
    {
     "data": {
      "text/html": [
       "<div>\n",
       "<style scoped>\n",
       "    .dataframe tbody tr th:only-of-type {\n",
       "        vertical-align: middle;\n",
       "    }\n",
       "\n",
       "    .dataframe tbody tr th {\n",
       "        vertical-align: top;\n",
       "    }\n",
       "\n",
       "    .dataframe thead th {\n",
       "        text-align: right;\n",
       "    }\n",
       "</style>\n",
       "<table border=\"1\" class=\"dataframe\">\n",
       "  <thead>\n",
       "    <tr style=\"text-align: right;\">\n",
       "      <th></th>\n",
       "      <th>work_id</th>\n",
       "      <th>author_id</th>\n",
       "    </tr>\n",
       "  </thead>\n",
       "  <tbody>\n",
       "    <tr>\n",
       "      <th>0</th>\n",
       "      <td>W3208795529</td>\n",
       "      <td>A1012478477</td>\n",
       "    </tr>\n",
       "    <tr>\n",
       "      <th>1</th>\n",
       "      <td>W1608839766</td>\n",
       "      <td>A1012478477</td>\n",
       "    </tr>\n",
       "    <tr>\n",
       "      <th>2</th>\n",
       "      <td>W1552584425</td>\n",
       "      <td>A1012478477</td>\n",
       "    </tr>\n",
       "    <tr>\n",
       "      <th>3</th>\n",
       "      <td>W2050048591</td>\n",
       "      <td>A1012478477</td>\n",
       "    </tr>\n",
       "    <tr>\n",
       "      <th>4</th>\n",
       "      <td>W2049019691</td>\n",
       "      <td>A1012478477</td>\n",
       "    </tr>\n",
       "  </tbody>\n",
       "</table>\n",
       "</div>"
      ],
      "text/plain": [
       "       work_id    author_id\n",
       "0  W3208795529  A1012478477\n",
       "1  W1608839766  A1012478477\n",
       "2  W1552584425  A1012478477\n",
       "3  W2050048591  A1012478477\n",
       "4  W2049019691  A1012478477"
      ]
     },
     "execution_count": 14,
     "metadata": {},
     "output_type": "execute_result"
    }
   ],
   "source": [
    "alex_mentee_work.head(5)"
   ]
  },
  {
   "cell_type": "code",
   "execution_count": 15,
   "id": "02e44543-d62b-4519-a5ed-1603f60f62bb",
   "metadata": {
    "tags": []
   },
   "outputs": [],
   "source": [
    "works = alex_mentee_work.work_id.drop_duplicates().tolist()"
   ]
  },
  {
   "cell_type": "code",
   "execution_count": 16,
   "id": "af450234-053f-4e20-b127-8125f2828029",
   "metadata": {
    "tags": []
   },
   "outputs": [
    {
     "name": "stdout",
     "output_type": "stream",
     "text": [
      "6143133\n"
     ]
    }
   ],
   "source": [
    "print(len(works))"
   ]
  },
  {
   "cell_type": "code",
   "execution_count": 17,
   "id": "72384592-1e7c-46b7-9cd8-d8879b4ec450",
   "metadata": {
    "tags": []
   },
   "outputs": [],
   "source": [
    "works_groups = []\n",
    "interval = 5000\n",
    "start_point = 0\n",
    "while True:\n",
    "    end_point = start_point + interval\n",
    "    try:\n",
    "        temp = works[start_point:end_point]\n",
    "        works_groups.append(temp)\n",
    "    except:\n",
    "        temp = works[start_point:]\n",
    "        works_groups.append(temp)\n",
    "        \n",
    "    start_point = end_point\n",
    "    if end_point>len(works):\n",
    "        break"
   ]
  },
  {
   "cell_type": "code",
   "execution_count": 18,
   "id": "6b5365b4-3a32-41d2-87c3-3292afaefc2a",
   "metadata": {
    "scrolled": true,
    "tags": []
   },
   "outputs": [
    {
     "name": "stdout",
     "output_type": "stream",
     "text": [
      "1229\n",
      "0\n",
      "10\n",
      "20\n",
      "30\n",
      "40\n",
      "50\n",
      "60\n",
      "70\n",
      "80\n",
      "90\n",
      "100\n",
      "110\n",
      "120\n",
      "130\n",
      "140\n",
      "150\n",
      "160\n",
      "170\n",
      "180\n",
      "190\n",
      "200\n",
      "210\n",
      "220\n",
      "230\n",
      "240\n",
      "250\n",
      "260\n",
      "270\n",
      "280\n",
      "290\n",
      "300\n",
      "310\n",
      "320\n",
      "330\n",
      "340\n",
      "350\n",
      "360\n",
      "370\n",
      "380\n",
      "390\n",
      "400\n",
      "410\n",
      "420\n",
      "430\n",
      "440\n",
      "450\n",
      "460\n",
      "470\n",
      "480\n",
      "490\n",
      "500\n",
      "510\n",
      "520\n",
      "530\n",
      "540\n",
      "550\n",
      "560\n",
      "570\n",
      "580\n",
      "590\n",
      "600\n",
      "610\n",
      "620\n",
      "630\n",
      "640\n",
      "650\n",
      "660\n",
      "670\n",
      "680\n",
      "690\n",
      "700\n",
      "710\n",
      "720\n",
      "730\n",
      "740\n",
      "750\n",
      "760\n",
      "770\n",
      "780\n",
      "790\n",
      "800\n",
      "810\n",
      "820\n",
      "830\n",
      "840\n",
      "850\n",
      "860\n",
      "870\n",
      "880\n",
      "890\n",
      "900\n",
      "910\n",
      "920\n",
      "930\n",
      "940\n",
      "950\n",
      "960\n",
      "970\n",
      "980\n",
      "990\n",
      "1000\n",
      "1010\n",
      "1020\n",
      "1030\n",
      "1040\n",
      "1050\n",
      "1060\n",
      "1070\n",
      "1080\n",
      "1090\n",
      "1100\n",
      "1110\n",
      "1120\n",
      "1130\n",
      "1140\n",
      "1150\n",
      "1160\n",
      "1170\n",
      "1180\n",
      "1190\n",
      "1200\n",
      "1210\n",
      "1220\n"
     ]
    }
   ],
   "source": [
    "l = len(works_groups)\n",
    "print(l)\n",
    "for i in range(l):\n",
    "    temp =  works_groups[i]\n",
    "    sql_query = \"\"\"select works_puby_cits_team_concepts_innovation.id, works_puby_cits_team_concepts_innovation.cits,works_puby_cits_team_concepts_innovation.cits5\n",
    "\n",
    "                    from works_puby_cits_team_concepts_innovation \n",
    "\n",
    "                    where works_puby_cits_team_concepts_innovation.id in {}\n",
    "                    \"\"\".format(tuple(temp))\n",
    "\n",
    "\n",
    "    data = pd.read_sql(sql_query, con=engine)\n",
    "    # merge data\n",
    "    if i==0:\n",
    "        tp = data\n",
    "    else:\n",
    "        tp = pd.concat((tp,data))\n",
    "    if i%10==0:\n",
    "        print(i)\n",
    "\n",
    "Data = tp"
   ]
  },
  {
   "cell_type": "code",
   "execution_count": 19,
   "id": "1a32414f-9a7d-421c-91c0-236c1f18912a",
   "metadata": {
    "tags": []
   },
   "outputs": [
    {
     "data": {
      "text/html": [
       "<div>\n",
       "<style scoped>\n",
       "    .dataframe tbody tr th:only-of-type {\n",
       "        vertical-align: middle;\n",
       "    }\n",
       "\n",
       "    .dataframe tbody tr th {\n",
       "        vertical-align: top;\n",
       "    }\n",
       "\n",
       "    .dataframe thead th {\n",
       "        text-align: right;\n",
       "    }\n",
       "</style>\n",
       "<table border=\"1\" class=\"dataframe\">\n",
       "  <thead>\n",
       "    <tr style=\"text-align: right;\">\n",
       "      <th></th>\n",
       "      <th>id</th>\n",
       "      <th>cits</th>\n",
       "      <th>cits5</th>\n",
       "    </tr>\n",
       "  </thead>\n",
       "  <tbody>\n",
       "    <tr>\n",
       "      <th>0</th>\n",
       "      <td>W1002161312</td>\n",
       "      <td>0.0</td>\n",
       "      <td>0.0</td>\n",
       "    </tr>\n",
       "    <tr>\n",
       "      <th>1</th>\n",
       "      <td>W1002161312</td>\n",
       "      <td>0.0</td>\n",
       "      <td>0.0</td>\n",
       "    </tr>\n",
       "    <tr>\n",
       "      <th>2</th>\n",
       "      <td>W1003011201</td>\n",
       "      <td>0.0</td>\n",
       "      <td>0.0</td>\n",
       "    </tr>\n",
       "    <tr>\n",
       "      <th>3</th>\n",
       "      <td>W1009486073</td>\n",
       "      <td>0.0</td>\n",
       "      <td>0.0</td>\n",
       "    </tr>\n",
       "    <tr>\n",
       "      <th>4</th>\n",
       "      <td>W1011492855</td>\n",
       "      <td>62.0</td>\n",
       "      <td>22.0</td>\n",
       "    </tr>\n",
       "  </tbody>\n",
       "</table>\n",
       "</div>"
      ],
      "text/plain": [
       "            id  cits  cits5\n",
       "0  W1002161312   0.0    0.0\n",
       "1  W1002161312   0.0    0.0\n",
       "2  W1003011201   0.0    0.0\n",
       "3  W1009486073   0.0    0.0\n",
       "4  W1011492855  62.0   22.0"
      ]
     },
     "execution_count": 19,
     "metadata": {},
     "output_type": "execute_result"
    }
   ],
   "source": [
    "Data.head(5)"
   ]
  },
  {
   "cell_type": "code",
   "execution_count": 20,
   "id": "6d3a3fcd-e9ad-4e45-9427-1e04a2c3ea76",
   "metadata": {
    "tags": []
   },
   "outputs": [],
   "source": [
    "work_cits = Data"
   ]
  },
  {
   "cell_type": "code",
   "execution_count": 21,
   "id": "a0224dc0-940e-4070-ad88-231cb7c4ca79",
   "metadata": {
    "tags": []
   },
   "outputs": [],
   "source": [
    "work_cits = work_cits.rename(columns={'id':'work_id'})"
   ]
  },
  {
   "cell_type": "code",
   "execution_count": 22,
   "id": "cfcac14f-1222-4183-96c2-c57f3d2108fe",
   "metadata": {
    "tags": []
   },
   "outputs": [
    {
     "data": {
      "text/html": [
       "<div>\n",
       "<style scoped>\n",
       "    .dataframe tbody tr th:only-of-type {\n",
       "        vertical-align: middle;\n",
       "    }\n",
       "\n",
       "    .dataframe tbody tr th {\n",
       "        vertical-align: top;\n",
       "    }\n",
       "\n",
       "    .dataframe thead th {\n",
       "        text-align: right;\n",
       "    }\n",
       "</style>\n",
       "<table border=\"1\" class=\"dataframe\">\n",
       "  <thead>\n",
       "    <tr style=\"text-align: right;\">\n",
       "      <th></th>\n",
       "      <th>work_id</th>\n",
       "      <th>cits</th>\n",
       "      <th>cits5</th>\n",
       "    </tr>\n",
       "  </thead>\n",
       "  <tbody>\n",
       "    <tr>\n",
       "      <th>0</th>\n",
       "      <td>W1002161312</td>\n",
       "      <td>0.0</td>\n",
       "      <td>0.0</td>\n",
       "    </tr>\n",
       "    <tr>\n",
       "      <th>1</th>\n",
       "      <td>W1002161312</td>\n",
       "      <td>0.0</td>\n",
       "      <td>0.0</td>\n",
       "    </tr>\n",
       "    <tr>\n",
       "      <th>2</th>\n",
       "      <td>W1003011201</td>\n",
       "      <td>0.0</td>\n",
       "      <td>0.0</td>\n",
       "    </tr>\n",
       "    <tr>\n",
       "      <th>3</th>\n",
       "      <td>W1009486073</td>\n",
       "      <td>0.0</td>\n",
       "      <td>0.0</td>\n",
       "    </tr>\n",
       "    <tr>\n",
       "      <th>4</th>\n",
       "      <td>W1011492855</td>\n",
       "      <td>62.0</td>\n",
       "      <td>22.0</td>\n",
       "    </tr>\n",
       "  </tbody>\n",
       "</table>\n",
       "</div>"
      ],
      "text/plain": [
       "       work_id  cits  cits5\n",
       "0  W1002161312   0.0    0.0\n",
       "1  W1002161312   0.0    0.0\n",
       "2  W1003011201   0.0    0.0\n",
       "3  W1009486073   0.0    0.0\n",
       "4  W1011492855  62.0   22.0"
      ]
     },
     "execution_count": 22,
     "metadata": {},
     "output_type": "execute_result"
    }
   ],
   "source": [
    "work_cits.head(5)"
   ]
  },
  {
   "cell_type": "code",
   "execution_count": 23,
   "id": "42e1ef6f-30b0-4a35-ba63-69f266421ee1",
   "metadata": {
    "tags": []
   },
   "outputs": [
    {
     "data": {
      "text/html": [
       "<div>\n",
       "<style scoped>\n",
       "    .dataframe tbody tr th:only-of-type {\n",
       "        vertical-align: middle;\n",
       "    }\n",
       "\n",
       "    .dataframe tbody tr th {\n",
       "        vertical-align: top;\n",
       "    }\n",
       "\n",
       "    .dataframe thead th {\n",
       "        text-align: right;\n",
       "    }\n",
       "</style>\n",
       "<table border=\"1\" class=\"dataframe\">\n",
       "  <thead>\n",
       "    <tr style=\"text-align: right;\">\n",
       "      <th></th>\n",
       "      <th>work_id</th>\n",
       "      <th>author_id</th>\n",
       "    </tr>\n",
       "  </thead>\n",
       "  <tbody>\n",
       "    <tr>\n",
       "      <th>0</th>\n",
       "      <td>W3208795529</td>\n",
       "      <td>A1012478477</td>\n",
       "    </tr>\n",
       "    <tr>\n",
       "      <th>1</th>\n",
       "      <td>W1608839766</td>\n",
       "      <td>A1012478477</td>\n",
       "    </tr>\n",
       "    <tr>\n",
       "      <th>2</th>\n",
       "      <td>W1552584425</td>\n",
       "      <td>A1012478477</td>\n",
       "    </tr>\n",
       "    <tr>\n",
       "      <th>3</th>\n",
       "      <td>W2050048591</td>\n",
       "      <td>A1012478477</td>\n",
       "    </tr>\n",
       "    <tr>\n",
       "      <th>4</th>\n",
       "      <td>W2049019691</td>\n",
       "      <td>A1012478477</td>\n",
       "    </tr>\n",
       "  </tbody>\n",
       "</table>\n",
       "</div>"
      ],
      "text/plain": [
       "       work_id    author_id\n",
       "0  W3208795529  A1012478477\n",
       "1  W1608839766  A1012478477\n",
       "2  W1552584425  A1012478477\n",
       "3  W2050048591  A1012478477\n",
       "4  W2049019691  A1012478477"
      ]
     },
     "execution_count": 23,
     "metadata": {},
     "output_type": "execute_result"
    }
   ],
   "source": [
    "alex_mentee_work.head(5)"
   ]
  },
  {
   "cell_type": "code",
   "execution_count": 24,
   "id": "ddde0dcc-4ddf-4a8c-b869-975fec758954",
   "metadata": {
    "tags": []
   },
   "outputs": [],
   "source": [
    "alex_mentee_work_cits = alex_mentee_work.merge(work_cits,on='work_id',how='left')"
   ]
  },
  {
   "cell_type": "code",
   "execution_count": 25,
   "id": "50c50356-fdd5-4041-a88f-8c2c9a0cd508",
   "metadata": {
    "tags": []
   },
   "outputs": [
    {
     "data": {
      "text/html": [
       "<div>\n",
       "<style scoped>\n",
       "    .dataframe tbody tr th:only-of-type {\n",
       "        vertical-align: middle;\n",
       "    }\n",
       "\n",
       "    .dataframe tbody tr th {\n",
       "        vertical-align: top;\n",
       "    }\n",
       "\n",
       "    .dataframe thead th {\n",
       "        text-align: right;\n",
       "    }\n",
       "</style>\n",
       "<table border=\"1\" class=\"dataframe\">\n",
       "  <thead>\n",
       "    <tr style=\"text-align: right;\">\n",
       "      <th></th>\n",
       "      <th>work_id</th>\n",
       "      <th>author_id</th>\n",
       "      <th>cits</th>\n",
       "      <th>cits5</th>\n",
       "    </tr>\n",
       "  </thead>\n",
       "  <tbody>\n",
       "    <tr>\n",
       "      <th>0</th>\n",
       "      <td>W3208795529</td>\n",
       "      <td>A1012478477</td>\n",
       "      <td>3.0</td>\n",
       "      <td>1.0</td>\n",
       "    </tr>\n",
       "    <tr>\n",
       "      <th>1</th>\n",
       "      <td>W1608839766</td>\n",
       "      <td>A1012478477</td>\n",
       "      <td>2.0</td>\n",
       "      <td>2.0</td>\n",
       "    </tr>\n",
       "    <tr>\n",
       "      <th>2</th>\n",
       "      <td>W1552584425</td>\n",
       "      <td>A1012478477</td>\n",
       "      <td>1.0</td>\n",
       "      <td>1.0</td>\n",
       "    </tr>\n",
       "    <tr>\n",
       "      <th>3</th>\n",
       "      <td>W2050048591</td>\n",
       "      <td>A1012478477</td>\n",
       "      <td>7.0</td>\n",
       "      <td>7.0</td>\n",
       "    </tr>\n",
       "    <tr>\n",
       "      <th>4</th>\n",
       "      <td>W2049019691</td>\n",
       "      <td>A1012478477</td>\n",
       "      <td>13.0</td>\n",
       "      <td>12.0</td>\n",
       "    </tr>\n",
       "  </tbody>\n",
       "</table>\n",
       "</div>"
      ],
      "text/plain": [
       "       work_id    author_id  cits  cits5\n",
       "0  W3208795529  A1012478477   3.0    1.0\n",
       "1  W1608839766  A1012478477   2.0    2.0\n",
       "2  W1552584425  A1012478477   1.0    1.0\n",
       "3  W2050048591  A1012478477   7.0    7.0\n",
       "4  W2049019691  A1012478477  13.0   12.0"
      ]
     },
     "execution_count": 25,
     "metadata": {},
     "output_type": "execute_result"
    }
   ],
   "source": [
    "alex_mentee_work_cits.head(5)"
   ]
  },
  {
   "cell_type": "code",
   "execution_count": 26,
   "id": "7254009a-0cef-4a8d-8751-ced1990b5b6d",
   "metadata": {
    "tags": []
   },
   "outputs": [],
   "source": [
    "total_cits = alex_mentee_work_cits.groupby('author_id')['cits'].agg('sum').reset_index(name='total_cits')"
   ]
  },
  {
   "cell_type": "code",
   "execution_count": 27,
   "id": "d1da4111-ede2-42c6-9eb4-ae986d44c7db",
   "metadata": {
    "tags": []
   },
   "outputs": [
    {
     "data": {
      "text/html": [
       "<div>\n",
       "<style scoped>\n",
       "    .dataframe tbody tr th:only-of-type {\n",
       "        vertical-align: middle;\n",
       "    }\n",
       "\n",
       "    .dataframe tbody tr th {\n",
       "        vertical-align: top;\n",
       "    }\n",
       "\n",
       "    .dataframe thead th {\n",
       "        text-align: right;\n",
       "    }\n",
       "</style>\n",
       "<table border=\"1\" class=\"dataframe\">\n",
       "  <thead>\n",
       "    <tr style=\"text-align: right;\">\n",
       "      <th></th>\n",
       "      <th>author_id</th>\n",
       "      <th>total_cits</th>\n",
       "    </tr>\n",
       "  </thead>\n",
       "  <tbody>\n",
       "    <tr>\n",
       "      <th>0</th>\n",
       "      <td>A100024666</td>\n",
       "      <td>28.0</td>\n",
       "    </tr>\n",
       "    <tr>\n",
       "      <th>1</th>\n",
       "      <td>A100039162</td>\n",
       "      <td>314.0</td>\n",
       "    </tr>\n",
       "    <tr>\n",
       "      <th>2</th>\n",
       "      <td>A100044787</td>\n",
       "      <td>17.0</td>\n",
       "    </tr>\n",
       "    <tr>\n",
       "      <th>3</th>\n",
       "      <td>A1000470164</td>\n",
       "      <td>339.0</td>\n",
       "    </tr>\n",
       "    <tr>\n",
       "      <th>4</th>\n",
       "      <td>A1000482616</td>\n",
       "      <td>1802.0</td>\n",
       "    </tr>\n",
       "  </tbody>\n",
       "</table>\n",
       "</div>"
      ],
      "text/plain": [
       "     author_id  total_cits\n",
       "0   A100024666        28.0\n",
       "1   A100039162       314.0\n",
       "2   A100044787        17.0\n",
       "3  A1000470164       339.0\n",
       "4  A1000482616      1802.0"
      ]
     },
     "execution_count": 27,
     "metadata": {},
     "output_type": "execute_result"
    }
   ],
   "source": [
    "total_cits.head(5)"
   ]
  },
  {
   "cell_type": "code",
   "execution_count": 28,
   "id": "2d11e0ce-83b0-4d24-aa67-4355338750b1",
   "metadata": {
    "tags": []
   },
   "outputs": [],
   "source": [
    "total_cits5 = alex_mentee_work_cits.groupby('author_id')['cits5'].agg('sum').reset_index(name='total_cits5')"
   ]
  },
  {
   "cell_type": "code",
   "execution_count": 29,
   "id": "2455d717-2203-49e6-b46b-df8974c076c7",
   "metadata": {
    "tags": []
   },
   "outputs": [
    {
     "data": {
      "text/html": [
       "<div>\n",
       "<style scoped>\n",
       "    .dataframe tbody tr th:only-of-type {\n",
       "        vertical-align: middle;\n",
       "    }\n",
       "\n",
       "    .dataframe tbody tr th {\n",
       "        vertical-align: top;\n",
       "    }\n",
       "\n",
       "    .dataframe thead th {\n",
       "        text-align: right;\n",
       "    }\n",
       "</style>\n",
       "<table border=\"1\" class=\"dataframe\">\n",
       "  <thead>\n",
       "    <tr style=\"text-align: right;\">\n",
       "      <th></th>\n",
       "      <th>author_id</th>\n",
       "      <th>total_cits5</th>\n",
       "    </tr>\n",
       "  </thead>\n",
       "  <tbody>\n",
       "    <tr>\n",
       "      <th>0</th>\n",
       "      <td>A100024666</td>\n",
       "      <td>28.0</td>\n",
       "    </tr>\n",
       "    <tr>\n",
       "      <th>1</th>\n",
       "      <td>A100039162</td>\n",
       "      <td>236.0</td>\n",
       "    </tr>\n",
       "    <tr>\n",
       "      <th>2</th>\n",
       "      <td>A100044787</td>\n",
       "      <td>11.0</td>\n",
       "    </tr>\n",
       "    <tr>\n",
       "      <th>3</th>\n",
       "      <td>A1000470164</td>\n",
       "      <td>188.0</td>\n",
       "    </tr>\n",
       "    <tr>\n",
       "      <th>4</th>\n",
       "      <td>A1000482616</td>\n",
       "      <td>1089.0</td>\n",
       "    </tr>\n",
       "  </tbody>\n",
       "</table>\n",
       "</div>"
      ],
      "text/plain": [
       "     author_id  total_cits5\n",
       "0   A100024666         28.0\n",
       "1   A100039162        236.0\n",
       "2   A100044787         11.0\n",
       "3  A1000470164        188.0\n",
       "4  A1000482616       1089.0"
      ]
     },
     "execution_count": 29,
     "metadata": {},
     "output_type": "execute_result"
    }
   ],
   "source": [
    "total_cits5.head(5)"
   ]
  },
  {
   "cell_type": "code",
   "execution_count": 30,
   "id": "8f04c6b3-bd68-4044-8906-714d83692361",
   "metadata": {
    "tags": []
   },
   "outputs": [],
   "source": [
    "cits = total_cits.merge(total_cits5,on='author_id',how='left')"
   ]
  },
  {
   "cell_type": "code",
   "execution_count": 31,
   "id": "a3dfcb2b-c79d-45b7-bc6f-820d1ac7d8c3",
   "metadata": {
    "tags": []
   },
   "outputs": [
    {
     "data": {
      "text/html": [
       "<div>\n",
       "<style scoped>\n",
       "    .dataframe tbody tr th:only-of-type {\n",
       "        vertical-align: middle;\n",
       "    }\n",
       "\n",
       "    .dataframe tbody tr th {\n",
       "        vertical-align: top;\n",
       "    }\n",
       "\n",
       "    .dataframe thead th {\n",
       "        text-align: right;\n",
       "    }\n",
       "</style>\n",
       "<table border=\"1\" class=\"dataframe\">\n",
       "  <thead>\n",
       "    <tr style=\"text-align: right;\">\n",
       "      <th></th>\n",
       "      <th>author_id</th>\n",
       "      <th>total_cits</th>\n",
       "      <th>total_cits5</th>\n",
       "    </tr>\n",
       "  </thead>\n",
       "  <tbody>\n",
       "    <tr>\n",
       "      <th>0</th>\n",
       "      <td>A100024666</td>\n",
       "      <td>28.0</td>\n",
       "      <td>28.0</td>\n",
       "    </tr>\n",
       "    <tr>\n",
       "      <th>1</th>\n",
       "      <td>A100039162</td>\n",
       "      <td>314.0</td>\n",
       "      <td>236.0</td>\n",
       "    </tr>\n",
       "    <tr>\n",
       "      <th>2</th>\n",
       "      <td>A100044787</td>\n",
       "      <td>17.0</td>\n",
       "      <td>11.0</td>\n",
       "    </tr>\n",
       "    <tr>\n",
       "      <th>3</th>\n",
       "      <td>A1000470164</td>\n",
       "      <td>339.0</td>\n",
       "      <td>188.0</td>\n",
       "    </tr>\n",
       "    <tr>\n",
       "      <th>4</th>\n",
       "      <td>A1000482616</td>\n",
       "      <td>1802.0</td>\n",
       "      <td>1089.0</td>\n",
       "    </tr>\n",
       "  </tbody>\n",
       "</table>\n",
       "</div>"
      ],
      "text/plain": [
       "     author_id  total_cits  total_cits5\n",
       "0   A100024666        28.0         28.0\n",
       "1   A100039162       314.0        236.0\n",
       "2   A100044787        17.0         11.0\n",
       "3  A1000470164       339.0        188.0\n",
       "4  A1000482616      1802.0       1089.0"
      ]
     },
     "execution_count": 31,
     "metadata": {},
     "output_type": "execute_result"
    }
   ],
   "source": [
    "cits.head(5)"
   ]
  },
  {
   "cell_type": "code",
   "execution_count": 32,
   "id": "b1d40689-85ca-4040-a760-076eee347110",
   "metadata": {
    "tags": []
   },
   "outputs": [],
   "source": [
    "paper_num = alex_mentee_work.groupby('author_id')['work_id'].agg('count').reset_index(name='paper_num')"
   ]
  },
  {
   "cell_type": "code",
   "execution_count": 33,
   "id": "526dcf9f-e5ef-48c8-bc56-4d0d26642ef8",
   "metadata": {
    "tags": []
   },
   "outputs": [
    {
     "data": {
      "text/html": [
       "<div>\n",
       "<style scoped>\n",
       "    .dataframe tbody tr th:only-of-type {\n",
       "        vertical-align: middle;\n",
       "    }\n",
       "\n",
       "    .dataframe tbody tr th {\n",
       "        vertical-align: top;\n",
       "    }\n",
       "\n",
       "    .dataframe thead th {\n",
       "        text-align: right;\n",
       "    }\n",
       "</style>\n",
       "<table border=\"1\" class=\"dataframe\">\n",
       "  <thead>\n",
       "    <tr style=\"text-align: right;\">\n",
       "      <th></th>\n",
       "      <th>author_id</th>\n",
       "      <th>paper_num</th>\n",
       "    </tr>\n",
       "  </thead>\n",
       "  <tbody>\n",
       "    <tr>\n",
       "      <th>0</th>\n",
       "      <td>A100024666</td>\n",
       "      <td>2</td>\n",
       "    </tr>\n",
       "    <tr>\n",
       "      <th>1</th>\n",
       "      <td>A100039162</td>\n",
       "      <td>25</td>\n",
       "    </tr>\n",
       "    <tr>\n",
       "      <th>2</th>\n",
       "      <td>A100044787</td>\n",
       "      <td>1</td>\n",
       "    </tr>\n",
       "    <tr>\n",
       "      <th>3</th>\n",
       "      <td>A1000470164</td>\n",
       "      <td>19</td>\n",
       "    </tr>\n",
       "    <tr>\n",
       "      <th>4</th>\n",
       "      <td>A1000482616</td>\n",
       "      <td>34</td>\n",
       "    </tr>\n",
       "  </tbody>\n",
       "</table>\n",
       "</div>"
      ],
      "text/plain": [
       "     author_id  paper_num\n",
       "0   A100024666          2\n",
       "1   A100039162         25\n",
       "2   A100044787          1\n",
       "3  A1000470164         19\n",
       "4  A1000482616         34"
      ]
     },
     "execution_count": 33,
     "metadata": {},
     "output_type": "execute_result"
    }
   ],
   "source": [
    "paper_num.head(5)"
   ]
  },
  {
   "cell_type": "code",
   "execution_count": 34,
   "id": "96ebd2fa-24f1-427a-9f9d-689618433bd4",
   "metadata": {
    "tags": []
   },
   "outputs": [],
   "source": [
    "cits = cits.merge(paper_num,how='left',on='author_id')"
   ]
  },
  {
   "cell_type": "code",
   "execution_count": 35,
   "id": "cc462a38-456a-4d4f-a29a-697eef6d0f61",
   "metadata": {
    "tags": []
   },
   "outputs": [
    {
     "data": {
      "text/html": [
       "<div>\n",
       "<style scoped>\n",
       "    .dataframe tbody tr th:only-of-type {\n",
       "        vertical-align: middle;\n",
       "    }\n",
       "\n",
       "    .dataframe tbody tr th {\n",
       "        vertical-align: top;\n",
       "    }\n",
       "\n",
       "    .dataframe thead th {\n",
       "        text-align: right;\n",
       "    }\n",
       "</style>\n",
       "<table border=\"1\" class=\"dataframe\">\n",
       "  <thead>\n",
       "    <tr style=\"text-align: right;\">\n",
       "      <th></th>\n",
       "      <th>author_id</th>\n",
       "      <th>total_cits</th>\n",
       "      <th>total_cits5</th>\n",
       "      <th>paper_num</th>\n",
       "    </tr>\n",
       "  </thead>\n",
       "  <tbody>\n",
       "    <tr>\n",
       "      <th>0</th>\n",
       "      <td>A100024666</td>\n",
       "      <td>28.0</td>\n",
       "      <td>28.0</td>\n",
       "      <td>2</td>\n",
       "    </tr>\n",
       "    <tr>\n",
       "      <th>1</th>\n",
       "      <td>A100039162</td>\n",
       "      <td>314.0</td>\n",
       "      <td>236.0</td>\n",
       "      <td>25</td>\n",
       "    </tr>\n",
       "    <tr>\n",
       "      <th>2</th>\n",
       "      <td>A100044787</td>\n",
       "      <td>17.0</td>\n",
       "      <td>11.0</td>\n",
       "      <td>1</td>\n",
       "    </tr>\n",
       "    <tr>\n",
       "      <th>3</th>\n",
       "      <td>A1000470164</td>\n",
       "      <td>339.0</td>\n",
       "      <td>188.0</td>\n",
       "      <td>19</td>\n",
       "    </tr>\n",
       "    <tr>\n",
       "      <th>4</th>\n",
       "      <td>A1000482616</td>\n",
       "      <td>1802.0</td>\n",
       "      <td>1089.0</td>\n",
       "      <td>34</td>\n",
       "    </tr>\n",
       "  </tbody>\n",
       "</table>\n",
       "</div>"
      ],
      "text/plain": [
       "     author_id  total_cits  total_cits5  paper_num\n",
       "0   A100024666        28.0         28.0          2\n",
       "1   A100039162       314.0        236.0         25\n",
       "2   A100044787        17.0         11.0          1\n",
       "3  A1000470164       339.0        188.0         19\n",
       "4  A1000482616      1802.0       1089.0         34"
      ]
     },
     "execution_count": 35,
     "metadata": {},
     "output_type": "execute_result"
    }
   ],
   "source": [
    "cits.head(5)"
   ]
  },
  {
   "cell_type": "code",
   "execution_count": 36,
   "id": "b8dc2979-6be8-430a-81f9-99c2cdfee2c9",
   "metadata": {
    "tags": []
   },
   "outputs": [
    {
     "data": {
      "text/plain": [
       "(528960, 4)"
      ]
     },
     "execution_count": 36,
     "metadata": {},
     "output_type": "execute_result"
    }
   ],
   "source": [
    "cits.shape"
   ]
  },
  {
   "cell_type": "code",
   "execution_count": 37,
   "id": "7239ce19-1442-473f-a776-111c098f36a0",
   "metadata": {
    "tags": []
   },
   "outputs": [],
   "source": [
    "cits.to_csv('author_performance.csv',index=0)"
   ]
  },
  {
   "cell_type": "code",
   "execution_count": null,
   "id": "7dfad4a7-86c5-4ac6-b96c-abeff6570455",
   "metadata": {},
   "outputs": [],
   "source": []
  }
 ],
 "metadata": {
  "kernelspec": {
   "display_name": "myenv",
   "language": "python",
   "name": "myenv"
  },
  "language_info": {
   "codemirror_mode": {
    "name": "ipython",
    "version": 3
   },
   "file_extension": ".py",
   "mimetype": "text/x-python",
   "name": "python",
   "nbconvert_exporter": "python",
   "pygments_lexer": "ipython3",
   "version": "3.11.3"
  }
 },
 "nbformat": 4,
 "nbformat_minor": 5
}
