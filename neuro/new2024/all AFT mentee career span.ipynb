{
 "cells": [
  {
   "cell_type": "code",
   "execution_count": 1,
   "id": "eca11bfb-7e9a-4184-8e9b-1db2db3eacc5",
   "metadata": {
    "tags": []
   },
   "outputs": [],
   "source": [
    "import pandas as pd\n",
    "import os\n",
    "import random\n",
    "import numpy as np\n",
    "import matplotlib.pyplot as plt\n",
    "import seaborn as sns"
   ]
  },
  {
   "cell_type": "code",
   "execution_count": 10,
   "id": "0225675e-1b42-42d8-b9ec-0955b262faef",
   "metadata": {
    "tags": []
   },
   "outputs": [],
   "source": [
    "from sqlalchemy import create_engine\n",
    "engine = create_engine(\"mysql+pymysql://{user}:{pw}@{host}:{port}/{db}?charset=utf8mb4\"\n",
    "                       .format(user=\"openalex_ym\",\n",
    "                               pw=\"openalex.ym\",\n",
    "                               host=\"172.18.18.167\",\n",
    "                               port=3306,\n",
    "                               db=\"openalex2022\"),\n",
    "                       )"
   ]
  },
  {
   "cell_type": "code",
   "execution_count": 22,
   "id": "7bee3340-ce0c-4036-81a6-356728e01770",
   "metadata": {
    "tags": []
   },
   "outputs": [],
   "source": [
    "Mtoship = pd.read_csv('pid_mag_openalex.csv')"
   ]
  },
  {
   "cell_type": "code",
   "execution_count": 23,
   "id": "cc96f23c-f4f7-40c4-b176-64fc12e1a5f4",
   "metadata": {
    "tags": []
   },
   "outputs": [
    {
     "data": {
      "text/plain": [
       "499386"
      ]
     },
     "execution_count": 23,
     "metadata": {},
     "output_type": "execute_result"
    }
   ],
   "source": [
    "len(Mtoship)"
   ]
  },
  {
   "cell_type": "code",
   "execution_count": 24,
   "id": "4b81aa47-6fe7-47f9-a555-4069a2552582",
   "metadata": {
    "tags": []
   },
   "outputs": [],
   "source": [
    "Mtoship = Mtoship[~Mtoship.author_id.isnull()]"
   ]
  },
  {
   "cell_type": "code",
   "execution_count": 25,
   "id": "8edc9343-bbd8-4484-8fe7-30c186dca952",
   "metadata": {
    "tags": []
   },
   "outputs": [
    {
     "data": {
      "text/plain": [
       "479837"
      ]
     },
     "execution_count": 25,
     "metadata": {},
     "output_type": "execute_result"
    }
   ],
   "source": [
    "len(Mtoship)"
   ]
  },
  {
   "cell_type": "code",
   "execution_count": 26,
   "id": "0bc07a99-c489-46f7-a71d-19ccfb1e8d46",
   "metadata": {
    "tags": []
   },
   "outputs": [
    {
     "data": {
      "text/html": [
       "<div>\n",
       "<style scoped>\n",
       "    .dataframe tbody tr th:only-of-type {\n",
       "        vertical-align: middle;\n",
       "    }\n",
       "\n",
       "    .dataframe tbody tr th {\n",
       "        vertical-align: top;\n",
       "    }\n",
       "\n",
       "    .dataframe thead th {\n",
       "        text-align: right;\n",
       "    }\n",
       "</style>\n",
       "<table border=\"1\" class=\"dataframe\">\n",
       "  <thead>\n",
       "    <tr style=\"text-align: right;\">\n",
       "      <th></th>\n",
       "      <th>PID</th>\n",
       "      <th>MAGAuthorID</th>\n",
       "      <th>author_id</th>\n",
       "    </tr>\n",
       "  </thead>\n",
       "  <tbody>\n",
       "    <tr>\n",
       "      <th>0</th>\n",
       "      <td>1</td>\n",
       "      <td>2.171828e+09</td>\n",
       "      <td>A2171827615</td>\n",
       "    </tr>\n",
       "    <tr>\n",
       "      <th>1</th>\n",
       "      <td>2</td>\n",
       "      <td>2.082173e+09</td>\n",
       "      <td>A2082172561</td>\n",
       "    </tr>\n",
       "    <tr>\n",
       "      <th>2</th>\n",
       "      <td>3</td>\n",
       "      <td>2.110166e+09</td>\n",
       "      <td>A2110165986</td>\n",
       "    </tr>\n",
       "    <tr>\n",
       "      <th>3</th>\n",
       "      <td>4</td>\n",
       "      <td>2.183264e+09</td>\n",
       "      <td>A2183263527</td>\n",
       "    </tr>\n",
       "    <tr>\n",
       "      <th>4</th>\n",
       "      <td>5</td>\n",
       "      <td>2.156587e+09</td>\n",
       "      <td>A2156586888</td>\n",
       "    </tr>\n",
       "  </tbody>\n",
       "</table>\n",
       "</div>"
      ],
      "text/plain": [
       "   PID   MAGAuthorID    author_id\n",
       "0    1  2.171828e+09  A2171827615\n",
       "1    2  2.082173e+09  A2082172561\n",
       "2    3  2.110166e+09  A2110165986\n",
       "3    4  2.183264e+09  A2183263527\n",
       "4    5  2.156587e+09  A2156586888"
      ]
     },
     "execution_count": 26,
     "metadata": {},
     "output_type": "execute_result"
    }
   ],
   "source": [
    "Mtoship.head(5)"
   ]
  },
  {
   "cell_type": "code",
   "execution_count": 27,
   "id": "475f12b4-ecbb-4fa3-936e-7f76df04b733",
   "metadata": {
    "tags": []
   },
   "outputs": [
    {
     "name": "stdout",
     "output_type": "stream",
     "text": [
      "472187\n"
     ]
    }
   ],
   "source": [
    "auid = list(set(Mtoship.author_id))\n",
    "print(len(auid))"
   ]
  },
  {
   "cell_type": "code",
   "execution_count": 28,
   "id": "5967e9ac-93c8-467e-ae27-b1ee1d1b2604",
   "metadata": {
    "tags": []
   },
   "outputs": [],
   "source": [
    "author_groups = []\n",
    "interval = 5000\n",
    "start_point = 0\n",
    "while True:\n",
    "    end_point = start_point + interval\n",
    "    try:\n",
    "        temp = auid[start_point:end_point]\n",
    "        author_groups.append(temp)\n",
    "    except:\n",
    "        temp = auid[start_point:]\n",
    "        author_groups.append(temp)\n",
    "        \n",
    "    start_point = end_point\n",
    "    if end_point>len(auid):\n",
    "        break"
   ]
  },
  {
   "cell_type": "code",
   "execution_count": 29,
   "id": "ae7d1df3-dfb5-4c5f-a2e8-c318c32cee1a",
   "metadata": {
    "tags": []
   },
   "outputs": [
    {
     "name": "stdout",
     "output_type": "stream",
     "text": [
      "95\n"
     ]
    }
   ],
   "source": [
    "l = len(author_groups)\n",
    "print(l)"
   ]
  },
  {
   "cell_type": "code",
   "execution_count": 30,
   "id": "c3fdb83c-d9c1-40fe-b2cf-ac2238e3a70d",
   "metadata": {
    "scrolled": true,
    "tags": []
   },
   "outputs": [
    {
     "name": "stdout",
     "output_type": "stream",
     "text": [
      "0\n",
      "1\n",
      "2\n",
      "3\n",
      "4\n",
      "5\n",
      "6\n",
      "7\n",
      "8\n",
      "9\n",
      "10\n",
      "11\n",
      "12\n",
      "13\n",
      "14\n",
      "15\n",
      "16\n",
      "17\n",
      "18\n",
      "19\n",
      "20\n",
      "21\n",
      "22\n",
      "23\n",
      "24\n",
      "25\n",
      "26\n",
      "27\n",
      "28\n",
      "29\n",
      "30\n",
      "31\n",
      "32\n",
      "33\n",
      "34\n",
      "35\n",
      "36\n",
      "37\n",
      "38\n",
      "39\n",
      "40\n",
      "41\n",
      "42\n",
      "43\n",
      "44\n",
      "45\n",
      "46\n",
      "47\n",
      "48\n",
      "49\n",
      "50\n",
      "51\n",
      "52\n",
      "53\n",
      "54\n",
      "55\n",
      "56\n",
      "57\n",
      "58\n",
      "59\n",
      "60\n",
      "61\n",
      "62\n",
      "63\n",
      "64\n",
      "65\n",
      "66\n",
      "67\n",
      "68\n",
      "69\n",
      "70\n",
      "71\n",
      "72\n",
      "73\n",
      "74\n",
      "75\n",
      "76\n",
      "77\n",
      "78\n",
      "79\n",
      "80\n",
      "81\n",
      "82\n",
      "83\n",
      "84\n",
      "85\n",
      "86\n",
      "87\n",
      "88\n",
      "89\n",
      "90\n",
      "91\n",
      "92\n",
      "93\n",
      "94\n"
     ]
    }
   ],
   "source": [
    "l = len(author_groups)\n",
    "for i in range(l):\n",
    "    print(i)\n",
    "    temp =  author_groups[i]\n",
    "    sql_query = \"\"\"select works_authorships.author_id, works_authorships.work_id\n",
    "\n",
    "                    from works_authorships \n",
    "\n",
    "                    where works_authorships.author_id in {}\n",
    "                    \"\"\".format(tuple(temp))\n",
    "\n",
    "\n",
    "    data = pd.read_sql(sql_query, con=engine)\n",
    "    # merge data\n",
    "    if i==0:\n",
    "        tp = data\n",
    "    else:\n",
    "        tp = pd.concat((tp,data))\n",
    "\n",
    "data = tp"
   ]
  },
  {
   "cell_type": "code",
   "execution_count": 31,
   "id": "f12c9779-955e-4a8b-8c7f-e1b9857a9e47",
   "metadata": {
    "tags": []
   },
   "outputs": [],
   "source": [
    "data.to_csv('all_AFT_mentee_pubs.csv',index=0)"
   ]
  },
  {
   "cell_type": "markdown",
   "id": "62b8e4d9-6279-4598-afd4-8f01a0c56d42",
   "metadata": {},
   "source": [
    "#### find paper_year"
   ]
  },
  {
   "cell_type": "code",
   "execution_count": 32,
   "id": "641e4018-3272-4487-a8d4-61bb52266d30",
   "metadata": {
    "tags": []
   },
   "outputs": [
    {
     "name": "stdout",
     "output_type": "stream",
     "text": [
      "18568113\n"
     ]
    }
   ],
   "source": [
    "paper = list(set(data.work_id))\n",
    "print(len(paper))"
   ]
  },
  {
   "cell_type": "code",
   "execution_count": 33,
   "id": "03114d1a-2c62-44a9-8323-dd8a961de66f",
   "metadata": {
    "tags": []
   },
   "outputs": [],
   "source": [
    "paper_groups = []\n",
    "interval = 5000\n",
    "start_point = 0\n",
    "while True:\n",
    "    end_point = start_point + interval\n",
    "    try:\n",
    "        temp = paper[start_point:end_point]\n",
    "        paper_groups.append(temp)\n",
    "    except:\n",
    "        temp = paper[start_point:]\n",
    "        paper_groups.append(temp)\n",
    "        \n",
    "    start_point = end_point\n",
    "    if end_point>len(paper):\n",
    "        break"
   ]
  },
  {
   "cell_type": "code",
   "execution_count": 34,
   "id": "f84ed16a-5309-4bfa-a2c8-f190c87b817f",
   "metadata": {
    "scrolled": true,
    "tags": []
   },
   "outputs": [
    {
     "name": "stdout",
     "output_type": "stream",
     "text": [
      "3714\n",
      "0\n",
      "10\n",
      "20\n",
      "30\n",
      "40\n",
      "50\n",
      "60\n",
      "70\n",
      "80\n",
      "90\n",
      "100\n",
      "110\n",
      "120\n",
      "130\n",
      "140\n",
      "150\n",
      "160\n",
      "170\n",
      "180\n",
      "190\n",
      "200\n",
      "210\n",
      "220\n",
      "230\n",
      "240\n",
      "250\n",
      "260\n",
      "270\n",
      "280\n",
      "290\n",
      "300\n",
      "310\n",
      "320\n",
      "330\n",
      "340\n",
      "350\n",
      "360\n",
      "370\n",
      "380\n",
      "390\n",
      "400\n",
      "410\n",
      "420\n",
      "430\n",
      "440\n",
      "450\n",
      "460\n",
      "470\n",
      "480\n",
      "490\n",
      "500\n",
      "510\n",
      "520\n",
      "530\n",
      "540\n",
      "550\n",
      "560\n",
      "570\n",
      "580\n",
      "590\n",
      "600\n",
      "610\n",
      "620\n",
      "630\n",
      "640\n",
      "650\n",
      "660\n",
      "670\n",
      "680\n",
      "690\n",
      "700\n",
      "710\n",
      "720\n",
      "730\n",
      "740\n",
      "750\n",
      "760\n",
      "770\n",
      "780\n",
      "790\n",
      "800\n",
      "810\n",
      "820\n",
      "830\n",
      "840\n",
      "850\n",
      "860\n",
      "870\n",
      "880\n",
      "890\n",
      "900\n",
      "910\n",
      "920\n",
      "930\n",
      "940\n",
      "950\n",
      "960\n",
      "970\n",
      "980\n",
      "990\n",
      "1000\n",
      "1010\n",
      "1020\n",
      "1030\n",
      "1040\n",
      "1050\n",
      "1060\n",
      "1070\n",
      "1080\n",
      "1090\n",
      "1100\n",
      "1110\n",
      "1120\n",
      "1130\n",
      "1140\n",
      "1150\n",
      "1160\n",
      "1170\n",
      "1180\n",
      "1190\n",
      "1200\n",
      "1210\n",
      "1220\n",
      "1230\n",
      "1240\n",
      "1250\n",
      "1260\n",
      "1270\n",
      "1280\n",
      "1290\n",
      "1300\n",
      "1310\n",
      "1320\n",
      "1330\n",
      "1340\n",
      "1350\n",
      "1360\n",
      "1370\n",
      "1380\n",
      "1390\n",
      "1400\n",
      "1410\n",
      "1420\n",
      "1430\n",
      "1440\n",
      "1450\n",
      "1460\n",
      "1470\n",
      "1480\n",
      "1490\n",
      "1500\n",
      "1510\n",
      "1520\n",
      "1530\n",
      "1540\n",
      "1550\n",
      "1560\n",
      "1570\n",
      "1580\n",
      "1590\n",
      "1600\n",
      "1610\n",
      "1620\n",
      "1630\n",
      "1640\n",
      "1650\n",
      "1660\n",
      "1670\n",
      "1680\n",
      "1690\n",
      "1700\n",
      "1710\n",
      "1720\n",
      "1730\n",
      "1740\n",
      "1750\n",
      "1760\n",
      "1770\n",
      "1780\n",
      "1790\n",
      "1800\n",
      "1810\n",
      "1820\n",
      "1830\n",
      "1840\n",
      "1850\n",
      "1860\n",
      "1870\n",
      "1880\n",
      "1890\n",
      "1900\n",
      "1910\n",
      "1920\n",
      "1930\n",
      "1940\n",
      "1950\n",
      "1960\n",
      "1970\n",
      "1980\n",
      "1990\n",
      "2000\n",
      "2010\n",
      "2020\n",
      "2030\n",
      "2040\n",
      "2050\n",
      "2060\n",
      "2070\n",
      "2080\n",
      "2090\n",
      "2100\n",
      "2110\n",
      "2120\n",
      "2130\n",
      "2140\n",
      "2150\n",
      "2160\n",
      "2170\n",
      "2180\n",
      "2190\n",
      "2200\n",
      "2210\n",
      "2220\n",
      "2230\n",
      "2240\n",
      "2250\n",
      "2260\n",
      "2270\n",
      "2280\n",
      "2290\n",
      "2300\n",
      "2310\n",
      "2320\n",
      "2330\n",
      "2340\n",
      "2350\n",
      "2360\n",
      "2370\n",
      "2380\n",
      "2390\n",
      "2400\n",
      "2410\n",
      "2420\n",
      "2430\n",
      "2440\n",
      "2450\n",
      "2460\n",
      "2470\n",
      "2480\n",
      "2490\n",
      "2500\n",
      "2510\n",
      "2520\n",
      "2530\n",
      "2540\n",
      "2550\n",
      "2560\n",
      "2570\n",
      "2580\n",
      "2590\n",
      "2600\n",
      "2610\n",
      "2620\n",
      "2630\n",
      "2640\n",
      "2650\n",
      "2660\n",
      "2670\n",
      "2680\n",
      "2690\n",
      "2700\n",
      "2710\n",
      "2720\n",
      "2730\n",
      "2740\n",
      "2750\n",
      "2760\n",
      "2770\n",
      "2780\n",
      "2790\n",
      "2800\n",
      "2810\n",
      "2820\n",
      "2830\n",
      "2840\n",
      "2850\n",
      "2860\n",
      "2870\n",
      "2880\n",
      "2890\n",
      "2900\n",
      "2910\n",
      "2920\n",
      "2930\n",
      "2940\n",
      "2950\n",
      "2960\n",
      "2970\n",
      "2980\n",
      "2990\n",
      "3000\n",
      "3010\n",
      "3020\n",
      "3030\n",
      "3040\n",
      "3050\n",
      "3060\n",
      "3070\n",
      "3080\n",
      "3090\n",
      "3100\n",
      "3110\n",
      "3120\n",
      "3130\n",
      "3140\n",
      "3150\n",
      "3160\n",
      "3170\n",
      "3180\n",
      "3190\n",
      "3200\n",
      "3210\n",
      "3220\n",
      "3230\n",
      "3240\n",
      "3250\n",
      "3260\n",
      "3270\n",
      "3280\n",
      "3290\n",
      "3300\n",
      "3310\n",
      "3320\n",
      "3330\n",
      "3340\n",
      "3350\n",
      "3360\n",
      "3370\n",
      "3380\n",
      "3390\n",
      "3400\n",
      "3410\n",
      "3420\n",
      "3430\n",
      "3440\n",
      "3450\n",
      "3460\n",
      "3470\n",
      "3480\n",
      "3490\n",
      "3500\n",
      "3510\n",
      "3520\n",
      "3530\n",
      "3540\n",
      "3550\n",
      "3560\n",
      "3570\n",
      "3580\n",
      "3590\n",
      "3600\n",
      "3610\n",
      "3620\n",
      "3630\n",
      "3640\n",
      "3650\n",
      "3660\n",
      "3670\n",
      "3680\n",
      "3690\n",
      "3700\n",
      "3710\n"
     ]
    }
   ],
   "source": [
    "l = len(paper_groups)\n",
    "print(l)\n",
    "for i in range(l):\n",
    "    temp =  paper_groups[i]\n",
    "    sql_query = \"\"\"select works.id, works.publication_year\n",
    "\n",
    "                    from works \n",
    "\n",
    "                    where works.id in {}\n",
    "                    \"\"\".format(tuple(temp))\n",
    "\n",
    "\n",
    "    data = pd.read_sql(sql_query, con=engine)\n",
    "    # merge data\n",
    "    if i==0:\n",
    "        tp = data\n",
    "    else:\n",
    "        tp = pd.concat((tp,data))\n",
    "    if i%10==0:\n",
    "        print(i)\n",
    "\n",
    "Data = tp"
   ]
  },
  {
   "cell_type": "code",
   "execution_count": 35,
   "id": "37413b81-5896-4128-b34a-8f308522b679",
   "metadata": {
    "tags": []
   },
   "outputs": [],
   "source": [
    "Data = Data.rename(columns={'id':'work_id'})"
   ]
  },
  {
   "cell_type": "code",
   "execution_count": 36,
   "id": "97d67a39-3b47-46e7-b725-f51521e660d9",
   "metadata": {
    "tags": []
   },
   "outputs": [],
   "source": [
    "data = pd.read_csv('all_AFT_mentee_pubs.csv')"
   ]
  },
  {
   "cell_type": "code",
   "execution_count": 37,
   "id": "c3ac85ba-36e2-4ec8-b27c-be4e0d26fc54",
   "metadata": {
    "tags": []
   },
   "outputs": [],
   "source": [
    "data = data.merge(Data,on='work_id',how='left')"
   ]
  },
  {
   "cell_type": "code",
   "execution_count": 39,
   "id": "355a9f07-a9a6-4abc-822b-15bf23a50185",
   "metadata": {
    "tags": []
   },
   "outputs": [],
   "source": [
    "# data.to_csv('all_AFT_mentee_pubs_year.csv',index=0)"
   ]
  },
  {
   "cell_type": "markdown",
   "id": "cbc4791d-12d2-47e9-ac76-d407d6d82656",
   "metadata": {},
   "source": [
    "##### fing career_span"
   ]
  },
  {
   "cell_type": "code",
   "execution_count": 40,
   "id": "21381a46-0a87-4e48-88cb-b5f1d7925129",
   "metadata": {
    "tags": []
   },
   "outputs": [],
   "source": [
    "author_year = data[['author_id','publication_year']].drop_duplicates()"
   ]
  },
  {
   "cell_type": "code",
   "execution_count": 41,
   "id": "13191f1c-f89e-4d6b-948e-d91d6b6f9d9c",
   "metadata": {
    "tags": []
   },
   "outputs": [],
   "source": [
    "idx = author_year.groupby(['author_id'])['publication_year'].transform(min) == author_year['publication_year'] #choose the minimum publication_year \n",
    "first_pub_year = author_year[idx]\n",
    "idx = author_year.groupby(['author_id'])['publication_year'].transform(max) == author_year['publication_year'] #choose the mamum publication_year \n",
    "last_pub_year = author_year[idx]\n",
    "\n",
    "first_pub_year = first_pub_year.merge(last_pub_year,on='author_id',how='left')\n",
    "first_pub_year = first_pub_year.rename(columns={'publication_year_x':'first_pub_year','publication_year_y':'last_pub_year'})\n",
    "first_pub_year['career_len'] = first_pub_year.last_pub_year - first_pub_year.first_pub_year"
   ]
  },
  {
   "cell_type": "code",
   "execution_count": 42,
   "id": "c7935f66-664c-4c52-b25e-ee46b7e6f64a",
   "metadata": {
    "tags": []
   },
   "outputs": [],
   "source": [
    "first_pub_year.to_csv('all_AFT_mentee_career_span.csv',index=0)"
   ]
  }
 ],
 "metadata": {
  "kernelspec": {
   "display_name": "myenv",
   "language": "python",
   "name": "myenv"
  },
  "language_info": {
   "codemirror_mode": {
    "name": "ipython",
    "version": 3
   },
   "file_extension": ".py",
   "mimetype": "text/x-python",
   "name": "python",
   "nbconvert_exporter": "python",
   "pygments_lexer": "ipython3",
   "version": "3.11.4"
  }
 },
 "nbformat": 4,
 "nbformat_minor": 5
}
