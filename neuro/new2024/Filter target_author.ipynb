{
 "cells": [
  {
   "cell_type": "code",
   "execution_count": 1,
   "id": "cd1c1163",
   "metadata": {
    "tags": []
   },
   "outputs": [],
   "source": [
    "import pandas as pd\n",
    "import seaborn as sns"
   ]
  },
  {
   "cell_type": "markdown",
   "id": "27bfa31f-5f75-4ce7-be70-17ff75a088dc",
   "metadata": {
    "tags": []
   },
   "source": [
    "#### Import AFT Data set"
   ]
  },
  {
   "cell_type": "markdown",
   "id": "eb28552c",
   "metadata": {},
   "source": [
    "##### mentorship"
   ]
  },
  {
   "cell_type": "code",
   "execution_count": 2,
   "id": "6cd8ecaa",
   "metadata": {
    "scrolled": true,
    "tags": []
   },
   "outputs": [],
   "source": [
    "Mtoship = pd.read_csv('neuro.csv')"
   ]
  },
  {
   "cell_type": "code",
   "execution_count": 3,
   "id": "99979448",
   "metadata": {
    "tags": []
   },
   "outputs": [
    {
     "data": {
      "text/html": [
       "<div>\n",
       "<style scoped>\n",
       "    .dataframe tbody tr th:only-of-type {\n",
       "        vertical-align: middle;\n",
       "    }\n",
       "\n",
       "    .dataframe tbody tr th {\n",
       "        vertical-align: top;\n",
       "    }\n",
       "\n",
       "    .dataframe thead th {\n",
       "        text-align: right;\n",
       "    }\n",
       "</style>\n",
       "<table border=\"1\" class=\"dataframe\">\n",
       "  <thead>\n",
       "    <tr style=\"text-align: right;\">\n",
       "      <th></th>\n",
       "      <th>Unnamed: 0</th>\n",
       "      <th>CID</th>\n",
       "      <th>MenteeID</th>\n",
       "      <th>MentorID</th>\n",
       "      <th>MentorshipType</th>\n",
       "      <th>Institution</th>\n",
       "      <th>InstitutionMAGID</th>\n",
       "      <th>StartYear</th>\n",
       "      <th>StopYear</th>\n",
       "    </tr>\n",
       "  </thead>\n",
       "  <tbody>\n",
       "    <tr>\n",
       "      <th>22703</th>\n",
       "      <td>27124</td>\n",
       "      <td>33877</td>\n",
       "      <td>16704</td>\n",
       "      <td>3851</td>\n",
       "      <td>2</td>\n",
       "      <td>University of Wisconsin, Madison</td>\n",
       "      <td>135310074.0</td>\n",
       "      <td>1991</td>\n",
       "      <td>1994</td>\n",
       "    </tr>\n",
       "  </tbody>\n",
       "</table>\n",
       "</div>"
      ],
      "text/plain": [
       "       Unnamed: 0    CID  MenteeID  MentorID  MentorshipType  \\\n",
       "22703       27124  33877     16704      3851               2   \n",
       "\n",
       "                            Institution  InstitutionMAGID  StartYear  StopYear  \n",
       "22703  University of Wisconsin, Madison       135310074.0       1991      1994  "
      ]
     },
     "execution_count": 3,
     "metadata": {},
     "output_type": "execute_result"
    }
   ],
   "source": [
    "Mtoship.sample(1)"
   ]
  },
  {
   "cell_type": "code",
   "execution_count": 4,
   "id": "f9e1b41a-6610-4511-8d4e-0300fbe22047",
   "metadata": {
    "tags": []
   },
   "outputs": [
    {
     "data": {
      "text/plain": [
       "<Axes: xlabel='StopYear', ylabel='Count'>"
      ]
     },
     "execution_count": 4,
     "metadata": {},
     "output_type": "execute_result"
    },
    {
     "data": {
      "image/png": "[encoded data removed]",
      "text/plain": [
       "<Figure size 640x480 with 1 Axes>"
      ]
     },
     "metadata": {},
     "output_type": "display_data"
    }
   ],
   "source": [
    "sns.histplot(data=Mtoship, x=\"StopYear\",binrange=[1800,2022])"
   ]
  },
  {
   "cell_type": "code",
   "execution_count": 5,
   "id": "b03a8430-43f4-437e-8700-a76c02ef4fd4",
   "metadata": {
    "tags": []
   },
   "outputs": [
    {
     "data": {
      "text/plain": [
       "0.6478100837429905"
      ]
     },
     "execution_count": 5,
     "metadata": {},
     "output_type": "execute_result"
    }
   ],
   "source": [
    "len(Mtoship[Mtoship.StopYear!=-1])/len(Mtoship)"
   ]
  },
  {
   "cell_type": "code",
   "execution_count": 6,
   "id": "a261aac1-1140-400c-88c9-8a903704c2a3",
   "metadata": {
    "tags": []
   },
   "outputs": [],
   "source": [
    "Mentor_StopYear = Mtoship[['MentorID','StopYear']][Mtoship.StopYear!=-1]"
   ]
  },
  {
   "cell_type": "code",
   "execution_count": 7,
   "id": "c1adf8aa-639f-4e7b-9511-abac158bbb47",
   "metadata": {
    "tags": []
   },
   "outputs": [
    {
     "data": {
      "text/html": [
       "<div>\n",
       "<style scoped>\n",
       "    .dataframe tbody tr th:only-of-type {\n",
       "        vertical-align: middle;\n",
       "    }\n",
       "\n",
       "    .dataframe tbody tr th {\n",
       "        vertical-align: top;\n",
       "    }\n",
       "\n",
       "    .dataframe thead th {\n",
       "        text-align: right;\n",
       "    }\n",
       "</style>\n",
       "<table border=\"1\" class=\"dataframe\">\n",
       "  <thead>\n",
       "    <tr style=\"text-align: right;\">\n",
       "      <th></th>\n",
       "      <th>MentorID</th>\n",
       "      <th>StopYear</th>\n",
       "    </tr>\n",
       "  </thead>\n",
       "  <tbody>\n",
       "    <tr>\n",
       "      <th>0</th>\n",
       "      <td>3</td>\n",
       "      <td>2005</td>\n",
       "    </tr>\n",
       "    <tr>\n",
       "      <th>1</th>\n",
       "      <td>3</td>\n",
       "      <td>2006</td>\n",
       "    </tr>\n",
       "    <tr>\n",
       "      <th>2</th>\n",
       "      <td>3</td>\n",
       "      <td>2008</td>\n",
       "    </tr>\n",
       "    <tr>\n",
       "      <th>3</th>\n",
       "      <td>9</td>\n",
       "      <td>1984</td>\n",
       "    </tr>\n",
       "    <tr>\n",
       "      <th>13</th>\n",
       "      <td>3</td>\n",
       "      <td>2006</td>\n",
       "    </tr>\n",
       "  </tbody>\n",
       "</table>\n",
       "</div>"
      ],
      "text/plain": [
       "    MentorID  StopYear\n",
       "0          3      2005\n",
       "1          3      2006\n",
       "2          3      2008\n",
       "3          9      1984\n",
       "13         3      2006"
      ]
     },
     "execution_count": 7,
     "metadata": {},
     "output_type": "execute_result"
    }
   ],
   "source": [
    "Mentor_StopYear.head(5)"
   ]
  },
  {
   "cell_type": "code",
   "execution_count": 8,
   "id": "b2fb3b6d-80ec-40a6-aa3a-77050af67fc0",
   "metadata": {
    "tags": []
   },
   "outputs": [],
   "source": [
    "idx = Mentor_StopYear.groupby(['MentorID'])['StopYear'].transform(min) == Mentor_StopYear['StopYear'] #choose the minimum StopYear \n",
    "Mentor_FirstYear = Mentor_StopYear[idx]"
   ]
  },
  {
   "cell_type": "code",
   "execution_count": 9,
   "id": "06965398-0920-4992-88f5-6b36e76e91ee",
   "metadata": {
    "scrolled": true,
    "tags": []
   },
   "outputs": [],
   "source": [
    "Mentor_FirstYear = Mentor_FirstYear.rename(columns={'StopYear':'FirstMenteeYear'})"
   ]
  },
  {
   "cell_type": "code",
   "execution_count": 10,
   "id": "2b9b95f2-912b-4e0f-a8d4-6adb9b540337",
   "metadata": {
    "tags": []
   },
   "outputs": [
    {
     "data": {
      "text/html": [
       "<div>\n",
       "<style scoped>\n",
       "    .dataframe tbody tr th:only-of-type {\n",
       "        vertical-align: middle;\n",
       "    }\n",
       "\n",
       "    .dataframe tbody tr th {\n",
       "        vertical-align: top;\n",
       "    }\n",
       "\n",
       "    .dataframe thead th {\n",
       "        text-align: right;\n",
       "    }\n",
       "</style>\n",
       "<table border=\"1\" class=\"dataframe\">\n",
       "  <thead>\n",
       "    <tr style=\"text-align: right;\">\n",
       "      <th></th>\n",
       "      <th>MentorID</th>\n",
       "      <th>FirstMenteeYear</th>\n",
       "    </tr>\n",
       "  </thead>\n",
       "  <tbody>\n",
       "    <tr>\n",
       "      <th>3</th>\n",
       "      <td>9</td>\n",
       "      <td>1984</td>\n",
       "    </tr>\n",
       "    <tr>\n",
       "      <th>28</th>\n",
       "      <td>3</td>\n",
       "      <td>2002</td>\n",
       "    </tr>\n",
       "    <tr>\n",
       "      <th>61</th>\n",
       "      <td>51</td>\n",
       "      <td>2000</td>\n",
       "    </tr>\n",
       "    <tr>\n",
       "      <th>78</th>\n",
       "      <td>52</td>\n",
       "      <td>1990</td>\n",
       "    </tr>\n",
       "    <tr>\n",
       "      <th>91</th>\n",
       "      <td>102</td>\n",
       "      <td>1982</td>\n",
       "    </tr>\n",
       "  </tbody>\n",
       "</table>\n",
       "</div>"
      ],
      "text/plain": [
       "    MentorID  FirstMenteeYear\n",
       "3          9             1984\n",
       "28         3             2002\n",
       "61        51             2000\n",
       "78        52             1990\n",
       "91       102             1982"
      ]
     },
     "execution_count": 10,
     "metadata": {},
     "output_type": "execute_result"
    }
   ],
   "source": [
    "Mentor_FirstYear.head(5)"
   ]
  },
  {
   "cell_type": "code",
   "execution_count": 11,
   "id": "9ba32b35-4b7c-465d-b5cf-a4d070e73482",
   "metadata": {
    "tags": []
   },
   "outputs": [
    {
     "data": {
      "text/plain": [
       "33709"
      ]
     },
     "execution_count": 11,
     "metadata": {},
     "output_type": "execute_result"
    }
   ],
   "source": [
    "len(Mentor_FirstYear)"
   ]
  },
  {
   "cell_type": "code",
   "execution_count": 12,
   "id": "26e0c9ae-52a6-4a66-b8aa-38476eeeb626",
   "metadata": {
    "tags": []
   },
   "outputs": [
    {
     "data": {
      "text/plain": [
       "<Axes: xlabel='FirstMenteeYear', ylabel='Probability'>"
      ]
     },
     "execution_count": 12,
     "metadata": {},
     "output_type": "execute_result"
    },
    {
     "data": {
      "image/png": "[encoded data removed]",
      "text/plain": [
       "<Figure size 640x480 with 1 Axes>"
      ]
     },
     "metadata": {},
     "output_type": "display_data"
    }
   ],
   "source": [
    "sns.histplot(data=Mentor_FirstYear, x=\"FirstMenteeYear\",binrange=[1800,2022],stat='probability',cumulative=True)"
   ]
  },
  {
   "cell_type": "markdown",
   "id": "69297a6e-bd81-45f3-a352-1799dadc831b",
   "metadata": {},
   "source": [
    "Check the result above"
   ]
  },
  {
   "cell_type": "code",
   "execution_count": 13,
   "id": "24c6c19c-9dc5-40a6-9ee9-b8054051c377",
   "metadata": {
    "scrolled": true,
    "tags": []
   },
   "outputs": [
    {
     "data": {
      "text/html": [
       "<div>\n",
       "<style scoped>\n",
       "    .dataframe tbody tr th:only-of-type {\n",
       "        vertical-align: middle;\n",
       "    }\n",
       "\n",
       "    .dataframe tbody tr th {\n",
       "        vertical-align: top;\n",
       "    }\n",
       "\n",
       "    .dataframe thead th {\n",
       "        text-align: right;\n",
       "    }\n",
       "</style>\n",
       "<table border=\"1\" class=\"dataframe\">\n",
       "  <thead>\n",
       "    <tr style=\"text-align: right;\">\n",
       "      <th></th>\n",
       "      <th>MentorID</th>\n",
       "      <th>StopYear</th>\n",
       "    </tr>\n",
       "  </thead>\n",
       "  <tbody>\n",
       "    <tr>\n",
       "      <th>225</th>\n",
       "      <td>245</td>\n",
       "      <td>1990</td>\n",
       "    </tr>\n",
       "    <tr>\n",
       "      <th>10087</th>\n",
       "      <td>245</td>\n",
       "      <td>1991</td>\n",
       "    </tr>\n",
       "    <tr>\n",
       "      <th>11715</th>\n",
       "      <td>245</td>\n",
       "      <td>2001</td>\n",
       "    </tr>\n",
       "    <tr>\n",
       "      <th>14136</th>\n",
       "      <td>245</td>\n",
       "      <td>1991</td>\n",
       "    </tr>\n",
       "    <tr>\n",
       "      <th>28842</th>\n",
       "      <td>245</td>\n",
       "      <td>2007</td>\n",
       "    </tr>\n",
       "    <tr>\n",
       "      <th>32450</th>\n",
       "      <td>245</td>\n",
       "      <td>1994</td>\n",
       "    </tr>\n",
       "    <tr>\n",
       "      <th>32451</th>\n",
       "      <td>245</td>\n",
       "      <td>1992</td>\n",
       "    </tr>\n",
       "    <tr>\n",
       "      <th>58189</th>\n",
       "      <td>245</td>\n",
       "      <td>2011</td>\n",
       "    </tr>\n",
       "    <tr>\n",
       "      <th>58191</th>\n",
       "      <td>245</td>\n",
       "      <td>2012</td>\n",
       "    </tr>\n",
       "    <tr>\n",
       "      <th>58192</th>\n",
       "      <td>245</td>\n",
       "      <td>2012</td>\n",
       "    </tr>\n",
       "    <tr>\n",
       "      <th>58193</th>\n",
       "      <td>245</td>\n",
       "      <td>2014</td>\n",
       "    </tr>\n",
       "    <tr>\n",
       "      <th>58194</th>\n",
       "      <td>245</td>\n",
       "      <td>2014</td>\n",
       "    </tr>\n",
       "    <tr>\n",
       "      <th>70561</th>\n",
       "      <td>245</td>\n",
       "      <td>2015</td>\n",
       "    </tr>\n",
       "    <tr>\n",
       "      <th>74085</th>\n",
       "      <td>245</td>\n",
       "      <td>2011</td>\n",
       "    </tr>\n",
       "    <tr>\n",
       "      <th>102428</th>\n",
       "      <td>245</td>\n",
       "      <td>2005</td>\n",
       "    </tr>\n",
       "    <tr>\n",
       "      <th>126792</th>\n",
       "      <td>245</td>\n",
       "      <td>2016</td>\n",
       "    </tr>\n",
       "    <tr>\n",
       "      <th>153360</th>\n",
       "      <td>245</td>\n",
       "      <td>2015</td>\n",
       "    </tr>\n",
       "  </tbody>\n",
       "</table>\n",
       "</div>"
      ],
      "text/plain": [
       "        MentorID  StopYear\n",
       "225          245      1990\n",
       "10087        245      1991\n",
       "11715        245      2001\n",
       "14136        245      1991\n",
       "28842        245      2007\n",
       "32450        245      1994\n",
       "32451        245      1992\n",
       "58189        245      2011\n",
       "58191        245      2012\n",
       "58192        245      2012\n",
       "58193        245      2014\n",
       "58194        245      2014\n",
       "70561        245      2015\n",
       "74085        245      2011\n",
       "102428       245      2005\n",
       "126792       245      2016\n",
       "153360       245      2015"
      ]
     },
     "execution_count": 13,
     "metadata": {},
     "output_type": "execute_result"
    }
   ],
   "source": [
    "Mentor_StopYear[Mentor_StopYear.MentorID==245]"
   ]
  },
  {
   "cell_type": "code",
   "execution_count": 14,
   "id": "2a8e202d-3919-4a66-a2e8-5137f9cf39a3",
   "metadata": {
    "tags": []
   },
   "outputs": [],
   "source": [
    "Mentor_FirstYear.to_csv('Mentor_FirstMenteeYear.csv',index=0)"
   ]
  },
  {
   "cell_type": "markdown",
   "id": "37cb40d1",
   "metadata": {},
   "source": [
    "##### researcher"
   ]
  },
  {
   "cell_type": "code",
   "execution_count": 15,
   "id": "5806d825",
   "metadata": {
    "tags": []
   },
   "outputs": [],
   "source": [
    "PeoInfo = pd.read_csv('researcher.csv')"
   ]
  },
  {
   "cell_type": "code",
   "execution_count": 16,
   "id": "88f5625c",
   "metadata": {
    "tags": []
   },
   "outputs": [
    {
     "data": {
      "text/html": [
       "<div>\n",
       "<style scoped>\n",
       "    .dataframe tbody tr th:only-of-type {\n",
       "        vertical-align: middle;\n",
       "    }\n",
       "\n",
       "    .dataframe tbody tr th {\n",
       "        vertical-align: top;\n",
       "    }\n",
       "\n",
       "    .dataframe thead th {\n",
       "        text-align: right;\n",
       "    }\n",
       "</style>\n",
       "<table border=\"1\" class=\"dataframe\">\n",
       "  <thead>\n",
       "    <tr style=\"text-align: right;\">\n",
       "      <th></th>\n",
       "      <th>PID</th>\n",
       "      <th>FirstName</th>\n",
       "      <th>MiddleName</th>\n",
       "      <th>LastName</th>\n",
       "      <th>Institution</th>\n",
       "      <th>InstitutionMAGID</th>\n",
       "      <th>ResearchArea</th>\n",
       "      <th>ORCID</th>\n",
       "      <th>MAGAuthorID</th>\n",
       "    </tr>\n",
       "  </thead>\n",
       "  <tbody>\n",
       "    <tr>\n",
       "      <th>317827</th>\n",
       "      <td>348895</td>\n",
       "      <td>THOMAS</td>\n",
       "      <td>M</td>\n",
       "      <td>OVER</td>\n",
       "      <td>Texas A &amp; M University</td>\n",
       "      <td>91045830.0</td>\n",
       "      <td>physics</td>\n",
       "      <td>NaN</td>\n",
       "      <td>2.303712e+09</td>\n",
       "    </tr>\n",
       "  </tbody>\n",
       "</table>\n",
       "</div>"
      ],
      "text/plain": [
       "           PID FirstName MiddleName LastName             Institution  \\\n",
       "317827  348895    THOMAS          M     OVER  Texas A & M University   \n",
       "\n",
       "        InstitutionMAGID ResearchArea ORCID   MAGAuthorID  \n",
       "317827        91045830.0      physics   NaN  2.303712e+09  "
      ]
     },
     "execution_count": 16,
     "metadata": {},
     "output_type": "execute_result"
    }
   ],
   "source": [
    "PeoInfo.sample(1)"
   ]
  },
  {
   "cell_type": "code",
   "execution_count": 17,
   "id": "c6d09f40-44c2-4cb8-9c73-1bd0e2c6e274",
   "metadata": {
    "tags": []
   },
   "outputs": [],
   "source": [
    "PeoInfo = PeoInfo.rename(columns={'PID':'MentorID'})"
   ]
  },
  {
   "cell_type": "code",
   "execution_count": 18,
   "id": "c6315747",
   "metadata": {
    "tags": []
   },
   "outputs": [],
   "source": [
    "Mentor_FirstYear = Mentor_FirstYear.merge(PeoInfo, on='MentorID',how='left')[['MentorID','MAGAuthorID','FirstMenteeYear']]"
   ]
  },
  {
   "cell_type": "code",
   "execution_count": 19,
   "id": "3ea72420",
   "metadata": {
    "tags": []
   },
   "outputs": [],
   "source": [
    "Mentor_FirstYear = Mentor_FirstYear[~Mentor_FirstYear.MAGAuthorID.isnull()]"
   ]
  },
  {
   "cell_type": "code",
   "execution_count": 20,
   "id": "dc1580f2-1220-4e5b-adf4-b91d56d71df4",
   "metadata": {
    "tags": []
   },
   "outputs": [
    {
     "data": {
      "text/html": [
       "<div>\n",
       "<style scoped>\n",
       "    .dataframe tbody tr th:only-of-type {\n",
       "        vertical-align: middle;\n",
       "    }\n",
       "\n",
       "    .dataframe tbody tr th {\n",
       "        vertical-align: top;\n",
       "    }\n",
       "\n",
       "    .dataframe thead th {\n",
       "        text-align: right;\n",
       "    }\n",
       "</style>\n",
       "<table border=\"1\" class=\"dataframe\">\n",
       "  <thead>\n",
       "    <tr style=\"text-align: right;\">\n",
       "      <th></th>\n",
       "      <th>MentorID</th>\n",
       "      <th>MAGAuthorID</th>\n",
       "      <th>FirstMenteeYear</th>\n",
       "    </tr>\n",
       "  </thead>\n",
       "  <tbody>\n",
       "    <tr>\n",
       "      <th>0</th>\n",
       "      <td>9</td>\n",
       "      <td>2.952982e+09</td>\n",
       "      <td>1984</td>\n",
       "    </tr>\n",
       "    <tr>\n",
       "      <th>1</th>\n",
       "      <td>3</td>\n",
       "      <td>2.110166e+09</td>\n",
       "      <td>2002</td>\n",
       "    </tr>\n",
       "    <tr>\n",
       "      <th>2</th>\n",
       "      <td>51</td>\n",
       "      <td>3.321924e+08</td>\n",
       "      <td>2000</td>\n",
       "    </tr>\n",
       "    <tr>\n",
       "      <th>3</th>\n",
       "      <td>52</td>\n",
       "      <td>7.025748e+08</td>\n",
       "      <td>1990</td>\n",
       "    </tr>\n",
       "    <tr>\n",
       "      <th>4</th>\n",
       "      <td>102</td>\n",
       "      <td>6.939312e+08</td>\n",
       "      <td>1982</td>\n",
       "    </tr>\n",
       "    <tr>\n",
       "      <th>...</th>\n",
       "      <td>...</td>\n",
       "      <td>...</td>\n",
       "      <td>...</td>\n",
       "    </tr>\n",
       "    <tr>\n",
       "      <th>33704</th>\n",
       "      <td>26878</td>\n",
       "      <td>2.259184e+08</td>\n",
       "      <td>2020</td>\n",
       "    </tr>\n",
       "    <tr>\n",
       "      <th>33705</th>\n",
       "      <td>839652</td>\n",
       "      <td>2.107955e+09</td>\n",
       "      <td>2016</td>\n",
       "    </tr>\n",
       "    <tr>\n",
       "      <th>33706</th>\n",
       "      <td>154914</td>\n",
       "      <td>2.048983e+09</td>\n",
       "      <td>2014</td>\n",
       "    </tr>\n",
       "    <tr>\n",
       "      <th>33707</th>\n",
       "      <td>14788</td>\n",
       "      <td>2.111146e+09</td>\n",
       "      <td>2022</td>\n",
       "    </tr>\n",
       "    <tr>\n",
       "      <th>33708</th>\n",
       "      <td>155716</td>\n",
       "      <td>2.023458e+09</td>\n",
       "      <td>2019</td>\n",
       "    </tr>\n",
       "  </tbody>\n",
       "</table>\n",
       "<p>28503 rows × 3 columns</p>\n",
       "</div>"
      ],
      "text/plain": [
       "       MentorID   MAGAuthorID  FirstMenteeYear\n",
       "0             9  2.952982e+09             1984\n",
       "1             3  2.110166e+09             2002\n",
       "2            51  3.321924e+08             2000\n",
       "3            52  7.025748e+08             1990\n",
       "4           102  6.939312e+08             1982\n",
       "...         ...           ...              ...\n",
       "33704     26878  2.259184e+08             2020\n",
       "33705    839652  2.107955e+09             2016\n",
       "33706    154914  2.048983e+09             2014\n",
       "33707     14788  2.111146e+09             2022\n",
       "33708    155716  2.023458e+09             2019\n",
       "\n",
       "[28503 rows x 3 columns]"
      ]
     },
     "execution_count": 20,
     "metadata": {},
     "output_type": "execute_result"
    }
   ],
   "source": [
    "Mentor_FirstYear"
   ]
  },
  {
   "cell_type": "code",
   "execution_count": 21,
   "id": "47fceebe",
   "metadata": {
    "tags": []
   },
   "outputs": [],
   "source": [
    "magId = [int(k) for k in list(Mentor_FirstYear.MAGAuthorID)]"
   ]
  },
  {
   "cell_type": "code",
   "execution_count": 22,
   "id": "c29d968f-9a78-4c9e-9c79-9a2e99d7bc12",
   "metadata": {
    "tags": []
   },
   "outputs": [],
   "source": [
    "from sqlalchemy import create_engine\n",
    "engine = create_engine(\"mysql+pymysql://{user}:{pw}@{host}:{port}/{db}?charset=utf8mb4\"\n",
    "                       .format(user=\"openalex_ym\",\n",
    "                               pw=\"openalex.ym\",\n",
    "                               host=\"172.18.18.167\",\n",
    "                               port=3306,\n",
    "                               db=\"openalex2022\"),\n",
    "                       )"
   ]
  },
  {
   "cell_type": "code",
   "execution_count": 23,
   "id": "d344e0d4-b2e5-4305-82cb-2f8523fca9b1",
   "metadata": {
    "tags": []
   },
   "outputs": [],
   "source": [
    "magId_groups = []\n",
    "interval = 5000\n",
    "start_point = 0\n",
    "while True:\n",
    "    end_point = start_point + interval\n",
    "    try:\n",
    "        temp = magId[start_point:end_point]\n",
    "        magId_groups.append(temp)\n",
    "    except:\n",
    "        temp = magId[start_point:]\n",
    "        magId_groups.append(temp)\n",
    "        \n",
    "    start_point = end_point\n",
    "    if end_point>len(magId):\n",
    "        break"
   ]
  },
  {
   "cell_type": "code",
   "execution_count": 24,
   "id": "52a924e2-3a3c-4871-85c0-000d0b348e3a",
   "metadata": {
    "tags": []
   },
   "outputs": [
    {
     "name": "stdout",
     "output_type": "stream",
     "text": [
      "6\n"
     ]
    }
   ],
   "source": [
    "print(len(magId_groups))"
   ]
  },
  {
   "cell_type": "code",
   "execution_count": 25,
   "id": "2d71d58c-4358-47fd-bf77-378e1709b29e",
   "metadata": {
    "tags": []
   },
   "outputs": [],
   "source": [
    "l = len(magId_groups)\n",
    "for i in range(l):\n",
    "    temp =  magId_groups[i]\n",
    "    sql_query = \"\"\"select authors_ids.author_id, authors_ids.mag \n",
    "\n",
    "                    from authors_ids \n",
    "\n",
    "                    where authors_ids.mag in {}\n",
    "                    \"\"\".format(tuple(temp))\n",
    "\n",
    "\n",
    "    data = pd.read_sql(sql_query, con=engine)\n",
    "    # merge data\n",
    "    if i==0:\n",
    "        tp = data\n",
    "    else:\n",
    "        tp = pd.concat((tp,data))\n",
    "\n",
    "data = tp"
   ]
  },
  {
   "cell_type": "code",
   "execution_count": 26,
   "id": "f1437b55-75e4-4841-b9a6-81327b69d7ff",
   "metadata": {
    "tags": []
   },
   "outputs": [],
   "source": [
    "data = data.rename(columns={'mag':'MAGAuthorID'})"
   ]
  },
  {
   "cell_type": "code",
   "execution_count": 27,
   "id": "515e30b4-2d4a-4ee6-bf2a-6732548c6c47",
   "metadata": {
    "tags": []
   },
   "outputs": [
    {
     "data": {
      "text/html": [
       "<div>\n",
       "<style scoped>\n",
       "    .dataframe tbody tr th:only-of-type {\n",
       "        vertical-align: middle;\n",
       "    }\n",
       "\n",
       "    .dataframe tbody tr th {\n",
       "        vertical-align: top;\n",
       "    }\n",
       "\n",
       "    .dataframe thead th {\n",
       "        text-align: right;\n",
       "    }\n",
       "</style>\n",
       "<table border=\"1\" class=\"dataframe\">\n",
       "  <thead>\n",
       "    <tr style=\"text-align: right;\">\n",
       "      <th></th>\n",
       "      <th>author_id</th>\n",
       "      <th>MAGAuthorID</th>\n",
       "    </tr>\n",
       "  </thead>\n",
       "  <tbody>\n",
       "    <tr>\n",
       "      <th>0</th>\n",
       "      <td>A367921</td>\n",
       "      <td>367921</td>\n",
       "    </tr>\n",
       "    <tr>\n",
       "      <th>1</th>\n",
       "      <td>A980010</td>\n",
       "      <td>980010</td>\n",
       "    </tr>\n",
       "    <tr>\n",
       "      <th>2</th>\n",
       "      <td>A1121383</td>\n",
       "      <td>1121383</td>\n",
       "    </tr>\n",
       "    <tr>\n",
       "      <th>3</th>\n",
       "      <td>A1378751</td>\n",
       "      <td>1378751</td>\n",
       "    </tr>\n",
       "    <tr>\n",
       "      <th>4</th>\n",
       "      <td>A2229241</td>\n",
       "      <td>2229241</td>\n",
       "    </tr>\n",
       "    <tr>\n",
       "      <th>...</th>\n",
       "      <td>...</td>\n",
       "      <td>...</td>\n",
       "    </tr>\n",
       "    <tr>\n",
       "      <th>3298</th>\n",
       "      <td>A3042051828</td>\n",
       "      <td>3042051828</td>\n",
       "    </tr>\n",
       "    <tr>\n",
       "      <th>3299</th>\n",
       "      <td>A3043216625</td>\n",
       "      <td>3043216625</td>\n",
       "    </tr>\n",
       "    <tr>\n",
       "      <th>3300</th>\n",
       "      <td>A3049095968</td>\n",
       "      <td>3049095968</td>\n",
       "    </tr>\n",
       "    <tr>\n",
       "      <th>3301</th>\n",
       "      <td>A3049417342</td>\n",
       "      <td>3049417342</td>\n",
       "    </tr>\n",
       "    <tr>\n",
       "      <th>3302</th>\n",
       "      <td>A3049454658</td>\n",
       "      <td>3049454658</td>\n",
       "    </tr>\n",
       "  </tbody>\n",
       "</table>\n",
       "<p>25277 rows × 2 columns</p>\n",
       "</div>"
      ],
      "text/plain": [
       "        author_id  MAGAuthorID\n",
       "0         A367921       367921\n",
       "1         A980010       980010\n",
       "2        A1121383      1121383\n",
       "3        A1378751      1378751\n",
       "4        A2229241      2229241\n",
       "...           ...          ...\n",
       "3298  A3042051828   3042051828\n",
       "3299  A3043216625   3043216625\n",
       "3300  A3049095968   3049095968\n",
       "3301  A3049417342   3049417342\n",
       "3302  A3049454658   3049454658\n",
       "\n",
       "[25277 rows x 2 columns]"
      ]
     },
     "execution_count": 27,
     "metadata": {},
     "output_type": "execute_result"
    }
   ],
   "source": [
    "data"
   ]
  },
  {
   "cell_type": "code",
   "execution_count": 28,
   "id": "3f5cbe09-b177-465c-8949-e2e6d265e362",
   "metadata": {
    "tags": []
   },
   "outputs": [],
   "source": [
    "data = data.merge(Mentor_FirstYear,on='MAGAuthorID',how='left')"
   ]
  },
  {
   "cell_type": "code",
   "execution_count": 29,
   "id": "686c3f22-8b14-4cbe-99f6-edab13d8dca1",
   "metadata": {
    "tags": []
   },
   "outputs": [],
   "source": [
    "data = data.rename(columns={'MentorID':'AFTMentorID'})"
   ]
  },
  {
   "cell_type": "code",
   "execution_count": 30,
   "id": "dae01f99-e297-4f86-a1a9-d84b392893e8",
   "metadata": {
    "tags": []
   },
   "outputs": [
    {
     "data": {
      "text/html": [
       "<div>\n",
       "<style scoped>\n",
       "    .dataframe tbody tr th:only-of-type {\n",
       "        vertical-align: middle;\n",
       "    }\n",
       "\n",
       "    .dataframe tbody tr th {\n",
       "        vertical-align: top;\n",
       "    }\n",
       "\n",
       "    .dataframe thead th {\n",
       "        text-align: right;\n",
       "    }\n",
       "</style>\n",
       "<table border=\"1\" class=\"dataframe\">\n",
       "  <thead>\n",
       "    <tr style=\"text-align: right;\">\n",
       "      <th></th>\n",
       "      <th>author_id</th>\n",
       "      <th>MAGAuthorID</th>\n",
       "      <th>AFTMentorID</th>\n",
       "      <th>FirstMenteeYear</th>\n",
       "    </tr>\n",
       "  </thead>\n",
       "  <tbody>\n",
       "    <tr>\n",
       "      <th>0</th>\n",
       "      <td>A367921</td>\n",
       "      <td>367921</td>\n",
       "      <td>2488</td>\n",
       "      <td>2000</td>\n",
       "    </tr>\n",
       "    <tr>\n",
       "      <th>1</th>\n",
       "      <td>A980010</td>\n",
       "      <td>980010</td>\n",
       "      <td>12407</td>\n",
       "      <td>1991</td>\n",
       "    </tr>\n",
       "    <tr>\n",
       "      <th>2</th>\n",
       "      <td>A1121383</td>\n",
       "      <td>1121383</td>\n",
       "      <td>11355</td>\n",
       "      <td>2009</td>\n",
       "    </tr>\n",
       "    <tr>\n",
       "      <th>3</th>\n",
       "      <td>A1378751</td>\n",
       "      <td>1378751</td>\n",
       "      <td>18791</td>\n",
       "      <td>1999</td>\n",
       "    </tr>\n",
       "    <tr>\n",
       "      <th>4</th>\n",
       "      <td>A2229241</td>\n",
       "      <td>2229241</td>\n",
       "      <td>27837</td>\n",
       "      <td>2006</td>\n",
       "    </tr>\n",
       "    <tr>\n",
       "      <th>...</th>\n",
       "      <td>...</td>\n",
       "      <td>...</td>\n",
       "      <td>...</td>\n",
       "      <td>...</td>\n",
       "    </tr>\n",
       "    <tr>\n",
       "      <th>29006</th>\n",
       "      <td>A3042051828</td>\n",
       "      <td>3042051828</td>\n",
       "      <td>16828</td>\n",
       "      <td>2019</td>\n",
       "    </tr>\n",
       "    <tr>\n",
       "      <th>29007</th>\n",
       "      <td>A3043216625</td>\n",
       "      <td>3043216625</td>\n",
       "      <td>48602</td>\n",
       "      <td>2014</td>\n",
       "    </tr>\n",
       "    <tr>\n",
       "      <th>29008</th>\n",
       "      <td>A3049095968</td>\n",
       "      <td>3049095968</td>\n",
       "      <td>8536</td>\n",
       "      <td>2018</td>\n",
       "    </tr>\n",
       "    <tr>\n",
       "      <th>29009</th>\n",
       "      <td>A3049417342</td>\n",
       "      <td>3049417342</td>\n",
       "      <td>372362</td>\n",
       "      <td>2012</td>\n",
       "    </tr>\n",
       "    <tr>\n",
       "      <th>29010</th>\n",
       "      <td>A3049454658</td>\n",
       "      <td>3049454658</td>\n",
       "      <td>13417</td>\n",
       "      <td>1977</td>\n",
       "    </tr>\n",
       "  </tbody>\n",
       "</table>\n",
       "<p>29011 rows × 4 columns</p>\n",
       "</div>"
      ],
      "text/plain": [
       "         author_id  MAGAuthorID  AFTMentorID  FirstMenteeYear\n",
       "0          A367921       367921         2488             2000\n",
       "1          A980010       980010        12407             1991\n",
       "2         A1121383      1121383        11355             2009\n",
       "3         A1378751      1378751        18791             1999\n",
       "4         A2229241      2229241        27837             2006\n",
       "...            ...          ...          ...              ...\n",
       "29006  A3042051828   3042051828        16828             2019\n",
       "29007  A3043216625   3043216625        48602             2014\n",
       "29008  A3049095968   3049095968         8536             2018\n",
       "29009  A3049417342   3049417342       372362             2012\n",
       "29010  A3049454658   3049454658        13417             1977\n",
       "\n",
       "[29011 rows x 4 columns]"
      ]
     },
     "execution_count": 30,
     "metadata": {},
     "output_type": "execute_result"
    }
   ],
   "source": [
    "data"
   ]
  },
  {
   "cell_type": "code",
   "execution_count": 31,
   "id": "0f4f1bdc-f105-4e5e-895b-4098abcec1b9",
   "metadata": {
    "tags": []
   },
   "outputs": [],
   "source": [
    "data.to_csv('target_author.csv',index=0)"
   ]
  },
  {
   "cell_type": "code",
   "execution_count": null,
   "id": "45cb8a7b-3734-49a6-bae8-02ba4e4d983d",
   "metadata": {},
   "outputs": [],
   "source": []
  }
 ],
 "metadata": {
  "kernelspec": {
   "display_name": "myenv",
   "language": "python",
   "name": "myenv"
  },
  "language_info": {
   "codemirror_mode": {
    "name": "ipython",
    "version": 3
   },
   "file_extension": ".py",
   "mimetype": "text/x-python",
   "name": "python",
   "nbconvert_exporter": "python",
   "pygments_lexer": "ipython3",
   "version": "3.11.4"
  }
 },
 "nbformat": 4,
 "nbformat_minor": 5
}
