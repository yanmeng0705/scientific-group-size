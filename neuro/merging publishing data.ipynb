{
 "cells": [
  {
   "cell_type": "code",
   "execution_count": 1,
   "id": "2a50a87a",
   "metadata": {},
   "outputs": [],
   "source": [
    "import pandas as pd\n",
    "import numpy as np\n",
    "import csv\n",
    "import pickle\n",
    "from collections import Counter\n",
    "import matplotlib.pyplot as plt\n",
    "import powerlaw,math\n",
    "import os\n",
    "import scipy.stats as stats\n",
    "import random\n",
    "from numpy import polyfit, poly1d"
   ]
  },
  {
   "cell_type": "code",
   "execution_count": 2,
   "id": "1215d104",
   "metadata": {},
   "outputs": [
    {
     "ename": "FileNotFoundError",
     "evalue": "[Errno 2] No such file or directory: 'neuro pubs'",
     "output_type": "error",
     "traceback": [
      "\u001b[0;31m---------------------------------------------------------------------------\u001b[0m",
      "\u001b[0;31mFileNotFoundError\u001b[0m                         Traceback (most recent call last)",
      "\u001b[0;32m<ipython-input-2-fbaf0cdb0c71>\u001b[0m in \u001b[0;36m<module>\u001b[0;34m\u001b[0m\n\u001b[0;32m----> 1\u001b[0;31m \u001b[0mfiles\u001b[0m \u001b[0;34m=\u001b[0m \u001b[0mos\u001b[0m\u001b[0;34m.\u001b[0m\u001b[0mlistdir\u001b[0m\u001b[0;34m(\u001b[0m\u001b[0;34m'neuro pubs'\u001b[0m\u001b[0;34m)\u001b[0m\u001b[0;34m\u001b[0m\u001b[0;34m\u001b[0m\u001b[0m\n\u001b[0m",
      "\u001b[0;31mFileNotFoundError\u001b[0m: [Errno 2] No such file or directory: 'neuro pubs'"
     ]
    }
   ],
   "source": [
    "files = os.listdir('neuro pubs')"
   ]
  },
  {
   "cell_type": "code",
   "execution_count": 3,
   "id": "efc4638a",
   "metadata": {},
   "outputs": [],
   "source": [
    "TP = {}\n",
    "for k in files:\n",
    "    try:\n",
    "        with open('neuro pubs/'+k,'rb')as f:\n",
    "            tp = pickle.load(f)\n",
    "        for i in tp:\n",
    "            TP[i] = tp[i]\n",
    "    except:\n",
    "        print(k)"
   ]
  },
  {
   "cell_type": "code",
   "execution_count": 4,
   "id": "af06ab6e",
   "metadata": {
    "scrolled": true
   },
   "outputs": [
    {
     "name": "stdout",
     "output_type": "stream",
     "text": [
      "62780\n"
     ]
    }
   ],
   "source": [
    "pub_chemistry0 = TP\n",
    "print(len(pub_chemistry0))"
   ]
  },
  {
   "cell_type": "code",
   "execution_count": 5,
   "id": "fcbc880a",
   "metadata": {},
   "outputs": [],
   "source": [
    "#将生涯长度为0的做调整 (career length == 0)\n",
    "pub_chemistry = {}\n",
    "empty=[]\n",
    "nopa = []\n",
    "for k in pub_chemistry0:\n",
    "    tp = pub_chemistry0[k]\n",
    "    if len(tp)>0:\n",
    "        cl = tp[2]\n",
    "        if cl==1:\n",
    "            empty.append(k)\n",
    "            tp[3] = tp[0]  # 0总发文量 total pubs\n",
    "            tp[6] = tp[5]  # 5总引用 total citations\n",
    "            tp[9] = tp[8]  # 8总合作者数 total coauthors\n",
    "        else:\n",
    "            tp = tp\n",
    "    else:\n",
    "        nopa.append(k)\n",
    "        tp = tp\n",
    "    pub_chemistry[k] = tp"
   ]
  },
  {
   "cell_type": "code",
   "execution_count": 40,
   "id": "1d723ab3",
   "metadata": {},
   "outputs": [],
   "source": [
    "# neuro = pd.read_csv('neuro_1225.csv')\n",
    "neuro = pd.read_csv('neuro_0124.csv')\n",
    "# neuro = neuro[(neuro.StopYear<=1995)&(neuro.StopYear>=1960)]"
   ]
  },
  {
   "cell_type": "code",
   "execution_count": 41,
   "id": "b5453c54",
   "metadata": {},
   "outputs": [],
   "source": [
    "Neuro = pd.read_csv('neuro.csv')\n",
    "MTO = np.array(Neuro.MentorID)"
   ]
  },
  {
   "cell_type": "code",
   "execution_count": 42,
   "id": "a90c3c12",
   "metadata": {},
   "outputs": [
    {
     "data": {
      "text/plain": [
       "(7431, 31)"
      ]
     },
     "execution_count": 42,
     "metadata": {},
     "output_type": "execute_result"
    }
   ],
   "source": [
    "neuro.shape"
   ]
  },
  {
   "cell_type": "code",
   "execution_count": 43,
   "id": "2df4e4e1",
   "metadata": {},
   "outputs": [
    {
     "data": {
      "text/html": [
       "<div>\n",
       "<style scoped>\n",
       "    .dataframe tbody tr th:only-of-type {\n",
       "        vertical-align: middle;\n",
       "    }\n",
       "\n",
       "    .dataframe tbody tr th {\n",
       "        vertical-align: top;\n",
       "    }\n",
       "\n",
       "    .dataframe thead th {\n",
       "        text-align: right;\n",
       "    }\n",
       "</style>\n",
       "<table border=\"1\" class=\"dataframe\">\n",
       "  <thead>\n",
       "    <tr style=\"text-align: right;\">\n",
       "      <th></th>\n",
       "      <th>CID</th>\n",
       "      <th>MenteeID</th>\n",
       "      <th>MentorID</th>\n",
       "      <th>MentorshipType</th>\n",
       "      <th>Institution</th>\n",
       "      <th>InstitutionMAGID</th>\n",
       "      <th>StartYear</th>\n",
       "      <th>StopYear</th>\n",
       "      <th>NumOfMenteesOfTheMentor</th>\n",
       "      <th>NumOfMenteesOfTheMentor10</th>\n",
       "      <th>...</th>\n",
       "      <th>YearOfTheFirstPubsOfMenteePubs</th>\n",
       "      <th>First5YearPubsOfMentee</th>\n",
       "      <th>First5YearCitationOfMentee</th>\n",
       "      <th>First5YearCollaOfMentee</th>\n",
       "      <th>YearlyPubsOfMentee</th>\n",
       "      <th>YearlyCitationOfMentee</th>\n",
       "      <th>BirthYearOfMentee</th>\n",
       "      <th>CareerAgeOfMentorInTraining</th>\n",
       "      <th>PubsOfMentorInTraning</th>\n",
       "      <th>CollaPubsOfWithMentor</th>\n",
       "    </tr>\n",
       "  </thead>\n",
       "  <tbody>\n",
       "    <tr>\n",
       "      <th>0</th>\n",
       "      <td>6</td>\n",
       "      <td>18761</td>\n",
       "      <td>9</td>\n",
       "      <td>1</td>\n",
       "      <td>University of California, Berkeley</td>\n",
       "      <td>95457486.0</td>\n",
       "      <td>-1</td>\n",
       "      <td>1984</td>\n",
       "      <td>1</td>\n",
       "      <td>1</td>\n",
       "      <td>...</td>\n",
       "      <td>1986.0</td>\n",
       "      <td>19</td>\n",
       "      <td>1487</td>\n",
       "      <td>25</td>\n",
       "      <td>7.666667</td>\n",
       "      <td>880.611111</td>\n",
       "      <td>1984.0</td>\n",
       "      <td>21.0</td>\n",
       "      <td>3</td>\n",
       "      <td>0</td>\n",
       "    </tr>\n",
       "  </tbody>\n",
       "</table>\n",
       "<p>1 rows × 31 columns</p>\n",
       "</div>"
      ],
      "text/plain": [
       "   CID  MenteeID  MentorID  MentorshipType  \\\n",
       "0    6     18761         9               1   \n",
       "\n",
       "                          Institution  InstitutionMAGID  StartYear  StopYear  \\\n",
       "0  University of California, Berkeley        95457486.0         -1      1984   \n",
       "\n",
       "   NumOfMenteesOfTheMentor  NumOfMenteesOfTheMentor10  ...  \\\n",
       "0                        1                          1  ...   \n",
       "\n",
       "   YearOfTheFirstPubsOfMenteePubs  First5YearPubsOfMentee  \\\n",
       "0                          1986.0                      19   \n",
       "\n",
       "   First5YearCitationOfMentee  First5YearCollaOfMentee  YearlyPubsOfMentee  \\\n",
       "0                        1487                       25            7.666667   \n",
       "\n",
       "   YearlyCitationOfMentee  BirthYearOfMentee  CareerAgeOfMentorInTraining  \\\n",
       "0              880.611111             1984.0                         21.0   \n",
       "\n",
       "   PubsOfMentorInTraning  CollaPubsOfWithMentor  \n",
       "0                      3                      0  \n",
       "\n",
       "[1 rows x 31 columns]"
      ]
     },
     "execution_count": 43,
     "metadata": {},
     "output_type": "execute_result"
    }
   ],
   "source": [
    "neuro.head(1)"
   ]
  },
  {
   "cell_type": "code",
   "execution_count": 44,
   "id": "81add906",
   "metadata": {},
   "outputs": [
    {
     "name": "stdout",
     "output_type": "stream",
     "text": [
      "1976\n",
      "1995\n"
     ]
    }
   ],
   "source": [
    "StopYear = neuro.StopYear\n",
    "print(min(StopYear))\n",
    "print(max(StopYear))"
   ]
  },
  {
   "cell_type": "code",
   "execution_count": 45,
   "id": "85df491b",
   "metadata": {
    "scrolled": true
   },
   "outputs": [
    {
     "name": "stdout",
     "output_type": "stream",
     "text": [
      "2.0\n"
     ]
    },
    {
     "data": {
      "image/png": "[encoded data removed]",
      "text/plain": [
       "<Figure size 432x288 with 1 Axes>"
      ]
     },
     "metadata": {
      "needs_background": "light"
     },
     "output_type": "display_data"
    }
   ],
   "source": [
    "# tp = neuro.NumOfMenteesOfTheMentor\n",
    "tp = neuro.NumOfMenteesOfTheMentor10\n",
    "plt.hist(tp,range=[0,20],bins=10)\n",
    "print(np.median(tp))"
   ]
  },
  {
   "cell_type": "code",
   "execution_count": 48,
   "id": "a5d0b9e8",
   "metadata": {},
   "outputs": [
    {
     "data": {
      "text/plain": [
       "(7431, 31)"
      ]
     },
     "execution_count": 48,
     "metadata": {},
     "output_type": "execute_result"
    }
   ],
   "source": [
    "neuro.shape"
   ]
  },
  {
   "cell_type": "code",
   "execution_count": 49,
   "id": "7c2b5b8a",
   "metadata": {},
   "outputs": [],
   "source": [
    "# 在进行退出率的相关计算时，以所有的学生数为参考 (survival rate)\n",
    "TP = []\n",
    "for k in neuro.MenteeID:\n",
    "    if k in MTO:\n",
    "        TP.append(1)\n",
    "    else:\n",
    "        TP.append(0)\n",
    "neuro['Survival0'] = TP              \n",
    "# neuro = neuro[neuro.StopYear<2000]"
   ]
  },
  {
   "cell_type": "code",
   "execution_count": 50,
   "id": "e81dceb4",
   "metadata": {},
   "outputs": [
    {
     "name": "stdout",
     "output_type": "stream",
     "text": [
      "0.42895586652314316\n",
      "0.6984126984126984\n"
     ]
    }
   ],
   "source": [
    "#测试大小团队中的生存率 (test survial rate)\n",
    "all_big = neuro['MenteeID'][neuro.BigOrSmall==1]\n",
    "all_small = neuro['MenteeID'][neuro.BigOrSmall==0]\n",
    "sb = neuro['MenteeID'][neuro.Survival0==1]\n",
    "sur_big = all_big[all_big.isin(sb)]\n",
    "sur_small = all_small[all_small.isin(sb)]\n",
    "print(len(sur_big)/len(all_big))\n",
    "print(len(sur_small)/len(all_small))"
   ]
  },
  {
   "cell_type": "code",
   "execution_count": 51,
   "id": "032b8828",
   "metadata": {},
   "outputs": [],
   "source": [
    "#在进行学生表现的相关计算时，以前20年是否招到学生作为活下的参照 (fecundity)\n",
    "TP = [] \n",
    "for k in neuro.NumOfMenteesOfTheMenteeIn20:\n",
    "    if k>0:\n",
    "        TP.append(1)\n",
    "    else:\n",
    "        TP.append(0)\n",
    "neuro['Survival1'] = TP              "
   ]
  },
  {
   "cell_type": "code",
   "execution_count": 52,
   "id": "b2c683b4",
   "metadata": {},
   "outputs": [],
   "source": [
    "#测试大小团队中的生存率 (test survival rate)\n",
    "all_big = neuro['MenteeID'][neuro.BigOrSmall==1]\n",
    "all_small = neuro['MenteeID'][neuro.BigOrSmall==0]\n",
    "sb = neuro['MenteeID'][neuro.Survival1==1]\n",
    "sur_big = all_big[all_big.isin(sb)]\n",
    "sur_small = all_small[all_small.isin(sb)]"
   ]
  },
  {
   "cell_type": "code",
   "execution_count": 53,
   "id": "f109d619",
   "metadata": {},
   "outputs": [
    {
     "name": "stdout",
     "output_type": "stream",
     "text": [
      "0.36167922497308935\n",
      "0.5903987611304684\n"
     ]
    }
   ],
   "source": [
    "print(len(sur_big)/len(all_big))\n",
    "print(len(sur_small)/len(all_small))"
   ]
  },
  {
   "cell_type": "markdown",
   "id": "0b3965c3",
   "metadata": {},
   "source": [
    "##### 只选择1995年之前的学生 (mentees before 1995)"
   ]
  },
  {
   "cell_type": "code",
   "execution_count": 54,
   "id": "96f6445f",
   "metadata": {},
   "outputs": [],
   "source": [
    "#补充老师的文章属性信息 (mentors' attributes)\n",
    "attri = ['TotalPubsOfMentor','YearOfTheFirstPubsOfMentorPubs','YearlyPubsOfMentor','TotalCitationOfMentor',\n",
    "         'YearlyCitationOfMentor','TotalCollaOfMentor','YearllyCollaOfMentor',\n",
    "        ]\n",
    "index = [0,1,3,5,6,8,9]\n",
    "for i in range(len(attri)):\n",
    "    atr = attri[i]\n",
    "    if atr!='YearOfTheFirstPubsOfMentorPubs':\n",
    "        TP = []\n",
    "        for k in neuro.MentorID:\n",
    "            try:\n",
    "                tp = pub_chemistry[k][index[i]]\n",
    "            except:\n",
    "                tp = 0                            #在 mag 中没有找到该作者的发表信息 (no information)\n",
    "            TP.append(tp)\n",
    "    else:\n",
    "        TP = []\n",
    "        for k in neuro.MentorID:\n",
    "            try:\n",
    "                tp = pub_chemistry[k][index[i]]\n",
    "            except:\n",
    "                tp = -1                            #在 mag 中没有找到该作者的发表信息,则第一篇文章发表年份记为 -1  (marked as -1)\n",
    "            TP.append(tp)\n",
    "    neuro[atr] = TP "
   ]
  },
  {
   "cell_type": "code",
   "execution_count": 55,
   "id": "f675ce51",
   "metadata": {},
   "outputs": [],
   "source": [
    "#补充学生的文章属性信息 (mentees' attributes)\n",
    "attri = ['YearOfTheFirstPubsOfMenteePubs','First5YearPubsOfMentee','First5YearCitationOfMentee',\n",
    "         'First5YearCollaOfMentee','YearlyPubsOfMentee','YearlyCitationOfMentee','TotalCitationOfMentee']\n",
    "index = [1,4,7,10,3,6,5]\n",
    "for i in range(len(attri)):\n",
    "    atr = attri[i]\n",
    "    if atr!='YearOfTheFirstPubsOfMenteePubs':\n",
    "        TP = []\n",
    "        for k in neuro.MenteeID:\n",
    "            try:\n",
    "                tp = pub_chemistry[k][index[i]]\n",
    "            except:\n",
    "                tp = 0                            #在 mag 中没有找到该作者的发表信息 (no information)\n",
    "            TP.append(tp)\n",
    "        \n",
    "    else:\n",
    "        TP = []\n",
    "        for k in neuro.MenteeID:\n",
    "            try:\n",
    "                tp = pub_chemistry[k][index[i]]\n",
    "            except:\n",
    "                tp = -1                            #在 mag 中没有找到该作者的发表信息 (no information)\n",
    "            TP.append(tp)\n",
    "        \n",
    "    neuro[atr] = TP "
   ]
  },
  {
   "cell_type": "code",
   "execution_count": 56,
   "id": "b571a6eb",
   "metadata": {},
   "outputs": [],
   "source": [
    "#通过学生的第一篇文章发表时间补充学生的出道的时间 (Stop Year as the year of the first publication)\n",
    "TP = []\n",
    "tp0 = list(neuro.StopYear)                        # StopYear 中又可能出现 -1 (-1 happens)\n",
    "tp1 = list(neuro.YearOfTheFirstPubsOfMenteePubs)  #这里面也可能出现 -1 (-1 also happens)\n",
    "for i in range(len(tp0)):\n",
    "    if tp0[i]>0 and tp1[i]>0:\n",
    "        TP.append(min(tp0[i],tp1[i]))\n",
    "    elif tp0[i]*tp1[i]<0:\n",
    "        TP.append(max(tp0[i],tp1[i]))\n",
    "    else:\n",
    "        TP.append(-1)\n",
    "neuro['BirthYearOfMentee'] = TP  "
   ]
  },
  {
   "cell_type": "code",
   "execution_count": 57,
   "id": "b9f5262c",
   "metadata": {},
   "outputs": [],
   "source": [
    "#通过老师第一篇文章发表时间补充每位学生受训时的老师的学术年龄 (career age as the span to the first year of mentor's paper)\n",
    "TP = []\n",
    "tp0 = list(neuro.StopYear)\n",
    "tp1 = list(neuro.YearOfTheFirstPubsOfMentorPubs)\n",
    "for i in range(len(tp1)):\n",
    "    if tp0[i]>0 and tp1[i]>0:\n",
    "        TP.append(tp0[i]-float(tp1[i]))\n",
    "    else:\n",
    "        TP.append(-1)\n",
    "neuro['CareerAgeOfMentorInTraining'] = TP # -1代表无法判断老师的学术年龄  (no information)"
   ]
  },
  {
   "cell_type": "markdown",
   "id": "140e3817",
   "metadata": {},
   "source": [
    "加入受训期间老师的发文量和学生与导师的合作文章数量(mentor-mentee coauthored papers during training)"
   ]
  },
  {
   "cell_type": "code",
   "execution_count": 58,
   "id": "584f31aa",
   "metadata": {},
   "outputs": [],
   "source": [
    "# neuro = neuro.drop(['Unnamed: 0'],axis=1)"
   ]
  },
  {
   "cell_type": "code",
   "execution_count": 59,
   "id": "88396b22",
   "metadata": {},
   "outputs": [],
   "source": [
    "chemistry_colla_info = pd.read_csv('neuro_colla_info.csv')"
   ]
  },
  {
   "cell_type": "code",
   "execution_count": 60,
   "id": "7524e068",
   "metadata": {},
   "outputs": [
    {
     "data": {
      "text/html": [
       "<div>\n",
       "<style scoped>\n",
       "    .dataframe tbody tr th:only-of-type {\n",
       "        vertical-align: middle;\n",
       "    }\n",
       "\n",
       "    .dataframe tbody tr th {\n",
       "        vertical-align: top;\n",
       "    }\n",
       "\n",
       "    .dataframe thead th {\n",
       "        text-align: right;\n",
       "    }\n",
       "</style>\n",
       "<table border=\"1\" class=\"dataframe\">\n",
       "  <thead>\n",
       "    <tr style=\"text-align: right;\">\n",
       "      <th></th>\n",
       "      <th>CID</th>\n",
       "      <th>MenteeID</th>\n",
       "      <th>MentorID</th>\n",
       "      <th>MentorshipType</th>\n",
       "      <th>Institution</th>\n",
       "      <th>InstitutionMAGID</th>\n",
       "      <th>StartYear</th>\n",
       "      <th>StopYear</th>\n",
       "      <th>NumOfMenteesOfTheMentor</th>\n",
       "      <th>NumOfMenteesOfTheMentor10</th>\n",
       "      <th>...</th>\n",
       "      <th>First5YearPubsOfMentee</th>\n",
       "      <th>First5YearCitationOfMentee</th>\n",
       "      <th>First5YearCollaOfMentee</th>\n",
       "      <th>YearlyPubsOfMentee</th>\n",
       "      <th>YearlyCitationOfMentee</th>\n",
       "      <th>BirthYearOfMentee</th>\n",
       "      <th>CareerAgeOfMentorInTraining</th>\n",
       "      <th>PubsOfMentorInTraning</th>\n",
       "      <th>CollaPubsOfWithMentor</th>\n",
       "      <th>TotalCitationOfMentee</th>\n",
       "    </tr>\n",
       "  </thead>\n",
       "  <tbody>\n",
       "    <tr>\n",
       "      <th>0</th>\n",
       "      <td>6</td>\n",
       "      <td>18761</td>\n",
       "      <td>9</td>\n",
       "      <td>1</td>\n",
       "      <td>University of California, Berkeley</td>\n",
       "      <td>95457486.0</td>\n",
       "      <td>-1</td>\n",
       "      <td>1984</td>\n",
       "      <td>1</td>\n",
       "      <td>1</td>\n",
       "      <td>...</td>\n",
       "      <td>19</td>\n",
       "      <td>1487</td>\n",
       "      <td>25</td>\n",
       "      <td>7.666667</td>\n",
       "      <td>880.611111</td>\n",
       "      <td>1984.0</td>\n",
       "      <td>21.0</td>\n",
       "      <td>3</td>\n",
       "      <td>0</td>\n",
       "      <td>31702</td>\n",
       "    </tr>\n",
       "  </tbody>\n",
       "</table>\n",
       "<p>1 rows × 32 columns</p>\n",
       "</div>"
      ],
      "text/plain": [
       "   CID  MenteeID  MentorID  MentorshipType  \\\n",
       "0    6     18761         9               1   \n",
       "\n",
       "                          Institution  InstitutionMAGID  StartYear  StopYear  \\\n",
       "0  University of California, Berkeley        95457486.0         -1      1984   \n",
       "\n",
       "   NumOfMenteesOfTheMentor  NumOfMenteesOfTheMentor10  ...  \\\n",
       "0                        1                          1  ...   \n",
       "\n",
       "   First5YearPubsOfMentee  First5YearCitationOfMentee  \\\n",
       "0                      19                        1487   \n",
       "\n",
       "   First5YearCollaOfMentee  YearlyPubsOfMentee  YearlyCitationOfMentee  \\\n",
       "0                       25            7.666667              880.611111   \n",
       "\n",
       "   BirthYearOfMentee  CareerAgeOfMentorInTraining  PubsOfMentorInTraning  \\\n",
       "0             1984.0                         21.0                      3   \n",
       "\n",
       "   CollaPubsOfWithMentor  TotalCitationOfMentee  \n",
       "0                      0                  31702  \n",
       "\n",
       "[1 rows x 32 columns]"
      ]
     },
     "execution_count": 60,
     "metadata": {},
     "output_type": "execute_result"
    }
   ],
   "source": [
    "neuro.head(1)"
   ]
  },
  {
   "cell_type": "code",
   "execution_count": 61,
   "id": "33434ed0",
   "metadata": {},
   "outputs": [
    {
     "data": {
      "text/html": [
       "<div>\n",
       "<style scoped>\n",
       "    .dataframe tbody tr th:only-of-type {\n",
       "        vertical-align: middle;\n",
       "    }\n",
       "\n",
       "    .dataframe tbody tr th {\n",
       "        vertical-align: top;\n",
       "    }\n",
       "\n",
       "    .dataframe thead th {\n",
       "        text-align: right;\n",
       "    }\n",
       "</style>\n",
       "<table border=\"1\" class=\"dataframe\">\n",
       "  <thead>\n",
       "    <tr style=\"text-align: right;\">\n",
       "      <th></th>\n",
       "      <th>Mentor</th>\n",
       "      <th>PubsOfMentorInTraning</th>\n",
       "      <th>Mentee</th>\n",
       "      <th>CollaPubsOfWithMentor</th>\n",
       "    </tr>\n",
       "  </thead>\n",
       "  <tbody>\n",
       "    <tr>\n",
       "      <th>0</th>\n",
       "      <td>20084</td>\n",
       "      <td>0</td>\n",
       "      <td>20082</td>\n",
       "      <td>0</td>\n",
       "    </tr>\n",
       "  </tbody>\n",
       "</table>\n",
       "</div>"
      ],
      "text/plain": [
       "   Mentor  PubsOfMentorInTraning  Mentee  CollaPubsOfWithMentor\n",
       "0   20084                      0   20082                      0"
      ]
     },
     "execution_count": 61,
     "metadata": {},
     "output_type": "execute_result"
    }
   ],
   "source": [
    "chemistry_colla_info.head(1)"
   ]
  },
  {
   "cell_type": "code",
   "execution_count": 62,
   "id": "46078834",
   "metadata": {},
   "outputs": [],
   "source": [
    "CC = {}\n",
    "for k in np.array(chemistry_colla_info):\n",
    "    tp_key = (k[2],k[0])\n",
    "    tp_value = (k[1],k[3])\n",
    "    CC[tp_key] = tp_value"
   ]
  },
  {
   "cell_type": "code",
   "execution_count": 63,
   "id": "fae4abd4",
   "metadata": {},
   "outputs": [],
   "source": [
    "TP0 = []\n",
    "TP1 = []\n",
    "NN = np.array(neuro)\n",
    "for i in range(len(neuro)):\n",
    "    try:\n",
    "        tp_key = (NN[i][1],NN[i][2])\n",
    "        temp = CC[tp_key]\n",
    "        TP0.append(temp[0])\n",
    "        TP1.append(temp[1])\n",
    "    except:\n",
    "        TP0.append(0)\n",
    "        TP1.append(0)\n",
    "neuro['PubsOfMentorInTraning'] = TP0 \n",
    "neuro['CollaPubsOfWithMentor'] = TP1"
   ]
  },
  {
   "cell_type": "code",
   "execution_count": 64,
   "id": "f4fc7a2e",
   "metadata": {},
   "outputs": [
    {
     "data": {
      "text/plain": [
       "(7431, 32)"
      ]
     },
     "execution_count": 64,
     "metadata": {},
     "output_type": "execute_result"
    }
   ],
   "source": [
    "neuro.shape"
   ]
  },
  {
   "cell_type": "code",
   "execution_count": 65,
   "id": "b13f002d",
   "metadata": {},
   "outputs": [],
   "source": [
    "# neuro.to_csv('neuro_0124.csv',header=neuro.columns,index=0)"
   ]
  },
  {
   "cell_type": "code",
   "execution_count": 66,
   "id": "4265dc0c",
   "metadata": {},
   "outputs": [
    {
     "name": "stdout",
     "output_type": "stream",
     "text": [
      "0.42895586652314316\n",
      "0.6984126984126984\n"
     ]
    }
   ],
   "source": [
    "#测试大小团队中的生存率 (test survival rate)\n",
    "all_big = neuro['MenteeID'][neuro.BigOrSmall==1]\n",
    "all_small = neuro['MenteeID'][neuro.BigOrSmall==0]\n",
    "sb = neuro['MenteeID'][neuro.Survival0==1]\n",
    "sur_big = all_big[all_big.isin(sb)]\n",
    "sur_small = all_small[all_small.isin(sb)]\n",
    "print(len(sur_big)/len(all_big))\n",
    "print(len(sur_small)/len(all_small))"
   ]
  },
  {
   "cell_type": "code",
   "execution_count": 67,
   "id": "217d63ca",
   "metadata": {},
   "outputs": [
    {
     "data": {
      "text/html": [
       "<div>\n",
       "<style scoped>\n",
       "    .dataframe tbody tr th:only-of-type {\n",
       "        vertical-align: middle;\n",
       "    }\n",
       "\n",
       "    .dataframe tbody tr th {\n",
       "        vertical-align: top;\n",
       "    }\n",
       "\n",
       "    .dataframe thead th {\n",
       "        text-align: right;\n",
       "    }\n",
       "</style>\n",
       "<table border=\"1\" class=\"dataframe\">\n",
       "  <thead>\n",
       "    <tr style=\"text-align: right;\">\n",
       "      <th></th>\n",
       "      <th>CID</th>\n",
       "      <th>MenteeID</th>\n",
       "      <th>MentorID</th>\n",
       "      <th>MentorshipType</th>\n",
       "      <th>Institution</th>\n",
       "      <th>InstitutionMAGID</th>\n",
       "      <th>StartYear</th>\n",
       "      <th>StopYear</th>\n",
       "      <th>NumOfMenteesOfTheMentor</th>\n",
       "      <th>NumOfMenteesOfTheMentor10</th>\n",
       "      <th>...</th>\n",
       "      <th>First5YearPubsOfMentee</th>\n",
       "      <th>First5YearCitationOfMentee</th>\n",
       "      <th>First5YearCollaOfMentee</th>\n",
       "      <th>YearlyPubsOfMentee</th>\n",
       "      <th>YearlyCitationOfMentee</th>\n",
       "      <th>BirthYearOfMentee</th>\n",
       "      <th>CareerAgeOfMentorInTraining</th>\n",
       "      <th>PubsOfMentorInTraning</th>\n",
       "      <th>CollaPubsOfWithMentor</th>\n",
       "      <th>TotalCitationOfMentee</th>\n",
       "    </tr>\n",
       "  </thead>\n",
       "  <tbody>\n",
       "    <tr>\n",
       "      <th>0</th>\n",
       "      <td>6</td>\n",
       "      <td>18761</td>\n",
       "      <td>9</td>\n",
       "      <td>1</td>\n",
       "      <td>University of California, Berkeley</td>\n",
       "      <td>95457486.0</td>\n",
       "      <td>-1</td>\n",
       "      <td>1984</td>\n",
       "      <td>1</td>\n",
       "      <td>1</td>\n",
       "      <td>...</td>\n",
       "      <td>19</td>\n",
       "      <td>1487</td>\n",
       "      <td>25</td>\n",
       "      <td>7.666667</td>\n",
       "      <td>880.611111</td>\n",
       "      <td>1984.0</td>\n",
       "      <td>21.0</td>\n",
       "      <td>3</td>\n",
       "      <td>0</td>\n",
       "      <td>31702</td>\n",
       "    </tr>\n",
       "  </tbody>\n",
       "</table>\n",
       "<p>1 rows × 32 columns</p>\n",
       "</div>"
      ],
      "text/plain": [
       "   CID  MenteeID  MentorID  MentorshipType  \\\n",
       "0    6     18761         9               1   \n",
       "\n",
       "                          Institution  InstitutionMAGID  StartYear  StopYear  \\\n",
       "0  University of California, Berkeley        95457486.0         -1      1984   \n",
       "\n",
       "   NumOfMenteesOfTheMentor  NumOfMenteesOfTheMentor10  ...  \\\n",
       "0                        1                          1  ...   \n",
       "\n",
       "   First5YearPubsOfMentee  First5YearCitationOfMentee  \\\n",
       "0                      19                        1487   \n",
       "\n",
       "   First5YearCollaOfMentee  YearlyPubsOfMentee  YearlyCitationOfMentee  \\\n",
       "0                       25            7.666667              880.611111   \n",
       "\n",
       "   BirthYearOfMentee  CareerAgeOfMentorInTraining  PubsOfMentorInTraning  \\\n",
       "0             1984.0                         21.0                      3   \n",
       "\n",
       "   CollaPubsOfWithMentor  TotalCitationOfMentee  \n",
       "0                      0                  31702  \n",
       "\n",
       "[1 rows x 32 columns]"
      ]
     },
     "execution_count": 67,
     "metadata": {},
     "output_type": "execute_result"
    }
   ],
   "source": [
    "neuro.head(1)"
   ]
  },
  {
   "cell_type": "code",
   "execution_count": 68,
   "id": "b03598c9",
   "metadata": {},
   "outputs": [],
   "source": [
    "# neuro = neuro.drop(['Unnamed: 0'],axis=1)"
   ]
  },
  {
   "cell_type": "code",
   "execution_count": 69,
   "id": "d919f0ca",
   "metadata": {},
   "outputs": [
    {
     "data": {
      "text/plain": [
       "(7431, 32)"
      ]
     },
     "execution_count": 69,
     "metadata": {},
     "output_type": "execute_result"
    }
   ],
   "source": [
    "neuro.shape"
   ]
  },
  {
   "cell_type": "code",
   "execution_count": 70,
   "id": "a3cc23bd",
   "metadata": {},
   "outputs": [],
   "source": [
    "neuro = neuro[(neuro.StopYear<=1995)&(neuro.StopYear>=1975)] \n",
    "# neuro.to_csv('neuro_0123.csv',index=0)"
   ]
  },
  {
   "cell_type": "code",
   "execution_count": 71,
   "id": "b15566d1",
   "metadata": {},
   "outputs": [
    {
     "name": "stdout",
     "output_type": "stream",
     "text": [
      "0.42895586652314316\n",
      "0.6984126984126984\n"
     ]
    }
   ],
   "source": [
    "#测试大小团队中的生存率 (test survival rate)\n",
    "all_big = neuro['MenteeID'][neuro.BigOrSmall==1]\n",
    "all_small = neuro['MenteeID'][neuro.BigOrSmall==0]\n",
    "sb = neuro['MenteeID'][neuro.Survival0==1]\n",
    "sur_big = all_big[all_big.isin(sb)]\n",
    "sur_small = all_small[all_small.isin(sb)]\n",
    "print(len(sur_big)/len(all_big))\n",
    "print(len(sur_small)/len(all_small))"
   ]
  },
  {
   "cell_type": "code",
   "execution_count": 1,
   "id": "0d429ea9",
   "metadata": {},
   "outputs": [],
   "source": [
    "#save data\n",
    "# neuro.to_csv('neuro_0203.csv',index=0)"
   ]
  },
  {
   "cell_type": "code",
   "execution_count": null,
   "id": "f5a773ff",
   "metadata": {},
   "outputs": [],
   "source": []
  }
 ],
 "metadata": {
  "kernelspec": {
   "display_name": "Python 3",
   "language": "python",
   "name": "python3"
  },
  "language_info": {
   "codemirror_mode": {
    "name": "ipython",
    "version": 3
   },
   "file_extension": ".py",
   "mimetype": "text/x-python",
   "name": "python",
   "nbconvert_exporter": "python",
   "pygments_lexer": "ipython3",
   "version": "3.8.3"
  }
 },
 "nbformat": 4,
 "nbformat_minor": 5
}
